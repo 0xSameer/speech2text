{
 "cells": [
  {
   "cell_type": "code",
   "execution_count": 1,
   "metadata": {},
   "outputs": [],
   "source": [
    "import nltk\n",
    "from nltk.translate.bleu_score import sentence_bleu, corpus_bleu, modified_precision\n",
    "from nltk.translate.chrf_score import sentence_chrf, corpus_chrf\n",
    "from nltk.metrics import scores\n",
    "import scipy.io.wavfile\n",
    "from IPython.display import Audio\n",
    "from IPython.display import display\n",
    "from nltk.stem import *\n",
    "# from nltk.stem.snowball import SnowballStemmer\n",
    "from stemming.porter2 import stem\n",
    "import stemming\n",
    "from nltk.metrics.scores import recall\n",
    "\n",
    "from basics import *\n",
    "\n",
    "from nltk.corpus import stopwords\n",
    "import matplotlib.pyplot as plt\n",
    "import seaborn as sns\n",
    "import csv\n",
    "import time\n",
    "import matplotlib.gridspec as gridspec\n",
    "import importlib\n",
    "from collections import namedtuple\n",
    "import random\n",
    "import json\n",
    "import pandas as pd\n",
    "\n",
    "%matplotlib inline"
   ]
  },
  {
   "cell_type": "code",
   "execution_count": 2,
   "metadata": {},
   "outputs": [],
   "source": [
    "smooth_fun = nltk.translate.bleu_score.SmoothingFunction()"
   ]
  },
  {
   "cell_type": "code",
   "execution_count": 3,
   "metadata": {},
   "outputs": [],
   "source": [
    "from nmt_run import *"
   ]
  },
  {
   "cell_type": "code",
   "execution_count": 4,
   "metadata": {},
   "outputs": [],
   "source": [
    "cfg_path = \"interspeech_bpe/sp_20hrs_best_bn-nobias_batch-32_buck-n25-w80\"\n",
    "dec_key = \"bpe_w\""
   ]
  },
  {
   "cell_type": "code",
   "execution_count": 5,
   "metadata": {},
   "outputs": [],
   "source": [
    "%%capture\n",
    "last_epoch, model, optimizer, m_cfg, t_cfg = check_model(cfg_path)"
   ]
  },
  {
   "cell_type": "code",
   "execution_count": 6,
   "metadata": {},
   "outputs": [],
   "source": [
    "%%capture\n",
    "map_dict, vocab_dict, bucket_dict = get_data_dicts(m_cfg)"
   ]
  },
  {
   "cell_type": "code",
   "execution_count": 7,
   "metadata": {},
   "outputs": [],
   "source": [
    "random.seed(\"meh\")\n",
    "# random.seed(\"haha\")"
   ]
  },
  {
   "cell_type": "code",
   "execution_count": 8,
   "metadata": {},
   "outputs": [],
   "source": [
    "def clean_out_str(out_str):\n",
    "    out_str = out_str.replace(\"`\", \"\")\n",
    "    out_str = out_str.replace('\"', '')\n",
    "    out_str = out_str.replace('¿', '')\n",
    "    out_str = out_str.replace(\"''\", \"\")\n",
    "\n",
    "    # for BPE\n",
    "    out_str = out_str.replace(\"@@ \", \"\")\n",
    "    out_str = out_str.replace(\"@@\", \"\")\n",
    "\n",
    "    out_str = out_str.strip()\n",
    "    return out_str\n",
    "\n",
    "\n",
    "# In[46]:\n",
    "\n",
    "\n",
    "def get_out_str(word_list, dec_key=\"bpe_w\"):\n",
    "    h = [w.decode() for w in word_list]\n",
    "    out_str = \"\"\n",
    "    if dec_key == \"en_w\":\n",
    "        for w in h:\n",
    "            out_str += \"{0:s}\".format(w) if (w.startswith(\"'\") or w==\"n't\") else \" {0:s}\".format(w)\n",
    "    elif \"bpe_w\" in dec_key:\n",
    "        out_str = \" \".join(h)\n",
    "\n",
    "    elif dec_key == \"en_c\":\n",
    "        out_str = \"\".join(h)\n",
    "\n",
    "    else:\n",
    "        out_str = \"\".join(h)\n",
    "\n",
    "    out_str = clean_out_str(out_str)\n",
    "    return out_str"
   ]
  },
  {
   "cell_type": "markdown",
   "metadata": {},
   "source": [
    "### Read predictions"
   ]
  },
  {
   "cell_type": "code",
   "execution_count": 9,
   "metadata": {},
   "outputs": [],
   "source": [
    "dev_ids = []\n",
    "with open(\"./fisher/fisher_dev/fisher_dev_eval.ids\", \"r\", encoding=\"utf-8\") as in_f:\n",
    "    for line in in_f:\n",
    "        dev_ids.append(line.strip())\n",
    "     # end for\n",
    "# end with\n",
    "\n",
    "dev2_ids = []\n",
    "with open(\"fisher/fisher_dev2/fisher_dev2_eval.ids\", \"r\", encoding=\"utf-8\") as in_f:\n",
    "    for u in in_f:\n",
    "        dev2_ids.append(u.strip())"
   ]
  },
  {
   "cell_type": "code",
   "execution_count": 10,
   "metadata": {},
   "outputs": [],
   "source": [
    "google_s2t_hyps_path = os.path.join(\"../chainer2/speech2text/both_fbank_out/\", \"google_s2t_hyps.dict\")\n",
    "google_s2t_hyps = pickle.load(open(google_s2t_hyps_path, \"rb\"))\n",
    "google_hyp_dev = google_s2t_hyps['fisher_dev_r0']"
   ]
  },
  {
   "cell_type": "code",
   "execution_count": 11,
   "metadata": {},
   "outputs": [],
   "source": [
    "google_s2t_hyps_dev2 = pickle.load(open(\"./google/google_s2t_dev2_hyps.dict\", \"rb\"))\n",
    "google_hyp_dev2 = google_s2t_hyps_dev2['fisher_dev_r0']"
   ]
  },
  {
   "cell_type": "code",
   "execution_count": 12,
   "metadata": {},
   "outputs": [],
   "source": [
    "model_pred_files = {\n",
    "    \"2.5h\": \"experiments/nmt_asr/sp-2.5hrs_swbd1-train_nodev_ep25_baseline\",\n",
    "    \"2.5h+asr\": \"experiments/nmt_asr/sp-2.5hrs_swbd1-train_nodev_ep25\",\n",
    "    \"5h\": \"experiments/nmt_asr/sp-5hrs_swbd1-train100k_baseline\",\n",
    "    \"5h+asr\": \"experiments/nmt_asr/sp-5hrs_swbd1-train_nodev_ep25\",\n",
    "    \"10h\": \"experiments/nmt_asr/sp-10hrs_swbd1-train100k_baseline\",\n",
    "    \"10h+asr\": \"experiments/nmt_asr/sp-10hrs_swbd1-train_nodev_ep25_enc-attn-dec\",\n",
    "    \"20h\": \"interspeech_bpe/sp_20hrs_best_bn-nobias_batch-32_buck-n25-w80/\",\n",
    "    \"20h+asr\": \"experiments/nmt_asr/sp-20hrs_swbd1-train-nodev_ep25_enc-attn-dec/\",\n",
    "    \"50h\": \"interspeech_bpe/sp_50hrs_best_bn-nobias_bucks-n25-w80_x0.2/\",\n",
    "    \"50h+asr\": \"experiments/nmt_asr/sp-50hrs_swbd1-train-nodev_ep25/\",\n",
    "#     \"160h\": \"interspeech_bpe/sp_160hrs_cnn-512-9-mfcc-13_drpt-0.3_l2e-4_rnn-3\"\n",
    "}\n",
    "\n",
    "dev_beam_fname = \"fisher_dev_beam_len-norm_min-0_max-300_N-5_K-5_W-0.6.en\"\n",
    "dev2_beam_fname = \"fisher_dev2_beam_len-norm_min-0_max-300_N-5_K-5_W-0.6.en\""
   ]
  },
  {
   "cell_type": "code",
   "execution_count": 13,
   "metadata": {},
   "outputs": [],
   "source": [
    "pred_dev_text = {}\n",
    "pred_dev2_text = {}\n",
    "for k, v in model_pred_files.items():\n",
    "    pred_dev_text[k] = {}\n",
    "    with open(os.path.join(v,dev_beam_fname), \"r\", encoding=\"utf-8\") as in_f:\n",
    "        for i, line in enumerate(in_f):\n",
    "            utt = dev_ids[i]\n",
    "            pred_dev_text[k][utt] = line.strip()\n",
    "    \n",
    "    pred_dev2_text[k] = {}\n",
    "    with open(os.path.join(v,dev2_beam_fname), \"r\", encoding=\"utf-8\") as in_f:\n",
    "        for i, line in enumerate(in_f):\n",
    "            utt = dev2_ids[i]\n",
    "            pred_dev2_text[k][utt] = line.strip()\n",
    "#         end for line\n",
    "#     end with open\n",
    "# end for"
   ]
  },
  {
   "cell_type": "code",
   "execution_count": 14,
   "metadata": {},
   "outputs": [],
   "source": [
    "pred_dev_text[\"Weiss\"] = {}\n",
    "for utt in dev_ids:\n",
    "    pred_dev_text[\"Weiss\"][utt] = \" \".join(google_hyp_dev[utt])\n",
    "\n",
    "pred_dev2_text[\"Weiss\"] = {}\n",
    "for utt in dev2_ids:\n",
    "    pred_dev2_text[\"Weiss\"][utt] = \" \".join(google_hyp_dev2[utt])"
   ]
  },
  {
   "cell_type": "code",
   "execution_count": 15,
   "metadata": {},
   "outputs": [],
   "source": [
    "def get_text(set_key, ref_num=0, utts_list=set()):\n",
    "    set_text = {}\n",
    "    if len(utts_list) > 0:\n",
    "        utts = set(map_dict[set_key]) & utts_list\n",
    "    else:\n",
    "        utts = map_dict[set_key].keys()\n",
    "    for u in utts:\n",
    "        if \"train\" in set_key:\n",
    "            set_text[u] = get_out_str(map_dict[set_key][u][\"bpe_w\"])\n",
    "        else:\n",
    "            # fisher_dev has 4 references, but only 1 for BPE\n",
    "            # modify logic if using en_w\n",
    "            set_text[u] = get_out_str(map_dict[set_key][u][\"en_w\"][ref_num], \"en_w\")\n",
    "    print(len(set_text))\n",
    "    return set_text"
   ]
  },
  {
   "cell_type": "code",
   "execution_count": 16,
   "metadata": {},
   "outputs": [],
   "source": [
    "def get_model_train_utts(model_path):\n",
    "    buckets = pickle.load(open(os.path.join(model_path,\"buckets_sp.dict\"), \"rb\"))\n",
    "    utts = []\n",
    "    for b in buckets['fisher_train']['buckets']:\n",
    "        utts.extend(b)\n",
    "    utts = set(utts)\n",
    "    return utts\n",
    "        "
   ]
  },
  {
   "cell_type": "code",
   "execution_count": 17,
   "metadata": {},
   "outputs": [
    {
     "name": "stdout",
     "output_type": "stream",
     "text": [
      "2.5h       --       2153\n",
      "2.5h+asr   --       2153\n",
      "5h         --       4323\n",
      "5h+asr     --       4323\n",
      "10h        --       8649\n",
      "10h+asr    --       8649\n",
      "20h        --      17306\n",
      "20h+asr    --      17306\n",
      "50h        --      46207\n",
      "50h+asr    --      46207\n"
     ]
    }
   ],
   "source": [
    "train_utts = {}\n",
    "for m, p in model_pred_files.items():\n",
    "    train_utts[m] = get_model_train_utts(p)\n",
    "    print(\"{0:10s} -- {1:10d}\".format(m, len(train_utts[m])))"
   ]
  },
  {
   "cell_type": "code",
   "execution_count": 18,
   "metadata": {},
   "outputs": [],
   "source": [
    "base_models = ['2.5h', '5h', '10h', '20h', '50h']"
   ]
  },
  {
   "cell_type": "code",
   "execution_count": 19,
   "metadata": {},
   "outputs": [
    {
     "name": "stdout",
     "output_type": "stream",
     "text": [
      "138819\n",
      "2153\n",
      "4323\n",
      "8649\n",
      "17306\n",
      "46207\n"
     ]
    }
   ],
   "source": [
    "train_text = {}\n",
    "train_text[\"160h\"] = get_text(\"fisher_train\")\n",
    "for m in base_models:\n",
    "    train_text[m] = get_text(\"fisher_train\", utts_list=train_utts[m])"
   ]
  },
  {
   "cell_type": "code",
   "execution_count": 20,
   "metadata": {},
   "outputs": [
    {
     "name": "stdout",
     "output_type": "stream",
     "text": [
      "3979\n",
      "3979\n",
      "3979\n",
      "3979\n"
     ]
    },
    {
     "data": {
      "text/plain": [
       "['afternoon',\n",
       " 'good afternoon',\n",
       " 'my name is carmen in chicago you',\n",
       " 'oh my name is ricardo',\n",
       " 'of',\n",
       " \"ah i'm in ah pennsylvania\",\n",
       " 'okay good afternoon',\n",
       " 'well how are you good',\n",
       " 'good thank god and you',\n",
       " \"very good thank god as well it's very cold here is it very cold in chicago\"]"
      ]
     },
     "execution_count": 20,
     "metadata": {},
     "output_type": "execute_result"
    }
   ],
   "source": [
    "dev_text = []\n",
    "for i in range(4):\n",
    "    dev_text.append(get_text(\"fisher_dev\", ref_num=i))\n",
    "list(dev_text[0].values())[:10]"
   ]
  },
  {
   "cell_type": "code",
   "execution_count": 21,
   "metadata": {},
   "outputs": [
    {
     "name": "stdout",
     "output_type": "stream",
     "text": [
      "3961\n",
      "3961\n",
      "3961\n",
      "3961\n"
     ]
    },
    {
     "data": {
      "text/plain": [
       "['hi good af good evening',\n",
       " \"good evening it's norma here from atlanta\",\n",
       " \"oh well would you look at that i'm from\",\n",
       " \"oh yeah we're we're near\",\n",
       " \"yes we're pretty close is this the first call you took\",\n",
       " \"yes because yesterday what happened is that since i was out they called me right the the computer called me but i wasn't here so couldn't\",\n",
       " \"i couldn't answer\",\n",
       " \"oh and i am on my cellphone they called me three times but i was at the store so i couldn't you know take ten minutes to talk\",\n",
       " 'sure',\n",
       " 'but where are you from']"
      ]
     },
     "execution_count": 21,
     "metadata": {},
     "output_type": "execute_result"
    }
   ],
   "source": [
    "dev2_text = []\n",
    "for i in range(4):\n",
    "    dev2_text.append(get_text(\"fisher_dev2\", ref_num=i))\n",
    "list(dev2_text[0].values())[:10]"
   ]
  },
  {
   "cell_type": "code",
   "execution_count": 22,
   "metadata": {},
   "outputs": [
    {
     "data": {
      "text/plain": [
       "(127, 313, 435)"
      ]
     },
     "execution_count": 22,
     "metadata": {},
     "output_type": "execute_result"
    }
   ],
   "source": [
    "en_stop_words = set(nltk.corpus.stopwords.words(\"english\"))\n",
    "\n",
    "es_stop_words = set(nltk.corpus.stopwords.words(\"spanish\"))\n",
    "\n",
    "es_en_stop_words = en_stop_words | es_stop_words\n",
    "len(en_stop_words), len(es_stop_words), len(es_en_stop_words)"
   ]
  },
  {
   "cell_type": "code",
   "execution_count": 23,
   "metadata": {},
   "outputs": [],
   "source": [
    "def search_text(set_text, query_list, prog_bar=True):\n",
    "    query_set = set([stem(q) for q in query_list])\n",
    "    query_results = {q:[] for q in query_set}\n",
    "    \n",
    "    for u, v in tqdm(set_text.items(), ncols=100, disable=prog_bar):\n",
    "        words_in_text = set([stem(w) for w in v.strip().split()])\n",
    "        common_words = query_set & words_in_text\n",
    "        for q in common_words:\n",
    "            query_results[q].append(u)\n",
    "            # end if query check\n",
    "        # end for all query terms\n",
    "    # end for all utterances\n",
    "    return query_results\n",
    "# end function"
   ]
  },
  {
   "cell_type": "code",
   "execution_count": 24,
   "metadata": {},
   "outputs": [],
   "source": [
    "def get_common_ref_queries(dev_query_results):\n",
    "    dev_common_results = {}\n",
    "    for q in dev_query_results[0]:\n",
    "        common_utts = set(dev_query_results[0][q])\n",
    "        for i in range(1,4):\n",
    "            common_utts &= set(dev_query_results[i][q])\n",
    "        dev_common_results[q] = common_utts\n",
    "    return dev_common_results"
   ]
  },
  {
   "cell_type": "code",
   "execution_count": 25,
   "metadata": {},
   "outputs": [],
   "source": [
    "def get_query_terms_thresh(train_results, dev_common, dev2_common, min_c, max_c, max_terms):\n",
    "    min_freq_dev_queries = [(q, dev_common[q], c, train_results[\"160h\"][q]) for q,c in dev2_common.items() \n",
    "                            if len(c) >= min_c and len(c) <= max_c]\n",
    "    print(\"{0:>5s} -- {1:20s} | {2:10s} | {3:10s} | {4:10s}\".format(\"#\", \"query\", \n",
    "                                                                    \"dev count\", \"dev2_count\", \"train count\"))\n",
    "    min_freq_dev_queries = sorted(min_freq_dev_queries, key=lambda t:len(t[2]))\n",
    "    if max_terms > 0:\n",
    "        min_freq_dev_queries = min_freq_dev_queries[:max_terms]\n",
    "    for i, (q, v, d2, t) in enumerate(min_freq_dev_queries, start=1):\n",
    "        print(\"{0:>5d} -- {1:20s} | {2:10d} | {3:10d} | {4:10d}\".format(i, q, len(v), len(d2), len(t)))\n",
    "    return {q: {\"train\": t, \"dev\": d, \"dev2\": d2} for q, d, d2, t in min_freq_dev_queries}"
   ]
  },
  {
   "cell_type": "markdown",
   "metadata": {},
   "source": [
    "### Topics"
   ]
  },
  {
   "cell_type": "code",
   "execution_count": 26,
   "metadata": {},
   "outputs": [],
   "source": [
    "topics_fname = \"../criseslex/fsp06_topics_in_english.txt\""
   ]
  },
  {
   "cell_type": "code",
   "execution_count": 27,
   "metadata": {},
   "outputs": [
    {
     "data": {
      "text/plain": [
       "(98, 98)"
      ]
     },
     "execution_count": 27,
     "metadata": {},
     "output_type": "execute_result"
    }
   ],
   "source": [
    "topics = [ \"peace\", \"Music\", \"Marriage\", \"Religion\", \"Cell phones\", \n",
    "           \"Dating\", \"Telemarketing and SPAM\", \"Politics\", \"Travel\", \n",
    "           \"Technical devices\", \"Healthcare\", \"Advertisements\", \"Power\", \n",
    "           \"Occupations\", \"Movies\", \"Welfare\", \"Breaking up\", \"Location\", \n",
    "           \"Justice\", \"Memories\", \"Crime\", \"Violence against women\", \"Equality\", \n",
    "            \"Housing\", \"Immigration\",     \n",
    "            # new topics\n",
    "           \"Interracial\", \"Christians\", \"muslims\", \"jews\", \"e-mail\", \n",
    "           \"phone\", \"democracy\", \"Democratic\", \"Republican\", \"technology\", \n",
    "           \"leadership\", \"community\", \"jury\", \"police\", \"inequality\", \n",
    "           \"renting\", \"Violence\", \"immigrants\", \"immigrant\", \"skilled\", \n",
    "           \"Telemarketing\", \"SPAM\", \"skill\", \"job\", \"health\", \"mobile\", \n",
    "            \"ads\", \"physical\", \"emotional\", \"bubble\", \"rent\", \"economy\", \n",
    "            \"abuse\", \"women\", \"city\", \"country\", \"suburban\", \"dollar\", \n",
    "            \"united states\", \"laws\", \"phone\", \"race\", \"biracial\", \"interracial\", \n",
    "            \"marriage\", \"lyrics\", \"sexuality\", \"medicine\", \"television\", \"european\",\n",
    "            \"home\", \"protect\", \"spouse\", \"language\", \"cellphone\", \"money\",\n",
    "            \"doctor\", \"insurance\", \"cigarettes\", \"alcohol\", \"income\", \"salary\",\n",
    "            \"class\", \"censor\", \"rating\", \"programs\", \"government\",\n",
    "            \"relationship\", \"legal\", \"event\", \"life\", \"safe\", \"victim\", \"cops\",\n",
    "            \"wage\", \"illegal\"\n",
    "            ]\n",
    "topics = list(set(t.lower() for t in topics))\n",
    "topics_stem = [stem(t) for t in topics]\n",
    "len(topics), len(topics_stem)"
   ]
  },
  {
   "cell_type": "code",
   "execution_count": 28,
   "metadata": {},
   "outputs": [
    {
     "data": {
      "text/plain": [
       "['cop', 'salari', 'countri', 'program', 'telemarket']"
      ]
     },
     "execution_count": 28,
     "metadata": {},
     "output_type": "execute_result"
    }
   ],
   "source": [
    "topics_stem[:5]"
   ]
  },
  {
   "cell_type": "code",
   "execution_count": 29,
   "metadata": {},
   "outputs": [
    {
     "name": "stderr",
     "output_type": "stream",
     "text": [
      "100%|█████████████████████████████████████████████| 6/6 [00:37<00:00,  6.26s/it]\n"
     ]
    }
   ],
   "source": [
    "topics_train_query_results = {}\n",
    "for m in tqdm(train_text, ncols=80):\n",
    "    topics_train_query_results[m] = search_text(train_text[m], topics)"
   ]
  },
  {
   "cell_type": "code",
   "execution_count": 30,
   "metadata": {},
   "outputs": [],
   "source": [
    "topics_dev_query_results = []\n",
    "for i in range(4):\n",
    "    topics_dev_query_results.append(search_text(dev_text[i], topics))    "
   ]
  },
  {
   "cell_type": "code",
   "execution_count": 31,
   "metadata": {},
   "outputs": [],
   "source": [
    "topics_dev2_query_results = []\n",
    "for i in range(4):\n",
    "    topics_dev2_query_results.append(search_text(dev2_text[i], topics))    "
   ]
  },
  {
   "cell_type": "code",
   "execution_count": 32,
   "metadata": {},
   "outputs": [],
   "source": [
    "# all_dev_counts = [(q, [len(topics_dev_query_results[i][q]) for i in range(4)]) for q in topics_train_query_results]"
   ]
  },
  {
   "cell_type": "code",
   "execution_count": 33,
   "metadata": {},
   "outputs": [],
   "source": [
    "topics_dev_common = get_common_ref_queries(topics_dev_query_results)"
   ]
  },
  {
   "cell_type": "code",
   "execution_count": 34,
   "metadata": {},
   "outputs": [],
   "source": [
    "topics_dev2_common = get_common_ref_queries(topics_dev2_query_results)"
   ]
  },
  {
   "cell_type": "code",
   "execution_count": 35,
   "metadata": {},
   "outputs": [
    {
     "name": "stdout",
     "output_type": "stream",
     "text": [
      "    # -- query                | dev count  | dev2_count | train count\n",
      "    1 -- memori               |          0 |          3 |        109\n",
      "    2 -- incom                |          1 |          3 |         39\n",
      "    3 -- technolog            |          0 |          3 |        236\n",
      "    4 -- christian            |          6 |          3 |        248\n",
      "    5 -- rent                 |          3 |          3 |        330\n",
      "    6 -- communiti            |          2 |          4 |        105\n",
      "    7 -- program              |         11 |          4 |        357\n",
      "    8 -- date                 |          1 |          4 |        307\n",
      "    9 -- job                  |          3 |          6 |        634\n",
      "   10 -- women                |          3 |          6 |        542\n",
      "   11 -- languag              |          3 |          7 |        299\n",
      "   12 -- republican           |          1 |          7 |         75\n",
      "   13 -- telemarket           |          0 |          7 |         79\n",
      "   14 -- citi                 |         33 |          8 |       1190\n",
      "   15 -- govern               |          8 |          9 |        357\n",
      "   16 -- law                  |          3 |          9 |        401\n",
      "   17 -- hous                 |         19 |         10 |       1380\n",
      "   18 -- polit                |          7 |         10 |        345\n",
      "   19 -- dollar               |         13 |         11 |        543\n",
      "   20 -- home                 |          7 |         12 |        555\n",
      "   21 -- life                 |         20 |         14 |        934\n",
      "   22 -- democrat             |          0 |         14 |         87\n",
      "   23 -- spam                 |          9 |         15 |         86\n",
      "   24 -- marriag              |          5 |         16 |        339\n",
      "   25 -- religion             |         41 |         19 |       1084\n"
     ]
    }
   ],
   "source": [
    "topic_query_terms = get_query_terms_thresh(topics_train_query_results, \n",
    "                                           topics_dev_common, topics_dev2_common, 3, 20, max_terms=25)"
   ]
  },
  {
   "cell_type": "code",
   "execution_count": 36,
   "metadata": {},
   "outputs": [],
   "source": [
    "topics_train_freqs = {}\n",
    "for q in topic_query_terms:\n",
    "    topics_train_freqs[q] = {}\n",
    "    for m in topics_train_query_results:\n",
    "        topics_train_freqs[q][m] = len(topics_train_query_results[m][q])"
   ]
  },
  {
   "cell_type": "code",
   "execution_count": 37,
   "metadata": {},
   "outputs": [],
   "source": [
    "topics_freq_df = pd.DataFrame.from_dict(topics_train_freqs, orient='index')"
   ]
  },
  {
   "cell_type": "code",
   "execution_count": 38,
   "metadata": {},
   "outputs": [
    {
     "data": {
      "text/html": [
       "<div>\n",
       "<style scoped>\n",
       "    .dataframe tbody tr th:only-of-type {\n",
       "        vertical-align: middle;\n",
       "    }\n",
       "\n",
       "    .dataframe tbody tr th {\n",
       "        vertical-align: top;\n",
       "    }\n",
       "\n",
       "    .dataframe thead th {\n",
       "        text-align: right;\n",
       "    }\n",
       "</style>\n",
       "<table border=\"1\" class=\"dataframe\">\n",
       "  <thead>\n",
       "    <tr style=\"text-align: right;\">\n",
       "      <th></th>\n",
       "      <th>160h</th>\n",
       "      <th>2.5h</th>\n",
       "      <th>5h</th>\n",
       "      <th>10h</th>\n",
       "      <th>20h</th>\n",
       "      <th>50h</th>\n",
       "    </tr>\n",
       "  </thead>\n",
       "  <tbody>\n",
       "    <tr>\n",
       "      <th>christian</th>\n",
       "      <td>248</td>\n",
       "      <td>7</td>\n",
       "      <td>12</td>\n",
       "      <td>19</td>\n",
       "      <td>42</td>\n",
       "      <td>83</td>\n",
       "    </tr>\n",
       "    <tr>\n",
       "      <th>citi</th>\n",
       "      <td>1190</td>\n",
       "      <td>23</td>\n",
       "      <td>37</td>\n",
       "      <td>79</td>\n",
       "      <td>151</td>\n",
       "      <td>400</td>\n",
       "    </tr>\n",
       "    <tr>\n",
       "      <th>communiti</th>\n",
       "      <td>105</td>\n",
       "      <td>2</td>\n",
       "      <td>4</td>\n",
       "      <td>12</td>\n",
       "      <td>20</td>\n",
       "      <td>40</td>\n",
       "    </tr>\n",
       "    <tr>\n",
       "      <th>date</th>\n",
       "      <td>307</td>\n",
       "      <td>4</td>\n",
       "      <td>8</td>\n",
       "      <td>16</td>\n",
       "      <td>36</td>\n",
       "      <td>80</td>\n",
       "    </tr>\n",
       "    <tr>\n",
       "      <th>democrat</th>\n",
       "      <td>87</td>\n",
       "      <td>1</td>\n",
       "      <td>2</td>\n",
       "      <td>2</td>\n",
       "      <td>6</td>\n",
       "      <td>34</td>\n",
       "    </tr>\n",
       "    <tr>\n",
       "      <th>dollar</th>\n",
       "      <td>543</td>\n",
       "      <td>8</td>\n",
       "      <td>19</td>\n",
       "      <td>37</td>\n",
       "      <td>71</td>\n",
       "      <td>197</td>\n",
       "    </tr>\n",
       "    <tr>\n",
       "      <th>govern</th>\n",
       "      <td>357</td>\n",
       "      <td>4</td>\n",
       "      <td>8</td>\n",
       "      <td>19</td>\n",
       "      <td>32</td>\n",
       "      <td>121</td>\n",
       "    </tr>\n",
       "    <tr>\n",
       "      <th>home</th>\n",
       "      <td>555</td>\n",
       "      <td>6</td>\n",
       "      <td>11</td>\n",
       "      <td>32</td>\n",
       "      <td>66</td>\n",
       "      <td>170</td>\n",
       "    </tr>\n",
       "    <tr>\n",
       "      <th>hous</th>\n",
       "      <td>1380</td>\n",
       "      <td>22</td>\n",
       "      <td>47</td>\n",
       "      <td>97</td>\n",
       "      <td>189</td>\n",
       "      <td>475</td>\n",
       "    </tr>\n",
       "    <tr>\n",
       "      <th>incom</th>\n",
       "      <td>39</td>\n",
       "      <td>1</td>\n",
       "      <td>0</td>\n",
       "      <td>2</td>\n",
       "      <td>4</td>\n",
       "      <td>13</td>\n",
       "    </tr>\n",
       "    <tr>\n",
       "      <th>job</th>\n",
       "      <td>634</td>\n",
       "      <td>10</td>\n",
       "      <td>25</td>\n",
       "      <td>38</td>\n",
       "      <td>93</td>\n",
       "      <td>214</td>\n",
       "    </tr>\n",
       "    <tr>\n",
       "      <th>languag</th>\n",
       "      <td>299</td>\n",
       "      <td>6</td>\n",
       "      <td>14</td>\n",
       "      <td>19</td>\n",
       "      <td>36</td>\n",
       "      <td>109</td>\n",
       "    </tr>\n",
       "    <tr>\n",
       "      <th>law</th>\n",
       "      <td>401</td>\n",
       "      <td>11</td>\n",
       "      <td>12</td>\n",
       "      <td>33</td>\n",
       "      <td>62</td>\n",
       "      <td>119</td>\n",
       "    </tr>\n",
       "    <tr>\n",
       "      <th>life</th>\n",
       "      <td>934</td>\n",
       "      <td>18</td>\n",
       "      <td>34</td>\n",
       "      <td>61</td>\n",
       "      <td>126</td>\n",
       "      <td>329</td>\n",
       "    </tr>\n",
       "    <tr>\n",
       "      <th>marriag</th>\n",
       "      <td>339</td>\n",
       "      <td>7</td>\n",
       "      <td>4</td>\n",
       "      <td>19</td>\n",
       "      <td>39</td>\n",
       "      <td>120</td>\n",
       "    </tr>\n",
       "    <tr>\n",
       "      <th>memori</th>\n",
       "      <td>109</td>\n",
       "      <td>1</td>\n",
       "      <td>5</td>\n",
       "      <td>13</td>\n",
       "      <td>14</td>\n",
       "      <td>41</td>\n",
       "    </tr>\n",
       "    <tr>\n",
       "      <th>polit</th>\n",
       "      <td>345</td>\n",
       "      <td>4</td>\n",
       "      <td>12</td>\n",
       "      <td>28</td>\n",
       "      <td>46</td>\n",
       "      <td>121</td>\n",
       "    </tr>\n",
       "    <tr>\n",
       "      <th>program</th>\n",
       "      <td>357</td>\n",
       "      <td>7</td>\n",
       "      <td>10</td>\n",
       "      <td>26</td>\n",
       "      <td>43</td>\n",
       "      <td>115</td>\n",
       "    </tr>\n",
       "    <tr>\n",
       "      <th>religion</th>\n",
       "      <td>1084</td>\n",
       "      <td>16</td>\n",
       "      <td>36</td>\n",
       "      <td>64</td>\n",
       "      <td>128</td>\n",
       "      <td>369</td>\n",
       "    </tr>\n",
       "    <tr>\n",
       "      <th>rent</th>\n",
       "      <td>330</td>\n",
       "      <td>5</td>\n",
       "      <td>5</td>\n",
       "      <td>26</td>\n",
       "      <td>41</td>\n",
       "      <td>114</td>\n",
       "    </tr>\n",
       "    <tr>\n",
       "      <th>republican</th>\n",
       "      <td>75</td>\n",
       "      <td>1</td>\n",
       "      <td>3</td>\n",
       "      <td>2</td>\n",
       "      <td>7</td>\n",
       "      <td>28</td>\n",
       "    </tr>\n",
       "    <tr>\n",
       "      <th>spam</th>\n",
       "      <td>86</td>\n",
       "      <td>1</td>\n",
       "      <td>2</td>\n",
       "      <td>6</td>\n",
       "      <td>11</td>\n",
       "      <td>30</td>\n",
       "    </tr>\n",
       "    <tr>\n",
       "      <th>technolog</th>\n",
       "      <td>236</td>\n",
       "      <td>7</td>\n",
       "      <td>7</td>\n",
       "      <td>20</td>\n",
       "      <td>40</td>\n",
       "      <td>73</td>\n",
       "    </tr>\n",
       "    <tr>\n",
       "      <th>telemarket</th>\n",
       "      <td>79</td>\n",
       "      <td>0</td>\n",
       "      <td>3</td>\n",
       "      <td>3</td>\n",
       "      <td>10</td>\n",
       "      <td>22</td>\n",
       "    </tr>\n",
       "    <tr>\n",
       "      <th>women</th>\n",
       "      <td>542</td>\n",
       "      <td>9</td>\n",
       "      <td>13</td>\n",
       "      <td>33</td>\n",
       "      <td>68</td>\n",
       "      <td>183</td>\n",
       "    </tr>\n",
       "  </tbody>\n",
       "</table>\n",
       "</div>"
      ],
      "text/plain": [
       "            160h  2.5h  5h  10h  20h  50h\n",
       "christian    248     7  12   19   42   83\n",
       "citi        1190    23  37   79  151  400\n",
       "communiti    105     2   4   12   20   40\n",
       "date         307     4   8   16   36   80\n",
       "democrat      87     1   2    2    6   34\n",
       "dollar       543     8  19   37   71  197\n",
       "govern       357     4   8   19   32  121\n",
       "home         555     6  11   32   66  170\n",
       "hous        1380    22  47   97  189  475\n",
       "incom         39     1   0    2    4   13\n",
       "job          634    10  25   38   93  214\n",
       "languag      299     6  14   19   36  109\n",
       "law          401    11  12   33   62  119\n",
       "life         934    18  34   61  126  329\n",
       "marriag      339     7   4   19   39  120\n",
       "memori       109     1   5   13   14   41\n",
       "polit        345     4  12   28   46  121\n",
       "program      357     7  10   26   43  115\n",
       "religion    1084    16  36   64  128  369\n",
       "rent         330     5   5   26   41  114\n",
       "republican    75     1   3    2    7   28\n",
       "spam          86     1   2    6   11   30\n",
       "technolog    236     7   7   20   40   73\n",
       "telemarket    79     0   3    3   10   22\n",
       "women        542     9  13   33   68  183"
      ]
     },
     "execution_count": 38,
     "metadata": {},
     "output_type": "execute_result"
    }
   ],
   "source": [
    "topics_freq_df"
   ]
  },
  {
   "cell_type": "code",
   "execution_count": 39,
   "metadata": {},
   "outputs": [
    {
     "name": "stdout",
     "output_type": "stream",
     "text": [
      "21\n",
      "199\n",
      "25\n",
      "207\n"
     ]
    }
   ],
   "source": [
    "print(sum([1 if len(d[\"dev\"]) > 0 else 0 for d in topic_query_terms.values()]))\n",
    "print(np.sum([len(d[\"dev\"]) for d in topic_query_terms.values()]))\n",
    "print(sum([1 if len(d[\"dev2\"]) > 0 else 0 for d in topic_query_terms.values()]))\n",
    "print(np.sum([len(d[\"dev2\"]) for d in topic_query_terms.values()]))"
   ]
  },
  {
   "cell_type": "markdown",
   "metadata": {},
   "source": [
    "### Evaluation"
   ]
  },
  {
   "cell_type": "code",
   "execution_count": 40,
   "metadata": {},
   "outputs": [],
   "source": [
    "topics_pred_dev_results = {}\n",
    "topics_pred_dev2_results = {}\n",
    "for k in pred_dev_text:\n",
    "    topics_pred_dev_results[k] = search_text(pred_dev_text[k], topic_query_terms)\n",
    "    topics_pred_dev2_results[k] = search_text(pred_dev2_text[k], topic_query_terms)"
   ]
  },
  {
   "cell_type": "code",
   "execution_count": 41,
   "metadata": {},
   "outputs": [],
   "source": [
    "def compute_prec_recall(query_docs, pred_docs, set_key):\n",
    "    query_matches = {}\n",
    "    aggregate_results = {\"t\": 0, \"tp\": 0, \"tc\": 0}\n",
    "    for i, q in enumerate(query_docs):\n",
    "        pred_set = set(pred_docs[q])\n",
    "        query_matches[q] = {}\n",
    "        query_matches[q][\"t\"] = len(query_docs[q][set_key])\n",
    "        query_matches[q][\"tp\"] = len(pred_set)\n",
    "        query_matches[q][\"tc\"] = len(pred_set & query_docs[q][set_key])\n",
    "        query_matches[q][\"prec\"] = query_matches[q][\"tc\"] / query_matches[q][\"tp\"] if query_matches[q][\"tp\"] > 0 else 0\n",
    "        query_matches[q][\"rec\"] = query_matches[q][\"tc\"] / query_matches[q][\"t\"] if query_matches[q][\"t\"] > 0 else 0\n",
    "    \n",
    "    for q in query_matches:\n",
    "        for k in aggregate_results:\n",
    "            aggregate_results[k] += query_matches[q][k]\n",
    "            \n",
    "    aggregate_results[\"prec\"] = aggregate_results[\"tc\"] / aggregate_results[\"tp\"] if aggregate_results[\"tp\"] > 0 else 0\n",
    "    aggregate_results[\"rec\"] = aggregate_results[\"tc\"] / aggregate_results[\"t\"] if aggregate_results[\"t\"] > 0 else 0\n",
    "    \n",
    "    return query_matches, aggregate_results\n",
    "        "
   ]
  },
  {
   "cell_type": "code",
   "execution_count": 42,
   "metadata": {},
   "outputs": [],
   "source": [
    "def evaluate_preds(query_terms, eval_matches, set_key):\n",
    "    eval_results = {}\n",
    "    print(\"{0:10s} | {1:10s}% | {2:10s}%\".format(\"model\", \"precision\", \"recall\"))\n",
    "    for k in eval_matches:\n",
    "        eval_results[k] = {}\n",
    "        eval_results[k][\"query\"], eval_results[k][\"aggr\"] = compute_prec_recall(query_terms, eval_matches[k], set_key)\n",
    "        print(\"{0:10s} | {1:10.1f} | {2:10.1f}\".format(k, eval_results[k][\"aggr\"][\"prec\"]*100, eval_results[k][\"aggr\"][\"rec\"]*100))\n",
    "    return eval_results\n",
    "    "
   ]
  },
  {
   "cell_type": "code",
   "execution_count": 43,
   "metadata": {},
   "outputs": [
    {
     "name": "stdout",
     "output_type": "stream",
     "text": [
      "model      | precision % | recall    %\n",
      "2.5h       |        1.2 |        0.5\n",
      "2.5h+asr   |        7.5 |       12.6\n",
      "5h         |        0.0 |        0.0\n",
      "5h+asr     |       19.0 |       22.6\n",
      "10h        |        2.5 |        2.5\n",
      "10h+asr    |       24.1 |       38.7\n",
      "20h        |       25.0 |       31.7\n",
      "20h+asr    |       34.8 |       53.3\n",
      "50h        |       44.7 |       61.3\n",
      "50h+asr    |       49.6 |       70.9\n",
      "Weiss      |       60.7 |       91.0\n"
     ]
    }
   ],
   "source": [
    "topics_dev_eval = evaluate_preds(topic_query_terms, topics_pred_dev_results, \"dev\")"
   ]
  },
  {
   "cell_type": "code",
   "execution_count": 44,
   "metadata": {},
   "outputs": [
    {
     "name": "stdout",
     "output_type": "stream",
     "text": [
      "model      | precision % | recall    %\n",
      "2.5h       |        1.1 |        0.5\n",
      "2.5h+asr   |        3.6 |        5.3\n",
      "5h         |        0.0 |        0.0\n",
      "5h+asr     |       13.5 |       13.5\n",
      "10h        |        0.5 |        0.5\n",
      "10h+asr    |       26.8 |       34.8\n",
      "20h        |       23.4 |       24.2\n",
      "20h+asr    |       38.3 |       47.3\n",
      "50h        |       41.9 |       54.1\n",
      "50h+asr    |       47.7 |       60.4\n",
      "Weiss      |       61.8 |       85.0\n"
     ]
    }
   ],
   "source": [
    "topics_dev2_eval = evaluate_preds(topic_query_terms, topics_pred_dev2_results, \"dev2\")"
   ]
  },
  {
   "cell_type": "code",
   "execution_count": 45,
   "metadata": {},
   "outputs": [
    {
     "data": {
      "text/plain": [
       "dict_keys(['rent', 'dollar', 'hous', 'job', 'citi', 'life', 'spam', 'law', 'christian', 'technolog', 'languag', 'program', 'home', 'marriag', 'republican', 'memori', 'democrat', 'telemarket', 'date', 'polit', 'communiti', 'govern', 'incom', 'religion', 'women'])"
      ]
     },
     "execution_count": 45,
     "metadata": {},
     "output_type": "execute_result"
    }
   ],
   "source": [
    "topics_pred_dev_results[\"20h+asr\"].keys()"
   ]
  },
  {
   "cell_type": "markdown",
   "metadata": {},
   "source": [
    "### Crisis words"
   ]
  },
  {
   "cell_type": "code",
   "execution_count": 46,
   "metadata": {},
   "outputs": [],
   "source": [
    "crisis_lex_fname = \"../criseslex/CrisisLexLexicon/CrisisLexRec.txt\""
   ]
  },
  {
   "cell_type": "code",
   "execution_count": 47,
   "metadata": {},
   "outputs": [],
   "source": [
    "crisis = set()\n",
    "with open(crisis_lex_fname, \"r\") as in_f:\n",
    "    for line in in_f:\n",
    "        crisis.update(line.strip().split())\n",
    "crisis = list(crisis)\n",
    "crisis_stem = [stem(w) for w in crisis]"
   ]
  },
  {
   "cell_type": "code",
   "execution_count": 48,
   "metadata": {},
   "outputs": [
    {
     "data": {
      "text/plain": [
       "288"
      ]
     },
     "execution_count": 48,
     "metadata": {},
     "output_type": "execute_result"
    }
   ],
   "source": [
    "len(crisis_stem)"
   ]
  },
  {
   "cell_type": "code",
   "execution_count": 49,
   "metadata": {},
   "outputs": [],
   "source": [
    "crisis_train_query_results = {}\n",
    "for m in train_text:\n",
    "    crisis_train_query_results[m] = search_text(train_text[m], crisis)"
   ]
  },
  {
   "cell_type": "code",
   "execution_count": 50,
   "metadata": {},
   "outputs": [],
   "source": [
    "crisis_dev_query_results = []\n",
    "for i in range(4):\n",
    "    crisis_dev_query_results.append(search_text(dev_text[i], crisis))    "
   ]
  },
  {
   "cell_type": "code",
   "execution_count": 51,
   "metadata": {},
   "outputs": [],
   "source": [
    "crisis_dev2_query_results = []\n",
    "for i in range(4):\n",
    "    crisis_dev2_query_results.append(search_text(dev2_text[i], crisis))    "
   ]
  },
  {
   "cell_type": "code",
   "execution_count": 52,
   "metadata": {},
   "outputs": [],
   "source": [
    "crisis_pred_dev_results = {}\n",
    "crisis_pred_dev2_results = {}\n",
    "for k in pred_dev_text:\n",
    "    crisis_pred_dev_results[k] = search_text(pred_dev_text[k], crisis)\n",
    "    crisis_pred_dev2_results[k] = search_text(pred_dev2_text[k], crisis)"
   ]
  },
  {
   "cell_type": "code",
   "execution_count": 53,
   "metadata": {},
   "outputs": [],
   "source": [
    "crisis_dev_common = get_common_ref_queries(crisis_dev_query_results)"
   ]
  },
  {
   "cell_type": "code",
   "execution_count": 54,
   "metadata": {},
   "outputs": [],
   "source": [
    "crisis_dev2_common = get_common_ref_queries(crisis_dev2_query_results)"
   ]
  },
  {
   "cell_type": "code",
   "execution_count": 55,
   "metadata": {
    "scrolled": true
   },
   "outputs": [
    {
     "name": "stdout",
     "output_type": "stream",
     "text": [
      "    # -- query                | dev count  | dev2_count | train count\n",
      "    1 -- free                 |          5 |          5 |        263\n",
      "    2 -- count                |          0 |          5 |        105\n",
      "    3 -- high                 |          5 |          5 |        266\n",
      "    4 -- love                 |         19 |          5 |        879\n",
      "    5 -- women                |          3 |          6 |        542\n",
      "    6 -- servic               |          6 |          7 |        227\n",
      "    7 -- hundr                |          3 |          7 |        561\n",
      "    8 -- citi                 |         33 |          8 |       1190\n",
      "    9 -- chang                |         21 |          8 |        785\n",
      "   10 -- thousand             |          6 |          8 |        454\n",
      "   11 -- someon               |         10 |          8 |       1014\n",
      "   12 -- anoth                |          9 |          8 |       1215\n",
      "   13 -- come                 |         14 |          8 |       1774\n",
      "   14 -- emerg                |          0 |          8 |        108\n",
      "   15 -- second               |          4 |          8 |        267\n",
      "   16 -- girl                 |         12 |          9 |        748\n",
      "   17 -- govern               |          8 |          9 |        357\n",
      "   18 -- find                 |          5 |          9 |       1049\n",
      "   19 -- thought              |          5 |          9 |        470\n",
      "   20 -- hous                 |         19 |         10 |       1380\n",
      "   21 -- number               |          3 |         10 |        356\n",
      "   22 -- leav                 |          5 |         10 |        533\n",
      "   23 -- million              |          1 |         10 |        106\n",
      "   24 -- first                |         14 |         11 |        939\n",
      "   25 -- need                 |         16 |         11 |        982\n"
     ]
    }
   ],
   "source": [
    "crisis_query_terms = get_query_terms_thresh(crisis_train_query_results, \n",
    "                                           crisis_dev_common, crisis_dev2_common, 5, 20, max_terms=25)"
   ]
  },
  {
   "cell_type": "code",
   "execution_count": 56,
   "metadata": {},
   "outputs": [],
   "source": [
    "crisis_train_freqs = {}\n",
    "for q in crisis_query_terms:\n",
    "    crisis_train_freqs[q] = {}\n",
    "    for m in crisis_train_query_results:\n",
    "        crisis_train_freqs[q][m] = len(crisis_train_query_results[m][q])"
   ]
  },
  {
   "cell_type": "code",
   "execution_count": 57,
   "metadata": {},
   "outputs": [],
   "source": [
    "crisis_freq_df = pd.DataFrame.from_dict(crisis_train_freqs, orient='index')"
   ]
  },
  {
   "cell_type": "code",
   "execution_count": 58,
   "metadata": {},
   "outputs": [
    {
     "data": {
      "text/html": [
       "<div>\n",
       "<style scoped>\n",
       "    .dataframe tbody tr th:only-of-type {\n",
       "        vertical-align: middle;\n",
       "    }\n",
       "\n",
       "    .dataframe tbody tr th {\n",
       "        vertical-align: top;\n",
       "    }\n",
       "\n",
       "    .dataframe thead th {\n",
       "        text-align: right;\n",
       "    }\n",
       "</style>\n",
       "<table border=\"1\" class=\"dataframe\">\n",
       "  <thead>\n",
       "    <tr style=\"text-align: right;\">\n",
       "      <th></th>\n",
       "      <th>160h</th>\n",
       "      <th>2.5h</th>\n",
       "      <th>5h</th>\n",
       "      <th>10h</th>\n",
       "      <th>20h</th>\n",
       "      <th>50h</th>\n",
       "    </tr>\n",
       "  </thead>\n",
       "  <tbody>\n",
       "    <tr>\n",
       "      <th>anoth</th>\n",
       "      <td>1215</td>\n",
       "      <td>19</td>\n",
       "      <td>35</td>\n",
       "      <td>71</td>\n",
       "      <td>143</td>\n",
       "      <td>393</td>\n",
       "    </tr>\n",
       "    <tr>\n",
       "      <th>chang</th>\n",
       "      <td>785</td>\n",
       "      <td>12</td>\n",
       "      <td>27</td>\n",
       "      <td>66</td>\n",
       "      <td>116</td>\n",
       "      <td>268</td>\n",
       "    </tr>\n",
       "    <tr>\n",
       "      <th>citi</th>\n",
       "      <td>1190</td>\n",
       "      <td>23</td>\n",
       "      <td>37</td>\n",
       "      <td>79</td>\n",
       "      <td>151</td>\n",
       "      <td>400</td>\n",
       "    </tr>\n",
       "    <tr>\n",
       "      <th>come</th>\n",
       "      <td>1774</td>\n",
       "      <td>36</td>\n",
       "      <td>62</td>\n",
       "      <td>106</td>\n",
       "      <td>227</td>\n",
       "      <td>610</td>\n",
       "    </tr>\n",
       "    <tr>\n",
       "      <th>count</th>\n",
       "      <td>105</td>\n",
       "      <td>1</td>\n",
       "      <td>2</td>\n",
       "      <td>11</td>\n",
       "      <td>15</td>\n",
       "      <td>42</td>\n",
       "    </tr>\n",
       "    <tr>\n",
       "      <th>emerg</th>\n",
       "      <td>108</td>\n",
       "      <td>1</td>\n",
       "      <td>6</td>\n",
       "      <td>11</td>\n",
       "      <td>20</td>\n",
       "      <td>34</td>\n",
       "    </tr>\n",
       "    <tr>\n",
       "      <th>find</th>\n",
       "      <td>1049</td>\n",
       "      <td>12</td>\n",
       "      <td>28</td>\n",
       "      <td>55</td>\n",
       "      <td>115</td>\n",
       "      <td>348</td>\n",
       "    </tr>\n",
       "    <tr>\n",
       "      <th>first</th>\n",
       "      <td>939</td>\n",
       "      <td>17</td>\n",
       "      <td>26</td>\n",
       "      <td>52</td>\n",
       "      <td>106</td>\n",
       "      <td>297</td>\n",
       "    </tr>\n",
       "    <tr>\n",
       "      <th>free</th>\n",
       "      <td>263</td>\n",
       "      <td>3</td>\n",
       "      <td>7</td>\n",
       "      <td>13</td>\n",
       "      <td>29</td>\n",
       "      <td>99</td>\n",
       "    </tr>\n",
       "    <tr>\n",
       "      <th>girl</th>\n",
       "      <td>748</td>\n",
       "      <td>7</td>\n",
       "      <td>16</td>\n",
       "      <td>33</td>\n",
       "      <td>70</td>\n",
       "      <td>241</td>\n",
       "    </tr>\n",
       "    <tr>\n",
       "      <th>govern</th>\n",
       "      <td>357</td>\n",
       "      <td>4</td>\n",
       "      <td>8</td>\n",
       "      <td>19</td>\n",
       "      <td>32</td>\n",
       "      <td>121</td>\n",
       "    </tr>\n",
       "    <tr>\n",
       "      <th>high</th>\n",
       "      <td>266</td>\n",
       "      <td>5</td>\n",
       "      <td>11</td>\n",
       "      <td>14</td>\n",
       "      <td>36</td>\n",
       "      <td>95</td>\n",
       "    </tr>\n",
       "    <tr>\n",
       "      <th>hous</th>\n",
       "      <td>1380</td>\n",
       "      <td>22</td>\n",
       "      <td>47</td>\n",
       "      <td>97</td>\n",
       "      <td>189</td>\n",
       "      <td>475</td>\n",
       "    </tr>\n",
       "    <tr>\n",
       "      <th>hundr</th>\n",
       "      <td>561</td>\n",
       "      <td>4</td>\n",
       "      <td>17</td>\n",
       "      <td>32</td>\n",
       "      <td>62</td>\n",
       "      <td>187</td>\n",
       "    </tr>\n",
       "    <tr>\n",
       "      <th>leav</th>\n",
       "      <td>533</td>\n",
       "      <td>6</td>\n",
       "      <td>16</td>\n",
       "      <td>22</td>\n",
       "      <td>53</td>\n",
       "      <td>171</td>\n",
       "    </tr>\n",
       "    <tr>\n",
       "      <th>love</th>\n",
       "      <td>879</td>\n",
       "      <td>11</td>\n",
       "      <td>19</td>\n",
       "      <td>53</td>\n",
       "      <td>108</td>\n",
       "      <td>274</td>\n",
       "    </tr>\n",
       "    <tr>\n",
       "      <th>million</th>\n",
       "      <td>106</td>\n",
       "      <td>0</td>\n",
       "      <td>4</td>\n",
       "      <td>8</td>\n",
       "      <td>14</td>\n",
       "      <td>28</td>\n",
       "    </tr>\n",
       "    <tr>\n",
       "      <th>need</th>\n",
       "      <td>982</td>\n",
       "      <td>10</td>\n",
       "      <td>31</td>\n",
       "      <td>60</td>\n",
       "      <td>118</td>\n",
       "      <td>341</td>\n",
       "    </tr>\n",
       "    <tr>\n",
       "      <th>number</th>\n",
       "      <td>356</td>\n",
       "      <td>2</td>\n",
       "      <td>6</td>\n",
       "      <td>19</td>\n",
       "      <td>36</td>\n",
       "      <td>128</td>\n",
       "    </tr>\n",
       "    <tr>\n",
       "      <th>second</th>\n",
       "      <td>267</td>\n",
       "      <td>4</td>\n",
       "      <td>11</td>\n",
       "      <td>14</td>\n",
       "      <td>39</td>\n",
       "      <td>89</td>\n",
       "    </tr>\n",
       "    <tr>\n",
       "      <th>servic</th>\n",
       "      <td>227</td>\n",
       "      <td>3</td>\n",
       "      <td>1</td>\n",
       "      <td>11</td>\n",
       "      <td>23</td>\n",
       "      <td>81</td>\n",
       "    </tr>\n",
       "    <tr>\n",
       "      <th>someon</th>\n",
       "      <td>1014</td>\n",
       "      <td>27</td>\n",
       "      <td>33</td>\n",
       "      <td>56</td>\n",
       "      <td>138</td>\n",
       "      <td>361</td>\n",
       "    </tr>\n",
       "    <tr>\n",
       "      <th>thought</th>\n",
       "      <td>470</td>\n",
       "      <td>7</td>\n",
       "      <td>17</td>\n",
       "      <td>30</td>\n",
       "      <td>52</td>\n",
       "      <td>144</td>\n",
       "    </tr>\n",
       "    <tr>\n",
       "      <th>thousand</th>\n",
       "      <td>454</td>\n",
       "      <td>9</td>\n",
       "      <td>14</td>\n",
       "      <td>25</td>\n",
       "      <td>45</td>\n",
       "      <td>151</td>\n",
       "    </tr>\n",
       "    <tr>\n",
       "      <th>women</th>\n",
       "      <td>542</td>\n",
       "      <td>9</td>\n",
       "      <td>13</td>\n",
       "      <td>33</td>\n",
       "      <td>68</td>\n",
       "      <td>183</td>\n",
       "    </tr>\n",
       "  </tbody>\n",
       "</table>\n",
       "</div>"
      ],
      "text/plain": [
       "          160h  2.5h  5h  10h  20h  50h\n",
       "anoth     1215    19  35   71  143  393\n",
       "chang      785    12  27   66  116  268\n",
       "citi      1190    23  37   79  151  400\n",
       "come      1774    36  62  106  227  610\n",
       "count      105     1   2   11   15   42\n",
       "emerg      108     1   6   11   20   34\n",
       "find      1049    12  28   55  115  348\n",
       "first      939    17  26   52  106  297\n",
       "free       263     3   7   13   29   99\n",
       "girl       748     7  16   33   70  241\n",
       "govern     357     4   8   19   32  121\n",
       "high       266     5  11   14   36   95\n",
       "hous      1380    22  47   97  189  475\n",
       "hundr      561     4  17   32   62  187\n",
       "leav       533     6  16   22   53  171\n",
       "love       879    11  19   53  108  274\n",
       "million    106     0   4    8   14   28\n",
       "need       982    10  31   60  118  341\n",
       "number     356     2   6   19   36  128\n",
       "second     267     4  11   14   39   89\n",
       "servic     227     3   1   11   23   81\n",
       "someon    1014    27  33   56  138  361\n",
       "thought    470     7  17   30   52  144\n",
       "thousand   454     9  14   25   45  151\n",
       "women      542     9  13   33   68  183"
      ]
     },
     "execution_count": 58,
     "metadata": {},
     "output_type": "execute_result"
    }
   ],
   "source": [
    "crisis_freq_df"
   ]
  },
  {
   "cell_type": "code",
   "execution_count": 59,
   "metadata": {
    "scrolled": true
   },
   "outputs": [
    {
     "name": "stdout",
     "output_type": "stream",
     "text": [
      "23\n",
      "226\n",
      "25\n",
      "202\n"
     ]
    }
   ],
   "source": [
    "print(sum([1 if len(d[\"dev\"]) > 0 else 0 for d in crisis_query_terms.values()]))\n",
    "print(np.sum([len(d[\"dev\"]) for d in crisis_query_terms.values()]))\n",
    "print(sum([1 if len(d[\"dev2\"]) > 0 else 0 for d in crisis_query_terms.values()]))\n",
    "print(np.sum([len(d[\"dev2\"]) for d in crisis_query_terms.values()]))"
   ]
  },
  {
   "cell_type": "code",
   "execution_count": 60,
   "metadata": {},
   "outputs": [
    {
     "name": "stdout",
     "output_type": "stream",
     "text": [
      "model      | precision % | recall    %\n",
      "2.5h       |        1.0 |        0.4\n",
      "2.5h+asr   |        7.9 |        9.7\n",
      "5h         |        2.0 |        0.4\n",
      "5h+asr     |       16.7 |       19.0\n",
      "10h        |        3.0 |        1.8\n",
      "10h+asr    |       26.4 |       32.7\n",
      "20h        |       25.3 |       24.8\n",
      "20h+asr    |       33.7 |       45.6\n",
      "50h        |       35.9 |       51.3\n",
      "50h+asr    |       41.7 |       58.8\n",
      "Weiss      |       47.1 |       82.7\n"
     ]
    }
   ],
   "source": [
    "crisis_dev_eval = evaluate_preds(crisis_query_terms, crisis_pred_dev_results, \"dev\")"
   ]
  },
  {
   "cell_type": "code",
   "execution_count": 61,
   "metadata": {},
   "outputs": [
    {
     "name": "stdout",
     "output_type": "stream",
     "text": [
      "model      | precision % | recall    %\n",
      "2.5h       |        1.0 |        0.5\n",
      "2.5h+asr   |        3.8 |        5.4\n",
      "5h         |        2.3 |        0.5\n",
      "5h+asr     |       11.6 |       16.8\n",
      "10h        |        0.0 |        0.0\n",
      "10h+asr    |       23.1 |       27.7\n",
      "20h        |       15.6 |       14.4\n",
      "20h+asr    |       31.6 |       41.1\n",
      "50h        |       30.9 |       46.5\n",
      "50h+asr    |       34.5 |       54.5\n",
      "Weiss      |       39.9 |       81.2\n"
     ]
    }
   ],
   "source": [
    "crisis_dev2_eval = evaluate_preds(crisis_query_terms, crisis_pred_dev2_results, \"dev2\")"
   ]
  },
  {
   "cell_type": "code",
   "execution_count": 62,
   "metadata": {},
   "outputs": [
    {
     "data": {
      "text/plain": [
       "dict_keys(['free', 'count', 'high', 'love', 'women', 'servic', 'hundr', 'citi', 'chang', 'thousand', 'someon', 'anoth', 'come', 'emerg', 'second', 'girl', 'govern', 'find', 'thought', 'hous', 'number', 'leav', 'million', 'first', 'need'])"
      ]
     },
     "execution_count": 62,
     "metadata": {},
     "output_type": "execute_result"
    }
   ],
   "source": [
    "crisis_dev2_eval[\"20h+asr\"]['query'].keys()"
   ]
  },
  {
   "cell_type": "code",
   "execution_count": 63,
   "metadata": {},
   "outputs": [],
   "source": [
    "# crisis_dev2_eval[\"50h+asr\"]"
   ]
  },
  {
   "cell_type": "markdown",
   "metadata": {},
   "source": [
    "### Plots"
   ]
  },
  {
   "cell_type": "code",
   "execution_count": 64,
   "metadata": {},
   "outputs": [],
   "source": [
    "tableau20 = [(31, 119, 180), (174, 199, 232), (255, 127, 14), (255, 187, 120),    \n",
    "             (44, 160, 44), (152, 223, 138), (214, 39, 40), (255, 152, 150),    \n",
    "             (148, 103, 189), (197, 176, 213), (140, 86, 75), (196, 156, 148),    \n",
    "             (227, 119, 194), (247, 182, 210), (127, 127, 127), (199, 199, 199),    \n",
    "             (188, 189, 34), (219, 219, 141), (23, 190, 207), (158, 218, 229)]    \n",
    "# Scale the RGB values to the [0, 1] range, which is the format matplotlib accepts.    \n",
    "for i in range(len(tableau20)):    \n",
    "    r, g, b = tableau20[i]    \n",
    "    tableau20[i] = (r / 255., g / 255., b / 255.)"
   ]
  },
  {
   "cell_type": "code",
   "execution_count": 65,
   "metadata": {},
   "outputs": [],
   "source": [
    "sns.set_style(\"whitegrid\", {\"axes.grid\": True})"
   ]
  },
  {
   "cell_type": "code",
   "execution_count": 66,
   "metadata": {},
   "outputs": [],
   "source": [
    "dcolors = [(215,25,28),\n",
    "            (253,174,97),\n",
    "            (255,255,191),\n",
    "            (171,221,164),\n",
    "            (43,131,186)]\n",
    "for i in range(len(dcolors)):    \n",
    "    r, g, b = dcolors[i]    \n",
    "    dcolors[i] = (r / 255., g / 255., b / 255.)"
   ]
  },
  {
   "cell_type": "code",
   "execution_count": 67,
   "metadata": {},
   "outputs": [],
   "source": [
    "hrs = [2.5, 5, 10, 20, 50, 160]\n",
    "x_scale = np.array(hrs)\n",
    "x_labels = [str(i)+\"h\" for i in hrs]\n",
    "# x_points = np.linspace(0, 100, len(x_scale))\n",
    "x_points = np.array([math.log(i) for i in hrs])\n",
    "\n",
    "prec_base = np.array([topics_dev2_eval[i][\"aggr\"][\"prec\"] * 100 for i in x_labels[:-1]])\n",
    "prec_asr = np.array([topics_dev2_eval[i+\"+asr\"][\"aggr\"][\"prec\"] * 100 for i in x_labels[:-1]])\n",
    "rec_base = np.array([topics_dev2_eval[i][\"aggr\"][\"rec\"] * 100 for i in x_labels[:-1]])\n",
    "rec_asr = np.array([topics_dev2_eval[i+\"+asr\"][\"aggr\"][\"rec\"] * 100 for i in x_labels[:-1]])"
   ]
  },
  {
   "cell_type": "code",
   "execution_count": 68,
   "metadata": {
    "scrolled": false
   },
   "outputs": [
    {
     "data": {
      "image/png": "[encoded data removed]",
      "text/plain": [
       "<matplotlib.figure.Figure at 0x7fae6a072f60>"
      ]
     },
     "metadata": {},
     "output_type": "display_data"
    }
   ],
   "source": [
    "fig, ax = plt.subplots(figsize=(8,5),nrows=1, ncols=1, sharey=True)\n",
    "\n",
    "markersize = 8\n",
    "linewidth = 2\n",
    "alpha = 1\n",
    "\n",
    "ax.plot(x_points[:-1], prec_base, label=\"prec:base\", color=dcolors[0], \n",
    "        linewidth=linewidth, marker='^', \n",
    "        markersize=markersize, linestyle=\"--\", alpha=0.8)\n",
    "\n",
    "ax.plot(x_points[:-1], prec_asr, label=\"prec:+asr\", color=dcolors[0], \n",
    "        linewidth=linewidth, marker='^', markersize=markersize, linestyle=\"-\")\n",
    "\n",
    "ax.plot(x_points[:-1], rec_base, label=\"recall:base\", color=dcolors[4], \n",
    "        linewidth=linewidth, marker='o', markersize=markersize, linestyle=\"--\", alpha=0.8)\n",
    "\n",
    "ax.plot(x_points[:-1], rec_asr, label=\"recall:+asr\", color=dcolors[4], \n",
    "        linewidth=linewidth, marker='o', markersize=markersize, linestyle=\"-\")\n",
    "\n",
    "font = {'family': 'serif',\n",
    "        'color':  'black',\n",
    "        'weight': 'normal',\n",
    "        'size': 16,\n",
    "        }\n",
    "\n",
    "# ax.axhline(y=21, linestyle=\":\", color='k')\n",
    "# plt.text(75, 23, r'naive baseline', fontdict=font)\n",
    "\n",
    "ax.plot(x_points[-1:], np.array([63]), color=dcolors[0],\n",
    "        marker='^', markersize=markersize, markerfacecolor=\"w\", markeredgewidth=3)\n",
    "plt.text(4.6, 68, r'prec:W', fontdict=font)\n",
    "ax.plot(x_points[-1:], np.array([85]), color=dcolors[4],\n",
    "        marker='o', markersize=markersize, markerfacecolor=\"w\", markeredgewidth=3)\n",
    "plt.text(4.6, 92, r'recall:W', fontdict=font)\n",
    "\n",
    "\n",
    "plt.xticks(x_points, x_labels, rotation=0, fontsize=18)\n",
    "# plt.yticks(list(range(0,65,10))+[76, 71, ], rotation=0, fontsize=20)\n",
    "plt.yticks(list(range(0,101,10)), rotation=0, fontsize=20)\n",
    "ax.set_xlabel('# hours of training data (log scale)', size=20)\n",
    "ax.set_ylabel('scores', size=20)\n",
    "for i in ax.get_xticklabels():\n",
    "    i.set_fontsize(18)\n",
    "for i in ax.get_yticklabels():\n",
    "    i.set_fontsize(18)\n",
    "\n",
    "plt.legend(bbox_to_anchor=(0.4, 0.99), framealpha=0, fontsize=16, ncol=1)\n",
    "# plt.ylim(0,100)\n",
    "# plt.xlim(1,101)\n",
    "# ax.xaxis.grid(False)\n",
    "\n",
    "# sns.despine(left=True, bottom=True)\n",
    "\n",
    "fig.tight_layout()\n",
    "\n",
    "# fig.savefig(fname=\"./figs/kws_prec_rec.pdf\", dpi=300)\n",
    "# fig.savefig(fname=\"./figs/kws_prec_rec.png\", dpi=300)"
   ]
  },
  {
   "cell_type": "code",
   "execution_count": 69,
   "metadata": {},
   "outputs": [],
   "source": [
    "hrs = [2.5, 5, 10, 20, 50, 160]\n",
    "x_scale = np.array(hrs)\n",
    "x_labels = [str(i)+\"h\" for i in hrs]\n",
    "# x_points = np.linspace(0, 100, len(x_scale))\n",
    "x_points = np.array([math.log(i) for i in hrs])\n",
    "\n",
    "prec_base = np.array([crisis_dev2_eval[i][\"aggr\"][\"prec\"] * 100 for i in x_labels[:-1]])\n",
    "prec_asr = np.array([crisis_dev2_eval[i+\"+asr\"][\"aggr\"][\"prec\"] * 100 for i in x_labels[:-1]])\n",
    "rec_base = np.array([crisis_dev2_eval[i][\"aggr\"][\"rec\"] * 100 for i in x_labels[:-1]])\n",
    "rec_asr = np.array([crisis_dev2_eval[i+\"+asr\"][\"aggr\"][\"rec\"] * 100 for i in x_labels[:-1]])"
   ]
  },
  {
   "cell_type": "code",
   "execution_count": 70,
   "metadata": {},
   "outputs": [
    {
     "data": {
      "image/png": "[encoded data removed]",
      "text/plain": [
       "<matplotlib.figure.Figure at 0x7fae6875d8d0>"
      ]
     },
     "metadata": {},
     "output_type": "display_data"
    }
   ],
   "source": [
    "fig, ax = plt.subplots(figsize=(8,5),nrows=1, ncols=1, sharey=True)\n",
    "\n",
    "markersize = 8\n",
    "linewidth = 2\n",
    "alpha = 1\n",
    "\n",
    "ax.plot(x_points[:-1], prec_base, label=\"prec:base\", color=dcolors[0], \n",
    "        linewidth=linewidth, marker='^', \n",
    "        markersize=markersize, linestyle=\"--\", alpha=0.8)\n",
    "\n",
    "ax.plot(x_points[:-1], prec_asr, label=\"prec:+asr\", color=dcolors[0], \n",
    "        linewidth=linewidth, marker='^', markersize=markersize, linestyle=\"-\")\n",
    "\n",
    "ax.plot(x_points[:-1], rec_base, label=\"recall:base\", color=dcolors[4], \n",
    "        linewidth=linewidth, marker='o', markersize=markersize, linestyle=\"--\", alpha=0.8)\n",
    "\n",
    "ax.plot(x_points[:-1], rec_asr, label=\"recall:+asr\", color=dcolors[4], \n",
    "        linewidth=linewidth, marker='o', markersize=markersize, linestyle=\"-\")\n",
    "\n",
    "font = {'family': 'serif',\n",
    "        'color':  'black',\n",
    "        'weight': 'normal',\n",
    "        'size': 16,\n",
    "        }\n",
    "\n",
    "# ax.axhline(y=21, linestyle=\":\", color='k')\n",
    "# plt.text(75, 23, r'naive baseline', fontdict=font)\n",
    "\n",
    "ax.plot(x_points[-1:], np.array([39.9]), color=dcolors[0],\n",
    "        marker='^', markersize=markersize, markerfacecolor=\"w\", markeredgewidth=3)\n",
    "plt.text(4.6, 45, r'prec:W', fontdict=font)\n",
    "ax.plot(x_points[-1:], np.array([81.2]), color=dcolors[4],\n",
    "        marker='o', markersize=markersize, markerfacecolor=\"w\", markeredgewidth=3)\n",
    "plt.text(4.6, 85, r'recall:W', fontdict=font)\n",
    "\n",
    "\n",
    "plt.xticks(x_points, x_labels, rotation=0, fontsize=18)\n",
    "# plt.yticks(list(range(0,65,10))+[76, 71, ], rotation=0, fontsize=20)\n",
    "plt.yticks(list(range(0,101,10)), rotation=0, fontsize=20)\n",
    "ax.set_xlabel('# hours of training data (log scale)', size=20)\n",
    "ax.set_ylabel('scores', size=20)\n",
    "for i in ax.get_xticklabels():\n",
    "    i.set_fontsize(18)\n",
    "for i in ax.get_yticklabels():\n",
    "    i.set_fontsize(18)\n",
    "\n",
    "plt.legend(bbox_to_anchor=(0.4, 0.99), framealpha=0, fontsize=16, ncol=1)\n",
    "# plt.ylim(0,100)\n",
    "# plt.xlim(1,101)\n",
    "# ax.xaxis.grid(False)\n",
    "\n",
    "# sns.despine(left=True, bottom=True)\n",
    "\n",
    "fig.tight_layout()\n",
    "\n",
    "# fig.savefig(fname=\"./figs/kws_prec_rec.pdf\", dpi=300)\n",
    "# fig.savefig(fname=\"./figs/kws_prec_rec.png\", dpi=300)"
   ]
  },
  {
   "cell_type": "code",
   "execution_count": null,
   "metadata": {},
   "outputs": [],
   "source": []
  }
 ],
 "metadata": {
  "kernelspec": {
   "display_name": "Python 3",
   "language": "python",
   "name": "python3"
  },
  "language_info": {
   "codemirror_mode": {
    "name": "ipython",
    "version": 3
   },
   "file_extension": ".py",
   "mimetype": "text/x-python",
   "name": "python",
   "nbconvert_exporter": "python",
   "pygments_lexer": "ipython3",
   "version": "3.6.3"
  }
 },
 "nbformat": 4,
 "nbformat_minor": 2
}
