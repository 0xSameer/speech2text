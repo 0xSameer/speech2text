{
 "cells": [
  {
   "cell_type": "code",
   "execution_count": 1,
   "metadata": {},
   "outputs": [],
   "source": [
    "import nltk\n",
    "from nltk.translate.bleu_score import sentence_bleu, corpus_bleu, modified_precision\n",
    "from nltk.translate.chrf_score import sentence_chrf, corpus_chrf\n",
    "from nltk.metrics import scores\n",
    "import scipy.io.wavfile\n",
    "from IPython.display import Audio\n",
    "from IPython.display import display\n",
    "from nltk.stem import *\n",
    "# from nltk.stem.snowball import SnowballStemmer\n",
    "from stemming.porter2 import stem\n",
    "import stemming\n",
    "from nltk.metrics.scores import recall\n",
    "\n",
    "from basics import *\n",
    "\n",
    "from nltk.corpus import stopwords\n",
    "\n",
    "%matplotlib inline"
   ]
  },
  {
   "cell_type": "code",
   "execution_count": 2,
   "metadata": {},
   "outputs": [],
   "source": [
    "smooth_fun = nltk.translate.bleu_score.SmoothingFunction()"
   ]
  },
  {
   "cell_type": "code",
   "execution_count": 3,
   "metadata": {},
   "outputs": [],
   "source": [
    "from nmt_run import *"
   ]
  },
  {
   "cell_type": "code",
   "execution_count": 4,
   "metadata": {},
   "outputs": [],
   "source": [
    "cfg_path = \"interspeech_bpe/sp_20hrs_best_bn-nobias_batch-32_buck-n25-w80\"\n",
    "dec_key = \"bpe_w\""
   ]
  },
  {
   "cell_type": "code",
   "execution_count": 5,
   "metadata": {},
   "outputs": [],
   "source": [
    "%%capture\n",
    "last_epoch, model, optimizer, m_cfg, t_cfg = check_model(cfg_path)"
   ]
  },
  {
   "cell_type": "code",
   "execution_count": 6,
   "metadata": {},
   "outputs": [],
   "source": [
    "%%capture\n",
    "map_dict, vocab_dict, bucket_dict = get_data_dicts(m_cfg)"
   ]
  },
  {
   "cell_type": "code",
   "execution_count": 7,
   "metadata": {},
   "outputs": [],
   "source": [
    "random.seed(\"meh\")\n",
    "# random.seed(\"haha\")"
   ]
  },
  {
   "cell_type": "code",
   "execution_count": 8,
   "metadata": {},
   "outputs": [],
   "source": [
    "def clean_out_str(out_str):\n",
    "    out_str = out_str.replace(\"`\", \"\")\n",
    "    out_str = out_str.replace('\"', '')\n",
    "    out_str = out_str.replace('¿', '')\n",
    "    out_str = out_str.replace(\"''\", \"\")\n",
    "\n",
    "    # for BPE\n",
    "    out_str = out_str.replace(\"@@ \", \"\")\n",
    "    out_str = out_str.replace(\"@@\", \"\")\n",
    "\n",
    "    out_str = out_str.strip()\n",
    "    return out_str\n",
    "\n",
    "\n",
    "# In[46]:\n",
    "\n",
    "\n",
    "def get_out_str(word_list, dec_key=\"bpe_w\"):\n",
    "    h = [w.decode() for w in word_list]\n",
    "    out_str = \"\"\n",
    "    if dec_key == \"en_w\":\n",
    "        for w in h:\n",
    "            out_str += \"{0:s}\".format(w) if (w.startswith(\"'\") or w==\"n't\") else \" {0:s}\".format(w)\n",
    "    elif \"bpe_w\" in dec_key:\n",
    "        out_str = \" \".join(h)\n",
    "\n",
    "    elif dec_key == \"en_c\":\n",
    "        out_str = \"\".join(h)\n",
    "\n",
    "    else:\n",
    "        out_str = \"\".join(h)\n",
    "\n",
    "    out_str = clean_out_str(out_str)\n",
    "    return out_str"
   ]
  },
  {
   "cell_type": "code",
   "execution_count": 9,
   "metadata": {},
   "outputs": [],
   "source": [
    "def get_text(set_key, ref_num=0):\n",
    "    set_text = {}\n",
    "    for u in map_dict[set_key]:\n",
    "        if \"train\" in set_key:\n",
    "            set_text[u] = get_out_str(map_dict[set_key][u][\"bpe_w\"])\n",
    "        else:\n",
    "            # fisher_dev has 4 references, but only 1 for BPE\n",
    "            # modify logic if using en_w\n",
    "            set_text[u] = get_out_str(map_dict[set_key][u][\"en_w\"][ref_num], \"en_w\")\n",
    "    print(len(set_text))\n",
    "    return set_text"
   ]
  },
  {
   "cell_type": "code",
   "execution_count": 10,
   "metadata": {},
   "outputs": [
    {
     "name": "stdout",
     "output_type": "stream",
     "text": [
      "138819\n"
     ]
    },
    {
     "data": {
      "text/plain": [
       "['hello',\n",
       " 'hello',\n",
       " 'hello',\n",
       " 'hello',\n",
       " 'with whom am i speaking',\n",
       " 'eh silvia yes what is your name',\n",
       " 'hello silvia eh my name is nicole',\n",
       " 'ah nice to meet you',\n",
       " 'nice to meet you em and where are you from',\n",
       " \"eh i'm in philadelphia\"]"
      ]
     },
     "execution_count": 10,
     "metadata": {},
     "output_type": "execute_result"
    }
   ],
   "source": [
    "train_text = get_text(\"fisher_train\")\n",
    "list(train_text.values())[:10]"
   ]
  },
  {
   "cell_type": "code",
   "execution_count": 11,
   "metadata": {},
   "outputs": [
    {
     "name": "stdout",
     "output_type": "stream",
     "text": [
      "3979\n",
      "3979\n",
      "3979\n",
      "3979\n"
     ]
    },
    {
     "data": {
      "text/plain": [
       "['afternoon',\n",
       " 'good afternoon',\n",
       " 'my name is carmen in chicago you',\n",
       " 'oh my name is ricardo',\n",
       " 'of',\n",
       " \"ah i'm in ah pennsylvania\",\n",
       " 'okay good afternoon',\n",
       " 'well how are you good',\n",
       " 'good thank god and you',\n",
       " \"very good thank god as well it's very cold here is it very cold in chicago\"]"
      ]
     },
     "execution_count": 11,
     "metadata": {},
     "output_type": "execute_result"
    }
   ],
   "source": [
    "dev_text = []\n",
    "for i in range(4):\n",
    "    dev_text.append(get_text(\"fisher_dev\", ref_num=i))\n",
    "list(dev_text[0].values())[:10]"
   ]
  },
  {
   "cell_type": "code",
   "execution_count": 12,
   "metadata": {},
   "outputs": [
    {
     "name": "stdout",
     "output_type": "stream",
     "text": [
      "3961\n",
      "3961\n",
      "3961\n",
      "3961\n"
     ]
    },
    {
     "data": {
      "text/plain": [
       "['hi good af good evening',\n",
       " \"good evening it's norma here from atlanta\",\n",
       " \"oh well would you look at that i'm from\",\n",
       " \"oh yeah we're we're near\",\n",
       " \"yes we're pretty close is this the first call you took\",\n",
       " \"yes because yesterday what happened is that since i was out they called me right the the computer called me but i wasn't here so couldn't\",\n",
       " \"i couldn't answer\",\n",
       " \"oh and i am on my cellphone they called me three times but i was at the store so i couldn't you know take ten minutes to talk\",\n",
       " 'sure',\n",
       " 'but where are you from']"
      ]
     },
     "execution_count": 12,
     "metadata": {},
     "output_type": "execute_result"
    }
   ],
   "source": [
    "dev2_text = []\n",
    "for i in range(4):\n",
    "    dev2_text.append(get_text(\"fisher_dev2\", ref_num=i))\n",
    "list(dev2_text[0].values())[:10]"
   ]
  },
  {
   "cell_type": "code",
   "execution_count": 13,
   "metadata": {},
   "outputs": [
    {
     "data": {
      "text/plain": [
       "(127, 313, 435)"
      ]
     },
     "execution_count": 13,
     "metadata": {},
     "output_type": "execute_result"
    }
   ],
   "source": [
    "en_stop_words = set(nltk.corpus.stopwords.words(\"english\"))\n",
    "\n",
    "es_stop_words = set(nltk.corpus.stopwords.words(\"spanish\"))\n",
    "\n",
    "es_en_stop_words = en_stop_words | es_stop_words\n",
    "len(en_stop_words), len(es_stop_words), len(es_en_stop_words)"
   ]
  },
  {
   "cell_type": "code",
   "execution_count": 14,
   "metadata": {},
   "outputs": [],
   "source": [
    "def search_text(set_text, query_list):\n",
    "    query_set = set([stem(q) for q in query_list])\n",
    "    query_results = {q:[] for q in query_set}\n",
    "    \n",
    "    for u, v in tqdm(set_text.items(), ncols=120):\n",
    "        words_in_text = set([stem(w) for w in v.strip().split()])\n",
    "        common_words = query_set & words_in_text\n",
    "        for q in common_words:\n",
    "            query_results[q].append(u)\n",
    "            # end if query check\n",
    "        # end for all query terms\n",
    "    # end for all utterances\n",
    "    return query_results\n",
    "# end function"
   ]
  },
  {
   "cell_type": "code",
   "execution_count": 15,
   "metadata": {},
   "outputs": [],
   "source": [
    "def get_common_ref_queries(dev_query_results):\n",
    "    dev_common_results = {}\n",
    "    for q in dev_query_results[0]:\n",
    "        common_utts = set(dev_query_results[0][q])\n",
    "        for i in range(1,4):\n",
    "            common_utts &= set(dev_query_results[i][q])\n",
    "        dev_common_results[q] = common_utts\n",
    "    return dev_common_results"
   ]
  },
  {
   "cell_type": "code",
   "execution_count": 16,
   "metadata": {},
   "outputs": [],
   "source": [
    "def get_query_terms_thresh(train_results, dev_common, dev2_common, min_c, max_c):\n",
    "    min_freq_dev_queries = [(q, c, dev2_common[q], train_results[q]) for q,c in dev_common.items() \n",
    "                            if len(c) >= min_c and len(c) <= max_c]\n",
    "    print(\"{0:>5s} -- {1:10s} | {2:10s} | {3:10s} | {4:10s}\".format(\"#\", \"query\", \n",
    "                                                                    \"dev count\", \"dev2_count\", \"train count\"))\n",
    "    for i, (q, v, d2, t) in enumerate(min_freq_dev_queries, start=1):\n",
    "        print(\"{0:>5d} -- {1:10s} | {2:10d} | {3:10d} | {4:10d}\".format(i, q, len(v), len(d2), len(t)))\n",
    "    return {q: {\"train\": t, \"dev\": d, \"dev2\": d2} for q, d, d2, t in min_freq_dev_queries}"
   ]
  },
  {
   "cell_type": "code",
   "execution_count": 17,
   "metadata": {},
   "outputs": [],
   "source": [
    "# def search_text(set_text, query_list):\n",
    "#     query_results = {q:[] for q in query_list}\n",
    "#     for u, v in tqdm(set_text.items(), ncols=80):\n",
    "#         for q in query_list:\n",
    "#             words_in_text = set([stem(w) for w in v.strip().split()])\n",
    "#             if stem(q) in words_in_text:\n",
    "#                 query_results[q].append(u)\n",
    "#             # end if query check\n",
    "#         # end for all query terms\n",
    "#     # end for all utterances\n",
    "# # end function"
   ]
  },
  {
   "cell_type": "markdown",
   "metadata": {},
   "source": [
    "### Topics"
   ]
  },
  {
   "cell_type": "code",
   "execution_count": 18,
   "metadata": {},
   "outputs": [],
   "source": [
    "topics_fname = \"../criseslex/fsp06_topics_in_english.txt\""
   ]
  },
  {
   "cell_type": "code",
   "execution_count": 19,
   "metadata": {},
   "outputs": [
    {
     "data": {
      "text/plain": [
       "(98, 98)"
      ]
     },
     "execution_count": 19,
     "metadata": {},
     "output_type": "execute_result"
    }
   ],
   "source": [
    "topics = [ \"peace\", \"Music\", \"Marriage\", \"Religion\", \"Cell phones\", \n",
    "           \"Dating\", \"Telemarketing and SPAM\", \"Politics\", \"Travel\", \n",
    "           \"Technical devices\", \"Healthcare\", \"Advertisements\", \"Power\", \n",
    "           \"Occupations\", \"Movies\", \"Welfare\", \"Breaking up\", \"Location\", \n",
    "           \"Justice\", \"Memories\", \"Crime\", \"Violence against women\", \"Equality\", \n",
    "            \"Housing\", \"Immigration\",     \n",
    "            # new topics\n",
    "           \"Interracial\", \"Christians\", \"muslims\", \"jews\", \"e-mail\", \n",
    "           \"phone\", \"democracy\", \"Democratic\", \"Republican\", \"technology\", \n",
    "           \"leadership\", \"community\", \"jury\", \"police\", \"inequality\", \n",
    "           \"renting\", \"Violence\", \"immigrants\", \"immigrant\", \"skilled\", \n",
    "           \"Telemarketing\", \"SPAM\", \"skill\", \"job\", \"health\", \"mobile\", \n",
    "            \"ads\", \"physical\", \"emotional\", \"bubble\", \"rent\", \"economy\", \n",
    "            \"abuse\", \"women\", \"city\", \"country\", \"suburban\", \"dollar\", \n",
    "            \"united states\", \"laws\", \"phone\", \"race\", \"biracial\", \"interracial\", \n",
    "            \"marriage\", \"lyrics\", \"sexuality\", \"medicine\", \"television\", \"european\",\n",
    "            \"home\", \"protect\", \"spouse\", \"language\", \"cellphone\", \"money\",\n",
    "            \"doctor\", \"insurance\", \"cigarettes\", \"alcohol\", \"income\", \"salary\",\n",
    "            \"class\", \"censor\", \"rating\", \"programs\", \"government\",\n",
    "            \"relationship\", \"legal\", \"event\", \"life\", \"safe\", \"victim\", \"cops\",\n",
    "            \"wage\", \"illegal\"\n",
    "            ]\n",
    "topics = list(set(t.lower() for t in topics))\n",
    "topics_stem = [stem(t) for t in topics]\n",
    "len(topics), len(topics_stem)"
   ]
  },
  {
   "cell_type": "code",
   "execution_count": 20,
   "metadata": {},
   "outputs": [
    {
     "data": {
      "text/plain": [
       "['doctor', 'travel', 'christian', 'sexual', 'cellphon']"
      ]
     },
     "execution_count": 20,
     "metadata": {},
     "output_type": "execute_result"
    }
   ],
   "source": [
    "topics_stem[:5]"
   ]
  },
  {
   "cell_type": "code",
   "execution_count": 21,
   "metadata": {},
   "outputs": [
    {
     "name": "stderr",
     "output_type": "stream",
     "text": [
      "100%|█████████████████████████████████████████████████████████████████████████| 138819/138819 [00:25<00:00, 5545.94it/s]\n"
     ]
    }
   ],
   "source": [
    "topics_train_query_results = search_text(train_text, topics)"
   ]
  },
  {
   "cell_type": "code",
   "execution_count": 22,
   "metadata": {},
   "outputs": [
    {
     "name": "stderr",
     "output_type": "stream",
     "text": [
      "100%|█████████████████████████████████████████████████████████████████████████████| 3979/3979 [00:00<00:00, 5825.34it/s]\n",
      "100%|█████████████████████████████████████████████████████████████████████████████| 3979/3979 [00:00<00:00, 5863.21it/s]\n",
      "100%|█████████████████████████████████████████████████████████████████████████████| 3979/3979 [00:00<00:00, 5349.02it/s]\n",
      "100%|█████████████████████████████████████████████████████████████████████████████| 3979/3979 [00:00<00:00, 5645.29it/s]\n"
     ]
    }
   ],
   "source": [
    "topics_dev_query_results = []\n",
    "for i in range(4):\n",
    "    topics_dev_query_results.append(search_text(dev_text[i], topics))    "
   ]
  },
  {
   "cell_type": "code",
   "execution_count": 23,
   "metadata": {},
   "outputs": [
    {
     "name": "stderr",
     "output_type": "stream",
     "text": [
      "100%|█████████████████████████████████████████████████████████████████████████████| 3961/3961 [00:00<00:00, 5727.97it/s]\n",
      "100%|█████████████████████████████████████████████████████████████████████████████| 3961/3961 [00:00<00:00, 5807.30it/s]\n",
      "100%|█████████████████████████████████████████████████████████████████████████████| 3961/3961 [00:00<00:00, 5879.98it/s]\n",
      "100%|█████████████████████████████████████████████████████████████████████████████| 3961/3961 [00:00<00:00, 5916.87it/s]\n"
     ]
    }
   ],
   "source": [
    "topics_dev2_query_results = []\n",
    "for i in range(4):\n",
    "    topics_dev2_query_results.append(search_text(dev2_text[i], topics))    "
   ]
  },
  {
   "cell_type": "code",
   "execution_count": 24,
   "metadata": {},
   "outputs": [],
   "source": [
    "# all_dev_counts = [(q, [len(topics_dev_query_results[i][q]) for i in range(4)]) for q in topics_train_query_results]"
   ]
  },
  {
   "cell_type": "code",
   "execution_count": 25,
   "metadata": {},
   "outputs": [],
   "source": [
    "topics_dev_common = get_common_ref_queries(topics_dev_query_results)"
   ]
  },
  {
   "cell_type": "code",
   "execution_count": 26,
   "metadata": {},
   "outputs": [],
   "source": [
    "topics_dev2_common = get_common_ref_queries(topics_dev2_query_results)"
   ]
  },
  {
   "cell_type": "code",
   "execution_count": 27,
   "metadata": {},
   "outputs": [
    {
     "name": "stdout",
     "output_type": "stream",
     "text": [
      "    # -- query      | dev count  | dev2_count | train count\n",
      "    1 -- doctor     |          2 |          1 |        350\n",
      "    2 -- travel     |         19 |          0 |        403\n",
      "    3 -- juri       |          2 |          0 |        208\n",
      "    4 -- job        |          3 |          6 |        634\n",
      "    5 -- interraci  |          2 |          0 |         65\n",
      "    6 -- spam       |          9 |         15 |         86\n",
      "    7 -- rent       |          3 |          3 |        330\n",
      "    8 -- medicin    |          3 |          0 |        143\n",
      "    9 -- alcohol    |          3 |          0 |         47\n",
      "   10 -- christian  |          6 |          3 |        248\n",
      "   11 -- hous       |         19 |         10 |       1380\n",
      "   12 -- money      |         30 |         38 |       1219\n",
      "   13 -- protect    |          2 |          1 |        111\n",
      "   14 -- justic     |          2 |          0 |         85\n",
      "   15 -- home       |          7 |         12 |        555\n",
      "   16 -- govern     |          8 |          9 |        357\n",
      "   17 -- marriag    |          5 |         16 |        339\n",
      "   18 -- law        |          3 |          9 |        401\n",
      "   19 -- women      |          3 |          6 |        542\n",
      "   20 -- countri    |         25 |         29 |       1889\n",
      "   21 -- welfar     |          3 |          0 |         34\n",
      "   22 -- dollar     |         13 |         11 |        543\n",
      "   23 -- polit      |          7 |         10 |        345\n",
      "   24 -- race       |          8 |          1 |        261\n",
      "   25 -- crime      |         11 |          0 |        194\n",
      "   26 -- movi       |          3 |          2 |        576\n",
      "   27 -- lyric      |          2 |          1 |         48\n",
      "   28 -- phone      |          8 |         41 |        951\n",
      "   29 -- immigr     |          2 |          0 |        402\n",
      "   30 -- program    |         11 |          4 |        357\n",
      "   31 -- languag    |          3 |          7 |        299\n",
      "   32 -- life       |         20 |         14 |        934\n",
      "   33 -- communiti  |          2 |          4 |        105\n",
      "   34 -- class      |         12 |          1 |        223\n"
     ]
    }
   ],
   "source": [
    "topic_query_terms = get_query_terms_thresh(topics_train_query_results, \n",
    "                                           topics_dev_common, topics_dev2_common, 2, 30)"
   ]
  },
  {
   "cell_type": "code",
   "execution_count": 28,
   "metadata": {},
   "outputs": [
    {
     "name": "stdout",
     "output_type": "stream",
     "text": [
      "25\n",
      "254\n"
     ]
    }
   ],
   "source": [
    "print(sum([1 if len(d[\"dev2\"]) > 0 else 0 for d in topic_query_terms.values()]))\n",
    "print(np.sum([len(d[\"dev2\"]) for d in topic_query_terms.values()]))"
   ]
  },
  {
   "cell_type": "markdown",
   "metadata": {},
   "source": [
    "### Read predictions"
   ]
  },
  {
   "cell_type": "code",
   "execution_count": 29,
   "metadata": {},
   "outputs": [],
   "source": [
    "dev_ids = []\n",
    "with open(\"./fisher/fisher_dev/fisher_dev_eval.ids\", \"r\", encoding=\"utf-8\") as in_f:\n",
    "    for line in in_f:\n",
    "        dev_ids.append(line.strip())\n",
    "     # end for\n",
    "# end with\n",
    "\n",
    "dev2_ids = []\n",
    "with open(\"fisher/fisher_dev2/fisher_dev2_eval.ids\", \"r\", encoding=\"utf-8\") as in_f:\n",
    "    for u in in_f:\n",
    "        dev2_ids.append(u.strip())"
   ]
  },
  {
   "cell_type": "code",
   "execution_count": 30,
   "metadata": {},
   "outputs": [],
   "source": [
    "google_s2t_hyps_path = os.path.join(\"../chainer2/speech2text/both_fbank_out/\", \"google_s2t_hyps.dict\")\n",
    "google_s2t_hyps = pickle.load(open(google_s2t_hyps_path, \"rb\"))\n",
    "google_hyp_dev = google_s2t_hyps['fisher_dev_r0']"
   ]
  },
  {
   "cell_type": "code",
   "execution_count": 31,
   "metadata": {},
   "outputs": [],
   "source": [
    "google_s2t_hyps_dev2 = pickle.load(open(\"./google/google_s2t_dev2_hyps.dict\", \"rb\"))\n",
    "google_hyp_dev2 = google_s2t_hyps_dev2['fisher_dev_r0']"
   ]
  },
  {
   "cell_type": "code",
   "execution_count": 32,
   "metadata": {},
   "outputs": [],
   "source": [
    "model_pred_files = {\n",
    "    \"2.5h\": \"experiments/nmt_asr/sp-2.5hrs_swbd1-train_nodev_ep25_baseline\",\n",
    "    \"2.5h+asr\": \"experiments/nmt_asr/sp-2.5hrs_swbd1-train_nodev_ep25\",\n",
    "    \"5h\": \"experiments/nmt_asr/sp-5hrs_swbd1-train100k_baseline\",\n",
    "    \"5h+asr\": \"experiments/nmt_asr/sp-5hrs_swbd1-train_nodev_ep25\",\n",
    "    \"10h\": \"interspeech_bpe/sp_20hrs_best_bn-nobias_batch-32_buck-n25-w80/\",\n",
    "    \"10h+asr\": \"experiments/nmt_asr/sp-10hrs_swbd1-train_nodev_ep25_enc-attn-dec\",\n",
    "    \"20h\": \"interspeech_bpe/sp_20hrs_best_bn-nobias_batch-32_buck-n25-w80/\",\n",
    "    \"20h+asr\": \"experiments/nmt_asr/sp-20hrs_swbd1-train-nodev_ep25_enc-attn-dec/\",\n",
    "    \"50h\": \"interspeech_bpe/sp_50hrs_best_bn-nobias_bucks-n25-w80_x0.2/\",\n",
    "    \"50h+asr\": \"experiments/nmt_asr/sp-50hrs_swbd1-train-nodev_ep25/\",\n",
    "#     \"160h\": \"interspeech_bpe/sp_160hrs_cnn-512-9-mfcc-13_drpt-0.3_l2e-4_rnn-3\"\n",
    "}\n",
    "\n",
    "dev_beam_fname = \"fisher_dev_beam_len-norm_min-0_max-300_N-5_K-5_W-0.6.en\"\n",
    "dev2_beam_fname = \"fisher_dev2_beam_len-norm_min-0_max-300_N-5_K-5_W-0.6.en\""
   ]
  },
  {
   "cell_type": "code",
   "execution_count": 33,
   "metadata": {},
   "outputs": [],
   "source": [
    "pred_dev_text = {}\n",
    "pred_dev2_text = {}\n",
    "for k, v in model_pred_files.items():\n",
    "    pred_dev_text[k] = {}\n",
    "    with open(os.path.join(v,dev_beam_fname), \"r\", encoding=\"utf-8\") as in_f:\n",
    "        for i, line in enumerate(in_f):\n",
    "            utt = dev_ids[i]\n",
    "            pred_dev_text[k][utt] = line.strip()\n",
    "    \n",
    "    pred_dev2_text[k] = {}\n",
    "    with open(os.path.join(v,dev2_beam_fname), \"r\", encoding=\"utf-8\") as in_f:\n",
    "        for i, line in enumerate(in_f):\n",
    "            utt = dev2_ids[i]\n",
    "            pred_dev2_text[k][utt] = line.strip()\n",
    "#         end for line\n",
    "#     end with open\n",
    "# end for"
   ]
  },
  {
   "cell_type": "code",
   "execution_count": 34,
   "metadata": {},
   "outputs": [],
   "source": [
    "pred_dev_text[\"Weiss\"] = {}\n",
    "for utt in dev_ids:\n",
    "    pred_dev_text[\"Weiss\"][utt] = \" \".join(google_hyp_dev[utt])\n",
    "\n",
    "pred_dev2_text[\"Weiss\"] = {}\n",
    "for utt in dev2_ids:\n",
    "    pred_dev2_text[\"Weiss\"][utt] = \" \".join(google_hyp_dev2[utt])"
   ]
  },
  {
   "cell_type": "markdown",
   "metadata": {},
   "source": [
    "### Evaluation"
   ]
  },
  {
   "cell_type": "code",
   "execution_count": 35,
   "metadata": {},
   "outputs": [
    {
     "name": "stderr",
     "output_type": "stream",
     "text": [
      "100%|█████████████████████████████████████████████████████████████████████████████| 3977/3977 [00:00<00:00, 6525.01it/s]\n",
      "100%|█████████████████████████████████████████████████████████████████████████████| 3959/3959 [00:00<00:00, 6980.10it/s]\n",
      "100%|█████████████████████████████████████████████████████████████████████████████| 3977/3977 [00:00<00:00, 6588.12it/s]\n",
      "100%|█████████████████████████████████████████████████████████████████████████████| 3959/3959 [00:00<00:00, 6485.48it/s]\n",
      "100%|█████████████████████████████████████████████████████████████████████████████| 3977/3977 [00:00<00:00, 7724.98it/s]\n",
      "100%|█████████████████████████████████████████████████████████████████████████████| 3959/3959 [00:00<00:00, 7421.03it/s]\n",
      "100%|█████████████████████████████████████████████████████████████████████████████| 3977/3977 [00:00<00:00, 6142.30it/s]\n",
      "100%|█████████████████████████████████████████████████████████████████████████████| 3959/3959 [00:00<00:00, 6129.89it/s]\n",
      "100%|█████████████████████████████████████████████████████████████████████████████| 3977/3977 [00:00<00:00, 6289.55it/s]\n",
      "100%|█████████████████████████████████████████████████████████████████████████████| 3959/3959 [00:00<00:00, 6243.23it/s]\n",
      "100%|█████████████████████████████████████████████████████████████████████████████| 3977/3977 [00:00<00:00, 6157.62it/s]\n",
      "100%|█████████████████████████████████████████████████████████████████████████████| 3959/3959 [00:00<00:00, 6189.82it/s]\n",
      "100%|█████████████████████████████████████████████████████████████████████████████| 3977/3977 [00:00<00:00, 6266.47it/s]\n",
      "100%|█████████████████████████████████████████████████████████████████████████████| 3959/3959 [00:00<00:00, 6287.20it/s]\n",
      "100%|█████████████████████████████████████████████████████████████████████████████| 3977/3977 [00:00<00:00, 5457.88it/s]\n",
      "100%|█████████████████████████████████████████████████████████████████████████████| 3959/3959 [00:00<00:00, 6082.24it/s]\n",
      "100%|█████████████████████████████████████████████████████████████████████████████| 3977/3977 [00:00<00:00, 6087.50it/s]\n",
      "100%|█████████████████████████████████████████████████████████████████████████████| 3959/3959 [00:00<00:00, 6142.96it/s]\n",
      "100%|█████████████████████████████████████████████████████████████████████████████| 3977/3977 [00:00<00:00, 5657.56it/s]\n",
      "100%|█████████████████████████████████████████████████████████████████████████████| 3959/3959 [00:00<00:00, 5932.34it/s]\n",
      "100%|█████████████████████████████████████████████████████████████████████████████| 3977/3977 [00:00<00:00, 5634.21it/s]\n",
      "100%|█████████████████████████████████████████████████████████████████████████████| 3959/3959 [00:00<00:00, 5624.29it/s]\n"
     ]
    }
   ],
   "source": [
    "topics_pred_dev_results = {}\n",
    "topics_pred_dev2_results = {}\n",
    "for k in pred_dev_text:\n",
    "    topics_pred_dev_results[k] = search_text(pred_dev_text[k], topics)\n",
    "    if k in pred_dev2_text:\n",
    "        topics_pred_dev2_results[k] = search_text(pred_dev2_text[k], topics)"
   ]
  },
  {
   "cell_type": "code",
   "execution_count": 36,
   "metadata": {},
   "outputs": [],
   "source": [
    "def compute_prec_recall(query_docs, pred_docs, set_key):\n",
    "    query_matches = {}\n",
    "    aggregate_results = {\"t\": 0, \"tp\": 0, \"tc\": 0}\n",
    "    for i, q in enumerate(query_docs):\n",
    "        pred_set = set(pred_docs[q])\n",
    "        query_matches[q] = {}\n",
    "        query_matches[q][\"t\"] = len(query_docs[q][set_key])\n",
    "        query_matches[q][\"tp\"] = len(pred_set)\n",
    "        query_matches[q][\"tc\"] = len(pred_set & query_docs[q][set_key])\n",
    "        query_matches[q][\"prec\"] = query_matches[q][\"tc\"] / query_matches[q][\"tp\"] if query_matches[q][\"tp\"] > 0 else 0\n",
    "        query_matches[q][\"rec\"] = query_matches[q][\"tc\"] / query_matches[q][\"t\"] if query_matches[q][\"t\"] > 0 else 0\n",
    "    \n",
    "    for q in query_matches:\n",
    "        for k in aggregate_results:\n",
    "            aggregate_results[k] += query_matches[q][k]\n",
    "            \n",
    "    aggregate_results[\"prec\"] = aggregate_results[\"tc\"] / aggregate_results[\"tp\"] if aggregate_results[\"tp\"] > 0 else 0\n",
    "    aggregate_results[\"rec\"] = aggregate_results[\"tc\"] / aggregate_results[\"t\"] if aggregate_results[\"t\"] > 0 else 0\n",
    "    \n",
    "    return query_matches, aggregate_results\n",
    "        "
   ]
  },
  {
   "cell_type": "code",
   "execution_count": 76,
   "metadata": {},
   "outputs": [],
   "source": [
    "def evaluate_preds(query_terms, eval_matches, set_key):\n",
    "    eval_results = {}\n",
    "    print(\"{0:10s} | {1:10s}% | {2:10s}%\".format(\"model\", \"precision\", \"recall\"))\n",
    "    for k in eval_matches:\n",
    "        eval_results[k] = {}\n",
    "        eval_results[k][\"query\"], eval_results[k][\"aggr\"] = compute_prec_recall(query_terms, eval_matches[k], set_key)\n",
    "        print(\"{0:10s} | {1:10.1f} | {2:10.1f}\".format(k, eval_results[k][\"aggr\"][\"prec\"]*100, eval_results[k][\"aggr\"][\"rec\"]*100))\n",
    "    return eval_results\n",
    "    "
   ]
  },
  {
   "cell_type": "code",
   "execution_count": 77,
   "metadata": {},
   "outputs": [
    {
     "name": "stdout",
     "output_type": "stream",
     "text": [
      "model      | precision % | recall    %\n",
      "2.5h       |        0.0 |        0.0\n",
      "2.5h+asr   |        7.1 |        9.2\n",
      "5h         |        0.0 |        0.0\n",
      "5h+asr     |       16.9 |       19.5\n",
      "10h        |       20.8 |       24.5\n",
      "10h+asr    |       24.9 |       34.5\n",
      "20h        |       20.8 |       24.5\n",
      "20h+asr    |       33.9 |       50.6\n",
      "50h        |       44.3 |       59.0\n",
      "50h+asr    |       44.7 |       66.3\n",
      "Weiss      |       60.2 |       91.6\n"
     ]
    }
   ],
   "source": [
    "topics_dev_eval = evaluate_preds(topic_query_terms, topics_pred_dev_results, \"dev\")"
   ]
  },
  {
   "cell_type": "code",
   "execution_count": 78,
   "metadata": {},
   "outputs": [
    {
     "name": "stdout",
     "output_type": "stream",
     "text": [
      "model      | precision % | recall    %\n",
      "2.5h       |        1.0 |        0.4\n",
      "2.5h+asr   |        6.1 |        7.9\n",
      "5h         |        0.0 |        0.0\n",
      "5h+asr     |       16.1 |       18.9\n",
      "10h        |       24.7 |       31.5\n",
      "10h+asr    |       29.8 |       40.9\n",
      "20h        |       24.7 |       31.5\n",
      "20h+asr    |       36.0 |       51.6\n",
      "50h        |       38.5 |       55.5\n",
      "50h+asr    |       44.0 |       64.6\n",
      "Weiss      |       56.2 |       87.8\n"
     ]
    }
   ],
   "source": [
    "topics_dev2_eval = evaluate_preds(topic_query_terms, topics_pred_dev2_results, \"dev2\")"
   ]
  },
  {
   "cell_type": "code",
   "execution_count": 37,
   "metadata": {},
   "outputs": [
    {
     "data": {
      "text/plain": [
       "dict_keys(['doctor', 'travel', 'juri', 'rate', 'job', 'interraci', 'breaking up', 'relationship', 'telemarket', 'spam', 'democraci', 'polic', 'republican', 'technical devic', 'violence against women', 'rent', 'medicin', 'alcohol', 'muslim', 'date', 'christian', 'jew', 'hous', 'memori', 'wage', 'united st', 'music', 'money', 'locat', 'protect', 'citi', 'health', 'incom', 'justic', 'home', 'govern', 'marriag', 'law', 'skill', 'women', 'countri', 'cellphon', 'welfar', 'e-mail', 'telemarketing and spam', 'dollar', 'polit', 'suburban', 'violenc', 'legal', 'race', 'crime', 'emot', 'european', 'illeg', 'event', 'movi', 'insur', 'sexual', 'lyric', 'phone', 'immigr', 'bubbl', 'televis', 'censor', 'program', 'religion', 'safe', 'peac', 'languag', 'cell phon', 'ad', 'spous', 'occup', 'abus', 'healthcar', 'economi', 'salari', 'cop', 'power', 'mobil', 'technolog', 'physic', 'democrat', 'life', 'communiti', 'equal', 'advertis', 'inequ', 'victim', 'biraci', 'class', 'cigarett', 'leadership'])"
      ]
     },
     "execution_count": 37,
     "metadata": {},
     "output_type": "execute_result"
    }
   ],
   "source": [
    "topics_pred_dev_results[\"20h+asr\"].keys()"
   ]
  },
  {
   "cell_type": "markdown",
   "metadata": {},
   "source": [
    "### Crisis words"
   ]
  },
  {
   "cell_type": "code",
   "execution_count": 87,
   "metadata": {},
   "outputs": [],
   "source": [
    "crisis_lex_fname = \"../criseslex/CrisisLexLexicon/CrisisLexRec.txt\""
   ]
  },
  {
   "cell_type": "code",
   "execution_count": 88,
   "metadata": {},
   "outputs": [],
   "source": [
    "crisis = set()\n",
    "with open(crises_lex_fname, \"r\") as in_f:\n",
    "    for line in in_f:\n",
    "        crisis.update(line.strip().split())\n",
    "crisis = list(crisis)\n",
    "crisis_stem = [stem(w) for w in crisis]"
   ]
  },
  {
   "cell_type": "code",
   "execution_count": 89,
   "metadata": {},
   "outputs": [
    {
     "data": {
      "text/plain": [
       "288"
      ]
     },
     "execution_count": 89,
     "metadata": {},
     "output_type": "execute_result"
    }
   ],
   "source": [
    "len(crisis_stem)"
   ]
  },
  {
   "cell_type": "code",
   "execution_count": 91,
   "metadata": {},
   "outputs": [
    {
     "name": "stderr",
     "output_type": "stream",
     "text": [
      "100%|█████████████████████████████████████████████████████████████████████████| 138819/138819 [00:24<00:00, 5579.66it/s]\n"
     ]
    }
   ],
   "source": [
    "crisis_train_query_results = search_text(train_text, crisis)"
   ]
  },
  {
   "cell_type": "code",
   "execution_count": 92,
   "metadata": {
    "collapsed": true
   },
   "outputs": [
    {
     "name": "stderr",
     "output_type": "stream",
     "text": [
      "100%|█████████████████████████████████████████████████████████████████████████████| 3979/3979 [00:00<00:00, 5850.64it/s]\n",
      "100%|█████████████████████████████████████████████████████████████████████████████| 3979/3979 [00:00<00:00, 5861.59it/s]\n",
      "100%|█████████████████████████████████████████████████████████████████████████████| 3979/3979 [00:00<00:00, 5852.02it/s]\n",
      "100%|█████████████████████████████████████████████████████████████████████████████| 3979/3979 [00:00<00:00, 5764.79it/s]\n"
     ]
    }
   ],
   "source": [
    "crisis_dev_query_results = []\n",
    "for i in range(4):\n",
    "    crisis_dev_query_results.append(search_text(dev_text[i], crisis))    "
   ]
  },
  {
   "cell_type": "code",
   "execution_count": 93,
   "metadata": {
    "collapsed": true
   },
   "outputs": [
    {
     "name": "stderr",
     "output_type": "stream",
     "text": [
      "100%|█████████████████████████████████████████████████████████████████████████████| 3961/3961 [00:00<00:00, 5814.70it/s]\n",
      "100%|█████████████████████████████████████████████████████████████████████████████| 3961/3961 [00:00<00:00, 5826.08it/s]\n",
      "100%|█████████████████████████████████████████████████████████████████████████████| 3961/3961 [00:00<00:00, 5887.33it/s]\n",
      "100%|█████████████████████████████████████████████████████████████████████████████| 3961/3961 [00:00<00:00, 5925.61it/s]\n"
     ]
    }
   ],
   "source": [
    "crisis_dev2_query_results = []\n",
    "for i in range(4):\n",
    "    crisis_dev2_query_results.append(search_text(dev2_text[i], crisis))    "
   ]
  },
  {
   "cell_type": "code",
   "execution_count": 94,
   "metadata": {},
   "outputs": [],
   "source": [
    "crisis_dev_common = get_common_ref_queries(crisis_dev_query_results)"
   ]
  },
  {
   "cell_type": "code",
   "execution_count": 95,
   "metadata": {},
   "outputs": [],
   "source": [
    "crisis_dev2_common = get_common_ref_queries(crisis_dev2_query_results)"
   ]
  },
  {
   "cell_type": "code",
   "execution_count": 102,
   "metadata": {},
   "outputs": [
    {
     "name": "stdout",
     "output_type": "stream",
     "text": [
      "    # -- query      | dev count  | dev2_count | train count\n",
      "    1 -- love       |         19 |          5 |        879\n",
      "    2 -- case       |          3 |          1 |        605\n",
      "    3 -- name       |         23 |         27 |       1150\n",
      "    4 -- accept     |          2 |          0 |        205\n",
      "    5 -- die        |          4 |          4 |        282\n",
      "    6 -- second     |          4 |          8 |        267\n",
      "    7 -- number     |          3 |         10 |        356\n",
      "    8 -- anoth      |          9 |          8 |       1215\n",
      "    9 -- wait       |         15 |          4 |        363\n",
      "   10 -- free       |          5 |          5 |        263\n",
      "   11 -- girl       |         12 |          9 |        748\n",
      "   12 -- black      |          6 |          2 |        269\n",
      "   13 -- death      |          3 |          0 |         45\n",
      "   14 -- thousand   |          6 |          8 |        454\n",
      "   15 -- chang      |         21 |          8 |        785\n",
      "   16 -- lost       |          2 |          4 |        179\n",
      "   17 -- hous       |         19 |         10 |       1380\n",
      "   18 -- thought    |          5 |          9 |        470\n",
      "   19 -- rememb     |         15 |         17 |        868\n",
      "   20 -- send       |         16 |         25 |        439\n",
      "   21 -- surviv     |          4 |          0 |         41\n",
      "   22 -- terribl    |          5 |          1 |        277\n",
      "   23 -- heart      |          6 |          1 |         60\n",
      "   24 -- break      |          4 |          1 |        313\n",
      "   25 -- home       |          7 |         12 |        555\n",
      "   26 -- govern     |          8 |          9 |        357\n",
      "   27 -- rain       |          2 |          4 |        126\n",
      "   28 -- leav       |          5 |         10 |        533\n",
      "   29 -- kill       |         10 |          3 |        260\n",
      "   30 -- someon     |         10 |          8 |       1014\n",
      "   31 -- first      |         14 |         11 |        939\n",
      "   32 -- women      |          3 |          6 |        542\n",
      "   33 -- pleas      |          2 |          3 |        106\n",
      "   34 -- text       |          3 |          2 |         22\n",
      "   35 -- water      |          3 |          1 |        138\n",
      "   36 -- news       |          8 |          3 |        187\n",
      "   37 -- get        |         16 |         19 |       3428\n",
      "   38 -- respons    |          6 |          3 |        107\n",
      "   39 -- morn       |          6 |          2 |        194\n",
      "   40 -- assist     |          3 |          0 |         61\n",
      "   41 -- bodi       |          2 |          3 |         69\n",
      "   42 -- teenag     |          2 |          2 |         53\n",
      "   43 -- stay       |          9 |          3 |        657\n",
      "   44 -- come       |         14 |          8 |       1774\n",
      "   45 -- make       |          4 |         12 |       1491\n",
      "   46 -- visit      |         10 |          2 |        349\n",
      "   47 -- even       |          9 |         20 |       1873\n",
      "   48 -- watch      |          9 |          4 |        600\n",
      "   49 -- miss       |          5 |          2 |        226\n",
      "   50 -- public     |          3 |          2 |        211\n",
      "   51 -- situat     |          4 |          3 |        473\n",
      "   52 -- give       |         11 |         17 |       1308\n",
      "   53 -- high       |          5 |          5 |        266\n",
      "   54 -- find       |          5 |          9 |       1049\n",
      "   55 -- need       |         16 |         11 |        982\n",
      "   56 -- fear       |          3 |          0 |         50\n",
      "   57 -- found      |          3 |          0 |        300\n",
      "   58 -- brought    |          4 |          1 |         98\n",
      "   59 -- servic     |          6 |          7 |        227\n",
      "   60 -- hundr      |          3 |          7 |        561\n",
      "   61 -- life       |         20 |         14 |        934\n",
      "   62 -- communiti  |          2 |          4 |        105\n",
      "   63 -- town       |          3 |          4 |        179\n"
     ]
    }
   ],
   "source": [
    "crisis_query_terms = get_query_terms_thresh(crisis_train_query_results, \n",
    "                                           crisis_dev_common, crisis_dev2_common, 2, 30)"
   ]
  },
  {
   "cell_type": "code",
   "execution_count": 103,
   "metadata": {
    "scrolled": true
   },
   "outputs": [
    {
     "name": "stdout",
     "output_type": "stream",
     "text": [
      "57\n",
      "403\n"
     ]
    }
   ],
   "source": [
    "print(sum([1 if len(d[\"dev2\"]) > 0 else 0 for d in crisis_query_terms.values()]))\n",
    "print(np.sum([len(d[\"dev2\"]) for d in crisis_query_terms.values()]))"
   ]
  },
  {
   "cell_type": "code",
   "execution_count": 105,
   "metadata": {
    "collapsed": true
   },
   "outputs": [
    {
     "name": "stderr",
     "output_type": "stream",
     "text": [
      "100%|█████████████████████████████████████████████████████████████████████████████| 3977/3977 [00:00<00:00, 6253.43it/s]\n",
      "100%|█████████████████████████████████████████████████████████████████████████████| 3959/3959 [00:00<00:00, 7020.55it/s]\n",
      "100%|█████████████████████████████████████████████████████████████████████████████| 3977/3977 [00:00<00:00, 6609.46it/s]\n",
      "100%|█████████████████████████████████████████████████████████████████████████████| 3959/3959 [00:00<00:00, 6518.22it/s]\n",
      "100%|█████████████████████████████████████████████████████████████████████████████| 3977/3977 [00:00<00:00, 7698.82it/s]\n",
      "100%|█████████████████████████████████████████████████████████████████████████████| 3959/3959 [00:00<00:00, 7467.92it/s]\n",
      "100%|█████████████████████████████████████████████████████████████████████████████| 3977/3977 [00:00<00:00, 6175.67it/s]\n",
      "100%|█████████████████████████████████████████████████████████████████████████████| 3959/3959 [00:00<00:00, 6137.65it/s]\n",
      "100%|█████████████████████████████████████████████████████████████████████████████| 3977/3977 [00:00<00:00, 6332.62it/s]\n",
      "100%|█████████████████████████████████████████████████████████████████████████████| 3959/3959 [00:00<00:00, 6301.90it/s]\n",
      "100%|█████████████████████████████████████████████████████████████████████████████| 3977/3977 [00:00<00:00, 6234.77it/s]\n",
      "100%|█████████████████████████████████████████████████████████████████████████████| 3959/3959 [00:00<00:00, 6215.32it/s]\n",
      "100%|█████████████████████████████████████████████████████████████████████████████| 3977/3977 [00:00<00:00, 5979.45it/s]\n",
      "100%|█████████████████████████████████████████████████████████████████████████████| 3959/3959 [00:00<00:00, 6299.12it/s]\n",
      "100%|█████████████████████████████████████████████████████████████████████████████| 3977/3977 [00:00<00:00, 6088.93it/s]\n",
      "100%|█████████████████████████████████████████████████████████████████████████████| 3959/3959 [00:00<00:00, 6032.28it/s]\n",
      "100%|█████████████████████████████████████████████████████████████████████████████| 3977/3977 [00:00<00:00, 6108.86it/s]\n",
      "100%|█████████████████████████████████████████████████████████████████████████████| 3959/3959 [00:00<00:00, 6119.95it/s]\n",
      "100%|█████████████████████████████████████████████████████████████████████████████| 3977/3977 [00:00<00:00, 5887.76it/s]\n",
      "100%|█████████████████████████████████████████████████████████████████████████████| 3959/3959 [00:00<00:00, 5932.12it/s]\n",
      "100%|█████████████████████████████████████████████████████████████████████████████| 3977/3977 [00:00<00:00, 5682.91it/s]\n",
      "100%|█████████████████████████████████████████████████████████████████████████████| 3959/3959 [00:00<00:00, 5692.32it/s]\n"
     ]
    }
   ],
   "source": [
    "crisis_pred_dev_results = {}\n",
    "crisis_pred_dev2_results = {}\n",
    "for k in pred_dev_text:\n",
    "    crisis_pred_dev_results[k] = search_text(pred_dev_text[k], crisis)\n",
    "    if k in pred_dev2_text:\n",
    "        crisis_pred_dev2_results[k] = search_text(pred_dev2_text[k], crisis)"
   ]
  },
  {
   "cell_type": "code",
   "execution_count": 106,
   "metadata": {},
   "outputs": [
    {
     "name": "stdout",
     "output_type": "stream",
     "text": [
      "model      | precision % | recall    %\n",
      "2.5h       |        1.0 |        0.2\n",
      "2.5h+asr   |        5.4 |        4.9\n",
      "5h         |        3.8 |        0.4\n",
      "5h+asr     |       10.3 |       10.7\n",
      "10h        |       16.5 |       12.2\n",
      "10h+asr    |       18.5 |       21.7\n",
      "20h        |       16.5 |       12.2\n",
      "20h+asr    |       25.6 |       32.2\n",
      "50h        |       30.7 |       40.1\n",
      "50h+asr    |       35.4 |       48.8\n",
      "Weiss      |       42.8 |       78.0\n"
     ]
    }
   ],
   "source": [
    "crisis_dev_eval = evaluate_preds(crisis_query_terms, crisis_pred_dev_results, \"dev\")"
   ]
  },
  {
   "cell_type": "code",
   "execution_count": 107,
   "metadata": {},
   "outputs": [
    {
     "name": "stdout",
     "output_type": "stream",
     "text": [
      "model      | precision % | recall    %\n",
      "2.5h       |        0.9 |        0.2\n",
      "2.5h+asr   |        4.2 |        4.7\n",
      "5h         |        2.0 |        0.2\n",
      "5h+asr     |        9.2 |       12.7\n",
      "10h        |       14.1 |       12.7\n",
      "10h+asr    |       16.9 |       21.1\n",
      "20h        |       14.1 |       12.7\n",
      "20h+asr    |       23.9 |       32.3\n",
      "50h        |       27.4 |       38.2\n",
      "50h+asr    |       31.4 |       47.1\n",
      "Weiss      |       36.3 |       75.2\n"
     ]
    }
   ],
   "source": [
    "crisis_dev2_eval = evaluate_preds(crisis_query_terms, crisis_pred_dev2_results, \"dev2\")"
   ]
  },
  {
   "cell_type": "code",
   "execution_count": 108,
   "metadata": {},
   "outputs": [
    {
     "data": {
      "text/plain": [
       "dict_keys(['love', 'bomb', 'case', 'arrest', 'explos', 'report', 'amaz', 'flash', 'name', 'say', 'militari', 'nurs', 'respond', 'dead', 'effect', 'confirm', 'accept', 'effort', 'shot', 'stream', 'aftermath', 'launch', 'unfold', 'recov', 'donat', 'neglig', 'imag', 'buri', 'huge', 'blast', 'die', 'path', 'cleanup', 'hotlin', 'flood', 'cost', 'affect', 'tragic', 'second', 'terrifi', 'suppli', 'alert', 'twister', 'polic', 'number', 'anoth', 'wait', 'surg', 'injuri', 'free', 'lend', 'onlin', 'girl', 'black', 'death', 'homeown', 'txting', 'video', 'inund', 'thousand', 'chang', 'lost', 'devast', 'unaccount', 'cross', 'regist', 'hous', 'bushfir', 'tonight', 'memori', 'resid', 'thought', 'massiv', 'offic', 'prepar', 'run', 'want', 'rememb', 'dozen', 'evacue', 'recoveri', 'leg', 'send', 'deepen', 'citi', 'relief', 'surviv', 'join', 'reconnect', 'retweet', 'risk', 'terribl', 'heart', 'financi', 'magnitud', 'break', 'home', 'govern', 'million', 'time', 'reced', 'floodwat', 'rain', 'major', 'leav', 'entir', 'dare', 'brace', 'photo', 'troop', 'larg', 'kill', 'someon', 'first', 'wit', 'tragedi', 'safeti', 'toxin', 'women', 'face', 'disast', 'pleas', 'live', 'text', 'fertilis', 'oppos', 'water', 'rise', 'rescuer', 'eastern', 'news', 'sadden', 'suspect', 'casualti', 'emerg', 'reel', 'torrenti', 'get', 'prayer', 'categori', 'famili', 'return', 'storm', 'respons', 'appeal', 'loss', 'threat', 'redcross', 'year', 'morn', 'survivor', 'river', 'crowd', 'ravag', 'dramat', 'fertil', 'medic', 'attack', 'claim', 'fire', 'involv', 'rip', 'footag', 'event', 'assist', 'releas', 'sever', 'identifi', 'aliv', 'bodi', 'examin', 'hit', 'author', 'climat', 'teenag', 'fatal', 'follow', 'enforc', 'levi', 'stay', 'rescu', 'destruct', 'come', 'terror', 'worsen', 'count', 'firefight', 'make', 'trap', 'crisi', 'visit', 'help', 'marathon', 'shock', 'bomber', 'toll', 'area', 'safe', 'coverag', 'evacu', 'volunt', 'even', 'soldier', 'watch', 'miss', 'public', 'peopl', 'peak', 'situat', 'pin', 'offici', 'give', 'warn', 'high', 'find', 'hoist', 'need', 'rubbl', 'tornado', 'caught', 'hurrican', 'power', 'rebuilt', 'landfal', 'lurch', 'fear', 'pray', 'destroy', 'deal', 'found', 'brought', 'scari', 'servic', 'manhunt', 'fighter', 'displac', 'hundr', 'injur', 'captur', 'unknown', 'life', 'fund', 'communiti', 'immin', 'investig', 'seismic', 'rebuild', 'strong', 'damag', 'victim', 'town', 'forc', 'impact', 'vote', 'coast'])"
      ]
     },
     "execution_count": 108,
     "metadata": {},
     "output_type": "execute_result"
    }
   ],
   "source": [
    "crisis_pred_dev_results[\"20h+asr\"].keys()"
   ]
  },
  {
   "cell_type": "code",
   "execution_count": 111,
   "metadata": {},
   "outputs": [
    {
     "data": {
      "text/plain": [
       "{'aggr': {'prec': 0.3140495867768595,\n",
       "  'rec': 0.47146401985111663,\n",
       "  't': 403,\n",
       "  'tc': 190,\n",
       "  'tp': 605},\n",
       " 'query': {'accept': {'prec': 0.0, 'rec': 0, 't': 0, 'tc': 0, 'tp': 5},\n",
       "  'anoth': {'prec': 0.14814814814814814,\n",
       "   'rec': 0.5,\n",
       "   't': 8,\n",
       "   'tc': 4,\n",
       "   'tp': 27},\n",
       "  'assist': {'prec': 0, 'rec': 0, 't': 0, 'tc': 0, 'tp': 0},\n",
       "  'black': {'prec': 0.5, 'rec': 1.0, 't': 2, 'tc': 2, 'tp': 4},\n",
       "  'bodi': {'prec': 0, 'rec': 0.0, 't': 3, 'tc': 0, 'tp': 0},\n",
       "  'break': {'prec': 0.0, 'rec': 0.0, 't': 1, 'tc': 0, 'tp': 1},\n",
       "  'brought': {'prec': 0.0, 'rec': 0.0, 't': 1, 'tc': 0, 'tp': 1},\n",
       "  'case': {'prec': 0.08333333333333333, 'rec': 1.0, 't': 1, 'tc': 1, 'tp': 12},\n",
       "  'chang': {'prec': 0.35294117647058826,\n",
       "   'rec': 0.75,\n",
       "   't': 8,\n",
       "   'tc': 6,\n",
       "   'tp': 17},\n",
       "  'come': {'prec': 0.1111111111111111, 'rec': 0.25, 't': 8, 'tc': 2, 'tp': 18},\n",
       "  'communiti': {'prec': 1.0, 'rec': 0.75, 't': 4, 'tc': 3, 'tp': 3},\n",
       "  'death': {'prec': 0, 'rec': 0, 't': 0, 'tc': 0, 'tp': 0},\n",
       "  'die': {'prec': 0.5, 'rec': 0.25, 't': 4, 'tc': 1, 'tp': 2},\n",
       "  'even': {'prec': 0.2727272727272727,\n",
       "   'rec': 0.45,\n",
       "   't': 20,\n",
       "   'tc': 9,\n",
       "   'tp': 33},\n",
       "  'fear': {'prec': 0, 'rec': 0, 't': 0, 'tc': 0, 'tp': 0},\n",
       "  'find': {'prec': 0.2608695652173913,\n",
       "   'rec': 0.6666666666666666,\n",
       "   't': 9,\n",
       "   'tc': 6,\n",
       "   'tp': 23},\n",
       "  'first': {'prec': 0.75,\n",
       "   'rec': 0.8181818181818182,\n",
       "   't': 11,\n",
       "   'tc': 9,\n",
       "   'tp': 12},\n",
       "  'found': {'prec': 0.0, 'rec': 0, 't': 0, 'tc': 0, 'tp': 2},\n",
       "  'free': {'prec': 0.2857142857142857, 'rec': 0.4, 't': 5, 'tc': 2, 'tp': 7},\n",
       "  'get': {'prec': 0.05357142857142857,\n",
       "   'rec': 0.15789473684210525,\n",
       "   't': 19,\n",
       "   'tc': 3,\n",
       "   'tp': 56},\n",
       "  'girl': {'prec': 0.2857142857142857,\n",
       "   'rec': 0.4444444444444444,\n",
       "   't': 9,\n",
       "   'tc': 4,\n",
       "   'tp': 14},\n",
       "  'give': {'prec': 0.15789473684210525,\n",
       "   'rec': 0.17647058823529413,\n",
       "   't': 17,\n",
       "   'tc': 3,\n",
       "   'tp': 19},\n",
       "  'govern': {'prec': 0.4166666666666667,\n",
       "   'rec': 0.5555555555555556,\n",
       "   't': 9,\n",
       "   'tc': 5,\n",
       "   'tp': 12},\n",
       "  'heart': {'prec': 0, 'rec': 0.0, 't': 1, 'tc': 0, 'tp': 0},\n",
       "  'high': {'prec': 0.3333333333333333, 'rec': 0.4, 't': 5, 'tc': 2, 'tp': 6},\n",
       "  'home': {'prec': 0.4, 'rec': 0.16666666666666666, 't': 12, 'tc': 2, 'tp': 5},\n",
       "  'hous': {'prec': 0.23684210526315788,\n",
       "   'rec': 0.9,\n",
       "   't': 10,\n",
       "   'tc': 9,\n",
       "   'tp': 38},\n",
       "  'hundr': {'prec': 0.3333333333333333,\n",
       "   'rec': 0.42857142857142855,\n",
       "   't': 7,\n",
       "   'tc': 3,\n",
       "   'tp': 9},\n",
       "  'kill': {'prec': 0.25, 'rec': 0.3333333333333333, 't': 3, 'tc': 1, 'tp': 4},\n",
       "  'leav': {'prec': 0.4, 'rec': 0.2, 't': 10, 'tc': 2, 'tp': 5},\n",
       "  'life': {'prec': 0.4,\n",
       "   'rec': 0.8571428571428571,\n",
       "   't': 14,\n",
       "   'tc': 12,\n",
       "   'tp': 30},\n",
       "  'lost': {'prec': 0.0, 'rec': 0.0, 't': 4, 'tc': 0, 'tp': 3},\n",
       "  'love': {'prec': 0.13333333333333333, 'rec': 0.4, 't': 5, 'tc': 2, 'tp': 15},\n",
       "  'make': {'prec': 0.25,\n",
       "   'rec': 0.16666666666666666,\n",
       "   't': 12,\n",
       "   'tc': 2,\n",
       "   'tp': 8},\n",
       "  'miss': {'prec': 0.0, 'rec': 0.0, 't': 2, 'tc': 0, 'tp': 4},\n",
       "  'morn': {'prec': 0.2222222222222222, 'rec': 1.0, 't': 2, 'tc': 2, 'tp': 9},\n",
       "  'name': {'prec': 0.6666666666666666,\n",
       "   'rec': 0.6666666666666666,\n",
       "   't': 27,\n",
       "   'tc': 18,\n",
       "   'tp': 27},\n",
       "  'need': {'prec': 0.5555555555555556,\n",
       "   'rec': 0.9090909090909091,\n",
       "   't': 11,\n",
       "   'tc': 10,\n",
       "   'tp': 18},\n",
       "  'news': {'prec': 1.0, 'rec': 1.0, 't': 3, 'tc': 3, 'tp': 3},\n",
       "  'number': {'prec': 0.8, 'rec': 0.8, 't': 10, 'tc': 8, 'tp': 10},\n",
       "  'pleas': {'prec': 0, 'rec': 0.0, 't': 3, 'tc': 0, 'tp': 0},\n",
       "  'public': {'prec': 0.0, 'rec': 0.0, 't': 2, 'tc': 0, 'tp': 1},\n",
       "  'rain': {'prec': 0.6666666666666666, 'rec': 0.5, 't': 4, 'tc': 2, 'tp': 3},\n",
       "  'rememb': {'prec': 0.5416666666666666,\n",
       "   'rec': 0.7647058823529411,\n",
       "   't': 17,\n",
       "   'tc': 13,\n",
       "   'tp': 24},\n",
       "  'respons': {'prec': 0.75, 'rec': 1.0, 't': 3, 'tc': 3, 'tp': 4},\n",
       "  'second': {'prec': 0.5384615384615384,\n",
       "   'rec': 0.875,\n",
       "   't': 8,\n",
       "   'tc': 7,\n",
       "   'tp': 13},\n",
       "  'send': {'prec': 0.5, 'rec': 0.24, 't': 25, 'tc': 6, 'tp': 12},\n",
       "  'servic': {'prec': 0.5, 'rec': 0.5714285714285714, 't': 7, 'tc': 4, 'tp': 8},\n",
       "  'situat': {'prec': 0.6666666666666666,\n",
       "   'rec': 0.6666666666666666,\n",
       "   't': 3,\n",
       "   'tc': 2,\n",
       "   'tp': 3},\n",
       "  'someon': {'prec': 0.09090909090909091,\n",
       "   'rec': 0.25,\n",
       "   't': 8,\n",
       "   'tc': 2,\n",
       "   'tp': 22},\n",
       "  'stay': {'prec': 0.125, 'rec': 0.3333333333333333, 't': 3, 'tc': 1, 'tp': 8},\n",
       "  'surviv': {'prec': 0, 'rec': 0, 't': 0, 'tc': 0, 'tp': 0},\n",
       "  'teenag': {'prec': 0, 'rec': 0.0, 't': 2, 'tc': 0, 'tp': 0},\n",
       "  'terribl': {'prec': 0.2, 'rec': 1.0, 't': 1, 'tc': 1, 'tp': 5},\n",
       "  'text': {'prec': 0, 'rec': 0.0, 't': 2, 'tc': 0, 'tp': 0},\n",
       "  'thought': {'prec': 0.6666666666666666,\n",
       "   'rec': 0.2222222222222222,\n",
       "   't': 9,\n",
       "   'tc': 2,\n",
       "   'tp': 3},\n",
       "  'thousand': {'prec': 0.18181818181818182,\n",
       "   'rec': 0.25,\n",
       "   't': 8,\n",
       "   'tc': 2,\n",
       "   'tp': 11},\n",
       "  'town': {'prec': 1.0, 'rec': 0.5, 't': 4, 'tc': 2, 'tp': 2},\n",
       "  'visit': {'prec': 0.3333333333333333, 'rec': 1.0, 't': 2, 'tc': 2, 'tp': 6},\n",
       "  'wait': {'prec': 0.14285714285714285, 'rec': 0.25, 't': 4, 'tc': 1, 'tp': 7},\n",
       "  'watch': {'prec': 0.0, 'rec': 0.0, 't': 4, 'tc': 0, 'tp': 6},\n",
       "  'water': {'prec': 1.0, 'rec': 1.0, 't': 1, 'tc': 1, 'tp': 1},\n",
       "  'women': {'prec': 0.75, 'rec': 0.5, 't': 6, 'tc': 3, 'tp': 4}}}"
      ]
     },
     "execution_count": 111,
     "metadata": {},
     "output_type": "execute_result"
    }
   ],
   "source": [
    "crisis_dev2_eval[\"50h+asr\"]"
   ]
  },
  {
   "cell_type": "code",
   "execution_count": null,
   "metadata": {},
   "outputs": [],
   "source": []
  }
 ],
 "metadata": {
  "kernelspec": {
   "display_name": "Python 3",
   "language": "python",
   "name": "python3"
  },
  "language_info": {
   "codemirror_mode": {
    "name": "ipython",
    "version": 3
   },
   "file_extension": ".py",
   "mimetype": "text/x-python",
   "name": "python",
   "nbconvert_exporter": "python",
   "pygments_lexer": "ipython3",
   "version": "3.6.3"
  }
 },
 "nbformat": 4,
 "nbformat_minor": 2
}
