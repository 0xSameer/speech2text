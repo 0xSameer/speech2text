{
 "cells": [
  {
   "cell_type": "code",
   "execution_count": 1,
   "metadata": {},
   "outputs": [],
   "source": [
    "import nltk\n",
    "from nltk.translate.bleu_score import sentence_bleu, corpus_bleu, modified_precision\n",
    "from nltk.translate.chrf_score import sentence_chrf, corpus_chrf\n",
    "from nltk.metrics import scores\n",
    "import scipy.io.wavfile\n",
    "from IPython.display import Audio\n",
    "from IPython.display import display\n",
    "from nltk.stem import *\n",
    "# from nltk.stem.snowball import SnowballStemmer\n",
    "from stemming.porter2 import stem\n",
    "import stemming\n",
    "from nltk.metrics.scores import recall\n",
    "\n",
    "from nltk.corpus import stopwords\n",
    "\n",
    "%matplotlib inline"
   ]
  },
  {
   "cell_type": "code",
   "execution_count": 2,
   "metadata": {},
   "outputs": [],
   "source": [
    "from nmt_run import *"
   ]
  },
  {
   "cell_type": "code",
   "execution_count": 3,
   "metadata": {},
   "outputs": [],
   "source": [
    "%run utils.ipynb"
   ]
  },
  {
   "cell_type": "code",
   "execution_count": 4,
   "metadata": {},
   "outputs": [],
   "source": [
    "smooth_fun = nltk.translate.bleu_score.SmoothingFunction()"
   ]
  },
  {
   "cell_type": "code",
   "execution_count": 5,
   "metadata": {},
   "outputs": [
    {
     "name": "stdout",
     "output_type": "stream",
     "text": [
      "eval refs found, loading\n"
     ]
    }
   ],
   "source": [
    "google_s2t_hyps, google_s2t_refs, google_s2t_refs_for_eval = get_google_data()\n",
    "google_hyp_r0 = google_s2t_hyps['fisher_dev_r0']\n",
    "google_dev_ref_0 = google_s2t_refs['fisher_dev_ref_0']"
   ]
  },
  {
   "cell_type": "code",
   "execution_count": 89,
   "metadata": {},
   "outputs": [],
   "source": [
    "# model_names = {\n",
    "#     \"simple\": \"emb_sp2enw/sp_0.33_seed-AA\",\n",
    "#     \"sample_mix\": \"emb_sp2enw/sp_0.33_seed-AA_mix-0.5/\",\n",
    "# }"
   ]
  },
  {
   "cell_type": "code",
   "execution_count": 118,
   "metadata": {},
   "outputs": [],
   "source": [
    "# model_names = {\n",
    "#     \"simple\": \"sp2enw_mel-80_vocab-nltk/sp_0.50_h-300_e-128_l2e-6_lstm_drpt-0.5_cnn-64-2-2_rnn-3_b-80-25_no-bn-ln\",\n",
    "#     \"sample_mix\": \"sp2enw_mel-80_vocab-nltk/sp_0.50_h-300_e-128_l2e-6_lstm_drpt-0.5_cnn-64-2-2_rnn-3_b-80-25_no-bn-ln_sample/\",\n",
    "# }"
   ]
  },
  {
   "cell_type": "code",
   "execution_count": 119,
   "metadata": {},
   "outputs": [],
   "source": [
    "model_names = {\n",
    "    \"simple\": \"sp2enw_mel-80_vocab-nltk/sp_0.33_h-300_e-128_l2e-6_lstm_drpt-0.5_cnn-64-2-2_rnn-3_b-80-25_no-bn-ln\",\n",
    "    \"sample_mix\": \"sp2enw_mel-80_vocab-nltk/sp_0.33_h-300_e-128_l2e-6_lstm_drpt-0.5_cnn-64-2-2_rnn-3_b-80-25_no-bn-ln_sample\",\n",
    "}"
   ]
  },
  {
   "cell_type": "code",
   "execution_count": 120,
   "metadata": {},
   "outputs": [],
   "source": [
    "model_data = {}\n",
    "for m, m_loc in model_names.items():\n",
    "    model_data[m] ={\"refs\": {}, \"hyps\": {}, \"refs_eval\": {}, \"log_train\": [], \"log_dev\": []}\n",
    "    model_data[m][\"refs\"] = pickle.load(open(os.path.join(m_loc, \"model_s2t_refs.dict\"), \"rb\"))\n",
    "    model_data[m][\"hyps\"] = pickle.load(open(os.path.join(m_loc, \"model_s2t_hyps.dict\"), \"rb\"))\n",
    "    model_data[m][\"refs_eval\"] = pickle.load(open(os.path.join(m_loc, \"model_s2t_refs_for_eval.dict\"), \"rb\"))\n",
    "    model_data[m][\"log_train\"] = np.loadtxt(os.path.join(m_loc, \"train.log\"), delimiter=',', skiprows=False).transpose()\n",
    "    model_data[m][\"log_dev\"] = np.genfromtxt(os.path.join(m_loc, \"dev.log\"), delimiter=',', usecols = (0,1,2)).transpose()"
   ]
  },
  {
   "cell_type": "code",
   "execution_count": 121,
   "metadata": {},
   "outputs": [
    {
     "data": {
      "text/plain": [
       "[['good', 'afternoon'],\n",
       " ['good', 'afternoon'],\n",
       " ['good', 'afternoon'],\n",
       " ['good', 'afternoon']]"
      ]
     },
     "execution_count": 121,
     "metadata": {},
     "output_type": "execute_result"
    }
   ],
   "source": [
    "model_data[\"sample_mix\"][\"refs_eval\"]['20051009_182032_217_fsp-A-1']"
   ]
  },
  {
   "cell_type": "code",
   "execution_count": 122,
   "metadata": {},
   "outputs": [
    {
     "data": {
      "text/plain": [
       "['good', 'afternoon']"
      ]
     },
     "execution_count": 122,
     "metadata": {},
     "output_type": "execute_result"
    }
   ],
   "source": [
    "model_data[\"sample_mix\"][\"refs\"]['20051009_182032_217_fsp-A-1']"
   ]
  },
  {
   "cell_type": "code",
   "execution_count": 123,
   "metadata": {},
   "outputs": [
    {
     "data": {
      "text/plain": [
       "['good', 'afternoon']"
      ]
     },
     "execution_count": 123,
     "metadata": {},
     "output_type": "execute_result"
    }
   ],
   "source": [
    "model_data[\"sample_mix\"][\"hyps\"]['20051009_182032_217_fsp-A-1']"
   ]
  },
  {
   "cell_type": "code",
   "execution_count": 124,
   "metadata": {},
   "outputs": [
    {
     "data": {
      "text/plain": [
       "0.7071067811865476"
      ]
     },
     "execution_count": 124,
     "metadata": {},
     "output_type": "execute_result"
    }
   ],
   "source": [
    "nltk.translate.bleu_score.sentence_bleu(model_data[\"sample_mix\"][\"refs_eval\"]['20051009_182032_217_fsp-A-1'],\n",
    "                                       model_data[\"sample_mix\"][\"hyps\"]['20051009_182032_217_fsp-A-1'],\n",
    "                                       smoothing_function=smooth_fun.method2)"
   ]
  },
  {
   "cell_type": "code",
   "execution_count": 125,
   "metadata": {},
   "outputs": [
    {
     "data": {
      "text/plain": [
       "0.7071067811865476"
      ]
     },
     "execution_count": 125,
     "metadata": {},
     "output_type": "execute_result"
    }
   ],
   "source": [
    "nltk.translate.bleu_score.sentence_bleu(model_data[\"simple\"][\"refs_eval\"]['20051009_182032_217_fsp-A-1'],\n",
    "                                       model_data[\"simple\"][\"hyps\"]['20051009_182032_217_fsp-A-1'],\n",
    "                                       smoothing_function=smooth_fun.method2)"
   ]
  },
  {
   "cell_type": "code",
   "execution_count": 126,
   "metadata": {},
   "outputs": [],
   "source": [
    "all_dev_utts= set(model_data[\"sample_mix\"][\"refs_eval\"].keys()) & set(model_data[\"simple\"][\"refs_eval\"].keys())"
   ]
  },
  {
   "cell_type": "code",
   "execution_count": 127,
   "metadata": {},
   "outputs": [
    {
     "data": {
      "text/plain": [
       "3977"
      ]
     },
     "execution_count": 127,
     "metadata": {},
     "output_type": "execute_result"
    }
   ],
   "source": [
    "len(all_dev_utts)"
   ]
  },
  {
   "cell_type": "markdown",
   "metadata": {},
   "source": [
    "### Train, Dev loss and BLEU"
   ]
  },
  {
   "cell_type": "code",
   "execution_count": 128,
   "metadata": {},
   "outputs": [
    {
     "data": {
      "image/png": "[encoded data removed]",
      "text/plain": [
       "<matplotlib.figure.Figure at 0x7fb7838e3278>"
      ]
     },
     "metadata": {},
     "output_type": "display_data"
    }
   ],
   "source": [
    "fig, ax1 = plt.subplots()\n",
    "fig.set_size_inches(10,8)\n",
    "ax1.plot(model_data[\"simple\"][\"log_train\"][0], model_data[\"simple\"][\"log_train\"][1], \n",
    "         color=tableau20[0], label=\"train loss\")\n",
    "ax1.plot(model_data[\"sample_mix\"][\"log_train\"][0], model_data[\"sample_mix\"][\"log_train\"][1], \n",
    "         color=tableau20[2], label=\"train loss - using word emb\")\n",
    "# ax1.plot(log_test[0], log_test[1], 'r--')\n",
    "ax1.set_xlabel('epoch', size=24)\n",
    "ax1.set_ylabel('loss', color='r', size=24)\n",
    "for tl in ax1.get_yticklabels():\n",
    "    tl.set_color('r')\n",
    "    tl.set_fontsize(18)\n",
    "plt.legend(bbox_to_anchor=(1.75, 0.96), framealpha=0, fontsize=15)    \n",
    "ax2 = ax1.twinx()\n",
    "ax2.plot(model_data[\"simple\"][\"log_dev\"][0], model_data[\"simple\"][\"log_dev\"][2]*100, \n",
    "         color=tableau20[0], label=\"dev bleu\", linestyle=\"--\")\n",
    "ax2.plot(model_data[\"sample_mix\"][\"log_dev\"][0], model_data[\"sample_mix\"][\"log_dev\"][2]*100,\n",
    "         color=tableau20[2], label=\"dev bleu - using word emb\", linestyle=\"--\")\n",
    "ax2.set_xlabel('iteration')\n",
    "ax2.set_ylabel('dev bleu', color='b', size=24)\n",
    "\n",
    "# ax2.axhline(y=model_data[\"sample_mix\"][\"log_dev\"][2][-1]*100, linewidth=1, color=\"k\")\n",
    "max_bleu_simple = model_data[\"simple\"][\"log_dev\"][2][-1]*100\n",
    "max_blue_mix = model_data[\"sample_mix\"][\"log_dev\"][2][-1]*100\n",
    "\n",
    "# plt.yticks(list(plt.yticks()[0]) + [max_bleu_simple, max_blue_mix])\n",
    "plt.yticks(list(range(0,12,5)) + [max_bleu_simple, max_blue_mix])\n",
    "\n",
    "ax1.set_xlim(0, model_data[\"simple\"][\"log_dev\"][0][-1])\n",
    "for tl in ax2.get_yticklabels():\n",
    "    tl.set_color('b')\n",
    "    tl.set_fontsize(18) \n",
    "plt.legend(bbox_to_anchor=(1.75, 0.8), framealpha=0, fontsize=15)\n",
    "# plt.legend(['dev bleu'], bbox_to_anchor=(1.06, 0.9), framealpha=0, fontsize=20)\n",
    "plt.grid(False)\n",
    "plt.tight_layout()"
   ]
  },
  {
   "cell_type": "markdown",
   "metadata": {},
   "source": [
    "### Utterance level comparison"
   ]
  },
  {
   "cell_type": "code",
   "execution_count": 129,
   "metadata": {},
   "outputs": [],
   "source": [
    "m_a = \"simple\"\n",
    "m_b = \"sample_mix\""
   ]
  },
  {
   "cell_type": "code",
   "execution_count": 130,
   "metadata": {},
   "outputs": [],
   "source": [
    "MIN_LEN = 10"
   ]
  },
  {
   "cell_type": "code",
   "execution_count": 131,
   "metadata": {},
   "outputs": [],
   "source": [
    "def check_bleu_with_len_filter(m_data, min_len):\n",
    "    sel_refs, sel_hyps = [], []\n",
    "    for u in m_data[\"refs_eval\"]:\n",
    "        len_ref = min([len(r) for r in m_data[\"refs_eval\"][u]])\n",
    "        if len_ref >= min_len:\n",
    "            sel_refs.append(m_data[\"refs_eval\"][u])\n",
    "            sel_hyps.append(m_data[\"hyps\"][u])\n",
    "    print(\"{0:d} out of {1:d} have len >= {2:d}\".format(len(sel_refs), len(m_data[\"refs_eval\"]), min_len))\n",
    "    bleu_score = corpus_bleu(sel_refs, sel_hyps, smoothing_function=smooth_fun.method2)*100\n",
    "    print(\"BLEU={0:.2f}\".format(bleu_score))\n",
    "    sel_p, sel_r, _ = basic_precision_recall(sel_refs, sel_hyps)\n",
    "    print(\"precision={0:.2f}, recall={1:.2f}\".format(sel_p, sel_r))"
   ]
  },
  {
   "cell_type": "code",
   "execution_count": 132,
   "metadata": {},
   "outputs": [
    {
     "name": "stdout",
     "output_type": "stream",
     "text": [
      "3977 out of 3977 have len >= 1\n",
      "BLEU=12.54\n",
      "precision=46.71, recall=39.97\n",
      "3977 out of 3977 have len >= 1\n",
      "BLEU=13.38\n",
      "precision=47.34, recall=41.31\n"
     ]
    }
   ],
   "source": [
    "check_bleu_with_len_filter(model_data[m_a], min_len=1)\n",
    "check_bleu_with_len_filter(model_data[m_b], min_len=1)"
   ]
  },
  {
   "cell_type": "code",
   "execution_count": 133,
   "metadata": {},
   "outputs": [
    {
     "name": "stdout",
     "output_type": "stream",
     "text": [
      "1430 out of 3977 have len >= 10\n",
      "BLEU=12.10\n",
      "precision=46.53, recall=38.32\n"
     ]
    }
   ],
   "source": [
    "check_bleu_with_len_filter(model_data[m_a], min_len=MIN_LEN)"
   ]
  },
  {
   "cell_type": "code",
   "execution_count": 134,
   "metadata": {},
   "outputs": [
    {
     "name": "stdout",
     "output_type": "stream",
     "text": [
      "1430 out of 3977 have len >= 10\n",
      "BLEU=13.02\n",
      "precision=47.31, recall=39.86\n"
     ]
    }
   ],
   "source": [
    "check_bleu_with_len_filter(model_data[m_b], min_len=MIN_LEN)"
   ]
  },
  {
   "cell_type": "code",
   "execution_count": 135,
   "metadata": {},
   "outputs": [
    {
     "name": "stderr",
     "output_type": "stream",
     "text": [
      "100%|██████████████████████████████████████| 3977/3977 [00:04<00:00, 868.32it/s]\n"
     ]
    }
   ],
   "source": [
    "utts_bleu = {m_a: {}, m_b: {}}\n",
    "\n",
    "for utt in tqdm(all_dev_utts, ncols=80):\n",
    "    utts_bleu[m_a][utt] = sentence_bleu(model_data[m_a][\"refs_eval\"][utt], \n",
    "                               model_data[m_a][\"hyps\"][utt], \n",
    "                               smoothing_function=smooth_fun.method2)\n",
    "    utts_bleu[m_b][utt] = sentence_bleu(model_data[m_b][\"refs_eval\"][utt], \n",
    "                               model_data[m_b][\"hyps\"][utt], \n",
    "                               smoothing_function=smooth_fun.method2)"
   ]
  },
  {
   "cell_type": "code",
   "execution_count": 136,
   "metadata": {},
   "outputs": [
    {
     "name": "stderr",
     "output_type": "stream",
     "text": [
      "100%|███████████████████████████████████| 3977/3977 [00:00<00:00, 402314.10it/s]\n"
     ]
    }
   ],
   "source": [
    "all_above_min_len = 0\n",
    "utts_a_better = []\n",
    "utts_b_better = []\n",
    "\n",
    "for utt in tqdm(all_dev_utts, ncols=80):\n",
    "    if len(model_data[m_b][\"refs\"][utt]) > MIN_LEN:\n",
    "        all_above_min_len += 1\n",
    "        if utts_bleu[m_a][utt] > utts_bleu[m_b][utt]:\n",
    "            utts_a_better.append(utt)\n",
    "        elif utts_bleu[m_b][utt] > utts_bleu[m_a][utt]:\n",
    "            utts_b_better.append(utt)"
   ]
  },
  {
   "cell_type": "code",
   "execution_count": 137,
   "metadata": {},
   "outputs": [
    {
     "data": {
      "text/plain": [
       "(695, 797, 1506)"
      ]
     },
     "execution_count": 137,
     "metadata": {},
     "output_type": "execute_result"
    }
   ],
   "source": [
    "len(utts_a_better), len(utts_b_better), all_above_min_len"
   ]
  },
  {
   "cell_type": "code",
   "execution_count": 138,
   "metadata": {},
   "outputs": [
    {
     "data": {
      "text/plain": [
       "102"
      ]
     },
     "execution_count": 138,
     "metadata": {},
     "output_type": "execute_result"
    }
   ],
   "source": [
    "len(utts_b_better) - len(utts_a_better)"
   ]
  },
  {
   "cell_type": "code",
   "execution_count": 139,
   "metadata": {},
   "outputs": [
    {
     "data": {
      "text/plain": [
       "0.05765650081783377"
      ]
     },
     "execution_count": 139,
     "metadata": {},
     "output_type": "execute_result"
    }
   ],
   "source": [
    "np.mean([utts_bleu[m_a][u]-utts_bleu[m_b][u] for u in utts_a_better])"
   ]
  },
  {
   "cell_type": "code",
   "execution_count": 140,
   "metadata": {},
   "outputs": [
    {
     "data": {
      "text/plain": [
       "0.06606251502197125"
      ]
     },
     "execution_count": 140,
     "metadata": {},
     "output_type": "execute_result"
    }
   ],
   "source": [
    "np.mean([utts_bleu[m_b][u]-utts_bleu[m_a][u] for u in utts_b_better])"
   ]
  },
  {
   "cell_type": "code",
   "execution_count": 141,
   "metadata": {},
   "outputs": [
    {
     "data": {
      "text/plain": [
       "(20.069064748201438, 7.921801707362517)"
      ]
     },
     "execution_count": 141,
     "metadata": {},
     "output_type": "execute_result"
    }
   ],
   "source": [
    "np.mean([len(model_data[m_a][\"hyps\"][u]) for u in utts_a_better]), np.std([len(model_data[m_a][\"hyps\"][u]) for u in utts_a_better])"
   ]
  },
  {
   "cell_type": "code",
   "execution_count": 142,
   "metadata": {},
   "outputs": [
    {
     "data": {
      "text/plain": [
       "(20.205771643663738, 8.229628927485999)"
      ]
     },
     "execution_count": 142,
     "metadata": {},
     "output_type": "execute_result"
    }
   ],
   "source": [
    "np.mean([len(model_data[m_b][\"hyps\"][u]) for u in utts_b_better]), np.std([len(model_data[m_b][\"hyps\"][u]) for u in utts_b_better])"
   ]
  },
  {
   "cell_type": "code",
   "execution_count": 143,
   "metadata": {},
   "outputs": [],
   "source": [
    "bleu_diff = {u: utts_bleu[m_b][u]-utts_bleu[m_a][u] for u in all_dev_utts if len(model_data[m_b][\"refs\"][u]) > MIN_LEN}"
   ]
  },
  {
   "cell_type": "code",
   "execution_count": 144,
   "metadata": {},
   "outputs": [],
   "source": [
    "best_b = sorted(bleu_diff.items(), reverse=True, key=lambda t:t[1])[:10]"
   ]
  },
  {
   "cell_type": "code",
   "execution_count": 145,
   "metadata": {},
   "outputs": [],
   "source": [
    "best_a = sorted(bleu_diff.items(), key=lambda t:t[1])[:10]"
   ]
  },
  {
   "cell_type": "code",
   "execution_count": 146,
   "metadata": {},
   "outputs": [
    {
     "data": {
      "text/plain": [
       "[('20051017_180712_270_fsp-B-2', 0.6959898522474196),\n",
       " ('20051019_210146_289_fsp-A-37', 0.4447425415521291),\n",
       " ('20051017_234550_276_fsp-A-50', 0.3815317201596056),\n",
       " ('20051023_232057_325_fsp-A-25', 0.37832420402973455),\n",
       " ('20051019_230329_292_fsp-B-24', 0.3674051443490537),\n",
       " ('20051018_210744_280_fsp-B-49', 0.3649561896763796),\n",
       " ('20051019_210146_289_fsp-B-32', 0.36449407090749486),\n",
       " ('20051010_212418_225_fsp-A-57', 0.35911068637571286),\n",
       " ('20051009_182032_217_fsp-B-32', 0.35775588620078086),\n",
       " ('20051009_182032_217_fsp-A-21', 0.3564543578480469)]"
      ]
     },
     "execution_count": 146,
     "metadata": {},
     "output_type": "execute_result"
    }
   ],
   "source": [
    "best_b"
   ]
  },
  {
   "cell_type": "code",
   "execution_count": 147,
   "metadata": {},
   "outputs": [
    {
     "name": "stdout",
     "output_type": "stream",
     "text": [
      "+------------+----------------------------------------------------+\n",
      "| utt        | 20051017_180712_270_fsp-B-2                        |\n",
      "+------------+----------------------------------------------------+\n",
      "| ref        | greetings ah my name is jenny and i 'm calling     |\n",
      "|            | from new york                                      |\n",
      "+------------+----------------------------------------------------+\n",
      "| simple     | well ah my name is my name is in new york          |\n",
      "+------------+----------------------------------------------------+\n",
      "| sample_mix | good ah my name is jenny and i 'm calling from new |\n",
      "|            | york                                               |\n",
      "+------------+----------------------------------------------------+\n",
      "+------------+----------------------------------------------------+\n",
      "| utt        | 20051019_210146_289_fsp-A-37                       |\n",
      "+------------+----------------------------------------------------+\n",
      "| ref        | because here in los angeles there 's never snow    |\n",
      "|            | maybe just in the mountains                        |\n",
      "+------------+----------------------------------------------------+\n",
      "| simple     | because here here los angeles is not a street when |\n",
      "|            | you do n't know if you go to mountains             |\n",
      "+------------+----------------------------------------------------+\n",
      "| sample_mix | because here in los angeles it never comes to to   |\n",
      "|            | the mountain                                       |\n",
      "+------------+----------------------------------------------------+\n",
      "+------------+---------------------------------------------------+\n",
      "| utt        | 20051017_234550_276_fsp-A-50                      |\n",
      "+------------+---------------------------------------------------+\n",
      "| ref        | i do n't know what 's it 's called but it 's like |\n",
      "|            | `` skippy '' or i do n't know how                 |\n",
      "+------------+---------------------------------------------------+\n",
      "| simple     | i do n't know if it 's like it 's forbidden it 's |\n",
      "|            | forbidden how do you meet it                      |\n",
      "+------------+---------------------------------------------------+\n",
      "| sample_mix | i do n't know how it 's called but it 's like it  |\n",
      "|            | 's how it 's how it is                            |\n",
      "+------------+---------------------------------------------------+\n",
      "+------------+---------------------------------------------------+\n",
      "| utt        | 20051023_232057_325_fsp-A-25                      |\n",
      "+------------+---------------------------------------------------+\n",
      "| ref        | yah its a little bit and when you arrive to work  |\n",
      "|            | you 're all stressed out                          |\n",
      "+------------+---------------------------------------------------+\n",
      "| simple     | and it was a little complicated and i worked with |\n",
      "|            | this this is this this is this                    |\n",
      "+------------+---------------------------------------------------+\n",
      "| sample_mix | yes a little bit and when you come to work and    |\n",
      "|            | this this is this                                 |\n",
      "+------------+---------------------------------------------------+\n",
      "+------------+---------------------------------------------------+\n",
      "| utt        | 20051019_230329_292_fsp-B-24                      |\n",
      "+------------+---------------------------------------------------+\n",
      "| ref        | sure it is more or less in the center we are down |\n",
      "|            | below                                             |\n",
      "+------------+---------------------------------------------------+\n",
      "| simple     | sure what we were in boston we were we were all   |\n",
      "|            | the jobs eh                                       |\n",
      "+------------+---------------------------------------------------+\n",
      "| sample_mix | of course it 's more or less we 're talking about |\n",
      "|            | the north                                         |\n",
      "+------------+---------------------------------------------------+\n",
      "+------------+----------------------------------------------------+\n",
      "| utt        | 20051018_210744_280_fsp-B-49                       |\n",
      "+------------+----------------------------------------------------+\n",
      "| ref        | but you know like for example i can wash my hair   |\n",
      "+------------+----------------------------------------------------+\n",
      "| simple     | but you know how can you tell you i can talk about |\n",
      "|            | the people                                         |\n",
      "+------------+----------------------------------------------------+\n",
      "| sample_mix | but you know how for example i can talk about the  |\n",
      "|            | youth                                              |\n",
      "+------------+----------------------------------------------------+\n",
      "+------------+---------------------------------------------------+\n",
      "| utt        | 20051019_210146_289_fsp-B-32                      |\n",
      "+------------+---------------------------------------------------+\n",
      "| ref        | now here where we live now this winter it 's just |\n",
      "|            | rain nothing more                                 |\n",
      "+------------+---------------------------------------------------+\n",
      "| simple     | yeah here where live live in the north east in    |\n",
      "|            | emanuel                                           |\n",
      "+------------+---------------------------------------------------+\n",
      "| sample_mix | yeah ah here where we live now is the winter      |\n",
      "+------------+---------------------------------------------------+\n",
      "+------------+----------------------------------------------------+\n",
      "| utt        | 20051010_212418_225_fsp-A-57                       |\n",
      "+------------+----------------------------------------------------+\n",
      "| ref        | yes i mean now i am married i live here in         |\n",
      "|            | apparment near to the temple we have               |\n",
      "+------------+----------------------------------------------------+\n",
      "| simple     | yes i mean now now i 've been married here for a   |\n",
      "|            | year apartment i have a apartment                  |\n",
      "+------------+----------------------------------------------------+\n",
      "| sample_mix | yes i mean now i 've fever here i live here in the |\n",
      "|            | apartment where we have                            |\n",
      "+------------+----------------------------------------------------+\n",
      "+------------+---------------------------------------------------+\n",
      "| utt        | 20051009_182032_217_fsp-B-32                      |\n",
      "+------------+---------------------------------------------------+\n",
      "| ref        | and what do you believe about about your religion |\n",
      "|            | what do you believe                               |\n",
      "+------------+---------------------------------------------------+\n",
      "| simple     | and you think about religion religion so you do   |\n",
      "|            | n't believe so                                    |\n",
      "+------------+---------------------------------------------------+\n",
      "| sample_mix | and what do you think about religion and what do  |\n",
      "|            | you think about religion                          |\n",
      "+------------+---------------------------------------------------+\n",
      "+------------+----------------------------------------------------+\n",
      "| utt        | 20051009_182032_217_fsp-A-21                       |\n",
      "+------------+----------------------------------------------------+\n",
      "| ref        | yes and do you have your family here all of them   |\n",
      "+------------+----------------------------------------------------+\n",
      "| simple     | yes i think that in your family and all            |\n",
      "+------------+----------------------------------------------------+\n",
      "| sample_mix | yes and you have family here everything everything |\n",
      "+------------+----------------------------------------------------+\n"
     ]
    }
   ],
   "source": [
    "for u in best_b:\n",
    "    display_pp = PrettyTable([\"cat\",\"sent\"], hrules=True)\n",
    "    display_pp.align = \"l\"\n",
    "    display_pp.header = False\n",
    "\n",
    "    ref_hyp = textwrap.fill(\" \".join(model_data[m_b][\"refs\"][u[0]]),50)\n",
    "    m_a_hyp = textwrap.fill(\" \".join(model_data[m_a][\"hyps\"][u[0]]),50)\n",
    "    m_b_hyp = textwrap.fill(\" \".join(model_data[m_b][\"hyps\"][u[0]]),50)\n",
    "\n",
    "    display_pp.add_row([\"utt\", u[0]])\n",
    "    display_pp.add_row([\"ref\", ref_hyp])\n",
    "    display_pp.add_row([m_a, m_a_hyp])\n",
    "    display_pp.add_row([m_b, m_b_hyp])\n",
    "    \n",
    "    print(display_pp)"
   ]
  },
  {
   "cell_type": "code",
   "execution_count": 148,
   "metadata": {},
   "outputs": [
    {
     "name": "stdout",
     "output_type": "stream",
     "text": [
      "+------------+--------------------------------------------------+\n",
      "| utt        | 20051026_211309_346_fsp-B-8                      |\n",
      "+------------+--------------------------------------------------+\n",
      "| ref        | oh yes i do n't know what they are going to do   |\n",
      "|            | with that because they have                      |\n",
      "+------------+--------------------------------------------------+\n",
      "| simple     | ah yes i do n't know if you talk to that because |\n",
      "|            | they want                                        |\n",
      "+------------+--------------------------------------------------+\n",
      "| sample_mix | no if you want to talk about this because they   |\n",
      "|            | want to                                          |\n",
      "+------------+--------------------------------------------------+\n",
      "+------------+---------------------------------------------+\n",
      "| utt        | 20051019_230329_292_fsp-A-3                 |\n",
      "+------------+---------------------------------------------+\n",
      "| ref        | ah i am i am in idaho and am from chile     |\n",
      "+------------+---------------------------------------------+\n",
      "| simple     | ah i am in idaho and i 'm from chile        |\n",
      "+------------+---------------------------------------------+\n",
      "| sample_mix | ah i 'm i 'm in in ohio and i 'm from chile |\n",
      "+------------+---------------------------------------------+\n",
      "+------------+---------------------------------------------------+\n",
      "| utt        | 20051019_210146_289_fsp-A-109                     |\n",
      "+------------+---------------------------------------------------+\n",
      "| ref        | and lots of people died in spain this happened in |\n",
      "|            | the train stations that i used                    |\n",
      "+------------+---------------------------------------------------+\n",
      "| simple     | and people died in spain and this is their        |\n",
      "|            | philosophy and education                          |\n",
      "+------------+---------------------------------------------------+\n",
      "| sample_mix | and and it 's very in spain and and that 's their |\n",
      "|            | organization of the organization                  |\n",
      "+------------+---------------------------------------------------+\n",
      "+------------+----------------------------------------------+\n",
      "| utt        | 20051017_234550_276_fsp-B-75                 |\n",
      "+------------+----------------------------------------------+\n",
      "| ref        | aha aha aha no it 's that ah you go to sleep |\n",
      "|            | waiting                                      |\n",
      "+------------+----------------------------------------------+\n",
      "| simple     | aha aha aha no no i was raised well you were |\n",
      "|            | waiting                                      |\n",
      "+------------+----------------------------------------------+\n",
      "| sample_mix | uh uh uh uh uh uh uh a wait wait             |\n",
      "+------------+----------------------------------------------+\n",
      "+------------+-----------------------------------------------+\n",
      "| utt        | 20051017_220530_275_fsp-B-78                  |\n",
      "+------------+-----------------------------------------------+\n",
      "| ref        | no that well at least i do not like that much |\n",
      "+------------+-----------------------------------------------+\n",
      "| simple     | no this well i do n't like it either          |\n",
      "+------------+-----------------------------------------------+\n",
      "| sample_mix | no well well we also like it                  |\n",
      "+------------+-----------------------------------------------+\n",
      "+------------+----------------------------------------------------+\n",
      "| utt        | 20051024_181110_329_fsp-A-42                       |\n",
      "+------------+----------------------------------------------------+\n",
      "| ref        | and but those things happen in every city i do n't |\n",
      "|            | know                                               |\n",
      "+------------+----------------------------------------------------+\n",
      "| simple     | and it 's be for the city i do n't know            |\n",
      "+------------+----------------------------------------------------+\n",
      "| sample_mix | and well i was going to see the whole time         |\n",
      "+------------+----------------------------------------------------+\n",
      "+------------+---------------------------------------------------+\n",
      "| utt        | 20051019_190221_288_fsp-B-24                      |\n",
      "+------------+---------------------------------------------------+\n",
      "| ref        | because you go to stop and rest when you like it  |\n",
      "+------------+---------------------------------------------------+\n",
      "| simple     | because they were stopped to when you want to     |\n",
      "+------------+---------------------------------------------------+\n",
      "| sample_mix | because they 'll pay the channel with the or when |\n",
      "|            | they want                                         |\n",
      "+------------+---------------------------------------------------+\n",
      "+------------+----------------------------------------------------+\n",
      "| utt        | 20051010_212418_225_fsp-B-15                       |\n",
      "+------------+----------------------------------------------------+\n",
      "| ref        | like the institutions so you can be very religious |\n",
      "|            | and spiritual                                      |\n",
      "+------------+----------------------------------------------------+\n",
      "| simple     | like a section so then you can be religious and it |\n",
      "|            | 's a                                               |\n",
      "+------------+----------------------------------------------------+\n",
      "| sample_mix | like the situation in this situation is a          |\n",
      "|            | religious service and spiritual service            |\n",
      "+------------+----------------------------------------------------+\n",
      "+------------+----------------------------------------------------+\n",
      "| utt        | 20051018_210744_280_fsp-B-64                       |\n",
      "+------------+----------------------------------------------------+\n",
      "| ref        | ok no i thought that it snowed in new york that 's |\n",
      "|            | why i was asking you                               |\n",
      "+------------+----------------------------------------------------+\n",
      "| simple     | that i thought that they had n't had to new york   |\n",
      "|            | that 's why i was looking                          |\n",
      "+------------+----------------------------------------------------+\n",
      "| sample_mix | no i think that in new york for this that that you |\n",
      "|            | are looking                                        |\n",
      "+------------+----------------------------------------------------+\n",
      "+------------+-------------------------------------------------+\n",
      "| utt        | 20051024_180453_327_fsp-B-62                    |\n",
      "+------------+-------------------------------------------------+\n",
      "| ref        | they spend lots of money in that but in general |\n",
      "|            | they are keeping us safe                        |\n",
      "+------------+-------------------------------------------------+\n",
      "| simple     | and spend a lot of money but also is a liberal  |\n",
      "|            | topic it 's a pretty safe place                 |\n",
      "+------------+-------------------------------------------------+\n",
      "| sample_mix | and we are a lot of other too eh it 's like the |\n",
      "|            | the the the the border of the border            |\n",
      "+------------+-------------------------------------------------+\n"
     ]
    }
   ],
   "source": [
    "for u in best_a:\n",
    "    display_pp = PrettyTable([\"cat\",\"sent\"], hrules=True)\n",
    "    display_pp.align = \"l\"\n",
    "    display_pp.header = False\n",
    "\n",
    "    ref_hyp = textwrap.fill(\" \".join(model_data[m_b][\"refs\"][u[0]]),50)\n",
    "    m_a_hyp = textwrap.fill(\" \".join(model_data[m_a][\"hyps\"][u[0]]),50)\n",
    "    m_b_hyp = textwrap.fill(\" \".join(model_data[m_b][\"hyps\"][u[0]]),50)\n",
    "\n",
    "    display_pp.add_row([\"utt\", u[0]])\n",
    "    display_pp.add_row([\"ref\", ref_hyp])\n",
    "    display_pp.add_row([m_a, m_a_hyp])\n",
    "    display_pp.add_row([m_b, m_b_hyp])\n",
    "    \n",
    "    print(display_pp)"
   ]
  },
  {
   "cell_type": "code",
   "execution_count": 149,
   "metadata": {},
   "outputs": [
    {
     "data": {
      "text/plain": [
       "0.7071067811865476"
      ]
     },
     "execution_count": 149,
     "metadata": {},
     "output_type": "execute_result"
    }
   ],
   "source": [
    "nltk.translate.bleu_score.sentence_bleu(model_data[\"sample_mix\"][\"refs_eval\"]['20051009_182032_217_fsp-A-1'],\n",
    "                                       model_data[\"sample_mix\"][\"hyps\"]['20051009_182032_217_fsp-A-1'],\n",
    "                                       smoothing_function=smooth_fun.method2)"
   ]
  },
  {
   "cell_type": "code",
   "execution_count": null,
   "metadata": {},
   "outputs": [],
   "source": []
  },
  {
   "cell_type": "markdown",
   "metadata": {},
   "source": [
    "### sp_0.33 experiments\n",
    "\n",
    "### Dev set performance \n",
    "```\n",
    "_no sample\n",
    "^^^^^^^^^^^^^^^^^^^^^^^^^^^^^^^^^^^^^^^^^^^^^^^^^^^^^^^^^^^^^^^^^^^^^^^^^^^^^^^^\n",
    "********** dev bleu=0.1254\n",
    "********** dev: prec=46.709, recall=40.369\n",
    "\n",
    "_sample\n",
    "^^^^^^^^^^^^^^^^^^^^^^^^^^^^^^^^^^^^^^^^^^^^^^^^^^^^^^^^^^^^^^^^^^^^^^^^^^^^^^^^\n",
    "********** dev bleu=0.1338\n",
    "********** dev: prec=47.333, recall=41.707\n",
    "```\n",
    "### Test set performance \n",
    "\n",
    "```\n",
    "_no sample\n",
    "^^^^^^^^^^^^^^^^^^^^^^^^^^^^^^^^^^^^^^^^^^^^^^^^^^^^^^^^^^^^^^^^^^^^^^^^^^^^^^^^\n",
    "********** test bleu=0.1211\n",
    "********** test: prec=46.556, recall=40.643\n",
    "\n",
    "\n",
    "_sample\n",
    "^^^^^^^^^^^^^^^^^^^^^^^^^^^^^^^^^^^^^^^^^^^^^^^^^^^^^^^^^^^^^^^^^^^^^^^^^^^^^^^^\n",
    "********** test bleu=0.1265\n",
    "********** test: prec=46.967, recall=41.969\n",
    "```"
   ]
  }
 ],
 "metadata": {
  "kernelspec": {
   "display_name": "Python 3",
   "language": "python",
   "name": "python3"
  },
  "language_info": {
   "codemirror_mode": {
    "name": "ipython",
    "version": 3
   },
   "file_extension": ".py",
   "mimetype": "text/x-python",
   "name": "python",
   "nbconvert_exporter": "python",
   "pygments_lexer": "ipython3",
   "version": "3.6.3"
  }
 },
 "nbformat": 4,
 "nbformat_minor": 2
}
