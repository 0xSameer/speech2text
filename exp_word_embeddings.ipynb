{
 "cells": [
  {
   "cell_type": "code",
   "execution_count": 2,
   "metadata": {},
   "outputs": [],
   "source": [
    "import nltk\n",
    "from nltk.translate.bleu_score import sentence_bleu, corpus_bleu, modified_precision\n",
    "from nltk.translate.chrf_score import sentence_chrf, corpus_chrf\n",
    "from nltk.metrics import scores\n",
    "import scipy.io.wavfile\n",
    "from IPython.display import Audio\n",
    "from IPython.display import display\n",
    "from nltk.stem import *\n",
    "# from nltk.stem.snowball import SnowballStemmer\n",
    "from stemming.porter2 import stem\n",
    "import stemming\n",
    "from nltk.metrics.scores import recall\n",
    "\n",
    "from nltk.corpus import stopwords\n",
    "\n",
    "%matplotlib inline"
   ]
  },
  {
   "cell_type": "code",
   "execution_count": 3,
   "metadata": {},
   "outputs": [],
   "source": [
    "from nmt_run import *"
   ]
  },
  {
   "cell_type": "code",
   "execution_count": 4,
   "metadata": {},
   "outputs": [],
   "source": [
    "%run utils.ipynb"
   ]
  },
  {
   "cell_type": "code",
   "execution_count": 5,
   "metadata": {},
   "outputs": [],
   "source": [
    "smooth_fun = nltk.translate.bleu_score.SmoothingFunction()"
   ]
  },
  {
   "cell_type": "code",
   "execution_count": 6,
   "metadata": {},
   "outputs": [
    {
     "name": "stdout",
     "output_type": "stream",
     "text": [
      "eval refs found, loading\n"
     ]
    }
   ],
   "source": [
    "google_s2t_hyps, google_s2t_refs, google_s2t_refs_for_eval = get_google_data()\n",
    "google_hyp_r0 = google_s2t_hyps['fisher_dev_r0']\n",
    "google_dev_ref_0 = google_s2t_refs['fisher_dev_ref_0']"
   ]
  },
  {
   "cell_type": "code",
   "execution_count": 7,
   "metadata": {},
   "outputs": [],
   "source": [
    "# model_names = {\n",
    "#     \"simple\": \"emb_sp2enw/sp_0.33_seed-AA\",\n",
    "#     \"sample_mix\": \"emb_sp2enw/sp_0.33_seed-AA_mix-0.5/\",\n",
    "# }"
   ]
  },
  {
   "cell_type": "code",
   "execution_count": 8,
   "metadata": {},
   "outputs": [],
   "source": [
    "# model_names = {\n",
    "#     \"simple\": \"sp2enw_mel-80_vocab-nltk/sp_0.50_h-300_e-128_l2e-6_lstm_drpt-0.5_cnn-64-2-2_rnn-3_b-80-25_no-bn-ln\",\n",
    "#     \"sample_mix\": \"sp2enw_mel-80_vocab-nltk/sp_0.50_h-300_e-128_l2e-6_lstm_drpt-0.5_cnn-64-2-2_rnn-3_b-80-25_no-bn-ln_sample/\",\n",
    "# }"
   ]
  },
  {
   "cell_type": "code",
   "execution_count": 9,
   "metadata": {},
   "outputs": [],
   "source": [
    "model_names = {\n",
    "    \"simple\": \"./sp2enw_interspeech/sp_0.33_seed-AB_l2e-4_drpt-0.5\",\n",
    "    \"sample_mix\": \"./sp2enw_interspeech/sp_0.33_seed-AB_l2e-4_drpt-0.5_sample-mix-0.5\",\n",
    "}"
   ]
  },
  {
   "cell_type": "code",
   "execution_count": 10,
   "metadata": {},
   "outputs": [],
   "source": [
    "model_data = {}\n",
    "for m, m_loc in model_names.items():\n",
    "    model_data[m] ={\"refs\": {}, \"hyps\": {}, \"refs_eval\": {}, \"log_train\": [], \"log_dev\": []}\n",
    "    model_data[m][\"refs\"] = pickle.load(open(os.path.join(m_loc, \"model_s2t_refs.dict\"), \"rb\"))\n",
    "    model_data[m][\"hyps\"] = pickle.load(open(os.path.join(m_loc, \"model_s2t_hyps.dict\"), \"rb\"))\n",
    "    model_data[m][\"refs_eval\"] = pickle.load(open(os.path.join(m_loc, \"model_s2t_refs_for_eval.dict\"), \"rb\"))\n",
    "    model_data[m][\"log_train\"] = np.loadtxt(os.path.join(m_loc, \"train.log\"), delimiter=',', skiprows=False).transpose()\n",
    "    model_data[m][\"log_dev\"] = np.genfromtxt(os.path.join(m_loc, \"dev.log\"), delimiter=',', usecols = (0,1,2)).transpose()"
   ]
  },
  {
   "cell_type": "code",
   "execution_count": 11,
   "metadata": {},
   "outputs": [
    {
     "data": {
      "text/plain": [
       "[['good', 'afternoon'],\n",
       " ['good', 'afternoon'],\n",
       " ['good', 'afternoon'],\n",
       " ['good', 'afternoon']]"
      ]
     },
     "execution_count": 11,
     "metadata": {},
     "output_type": "execute_result"
    }
   ],
   "source": [
    "model_data[\"sample_mix\"][\"refs_eval\"]['20051009_182032_217_fsp-A-1']"
   ]
  },
  {
   "cell_type": "code",
   "execution_count": 12,
   "metadata": {},
   "outputs": [
    {
     "data": {
      "text/plain": [
       "['good', 'afternoon']"
      ]
     },
     "execution_count": 12,
     "metadata": {},
     "output_type": "execute_result"
    }
   ],
   "source": [
    "model_data[\"sample_mix\"][\"refs\"]['20051009_182032_217_fsp-A-1']"
   ]
  },
  {
   "cell_type": "code",
   "execution_count": 13,
   "metadata": {},
   "outputs": [
    {
     "data": {
      "text/plain": [
       "['good', 'afternon']"
      ]
     },
     "execution_count": 13,
     "metadata": {},
     "output_type": "execute_result"
    }
   ],
   "source": [
    "model_data[\"sample_mix\"][\"hyps\"]['20051009_182032_217_fsp-A-1']"
   ]
  },
  {
   "cell_type": "code",
   "execution_count": 14,
   "metadata": {},
   "outputs": [
    {
     "data": {
      "text/plain": [
       "0.537284965911771"
      ]
     },
     "execution_count": 14,
     "metadata": {},
     "output_type": "execute_result"
    }
   ],
   "source": [
    "nltk.translate.bleu_score.sentence_bleu(model_data[\"sample_mix\"][\"refs_eval\"]['20051009_182032_217_fsp-A-1'],\n",
    "                                       model_data[\"sample_mix\"][\"hyps\"]['20051009_182032_217_fsp-A-1'],\n",
    "                                       smoothing_function=smooth_fun.method2)"
   ]
  },
  {
   "cell_type": "code",
   "execution_count": 15,
   "metadata": {},
   "outputs": [
    {
     "data": {
      "text/plain": [
       "0.7071067811865476"
      ]
     },
     "execution_count": 15,
     "metadata": {},
     "output_type": "execute_result"
    }
   ],
   "source": [
    "nltk.translate.bleu_score.sentence_bleu(model_data[\"simple\"][\"refs_eval\"]['20051009_182032_217_fsp-A-1'],\n",
    "                                       model_data[\"simple\"][\"hyps\"]['20051009_182032_217_fsp-A-1'],\n",
    "                                       smoothing_function=smooth_fun.method2)"
   ]
  },
  {
   "cell_type": "code",
   "execution_count": 16,
   "metadata": {},
   "outputs": [],
   "source": [
    "all_dev_utts= set(model_data[\"sample_mix\"][\"refs_eval\"].keys()) & set(model_data[\"simple\"][\"refs_eval\"].keys())"
   ]
  },
  {
   "cell_type": "code",
   "execution_count": 17,
   "metadata": {},
   "outputs": [
    {
     "data": {
      "text/plain": [
       "3977"
      ]
     },
     "execution_count": 17,
     "metadata": {},
     "output_type": "execute_result"
    }
   ],
   "source": [
    "len(all_dev_utts)"
   ]
  },
  {
   "cell_type": "markdown",
   "metadata": {},
   "source": [
    "### Train, Dev loss and BLEU"
   ]
  },
  {
   "cell_type": "code",
   "execution_count": 18,
   "metadata": {},
   "outputs": [
    {
     "data": {
      "image/png": "[encoded data removed]",
      "text/plain": [
       "<matplotlib.figure.Figure at 0x7f4d68262908>"
      ]
     },
     "metadata": {},
     "output_type": "display_data"
    }
   ],
   "source": [
    "fig, ax1 = plt.subplots()\n",
    "fig.set_size_inches(10,8)\n",
    "ax1.plot(model_data[\"simple\"][\"log_train\"][0], model_data[\"simple\"][\"log_train\"][1], \n",
    "         color=tableau20[0], label=\"train loss\")\n",
    "ax1.plot(model_data[\"sample_mix\"][\"log_train\"][0], model_data[\"sample_mix\"][\"log_train\"][1], \n",
    "         color=tableau20[2], label=\"train loss - using word emb\")\n",
    "# ax1.plot(log_test[0], log_test[1], 'r--')\n",
    "ax1.set_xlabel('epoch', size=24)\n",
    "ax1.set_ylabel('loss', color='r', size=24)\n",
    "for tl in ax1.get_yticklabels():\n",
    "    tl.set_color('r')\n",
    "    tl.set_fontsize(18)\n",
    "plt.legend(bbox_to_anchor=(1.75, 0.96), framealpha=0, fontsize=15)    \n",
    "ax2 = ax1.twinx()\n",
    "ax2.plot(model_data[\"simple\"][\"log_dev\"][0], model_data[\"simple\"][\"log_dev\"][2]*100, \n",
    "         color=tableau20[0], label=\"dev bleu\", linestyle=\"--\")\n",
    "ax2.plot(model_data[\"sample_mix\"][\"log_dev\"][0], model_data[\"sample_mix\"][\"log_dev\"][2]*100,\n",
    "         color=tableau20[2], label=\"dev bleu - using word emb\", linestyle=\"--\")\n",
    "ax2.set_xlabel('iteration')\n",
    "ax2.set_ylabel('dev bleu', color='b', size=24)\n",
    "\n",
    "# ax2.axhline(y=model_data[\"sample_mix\"][\"log_dev\"][2][-1]*100, linewidth=1, color=\"k\")\n",
    "max_bleu_simple = model_data[\"simple\"][\"log_dev\"][2][-1]*100\n",
    "max_blue_mix = model_data[\"sample_mix\"][\"log_dev\"][2][-1]*100\n",
    "\n",
    "# plt.yticks(list(plt.yticks()[0]) + [max_bleu_simple, max_blue_mix])\n",
    "plt.yticks(list(range(0,12,5)) + [max_bleu_simple, max_blue_mix])\n",
    "\n",
    "ax1.set_xlim(0, model_data[\"simple\"][\"log_dev\"][0][-1])\n",
    "for tl in ax2.get_yticklabels():\n",
    "    tl.set_color('b')\n",
    "    tl.set_fontsize(18) \n",
    "plt.legend(bbox_to_anchor=(1.75, 0.8), framealpha=0, fontsize=15)\n",
    "# plt.legend(['dev bleu'], bbox_to_anchor=(1.06, 0.9), framealpha=0, fontsize=20)\n",
    "plt.grid(False)\n",
    "plt.tight_layout()"
   ]
  },
  {
   "cell_type": "markdown",
   "metadata": {},
   "source": [
    "### Utterance level comparison"
   ]
  },
  {
   "cell_type": "code",
   "execution_count": 19,
   "metadata": {},
   "outputs": [],
   "source": [
    "m_a = \"simple\"\n",
    "m_b = \"sample_mix\""
   ]
  },
  {
   "cell_type": "code",
   "execution_count": 17,
   "metadata": {},
   "outputs": [],
   "source": [
    "MIN_LEN = 10"
   ]
  },
  {
   "cell_type": "code",
   "execution_count": 18,
   "metadata": {},
   "outputs": [],
   "source": [
    "def check_bleu_with_len_filter(m_data, min_len):\n",
    "    sel_refs, sel_hyps = [], []\n",
    "    for u in m_data[\"refs_eval\"]:\n",
    "        len_ref = min([len(r) for r in m_data[\"refs_eval\"][u]])\n",
    "        if len_ref >= min_len:\n",
    "            sel_refs.append(m_data[\"refs_eval\"][u])\n",
    "            sel_hyps.append(m_data[\"hyps\"][u])\n",
    "    print(\"{0:d} out of {1:d} have len >= {2:d}\".format(len(sel_refs), len(m_data[\"refs_eval\"]), min_len))\n",
    "    bleu_score = corpus_bleu(sel_refs, sel_hyps, smoothing_function=smooth_fun.method2)*100\n",
    "    print(\"BLEU={0:.2f}\".format(bleu_score))\n",
    "    sel_p, sel_r, _ = basic_precision_recall(sel_refs, sel_hyps)\n",
    "    print(\"precision={0:.2f}, recall={1:.2f}\".format(sel_p, sel_r))"
   ]
  },
  {
   "cell_type": "code",
   "execution_count": 19,
   "metadata": {},
   "outputs": [
    {
     "name": "stdout",
     "output_type": "stream",
     "text": [
      "3977 out of 3977 have len >= 1\n",
      "BLEU=14.57\n",
      "precision=49.57, recall=42.39\n",
      "3977 out of 3977 have len >= 1\n",
      "BLEU=15.07\n",
      "precision=51.15, recall=43.46\n"
     ]
    }
   ],
   "source": [
    "check_bleu_with_len_filter(model_data[m_a], min_len=1)\n",
    "check_bleu_with_len_filter(model_data[m_b], min_len=1)"
   ]
  },
  {
   "cell_type": "code",
   "execution_count": 20,
   "metadata": {},
   "outputs": [
    {
     "name": "stdout",
     "output_type": "stream",
     "text": [
      "1430 out of 3977 have len >= 10\n",
      "BLEU=14.32\n",
      "precision=49.95, recall=41.29\n"
     ]
    }
   ],
   "source": [
    "check_bleu_with_len_filter(model_data[m_a], min_len=MIN_LEN)"
   ]
  },
  {
   "cell_type": "code",
   "execution_count": 21,
   "metadata": {},
   "outputs": [
    {
     "name": "stdout",
     "output_type": "stream",
     "text": [
      "1430 out of 3977 have len >= 10\n",
      "BLEU=14.89\n",
      "precision=51.67, recall=42.35\n"
     ]
    }
   ],
   "source": [
    "check_bleu_with_len_filter(model_data[m_b], min_len=MIN_LEN)"
   ]
  },
  {
   "cell_type": "code",
   "execution_count": 22,
   "metadata": {},
   "outputs": [
    {
     "name": "stderr",
     "output_type": "stream",
     "text": [
      "100%|██████████████████████████████████████| 3977/3977 [00:04<00:00, 865.20it/s]\n"
     ]
    }
   ],
   "source": [
    "utts_bleu = {m_a: {}, m_b: {}}\n",
    "\n",
    "for utt in tqdm(all_dev_utts, ncols=80):\n",
    "    utts_bleu[m_a][utt] = sentence_bleu(model_data[m_a][\"refs_eval\"][utt], \n",
    "                               model_data[m_a][\"hyps\"][utt], \n",
    "                               smoothing_function=smooth_fun.method2)\n",
    "    utts_bleu[m_b][utt] = sentence_bleu(model_data[m_b][\"refs_eval\"][utt], \n",
    "                               model_data[m_b][\"hyps\"][utt], \n",
    "                               smoothing_function=smooth_fun.method2)"
   ]
  },
  {
   "cell_type": "code",
   "execution_count": 23,
   "metadata": {},
   "outputs": [
    {
     "name": "stderr",
     "output_type": "stream",
     "text": [
      "100%|███████████████████████████████████| 3977/3977 [00:00<00:00, 400642.42it/s]\n"
     ]
    }
   ],
   "source": [
    "all_above_min_len = 0\n",
    "utts_a_better = []\n",
    "utts_b_better = []\n",
    "\n",
    "for utt in tqdm(all_dev_utts, ncols=80):\n",
    "    if len(model_data[m_b][\"refs\"][utt]) > MIN_LEN:\n",
    "        all_above_min_len += 1\n",
    "        if utts_bleu[m_a][utt] > utts_bleu[m_b][utt]:\n",
    "            utts_a_better.append(utt)\n",
    "        elif utts_bleu[m_b][utt] > utts_bleu[m_a][utt]:\n",
    "            utts_b_better.append(utt)"
   ]
  },
  {
   "cell_type": "code",
   "execution_count": 24,
   "metadata": {},
   "outputs": [
    {
     "data": {
      "text/plain": [
       "(707, 787, 1506)"
      ]
     },
     "execution_count": 24,
     "metadata": {},
     "output_type": "execute_result"
    }
   ],
   "source": [
    "len(utts_a_better), len(utts_b_better), all_above_min_len"
   ]
  },
  {
   "cell_type": "code",
   "execution_count": 25,
   "metadata": {},
   "outputs": [
    {
     "data": {
      "text/plain": [
       "80"
      ]
     },
     "execution_count": 25,
     "metadata": {},
     "output_type": "execute_result"
    }
   ],
   "source": [
    "len(utts_b_better) - len(utts_a_better)"
   ]
  },
  {
   "cell_type": "code",
   "execution_count": 26,
   "metadata": {},
   "outputs": [
    {
     "data": {
      "text/plain": [
       "0.06529867882568795"
      ]
     },
     "execution_count": 26,
     "metadata": {},
     "output_type": "execute_result"
    }
   ],
   "source": [
    "np.mean([utts_bleu[m_a][u]-utts_bleu[m_b][u] for u in utts_a_better])"
   ]
  },
  {
   "cell_type": "code",
   "execution_count": 27,
   "metadata": {},
   "outputs": [
    {
     "data": {
      "text/plain": [
       "0.0689567547569761"
      ]
     },
     "execution_count": 27,
     "metadata": {},
     "output_type": "execute_result"
    }
   ],
   "source": [
    "np.mean([utts_bleu[m_b][u]-utts_bleu[m_a][u] for u in utts_b_better])"
   ]
  },
  {
   "cell_type": "code",
   "execution_count": 28,
   "metadata": {},
   "outputs": [
    {
     "data": {
      "text/plain": [
       "(20.11315417256011, 8.071370788284565)"
      ]
     },
     "execution_count": 28,
     "metadata": {},
     "output_type": "execute_result"
    }
   ],
   "source": [
    "np.mean([len(model_data[m_a][\"hyps\"][u]) for u in utts_a_better]), np.std([len(model_data[m_a][\"hyps\"][u]) for u in utts_a_better])"
   ]
  },
  {
   "cell_type": "code",
   "execution_count": 29,
   "metadata": {},
   "outputs": [
    {
     "data": {
      "text/plain": [
       "(20.147395171537482, 8.286706655360561)"
      ]
     },
     "execution_count": 29,
     "metadata": {},
     "output_type": "execute_result"
    }
   ],
   "source": [
    "np.mean([len(model_data[m_b][\"hyps\"][u]) for u in utts_b_better]), np.std([len(model_data[m_b][\"hyps\"][u]) for u in utts_b_better])"
   ]
  },
  {
   "cell_type": "code",
   "execution_count": 30,
   "metadata": {},
   "outputs": [],
   "source": [
    "bleu_diff = {u: utts_bleu[m_b][u]-utts_bleu[m_a][u] for u in all_dev_utts if len(model_data[m_b][\"refs\"][u]) > MIN_LEN}"
   ]
  },
  {
   "cell_type": "code",
   "execution_count": 31,
   "metadata": {},
   "outputs": [],
   "source": [
    "best_b = sorted(bleu_diff.items(), reverse=True, key=lambda t:t[1])[:10]"
   ]
  },
  {
   "cell_type": "code",
   "execution_count": 32,
   "metadata": {},
   "outputs": [],
   "source": [
    "best_a = sorted(bleu_diff.items(), key=lambda t:t[1])[:10]"
   ]
  },
  {
   "cell_type": "code",
   "execution_count": 33,
   "metadata": {},
   "outputs": [
    {
     "data": {
      "text/plain": [
       "[('20051017_180712_270_fsp-B-2', 0.4797443119192416),\n",
       " ('20051017_234550_276_fsp-A-65', 0.45053677286317784),\n",
       " ('20051009_182032_217_fsp-B-149', 0.39027530695146495),\n",
       " ('20051026_211309_346_fsp-B-8', 0.3730651600660182),\n",
       " ('20051018_210220_279_fsp-A-2', 0.3670207933475621),\n",
       " ('20051009_182032_217_fsp-B-92', 0.32551877321311473),\n",
       " ('20051009_210519_219_fsp-B-61', 0.3213665497428948),\n",
       " ('20051018_210744_280_fsp-A-69', 0.3168682217802929),\n",
       " ('20051009_182032_217_fsp-B-109', 0.30635914411767307),\n",
       " ('20051017_234550_276_fsp-B-48', 0.3016817146534976)]"
      ]
     },
     "execution_count": 33,
     "metadata": {},
     "output_type": "execute_result"
    }
   ],
   "source": [
    "best_b"
   ]
  },
  {
   "cell_type": "code",
   "execution_count": 1,
   "metadata": {},
   "outputs": [
    {
     "name": "stdout",
     "output_type": "stream",
     "text": [
      "agglo_dtw_claro.pdf               prep_map_sp_es_en.py\r\n",
      "basics.py                         prep_speech_segments.py\r\n",
      "\u001b[0m\u001b[38;5;13mbleu_scores_bar.png\u001b[0m               prep_vocab.py\r\n",
      "bleu_scores.pdf                   \u001b[38;5;27m__pycache__\u001b[0m/\r\n",
      "\u001b[38;5;13mbleu_scores.png\u001b[0m                   results_10-25-50-old-google.html\r\n",
      "\u001b[38;5;34mbow_exp.bat\u001b[0m*                      results.ipynb\r\n",
      "bow_run.py                        results.txt\r\n",
      "bow_scratch.ipynb                 \u001b[38;5;34mrun_exp.bat\u001b[0m*\r\n",
      "common                            \u001b[38;5;13ms2t_prec_rec.png\u001b[0m\r\n",
      "common.py                         s2t.sublime-project\r\n",
      "create_refs.py                    s2t.sublime-workspace\r\n",
      "debug.ipynb                       scratch.ipynb\r\n",
      "debug_model.ipynb                 scratch_sru.ipynb\r\n",
      "debug_model-with_files.ipynb      scratchy.ipynb\r\n",
      "debug_model-with_files-nmt.ipynb  \u001b[38;5;27msp2bagwords\u001b[0m/\r\n",
      "\u001b[38;5;27memb_sp2enw\u001b[0m/                       \u001b[38;5;27msp2enc_mel-80_vocab-nltk\u001b[0m/\r\n",
      "enc_dec.py                        \u001b[38;5;27msp2enw\u001b[0m/\r\n",
      "\u001b[38;5;27mesc2esc\u001b[0m/                          \u001b[38;5;27msp2enw_azure_feb12\u001b[0m/\r\n",
      "\u001b[38;5;27mesw2enw\u001b[0m/                          \u001b[38;5;27msp2enw_hyp_search\u001b[0m/\r\n",
      "explore_model.ipynb               \u001b[38;5;27msp2enw_interspeech\u001b[0m/\r\n",
      "exp_word_embeddings.ipynb         \u001b[38;5;27msp2enw_limit_vocab\u001b[0m/\r\n",
      "\u001b[38;5;27mfbanks_80dim_nltk\u001b[0m/                \u001b[38;5;27msp2enw_mel-80_vocab-nltk\u001b[0m/\r\n",
      "fisher_dev_en.ref0                \u001b[38;5;27msp2enw_mel-80_vocab-nltk_azure\u001b[0m/\r\n",
      "fisher_dev_en.ref1                \u001b[38;5;27msp_cfg_1\u001b[0m/\r\n",
      "fisher_dev_en.ref2                sp_model_cfg.json\r\n",
      "fisher_dev_en.ref3                sru.py\r\n",
      "fisher_dev_mt-output              text_query.ipynb\r\n",
      "\u001b[38;5;27mgoogle_preds\u001b[0m/                     \u001b[38;5;13mtopics_precision.png\u001b[0m\r\n",
      "instructions.txt                  \u001b[38;5;13mtopics_recall.png\u001b[0m\r\n",
      "keyword_scratch.ipynb             utils.ipynb\r\n",
      "k_means_claro.pdf                 visualize-bow.ipynb\r\n",
      "mac_nmt.sublime-project           visualize-bow-SOMUCHSTUFF.ipynb\r\n",
      "mac_nmt.sublime-workspace         visualize-Copy1.ipynb\r\n",
      "nmt_run.py                        visualize-Copy2.ipynb\r\n",
      "nmt_trials_noo-batchy.ipynb       visualize.ipynb\r\n",
      "nn_config.ipynb                   visualize-limited_vocab.ipynb\r\n",
      "plots.ipynb                       visualize-predictions-augmented.ipynb\r\n",
      "prepare_dataset.py                visualize-predictions-Copy1.ipynb\r\n",
      "prep_buckets.py                   visualize-predictions-Copy2.ipynb\r\n",
      "prep_get_speech_info.py           visualize-predictions.ipynb\r\n",
      "prep_map_kaldi_segments.py        \u001b[38;5;13mword_spotting_prec_rec.png\u001b[0m\r\n"
     ]
    }
   ],
   "source": []
  },
  {
   "cell_type": "code",
   "execution_count": 34,
   "metadata": {},
   "outputs": [
    {
     "name": "stdout",
     "output_type": "stream",
     "text": [
      "+------------+----------------------------------------------------+\n",
      "| utt        | 20051017_180712_270_fsp-B-2                        |\n",
      "+------------+----------------------------------------------------+\n",
      "| ref        | greetings ah my name is jenny and i 'm calling     |\n",
      "|            | from new york                                      |\n",
      "+------------+----------------------------------------------------+\n",
      "| simple     | good ah i 'm calling from miami and i 'm calling   |\n",
      "|            | from new york                                      |\n",
      "+------------+----------------------------------------------------+\n",
      "| sample_mix | good ah my name is jenny and i 'm calling from new |\n",
      "|            | york                                               |\n",
      "+------------+----------------------------------------------------+\n",
      "+------------+-------------------------------------------------+\n",
      "| utt        | 20051017_234550_276_fsp-A-65                    |\n",
      "+------------+-------------------------------------------------+\n",
      "| ref        | because in english it 's good but it 's not the |\n",
      "|            | same                                            |\n",
      "+------------+-------------------------------------------------+\n",
      "| simple     | because he sees the baby he 's not there but he |\n",
      "|            | does n't                                        |\n",
      "+------------+-------------------------------------------------+\n",
      "| sample_mix | because it 's the middle but it 's not the same |\n",
      "+------------+-------------------------------------------------+\n",
      "+------------+--------------------------------------------------+\n",
      "| utt        | 20051009_182032_217_fsp-B-149                    |\n",
      "+------------+--------------------------------------------------+\n",
      "| ref        | i i always when i go to puerto rico i tell him   |\n",
      "+------------+--------------------------------------------------+\n",
      "| simple     | i do n't know when i was puerto rico i do n't    |\n",
      "|            | remember                                         |\n",
      "+------------+--------------------------------------------------+\n",
      "| sample_mix | and then when i go to puerto rico and i tell him |\n",
      "+------------+--------------------------------------------------+\n",
      "+------------+------------------------------------------------+\n",
      "| utt        | 20051026_211309_346_fsp-B-8                    |\n",
      "+------------+------------------------------------------------+\n",
      "| ref        | oh yes i do n't know what they are going to do |\n",
      "|            | with that because they have                    |\n",
      "+------------+------------------------------------------------+\n",
      "| simple     | no yes you do n't know that you do n't have to |\n",
      "|            | talk about that because they have              |\n",
      "+------------+------------------------------------------------+\n",
      "| sample_mix | no if you do n't know what they do with that   |\n",
      "|            | because they have                              |\n",
      "+------------+------------------------------------------------+\n",
      "+------------+----------------------------------------------------+\n",
      "| utt        | 20051018_210220_279_fsp-A-2                        |\n",
      "+------------+----------------------------------------------------+\n",
      "| ref        | no yes here well i think that some things are good |\n",
      "|            | but others are not                                 |\n",
      "+------------+----------------------------------------------------+\n",
      "| simple     | no here here well i think some things is good but  |\n",
      "|            | another thing                                      |\n",
      "+------------+----------------------------------------------------+\n",
      "| sample_mix | no well i think that some things are good but      |\n",
      "|            | other things                                       |\n",
      "+------------+----------------------------------------------------+\n",
      "+------------+---------------------------------------------------+\n",
      "| utt        | 20051009_182032_217_fsp-B-92                      |\n",
      "+------------+---------------------------------------------------+\n",
      "| ref        | yes i was born in puerto rico and i grew up there |\n",
      "+------------+---------------------------------------------------+\n",
      "| simple     | yes it 's been puerto rico and did you come to    |\n",
      "|            | puerto rico                                       |\n",
      "+------------+---------------------------------------------------+\n",
      "| sample_mix | yes born in puerto rico and how nicer in puerto   |\n",
      "|            | rico                                              |\n",
      "+------------+---------------------------------------------------+\n",
      "+------------+--------------------------------------------------+\n",
      "| utt        | 20051009_210519_219_fsp-B-61                     |\n",
      "+------------+--------------------------------------------------+\n",
      "| ref        | and there exist so many kind of people i         |\n",
      "|            | understand them                                  |\n",
      "+------------+--------------------------------------------------+\n",
      "| simple     | ah thirty times that i 'm in what i i            |\n",
      "+------------+--------------------------------------------------+\n",
      "| sample_mix | ah the people that well i understand what i mean |\n",
      "+------------+--------------------------------------------------+\n",
      "+------------+--------------------------------------------------+\n",
      "| utt        | 20051018_210744_280_fsp-A-69                     |\n",
      "+------------+--------------------------------------------------+\n",
      "| ref        | oh ¿why 's that here in new york there are a lot |\n",
      "|            | of dominicans                                    |\n",
      "+------------+--------------------------------------------------+\n",
      "| simple     | oh that because here in new york i have n't been |\n",
      "|            | here                                             |\n",
      "+------------+--------------------------------------------------+\n",
      "| sample_mix | oh that 's why here in new york many america     |\n",
      "+------------+--------------------------------------------------+\n",
      "+------------+----------------------------------------------------+\n",
      "| utt        | 20051009_182032_217_fsp-B-109                      |\n",
      "+------------+----------------------------------------------------+\n",
      "| ref        | but but family since my family stayed there in     |\n",
      "|            | puerto rico i have my mom there my brothers        |\n",
      "+------------+----------------------------------------------------+\n",
      "| simple     | but but the family is the family that they have to |\n",
      "|            | be puerto rico and my mom is n't                   |\n",
      "+------------+----------------------------------------------------+\n",
      "| sample_mix | but but the family when my family stayed there in  |\n",
      "|            | puerto rico and my mom and my mom is not           |\n",
      "+------------+----------------------------------------------------+\n",
      "+------------+---------------------------------------------------+\n",
      "| utt        | 20051017_234550_276_fsp-B-48                      |\n",
      "+------------+---------------------------------------------------+\n",
      "| ref        | and they take lots of music from colombia from    |\n",
      "|            | mexico from all parts of puerto of of the world   |\n",
      "+------------+---------------------------------------------------+\n",
      "| simple     | and they give music from music from every and all |\n",
      "|            | of the and from the of the of the                 |\n",
      "+------------+---------------------------------------------------+\n",
      "| sample_mix | and i was a lot of music from colombia and        |\n",
      "|            | merengue and merengue                             |\n",
      "+------------+---------------------------------------------------+\n"
     ]
    }
   ],
   "source": [
    "for u in best_b:\n",
    "    display_pp = PrettyTable([\"cat\",\"sent\"], hrules=True)\n",
    "    display_pp.align = \"l\"\n",
    "    display_pp.header = False\n",
    "\n",
    "    ref_hyp = textwrap.fill(\" \".join(model_data[m_b][\"refs\"][u[0]]),50)\n",
    "    m_a_hyp = textwrap.fill(\" \".join(model_data[m_a][\"hyps\"][u[0]]),50)\n",
    "    m_b_hyp = textwrap.fill(\" \".join(model_data[m_b][\"hyps\"][u[0]]),50)\n",
    "\n",
    "    display_pp.add_row([\"utt\", u[0]])\n",
    "    display_pp.add_row([\"ref\", ref_hyp])\n",
    "    display_pp.add_row([m_a, m_a_hyp])\n",
    "    display_pp.add_row([m_b, m_b_hyp])\n",
    "    \n",
    "    print(display_pp)"
   ]
  },
  {
   "cell_type": "code",
   "execution_count": 35,
   "metadata": {},
   "outputs": [
    {
     "name": "stdout",
     "output_type": "stream",
     "text": [
      "+------------+-------------------------------------------+\n",
      "| utt        | 20051019_230329_292_fsp-A-3               |\n",
      "+------------+-------------------------------------------+\n",
      "| ref        | ah i am i am in idaho and am from chile   |\n",
      "+------------+-------------------------------------------+\n",
      "| simple     | ah i 'm i 'm in idaho and i 'm from chile |\n",
      "+------------+-------------------------------------------+\n",
      "| sample_mix | ah i 'm from ah i 'm in from chile        |\n",
      "+------------+-------------------------------------------+\n",
      "+------------+----------------------------------------------------+\n",
      "| utt        | 20051017_234550_276_fsp-B-40                       |\n",
      "+------------+----------------------------------------------------+\n",
      "| ref        | ah here in in chicago they do a lot of ah puerto   |\n",
      "|            | rican parade                                       |\n",
      "+------------+----------------------------------------------------+\n",
      "| simple     | ah here in chicago there are a puerto rican puerto |\n",
      "|            | rican                                              |\n",
      "+------------+----------------------------------------------------+\n",
      "| sample_mix | right in chicago in chicago is much for puerto     |\n",
      "|            | ricans                                             |\n",
      "+------------+----------------------------------------------------+\n",
      "+------------+----------------------------------------------------+\n",
      "| utt        | 20051019_210146_289_fsp-B-75                       |\n",
      "+------------+----------------------------------------------------+\n",
      "| ref        | well my parents are going to el salvador in        |\n",
      "|            | november for two months                            |\n",
      "+------------+----------------------------------------------------+\n",
      "| simple     | and now my dad is el el salvador in november for   |\n",
      "|            | two months                                         |\n",
      "+------------+----------------------------------------------------+\n",
      "| sample_mix | yeah well my dad is in the father of the months at |\n",
      "|            | least two months                                   |\n",
      "+------------+----------------------------------------------------+\n",
      "+------------+--------------------------------------------------+\n",
      "| utt        | 20051018_210744_280_fsp-B-78                     |\n",
      "+------------+--------------------------------------------------+\n",
      "| ref        | we we have enough money to buy what we need food |\n",
      "|            | pampers                                          |\n",
      "+------------+--------------------------------------------------+\n",
      "| simple     | we have a lot of money for what we need to buy   |\n",
      "+------------+--------------------------------------------------+\n",
      "| sample_mix | ah we have a lot of money to have to hide with   |\n",
      "+------------+--------------------------------------------------+\n",
      "+------------+---------------------------------------------------+\n",
      "| utt        | 20051019_210146_289_fsp-A-79                      |\n",
      "+------------+---------------------------------------------------+\n",
      "| ref        | yes yes but i 've heard that the scenery there is |\n",
      "|            | very pretty because there 's a lot of volcanoes   |\n",
      "+------------+---------------------------------------------------+\n",
      "| simple     | yes but i 've heard that the countries are really |\n",
      "|            | beautiful to speak a lot                          |\n",
      "+------------+---------------------------------------------------+\n",
      "| sample_mix | eh yes but i listen to the couple of the couple   |\n",
      "|            | there are beautiful are several                   |\n",
      "+------------+---------------------------------------------------+\n",
      "+------------+-----------------------------------------+\n",
      "| utt        | 20051016_210626_267_fsp-B-2             |\n",
      "+------------+-----------------------------------------+\n",
      "| ref        | i my name is aodri and i 'm in new york |\n",
      "+------------+-----------------------------------------+\n",
      "| simple     | i live in florida i 'm in new york      |\n",
      "+------------+-----------------------------------------+\n",
      "| sample_mix | i 'm not from this too                  |\n",
      "+------------+-----------------------------------------+\n",
      "+------------+----------------------------------------------------+\n",
      "| utt        | 20051019_210146_289_fsp-A-47                       |\n",
      "+------------+----------------------------------------------------+\n",
      "| ref        | and no there 's not really as much insecurity like |\n",
      "|            | there is here in the united states                 |\n",
      "+------------+----------------------------------------------------+\n",
      "| simple     | and no there 's no idea like here in the united    |\n",
      "|            | states                                             |\n",
      "+------------+----------------------------------------------------+\n",
      "| sample_mix | and no is not like in the united states            |\n",
      "+------------+----------------------------------------------------+\n",
      "+------------+----------------------------------------------------+\n",
      "| utt        | 20051024_181110_329_fsp-A-4                        |\n",
      "+------------+----------------------------------------------------+\n",
      "| ref        | ah okay okay very well nice to meet you and from   |\n",
      "|            | where are you calling                              |\n",
      "+------------+----------------------------------------------------+\n",
      "| simple     | ah i see that 's good i 've been and where are you |\n",
      "|            | calling from                                       |\n",
      "+------------+----------------------------------------------------+\n",
      "| sample_mix | ah well good good and and my kids and your mom     |\n",
      "+------------+----------------------------------------------------+\n",
      "+------------+--------------------------------------------------+\n",
      "| utt        | 20051019_210146_289_fsp-A-37                     |\n",
      "+------------+--------------------------------------------------+\n",
      "| ref        | because here in los angeles there 's never snow  |\n",
      "|            | maybe just in the mountains                      |\n",
      "+------------+--------------------------------------------------+\n",
      "| simple     | because here in los angeles it 's never never to |\n",
      "|            | the mountains                                    |\n",
      "+------------+--------------------------------------------------+\n",
      "| sample_mix | because because here in los angeles is never not |\n",
      "|            | to be the the the the mountains                  |\n",
      "+------------+--------------------------------------------------+\n",
      "+------------+--------------------------------------------------+\n",
      "| utt        | 20051017_234550_276_fsp-A-81                     |\n",
      "+------------+--------------------------------------------------+\n",
      "| ref        | ¡ woow then call you because i was specting than |\n",
      "|            | calling me                                       |\n",
      "+------------+--------------------------------------------------+\n",
      "| simple     | wow so you call you because i was waiting my mom |\n",
      "+------------+--------------------------------------------------+\n",
      "| sample_mix | wow so you already because i was talking to me   |\n",
      "|            | that i called me                                 |\n",
      "+------------+--------------------------------------------------+\n"
     ]
    }
   ],
   "source": [
    "for u in best_a:\n",
    "    display_pp = PrettyTable([\"cat\",\"sent\"], hrules=True)\n",
    "    display_pp.align = \"l\"\n",
    "    display_pp.header = False\n",
    "\n",
    "    ref_hyp = textwrap.fill(\" \".join(model_data[m_b][\"refs\"][u[0]]),50)\n",
    "    m_a_hyp = textwrap.fill(\" \".join(model_data[m_a][\"hyps\"][u[0]]),50)\n",
    "    m_b_hyp = textwrap.fill(\" \".join(model_data[m_b][\"hyps\"][u[0]]),50)\n",
    "\n",
    "    display_pp.add_row([\"utt\", u[0]])\n",
    "    display_pp.add_row([\"ref\", ref_hyp])\n",
    "    display_pp.add_row([m_a, m_a_hyp])\n",
    "    display_pp.add_row([m_b, m_b_hyp])\n",
    "    \n",
    "    print(display_pp)"
   ]
  },
  {
   "cell_type": "code",
   "execution_count": null,
   "metadata": {},
   "outputs": [],
   "source": [
    "nltk.translate.bleu_score.sentence_bleu(model_data[\"sample_mix\"][\"refs_eval\"]['20051009_182032_217_fsp-A-1'],\n",
    "                                       model_data[\"sample_mix\"][\"hyps\"]['20051009_182032_217_fsp-A-1'],\n",
    "                                       smoothing_function=smooth_fun.method2)"
   ]
  },
  {
   "cell_type": "code",
   "execution_count": null,
   "metadata": {},
   "outputs": [],
   "source": []
  },
  {
   "cell_type": "markdown",
   "metadata": {},
   "source": [
    "### sp_0.33 experiments\n",
    "\n",
    "### Dev set performance \n",
    "```\n",
    "_no sample\n",
    "^^^^^^^^^^^^^^^^^^^^^^^^^^^^^^^^^^^^^^^^^^^^^^^^^^^^^^^^^^^^^^^^^^^^^^^^^^^^^^^^\n",
    "********** dev bleu=0.1254\n",
    "********** dev: prec=46.709, recall=40.369\n",
    "\n",
    "_sample\n",
    "^^^^^^^^^^^^^^^^^^^^^^^^^^^^^^^^^^^^^^^^^^^^^^^^^^^^^^^^^^^^^^^^^^^^^^^^^^^^^^^^\n",
    "********** dev bleu=0.1338\n",
    "********** dev: prec=47.333, recall=41.707\n",
    "```\n",
    "### Test set performance \n",
    "\n",
    "```\n",
    "_no sample\n",
    "^^^^^^^^^^^^^^^^^^^^^^^^^^^^^^^^^^^^^^^^^^^^^^^^^^^^^^^^^^^^^^^^^^^^^^^^^^^^^^^^\n",
    "********** test bleu=0.1211\n",
    "********** test: prec=46.556, recall=40.643\n",
    "\n",
    "\n",
    "_sample\n",
    "^^^^^^^^^^^^^^^^^^^^^^^^^^^^^^^^^^^^^^^^^^^^^^^^^^^^^^^^^^^^^^^^^^^^^^^^^^^^^^^^\n",
    "********** test bleu=0.1265\n",
    "********** test: prec=46.967, recall=41.969\n",
    "```"
   ]
  }
 ],
 "metadata": {
  "kernelspec": {
   "display_name": "Python 3",
   "language": "python",
   "name": "python3"
  },
  "language_info": {
   "codemirror_mode": {
    "name": "ipython",
    "version": 3
   },
   "file_extension": ".py",
   "mimetype": "text/x-python",
   "name": "python",
   "nbconvert_exporter": "python",
   "pygments_lexer": "ipython3",
   "version": "3.6.3"
  }
 },
 "nbformat": 4,
 "nbformat_minor": 2
}
