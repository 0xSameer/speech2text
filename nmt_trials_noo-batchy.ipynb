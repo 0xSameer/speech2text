{
 "cells": [
  {
   "cell_type": "code",
   "execution_count": 1,
   "metadata": {
    "collapsed": false
   },
   "outputs": [
    {
     "name": "stdout",
     "output_type": "stream",
     "text": [
      "callhome es-en word level configuration\n",
      "translating es to en\n",
      "vocab size, en=51, fr=51\n"
     ]
    }
   ],
   "source": [
    "%load_ext autoreload\n",
    "%autoreload 1\n",
    "\n",
    "%aimport basics\n",
    "%aimport nn_config\n",
    "%aimport enc_dec\n",
    "\n",
    "\n",
    "from basics import *\n",
    "from nn_config import *\n",
    "from enc_dec import *\n",
    "%matplotlib inline"
   ]
  },
  {
   "cell_type": "code",
   "execution_count": 2,
   "metadata": {
    "collapsed": true
   },
   "outputs": [],
   "source": [
    "xp = cuda.cupy if gpuid >= 0 else np"
   ]
  },
  {
   "cell_type": "code",
   "execution_count": 3,
   "metadata": {
    "collapsed": false
   },
   "outputs": [],
   "source": [
    "text_data = pickle.load(open(text_data_dict, \"rb\"))"
   ]
  },
  {
   "cell_type": "code",
   "execution_count": 4,
   "metadata": {
    "collapsed": false
   },
   "outputs": [],
   "source": [
    "model = SpeechEncoderDecoder(SPEECH_DIM, vocab_size_en, num_layers_enc, num_layers_dec,\n",
    "                               hidden_units, gpuid, attn=use_attn)\n",
    "if gpuid >= 0:\n",
    "    cuda.get_device(gpuid).use()\n",
    "    model.to_gpu()"
   ]
  },
  {
   "cell_type": "code",
   "execution_count": 5,
   "metadata": {
    "collapsed": false
   },
   "outputs": [
    {
     "data": {
      "text/plain": [
       "('es_speech_to_en_char_model/train_17394sen_4-2layers_128units_es_en_speech2text_batches_callhome_es_en_1.log',\n",
       " {'en': '../../corpora/callhome/uttr_fa_vad_wavs/train.en',\n",
       "  'fr': '../../corpora/callhome/uttr_fa_vad_wavs/speech_train.es'},\n",
       " {'en': '../../corpora/callhome/uttr_fa_vad_wavs/dev.en',\n",
       "  'fr': '../../corpora/callhome/uttr_fa_vad_wavs/speech_dev.es'},\n",
       " {'en': '../../corpora/callhome/uttr_fa_vad_wavs/test.en',\n",
       "  'fr': '../../corpora/callhome/uttr_fa_vad_wavs/speech_test.es'})"
      ]
     },
     "execution_count": 5,
     "metadata": {},
     "output_type": "execute_result"
    }
   ],
   "source": [
    "log_train_fil_name, text_fname, dev_fname, test_fname"
   ]
  },
  {
   "cell_type": "code",
   "execution_count": 6,
   "metadata": {
    "collapsed": false
   },
   "outputs": [
    {
     "name": "stdout",
     "output_type": "stream",
     "text": [
      "Starting experiment\n",
      "num sentences=4 and num epochs=10\n"
     ]
    }
   ],
   "source": [
    "%aimport nmt_trials\n",
    "from nmt_trials import *"
   ]
  },
  {
   "cell_type": "code",
   "execution_count": 7,
   "metadata": {
    "collapsed": false
   },
   "outputs": [
    {
     "name": "stderr",
     "output_type": "stream",
     "text": [
      "  1%|▏         | 168/13137 [00:00<00:07, 1677.83it/s]"
     ]
    },
    {
     "name": "stdout",
     "output_type": "stream",
     "text": [
      "Splitting data into 35 buckets, each of width=24\n"
     ]
    },
    {
     "name": "stderr",
     "output_type": "stream",
     "text": [
      "100%|██████████| 13137/13137 [00:06<00:00, 2053.25it/s]"
     ]
    },
    {
     "name": "stdout",
     "output_type": "stream",
     "text": [
      "Saving bucket data\n"
     ]
    },
    {
     "name": "stderr",
     "output_type": "stream",
     "text": [
      "\n"
     ]
    }
   ],
   "source": [
    "buckets, bucket_lengths = populate_buckets()"
   ]
  },
  {
   "cell_type": "code",
   "execution_count": 9,
   "metadata": {
    "collapsed": false
   },
   "outputs": [
    {
     "data": {
      "text/plain": [
       "(800, 840)"
      ]
     },
     "execution_count": 9,
     "metadata": {},
     "output_type": "execute_result"
    }
   ],
   "source": [
    "25*32, 24*35"
   ]
  },
  {
   "cell_type": "code",
   "execution_count": 17,
   "metadata": {
    "collapsed": false
   },
   "outputs": [
    {
     "name": "stderr",
     "output_type": "stream",
     "text": [
      "\r",
      "  0%|          | 0/4 [00:00<?, ?it/s]"
     ]
    },
    {
     "name": "stdout",
     "output_type": "stream",
     "text": [
      "(4, 24, 120) (4, 24, 120) (4, 12)\n",
      "(24, 4, 120) (24, 4, 120) (12, 4)\n",
      "trying encode\n",
      "L0_enc before (24, 4, 120)\n",
      "12 (24, 4, 120) 2\n",
      "lat (4, 128)\n",
      "out (4, 128)\n",
      "lat concat (4, 256)\n",
      "lat (4, 128)\n",
      "out (4, 128)\n",
      "lat concat (4, 256)\n",
      "(1, 4, 256) (4, 256)\n",
      "lat (4, 128)\n",
      "out (4, 128)\n",
      "lat concat (4, 256)\n",
      "(2, 4, 256) (4, 256)\n",
      "lat (4, 128)\n",
      "out (4, 128)\n",
      "lat concat (4, 256)\n",
      "(3, 4, 256) (4, 256)\n",
      "lat (4, 128)\n",
      "out (4, 128)\n",
      "lat concat (4, 256)\n",
      "(4, 4, 256) (4, 256)\n",
      "lat (4, 128)\n",
      "out (4, 128)\n",
      "lat concat (4, 256)\n",
      "(5, 4, 256) (4, 256)\n",
      "lat (4, 128)\n",
      "out (4, 128)\n",
      "lat concat (4, 256)\n",
      "(6, 4, 256) (4, 256)\n",
      "lat (4, 128)\n",
      "out (4, 128)\n",
      "lat concat (4, 256)\n",
      "(7, 4, 256) (4, 256)\n",
      "lat (4, 128)\n",
      "out (4, 128)\n",
      "lat concat (4, 256)\n",
      "(8, 4, 256) (4, 256)\n",
      "lat (4, 128)\n",
      "out (4, 128)\n",
      "lat concat (4, 256)\n",
      "(9, 4, 256) (4, 256)\n",
      "lat (4, 128)\n",
      "out (4, 128)\n",
      "lat concat (4, 256)\n",
      "(10, 4, 256) (4, 256)\n",
      "lat (4, 128)\n",
      "out (4, 128)\n",
      "lat concat (4, 256)\n",
      "(11, 4, 256) (4, 256)\n",
      "L0_enc out (12, 4, 256)\n",
      "L1_enc before (12, 4, 256)\n",
      "6 (12, 4, 256) 2\n",
      "lat (4, 128)\n",
      "out (4, 128)\n",
      "lat concat (4, 256)\n",
      "lat (4, 128)\n",
      "out (4, 128)\n",
      "lat concat (4, 256)\n",
      "(1, 4, 256) (4, 256)\n",
      "lat (4, 128)\n",
      "out (4, 128)\n",
      "lat concat (4, 256)\n",
      "(2, 4, 256) (4, 256)\n",
      "lat (4, 128)\n",
      "out (4, 128)\n",
      "lat concat (4, 256)\n",
      "(3, 4, 256) (4, 256)\n",
      "lat (4, 128)\n",
      "out (4, 128)\n",
      "lat concat (4, 256)\n",
      "(4, 4, 256) (4, 256)\n",
      "lat (4, 128)\n",
      "out (4, 128)\n",
      "lat concat (4, 256)\n",
      "(5, 4, 256) (4, 256)\n",
      "L1_enc out (6, 4, 256)\n",
      "L2_enc before (6, 4, 256)\n",
      "3 (6, 4, 256) 2\n",
      "lat (4, 128)\n",
      "out (4, 128)\n",
      "lat concat (4, 256)\n",
      "lat (4, 128)\n",
      "out (4, 128)\n",
      "lat concat (4, 256)\n",
      "(1, 4, 256) (4, 256)\n",
      "lat (4, 128)\n",
      "out (4, 128)\n",
      "lat concat (4, 256)\n",
      "(2, 4, 256) (4, 256)\n",
      "L2_enc out (3, 4, 256)\n",
      "L3_enc before (3, 4, 256)\n",
      "3 (3, 4, 256) 1\n",
      "lat (4, 128)\n",
      "lat (4, 128)\n",
      "(1, 4, 128) (4, 128)\n",
      "lat (4, 128)\n",
      "(2, 4, 128) (4, 128)\n",
      "L3_enc out (3, 4, 128)\n",
      "L0_enc before (24, 4, 120)\n",
      "12 (24, 4, 120) 2\n",
      "lat (4, 128)\n",
      "out (4, 128)\n",
      "lat concat (4, 256)\n",
      "lat (4, 128)\n",
      "out (4, 128)\n",
      "lat concat (4, 256)\n",
      "(1, 4, 256) (4, 256)\n",
      "lat (4, 128)\n",
      "out (4, 128)\n",
      "lat concat (4, 256)\n",
      "(2, 4, 256) (4, 256)\n",
      "lat (4, 128)\n",
      "out (4, 128)\n",
      "lat concat (4, 256)\n",
      "(3, 4, 256) (4, 256)\n",
      "lat (4, 128)\n",
      "out (4, 128)\n",
      "lat concat (4, 256)\n",
      "(4, 4, 256) (4, 256)\n",
      "lat (4, 128)\n",
      "out (4, 128)\n",
      "lat concat (4, 256)\n",
      "(5, 4, 256) (4, 256)\n",
      "lat (4, 128)\n",
      "out (4, 128)\n",
      "lat concat (4, 256)\n",
      "(6, 4, 256) (4, 256)\n",
      "lat (4, 128)\n",
      "out (4, 128)\n",
      "lat concat (4, 256)\n",
      "(7, 4, 256) (4, 256)\n",
      "lat (4, 128)\n",
      "out (4, 128)\n",
      "lat concat (4, 256)\n",
      "(8, 4, 256) (4, 256)\n",
      "lat (4, 128)\n",
      "out (4, 128)\n",
      "lat concat (4, 256)\n",
      "(9, 4, 256) (4, 256)\n",
      "lat (4, 128)\n",
      "out (4, 128)\n",
      "lat concat (4, 256)\n",
      "(10, 4, 256) (4, 256)\n",
      "lat (4, 128)\n",
      "out (4, 128)\n",
      "lat concat (4, 256)\n",
      "(11, 4, 256) (4, 256)\n",
      "L0_enc out (12, 4, 256)\n",
      "L1_enc before (12, 4, 256)\n",
      "6 (12, 4, 256) 2\n",
      "lat (4, 128)\n",
      "out (4, 128)\n",
      "lat concat (4, 256)\n",
      "lat (4, 128)\n",
      "out (4, 128)\n",
      "lat concat (4, 256)\n",
      "(1, 4, 256) (4, 256)\n",
      "lat (4, 128)\n",
      "out (4, 128)\n",
      "lat concat (4, 256)\n",
      "(2, 4, 256) (4, 256)\n",
      "lat (4, 128)\n",
      "out (4, 128)\n",
      "lat concat (4, 256)\n",
      "(3, 4, 256) (4, 256)\n",
      "lat (4, 128)\n",
      "out (4, 128)\n",
      "lat concat (4, 256)\n",
      "(4, 4, 256) (4, 256)\n",
      "lat (4, 128)\n",
      "out (4, 128)\n",
      "lat concat (4, 256)\n",
      "(5, 4, 256) (4, 256)\n",
      "L1_enc out (6, 4, 256)\n",
      "L2_enc before (6, 4, 256)\n",
      "3 (6, 4, 256) 2\n",
      "lat (4, 128)\n",
      "out (4, 128)\n",
      "lat concat (4, 256)\n",
      "lat (4, 128)\n",
      "out (4, 128)\n",
      "lat concat (4, 256)\n",
      "(1, 4, 256) (4, 256)\n",
      "lat (4, 128)\n",
      "out (4, 128)\n",
      "lat concat (4, 256)\n",
      "(2, 4, 256) (4, 256)\n",
      "L2_enc out (3, 4, 256)\n",
      "L3_enc before (3, 4, 256)\n",
      "3 (3, 4, 256) 1\n",
      "lat (4, 128)\n",
      "lat (4, 128)\n",
      "(1, 4, 128) (4, 128)\n",
      "lat (4, 128)\n",
      "(2, 4, 128) (4, 128)\n",
      "L3_enc out (3, 4, 128)\n",
      "L0_rev_enc before (24, 4, 120)\n",
      "12 (24, 4, 120) 2\n",
      "lat (4, 128)\n",
      "out (4, 128)\n",
      "lat concat (4, 256)\n",
      "lat (4, 128)\n",
      "out (4, 128)\n",
      "lat concat (4, 256)\n",
      "(1, 4, 256) (4, 256)\n",
      "lat (4, 128)\n",
      "out (4, 128)\n",
      "lat concat (4, 256)\n",
      "(2, 4, 256) (4, 256)\n",
      "lat (4, 128)\n",
      "out (4, 128)\n",
      "lat concat (4, 256)\n",
      "(3, 4, 256) (4, 256)\n",
      "lat (4, 128)\n",
      "out (4, 128)\n",
      "lat concat (4, 256)\n",
      "(4, 4, 256) (4, 256)\n",
      "lat (4, 128)\n",
      "out (4, 128)\n",
      "lat concat (4, 256)\n",
      "(5, 4, 256) (4, 256)\n",
      "lat (4, 128)\n",
      "out (4, 128)\n",
      "lat concat (4, 256)\n",
      "(6, 4, 256) (4, 256)\n",
      "lat (4, 128)\n",
      "out (4, 128)\n",
      "lat concat (4, 256)\n",
      "(7, 4, 256) (4, 256)\n",
      "lat (4, 128)\n",
      "out (4, 128)\n",
      "lat concat (4, 256)\n",
      "(8, 4, 256) (4, 256)\n",
      "lat (4, 128)\n",
      "out (4, 128)\n",
      "lat concat (4, 256)\n",
      "(9, 4, 256) (4, 256)\n",
      "lat (4, 128)\n",
      "out (4, 128)\n",
      "lat concat (4, 256)\n",
      "(10, 4, 256) (4, 256)\n",
      "lat (4, 128)\n",
      "out (4, 128)\n",
      "lat concat (4, 256)\n",
      "(11, 4, 256) (4, 256)\n",
      "L0_rev_enc out (12, 4, 256)\n",
      "L1_rev_enc before (12, 4, 256)\n",
      "6 (12, 4, 256) 2\n",
      "lat (4, 128)\n",
      "out (4, 128)\n",
      "lat concat (4, 256)\n",
      "lat (4, 128)\n",
      "out (4, 128)\n",
      "lat concat (4, 256)\n",
      "(1, 4, 256) (4, 256)\n",
      "lat (4, 128)\n",
      "out (4, 128)\n",
      "lat concat (4, 256)\n",
      "(2, 4, 256) (4, 256)\n",
      "lat (4, 128)\n",
      "out (4, 128)\n",
      "lat concat (4, 256)\n",
      "(3, 4, 256) (4, 256)\n",
      "lat (4, 128)\n",
      "out (4, 128)\n",
      "lat concat (4, 256)\n",
      "(4, 4, 256) (4, 256)\n",
      "lat (4, 128)\n",
      "out (4, 128)\n",
      "lat concat (4, 256)\n",
      "(5, 4, 256) (4, 256)\n",
      "L1_rev_enc out (6, 4, 256)\n",
      "L2_rev_enc before (6, 4, 256)\n",
      "3 (6, 4, 256) 2\n",
      "lat (4, 128)\n",
      "out (4, 128)\n",
      "lat concat (4, 256)\n",
      "lat (4, 128)\n",
      "out (4, 128)\n",
      "lat concat (4, 256)\n",
      "(1, 4, 256) (4, 256)\n",
      "lat (4, 128)\n",
      "out (4, 128)\n",
      "lat concat (4, 256)\n",
      "(2, 4, 256) (4, 256)\n",
      "L2_rev_enc out (3, 4, 256)\n",
      "L3_rev_enc before (3, 4, 256)\n",
      "3 (3, 4, 256) 1\n",
      "lat (4, 128)\n",
      "lat (4, 128)\n",
      "(1, 4, 128) (4, 128)\n",
      "lat (4, 128)\n",
      "(2, 4, 128) (4, 128)\n",
      "L3_rev_enc out (3, 4, 128)\n",
      "L_FWD_STATES (3, 4, 128)\n",
      "L_REV_STATES (3, 4, 128)\n",
      "enc_states (3, 4, 256)\n"
     ]
    },
    {
     "name": "stderr",
     "output_type": "stream",
     "text": [
      "\n"
     ]
    },
    {
     "ename": "AssertionError",
     "evalue": "",
     "output_type": "error",
     "traceback": [
      "\u001b[0;31m---------------------------------------------------------------------------\u001b[0m",
      "\u001b[0;31mAssertionError\u001b[0m                            Traceback (most recent call last)",
      "\u001b[0;32m<ipython-input-17-171e81cebdc9>\u001b[0m in \u001b[0;36m<module>\u001b[0;34m()\u001b[0m\n\u001b[0;32m----> 1\u001b[0;31m \u001b[0mbatch_training\u001b[0m\u001b[0;34m(\u001b[0m\u001b[0mBATCH_SIZE\u001b[0m\u001b[0;34m,\u001b[0m \u001b[0mBATCH_SIZE\u001b[0m\u001b[0;34m,\u001b[0m \u001b[0mbuckets\u001b[0m\u001b[0;34m,\u001b[0m \u001b[0mbucket_lengths\u001b[0m\u001b[0;34m,\u001b[0m \u001b[0mSPEECH_BUCKET_WIDTH\u001b[0m\u001b[0;34m,\u001b[0m \u001b[0;36m0\u001b[0m\u001b[0;34m)\u001b[0m\u001b[0;34m\u001b[0m\u001b[0m\n\u001b[0m",
      "\u001b[0;32m/afs/inf.ed.ac.uk/group/project/lowres/work/chainer/speech2text/nmt_trials.py\u001b[0m in \u001b[0;36mbatch_training\u001b[0;34m(num_training, batch_size, buckets, bucket_lengths, width_b, epoch)\u001b[0m\n\u001b[1;32m    393\u001b[0m \u001b[0;34m\u001b[0m\u001b[0m\n\u001b[1;32m    394\u001b[0m \u001b[0;34m\u001b[0m\u001b[0m\n\u001b[0;32m--> 395\u001b[0;31m                 \u001b[0mloss\u001b[0m \u001b[0;34m=\u001b[0m \u001b[0mmodel\u001b[0m\u001b[0;34m.\u001b[0m\u001b[0mencode_decode_train_batch\u001b[0m\u001b[0;34m(\u001b[0m\u001b[0mbatch_data\u001b[0m\u001b[0;34m,\u001b[0m \u001b[0mpad_size_speech\u001b[0m\u001b[0;34m,\u001b[0m \u001b[0mpad_size_en\u001b[0m\u001b[0;34m,\u001b[0m \u001b[0mtrain\u001b[0m\u001b[0;34m=\u001b[0m\u001b[0;32mTrue\u001b[0m\u001b[0;34m)\u001b[0m\u001b[0;34m\u001b[0m\u001b[0m\n\u001b[0m\u001b[1;32m    396\u001b[0m \u001b[0;34m\u001b[0m\u001b[0m\n\u001b[1;32m    397\u001b[0m                 \u001b[0mtotal_trained\u001b[0m \u001b[0;34m+=\u001b[0m \u001b[0mlen\u001b[0m\u001b[0;34m(\u001b[0m\u001b[0mbatch_data\u001b[0m\u001b[0;34m)\u001b[0m\u001b[0;34m\u001b[0m\u001b[0m\n",
      "\u001b[0;32m/afs/inf.ed.ac.uk/group/project/lowres/work/chainer/speech2text/enc_dec.py\u001b[0m in \u001b[0;36mencode_decode_train_batch\u001b[0;34m(self, batch_data, src_lim, tar_lim, train)\u001b[0m\n\u001b[1;32m    485\u001b[0m         \u001b[0mself\u001b[0m\u001b[0;34m.\u001b[0m\u001b[0mset_decoder_state\u001b[0m\u001b[0;34m(\u001b[0m\u001b[0;34m)\u001b[0m\u001b[0;34m\u001b[0m\u001b[0m\n\u001b[1;32m    486\u001b[0m         \u001b[0;31m# decode and compute loss\u001b[0m\u001b[0;34m\u001b[0m\u001b[0;34m\u001b[0m\u001b[0m\n\u001b[0;32m--> 487\u001b[0;31m         \u001b[0mself\u001b[0m\u001b[0;34m.\u001b[0m\u001b[0mloss\u001b[0m \u001b[0;34m=\u001b[0m \u001b[0mself\u001b[0m\u001b[0;34m.\u001b[0m\u001b[0mdecode_batch\u001b[0m\u001b[0;34m(\u001b[0m\u001b[0mdecoder_batch\u001b[0m\u001b[0;34m,\u001b[0m \u001b[0mtrain\u001b[0m\u001b[0;34m=\u001b[0m\u001b[0mtrain\u001b[0m\u001b[0;34m)\u001b[0m\u001b[0;34m\u001b[0m\u001b[0m\n\u001b[0m\u001b[1;32m    488\u001b[0m \u001b[0;34m\u001b[0m\u001b[0m\n\u001b[1;32m    489\u001b[0m         \u001b[0;32mreturn\u001b[0m \u001b[0mself\u001b[0m\u001b[0;34m.\u001b[0m\u001b[0mloss\u001b[0m\u001b[0;34m\u001b[0m\u001b[0m\n",
      "\u001b[0;32m/afs/inf.ed.ac.uk/group/project/lowres/work/chainer/speech2text/enc_dec.py\u001b[0m in \u001b[0;36mdecode_batch\u001b[0;34m(self, decoder_batch, train)\u001b[0m\n\u001b[1;32m    418\u001b[0m \u001b[0;34m\u001b[0m\u001b[0m\n\u001b[1;32m    419\u001b[0m             \u001b[0;32mif\u001b[0m \u001b[0mself\u001b[0m\u001b[0;34m.\u001b[0m\u001b[0mattn\u001b[0m\u001b[0;34m:\u001b[0m\u001b[0;34m\u001b[0m\u001b[0m\n\u001b[0;32m--> 420\u001b[0;31m                 \u001b[0mcv\u001b[0m\u001b[0;34m,\u001b[0m \u001b[0m_\u001b[0m \u001b[0;34m=\u001b[0m \u001b[0mself\u001b[0m\u001b[0;34m.\u001b[0m\u001b[0mcompute_context_vector\u001b[0m\u001b[0;34m(\u001b[0m\u001b[0;34m)\u001b[0m\u001b[0;34m\u001b[0m\u001b[0m\n\u001b[0m\u001b[1;32m    421\u001b[0m                 \u001b[0mcv_hdec\u001b[0m \u001b[0;34m=\u001b[0m \u001b[0mF\u001b[0m\u001b[0;34m.\u001b[0m\u001b[0mconcat\u001b[0m\u001b[0;34m(\u001b[0m\u001b[0;34m(\u001b[0m\u001b[0mcv\u001b[0m\u001b[0;34m,\u001b[0m \u001b[0mself\u001b[0m\u001b[0;34m[\u001b[0m\u001b[0mself\u001b[0m\u001b[0;34m.\u001b[0m\u001b[0mlstm_dec\u001b[0m\u001b[0;34m[\u001b[0m\u001b[0;34m-\u001b[0m\u001b[0;36m1\u001b[0m\u001b[0;34m]\u001b[0m\u001b[0;34m]\u001b[0m\u001b[0;34m.\u001b[0m\u001b[0mh\u001b[0m\u001b[0;34m)\u001b[0m\u001b[0;34m,\u001b[0m \u001b[0maxis\u001b[0m\u001b[0;34m=\u001b[0m\u001b[0;36m1\u001b[0m\u001b[0;34m)\u001b[0m\u001b[0;34m\u001b[0m\u001b[0m\n\u001b[1;32m    422\u001b[0m                 \u001b[0mht\u001b[0m \u001b[0;34m=\u001b[0m \u001b[0mF\u001b[0m\u001b[0;34m.\u001b[0m\u001b[0mtanh\u001b[0m\u001b[0;34m(\u001b[0m\u001b[0mself\u001b[0m\u001b[0;34m.\u001b[0m\u001b[0mcontext\u001b[0m\u001b[0;34m(\u001b[0m\u001b[0mcv_hdec\u001b[0m\u001b[0;34m)\u001b[0m\u001b[0;34m)\u001b[0m\u001b[0;34m\u001b[0m\u001b[0m\n",
      "\u001b[0;32m/afs/inf.ed.ac.uk/group/project/lowres/work/chainer/speech2text/enc_dec.py\u001b[0m in \u001b[0;36mcompute_context_vector\u001b[0;34m(self, batches)\u001b[0m\n\u001b[1;32m    175\u001b[0m         \u001b[0;32mif\u001b[0m \u001b[0mbatches\u001b[0m\u001b[0;34m:\u001b[0m\u001b[0;34m\u001b[0m\u001b[0m\n\u001b[1;32m    176\u001b[0m             \u001b[0;31m# masking pad ids for attention\u001b[0m\u001b[0;34m\u001b[0m\u001b[0;34m\u001b[0m\u001b[0m\n\u001b[0;32m--> 177\u001b[0;31m             \u001b[0mweights\u001b[0m \u001b[0;34m=\u001b[0m \u001b[0mF\u001b[0m\u001b[0;34m.\u001b[0m\u001b[0mbatch_matmul\u001b[0m\u001b[0;34m(\u001b[0m\u001b[0mself\u001b[0m\u001b[0;34m.\u001b[0m\u001b[0menc_states\u001b[0m\u001b[0;34m,\u001b[0m \u001b[0mself\u001b[0m\u001b[0;34m[\u001b[0m\u001b[0mself\u001b[0m\u001b[0;34m.\u001b[0m\u001b[0mlstm_dec\u001b[0m\u001b[0;34m[\u001b[0m\u001b[0;34m-\u001b[0m\u001b[0;36m1\u001b[0m\u001b[0;34m]\u001b[0m\u001b[0;34m]\u001b[0m\u001b[0;34m.\u001b[0m\u001b[0mh\u001b[0m\u001b[0;34m)\u001b[0m\u001b[0;34m\u001b[0m\u001b[0m\n\u001b[0m\u001b[1;32m    178\u001b[0m             \u001b[0mweights\u001b[0m \u001b[0;34m=\u001b[0m \u001b[0mF\u001b[0m\u001b[0;34m.\u001b[0m\u001b[0mwhere\u001b[0m\u001b[0;34m(\u001b[0m\u001b[0mself\u001b[0m\u001b[0;34m.\u001b[0m\u001b[0mmask\u001b[0m\u001b[0;34m,\u001b[0m \u001b[0mweights\u001b[0m\u001b[0;34m,\u001b[0m \u001b[0mself\u001b[0m\u001b[0;34m.\u001b[0m\u001b[0mminf\u001b[0m\u001b[0;34m)\u001b[0m\u001b[0;34m\u001b[0m\u001b[0m\n\u001b[1;32m    179\u001b[0m \u001b[0;34m\u001b[0m\u001b[0m\n",
      "\u001b[0;32m/afs/inf.ed.ac.uk/user/s14/s1444673/anaconda3/envs/mtenv/lib/python3.6/site-packages/chainer/functions/math/matmul.py\u001b[0m in \u001b[0;36mbatch_matmul\u001b[0;34m(a, b, transa, transb)\u001b[0m\n\u001b[1;32m    226\u001b[0m             \u001b[0;36m3\u001b[0m\u001b[0;34m-\u001b[0m\u001b[0mD\u001b[0m \u001b[0marray\u001b[0m\u001b[0;34m.\u001b[0m\u001b[0;34m\u001b[0m\u001b[0m\n\u001b[1;32m    227\u001b[0m     \"\"\"\n\u001b[0;32m--> 228\u001b[0;31m     \u001b[0;32mreturn\u001b[0m \u001b[0mBatchMatMul\u001b[0m\u001b[0;34m(\u001b[0m\u001b[0mtransa\u001b[0m\u001b[0;34m=\u001b[0m\u001b[0mtransa\u001b[0m\u001b[0;34m,\u001b[0m \u001b[0mtransb\u001b[0m\u001b[0;34m=\u001b[0m\u001b[0mtransb\u001b[0m\u001b[0;34m)\u001b[0m\u001b[0;34m(\u001b[0m\u001b[0ma\u001b[0m\u001b[0;34m,\u001b[0m \u001b[0mb\u001b[0m\u001b[0;34m)\u001b[0m\u001b[0;34m\u001b[0m\u001b[0m\n\u001b[0m",
      "\u001b[0;32m/afs/inf.ed.ac.uk/user/s14/s1444673/anaconda3/envs/mtenv/lib/python3.6/site-packages/chainer/function.py\u001b[0m in \u001b[0;36m__call__\u001b[0;34m(self, *inputs)\u001b[0m\n\u001b[1;32m    197\u001b[0m         \u001b[0;31m# Forward prop\u001b[0m\u001b[0;34m\u001b[0m\u001b[0;34m\u001b[0m\u001b[0m\n\u001b[1;32m    198\u001b[0m         \u001b[0;32mwith\u001b[0m \u001b[0mcuda\u001b[0m\u001b[0;34m.\u001b[0m\u001b[0mget_device\u001b[0m\u001b[0;34m(\u001b[0m\u001b[0;34m*\u001b[0m\u001b[0min_data\u001b[0m\u001b[0;34m)\u001b[0m\u001b[0;34m:\u001b[0m\u001b[0;34m\u001b[0m\u001b[0m\n\u001b[0;32m--> 199\u001b[0;31m             \u001b[0moutputs\u001b[0m \u001b[0;34m=\u001b[0m \u001b[0mself\u001b[0m\u001b[0;34m.\u001b[0m\u001b[0mforward\u001b[0m\u001b[0;34m(\u001b[0m\u001b[0min_data\u001b[0m\u001b[0;34m)\u001b[0m\u001b[0;34m\u001b[0m\u001b[0m\n\u001b[0m\u001b[1;32m    200\u001b[0m             \u001b[0;32massert\u001b[0m \u001b[0mtype\u001b[0m\u001b[0;34m(\u001b[0m\u001b[0moutputs\u001b[0m\u001b[0;34m)\u001b[0m \u001b[0;34m==\u001b[0m \u001b[0mtuple\u001b[0m\u001b[0;34m\u001b[0m\u001b[0m\n\u001b[1;32m    201\u001b[0m         \u001b[0;32mfor\u001b[0m \u001b[0mhook\u001b[0m \u001b[0;32min\u001b[0m \u001b[0msix\u001b[0m\u001b[0;34m.\u001b[0m\u001b[0mitervalues\u001b[0m\u001b[0;34m(\u001b[0m\u001b[0mhooks\u001b[0m\u001b[0;34m)\u001b[0m\u001b[0;34m:\u001b[0m\u001b[0;34m\u001b[0m\u001b[0m\n",
      "\u001b[0;32m/afs/inf.ed.ac.uk/user/s14/s1444673/anaconda3/envs/mtenv/lib/python3.6/site-packages/chainer/functions/math/matmul.py\u001b[0m in \u001b[0;36mforward\u001b[0;34m(self, x)\u001b[0m\n\u001b[1;32m    197\u001b[0m     \u001b[0;32mdef\u001b[0m \u001b[0mforward\u001b[0m\u001b[0;34m(\u001b[0m\u001b[0mself\u001b[0m\u001b[0;34m,\u001b[0m \u001b[0mx\u001b[0m\u001b[0;34m)\u001b[0m\u001b[0;34m:\u001b[0m\u001b[0;34m\u001b[0m\u001b[0m\n\u001b[1;32m    198\u001b[0m         \u001b[0ma\u001b[0m\u001b[0;34m,\u001b[0m \u001b[0mb\u001b[0m \u001b[0;34m=\u001b[0m \u001b[0mx\u001b[0m\u001b[0;34m\u001b[0m\u001b[0m\n\u001b[0;32m--> 199\u001b[0;31m         \u001b[0;32mreturn\u001b[0m \u001b[0m_batch_matmul\u001b[0m\u001b[0;34m(\u001b[0m\u001b[0ma\u001b[0m\u001b[0;34m,\u001b[0m \u001b[0mb\u001b[0m\u001b[0;34m,\u001b[0m \u001b[0mself\u001b[0m\u001b[0;34m.\u001b[0m\u001b[0mtransa\u001b[0m\u001b[0;34m,\u001b[0m \u001b[0mself\u001b[0m\u001b[0;34m.\u001b[0m\u001b[0mtransb\u001b[0m\u001b[0;34m)\u001b[0m\u001b[0;34m,\u001b[0m\u001b[0;34m\u001b[0m\u001b[0m\n\u001b[0m\u001b[1;32m    200\u001b[0m \u001b[0;34m\u001b[0m\u001b[0m\n\u001b[1;32m    201\u001b[0m     \u001b[0;32mdef\u001b[0m \u001b[0mbackward\u001b[0m\u001b[0;34m(\u001b[0m\u001b[0mself\u001b[0m\u001b[0;34m,\u001b[0m \u001b[0mx\u001b[0m\u001b[0;34m,\u001b[0m \u001b[0mgy\u001b[0m\u001b[0;34m)\u001b[0m\u001b[0;34m:\u001b[0m\u001b[0;34m\u001b[0m\u001b[0m\n",
      "\u001b[0;32m/afs/inf.ed.ac.uk/user/s14/s1444673/anaconda3/envs/mtenv/lib/python3.6/site-packages/chainer/functions/math/matmul.py\u001b[0m in \u001b[0;36m_batch_matmul\u001b[0;34m(a, b, transa, transb, transout)\u001b[0m\n\u001b[1;32m     73\u001b[0m             \u001b[0mret\u001b[0m\u001b[0;34m[\u001b[0m\u001b[0mi\u001b[0m\u001b[0;34m]\u001b[0m \u001b[0;34m=\u001b[0m \u001b[0mnumpy\u001b[0m\u001b[0;34m.\u001b[0m\u001b[0mdot\u001b[0m\u001b[0;34m(\u001b[0m\u001b[0ma\u001b[0m\u001b[0;34m[\u001b[0m\u001b[0mi\u001b[0m\u001b[0;34m]\u001b[0m\u001b[0;34m,\u001b[0m \u001b[0mb\u001b[0m\u001b[0;34m[\u001b[0m\u001b[0mi\u001b[0m\u001b[0;34m]\u001b[0m\u001b[0;34m)\u001b[0m\u001b[0;34m\u001b[0m\u001b[0m\n\u001b[1;32m     74\u001b[0m         \u001b[0;32mreturn\u001b[0m \u001b[0mret\u001b[0m\u001b[0;34m\u001b[0m\u001b[0m\n\u001b[0;32m---> 75\u001b[0;31m     \u001b[0;32mreturn\u001b[0m \u001b[0mxp\u001b[0m\u001b[0;34m.\u001b[0m\u001b[0mmatmul\u001b[0m\u001b[0;34m(\u001b[0m\u001b[0ma\u001b[0m\u001b[0;34m,\u001b[0m \u001b[0mb\u001b[0m\u001b[0;34m)\u001b[0m\u001b[0;34m\u001b[0m\u001b[0m\n\u001b[0m\u001b[1;32m     76\u001b[0m \u001b[0;34m\u001b[0m\u001b[0m\n\u001b[1;32m     77\u001b[0m \u001b[0;34m\u001b[0m\u001b[0m\n",
      "\u001b[0;32mcupy/core/core.pyx\u001b[0m in \u001b[0;36mcupy.core.core.matmul (cupy/core/core.cpp:77171)\u001b[0;34m()\u001b[0m\n",
      "\u001b[0;32mcupy/core/core.pyx\u001b[0m in \u001b[0;36mcupy.core.core.matmul (cupy/core/core.cpp:76311)\u001b[0;34m()\u001b[0m\n",
      "\u001b[0;31mAssertionError\u001b[0m: "
     ]
    }
   ],
   "source": [
    "batch_training(BATCH_SIZE, BATCH_SIZE, buckets, bucket_lengths, SPEECH_BUCKET_WIDTH, 0)"
   ]
  },
  {
   "cell_type": "code",
   "execution_count": null,
   "metadata": {
    "collapsed": false
   },
   "outputs": [],
   "source": [
    "# predict(s=0, num=1, cat=\"train\", display=True, plot=False, p_filt=0, r_filt=0)"
   ]
  },
  {
   "cell_type": "code",
   "execution_count": null,
   "metadata": {
    "collapsed": false
   },
   "outputs": [],
   "source": [
    "# print(b\" \".join(get_ids(text_data[\"train\"][\"041.004\"][\"en\"])[0]))"
   ]
  },
  {
   "cell_type": "code",
   "execution_count": null,
   "metadata": {
    "collapsed": true
   },
   "outputs": [],
   "source": [
    "# forward_states = model[model.lstm_enc[-1]].h\n",
    "# backward_states = model[model.lstm_rev_enc[-1]].h"
   ]
  },
  {
   "cell_type": "code",
   "execution_count": null,
   "metadata": {
    "collapsed": true
   },
   "outputs": [],
   "source": [
    "# model.enc_states = F.concat((forward_states, backward_states), axis=1)"
   ]
  },
  {
   "cell_type": "code",
   "execution_count": null,
   "metadata": {
    "collapsed": false
   },
   "outputs": [],
   "source": [
    "# train_loop(num_training=1000, num_epochs=1)"
   ]
  },
  {
   "cell_type": "code",
   "execution_count": null,
   "metadata": {
    "collapsed": false
   },
   "outputs": [],
   "source": [
    "wavs = []\n",
    "wavs.append(xp.load(os.path.join(speech_dir, \"041.001\"+speech_extn)))\n",
    "wavs.append(xp.load(os.path.join(speech_dir, \"041.004\"+speech_extn)))"
   ]
  },
  {
   "cell_type": "code",
   "execution_count": null,
   "metadata": {
    "collapsed": false
   },
   "outputs": [],
   "source": [
    "[l.shape for l in wavs]"
   ]
  },
  {
   "cell_type": "code",
   "execution_count": null,
   "metadata": {
    "collapsed": true
   },
   "outputs": [],
   "source": [
    "zero_arr = xp.zeros((3,120), dtype=xp.float32)"
   ]
  },
  {
   "cell_type": "code",
   "execution_count": null,
   "metadata": {
    "collapsed": false
   },
   "outputs": [],
   "source": [
    "wavs[1].dtype, zero_arr.dtype"
   ]
  },
  {
   "cell_type": "code",
   "execution_count": null,
   "metadata": {
    "collapsed": false
   },
   "outputs": [],
   "source": [
    "# xp.vstack((wavs[1], zero_arr))\n",
    "wavs[1].shape, zero_arr.shape"
   ]
  },
  {
   "cell_type": "code",
   "execution_count": null,
   "metadata": {
    "collapsed": false
   },
   "outputs": [],
   "source": [
    "wavs.append(pad_array(wavs[1], 1000, at_start=True))"
   ]
  },
  {
   "cell_type": "code",
   "execution_count": null,
   "metadata": {
    "collapsed": false
   },
   "outputs": [],
   "source": [
    "xp.concatenate((wavs[1], zero_arr), axis=0).shape"
   ]
  },
  {
   "cell_type": "code",
   "execution_count": null,
   "metadata": {
    "collapsed": false
   },
   "outputs": [],
   "source": [
    "wavs[1][:3].shape"
   ]
  },
  {
   "cell_type": "code",
   "execution_count": null,
   "metadata": {
    "collapsed": false
   },
   "outputs": [],
   "source": [
    "xp.pad(wavs[1], pad_width=(0,100), mode='constant', constant_values=0)"
   ]
  },
  {
   "cell_type": "code",
   "execution_count": null,
   "metadata": {
    "collapsed": false
   },
   "outputs": [],
   "source": [
    "def display_buckets(bucket_lengths, width_b = SPEECH_BUCKET_WIDTH):\n",
    "    headings = (\"ix\", \"len b\", \"num\", \"max fr\", \"avg fr\", \"max en\", \"avg en\")\n",
    "    print(\"{0:3s} | {1:5s} | {2:5s} | {3:6s} | {4:8s} | {5:6s} | {6:8s}\".format(*headings))\n",
    "    print(\"\\n\".join([\"{0:3d} | {1:5d} | {2:5d} | {3:6d} | {4:8.0f} | {5:6d} | {6:8.0f}\".format(i[0], (i[0]+1)*width_b, *i[1]) for i in list(bucket_lengths.items())]))\n",
    "\n",
    "\n",
    "def populate_buckets(width_b = SPEECH_BUCKET_WIDTH, \n",
    "                     num_b = SPEECH_NUM_BUCKETS, \n",
    "                     speech=True, \n",
    "                     num_sent=NUM_TRAINING_SENTENCES,\n",
    "                     filname_b=speech_bucket_data_fname,\n",
    "                     cat=\"train\", display=False):\n",
    "    \n",
    "    buckets = [[] for i in range(num_b)]\n",
    "    \n",
    "    print(\"Splitting data into {0:d} buckets, each of width={1:d}\".format(num_b, width_b))\n",
    "\n",
    "    with tqdm(total=num_sent) as pbar:\n",
    "        for i, sp_fil in enumerate(sorted(list(text_data[cat].keys()))[:num_sent]):\n",
    "\n",
    "            fr_ids, en_ids, speech_feat = get_data_item(sp_fil, cat=cat)\n",
    "\n",
    "            len_en = len(en_ids)\n",
    "            len_fr = len(fr_ids)\n",
    "            len_speech = len(speech_feat)\n",
    "            \n",
    "            indx_b = min(num_b-1, len_speech // width_b)\n",
    "\n",
    "            buckets[indx_b].append((sp_fil, len_speech, len_fr, len_en))\n",
    "\n",
    "            pbar.update(1)\n",
    "    \n",
    "    bucket_lengths = {i:(len(l), \n",
    "                    max(l, key=lambda t:t[2])[2],\n",
    "                    np.mean([i[2]for i in l]),\n",
    "                    max(l, key=lambda t:t[3])[3],\n",
    "                    np.mean([i[3]for i in l]))\n",
    "                     for i, l in enumerate(buckets)}\n",
    "\n",
    "    if display:\n",
    "        display_buckets(bucket_lengths)\n",
    "\n",
    "    # Saving bucket data\n",
    "    print(\"Saving bucket data\")\n",
    "    pickle.dump(buckets, open(filname_b, \"wb\"))\n",
    "    return buckets, bucket_lengths"
   ]
  },
  {
   "cell_type": "code",
   "execution_count": null,
   "metadata": {
    "collapsed": false
   },
   "outputs": [],
   "source": [
    "b, bucket_lengths = populate_buckets(display=True)"
   ]
  },
  {
   "cell_type": "code",
   "execution_count": null,
   "metadata": {
    "collapsed": false
   },
   "outputs": [],
   "source": [
    "b[1][:5]"
   ]
  },
  {
   "cell_type": "code",
   "execution_count": null,
   "metadata": {
    "collapsed": true
   },
   "outputs": [],
   "source": [
    "haha = [0 for i in range(10)]"
   ]
  },
  {
   "cell_type": "code",
   "execution_count": null,
   "metadata": {
    "collapsed": false
   },
   "outputs": [],
   "source": [
    "d = haha[:30]\n",
    "print(len(d))"
   ]
  },
  {
   "cell_type": "code",
   "execution_count": null,
   "metadata": {
    "collapsed": false
   },
   "outputs": [],
   "source": [
    "bucket_lengths"
   ]
  }
 ],
 "metadata": {
  "kernelspec": {
   "display_name": "Python 3",
   "language": "python",
   "name": "python3"
  },
  "language_info": {
   "codemirror_mode": {
    "name": "ipython",
    "version": 3
   },
   "file_extension": ".py",
   "mimetype": "text/x-python",
   "name": "python",
   "nbconvert_exporter": "python",
   "pygments_lexer": "ipython3",
   "version": "3.6.0"
  }
 },
 "nbformat": 4,
 "nbformat_minor": 2
}
