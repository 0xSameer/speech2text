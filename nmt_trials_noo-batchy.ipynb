{
 "cells": [
  {
   "cell_type": "code",
   "execution_count": 1,
   "metadata": {
    "collapsed": false
   },
   "outputs": [
    {
     "name": "stdout",
     "output_type": "stream",
     "text": [
      "callhome es-en word level configuration\n",
      "translating es to en\n",
      "vocab size, en=51, fr=51\n"
     ]
    }
   ],
   "source": [
    "%load_ext autoreload\n",
    "%autoreload 1\n",
    "\n",
    "%aimport basics\n",
    "%aimport nn_config\n",
    "%aimport enc_dec\n",
    "\n",
    "\n",
    "from basics import *\n",
    "from nn_config import *\n",
    "from enc_dec import *\n",
    "%matplotlib inline"
   ]
  },
  {
   "cell_type": "code",
   "execution_count": 2,
   "metadata": {
    "collapsed": true
   },
   "outputs": [],
   "source": [
    "xp = cuda.cupy if gpuid >= 0 else np"
   ]
  },
  {
   "cell_type": "code",
   "execution_count": 3,
   "metadata": {
    "collapsed": true
   },
   "outputs": [],
   "source": [
    "text_data = pickle.load(open(text_data_dict, \"rb\"))"
   ]
  },
  {
   "cell_type": "code",
   "execution_count": 4,
   "metadata": {
    "collapsed": false
   },
   "outputs": [],
   "source": [
    "model = SpeechEncoderDecoder(SPEECH_DIM, vocab_size_en, num_layers_enc, num_layers_dec,\n",
    "                               hidden_units, gpuid, attn=use_attn)\n",
    "if gpuid >= 0:\n",
    "    cuda.get_device(gpuid).use()\n",
    "    model.to_gpu()"
   ]
  },
  {
   "cell_type": "code",
   "execution_count": 6,
   "metadata": {
    "collapsed": false
   },
   "outputs": [
    {
     "data": {
      "text/plain": [
       "('es_speech_to_en_char_model/train_17394sen_4-2layers_128units_es_en_speech2text_batches_callhome_es_en_1.log',\n",
       " {'en': '../../corpora/callhome/uttr_fa_vad_wavs/train.en',\n",
       "  'fr': '../../corpora/callhome/uttr_fa_vad_wavs/speech_train.es'},\n",
       " {'en': '../../corpora/callhome/uttr_fa_vad_wavs/dev.en',\n",
       "  'fr': '../../corpora/callhome/uttr_fa_vad_wavs/speech_dev.es'},\n",
       " {'en': '../../corpora/callhome/uttr_fa_vad_wavs/test.en',\n",
       "  'fr': '../../corpora/callhome/uttr_fa_vad_wavs/speech_test.es'})"
      ]
     },
     "execution_count": 6,
     "metadata": {},
     "output_type": "execute_result"
    }
   ],
   "source": [
    "log_train_fil_name, text_fname, dev_fname, test_fname"
   ]
  },
  {
   "cell_type": "code",
   "execution_count": 20,
   "metadata": {
    "collapsed": false
   },
   "outputs": [
    {
     "name": "stdout",
     "output_type": "stream",
     "text": [
      "Starting experiment\n",
      "num sentences=10 and num epochs=10\n"
     ]
    }
   ],
   "source": [
    "%aimport nmt_trials\n",
    "from nmt_trials import *"
   ]
  },
  {
   "cell_type": "code",
   "execution_count": 21,
   "metadata": {
    "collapsed": false
   },
   "outputs": [
    {
     "name": "stderr",
     "output_type": "stream",
     "text": [
      "  1%|          | 87/13137 [00:00<00:15, 865.98it/s]"
     ]
    },
    {
     "name": "stdout",
     "output_type": "stream",
     "text": [
      "Splitting data into 32 buckets, each of width=25\n"
     ]
    },
    {
     "name": "stderr",
     "output_type": "stream",
     "text": [
      "100%|██████████| 13137/13137 [00:06<00:00, 2060.06it/s]"
     ]
    },
    {
     "name": "stdout",
     "output_type": "stream",
     "text": [
      "Saving bucket data\n"
     ]
    },
    {
     "name": "stderr",
     "output_type": "stream",
     "text": [
      "\n"
     ]
    }
   ],
   "source": [
    "buckets, bucket_lengths = populate_buckets()"
   ]
  },
  {
   "cell_type": "code",
   "execution_count": 25,
   "metadata": {
    "collapsed": false
   },
   "outputs": [
    {
     "name": "stderr",
     "output_type": "stream",
     "text": [
      "\r",
      "  0%|          | 0/20 [00:00<?, ?it/s]"
     ]
    },
    {
     "name": "stdout",
     "output_type": "stream",
     "text": [
      "Starting experiment\n",
      "num sentences=10 and num epochs=10\n"
     ]
    },
    {
     "name": "stderr",
     "output_type": "stream",
     "text": [
      "\n"
     ]
    },
    {
     "ename": "ValueError",
     "evalue": "All arrays must have same shape except the axis to concatenate",
     "output_type": "error",
     "traceback": [
      "\u001b[0;31m---------------------------------------------------------------------------\u001b[0m",
      "\u001b[0;31mValueError\u001b[0m                                Traceback (most recent call last)",
      "\u001b[0;32m<ipython-input-25-171e81cebdc9>\u001b[0m in \u001b[0;36m<module>\u001b[0;34m()\u001b[0m\n\u001b[0;32m----> 1\u001b[0;31m \u001b[0mbatch_training\u001b[0m\u001b[0;34m(\u001b[0m\u001b[0mBATCH_SIZE\u001b[0m\u001b[0;34m,\u001b[0m \u001b[0mBATCH_SIZE\u001b[0m\u001b[0;34m,\u001b[0m \u001b[0mbuckets\u001b[0m\u001b[0;34m,\u001b[0m \u001b[0mbucket_lengths\u001b[0m\u001b[0;34m,\u001b[0m \u001b[0mSPEECH_BUCKET_WIDTH\u001b[0m\u001b[0;34m,\u001b[0m \u001b[0;36m0\u001b[0m\u001b[0;34m)\u001b[0m\u001b[0;34m\u001b[0m\u001b[0m\n\u001b[0m",
      "\u001b[0;32m/afs/inf.ed.ac.uk/group/project/lowres/work/chainer/speech2text/nmt_trials.py\u001b[0m in \u001b[0;36mbatch_training\u001b[0;34m(num_training, batch_size, buckets, bucket_lengths, width_b, epoch)\u001b[0m\n\u001b[1;32m    393\u001b[0m \u001b[0;34m\u001b[0m\u001b[0m\n\u001b[1;32m    394\u001b[0m \u001b[0;34m\u001b[0m\u001b[0m\n\u001b[0;32m--> 395\u001b[0;31m                 \u001b[0mloss\u001b[0m \u001b[0;34m=\u001b[0m \u001b[0mmodel\u001b[0m\u001b[0;34m.\u001b[0m\u001b[0mencode_decode_train_batch\u001b[0m\u001b[0;34m(\u001b[0m\u001b[0mbatch_data\u001b[0m\u001b[0;34m,\u001b[0m \u001b[0mpad_size_speech\u001b[0m\u001b[0;34m,\u001b[0m \u001b[0mpad_size_en\u001b[0m\u001b[0;34m,\u001b[0m \u001b[0mtrain\u001b[0m\u001b[0;34m=\u001b[0m\u001b[0;32mTrue\u001b[0m\u001b[0;34m)\u001b[0m\u001b[0;34m\u001b[0m\u001b[0m\n\u001b[0m\u001b[1;32m    396\u001b[0m \u001b[0;34m\u001b[0m\u001b[0m\n\u001b[1;32m    397\u001b[0m                 \u001b[0mtotal_trained\u001b[0m \u001b[0;34m+=\u001b[0m \u001b[0mlen\u001b[0m\u001b[0;34m(\u001b[0m\u001b[0mbatch_data\u001b[0m\u001b[0;34m)\u001b[0m\u001b[0;34m\u001b[0m\u001b[0m\n",
      "\u001b[0;32m/afs/inf.ed.ac.uk/group/project/lowres/work/chainer/speech2text/enc_dec.py\u001b[0m in \u001b[0;36mencode_decode_train_batch\u001b[0;34m(self, batch_data, src_lim, tar_lim, train)\u001b[0m\n\u001b[1;32m    414\u001b[0m \u001b[0;34m\u001b[0m\u001b[0m\n\u001b[1;32m    415\u001b[0m         \u001b[0;32mfor\u001b[0m \u001b[0msrc\u001b[0m\u001b[0;34m,\u001b[0m \u001b[0mtar\u001b[0m \u001b[0;32min\u001b[0m \u001b[0mbatch_data\u001b[0m\u001b[0;34m:\u001b[0m\u001b[0;34m\u001b[0m\u001b[0m\n\u001b[0;32m--> 416\u001b[0;31m             \u001b[0mfwd_encoder_batch\u001b[0m \u001b[0;34m=\u001b[0m \u001b[0mxp\u001b[0m\u001b[0;34m.\u001b[0m\u001b[0mvstack\u001b[0m\u001b[0;34m(\u001b[0m\u001b[0;34m(\u001b[0m\u001b[0mfwd_encoder_batch\u001b[0m\u001b[0;34m,\u001b[0m \u001b[0mself\u001b[0m\u001b[0;34m.\u001b[0m\u001b[0mpad_array\u001b[0m\u001b[0;34m(\u001b[0m\u001b[0msrc\u001b[0m\u001b[0;34m,\u001b[0m \u001b[0msrc_lim\u001b[0m\u001b[0;34m)\u001b[0m\u001b[0;34m)\u001b[0m\u001b[0;34m)\u001b[0m\u001b[0;34m\u001b[0m\u001b[0m\n\u001b[0m\u001b[1;32m    417\u001b[0m             \u001b[0mrev_encoder_batch\u001b[0m \u001b[0;34m=\u001b[0m \u001b[0mxp\u001b[0m\u001b[0;34m.\u001b[0m\u001b[0mvstack\u001b[0m\u001b[0;34m(\u001b[0m\u001b[0;34m(\u001b[0m\u001b[0mrev_encoder_batch\u001b[0m\u001b[0;34m,\u001b[0m \u001b[0mself\u001b[0m\u001b[0;34m.\u001b[0m\u001b[0mpad_array\u001b[0m\u001b[0;34m(\u001b[0m\u001b[0mxp\u001b[0m\u001b[0;34m.\u001b[0m\u001b[0mflip\u001b[0m\u001b[0;34m(\u001b[0m\u001b[0msrc\u001b[0m\u001b[0;34m,\u001b[0m \u001b[0maxis\u001b[0m\u001b[0;34m=\u001b[0m\u001b[0;36m0\u001b[0m\u001b[0;34m)\u001b[0m\u001b[0;34m,\u001b[0m \u001b[0msrc_lim\u001b[0m\u001b[0;34m)\u001b[0m\u001b[0;34m)\u001b[0m\u001b[0;34m)\u001b[0m\u001b[0;34m\u001b[0m\u001b[0m\n\u001b[1;32m    418\u001b[0m \u001b[0;34m\u001b[0m\u001b[0m\n",
      "\u001b[0;32m/afs/inf.ed.ac.uk/user/s14/s1444673/anaconda3/envs/mtenv/lib/python3.6/site-packages/cupy/manipulation/join.py\u001b[0m in \u001b[0;36mvstack\u001b[0;34m(tup)\u001b[0m\n\u001b[1;32m    106\u001b[0m \u001b[0;34m\u001b[0m\u001b[0m\n\u001b[1;32m    107\u001b[0m     \"\"\"\n\u001b[0;32m--> 108\u001b[0;31m     \u001b[0;32mreturn\u001b[0m \u001b[0mconcatenate\u001b[0m\u001b[0;34m(\u001b[0m\u001b[0;34m[\u001b[0m\u001b[0mcupy\u001b[0m\u001b[0;34m.\u001b[0m\u001b[0matleast_2d\u001b[0m\u001b[0;34m(\u001b[0m\u001b[0mm\u001b[0m\u001b[0;34m)\u001b[0m \u001b[0;32mfor\u001b[0m \u001b[0mm\u001b[0m \u001b[0;32min\u001b[0m \u001b[0mtup\u001b[0m\u001b[0;34m]\u001b[0m\u001b[0;34m,\u001b[0m \u001b[0;36m0\u001b[0m\u001b[0;34m)\u001b[0m\u001b[0;34m\u001b[0m\u001b[0m\n\u001b[0m\u001b[1;32m    109\u001b[0m \u001b[0;34m\u001b[0m\u001b[0m\n\u001b[1;32m    110\u001b[0m \u001b[0;34m\u001b[0m\u001b[0m\n",
      "\u001b[0;32m/afs/inf.ed.ac.uk/user/s14/s1444673/anaconda3/envs/mtenv/lib/python3.6/site-packages/cupy/manipulation/join.py\u001b[0m in \u001b[0;36mconcatenate\u001b[0;34m(tup, axis)\u001b[0m\n\u001b[1;32m     47\u001b[0m \u001b[0;34m\u001b[0m\u001b[0m\n\u001b[1;32m     48\u001b[0m     \"\"\"\n\u001b[0;32m---> 49\u001b[0;31m     \u001b[0;32mreturn\u001b[0m \u001b[0mcore\u001b[0m\u001b[0;34m.\u001b[0m\u001b[0mconcatenate_method\u001b[0m\u001b[0;34m(\u001b[0m\u001b[0mtup\u001b[0m\u001b[0;34m,\u001b[0m \u001b[0maxis\u001b[0m\u001b[0;34m)\u001b[0m\u001b[0;34m\u001b[0m\u001b[0m\n\u001b[0m\u001b[1;32m     50\u001b[0m \u001b[0;34m\u001b[0m\u001b[0m\n\u001b[1;32m     51\u001b[0m \u001b[0;34m\u001b[0m\u001b[0m\n",
      "\u001b[0;32mcupy/core/core.pyx\u001b[0m in \u001b[0;36mcupy.core.core.concatenate_method (cupy/core/core.cpp:63170)\u001b[0;34m()\u001b[0m\n",
      "\u001b[0;32mcupy/core/core.pyx\u001b[0m in \u001b[0;36mcupy.core.core.concatenate_method (cupy/core/core.cpp:62861)\u001b[0;34m()\u001b[0m\n",
      "\u001b[0;31mValueError\u001b[0m: All arrays must have same shape except the axis to concatenate"
     ]
    }
   ],
   "source": [
    "batch_training(BATCH_SIZE, BATCH_SIZE, buckets, bucket_lengths, SPEECH_BUCKET_WIDTH, 0)"
   ]
  },
  {
   "cell_type": "code",
   "execution_count": 13,
   "metadata": {
    "collapsed": false
   },
   "outputs": [],
   "source": [
    "# predict(s=0, num=1, cat=\"train\", display=True, plot=False, p_filt=0, r_filt=0)"
   ]
  },
  {
   "cell_type": "code",
   "execution_count": 14,
   "metadata": {
    "collapsed": false
   },
   "outputs": [],
   "source": [
    "# print(b\" \".join(get_ids(text_data[\"train\"][\"041.004\"][\"en\"])[0]))"
   ]
  },
  {
   "cell_type": "code",
   "execution_count": 16,
   "metadata": {
    "collapsed": true
   },
   "outputs": [],
   "source": [
    "# forward_states = model[model.lstm_enc[-1]].h\n",
    "# backward_states = model[model.lstm_rev_enc[-1]].h"
   ]
  },
  {
   "cell_type": "code",
   "execution_count": 17,
   "metadata": {
    "collapsed": true
   },
   "outputs": [],
   "source": [
    "# model.enc_states = F.concat((forward_states, backward_states), axis=1)"
   ]
  },
  {
   "cell_type": "code",
   "execution_count": 18,
   "metadata": {
    "collapsed": false
   },
   "outputs": [],
   "source": [
    "# train_loop(num_training=1000, num_epochs=1)"
   ]
  },
  {
   "cell_type": "code",
   "execution_count": 19,
   "metadata": {
    "collapsed": false
   },
   "outputs": [],
   "source": [
    "wavs = []\n",
    "wavs.append(xp.load(os.path.join(speech_dir, \"041.001\"+speech_extn)))\n",
    "wavs.append(xp.load(os.path.join(speech_dir, \"041.004\"+speech_extn)))"
   ]
  },
  {
   "cell_type": "code",
   "execution_count": 20,
   "metadata": {
    "collapsed": false
   },
   "outputs": [
    {
     "data": {
      "text/plain": [
       "[(1168, 120), (484, 120)]"
      ]
     },
     "execution_count": 20,
     "metadata": {},
     "output_type": "execute_result"
    }
   ],
   "source": [
    "[l.shape for l in wavs]"
   ]
  },
  {
   "cell_type": "code",
   "execution_count": 21,
   "metadata": {
    "collapsed": true
   },
   "outputs": [],
   "source": [
    "zero_arr = xp.zeros((3,120), dtype=xp.float32)"
   ]
  },
  {
   "cell_type": "code",
   "execution_count": 22,
   "metadata": {
    "collapsed": false
   },
   "outputs": [
    {
     "data": {
      "text/plain": [
       "(dtype('float32'), dtype('float32'))"
      ]
     },
     "execution_count": 22,
     "metadata": {},
     "output_type": "execute_result"
    }
   ],
   "source": [
    "wavs[1].dtype, zero_arr.dtype"
   ]
  },
  {
   "cell_type": "code",
   "execution_count": 23,
   "metadata": {
    "collapsed": false
   },
   "outputs": [
    {
     "data": {
      "text/plain": [
       "((484, 120), (3, 120))"
      ]
     },
     "execution_count": 23,
     "metadata": {},
     "output_type": "execute_result"
    }
   ],
   "source": [
    "# xp.vstack((wavs[1], zero_arr))\n",
    "wavs[1].shape, zero_arr.shape"
   ]
  },
  {
   "cell_type": "code",
   "execution_count": 25,
   "metadata": {
    "collapsed": false
   },
   "outputs": [
    {
     "name": "stdout",
     "output_type": "stream",
     "text": [
      "484 120\n",
      "516\n",
      "(516, 120)\n",
      "(484, 120) (516, 120)\n"
     ]
    }
   ],
   "source": [
    "wavs.append(pad_array(wavs[1], 1000, at_start=True))"
   ]
  },
  {
   "cell_type": "code",
   "execution_count": 26,
   "metadata": {
    "collapsed": false
   },
   "outputs": [
    {
     "data": {
      "text/plain": [
       "(487, 120)"
      ]
     },
     "execution_count": 26,
     "metadata": {},
     "output_type": "execute_result"
    }
   ],
   "source": [
    "xp.concatenate((wavs[1], zero_arr), axis=0).shape"
   ]
  },
  {
   "cell_type": "code",
   "execution_count": 27,
   "metadata": {
    "collapsed": false
   },
   "outputs": [
    {
     "data": {
      "text/plain": [
       "(3, 120)"
      ]
     },
     "execution_count": 27,
     "metadata": {},
     "output_type": "execute_result"
    }
   ],
   "source": [
    "wavs[1][:3].shape"
   ]
  },
  {
   "cell_type": "code",
   "execution_count": 28,
   "metadata": {
    "collapsed": false
   },
   "outputs": [
    {
     "data": {
      "text/plain": [
       "array([[-5.05732393, -4.69633675, -4.35915041, ...,  0.        ,\n",
       "         0.        ,  0.        ],\n",
       "       [-5.41583586, -4.43796682, -4.59824276, ...,  0.        ,\n",
       "         0.        ,  0.        ],\n",
       "       [-4.83030939, -5.28592539, -4.88475227, ...,  0.        ,\n",
       "         0.        ,  0.        ],\n",
       "       ..., \n",
       "       [ 0.        ,  0.        ,  0.        , ...,  0.        ,\n",
       "         0.        ,  0.        ],\n",
       "       [ 0.        ,  0.        ,  0.        , ...,  0.        ,\n",
       "         0.        ,  0.        ],\n",
       "       [ 0.        ,  0.        ,  0.        , ...,  0.        ,\n",
       "         0.        ,  0.        ]], dtype=float32)"
      ]
     },
     "execution_count": 28,
     "metadata": {},
     "output_type": "execute_result"
    }
   ],
   "source": [
    "xp.pad(wavs[1], pad_width=(0,100), mode='constant', constant_values=0)"
   ]
  },
  {
   "cell_type": "code",
   "execution_count": 35,
   "metadata": {
    "collapsed": false
   },
   "outputs": [],
   "source": [
    "def display_buckets(bucket_lengths, width_b = SPEECH_BUCKET_WIDTH):\n",
    "    headings = (\"ix\", \"len b\", \"num\", \"max fr\", \"avg fr\", \"max en\", \"avg en\")\n",
    "    print(\"{0:3s} | {1:5s} | {2:5s} | {3:6s} | {4:8s} | {5:6s} | {6:8s}\".format(*headings))\n",
    "    print(\"\\n\".join([\"{0:3d} | {1:5d} | {2:5d} | {3:6d} | {4:8.0f} | {5:6d} | {6:8.0f}\".format(i[0], (i[0]+1)*width_b, *i[1]) for i in list(bucket_lengths.items())]))\n",
    "\n",
    "\n",
    "def populate_buckets(width_b = SPEECH_BUCKET_WIDTH, \n",
    "                     num_b = SPEECH_NUM_BUCKETS, \n",
    "                     speech=True, \n",
    "                     num_sent=NUM_TRAINING_SENTENCES,\n",
    "                     filname_b=speech_bucket_data_fname,\n",
    "                     cat=\"train\", display=False):\n",
    "    \n",
    "    buckets = [[] for i in range(num_b)]\n",
    "    \n",
    "    print(\"Splitting data into {0:d} buckets, each of width={1:d}\".format(num_b, width_b))\n",
    "\n",
    "    with tqdm(total=num_sent) as pbar:\n",
    "        for i, sp_fil in enumerate(sorted(list(text_data[cat].keys()))[:num_sent]):\n",
    "\n",
    "            fr_ids, en_ids, speech_feat = get_data_item(sp_fil, cat=cat)\n",
    "\n",
    "            len_en = len(en_ids)\n",
    "            len_fr = len(fr_ids)\n",
    "            len_speech = len(speech_feat)\n",
    "            \n",
    "            indx_b = min(num_b-1, len_speech // width_b)\n",
    "\n",
    "            buckets[indx_b].append((sp_fil, len_speech, len_fr, len_en))\n",
    "\n",
    "            pbar.update(1)\n",
    "    \n",
    "    bucket_lengths = {i:(len(l), \n",
    "                    max(l, key=lambda t:t[2])[2],\n",
    "                    np.mean([i[2]for i in l]),\n",
    "                    max(l, key=lambda t:t[3])[3],\n",
    "                    np.mean([i[3]for i in l]))\n",
    "                     for i, l in enumerate(buckets)}\n",
    "\n",
    "    if display:\n",
    "        display_buckets(bucket_lengths)\n",
    "\n",
    "    # Saving bucket data\n",
    "    print(\"Saving bucket data\")\n",
    "    pickle.dump(buckets, open(filname_b, \"wb\"))\n",
    "    return buckets, bucket_lengths"
   ]
  },
  {
   "cell_type": "code",
   "execution_count": 36,
   "metadata": {
    "collapsed": false
   },
   "outputs": [
    {
     "name": "stderr",
     "output_type": "stream",
     "text": [
      "  1%|          | 109/13137 [00:00<00:11, 1086.94it/s]"
     ]
    },
    {
     "name": "stdout",
     "output_type": "stream",
     "text": [
      "Splitting data into 32 buckets, each of width=25\n"
     ]
    },
    {
     "name": "stderr",
     "output_type": "stream",
     "text": [
      "100%|██████████| 13137/13137 [00:06<00:00, 2095.63it/s]"
     ]
    },
    {
     "name": "stdout",
     "output_type": "stream",
     "text": [
      "ix  | len b | num   | max fr | avg fr   | max en | avg en  \n",
      "  0 |    25 |   274 |     10 |        3 |     10 |        3\n",
      "  1 |    50 |  1582 |     21 |        4 |     24 |        4\n",
      "  2 |    75 |  1167 |     28 |        8 |     31 |        8\n",
      "  3 |   100 |  1055 |     36 |       14 |     49 |       14\n",
      "  4 |   125 |   893 |     49 |       19 |     43 |       19\n",
      "  5 |   150 |   751 |     47 |       24 |     49 |       23\n",
      "  6 |   175 |   684 |     54 |       29 |     59 |       29\n",
      "  7 |   200 |   676 |     62 |       34 |     65 |       33\n",
      "  8 |   225 |   580 |     72 |       38 |     73 |       38\n",
      "  9 |   250 |   501 |     81 |       43 |     86 |       41\n",
      " 10 |   275 |   478 |     77 |       48 |     82 |       46\n",
      " 11 |   300 |   408 |     83 |       53 |     89 |       52\n",
      " 12 |   325 |   383 |     95 |       55 |     88 |       53\n",
      " 13 |   350 |   334 |    104 |       61 |    106 |       58\n",
      " 14 |   375 |   324 |    127 |       67 |    113 |       65\n",
      " 15 |   400 |   289 |    111 |       71 |    119 |       69\n",
      " 16 |   425 |   258 |    117 |       75 |    132 |       73\n",
      " 17 |   450 |   200 |    130 |       80 |    132 |       77\n",
      " 18 |   475 |   207 |    139 |       84 |    139 |       81\n",
      " 19 |   500 |   180 |    136 |       89 |    135 |       84\n",
      " 20 |   525 |   179 |    137 |       92 |    143 |       86\n",
      " 21 |   550 |   145 |    144 |       98 |    136 |       92\n",
      " 22 |   575 |   149 |    159 |      103 |    162 |       97\n",
      " 23 |   600 |   127 |    159 |      109 |    161 |      103\n",
      " 24 |   625 |   120 |    160 |      115 |    169 |      109\n",
      " 25 |   650 |   103 |    163 |      118 |    164 |      111\n",
      " 26 |   675 |    95 |    159 |      124 |    161 |      116\n",
      " 27 |   700 |    78 |    176 |      125 |    169 |      118\n",
      " 28 |   725 |    75 |    198 |      132 |    201 |      125\n",
      " 29 |   750 |    74 |    199 |      136 |    188 |      121\n",
      " 30 |   775 |    69 |    226 |      140 |    216 |      132\n",
      " 31 |   800 |   699 |    383 |      177 |    367 |      164\n",
      "Saving bucket data\n"
     ]
    },
    {
     "name": "stderr",
     "output_type": "stream",
     "text": [
      "\n"
     ]
    }
   ],
   "source": [
    "b, bucket_lengths = populate_buckets(display=True)"
   ]
  },
  {
   "cell_type": "code",
   "execution_count": 127,
   "metadata": {
    "collapsed": false
   },
   "outputs": [
    {
     "data": {
      "text/plain": [
       "[('041.002', 36, 3, 3),\n",
       " ('041.005', 49, 3, 3),\n",
       " ('041.017', 29, 3, 3),\n",
       " ('041.020', 36, 9, 9),\n",
       " ('041.034', 49, 5, 5)]"
      ]
     },
     "execution_count": 127,
     "metadata": {},
     "output_type": "execute_result"
    }
   ],
   "source": [
    "b[1][:5]"
   ]
  },
  {
   "cell_type": "code",
   "execution_count": 38,
   "metadata": {
    "collapsed": true
   },
   "outputs": [],
   "source": [
    "haha = [0 for i in range(10)]"
   ]
  },
  {
   "cell_type": "code",
   "execution_count": 40,
   "metadata": {
    "collapsed": false
   },
   "outputs": [
    {
     "name": "stdout",
     "output_type": "stream",
     "text": [
      "10\n"
     ]
    }
   ],
   "source": [
    "d = haha[:30]\n",
    "print(len(d))"
   ]
  },
  {
   "cell_type": "code",
   "execution_count": 37,
   "metadata": {
    "collapsed": false
   },
   "outputs": [
    {
     "data": {
      "text/plain": [
       "{0: (274, 10, 2.5547445255474455, 10, 3.2043795620437958),\n",
       " 1: (1582, 21, 3.9007585335018962, 24, 4.2465233881163087),\n",
       " 2: (1167, 28, 7.9905741216795203, 31, 8.1045415595544128),\n",
       " 3: (1055, 36, 13.798104265402843, 49, 13.871090047393364),\n",
       " 4: (893, 49, 18.660694288913774, 43, 18.548712206047032),\n",
       " 5: (751, 47, 23.62450066577896, 49, 23.115845539280958),\n",
       " 6: (684, 54, 29.07456140350877, 59, 28.846491228070175),\n",
       " 7: (676, 62, 33.80473372781065, 65, 32.655325443786985),\n",
       " 8: (580, 72, 38.365517241379308, 73, 37.881034482758622),\n",
       " 9: (501, 81, 42.628742514970057, 86, 41.085828343313374),\n",
       " 10: (478, 77, 47.55857740585774, 82, 45.937238493723846),\n",
       " 11: (408, 83, 53.105392156862742, 89, 51.615196078431374),\n",
       " 12: (383, 95, 55.0, 88, 53.065274151436029),\n",
       " 13: (334, 104, 61.353293413173652, 106, 58.455089820359284),\n",
       " 14: (324, 127, 66.589506172839506, 113, 64.503086419753089),\n",
       " 15: (289, 111, 70.612456747404849, 119, 68.543252595155707),\n",
       " 16: (258, 117, 74.68217054263566, 132, 72.523255813953483),\n",
       " 17: (200, 130, 80.204999999999998, 132, 77.159999999999997),\n",
       " 18: (207, 139, 84.0, 139, 80.811594202898547),\n",
       " 19: (180, 136, 89.066666666666663, 135, 83.599999999999994),\n",
       " 20: (179, 137, 91.675977653631278, 143, 85.675977653631278),\n",
       " 21: (145, 144, 98.068965517241381, 136, 91.544827586206893),\n",
       " 22: (149, 159, 103.42281879194631, 162, 97.288590604026851),\n",
       " 23: (127, 159, 109.11023622047244, 161, 103.4015748031496),\n",
       " 24: (120, 160, 114.65833333333333, 169, 108.60833333333333),\n",
       " 25: (103, 163, 118.13592233009709, 164, 110.97087378640776),\n",
       " 26: (95, 159, 124.09473684210526, 161, 115.56842105263158),\n",
       " 27: (78, 176, 125.11538461538461, 169, 117.62820512820512),\n",
       " 28: (75, 198, 132.22666666666666, 201, 124.61333333333333),\n",
       " 29: (74, 199, 135.8918918918919, 188, 121.14864864864865),\n",
       " 30: (69, 226, 139.82608695652175, 216, 131.57971014492753),\n",
       " 31: (699, 383, 176.83261802575106, 367, 164.00429184549355)}"
      ]
     },
     "execution_count": 37,
     "metadata": {},
     "output_type": "execute_result"
    }
   ],
   "source": [
    "bucket_lengths"
   ]
  }
 ],
 "metadata": {
  "kernelspec": {
   "display_name": "Python 3",
   "language": "python",
   "name": "python3"
  },
  "language_info": {
   "codemirror_mode": {
    "name": "ipython",
    "version": 3
   },
   "file_extension": ".py",
   "mimetype": "text/x-python",
   "name": "python",
   "nbconvert_exporter": "python",
   "pygments_lexer": "ipython3",
   "version": "3.6.0"
  }
 },
 "nbformat": 4,
 "nbformat_minor": 2
}
