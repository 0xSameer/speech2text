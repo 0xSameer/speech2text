{
 "cells": [
  {
   "cell_type": "code",
   "execution_count": 1,
   "metadata": {},
   "outputs": [
    {
     "name": "stdout",
     "output_type": "stream",
     "text": [
      "translating es to en\n",
      "callhome es-en word level configuration\n",
      "cnn details:\n",
      "{'ndim': 1, 'in_channels': 39, 'out_channels': 100, 'ksize': 9, 'stride': 1, 'pad': 4}\n",
      "{'ndim': 1, 'in_channels': 39, 'out_channels': 100, 'ksize': 29, 'stride': 1, 'pad': 14}\n",
      "{'ndim': 1, 'in_channels': 39, 'out_channels': 100, 'ksize': 49, 'stride': 1, 'pad': 24}\n",
      "{'ndim': 1, 'in_channels': 39, 'out_channels': 100, 'ksize': 69, 'stride': 1, 'pad': 34}\n",
      "{'ndim': 1, 'in_channels': 39, 'out_channels': 100, 'ksize': 89, 'stride': 1, 'pad': 44}\n",
      "{'ndim': 1, 'in_channels': 39, 'out_channels': 100, 'ksize': 109, 'stride': 1, 'pad': 54}\n",
      "{'ndim': 1, 'in_channels': 39, 'out_channels': 100, 'ksize': 129, 'stride': 1, 'pad': 64}\n",
      "{'ndim': 1, 'in_channels': 39, 'out_channels': 100, 'ksize': 149, 'stride': 1, 'pad': 74}\n",
      "{'ndim': 1, 'in_channels': 39, 'out_channels': 100, 'ksize': 169, 'stride': 1, 'pad': 84}\n",
      "{'ndim': 1, 'in_channels': 39, 'out_channels': 100, 'ksize': 189, 'stride': 1, 'pad': 94}\n",
      "vocab size, en=51, fr=51\n"
     ]
    }
   ],
   "source": [
    "%load_ext autoreload\n",
    "%autoreload 1\n",
    "\n",
    "%aimport basics\n",
    "%aimport nn_config\n",
    "%aimport enc_dec\n",
    "\n",
    "from basics import *\n",
    "from nn_config import *\n",
    "from enc_dec import *\n",
    "%matplotlib inline"
   ]
  },
  {
   "cell_type": "code",
   "execution_count": 2,
   "metadata": {
    "collapsed": true
   },
   "outputs": [],
   "source": [
    "xp = cuda.cupy if gpuid >= 0 else np"
   ]
  },
  {
   "cell_type": "code",
   "execution_count": 3,
   "metadata": {
    "collapsed": true
   },
   "outputs": [],
   "source": [
    "text_data = pickle.load(open(text_data_dict, \"rb\"))"
   ]
  },
  {
   "cell_type": "code",
   "execution_count": 4,
   "metadata": {
    "collapsed": true
   },
   "outputs": [],
   "source": [
    "if gpuid >= 0:\n",
    "    # print(\"here\")\n",
    "    cuda.get_device_from_id(gpuid).use()"
   ]
  },
  {
   "cell_type": "code",
   "execution_count": 5,
   "metadata": {},
   "outputs": [
    {
     "name": "stdout",
     "output_type": "stream",
     "text": [
      "rnn_in_units 1000\n",
      "using SGD optimizer\n",
      "loading data\n",
      "finished loading data\n",
      "Starting experiment\n",
      "cnn_char/dev_13137sen_6-2-10layers_512units__cnn_char_gru_adam_callhome_es_en_1.log\n",
      "cnn_char/seq2seq_13137sen_6-2-10layers_512units__cnn_char_gru_adam_callhome_es_en_1.model\n",
      "num sentences=13137 and num epochs=0\n",
      "split data into 50 buckets, each of width=16\n"
     ]
    },
    {
     "name": "stderr",
     "output_type": "stream",
     "text": [
      "100%|██████████| 13137/13137 [01:11<00:00, 183.84it/s]\n"
     ]
    },
    {
     "name": "stdout",
     "output_type": "stream",
     "text": [
      "padding labels\n",
      "split data into 50 buckets, each of width=16\n"
     ]
    },
    {
     "name": "stderr",
     "output_type": "stream",
     "text": [
      "100%|██████████| 2476/2476 [00:08<00:00, 286.78it/s]\n"
     ]
    },
    {
     "name": "stdout",
     "output_type": "stream",
     "text": [
      "padding labels\n",
      "last saved epoch model=125\n",
      "loading model ...\n",
      "finished loading: cnn_char/seq2seq_13137sen_6-2-10layers_512units__cnn_char_gru_adam_callhome_es_en_1.model\n",
      "Final saving model\n",
      "Finished saving model\n",
      "cnn_char/train_13137sen_6-2-10layers_512units__cnn_char_gru_adam_callhome_es_en_1.log\n",
      "cnn_char/dev_13137sen_6-2-10layers_512units__cnn_char_gru_adam_callhome_es_en_1.log\n",
      "cnn_char/seq2seq_13137sen_6-2-10layers_512units__cnn_char_gru_adam_callhome_es_en_1.model\n"
     ]
    }
   ],
   "source": [
    "%run nmt_trials.py"
   ]
  },
  {
   "cell_type": "code",
   "execution_count": 6,
   "metadata": {
    "collapsed": true
   },
   "outputs": [],
   "source": [
    "# model_fil = \"cnn_/seq2seq_17394sen_1-2-10layers_512units_k9-199-20_pool90_cnn_word_gru_adam_callhome_es_en_1_35.model\""
   ]
  },
  {
   "cell_type": "code",
   "execution_count": 7,
   "metadata": {
    "collapsed": true
   },
   "outputs": [],
   "source": [
    "# serializers.load_npz(model_fil, model)"
   ]
  },
  {
   "cell_type": "code",
   "execution_count": 8,
   "metadata": {},
   "outputs": [
    {
     "name": "stderr",
     "output_type": "stream",
     "text": [
      "\r",
      "  0%|          | 0/50 [00:00<?, ?it/s]"
     ]
    },
    {
     "name": "stdout",
     "output_type": "stream",
     "text": [
      "English predictions, bucket=12, num=50:\n"
     ]
    },
    {
     "name": "stderr",
     "output_type": "stream",
     "text": [
      "/afs/inf.ed.ac.uk/group/project/lowres/work/anaconda3/envs/chainer2/lib/python3.6/site-packages/chainer/utils/experimental.py:104: FutureWarning: chainer.functions.pooling.MaxPoolingND is experimental. The interface can change in the future.\n",
      "  FutureWarning)\n",
      "epoch=0, bucket=1, i=40, loss=274.9177, mean loss=204.0191: 60it [00:06,  7.13it/s]                        "
     ]
    },
    {
     "name": "stdout",
     "output_type": "stream",
     "text": [
      "--------------------------------------------------------------------------------\n",
      "***********dev mean loss=204.0191, total=612.0574, updates=3\n",
      "--------------------------------------------------------------------------------\n",
      "Ref | 'LL 'LL BE THERE FOUR DAYS GET BACK QUICKLY_EOS                                 \n",
      "Hyp | 'LL 'LL BE THERE FOUR DAYS GET BACK QUICKLY_EOS                                 \n",
      "--------------------------------------------------\n",
      "Ref | JEALOUS NO NO NO NO NO NO_EOS                                                   \n",
      "Hyp | JEALOUS NO NO NO NO NO NO_EOS                                                   \n",
      "--------------------------------------------------\n",
      "Ref | BECAUSE 'S GOT SHORT HAIR HAIR BUT YEAH_EOS                                     \n",
      "Hyp | BECAUSE 'S GOT SHORT HAIR HAIR BUT YEAH_EOS                                     \n",
      "--------------------------------------------------\n",
      "Ref | IF MAYBE THE PRESIDENT OF THE MORMONS_EOS                                       \n",
      "Hyp | IF MAYBE THE PRESIDENT OF THE MORMONS_EOS                                       \n",
      "--------------------------------------------------\n",
      "Ref | AND THE ONLY THING THEY WOULD HAVE TO DO PAY FOR THE TICKET THAT_EOS            \n",
      "Hyp | AH YES THERE NO PROBLEM I THINK THEY WILL WILL HAVE TO TAKE THE THE_EOS         \n",
      "--------------------------------------------------\n",
      "Ref | HOW MUCH IS THE TRIP FROM HERE TO THERE HEY_EOS                                 \n",
      "Hyp | HOW MUCH IS THE TRIP FROM HERE TO THERE HEY_EOS                                 \n",
      "--------------------------------------------------\n",
      "Ref | YES 'S ADOPTED KEYLOR IS ADOPTED_EOS                                            \n",
      "Hyp | YES 'S ADOPTED KEYLOR IS ADOPTED_EOS                                            \n",
      "--------------------------------------------------\n",
      "Ref | BUT WHAT IS IT THAT HURTING YOU WHAT WRONG_EOS                                  \n",
      "Hyp | BUT WHAT IS IT THAT HURTING YOU WHAT WRONG_EOS                                  \n",
      "--------------------------------------------------\n",
      "Ref | YES COURSE COURSE SO LIKE THAT_EOS                                              \n",
      "Hyp | YES COURSE COURSE SO LIKE THAT_EOS                                              \n",
      "--------------------------------------------------\n",
      "Ref | HOW NICE THAT ARE INTO INTO THAT CHELY_EOS                                      \n",
      "Hyp | HOW NICE THAT ARE INTO INTO THAT CHELY_EOS                                      \n",
      "--------------------------------------------------\n",
      "Ref | SURE THE SCHOOL YEAR IS OVER SO_EOS                                             \n",
      "Hyp | SURE THE SCHOOL YEAR IS OVER SO_EOS                                             \n",
      "--------------------------------------------------\n",
      "Ref | HAVE LOT TIME A LOT OF TIME_EOS                                                 \n",
      "Hyp | HAVE LOT TIME A LOT OF TIME_EOS                                                 \n",
      "--------------------------------------------------\n",
      "Ref | OKAY 'M GOING TO CALL AROUND AFTERNOON_EOS                                      \n",
      "Hyp | OKAY 'M GOING TO CALL AROUND AFTERNOON_EOS                                      \n",
      "--------------------------------------------------\n",
      "Ref | OH YES OH THANK THANK_EOS                                                       \n",
      "Hyp | OH YES OH THANK THANK_EOS                                                       \n",
      "--------------------------------------------------\n",
      "Ref | SPOKE THE OTHER DAY SHE CALLED ME_EOS                                           \n",
      "Hyp | SPOKE THE OTHER DAY SHE CALLED ME_EOS                                           \n",
      "--------------------------------------------------\n",
      "Ref | NEVER HAD NO NEVER_EOS                                                          \n",
      "Hyp | NEVER HAD NO NEVER_EOS                                                          \n",
      "--------------------------------------------------\n",
      "Ref | WORKS WITH ALCOHOL TOLD ME CHIOT_EOS                                            \n",
      "Hyp | WORKS WITH ALCOHOL TOLD ME CHIOT_EOS                                            \n",
      "--------------------------------------------------\n",
      "Ref | I THOUGHT ODD ODD THAT THIS THIS_EOS                                            \n",
      "Hyp | I THOUGHT ODD ODD THAT THIS THIS_EOS                                            \n",
      "--------------------------------------------------\n",
      "Ref | SUPPOSEDLY THERE IS LOTS CATTLE OVER BUT I DIDN 'T SEE ANY_EOS                  \n",
      "Hyp | SUPPOSEDLY THERE IS LOTS CATTLE OVER BUT I DIDN 'T SEE ANY_EOS                  \n",
      "--------------------------------------------------\n",
      "Ref | YEAH YEAH REALLY HOT SHE GOING TO ENGLAND BY WAY_EOS                            \n",
      "Hyp | YEAH RIGHT NOW RECENTLY RECENTLY RECENTLY RECENTLY RECENTLY RECENTLY R          \n",
      "--------------------------------------------------\n",
      "Ref | WELL HERE YOUR THESIS HAS TO BE PUBLISHED_EOS                                   \n",
      "Hyp | WELL HARD TO BE A COCHABAMBA COCHABAMBA COCHABAMBA_EOS                          \n",
      "--------------------------------------------------\n",
      "Ref | YES BUT 'RE IMPROVING IMPROVING IMPROVING IMPROVING_EOS                         \n",
      "Hyp | YES BUT 'RE IMPROVING IMPROVING IMPROVING_EOS                                   \n",
      "--------------------------------------------------\n",
      "Ref | WENT LAST SUMMER TO EUROPE_EOS                                                  \n",
      "Hyp | WENT LAST SUMMER TO EUROPE_EOS                                                  \n",
      "--------------------------------------------------\n",
      "Ref | WELL YEAH YEAH BETTER_EOS                                                       \n",
      "Hyp | WELL YEAH BUT YEAH_EOS                                                          \n",
      "--------------------------------------------------\n",
      "Ref | HEY LET SEE HOLD HOLD ON A LITTLE BIT THINK THERE ANOTHER CALL COMING_EOS       \n",
      "Hyp | HEY LET SEE HOLD HOLD ON A LITTLE BIT THINK THERE ANOTHER CALL COMING_EOS       \n",
      "--------------------------------------------------\n",
      "Ref | IF NOT THEY CHARGE YOU_EOS                                                      \n",
      "Hyp | IF NOT THEY CHARGE YOU_EOS                                                      \n",
      "--------------------------------------------------\n",
      "Ref | AND IF DON 'T HANG US UP WELL BETTER FOR US HANG UP_EOS                         \n",
      "Hyp | AND IF DON 'T HANG US UP WELL BETTER FOR US UNCLE_EOS                           \n",
      "--------------------------------------------------\n",
      "Ref | SHE 'S LOSING HER COOL TOO MUCH WITH HIM_EOS                                    \n",
      "Hyp | SHE 'S LOSING HER COOL TOO MUCH WITH HIM_EOS                                    \n",
      "--------------------------------------------------\n",
      "Ref | THERE THERE NOTHING NOTHING ELSE_EOS                                            \n",
      "Hyp | THERE THERE NOTHING NOTHING ELSE_EOS                                            \n",
      "--------------------------------------------------\n",
      "Ref | YES THAT THE_EOS                                                                \n",
      "Hyp | YES THAT THE_EOS                                                                \n",
      "--------------------------------------------------\n",
      "Ref | AY SO YES WELL THE CASE IS SIMILAR SIMILAR_EOS                                  \n",
      "Hyp | AY SO YES WHAT CAN CAN YOU LOOSE THAT BUILD THIS_EOS                            \n",
      "--------------------------------------------------\n",
      "Ref | HAVE TO PASS THROUGH DANGEROUS AREAS_EOS                                        \n",
      "Hyp | HAVE TO PASS THROUGH DANGEROUS AREAS_EOS                                        \n",
      "--------------------------------------------------\n",
      "Ref | AHA THERE 'S MORE TRICKY THAN HERE_EOS                                          \n",
      "Hyp | AHA THERE 'S MORE TRICKY THAN HERE_EOS                                          \n",
      "--------------------------------------------------\n",
      "Ref | TO FRANCA YES YES I CAN IMAGINE_EOS                                             \n",
      "Hyp | TO FRANCA YES YES I CAN IMAGINE_EOS                                             \n",
      "--------------------------------------------------\n",
      "Ref | AH BUT STILL HAVEN 'T OPEN THE POSITION THAT_EOS                                \n",
      "Hyp | AH BUT STILL HAVEN 'T OPEN THE POSITION THAT_EOS                                \n",
      "--------------------------------------------------\n",
      "Ref | YES OH THAT GREAT SURE IT GREAT_EOS                                             \n",
      "Hyp | YES OH THAT GREAT SURE IT GREAT_EOS                                             \n",
      "--------------------------------------------------\n",
      "Ref | HOW IS POSSIBLE THAT YOU 'VE FORGOTTEN_EOS                                      \n",
      "Hyp | HOW IS POSSIBLE THAT YOU 'VE FORGOTTEN_EOS                                      \n",
      "--------------------------------------------------\n",
      "Ref | YOU SHOULD 'VE STOOD UP AND SANG THE ANTHEM_EOS                                 \n",
      "Hyp | YOU SHOULD 'VE STOOD UP AND SANG THE ANTHEM_EOS                                 \n",
      "--------------------------------------------------\n",
      "Ref | YEAH THAT WHY I 'M BEING BEING VERY CAREFUL_EOS                                 \n",
      "Hyp | YEAH THAT WHAT JULIO JULIO SAY AGO WHERE IN THE FACULTY_EOS                     \n",
      "--------------------------------------------------\n",
      "Ref | YEAH YEAH AND HOW LIKE ELISA ELISA ELISA_EOS                                    \n",
      "Hyp | YEAH YEAH AND THERE IS A KING FREENET CHECKED_EOS                               \n",
      "--------------------------------------------------\n",
      "Ref | HER MOTHER UH DON 'T KNOW_EOS                                                   \n",
      "Hyp | HER MOTHER UH DON 'T KNOW_EOS                                                   \n",
      "--------------------------------------------------\n",
      "Ref | MAN SURE SURE MOM HOW NOT GOING TO BE_EOS                                       \n",
      "Hyp | MAN SURE SURE MOM HOW NOT GOING TO BE_EOS                                       \n",
      "--------------------------------------------------\n",
      "Ref | OH ALRIGHT LISTEN MORE THING_EOS                                                \n",
      "Hyp | OH ALRIGHT LISTEN MORE THING_EOS                                                \n",
      "--------------------------------------------------\n",
      "Ref | YES YES NO IS AN ESSAY_EOS                                                      \n",
      "Hyp | YES NO IS AN ESSAY_EOS                                                          \n",
      "--------------------------------------------------\n",
      "Ref | AND THEN WE WILL GO GO TO MU MU_EOS                                             \n",
      "Hyp | AND THE SIXTEEN HOURS_EOS                                                       \n",
      "--------------------------------------------------\n",
      "Ref | AND WELL IN GRANADA WE DON 'T HAVE PHONE_EOS                                    \n",
      "Hyp | AND WELL IN GRANADA WE DON 'T HAVE PHONE_EOS                                    \n",
      "--------------------------------------------------\n",
      "Ref | YES BUT THEY HAD TO HAVE GIVEN A PAPER_EOS                                      \n",
      "Hyp | YES BUT THEY HAD TO HIS GREAT PERFECT_EOS                                       \n",
      "--------------------------------------------------\n",
      "Ref | MMM WHERE DID YOU SEE MY MOM_EOS                                                \n",
      "Hyp | MMM NO WELL IS THAT MY DAD_EOS                                                  \n",
      "--------------------------------------------------\n",
      "Ref | HERE THERE A TERRIBLE DROUGHT_EOS                                               \n",
      "Hyp | REALLY GOOD THAT NICE OH_EOS                                                    \n",
      "--------------------------------------------------\n",
      "Ref | THE FIFTH FIFTH OR THE SIXTH SIXTH KITY COMING HERE_EOS                         \n",
      "Hyp | THE FIFTH FIFTH OR THE SIXTH SIXTH KITY COMING HERE_EOS                         \n",
      "--------------------------------------------------\n"
     ]
    },
    {
     "name": "stderr",
     "output_type": "stream",
     "text": [
      "\n"
     ]
    }
   ],
   "source": [
    "pr_ids, en_ids = predict(12,50, cat=\"train\", display=True)"
   ]
  },
  {
   "cell_type": "code",
   "execution_count": 10,
   "metadata": {},
   "outputs": [
    {
     "name": "stderr",
     "output_type": "stream",
     "text": [
      "\r",
      "  0%|          | 0/50 [00:00<?, ?it/s]"
     ]
    },
    {
     "name": "stdout",
     "output_type": "stream",
     "text": [
      "English predictions, bucket=5, num=50:\n"
     ]
    },
    {
     "name": "stderr",
     "output_type": "stream",
     "text": [
      "/afs/inf.ed.ac.uk/group/project/lowres/work/anaconda3/envs/chainer2/lib/python3.6/site-packages/chainer/utils/experimental.py:104: FutureWarning: chainer.functions.pooling.MaxPoolingND is experimental. The interface can change in the future.\n",
      "  FutureWarning)\n",
      "epoch=0, bucket=1, i=32, loss=349.5504, mean loss=328.9086: 64it [00:00, 70.39it/s]                       "
     ]
    },
    {
     "name": "stdout",
     "output_type": "stream",
     "text": [
      "--------------------------------------------------------------------------------\n",
      "***********dev mean loss=328.9086, total=657.8173, updates=2\n",
      "--------------------------------------------------------------------------------\n",
      "Ref | WHERE HAVE SENT_EOS                                                             \n",
      "Hyp | HOW IS THERE BECAUSE THERE WAS PLAC                                             \n",
      "--------------------------------------------------\n",
      "Ref | HI DADDY_EOS                                                                    \n",
      "Hyp | NO BUT THAT THIS CALL IS FREEN CALL                                             \n",
      "--------------------------------------------------\n",
      "Ref | WHAT HAVE READ_EOS                                                              \n",
      "Hyp | COURSE BECAUSE_EOS                                                              \n",
      "--------------------------------------------------\n",
      "Ref | YES SHE 'S BETTER_EOS                                                           \n",
      "Hyp | MMM OKAY ALREADY COUNTED HOUSE_EOS                                              \n",
      "--------------------------------------------------\n",
      "Ref | IS A A_EOS                                                                      \n",
      "Hyp | NO NO NO NO_EOS                                                                 \n",
      "--------------------------------------------------\n",
      "Ref | THE EIGHT LIKE_EOS                                                              \n",
      "Hyp | NO BUT NOT_EOS                                                                  \n",
      "--------------------------------------------------\n",
      "Ref | TOMORROW IS EIGHT SO_EOS                                                        \n",
      "Hyp | YEAH REALLY IMPOSSIBLE_EOS                                                      \n",
      "--------------------------------------------------\n",
      "Ref | OKAY HERE I PUT HER_EOS                                                         \n",
      "Hyp | AND HOW IS GOING HER_EOS                                                        \n",
      "--------------------------------------------------\n",
      "Ref | HELLO HELLO_EOS                                                                 \n",
      "Hyp | AH TO THE SALT TIME_EOS                                                         \n",
      "--------------------------------------------------\n",
      "Ref | MARITA HOW ARE_EOS                                                              \n",
      "Hyp | WELL IN MY CHILDREN THERE NO DON 'T                                             \n",
      "--------------------------------------------------\n",
      "Ref | THANKS_EOS                                                                      \n",
      "Hyp | OH RIGHT THANK GOD_EOS                                                          \n",
      "--------------------------------------------------\n",
      "Ref | SAYS THAT STILL HAVE EIGHT MINUTES_EOS                                          \n",
      "Hyp | AND THERE ARE PEOPLE THAT STARTED T                                             \n",
      "--------------------------------------------------\n",
      "Ref | DADDY_EOS                                                                       \n",
      "Hyp | SURE THAT THAT 'S LIKE_EOS                                                      \n",
      "--------------------------------------------------\n",
      "Ref | MM BUT BUT_EOS                                                                  \n",
      "Hyp | AND THE ACCOUNT IN THE CENTER_EOS                                               \n",
      "--------------------------------------------------\n",
      "Ref | MM YES YES_EOS                                                                  \n",
      "Hyp | NO MAN ARGENTINA MARIANA TRAVELS DO                                             \n",
      "--------------------------------------------------\n",
      "Ref | WHEN IS COMING_EOS                                                              \n",
      "Hyp | BUT 'S NOT LIKE BEING REPRESENTED_EOS                                           \n",
      "--------------------------------------------------\n",
      "Ref | I SEE SEE_EOS                                                                   \n",
      "Hyp | I SEE BUT HAVE TO STUDY THERE_EOS                                               \n",
      "--------------------------------------------------\n",
      "Ref | SURE_EOS                                                                        \n",
      "Hyp | SURE SURE_EOS                                                                   \n",
      "--------------------------------------------------\n",
      "Ref | UH HUH_EOS                                                                      \n",
      "Hyp | OH NO_EOS                                                                       \n",
      "--------------------------------------------------\n",
      "Ref | MM LISTEN_EOS                                                                   \n",
      "Hyp | YES THAT 'S MARRIED_EOS                                                         \n",
      "--------------------------------------------------\n",
      "Ref | AND CAME BACK_EOS                                                               \n",
      "Hyp | YES BUT THERE ARE DOCUMENTARIES_EOS                                             \n",
      "--------------------------------------------------\n",
      "Ref | I 'M WORKING_EOS                                                                \n",
      "Hyp | THEY SWOND BUT_EOS                                                              \n",
      "--------------------------------------------------\n",
      "Ref | ARE HOME_EOS                                                                    \n",
      "Hyp | SEE WAIT OAK_EOS                                                                \n",
      "--------------------------------------------------\n",
      "Ref | NO NO NO NO NO_EOS                                                              \n",
      "Hyp | OH BUT WELL 'S UP_EOS                                                           \n",
      "--------------------------------------------------\n",
      "Ref | DID GET THAT_EOS                                                                \n",
      "Hyp | AND THEY GO IN THE SCHOOL_EOS                                                   \n",
      "--------------------------------------------------\n",
      "Ref | SWEET_EOS                                                                       \n",
      "Hyp | YEAH YEAH SOON_EOS                                                              \n",
      "--------------------------------------------------\n",
      "Ref | I CAN 'T BELIEVE_EOS                                                            \n",
      "Hyp | AND THEY THEY GIVE IT ME_EOS                                                    \n",
      "--------------------------------------------------\n",
      "Ref | OH OH_EOS                                                                       \n",
      "Hyp | BUT HASN 'T BEEN ANY LISTEN_EOS                                                 \n",
      "--------------------------------------------------\n",
      "Ref | OH UH_EOS                                                                       \n",
      "Hyp | AHA YES_EOS                                                                     \n",
      "--------------------------------------------------\n",
      "Ref | MMM_EOS                                                                         \n",
      "Hyp | MM_EOS                                                                          \n",
      "--------------------------------------------------\n",
      "Ref | MMM_EOS                                                                         \n",
      "Hyp | LOOK AH THANKS_EOS                                                              \n",
      "--------------------------------------------------\n",
      "Ref | ORIGINAL_EOS                                                                    \n",
      "Hyp | BOTH OF WHAT_EOS                                                                \n",
      "--------------------------------------------------\n",
      "Ref | PERFECT_EOS                                                                     \n",
      "Hyp | SURE SURE_EOS                                                                   \n",
      "--------------------------------------------------\n",
      "Ref | OKAY_EOS                                                                        \n",
      "Hyp | HMM YES AH_EOS                                                                  \n",
      "--------------------------------------------------\n",
      "Ref | THERE THERE_EOS                                                                 \n",
      "Hyp | AND THERE IS WHAT BUT NOT LOVE_EOS                                              \n",
      "--------------------------------------------------\n",
      "Ref | LOOK RORRY_EOS                                                                  \n",
      "Hyp | YOU KNOW THINK GORDO GORDO HAS DELA                                             \n",
      "--------------------------------------------------\n",
      "Ref | YOU SPENT ALL ALREADY_EOS                                                       \n",
      "Hyp | HEY THE LAST DAY KNOW ABOUT THAT_EOS                                            \n",
      "--------------------------------------------------\n",
      "Ref | HMM_EOS                                                                         \n",
      "Hyp | YES MA 'AM_EOS                                                                  \n",
      "--------------------------------------------------\n",
      "Ref | YES_EOS                                                                         \n",
      "Hyp | MMM YES THAT_EOS                                                                \n",
      "--------------------------------------------------\n",
      "Ref | AHA AND WHAT TELL HER_EOS                                                       \n",
      "Hyp | AH THAT GOOD AH_EOS                                                             \n",
      "--------------------------------------------------\n",
      "Ref | DID THE BOSS COME_EOS                                                           \n",
      "Hyp | YES THAT THEY CHANGE SURE_EOS                                                   \n",
      "--------------------------------------------------\n",
      "Ref | YES HE WENT_EOS                                                                 \n",
      "Hyp | 'S THERE_EOS                                                                    \n",
      "--------------------------------------------------\n",
      "Ref | THIS WAS OTHER TIME_EOS                                                         \n",
      "Hyp | AH WHAT SHAME_EOS                                                               \n",
      "--------------------------------------------------\n",
      "Ref | AH 'S GOOD WELL_EOS                                                             \n",
      "Hyp | HE 'S HE LISTENING HERE_EOS                                                     \n",
      "--------------------------------------------------\n",
      "Ref | NO_EOS                                                                          \n",
      "Hyp | NO NO NO_EOS                                                                    \n",
      "--------------------------------------------------\n",
      "Ref | SO_EOS                                                                          \n",
      "Hyp | YES THAT GOOD SHE 'S_EOS                                                        \n",
      "--------------------------------------------------\n",
      "Ref | AND WHY WHY HORRIBLE_EOS                                                        \n",
      "Hyp | A PREMALLY DIFFICULT_EOS                                                        \n",
      "--------------------------------------------------\n",
      "Ref | HOW IS HOW IS_EOS                                                               \n",
      "Hyp | AND THERE IS WORK_EOS                                                           \n",
      "--------------------------------------------------\n",
      "Ref | AND I COULD_EOS                                                                 \n",
      "Hyp | HE DIDN 'T SEND THE LABOR HAS DELAY                                             \n",
      "--------------------------------------------------\n",
      "Ref | GREAT_EOS                                                                       \n",
      "Hyp | YEAH TO A COOK WOULD HAVE_EOS                                                   \n",
      "--------------------------------------------------\n"
     ]
    },
    {
     "name": "stderr",
     "output_type": "stream",
     "text": [
      "\n"
     ]
    }
   ],
   "source": [
    "pr_ids, en_ids = predict(5,50, cat=\"dev\", display=True)"
   ]
  },
  {
   "cell_type": "code",
   "execution_count": 52,
   "metadata": {},
   "outputs": [
    {
     "name": "stderr",
     "output_type": "stream",
     "text": [
      "  0%|          | 0/2476 [00:00<?, ?it/s]/afs/inf.ed.ac.uk/group/project/lowres/work/anaconda3/envs/chainer2/lib/python3.6/site-packages/chainer/utils/experimental.py:104: FutureWarning: chainer.functions.pooling.MaxPoolingND is experimental. The interface can change in the future.\n",
      "  FutureWarning)\n",
      "epoch=0, bucket=50, i=96, loss=493.1638, mean loss=134.4550: 100%|██████████| 2476/2476 [00:29<00:00, 25.53it/s]"
     ]
    },
    {
     "name": "stdout",
     "output_type": "stream",
     "text": [
      "--------------------------------------------------------------------------------\n",
      "***********dev mean loss=134.4550, total=14117.7783, updates=105\n",
      "--------------------------------------------------------------------------------\n"
     ]
    },
    {
     "name": "stderr",
     "output_type": "stream",
     "text": [
      "\n"
     ]
    }
   ],
   "source": [
    "pplx_new = compute_pplx(cat=\"dev\", num_sent=NUM_MINI_DEV_SENTENCES)"
   ]
  },
  {
   "cell_type": "code",
   "execution_count": null,
   "metadata": {
    "collapsed": true
   },
   "outputs": [],
   "source": [
    "start_here(num_training=5000, num_epochs=2)"
   ]
  },
  {
   "cell_type": "code",
   "execution_count": null,
   "metadata": {
    "collapsed": true
   },
   "outputs": [],
   "source": [
    "X = buckets_dict['dev'][1]['X_fwd'][:20]\n",
    "y = buckets_dict['dev'][1]['y'][:20]\n",
    "X.shape, y.shape"
   ]
  },
  {
   "cell_type": "code",
   "execution_count": null,
   "metadata": {
    "collapsed": true
   },
   "outputs": [],
   "source": [
    "model.reset_state()\n",
    "model.forward_enc(X)\n",
    "model.set_decoder_state()\n",
    "pred_out= model.decode(F.transpose(y)[0])"
   ]
  },
  {
   "cell_type": "code",
   "execution_count": null,
   "metadata": {
    "collapsed": true
   },
   "outputs": [],
   "source": [
    "print(F.argmax(pred_out, axis=1))\n",
    "print(F.argmax(F.softmax(pred_out), axis=1))"
   ]
  },
  {
   "cell_type": "code",
   "execution_count": null,
   "metadata": {
    "collapsed": true
   },
   "outputs": [],
   "source": [
    "ha = Variable(xp.full((batch_size,), GO_ID, dtype=xp.int32))\n",
    "model.feed_rnn(model.embed_dec(ha), model.rnn_dec).shape"
   ]
  },
  {
   "cell_type": "code",
   "execution_count": null,
   "metadata": {
    "collapsed": true
   },
   "outputs": [],
   "source": [
    "not xp.all(ha.data == GO_ID)"
   ]
  },
  {
   "cell_type": "code",
   "execution_count": null,
   "metadata": {
    "collapsed": true
   },
   "outputs": [],
   "source": [
    "xp.all(F.argmax(pred_out, axis=1).data == EOS_ID)"
   ]
  },
  {
   "cell_type": "code",
   "execution_count": null,
   "metadata": {
    "collapsed": true
   },
   "outputs": [],
   "source": [
    "model.forward(X, y)"
   ]
  },
  {
   "cell_type": "code",
   "execution_count": null,
   "metadata": {
    "collapsed": true
   },
   "outputs": [],
   "source": [
    "log_train_fil_name, text_fname, dev_fname, test_fname"
   ]
  },
  {
   "cell_type": "code",
   "execution_count": null,
   "metadata": {
    "collapsed": true
   },
   "outputs": [],
   "source": [
    "%aimport nmt_trials\n",
    "from nmt_trials import *"
   ]
  },
  {
   "cell_type": "code",
   "execution_count": null,
   "metadata": {
    "collapsed": true
   },
   "outputs": [],
   "source": [
    "# buckets, bucket_lengths = populate_buckets()"
   ]
  },
  {
   "cell_type": "code",
   "execution_count": null,
   "metadata": {
    "collapsed": true
   },
   "outputs": [],
   "source": [
    "_, en, sf1 = get_data_item('053.182')\n",
    "_, en, sf2 = get_data_item('053.183')\n",
    "xp.isnan(xp.sum(sf))"
   ]
  },
  {
   "cell_type": "code",
   "execution_count": null,
   "metadata": {
    "collapsed": true
   },
   "outputs": [],
   "source": [
    "sf1.shape, sf2.shape"
   ]
  },
  {
   "cell_type": "code",
   "execution_count": null,
   "metadata": {
    "collapsed": true
   },
   "outputs": [],
   "source": [
    "_, _, sp1 = get_data_item(\"041.002\", \"train\")\n",
    "_, _, sp2 = get_data_item(\"041.004\", \"train\")\n",
    "batch_data = [sp1[:100], sp2[:100]]\n",
    "print(sp1.shape, sp2.shape)"
   ]
  },
  {
   "cell_type": "code",
   "execution_count": null,
   "metadata": {
    "collapsed": true
   },
   "outputs": [],
   "source": [
    "buck_indx = 23\n",
    "i = 0\n",
    "batch_size = 50\n",
    "\n",
    "pad_size_speech = (buck_indx+1) * SPEECH_BUCKET_WIDTH\n",
    "pad_size_en = min(bucket_lengths[buck_indx][3], MAX_EN_LEN)\n",
    "\n",
    "src_lim = pad_size_speech\n",
    "tar_lim = pad_size_en\n",
    "\n",
    "sp_files_in_batch = [t[0] for t in buckets[buck_indx][i:i+batch_size]]\n",
    "\n",
    "# get the next batch of data\n",
    "batch_data = []\n",
    "for sp_fil in sp_files_in_batch:\n",
    "    _, en_ids, speech_feat = get_data_item(sp_fil, cat=\"train\")\n",
    "    # print(speech_feat.shape, len(en_ids))\n",
    "    batch_data.append((speech_feat[:pad_size_speech], en_ids[:pad_size_en]))\n",
    "\n",
    "# compute loss\n",
    "# loss = model.encode_decode_train_batch(batch_data, pad_size_speech, pad_size_en, train=True)"
   ]
  },
  {
   "cell_type": "code",
   "execution_count": null,
   "metadata": {
    "collapsed": true
   },
   "outputs": [],
   "source": [
    "batch_size = len(batch_data)\n",
    "in_shape_r, in_shape_c = batch_data[0][0].shape\n",
    "\n",
    "fwd_encoder_batch = xp.full((batch_size, pad_size_speech, in_shape_c), PAD_ID, dtype=xp.float32)\n",
    "rev_encoder_batch = xp.full((batch_size, pad_size_speech, in_shape_c), PAD_ID, dtype=xp.float32)\n",
    "decoder_batch = xp.full((batch_size, pad_size_en+2), PAD_ID, dtype=xp.int32)"
   ]
  },
  {
   "cell_type": "code",
   "execution_count": null,
   "metadata": {
    "collapsed": true
   },
   "outputs": [],
   "source": [
    "for i, (src, tar) in enumerate(batch_data):\n",
    "    fwd_encoder_batch[i] = model.pad_array(src, src_lim)\n",
    "    rev_encoder_batch[i] = model.pad_array(xp.flip(src, axis=0), src_lim)\n",
    "\n",
    "    tar_data = [GO_ID] + tar + [EOS_ID]\n",
    "    decoder_batch[i] = model.pad_list(tar_data, tar_lim+2, at_start=False)"
   ]
  },
  {
   "cell_type": "code",
   "execution_count": null,
   "metadata": {
    "collapsed": true
   },
   "outputs": [],
   "source": [
    "train=True"
   ]
  },
  {
   "cell_type": "code",
   "execution_count": null,
   "metadata": {
    "collapsed": true
   },
   "outputs": [],
   "source": [
    "fwd_encoder_batch = xp.swapaxes(fwd_encoder_batch, 0,1)\n",
    "rev_encoder_batch = xp.swapaxes(rev_encoder_batch, 0,1)\n",
    "decoder_batch = xp.swapaxes(decoder_batch, 0,1)"
   ]
  },
  {
   "cell_type": "code",
   "execution_count": null,
   "metadata": {
    "collapsed": true
   },
   "outputs": [],
   "source": [
    "L_FWD_STATES = model.encode_speech_batch_lstm(fwd_encoder_batch, model.lstm_enc, train=True)"
   ]
  },
  {
   "cell_type": "code",
   "execution_count": null,
   "metadata": {
    "collapsed": true
   },
   "outputs": [],
   "source": [
    "L_REV_STATES = model.encode_speech_batch_lstm(rev_encoder_batch, model.lstm_rev_enc, train)\n",
    "# reverse the states to align them with forward encoder\n",
    "L_REV_STATES = xp.flip(L_REV_STATES, axis=0)"
   ]
  },
  {
   "cell_type": "code",
   "execution_count": null,
   "metadata": {
    "collapsed": true
   },
   "outputs": [],
   "source": [
    "return_shape = L_FWD_STATES.shape\n",
    "model.enc_states = F.concat((L_FWD_STATES, L_REV_STATES), axis=2)\n",
    "model.enc_states = F.swapaxes(model.enc_states, 0, 1)"
   ]
  },
  {
   "cell_type": "code",
   "execution_count": null,
   "metadata": {
    "collapsed": true
   },
   "outputs": [],
   "source": [
    "buckets_dict['dev']model.encode_decode_train_batch(batch_data, pad_size_speech, pad_size_en, train=train)"
   ]
  },
  {
   "cell_type": "code",
   "execution_count": null,
   "metadata": {
    "collapsed": true
   },
   "outputs": [],
   "source": [
    "L_FWD_STATES.shape"
   ]
  },
  {
   "cell_type": "code",
   "execution_count": null,
   "metadata": {
    "collapsed": true
   },
   "outputs": [],
   "source": [
    "pad_size_speech / 8"
   ]
  },
  {
   "cell_type": "code",
   "execution_count": null,
   "metadata": {
    "collapsed": true
   },
   "outputs": [],
   "source": [
    "in_size, batch_size, in_dim = fwd_encoder_batch.shape"
   ]
  },
  {
   "cell_type": "code",
   "execution_count": null,
   "metadata": {
    "collapsed": true
   },
   "outputs": [],
   "source": [
    "print(in_size, batch_size, in_dim)"
   ]
  },
  {
   "cell_type": "code",
   "execution_count": null,
   "metadata": {
    "collapsed": true
   },
   "outputs": [],
   "source": [
    "speech_feats = xp.load(os.path.join(speech_dir, \"train.npz\"))"
   ]
  },
  {
   "cell_type": "code",
   "execution_count": null,
   "metadata": {
    "collapsed": true
   },
   "outputs": [],
   "source": [
    "haha = speech_feats[\"041.001\"]"
   ]
  },
  {
   "cell_type": "code",
   "execution_count": null,
   "metadata": {
    "collapsed": true
   },
   "outputs": [],
   "source": [
    "haha.shape"
   ]
  },
  {
   "cell_type": "code",
   "execution_count": null,
   "metadata": {
    "collapsed": true
   },
   "outputs": [],
   "source": [
    "haha = xp.array([[2,-2], [1,-1], [3,-3]], dtype=xp.float32)"
   ]
  },
  {
   "cell_type": "code",
   "execution_count": null,
   "metadata": {
    "collapsed": true
   },
   "outputs": [],
   "source": [
    "haha"
   ]
  },
  {
   "cell_type": "code",
   "execution_count": null,
   "metadata": {
    "collapsed": true
   },
   "outputs": [],
   "source": [
    "meh = F.expand_dims(haha.swapaxes(0,1), axis=0)"
   ]
  },
  {
   "cell_type": "code",
   "execution_count": null,
   "metadata": {
    "collapsed": true
   },
   "outputs": [],
   "source": [
    "meh.shape"
   ]
  },
  {
   "cell_type": "code",
   "execution_count": null,
   "metadata": {
    "collapsed": true
   },
   "outputs": [],
   "source": [
    "def cnn_out_size(i, p, k):\n",
    "    o = (i-k) + 2*p + 1\n",
    "    print(\"cnn out = {0:d}\".format(o))"
   ]
  },
  {
   "cell_type": "code",
   "execution_count": null,
   "metadata": {
    "collapsed": true
   },
   "outputs": [],
   "source": [
    "k_width = 2\n",
    "pad = k_width // 2\n",
    "# pad = k_width - 1\n",
    "pad = 1"
   ]
  },
  {
   "cell_type": "code",
   "execution_count": null,
   "metadata": {
    "collapsed": true
   },
   "outputs": [],
   "source": [
    "if gpuid >= 0:\n",
    "    # print(\"here\")\n",
    "    cuda.get_device(gpuid).use()\n",
    "c1 = L.ConvolutionND(ndim=1, in_channels=SPEECH_DIM, out_channels=1, ksize=k_width, pad=pad).to_gpu()"
   ]
  },
  {
   "cell_type": "code",
   "execution_count": null,
   "metadata": {
    "collapsed": true
   },
   "outputs": [],
   "source": [
    "c1.W.shape"
   ]
  },
  {
   "cell_type": "code",
   "execution_count": null,
   "metadata": {
    "collapsed": true
   },
   "outputs": [],
   "source": [
    "i = meh.shape[2]\n",
    "out_shape = (i-k_width) + 2*pad + 1\n",
    "print(i, out_shape)"
   ]
  },
  {
   "cell_type": "code",
   "execution_count": null,
   "metadata": {
    "collapsed": true
   },
   "outputs": [],
   "source": [
    "%%timeit -n1 -r2\n",
    "ha = c1(meh)\n",
    "print(ha.shape)\n",
    "print(ha.data)"
   ]
  },
  {
   "cell_type": "markdown",
   "metadata": {},
   "source": [
    "### test with small arrays"
   ]
  },
  {
   "cell_type": "code",
   "execution_count": null,
   "metadata": {
    "collapsed": true
   },
   "outputs": [],
   "source": [
    "mini_test = xp.array([[2,-2,-5], [1,-1,-10], [3,-3,-9], [4,-4,-12]], dtype=xp.float32)"
   ]
  },
  {
   "cell_type": "code",
   "execution_count": null,
   "metadata": {
    "collapsed": true
   },
   "outputs": [],
   "source": [
    "mini_test, mini_test.shape"
   ]
  },
  {
   "cell_type": "code",
   "execution_count": null,
   "metadata": {
    "collapsed": true
   },
   "outputs": [],
   "source": [
    "mini_var = F.expand_dims(mini_test.swapaxes(0,1), axis=0)"
   ]
  },
  {
   "cell_type": "code",
   "execution_count": null,
   "metadata": {
    "collapsed": true
   },
   "outputs": [],
   "source": [
    "mini_var.shape"
   ]
  },
  {
   "cell_type": "code",
   "execution_count": null,
   "metadata": {
    "collapsed": true
   },
   "outputs": [],
   "source": [
    "mini_k = 3; mini_pad = mini_k // 2\n",
    "minic1 = L.ConvolutionND(ndim=1, in_channels=3, out_channels=5, ksize=2, stride=1, pad=1).to_gpu()"
   ]
  },
  {
   "cell_type": "code",
   "execution_count": null,
   "metadata": {
    "collapsed": true
   },
   "outputs": [],
   "source": [
    "cnn_out_size(i=4, k=2, p=1)"
   ]
  },
  {
   "cell_type": "code",
   "execution_count": null,
   "metadata": {
    "collapsed": true
   },
   "outputs": [],
   "source": [
    "print(minic1.W.shape)\n",
    "print(minic1.W.data)"
   ]
  },
  {
   "cell_type": "code",
   "execution_count": null,
   "metadata": {
    "collapsed": true
   },
   "outputs": [],
   "source": [
    "one = minic1.W.data[0]\n",
    "one.shape"
   ]
  },
  {
   "cell_type": "code",
   "execution_count": null,
   "metadata": {
    "collapsed": true
   },
   "outputs": [],
   "source": [
    "mini_test[0], mini_test[1]"
   ]
  },
  {
   "cell_type": "code",
   "execution_count": null,
   "metadata": {
    "collapsed": true
   },
   "outputs": [],
   "source": [
    "h1 = one[0][0]*mini_test[0][0]\n",
    "h2 = one[1][0]*mini_test[0][1]\n",
    "h3 = one[2][0]*mini_test[0][2]\n",
    "h4 = one[0][1]*mini_test[1][0]\n",
    "h5 = one[1][1]*mini_test[1][1]\n",
    "h6 = one[2][1]*mini_test[1][2]"
   ]
  },
  {
   "cell_type": "code",
   "execution_count": null,
   "metadata": {
    "collapsed": true
   },
   "outputs": [],
   "source": [
    "sum([h1, h2, h3, h4, h5, h6])"
   ]
  },
  {
   "cell_type": "code",
   "execution_count": null,
   "metadata": {
    "collapsed": true
   },
   "outputs": [],
   "source": [
    "mini_cnn_out = minic1(mini_var).data"
   ]
  },
  {
   "cell_type": "code",
   "execution_count": null,
   "metadata": {
    "collapsed": true
   },
   "outputs": [],
   "source": [
    "mini_cnn_out.shape, mini_cnn_out"
   ]
  },
  {
   "cell_type": "code",
   "execution_count": null,
   "metadata": {
    "collapsed": true
   },
   "outputs": [],
   "source": [
    "F.max_pooling_nd(mini_cnn_out, ksize=2, stride=1, pad=mini_pad).data"
   ]
  },
  {
   "cell_type": "code",
   "execution_count": null,
   "metadata": {
    "collapsed": true
   },
   "outputs": [],
   "source": [
    "speech_feats = {}\n",
    "speech_feats['train'] = xp.load(os.path.join(speech_dir, \"train.npz\"))"
   ]
  },
  {
   "cell_type": "code",
   "execution_count": null,
   "metadata": {
    "collapsed": true
   },
   "outputs": [],
   "source": [
    "sp_1 = speech_feats['train']['041.004']\n",
    "print(len(sp_1)), sp_1.shape"
   ]
  },
  {
   "cell_type": "code",
   "execution_count": null,
   "metadata": {
    "collapsed": true
   },
   "outputs": [],
   "source": [
    "CHAR_LEVEL"
   ]
  },
  {
   "cell_type": "code",
   "execution_count": null,
   "metadata": {
    "collapsed": true
   },
   "outputs": [],
   "source": [
    "en_words = [w.word for w in text_data['train']['041.004']['en']]\n",
    "en_symbols = [w.encode() for w in en_words]\n",
    "en_ids = [w2i[\"en\"].get(w, UNK_ID) for w in en_symbols]"
   ]
  },
  {
   "cell_type": "code",
   "execution_count": null,
   "metadata": {
    "collapsed": true
   },
   "outputs": [],
   "source": [
    "en_ids_array = xp.array(en_ids, dtype=xp.int32)"
   ]
  },
  {
   "cell_type": "code",
   "execution_count": null,
   "metadata": {
    "collapsed": true
   },
   "outputs": [],
   "source": [
    "F.pad_sequence([en_ids_array, en_ids_array], length=20)"
   ]
  },
  {
   "cell_type": "code",
   "execution_count": null,
   "metadata": {
    "collapsed": true
   },
   "outputs": [],
   "source": [
    "pad_width = 16"
   ]
  },
  {
   "cell_type": "code",
   "execution_count": null,
   "metadata": {
    "collapsed": true
   },
   "outputs": [],
   "source": [
    "sp1_pad = xp.pad(sp_1, ((pad_width - len(sp_1) % pad_width,0),(0,0)), mode='constant')"
   ]
  },
  {
   "cell_type": "code",
   "execution_count": null,
   "metadata": {
    "collapsed": true
   },
   "outputs": [],
   "source": [
    "len(sp1_pad), len(sp_1) % pad_width, len(sp1_pad) % pad_width, sp1_pad.shape"
   ]
  },
  {
   "cell_type": "code",
   "execution_count": null,
   "metadata": {
    "collapsed": true
   },
   "outputs": [],
   "source": [
    "sp1_pad.shape"
   ]
  },
  {
   "cell_type": "code",
   "execution_count": null,
   "metadata": {
    "collapsed": true
   },
   "outputs": [],
   "source": [
    "sp_1[0,:5], sp1_pad[:20,:5]"
   ]
  },
  {
   "cell_type": "code",
   "execution_count": null,
   "metadata": {
    "collapsed": true
   },
   "outputs": [],
   "source": [
    "sp1_pad.shape"
   ]
  },
  {
   "cell_type": "code",
   "execution_count": null,
   "metadata": {
    "collapsed": true
   },
   "outputs": [],
   "source": [
    "empty_t = xp.empty(shape=(0,SPEECH_DIM), dtype=xp.float32)"
   ]
  },
  {
   "cell_type": "code",
   "execution_count": null,
   "metadata": {
    "collapsed": true
   },
   "outputs": [],
   "source": [
    "empty_t = xp.concatenate((empty_t, sp1_pad), axis=0)\n",
    "print(empty_t.shape)\n",
    "empty_t = xp.concatenate((empty_t, sp1_pad), axis=0)\n",
    "print(empty_t.shape)"
   ]
  },
  {
   "cell_type": "code",
   "execution_count": null,
   "metadata": {
    "collapsed": true
   },
   "outputs": [],
   "source": [
    "sp1_pad_rev = xp.flipud(sp_1)"
   ]
  },
  {
   "cell_type": "code",
   "execution_count": null,
   "metadata": {
    "collapsed": true
   },
   "outputs": [],
   "source": [
    "sp1_pad_rev[:3,:3], sp1_pad[-3:,:3]"
   ]
  },
  {
   "cell_type": "code",
   "execution_count": null,
   "metadata": {
    "collapsed": true,
    "scrolled": true
   },
   "outputs": [],
   "source": [
    "%run nmt_trials.py"
   ]
  },
  {
   "cell_type": "code",
   "execution_count": null,
   "metadata": {
    "collapsed": true
   },
   "outputs": [],
   "source": [
    "# buckets_dict['train'] = prepare_data()"
   ]
  },
  {
   "cell_type": "code",
   "execution_count": null,
   "metadata": {
    "collapsed": true
   },
   "outputs": [],
   "source": [
    "# buckets_dict['train'][0][\"X_fwd\"].shape"
   ]
  },
  {
   "cell_type": "code",
   "execution_count": null,
   "metadata": {
    "collapsed": true
   },
   "outputs": [],
   "source": [
    "len(buckets_dict['dev'][1][\"X_fwd\"])"
   ]
  },
  {
   "cell_type": "code",
   "execution_count": null,
   "metadata": {
    "collapsed": true
   },
   "outputs": [],
   "source": [
    "t = buckets_dict['dev'][1]['X_fwd'][:20]\n",
    "t.shape"
   ]
  },
  {
   "cell_type": "code",
   "execution_count": null,
   "metadata": {
    "collapsed": true
   },
   "outputs": [],
   "source": [
    "out1 = model.forward_cnn(t)"
   ]
  },
  {
   "cell_type": "code",
   "execution_count": null,
   "metadata": {
    "collapsed": true
   },
   "outputs": [],
   "source": [
    "h = F.rollaxis(out1, axis=2)\n",
    "print(h.shape), \n",
    "print(model.scale)"
   ]
  },
  {
   "cell_type": "code",
   "execution_count": null,
   "metadata": {
    "collapsed": true
   },
   "outputs": [],
   "source": [
    "cnn_k_widths"
   ]
  },
  {
   "cell_type": "code",
   "execution_count": null,
   "metadata": {
    "collapsed": true
   },
   "outputs": [],
   "source": [
    "out1[-1,:,-2:]"
   ]
  },
  {
   "cell_type": "code",
   "execution_count": null,
   "metadata": {
    "collapsed": true
   },
   "outputs": [],
   "source": [
    "model.forward_enc(t)"
   ]
  },
  {
   "cell_type": "code",
   "execution_count": null,
   "metadata": {
    "collapsed": true
   },
   "outputs": [],
   "source": [
    "hf.shape, hr.shape"
   ]
  },
  {
   "cell_type": "code",
   "execution_count": null,
   "metadata": {
    "collapsed": true
   },
   "outputs": [],
   "source": [
    "model.enc_states.shape"
   ]
  },
  {
   "cell_type": "code",
   "execution_count": null,
   "metadata": {
    "collapsed": true
   },
   "outputs": [],
   "source": [
    "model[model.rnn_enc[0]]"
   ]
  },
  {
   "cell_type": "code",
   "execution_count": null,
   "metadata": {
    "collapsed": true
   },
   "outputs": [],
   "source": [
    "xp.isnan(xp.sum(h.data)) == True"
   ]
  },
  {
   "cell_type": "code",
   "execution_count": null,
   "metadata": {
    "collapsed": true
   },
   "outputs": [],
   "source": [
    "xp.isnan(xp.sum(model.enc_states.data)) == True"
   ]
  },
  {
   "cell_type": "code",
   "execution_count": null,
   "metadata": {
    "collapsed": true
   },
   "outputs": [],
   "source": [
    "# model.forward_highway(out1)"
   ]
  },
  {
   "cell_type": "code",
   "execution_count": null,
   "metadata": {
    "collapsed": true
   },
   "outputs": [],
   "source": [
    "out1 = model.CNN_9(t)\n",
    "print(out1.shape)\n",
    "out2 = model.CNN_19(t)\n",
    "print(out2.shape)\n",
    "\n",
    "combined_out = F.concat((out1, out2), axis=1)\n",
    "print(combined_out.shape)"
   ]
  },
  {
   "cell_type": "code",
   "execution_count": null,
   "metadata": {
    "collapsed": true
   },
   "outputs": [],
   "source": [
    "cnn_out_h = F.max_pooling_nd(combined_out, ksize=9, stride=10, pad=9//2)\n",
    "print(cnn_out_h.shape)"
   ]
  },
  {
   "cell_type": "code",
   "execution_count": null,
   "metadata": {
    "collapsed": true
   },
   "outputs": [],
   "source": [
    "highway_test = L.Highway()"
   ]
  },
  {
   "cell_type": "code",
   "execution_count": null,
   "metadata": {
    "collapsed": true
   },
   "outputs": [],
   "source": [
    "highway_test(combined_out).shape"
   ]
  },
  {
   "cell_type": "code",
   "execution_count": null,
   "metadata": {
    "collapsed": true
   },
   "outputs": [],
   "source": [
    "model.highway"
   ]
  },
  {
   "cell_type": "code",
   "execution_count": null,
   "metadata": {
    "collapsed": true
   },
   "outputs": [],
   "source": [
    "MODEL_TYPE == MODEL_CNN"
   ]
  },
  {
   "cell_type": "code",
   "execution_count": null,
   "metadata": {
    "collapsed": true
   },
   "outputs": [],
   "source": [
    "model.cnn_out_dim"
   ]
  },
  {
   "cell_type": "code",
   "execution_count": null,
   "metadata": {
    "collapsed": true
   },
   "outputs": [],
   "source": [
    "cnn_k_widths"
   ]
  },
  {
   "cell_type": "code",
   "execution_count": null,
   "metadata": {
    "collapsed": true
   },
   "outputs": [],
   "source": [
    "cnn_filters, model.max_pool_stride"
   ]
  },
  {
   "cell_type": "code",
   "execution_count": null,
   "metadata": {
    "collapsed": true
   },
   "outputs": [],
   "source": [
    "model.cnns"
   ]
  },
  {
   "cell_type": "code",
   "execution_count": null,
   "metadata": {
    "collapsed": true
   },
   "outputs": [],
   "source": [
    "xp.expand_dims(sp_1,axis=0)"
   ]
  },
  {
   "cell_type": "code",
   "execution_count": null,
   "metadata": {
    "collapsed": true
   },
   "outputs": [],
   "source": [
    "np.prod(buckets[0][\"X_fwd\"].shape) * buckets[0][\"X_fwd\"].itemsize"
   ]
  },
  {
   "cell_type": "code",
   "execution_count": null,
   "metadata": {
    "collapsed": true
   },
   "outputs": [],
   "source": [
    "bucket_data_fname"
   ]
  },
  {
   "cell_type": "code",
   "execution_count": null,
   "metadata": {
    "collapsed": true
   },
   "outputs": [],
   "source": []
  }
 ],
 "metadata": {
  "kernelspec": {
   "display_name": "Python 3",
   "language": "python",
   "name": "python3"
  },
  "language_info": {
   "codemirror_mode": {
    "name": "ipython",
    "version": 3
   },
   "file_extension": ".py",
   "mimetype": "text/x-python",
   "name": "python",
   "nbconvert_exporter": "python",
   "pygments_lexer": "ipython3",
   "version": "3.6.1"
  }
 },
 "nbformat": 4,
 "nbformat_minor": 2
}
