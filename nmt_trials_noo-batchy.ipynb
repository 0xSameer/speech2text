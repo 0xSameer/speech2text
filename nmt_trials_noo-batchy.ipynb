{
 "cells": [
  {
   "cell_type": "code",
   "execution_count": 1,
   "metadata": {},
   "outputs": [
    {
     "name": "stdout",
     "output_type": "stream",
     "text": [
      "translating es to en\n",
      "callhome es-en word level configuration\n",
      "cnn details:\n",
      "{'ndim': 1, 'in_channels': 39, 'out_channels': 100, 'ksize': 9, 'stride': 1, 'pad': 4}\n",
      "{'ndim': 1, 'in_channels': 39, 'out_channels': 100, 'ksize': 29, 'stride': 1, 'pad': 14}\n",
      "{'ndim': 1, 'in_channels': 39, 'out_channels': 100, 'ksize': 49, 'stride': 1, 'pad': 24}\n",
      "{'ndim': 1, 'in_channels': 39, 'out_channels': 100, 'ksize': 69, 'stride': 1, 'pad': 34}\n",
      "{'ndim': 1, 'in_channels': 39, 'out_channels': 100, 'ksize': 89, 'stride': 1, 'pad': 44}\n",
      "{'ndim': 1, 'in_channels': 39, 'out_channels': 100, 'ksize': 109, 'stride': 1, 'pad': 54}\n",
      "{'ndim': 1, 'in_channels': 39, 'out_channels': 100, 'ksize': 129, 'stride': 1, 'pad': 64}\n",
      "{'ndim': 1, 'in_channels': 39, 'out_channels': 100, 'ksize': 149, 'stride': 1, 'pad': 74}\n",
      "{'ndim': 1, 'in_channels': 39, 'out_channels': 100, 'ksize': 169, 'stride': 1, 'pad': 84}\n",
      "{'ndim': 1, 'in_channels': 39, 'out_channels': 100, 'ksize': 189, 'stride': 1, 'pad': 94}\n",
      "vocab size, en=5691, fr=8904\n"
     ]
    }
   ],
   "source": [
    "%load_ext autoreload\n",
    "%autoreload 1\n",
    "\n",
    "%aimport basics\n",
    "%aimport nn_config\n",
    "%aimport enc_dec\n",
    "\n",
    "from basics import *\n",
    "from nn_config import *\n",
    "from enc_dec import *\n",
    "%matplotlib inline"
   ]
  },
  {
   "cell_type": "code",
   "execution_count": 2,
   "metadata": {
    "collapsed": true
   },
   "outputs": [],
   "source": [
    "xp = cuda.cupy if gpuid >= 0 else np"
   ]
  },
  {
   "cell_type": "code",
   "execution_count": 3,
   "metadata": {
    "collapsed": true
   },
   "outputs": [],
   "source": [
    "text_data = pickle.load(open(text_data_dict, \"rb\"))"
   ]
  },
  {
   "cell_type": "code",
   "execution_count": null,
   "metadata": {
    "collapsed": true
   },
   "outputs": [],
   "source": [
    "if gpuid >= 0:\n",
    "    # print(\"here\")\n",
    "    cuda.get_device_from_id(gpuid).use()"
   ]
  },
  {
   "cell_type": "code",
   "execution_count": null,
   "metadata": {},
   "outputs": [
    {
     "name": "stdout",
     "output_type": "stream",
     "text": [
      "rnn_in_units 1000\n",
      "using SGD optimizer\n",
      "loading data\n",
      "finished loading data\n",
      "Starting experiment\n",
      "cnn_/dev_17394sen_1-2-10layers_512units_k9-199-20_pool90_mini_cnn_word_gru_adam_callhome_es_en_1.log\n",
      "cnn_/seq2seq_17394sen_1-2-10layers_512units_k9-199-20_pool90_mini_cnn_word_gru_adam_callhome_es_en_1.model\n",
      "num sentences=13137 and num epochs=0\n",
      "split data into 50 buckets, each of width=16\n"
     ]
    },
    {
     "name": "stderr",
     "output_type": "stream",
     "text": [
      "100%|██████████| 13137/13137 [00:45<00:00, 285.69it/s]\n"
     ]
    },
    {
     "name": "stdout",
     "output_type": "stream",
     "text": [
      "padding labels\n",
      "split data into 50 buckets, each of width=16\n"
     ]
    },
    {
     "name": "stderr",
     "output_type": "stream",
     "text": [
      " 75%|███████▌  | 1860/2476 [00:04<00:01, 390.13it/s]"
     ]
    }
   ],
   "source": [
    "%run nmt_trials.py"
   ]
  },
  {
   "cell_type": "code",
   "execution_count": null,
   "metadata": {},
   "outputs": [],
   "source": [
    "pr_ids, en_ids = predict(5,50, cat=\"train\", display=True)"
   ]
  },
  {
   "cell_type": "code",
   "execution_count": null,
   "metadata": {},
   "outputs": [],
   "source": [
    "pr_ids, en_ids = predict(4,50, cat=\"dev\", display=True)"
   ]
  },
  {
   "cell_type": "code",
   "execution_count": null,
   "metadata": {},
   "outputs": [],
   "source": [
    "num_sent=5\n",
    "cat = \"train\"\n",
    "b_indx = 3\n",
    "print(\"English predictions, bucket={0:d}, num={1:d}:\".format(b_indx, num_sent))\n",
    "pred_ids, loss = batch_training(num_sent,\n",
    "                       {0:BATCH_SIZE_LOOKUP[cat][b_indx]},\n",
    "                       buckets_dict[cat][b_indx:b_indx+1],\n",
    "                       epoch=-1,\n",
    "                       train=False,\n",
    "                       shuffle=False)\n",
    "\n",
    "en_ids = buckets_dict[cat][b_indx]['y'][:num_sent].data.tolist()\n",
    "\n",
    "if display:\n",
    "    for p, e in zip(pred_ids, en_ids):\n",
    "        # for reference, 1st word is GO_ID, no need to display\n",
    "        display_words(e[1:], \"en\", \"Ref\")\n",
    "        display_words(p, \"en\", \"Hyp\")\n",
    "        print(\"-\"*50)"
   ]
  },
  {
   "cell_type": "code",
   "execution_count": null,
   "metadata": {},
   "outputs": [],
   "source": [
    "i = 0\n",
    "X = buckets_dict[cat][b_indx]['X_fwd'][i:i+num_sent]\n",
    "y = buckets_dict[cat][b_indx]['y'][i:i+num_sent]\n",
    "\n",
    "pred_sents = []\n",
    "# compute loss\n",
    "if len(X) > 0:\n",
    "    with chainer.using_config('train', False):\n",
    "        p, loss = model.forward(X, y)\n",
    "        pred_sents.extend(p.tolist())\n",
    "\n",
    "for p in pred_sents:\n",
    "    display_words(p, \"en\", \"Hyp\")\n",
    "    print(\"-\"*50)"
   ]
  },
  {
   "cell_type": "code",
   "execution_count": null,
   "metadata": {
    "collapsed": true
   },
   "outputs": [],
   "source": [
    "pplx_new = compute_pplx(cat=\"dev\", num_sent=NUM_MINI_DEV_SENTENCES)"
   ]
  },
  {
   "cell_type": "code",
   "execution_count": null,
   "metadata": {
    "collapsed": true
   },
   "outputs": [],
   "source": [
    "start_here(num_training=5000, num_epochs=2)"
   ]
  },
  {
   "cell_type": "code",
   "execution_count": null,
   "metadata": {
    "collapsed": true
   },
   "outputs": [],
   "source": [
    "X = buckets_dict['dev'][1]['X_fwd'][:20]\n",
    "y = buckets_dict['dev'][1]['y'][:20]\n",
    "X.shape, y.shape"
   ]
  },
  {
   "cell_type": "code",
   "execution_count": null,
   "metadata": {
    "collapsed": true
   },
   "outputs": [],
   "source": [
    "model.reset_state()\n",
    "model.forward_enc(X)\n",
    "model.set_decoder_state()\n",
    "pred_out= model.decode(F.transpose(y)[0])"
   ]
  },
  {
   "cell_type": "code",
   "execution_count": null,
   "metadata": {
    "collapsed": true
   },
   "outputs": [],
   "source": [
    "print(F.argmax(pred_out, axis=1))\n",
    "print(F.argmax(F.softmax(pred_out), axis=1))"
   ]
  },
  {
   "cell_type": "code",
   "execution_count": null,
   "metadata": {
    "collapsed": true
   },
   "outputs": [],
   "source": [
    "ha = Variable(xp.full((batch_size,), GO_ID, dtype=xp.int32))\n",
    "model.feed_rnn(model.embed_dec(ha), model.rnn_dec).shape"
   ]
  },
  {
   "cell_type": "code",
   "execution_count": null,
   "metadata": {
    "collapsed": true
   },
   "outputs": [],
   "source": [
    "not xp.all(ha.data == GO_ID)"
   ]
  },
  {
   "cell_type": "code",
   "execution_count": null,
   "metadata": {
    "collapsed": true
   },
   "outputs": [],
   "source": [
    "xp.all(F.argmax(pred_out, axis=1).data == EOS_ID)"
   ]
  },
  {
   "cell_type": "code",
   "execution_count": null,
   "metadata": {
    "collapsed": true
   },
   "outputs": [],
   "source": [
    "model.forward(X, y)"
   ]
  },
  {
   "cell_type": "code",
   "execution_count": null,
   "metadata": {
    "collapsed": true
   },
   "outputs": [],
   "source": [
    "log_train_fil_name, text_fname, dev_fname, test_fname"
   ]
  },
  {
   "cell_type": "code",
   "execution_count": null,
   "metadata": {
    "collapsed": true
   },
   "outputs": [],
   "source": [
    "%aimport nmt_trials\n",
    "from nmt_trials import *"
   ]
  },
  {
   "cell_type": "code",
   "execution_count": null,
   "metadata": {
    "collapsed": true
   },
   "outputs": [],
   "source": [
    "# buckets, bucket_lengths = populate_buckets()"
   ]
  },
  {
   "cell_type": "code",
   "execution_count": null,
   "metadata": {
    "collapsed": true
   },
   "outputs": [],
   "source": [
    "_, en, sf1 = get_data_item('053.182')\n",
    "_, en, sf2 = get_data_item('053.183')\n",
    "xp.isnan(xp.sum(sf))"
   ]
  },
  {
   "cell_type": "code",
   "execution_count": null,
   "metadata": {
    "collapsed": true
   },
   "outputs": [],
   "source": [
    "sf1.shape, sf2.shape"
   ]
  },
  {
   "cell_type": "code",
   "execution_count": null,
   "metadata": {
    "collapsed": true
   },
   "outputs": [],
   "source": [
    "_, _, sp1 = get_data_item(\"041.002\", \"train\")\n",
    "_, _, sp2 = get_data_item(\"041.004\", \"train\")\n",
    "batch_data = [sp1[:100], sp2[:100]]\n",
    "print(sp1.shape, sp2.shape)"
   ]
  },
  {
   "cell_type": "code",
   "execution_count": null,
   "metadata": {
    "collapsed": true
   },
   "outputs": [],
   "source": [
    "buck_indx = 23\n",
    "i = 0\n",
    "batch_size = 50\n",
    "\n",
    "pad_size_speech = (buck_indx+1) * SPEECH_BUCKET_WIDTH\n",
    "pad_size_en = min(bucket_lengths[buck_indx][3], MAX_EN_LEN)\n",
    "\n",
    "src_lim = pad_size_speech\n",
    "tar_lim = pad_size_en\n",
    "\n",
    "sp_files_in_batch = [t[0] for t in buckets[buck_indx][i:i+batch_size]]\n",
    "\n",
    "# get the next batch of data\n",
    "batch_data = []\n",
    "for sp_fil in sp_files_in_batch:\n",
    "    _, en_ids, speech_feat = get_data_item(sp_fil, cat=\"train\")\n",
    "    # print(speech_feat.shape, len(en_ids))\n",
    "    batch_data.append((speech_feat[:pad_size_speech], en_ids[:pad_size_en]))\n",
    "\n",
    "# compute loss\n",
    "# loss = model.encode_decode_train_batch(batch_data, pad_size_speech, pad_size_en, train=True)"
   ]
  },
  {
   "cell_type": "code",
   "execution_count": null,
   "metadata": {
    "collapsed": true
   },
   "outputs": [],
   "source": [
    "batch_size = len(batch_data)\n",
    "in_shape_r, in_shape_c = batch_data[0][0].shape\n",
    "\n",
    "fwd_encoder_batch = xp.full((batch_size, pad_size_speech, in_shape_c), PAD_ID, dtype=xp.float32)\n",
    "rev_encoder_batch = xp.full((batch_size, pad_size_speech, in_shape_c), PAD_ID, dtype=xp.float32)\n",
    "decoder_batch = xp.full((batch_size, pad_size_en+2), PAD_ID, dtype=xp.int32)"
   ]
  },
  {
   "cell_type": "code",
   "execution_count": null,
   "metadata": {
    "collapsed": true
   },
   "outputs": [],
   "source": [
    "for i, (src, tar) in enumerate(batch_data):\n",
    "    fwd_encoder_batch[i] = model.pad_array(src, src_lim)\n",
    "    rev_encoder_batch[i] = model.pad_array(xp.flip(src, axis=0), src_lim)\n",
    "\n",
    "    tar_data = [GO_ID] + tar + [EOS_ID]\n",
    "    decoder_batch[i] = model.pad_list(tar_data, tar_lim+2, at_start=False)"
   ]
  },
  {
   "cell_type": "code",
   "execution_count": null,
   "metadata": {
    "collapsed": true
   },
   "outputs": [],
   "source": [
    "train=True"
   ]
  },
  {
   "cell_type": "code",
   "execution_count": null,
   "metadata": {
    "collapsed": true
   },
   "outputs": [],
   "source": [
    "fwd_encoder_batch = xp.swapaxes(fwd_encoder_batch, 0,1)\n",
    "rev_encoder_batch = xp.swapaxes(rev_encoder_batch, 0,1)\n",
    "decoder_batch = xp.swapaxes(decoder_batch, 0,1)"
   ]
  },
  {
   "cell_type": "code",
   "execution_count": null,
   "metadata": {
    "collapsed": true
   },
   "outputs": [],
   "source": [
    "L_FWD_STATES = model.encode_speech_batch_lstm(fwd_encoder_batch, model.lstm_enc, train=True)"
   ]
  },
  {
   "cell_type": "code",
   "execution_count": null,
   "metadata": {
    "collapsed": true
   },
   "outputs": [],
   "source": [
    "L_REV_STATES = model.encode_speech_batch_lstm(rev_encoder_batch, model.lstm_rev_enc, train)\n",
    "# reverse the states to align them with forward encoder\n",
    "L_REV_STATES = xp.flip(L_REV_STATES, axis=0)"
   ]
  },
  {
   "cell_type": "code",
   "execution_count": null,
   "metadata": {
    "collapsed": true
   },
   "outputs": [],
   "source": [
    "return_shape = L_FWD_STATES.shape\n",
    "model.enc_states = F.concat((L_FWD_STATES, L_REV_STATES), axis=2)\n",
    "model.enc_states = F.swapaxes(model.enc_states, 0, 1)"
   ]
  },
  {
   "cell_type": "code",
   "execution_count": null,
   "metadata": {
    "collapsed": true
   },
   "outputs": [],
   "source": [
    "buckets_dict['dev']model.encode_decode_train_batch(batch_data, pad_size_speech, pad_size_en, train=train)"
   ]
  },
  {
   "cell_type": "code",
   "execution_count": null,
   "metadata": {
    "collapsed": true
   },
   "outputs": [],
   "source": [
    "L_FWD_STATES.shape"
   ]
  },
  {
   "cell_type": "code",
   "execution_count": null,
   "metadata": {
    "collapsed": true
   },
   "outputs": [],
   "source": [
    "pad_size_speech / 8"
   ]
  },
  {
   "cell_type": "code",
   "execution_count": null,
   "metadata": {
    "collapsed": true
   },
   "outputs": [],
   "source": [
    "in_size, batch_size, in_dim = fwd_encoder_batch.shape"
   ]
  },
  {
   "cell_type": "code",
   "execution_count": null,
   "metadata": {
    "collapsed": true
   },
   "outputs": [],
   "source": [
    "print(in_size, batch_size, in_dim)"
   ]
  },
  {
   "cell_type": "code",
   "execution_count": null,
   "metadata": {
    "collapsed": true
   },
   "outputs": [],
   "source": [
    "speech_feats = xp.load(os.path.join(speech_dir, \"train.npz\"))"
   ]
  },
  {
   "cell_type": "code",
   "execution_count": null,
   "metadata": {
    "collapsed": true
   },
   "outputs": [],
   "source": [
    "haha = speech_feats[\"041.001\"]"
   ]
  },
  {
   "cell_type": "code",
   "execution_count": null,
   "metadata": {
    "collapsed": true
   },
   "outputs": [],
   "source": [
    "haha.shape"
   ]
  },
  {
   "cell_type": "code",
   "execution_count": null,
   "metadata": {
    "collapsed": true
   },
   "outputs": [],
   "source": [
    "haha = xp.array([[2,-2], [1,-1], [3,-3]], dtype=xp.float32)"
   ]
  },
  {
   "cell_type": "code",
   "execution_count": null,
   "metadata": {
    "collapsed": true
   },
   "outputs": [],
   "source": [
    "haha"
   ]
  },
  {
   "cell_type": "code",
   "execution_count": null,
   "metadata": {
    "collapsed": true
   },
   "outputs": [],
   "source": [
    "meh = F.expand_dims(haha.swapaxes(0,1), axis=0)"
   ]
  },
  {
   "cell_type": "code",
   "execution_count": null,
   "metadata": {
    "collapsed": true
   },
   "outputs": [],
   "source": [
    "meh.shape"
   ]
  },
  {
   "cell_type": "code",
   "execution_count": null,
   "metadata": {
    "collapsed": true
   },
   "outputs": [],
   "source": [
    "def cnn_out_size(i, p, k):\n",
    "    o = (i-k) + 2*p + 1\n",
    "    print(\"cnn out = {0:d}\".format(o))"
   ]
  },
  {
   "cell_type": "code",
   "execution_count": null,
   "metadata": {
    "collapsed": true
   },
   "outputs": [],
   "source": [
    "k_width = 2\n",
    "pad = k_width // 2\n",
    "# pad = k_width - 1\n",
    "pad = 1"
   ]
  },
  {
   "cell_type": "code",
   "execution_count": null,
   "metadata": {
    "collapsed": true
   },
   "outputs": [],
   "source": [
    "if gpuid >= 0:\n",
    "    # print(\"here\")\n",
    "    cuda.get_device(gpuid).use()\n",
    "c1 = L.ConvolutionND(ndim=1, in_channels=SPEECH_DIM, out_channels=1, ksize=k_width, pad=pad).to_gpu()"
   ]
  },
  {
   "cell_type": "code",
   "execution_count": null,
   "metadata": {
    "collapsed": true
   },
   "outputs": [],
   "source": [
    "c1.W.shape"
   ]
  },
  {
   "cell_type": "code",
   "execution_count": null,
   "metadata": {
    "collapsed": true
   },
   "outputs": [],
   "source": [
    "i = meh.shape[2]\n",
    "out_shape = (i-k_width) + 2*pad + 1\n",
    "print(i, out_shape)"
   ]
  },
  {
   "cell_type": "code",
   "execution_count": null,
   "metadata": {
    "collapsed": true
   },
   "outputs": [],
   "source": [
    "%%timeit -n1 -r2\n",
    "ha = c1(meh)\n",
    "print(ha.shape)\n",
    "print(ha.data)"
   ]
  },
  {
   "cell_type": "markdown",
   "metadata": {},
   "source": [
    "### test with small arrays"
   ]
  },
  {
   "cell_type": "code",
   "execution_count": null,
   "metadata": {
    "collapsed": true
   },
   "outputs": [],
   "source": [
    "mini_test = xp.array([[2,-2,-5], [1,-1,-10], [3,-3,-9], [4,-4,-12]], dtype=xp.float32)"
   ]
  },
  {
   "cell_type": "code",
   "execution_count": null,
   "metadata": {
    "collapsed": true
   },
   "outputs": [],
   "source": [
    "mini_test, mini_test.shape"
   ]
  },
  {
   "cell_type": "code",
   "execution_count": null,
   "metadata": {
    "collapsed": true
   },
   "outputs": [],
   "source": [
    "mini_var = F.expand_dims(mini_test.swapaxes(0,1), axis=0)"
   ]
  },
  {
   "cell_type": "code",
   "execution_count": null,
   "metadata": {
    "collapsed": true
   },
   "outputs": [],
   "source": [
    "mini_var.shape"
   ]
  },
  {
   "cell_type": "code",
   "execution_count": null,
   "metadata": {
    "collapsed": true
   },
   "outputs": [],
   "source": [
    "mini_k = 3; mini_pad = mini_k // 2\n",
    "minic1 = L.ConvolutionND(ndim=1, in_channels=3, out_channels=5, ksize=2, stride=1, pad=1).to_gpu()"
   ]
  },
  {
   "cell_type": "code",
   "execution_count": null,
   "metadata": {
    "collapsed": true
   },
   "outputs": [],
   "source": [
    "cnn_out_size(i=4, k=2, p=1)"
   ]
  },
  {
   "cell_type": "code",
   "execution_count": null,
   "metadata": {
    "collapsed": true
   },
   "outputs": [],
   "source": [
    "print(minic1.W.shape)\n",
    "print(minic1.W.data)"
   ]
  },
  {
   "cell_type": "code",
   "execution_count": null,
   "metadata": {
    "collapsed": true
   },
   "outputs": [],
   "source": [
    "one = minic1.W.data[0]\n",
    "one.shape"
   ]
  },
  {
   "cell_type": "code",
   "execution_count": null,
   "metadata": {
    "collapsed": true
   },
   "outputs": [],
   "source": [
    "mini_test[0], mini_test[1]"
   ]
  },
  {
   "cell_type": "code",
   "execution_count": null,
   "metadata": {
    "collapsed": true
   },
   "outputs": [],
   "source": [
    "h1 = one[0][0]*mini_test[0][0]\n",
    "h2 = one[1][0]*mini_test[0][1]\n",
    "h3 = one[2][0]*mini_test[0][2]\n",
    "h4 = one[0][1]*mini_test[1][0]\n",
    "h5 = one[1][1]*mini_test[1][1]\n",
    "h6 = one[2][1]*mini_test[1][2]"
   ]
  },
  {
   "cell_type": "code",
   "execution_count": null,
   "metadata": {
    "collapsed": true
   },
   "outputs": [],
   "source": [
    "sum([h1, h2, h3, h4, h5, h6])"
   ]
  },
  {
   "cell_type": "code",
   "execution_count": null,
   "metadata": {
    "collapsed": true
   },
   "outputs": [],
   "source": [
    "mini_cnn_out = minic1(mini_var).data"
   ]
  },
  {
   "cell_type": "code",
   "execution_count": null,
   "metadata": {
    "collapsed": true
   },
   "outputs": [],
   "source": [
    "mini_cnn_out.shape, mini_cnn_out"
   ]
  },
  {
   "cell_type": "code",
   "execution_count": null,
   "metadata": {
    "collapsed": true
   },
   "outputs": [],
   "source": [
    "F.max_pooling_nd(mini_cnn_out, ksize=2, stride=1, pad=mini_pad).data"
   ]
  },
  {
   "cell_type": "code",
   "execution_count": null,
   "metadata": {
    "collapsed": true
   },
   "outputs": [],
   "source": [
    "speech_feats = {}\n",
    "speech_feats['train'] = xp.load(os.path.join(speech_dir, \"train.npz\"))"
   ]
  },
  {
   "cell_type": "code",
   "execution_count": null,
   "metadata": {
    "collapsed": true
   },
   "outputs": [],
   "source": [
    "sp_1 = speech_feats['train']['041.004']\n",
    "print(len(sp_1)), sp_1.shape"
   ]
  },
  {
   "cell_type": "code",
   "execution_count": null,
   "metadata": {
    "collapsed": true
   },
   "outputs": [],
   "source": [
    "CHAR_LEVEL"
   ]
  },
  {
   "cell_type": "code",
   "execution_count": null,
   "metadata": {
    "collapsed": true
   },
   "outputs": [],
   "source": [
    "en_words = [w.word for w in text_data['train']['041.004']['en']]\n",
    "en_symbols = [w.encode() for w in en_words]\n",
    "en_ids = [w2i[\"en\"].get(w, UNK_ID) for w in en_symbols]"
   ]
  },
  {
   "cell_type": "code",
   "execution_count": null,
   "metadata": {
    "collapsed": true
   },
   "outputs": [],
   "source": [
    "en_ids_array = xp.array(en_ids, dtype=xp.int32)"
   ]
  },
  {
   "cell_type": "code",
   "execution_count": null,
   "metadata": {
    "collapsed": true
   },
   "outputs": [],
   "source": [
    "F.pad_sequence([en_ids_array, en_ids_array], length=20)"
   ]
  },
  {
   "cell_type": "code",
   "execution_count": null,
   "metadata": {
    "collapsed": true
   },
   "outputs": [],
   "source": [
    "pad_width = 16"
   ]
  },
  {
   "cell_type": "code",
   "execution_count": null,
   "metadata": {
    "collapsed": true
   },
   "outputs": [],
   "source": [
    "sp1_pad = xp.pad(sp_1, ((pad_width - len(sp_1) % pad_width,0),(0,0)), mode='constant')"
   ]
  },
  {
   "cell_type": "code",
   "execution_count": null,
   "metadata": {
    "collapsed": true
   },
   "outputs": [],
   "source": [
    "len(sp1_pad), len(sp_1) % pad_width, len(sp1_pad) % pad_width, sp1_pad.shape"
   ]
  },
  {
   "cell_type": "code",
   "execution_count": null,
   "metadata": {
    "collapsed": true
   },
   "outputs": [],
   "source": [
    "sp1_pad.shape"
   ]
  },
  {
   "cell_type": "code",
   "execution_count": null,
   "metadata": {
    "collapsed": true
   },
   "outputs": [],
   "source": [
    "sp_1[0,:5], sp1_pad[:20,:5]"
   ]
  },
  {
   "cell_type": "code",
   "execution_count": null,
   "metadata": {
    "collapsed": true
   },
   "outputs": [],
   "source": [
    "sp1_pad.shape"
   ]
  },
  {
   "cell_type": "code",
   "execution_count": null,
   "metadata": {
    "collapsed": true
   },
   "outputs": [],
   "source": [
    "empty_t = xp.empty(shape=(0,SPEECH_DIM), dtype=xp.float32)"
   ]
  },
  {
   "cell_type": "code",
   "execution_count": null,
   "metadata": {
    "collapsed": true
   },
   "outputs": [],
   "source": [
    "empty_t = xp.concatenate((empty_t, sp1_pad), axis=0)\n",
    "print(empty_t.shape)\n",
    "empty_t = xp.concatenate((empty_t, sp1_pad), axis=0)\n",
    "print(empty_t.shape)"
   ]
  },
  {
   "cell_type": "code",
   "execution_count": null,
   "metadata": {
    "collapsed": true
   },
   "outputs": [],
   "source": [
    "sp1_pad_rev = xp.flipud(sp_1)"
   ]
  },
  {
   "cell_type": "code",
   "execution_count": null,
   "metadata": {
    "collapsed": true
   },
   "outputs": [],
   "source": [
    "sp1_pad_rev[:3,:3], sp1_pad[-3:,:3]"
   ]
  },
  {
   "cell_type": "code",
   "execution_count": null,
   "metadata": {
    "collapsed": true,
    "scrolled": true
   },
   "outputs": [],
   "source": [
    "%run nmt_trials.py"
   ]
  },
  {
   "cell_type": "code",
   "execution_count": null,
   "metadata": {
    "collapsed": true
   },
   "outputs": [],
   "source": [
    "# buckets_dict['train'] = prepare_data()"
   ]
  },
  {
   "cell_type": "code",
   "execution_count": null,
   "metadata": {
    "collapsed": true
   },
   "outputs": [],
   "source": [
    "# buckets_dict['train'][0][\"X_fwd\"].shape"
   ]
  },
  {
   "cell_type": "code",
   "execution_count": null,
   "metadata": {
    "collapsed": true
   },
   "outputs": [],
   "source": [
    "len(buckets_dict['dev'][1][\"X_fwd\"])"
   ]
  },
  {
   "cell_type": "code",
   "execution_count": null,
   "metadata": {
    "collapsed": true
   },
   "outputs": [],
   "source": [
    "t = buckets_dict['dev'][1]['X_fwd'][:20]\n",
    "t.shape"
   ]
  },
  {
   "cell_type": "code",
   "execution_count": null,
   "metadata": {
    "collapsed": true
   },
   "outputs": [],
   "source": [
    "out1 = model.forward_cnn(t)"
   ]
  },
  {
   "cell_type": "code",
   "execution_count": null,
   "metadata": {
    "collapsed": true
   },
   "outputs": [],
   "source": [
    "h = F.rollaxis(out1, axis=2)\n",
    "print(h.shape), \n",
    "print(model.scale)"
   ]
  },
  {
   "cell_type": "code",
   "execution_count": null,
   "metadata": {
    "collapsed": true
   },
   "outputs": [],
   "source": [
    "cnn_k_widths"
   ]
  },
  {
   "cell_type": "code",
   "execution_count": null,
   "metadata": {
    "collapsed": true
   },
   "outputs": [],
   "source": [
    "out1[-1,:,-2:]"
   ]
  },
  {
   "cell_type": "code",
   "execution_count": null,
   "metadata": {
    "collapsed": true
   },
   "outputs": [],
   "source": [
    "model.forward_enc(t)"
   ]
  },
  {
   "cell_type": "code",
   "execution_count": null,
   "metadata": {
    "collapsed": true
   },
   "outputs": [],
   "source": [
    "hf.shape, hr.shape"
   ]
  },
  {
   "cell_type": "code",
   "execution_count": null,
   "metadata": {
    "collapsed": true
   },
   "outputs": [],
   "source": [
    "model.enc_states.shape"
   ]
  },
  {
   "cell_type": "code",
   "execution_count": null,
   "metadata": {
    "collapsed": true
   },
   "outputs": [],
   "source": [
    "model[model.rnn_enc[0]]"
   ]
  },
  {
   "cell_type": "code",
   "execution_count": null,
   "metadata": {
    "collapsed": true
   },
   "outputs": [],
   "source": [
    "xp.isnan(xp.sum(h.data)) == True"
   ]
  },
  {
   "cell_type": "code",
   "execution_count": null,
   "metadata": {
    "collapsed": true
   },
   "outputs": [],
   "source": [
    "xp.isnan(xp.sum(model.enc_states.data)) == True"
   ]
  },
  {
   "cell_type": "code",
   "execution_count": null,
   "metadata": {
    "collapsed": true
   },
   "outputs": [],
   "source": [
    "# model.forward_highway(out1)"
   ]
  },
  {
   "cell_type": "code",
   "execution_count": null,
   "metadata": {
    "collapsed": true
   },
   "outputs": [],
   "source": [
    "out1 = model.CNN_9(t)\n",
    "print(out1.shape)\n",
    "out2 = model.CNN_19(t)\n",
    "print(out2.shape)\n",
    "\n",
    "combined_out = F.concat((out1, out2), axis=1)\n",
    "print(combined_out.shape)"
   ]
  },
  {
   "cell_type": "code",
   "execution_count": null,
   "metadata": {
    "collapsed": true
   },
   "outputs": [],
   "source": [
    "cnn_out_h = F.max_pooling_nd(combined_out, ksize=9, stride=10, pad=9//2)\n",
    "print(cnn_out_h.shape)"
   ]
  },
  {
   "cell_type": "code",
   "execution_count": null,
   "metadata": {
    "collapsed": true
   },
   "outputs": [],
   "source": [
    "highway_test = L.Highway()"
   ]
  },
  {
   "cell_type": "code",
   "execution_count": null,
   "metadata": {
    "collapsed": true
   },
   "outputs": [],
   "source": [
    "highway_test(combined_out).shape"
   ]
  },
  {
   "cell_type": "code",
   "execution_count": null,
   "metadata": {
    "collapsed": true
   },
   "outputs": [],
   "source": [
    "model.highway"
   ]
  },
  {
   "cell_type": "code",
   "execution_count": null,
   "metadata": {
    "collapsed": true
   },
   "outputs": [],
   "source": [
    "MODEL_TYPE == MODEL_CNN"
   ]
  },
  {
   "cell_type": "code",
   "execution_count": null,
   "metadata": {
    "collapsed": true
   },
   "outputs": [],
   "source": [
    "model.cnn_out_dim"
   ]
  },
  {
   "cell_type": "code",
   "execution_count": null,
   "metadata": {
    "collapsed": true
   },
   "outputs": [],
   "source": [
    "cnn_k_widths"
   ]
  },
  {
   "cell_type": "code",
   "execution_count": null,
   "metadata": {
    "collapsed": true
   },
   "outputs": [],
   "source": [
    "cnn_filters, model.max_pool_stride"
   ]
  },
  {
   "cell_type": "code",
   "execution_count": null,
   "metadata": {
    "collapsed": true
   },
   "outputs": [],
   "source": [
    "model.cnns"
   ]
  },
  {
   "cell_type": "code",
   "execution_count": null,
   "metadata": {
    "collapsed": true
   },
   "outputs": [],
   "source": [
    "xp.expand_dims(sp_1,axis=0)"
   ]
  },
  {
   "cell_type": "code",
   "execution_count": null,
   "metadata": {
    "collapsed": true
   },
   "outputs": [],
   "source": [
    "np.prod(buckets[0][\"X_fwd\"].shape) * buckets[0][\"X_fwd\"].itemsize"
   ]
  },
  {
   "cell_type": "code",
   "execution_count": null,
   "metadata": {
    "collapsed": true
   },
   "outputs": [],
   "source": [
    "bucket_data_fname"
   ]
  },
  {
   "cell_type": "code",
   "execution_count": null,
   "metadata": {
    "collapsed": true
   },
   "outputs": [],
   "source": []
  }
 ],
 "metadata": {
  "kernelspec": {
   "display_name": "Python 3",
   "language": "python",
   "name": "python3"
  },
  "language_info": {
   "codemirror_mode": {
    "name": "ipython",
    "version": 3
   },
   "file_extension": ".py",
   "mimetype": "text/x-python",
   "name": "python",
   "nbconvert_exporter": "python",
   "pygments_lexer": "ipython3",
   "version": "3.6.1"
  }
 },
 "nbformat": 4,
 "nbformat_minor": 2
}
