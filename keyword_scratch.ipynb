{
 "cells": [
  {
   "cell_type": "code",
   "execution_count": 1,
   "metadata": {},
   "outputs": [],
   "source": [
    "import nltk\n",
    "from nltk.translate.bleu_score import sentence_bleu, corpus_bleu, modified_precision\n",
    "from nltk.translate.chrf_score import sentence_chrf, corpus_chrf\n",
    "from nltk.metrics import scores\n",
    "import scipy.io.wavfile\n",
    "from IPython.display import Audio\n",
    "from IPython.display import display\n",
    "from nltk.stem import *\n",
    "# from nltk.stem.snowball import SnowballStemmer\n",
    "from stemming.porter2 import stem\n",
    "import stemming\n",
    "from nltk.metrics.scores import recall\n",
    "\n",
    "from basics import *\n",
    "\n",
    "import sentencepiece as spm\n",
    "\n",
    "from nltk.corpus import stopwords\n",
    "\n",
    "%matplotlib inline"
   ]
  },
  {
   "cell_type": "code",
   "execution_count": 2,
   "metadata": {},
   "outputs": [],
   "source": [
    "tableau20 = [(31, 119, 180), (174, 199, 232), (255, 127, 14), (255, 187, 120),    \n",
    "             (44, 160, 44), (152, 223, 138), (214, 39, 40), (255, 152, 150),    \n",
    "             (148, 103, 189), (197, 176, 213), (140, 86, 75), (196, 156, 148),    \n",
    "             (227, 119, 194), (247, 182, 210), (127, 127, 127), (199, 199, 199),    \n",
    "             (188, 189, 34), (219, 219, 141), (23, 190, 207), (158, 218, 229)]    \n",
    "# Scale the RGB values to the [0, 1] range, which is the format matplotlib accepts.    \n",
    "for i in range(len(tableau20)):    \n",
    "    r, g, b = tableau20[i]    \n",
    "    tableau20[i] = (r / 255., g / 255., b / 255.)"
   ]
  },
  {
   "cell_type": "code",
   "execution_count": 3,
   "metadata": {},
   "outputs": [],
   "source": [
    "smooth_fun = nltk.translate.bleu_score.SmoothingFunction()"
   ]
  },
  {
   "cell_type": "code",
   "execution_count": 4,
   "metadata": {},
   "outputs": [],
   "source": [
    "from nmt_run import *"
   ]
  },
  {
   "cell_type": "code",
   "execution_count": 5,
   "metadata": {},
   "outputs": [],
   "source": [
    "cfg_path = \"sp2enw_mel-80_vocab-nltk/sp_1.0_h-256_e-128_drpt-rnn-.3_lstm\""
   ]
  },
  {
   "cell_type": "code",
   "execution_count": 6,
   "metadata": {},
   "outputs": [],
   "source": [
    "%%capture\n",
    "last_epoch, model, optimizer, m_cfg, t_cfg = check_model(cfg_path)"
   ]
  },
  {
   "cell_type": "markdown",
   "metadata": {},
   "source": [
    "### Load Fisher dataset"
   ]
  },
  {
   "cell_type": "code",
   "execution_count": 7,
   "metadata": {},
   "outputs": [],
   "source": [
    "%%capture\n",
    "# -------------------------------------------------------------------------\n",
    "# get data dictionaries\n",
    "# -------------------------------------------------------------------------\n",
    "map_dict, vocab_dict, bucket_dict = get_data_dicts(m_cfg)\n",
    "info_dict = pickle.load(open(\"fbanks_80dim_nltk/info.dict\", \"rb\"))\n",
    "sim_dict = pickle.load(open(\"./fbanks_80dim_nltk/mix_sim.dict\", \"rb\"))"
   ]
  },
  {
   "cell_type": "code",
   "execution_count": 8,
   "metadata": {},
   "outputs": [],
   "source": [
    "random.seed(\"meh\")\n",
    "# random.seed(\"haha\")"
   ]
  },
  {
   "cell_type": "markdown",
   "metadata": {},
   "source": [
    "### Train text"
   ]
  },
  {
   "cell_type": "code",
   "execution_count": 9,
   "metadata": {},
   "outputs": [],
   "source": [
    "train_file = \"../installs/fisher-callhome-corpus/corpus/ldc/fisher_train.en\""
   ]
  },
  {
   "cell_type": "code",
   "execution_count": 10,
   "metadata": {},
   "outputs": [],
   "source": [
    "train_text = []"
   ]
  },
  {
   "cell_type": "code",
   "execution_count": 11,
   "metadata": {},
   "outputs": [],
   "source": [
    "for u in map_dict[\"fisher_train\"]:\n",
    "    train_text.append(\" \".join([w.decode() for w in map_dict[\"fisher_train\"][u][\"en_w\"]]))"
   ]
  },
  {
   "cell_type": "code",
   "execution_count": 12,
   "metadata": {},
   "outputs": [
    {
     "data": {
      "text/plain": [
       "['hello',\n",
       " 'hello',\n",
       " 'hello',\n",
       " 'hello',\n",
       " 'with whom am i speaking',\n",
       " 'eh silvia yes what is your name',\n",
       " 'hello silvia eh my name is nicole',\n",
       " 'ah nice to meet you',\n",
       " 'nice to meet you em and where are you from',\n",
       " \"eh i 'm in philadelphia\"]"
      ]
     },
     "execution_count": 12,
     "metadata": {},
     "output_type": "execute_result"
    }
   ],
   "source": [
    "train_text[:10]"
   ]
  },
  {
   "cell_type": "code",
   "execution_count": 13,
   "metadata": {},
   "outputs": [],
   "source": [
    "train_text_to_dump = \"\\n\".join(train_text)"
   ]
  },
  {
   "cell_type": "code",
   "execution_count": 14,
   "metadata": {},
   "outputs": [],
   "source": [
    "with open(\"../subword-nmt/fisher_train.en\", \"w\") as out_f:\n",
    "    out_f.write(train_text_to_dump)"
   ]
  },
  {
   "cell_type": "code",
   "execution_count": 16,
   "metadata": {},
   "outputs": [],
   "source": [
    "# ./learn_joint_bpe_and_vocab.py --input {train_file}.L1 {train_file}.L2 -s {num_operations} -o {codes_file} --write-vocabulary {vocab_file}.L1 {vocab_file}.L2"
   ]
  },
  {
   "cell_type": "code",
   "execution_count": 17,
   "metadata": {},
   "outputs": [],
   "source": [
    "# sp = spm.SentencePieceProcessor()"
   ]
  },
  {
   "cell_type": "code",
   "execution_count": 18,
   "metadata": {},
   "outputs": [],
   "source": [
    "# sp.Load(\"test/test_model.model\")"
   ]
  },
  {
   "cell_type": "markdown",
   "metadata": {},
   "source": [
    "### word level analysis"
   ]
  },
  {
   "cell_type": "code",
   "execution_count": 19,
   "metadata": {},
   "outputs": [],
   "source": [
    "min_word_len = 1\n",
    "top_k = 100"
   ]
  },
  {
   "cell_type": "code",
   "execution_count": 20,
   "metadata": {},
   "outputs": [
    {
     "data": {
      "text/plain": [
       "127"
      ]
     },
     "execution_count": 20,
     "metadata": {},
     "output_type": "execute_result"
    }
   ],
   "source": [
    "stop_words = set(nltk.corpus.stopwords.words(\"english\"))\n",
    "len(stop_words)"
   ]
  },
  {
   "cell_type": "code",
   "execution_count": 21,
   "metadata": {},
   "outputs": [
    {
     "data": {
      "text/plain": [
       "313"
      ]
     },
     "execution_count": 21,
     "metadata": {},
     "output_type": "execute_result"
    }
   ],
   "source": [
    "es_stop_words = set(nltk.corpus.stopwords.words(\"spanish\"))\n",
    "len(es_stop_words)"
   ]
  },
  {
   "cell_type": "code",
   "execution_count": 22,
   "metadata": {},
   "outputs": [],
   "source": [
    "def get_words(m_dict, key=\"en_w\"):\n",
    "    words = []\n",
    "    for u in m_dict:\n",
    "        if type(m_dict[u][key]) == list:\n",
    "            words.extend([w.decode() for w in m_dict[u][key]])\n",
    "        else:\n",
    "            for ref in m_dict[u][key]:\n",
    "                words.extend([w.decode() for w in ref])\n",
    "    return Counter(words)"
   ]
  },
  {
   "cell_type": "code",
   "execution_count": 23,
   "metadata": {},
   "outputs": [
    {
     "name": "stdout",
     "output_type": "stream",
     "text": [
      "# train word types   |      17830\n",
      "# train word tokens  |    1497352\n",
      "--------------------------------------------------------------------------------\n",
      "# dev word types     |       4835\n",
      "# dev word tokens    |     165206\n"
     ]
    }
   ],
   "source": [
    "# words in train\n",
    "train_words = get_words(map_dict['fisher_train'])\n",
    "train_words_top_k = [(w,f) for w, f in sorted(train_words.items(), reverse=True, key=lambda t:t[1]) \n",
    "                     if w not in stop_words and len(w) >= min_word_len][:top_k]\n",
    "\n",
    "train_only_words = set(train_words.keys())\n",
    "\n",
    "print(\"{0:20s} | {1:10d}\".format(\"# train word types\", len(train_words)))\n",
    "print(\"{0:20s} | {1:10d}\".format(\"# train word tokens\", sum(train_words.values())))\n",
    "\n",
    "dev_words = get_words(map_dict['fisher_dev'])\n",
    "dev_words_top_k = [(w,f) for w, f in sorted(dev_words.items(), reverse=True, key=lambda t:t[1]) \n",
    "                     if w not in stop_words and len(w) >= min_word_len][:top_k]\n",
    "\n",
    "dev_only_words = set(dev_words.keys())\n",
    "\n",
    "print(\"-\"*80)\n",
    "print(\"{0:20s} | {1:10d}\".format(\"# dev word types\", len(dev_words)))\n",
    "print(\"{0:20s} | {1:10d}\".format(\"# dev word tokens\", sum(dev_words.values())))"
   ]
  },
  {
   "cell_type": "code",
   "execution_count": 24,
   "metadata": {},
   "outputs": [
    {
     "name": "stdout",
     "output_type": "stream",
     "text": [
      "# train word types   |      32860\n",
      "# train word tokens  |    1496792\n",
      "--------------------------------------------------------------------------------\n",
      "# dev word types     |       4145\n",
      "# dev word tokens    |      41098\n"
     ]
    }
   ],
   "source": [
    "# words in train\n",
    "es_train_words = get_words(map_dict['fisher_train'], key=\"es_w\")\n",
    "es_train_words_top_k = [(w,f) for w, f in sorted(es_train_words.items(), reverse=True, key=lambda t:t[1]) \n",
    "                     if w not in es_stop_words and len(w) >= min_word_len][:top_k]\n",
    "\n",
    "es_train_only_words = set(es_train_words.keys())\n",
    "\n",
    "print(\"{0:20s} | {1:10d}\".format(\"# train word types\", len(es_train_words)))\n",
    "print(\"{0:20s} | {1:10d}\".format(\"# train word tokens\", sum(es_train_words.values())))\n",
    "\n",
    "es_dev_words = get_words(map_dict['fisher_dev'], key=\"es_w\")\n",
    "es_dev_words_top_k = [(w,f) for w, f in sorted(es_dev_words.items(), reverse=True, key=lambda t:t[1]) \n",
    "                     if w not in es_stop_words and len(w) >= min_word_len][:top_k]\n",
    "\n",
    "es_dev_only_words = set(es_dev_words.keys())\n",
    "\n",
    "print(\"-\"*80)\n",
    "print(\"{0:20s} | {1:10d}\".format(\"# dev word types\", len(es_dev_words)))\n",
    "print(\"{0:20s} | {1:10d}\".format(\"# dev word tokens\", sum(es_dev_words.values())))"
   ]
  },
  {
   "cell_type": "code",
   "execution_count": 25,
   "metadata": {},
   "outputs": [
    {
     "data": {
      "text/plain": [
       "([('yes', 35054),\n",
       "  (\"'s\", 24162),\n",
       "  (\"n't\", 19184),\n",
       "  ('like', 14334),\n",
       "  ('well', 12354)],\n",
       " [('ah', 12325), ('eh', 11447), ('si', 9423), ('ajá', 7988), ('bueno', 7838)])"
      ]
     },
     "execution_count": 25,
     "metadata": {},
     "output_type": "execute_result"
    }
   ],
   "source": [
    "train_words_top_k[:5], es_train_words_top_k[:5]"
   ]
  },
  {
   "cell_type": "code",
   "execution_count": 26,
   "metadata": {},
   "outputs": [
    {
     "data": {
      "text/plain": [
       "[(\"'s\", 24162), (\"n't\", 19184), (\"'m\", 5546), (\"'re\", 2832), (\"'ve\", 2392)]"
      ]
     },
     "execution_count": 26,
     "metadata": {},
     "output_type": "execute_result"
    }
   ],
   "source": [
    "[(w,f) for w,f in train_words_top_k if \"'\" in w]"
   ]
  },
  {
   "cell_type": "code",
   "execution_count": 27,
   "metadata": {},
   "outputs": [
    {
     "data": {
      "text/plain": [
       "([('yes', 3652), (\"n't\", 1999), (\"'s\", 1866), ('like', 1826), ('know', 1294)],\n",
       " [('ajá', 343), ('ah', 341), ('entonces', 249), ('si', 247), ('mhm', 236)])"
      ]
     },
     "execution_count": 27,
     "metadata": {},
     "output_type": "execute_result"
    }
   ],
   "source": [
    "dev_words_top_k[:5], es_dev_words_top_k[:5]"
   ]
  },
  {
   "cell_type": "code",
   "execution_count": 28,
   "metadata": {},
   "outputs": [
    {
     "name": "stdout",
     "output_type": "stream",
     "text": [
      "# oov word types     |       1011\n",
      "# oov word tokens    |       1599\n"
     ]
    }
   ],
   "source": [
    "oov_words = {w:f for w,f in dev_words.items() if w not in train_only_words}\n",
    "\n",
    "print(\"{0:20s} | {1:10d}\".format(\"# oov word types\", len(oov_words)))\n",
    "print(\"{0:20s} | {1:10d}\".format(\"# oov word tokens\", sum(oov_words.values())))"
   ]
  },
  {
   "cell_type": "code",
   "execution_count": 29,
   "metadata": {},
   "outputs": [
    {
     "name": "stdout",
     "output_type": "stream",
     "text": [
      "# oov word types     |        448\n",
      "# oov word tokens    |        525\n"
     ]
    }
   ],
   "source": [
    "es_oov_words = {w:f for w,f in es_dev_words.items() if w not in es_train_only_words}\n",
    "\n",
    "print(\"{0:20s} | {1:10d}\".format(\"# oov word types\", len(es_oov_words)))\n",
    "print(\"{0:20s} | {1:10d}\".format(\"# oov word tokens\", sum(es_oov_words.values())))"
   ]
  },
  {
   "cell_type": "code",
   "execution_count": 30,
   "metadata": {},
   "outputs": [
    {
     "data": {
      "text/plain": [
       "'1.0%'"
      ]
     },
     "execution_count": 30,
     "metadata": {},
     "output_type": "execute_result"
    }
   ],
   "source": [
    "\"{0:.1f}%\".format(sum(oov_words.values()) / sum(dev_words.values()) * 100)"
   ]
  },
  {
   "cell_type": "markdown",
   "metadata": {},
   "source": [
    "### Word level - get train, dev frequency, and utts in which they occur"
   ]
  },
  {
   "cell_type": "code",
   "execution_count": 31,
   "metadata": {},
   "outputs": [
    {
     "data": {
      "text/plain": [
       "(17830, 12011)"
      ]
     },
     "execution_count": 31,
     "metadata": {},
     "output_type": "execute_result"
    }
   ],
   "source": [
    "len(train_only_words), len(set([stem(w) for w in train_only_words]))"
   ]
  },
  {
   "cell_type": "code",
   "execution_count": 32,
   "metadata": {},
   "outputs": [],
   "source": [
    "def get_word_level_details(word_key):\n",
    "    word_utt_count = {\"train\": {}, \"dev\": {}, \"train_utts\": {}, \"dev_utts\": {}}\n",
    "    for u in tqdm(map_dict[\"fisher_train\"].keys()):\n",
    "        for w in set(map_dict[\"fisher_train\"][u][word_key]):\n",
    "            curr_word = w.decode()\n",
    "            if curr_word not in word_utt_count[\"train\"]:\n",
    "                word_utt_count[\"train\"][curr_word] = 0\n",
    "                word_utt_count[\"train_utts\"][curr_word] = set()\n",
    "            word_utt_count[\"train\"][curr_word] += 1\n",
    "            word_utt_count[\"train_utts\"][curr_word].update({u})\n",
    "        # end for words in current utt\n",
    "    # end for all utts\n",
    "    for u in tqdm(map_dict[\"fisher_dev\"].keys()):\n",
    "        if word_key == \"en_w\":\n",
    "            for ref in map_dict[\"fisher_dev\"][u][word_key]:\n",
    "                for w in set(ref):\n",
    "                    curr_word = w.decode()\n",
    "                    if curr_word not in word_utt_count[\"dev\"]:\n",
    "                        word_utt_count[\"dev\"][curr_word] = 0\n",
    "                        word_utt_count[\"dev_utts\"][curr_word] = set()\n",
    "                    word_utt_count[\"dev\"][curr_word] += 1            \n",
    "                    word_utt_count[\"dev_utts\"][curr_word].update({u})\n",
    "                # end for words in current ref\n",
    "            # end for all references\n",
    "        # end if multiple references\n",
    "        else:\n",
    "            ref = map_dict[\"fisher_dev\"][u][word_key]\n",
    "            for w in set(ref):\n",
    "                curr_word = w.decode()\n",
    "                if curr_word not in word_utt_count[\"dev\"]:\n",
    "                    word_utt_count[\"dev\"][curr_word] = 0\n",
    "                    word_utt_count[\"dev_utts\"][curr_word] = set()\n",
    "                word_utt_count[\"dev\"][curr_word] += 1            \n",
    "                word_utt_count[\"dev_utts\"][curr_word].update({u})\n",
    "            \n",
    "    # end for all utts\n",
    "    all_train_utts = set()\n",
    "    for w in word_utt_count[\"train_utts\"]:\n",
    "        all_train_utts.update(word_utt_count[\"train_utts\"][w])\n",
    "    # end for\n",
    "\n",
    "    all_dev_utts = set()\n",
    "    for w in word_utt_count[\"dev_utts\"]:\n",
    "        all_dev_utts.update(word_utt_count[\"dev_utts\"][w])\n",
    "    # end for\n",
    "    \n",
    "    return word_utt_count, all_train_utts, all_dev_utts\n",
    "    "
   ]
  },
  {
   "cell_type": "code",
   "execution_count": 33,
   "metadata": {},
   "outputs": [
    {
     "name": "stderr",
     "output_type": "stream",
     "text": [
      "100%|██████████| 138819/138819 [00:02<00:00, 64895.14it/s]\n",
      "100%|██████████| 3979/3979 [00:00<00:00, 18710.32it/s]\n"
     ]
    }
   ],
   "source": [
    "en_word_utt_count, en_train_utts, en_dev_utts = get_word_level_details(\"en_w\")"
   ]
  },
  {
   "cell_type": "code",
   "execution_count": 34,
   "metadata": {},
   "outputs": [
    {
     "data": {
      "text/plain": [
       "(138795, 3979)"
      ]
     },
     "execution_count": 34,
     "metadata": {},
     "output_type": "execute_result"
    }
   ],
   "source": [
    "len(en_train_utts), len(en_dev_utts)"
   ]
  },
  {
   "cell_type": "code",
   "execution_count": 35,
   "metadata": {},
   "outputs": [
    {
     "name": "stderr",
     "output_type": "stream",
     "text": [
      "100%|██████████| 138819/138819 [00:02<00:00, 59439.13it/s]\n",
      "100%|██████████| 3979/3979 [00:00<00:00, 60946.62it/s]\n"
     ]
    }
   ],
   "source": [
    "es_word_utt_count, es_train_utts, es_dev_utts = get_word_level_details(\"es_w\")"
   ]
  },
  {
   "cell_type": "code",
   "execution_count": 36,
   "metadata": {},
   "outputs": [
    {
     "data": {
      "text/plain": [
       "(138797, 3977)"
      ]
     },
     "execution_count": 36,
     "metadata": {},
     "output_type": "execute_result"
    }
   ],
   "source": [
    "len(es_train_utts), len(es_dev_utts)"
   ]
  },
  {
   "cell_type": "code",
   "execution_count": 37,
   "metadata": {},
   "outputs": [
    {
     "name": "stdout",
     "output_type": "stream",
     "text": [
      "word types\n",
      "17830 4835\n",
      "common word types\n"
     ]
    },
    {
     "data": {
      "text/plain": [
       "3824"
      ]
     },
     "execution_count": 37,
     "metadata": {},
     "output_type": "execute_result"
    }
   ],
   "source": [
    "print(\"word types\")\n",
    "print(len(en_word_utt_count['train']), len(en_word_utt_count['dev']))\n",
    "print(\"common word types\")\n",
    "en_common_words = set(en_word_utt_count['train'].keys()) & set(en_word_utt_count['dev'].keys())\n",
    "len(en_common_words)"
   ]
  },
  {
   "cell_type": "code",
   "execution_count": 38,
   "metadata": {},
   "outputs": [
    {
     "name": "stdout",
     "output_type": "stream",
     "text": [
      "word types\n",
      "32860 4145\n",
      "common word types\n"
     ]
    },
    {
     "data": {
      "text/plain": [
       "3697"
      ]
     },
     "execution_count": 38,
     "metadata": {},
     "output_type": "execute_result"
    }
   ],
   "source": [
    "print(\"word types\")\n",
    "print(len(es_word_utt_count['train']), len(es_word_utt_count['dev']))\n",
    "print(\"common word types\")\n",
    "es_common_words = set(es_word_utt_count['train'].keys()) & set(es_word_utt_count['dev'].keys())\n",
    "len(es_common_words)"
   ]
  },
  {
   "cell_type": "code",
   "execution_count": 39,
   "metadata": {},
   "outputs": [],
   "source": [
    "def get_details_for_words(words, common_words, word_utt_count, \n",
    "                          min_dev_freq, max_dev_freq, min_train_freq, min_len):\n",
    "    details = {\"words\": {}, \"train_utts\": set(), \"dev_utts\": set()}\n",
    "    \n",
    "    in_vocab_words = set(words) & set(common_words)\n",
    "    print(\"number of in-vocab words = {0:d}\".format(len(in_vocab_words)))\n",
    "\n",
    "    for w in in_vocab_words:\n",
    "        t_count, d_count = word_utt_count[\"train\"][w], word_utt_count[\"dev\"][w]\n",
    "        if ((d_count >= min_dev_freq) and \n",
    "            (d_count <= max_dev_freq) and\n",
    "            (len(w) >= min_len) and\n",
    "            (t_count >= min_train_freq)):\n",
    "            details[\"words\"][w] = {\"train\": t_count, \"dev\": d_count}\n",
    "            details[\"train_utts\"].update(word_utt_count[\"train_utts\"][w])\n",
    "            details[\"dev_utts\"].update(word_utt_count[\"dev_utts\"][w])\n",
    "        # end meets criteria\n",
    "    # end for in-vocab word\n",
    "    return details\n",
    "# end function"
   ]
  },
  {
   "cell_type": "code",
   "execution_count": 40,
   "metadata": {},
   "outputs": [],
   "source": [
    "def get_duration(utts, key):\n",
    "    dur = 0\n",
    "    utts_not_found = []\n",
    "    for u in utts:\n",
    "        if u not in info_dict[key]:\n",
    "            #print(\"argh!\", u)\n",
    "            utts_not_found.append(u)\n",
    "        else:\n",
    "            dur += (info_dict[key][u]['sp'] * 10)\n",
    "    dur = dur / 60 / 60 / 1000\n",
    "    print(\"-\"*80)\n",
    "    print(\"{0:d} total utts\".format(len(utts)))\n",
    "    print(\"{0:d} not found\".format(len(utts_not_found)))\n",
    "    print(\"selected utts from {0:s} -- duration = {1:.2f} hours\".format(key, dur))\n",
    "    return dur"
   ]
  },
  {
   "cell_type": "code",
   "execution_count": 41,
   "metadata": {},
   "outputs": [],
   "source": [
    "def create_vocab(words_list):\n",
    "    out = {\"w2i\":{}, \"i2w\":{}, \"freq\":{}, \"freq_dev\":{}}\n",
    "    START_VOCAB = [PAD, GO, EOS, UNK]\n",
    "    for w in START_VOCAB:\n",
    "        out['w2i'][w] = len(out[\"w2i\"])\n",
    "        out[\"freq\"][w] = 1\n",
    "    #for w in words_list['words']:\n",
    "    sorted_w = sorted(words_list['words'].items(), reverse=True, key=lambda t: t[1]['train'])\n",
    "    for w in sorted_w:\n",
    "        encoded_word = w[0].encode()\n",
    "        out[\"w2i\"][encoded_word] = len(out[\"w2i\"])\n",
    "        out[\"freq\"][encoded_word] = w[1][\"train\"]\n",
    "        out[\"freq_dev\"][encoded_word] = w[1][\"dev\"]\n",
    "\n",
    "    out[\"i2w\"] = {val:key for key, val in out[\"w2i\"].items()}\n",
    "    return out"
   ]
  },
  {
   "cell_type": "code",
   "execution_count": 42,
   "metadata": {},
   "outputs": [
    {
     "name": "stdout",
     "output_type": "stream",
     "text": [
      "--------------------------------------------------------------------------------\n",
      "138795 total utts\n",
      "89 not found\n",
      "selected utts from fisher_train -- duration = 161.62 hours\n",
      "--------------------------------------------------------------------------------\n",
      "3979 total utts\n",
      "2 not found\n",
      "selected utts from fisher_dev -- duration = 4.35 hours\n"
     ]
    }
   ],
   "source": [
    "train_dur, dev_dur = get_duration(en_train_utts, key=\"fisher_train\"), get_duration(en_dev_utts, key=\"fisher_dev\")"
   ]
  },
  {
   "cell_type": "markdown",
   "metadata": {},
   "source": [
    "### Task 0 - 500 randomly selected frequent words, minor filtering"
   ]
  },
  {
   "cell_type": "code",
   "execution_count": 57,
   "metadata": {},
   "outputs": [],
   "source": [
    "min_dev_freq=10\n",
    "max_dev_freq=10000\n",
    "min_train_freq=50 \n",
    "min_len=5"
   ]
  },
  {
   "cell_type": "code",
   "execution_count": 40,
   "metadata": {},
   "outputs": [
    {
     "name": "stdout",
     "output_type": "stream",
     "text": [
      "number of in-vocab words = 3824\n",
      "total words meeting criteria = 557\n"
     ]
    }
   ],
   "source": [
    "terms_of_interest = get_details_for_words(common_words, \n",
    "                                          min_dev_freq=min_dev_freq, \n",
    "                                          max_dev_freq=max_dev_freq, \n",
    "                                          min_train_freq=min_train_freq, \n",
    "                                          min_len=min_len)\n",
    "print(\"total words meeting criteria = {0:d}\".format(len(terms_of_interest[\"words\"])))"
   ]
  },
  {
   "cell_type": "code",
   "execution_count": 41,
   "metadata": {},
   "outputs": [
    {
     "name": "stdout",
     "output_type": "stream",
     "text": [
      "--------------------------------------------------------------------------------\n",
      "84953 total utts\n",
      "46 not found\n",
      "selected utts from fisher_train -- duration = 133.57 hours\n",
      "--------------------------------------------------------------------------------\n",
      "2759 total utts\n",
      "2 not found\n",
      "selected utts from fisher_dev -- duration = 3.82 hours\n"
     ]
    }
   ],
   "source": [
    "_, _ = get_duration(terms_of_interest[\"train_utts\"], key=\"fisher_train\"), get_duration(terms_of_interest[\"dev_utts\"], key=\"fisher_dev\")"
   ]
  },
  {
   "cell_type": "code",
   "execution_count": 42,
   "metadata": {},
   "outputs": [],
   "source": [
    "random.seed(\"hmm\")\n",
    "sample_terms = random.sample(list(terms_of_interest[\"words\"].keys()), 500)"
   ]
  },
  {
   "cell_type": "code",
   "execution_count": 43,
   "metadata": {},
   "outputs": [
    {
     "name": "stdout",
     "output_type": "stream",
     "text": [
      "number of in-vocab words = 500\n",
      "total words meeting criteria = 500\n"
     ]
    }
   ],
   "source": [
    "sample_terms_details = get_details_for_words(sample_terms, \n",
    "                                          min_dev_freq=min_dev_freq, \n",
    "                                          max_dev_freq=max_dev_freq, \n",
    "                                          min_train_freq=min_train_freq, \n",
    "                                          min_len=min_len)\n",
    "print(\"total words meeting criteria = {0:d}\".format(len(sample_terms_details[\"words\"])))"
   ]
  },
  {
   "cell_type": "code",
   "execution_count": 44,
   "metadata": {},
   "outputs": [
    {
     "name": "stdout",
     "output_type": "stream",
     "text": [
      "--------------------------------------------------------------------------------\n",
      "82928 total utts\n",
      "43 not found\n",
      "selected utts from fisher_train -- duration = 131.58 hours\n",
      "--------------------------------------------------------------------------------\n",
      "2700 total utts\n",
      "2 not found\n",
      "selected utts from fisher_dev -- duration = 3.78 hours\n"
     ]
    }
   ],
   "source": [
    "_, _ = get_duration(sample_terms_details[\"train_utts\"], key=\"fisher_train\"), get_duration(sample_terms_details[\"dev_utts\"], key=\"fisher_dev\")"
   ]
  },
  {
   "cell_type": "code",
   "execution_count": 45,
   "metadata": {},
   "outputs": [
    {
     "data": {
      "text/plain": [
       "['neither',\n",
       " 'children',\n",
       " 'dancing',\n",
       " 'knows',\n",
       " 'immigration',\n",
       " 'found',\n",
       " 'belong',\n",
       " 'politics',\n",
       " 'computer',\n",
       " 'miles']"
      ]
     },
     "execution_count": 45,
     "metadata": {},
     "output_type": "execute_result"
    }
   ],
   "source": [
    "sample_terms[:10]"
   ]
  },
  {
   "cell_type": "code",
   "execution_count": 46,
   "metadata": {},
   "outputs": [],
   "source": [
    "bow_top_500_words_vocab = create_vocab(sample_terms_details)"
   ]
  },
  {
   "cell_type": "code",
   "execution_count": 47,
   "metadata": {},
   "outputs": [],
   "source": [
    "pickle.dump(bow_top_500_words_vocab, open(os.path.join(m_cfg['data_path'], \"bow_top_500_words_vocab.dict\"), \"wb\"))"
   ]
  },
  {
   "cell_type": "markdown",
   "metadata": {},
   "source": [
    "### Task 1 - randomly selected frequent words"
   ]
  },
  {
   "cell_type": "code",
   "execution_count": 73,
   "metadata": {},
   "outputs": [],
   "source": [
    "min_dev_freq=10 \n",
    "max_dev_freq=100\n",
    "min_train_freq=100\n",
    "min_len=5"
   ]
  },
  {
   "cell_type": "code",
   "execution_count": 74,
   "metadata": {},
   "outputs": [
    {
     "name": "stdout",
     "output_type": "stream",
     "text": [
      "number of in-vocab words = 3824\n",
      "total words meeting criteria = 372\n"
     ]
    }
   ],
   "source": [
    "terms_of_interest = get_details_for_words(common_words, \n",
    "                                          min_dev_freq=min_dev_freq, \n",
    "                                          max_dev_freq=max_dev_freq, \n",
    "                                          min_train_freq=min_train_freq, \n",
    "                                          min_len=min_len)\n",
    "print(\"total words meeting criteria = {0:d}\".format(len(terms_of_interest[\"words\"])))"
   ]
  },
  {
   "cell_type": "code",
   "execution_count": 75,
   "metadata": {},
   "outputs": [
    {
     "name": "stdout",
     "output_type": "stream",
     "text": [
      "--------------------------------------------------------------------------------\n",
      "62610 total utts\n",
      "35 not found\n",
      "selected utts from fisher_train -- duration = 109.48 hours\n",
      "--------------------------------------------------------------------------------\n",
      "2084 total utts\n",
      "1 not found\n",
      "selected utts from fisher_dev -- duration = 3.30 hours\n"
     ]
    }
   ],
   "source": [
    "_, _ = get_duration(terms_of_interest[\"train_utts\"], key=\"fisher_train\"), get_duration(terms_of_interest[\"dev_utts\"], key=\"fisher_dev\")"
   ]
  },
  {
   "cell_type": "code",
   "execution_count": 76,
   "metadata": {},
   "outputs": [],
   "source": [
    "random.seed(\"hmm\")\n",
    "sample_terms = random.sample(list(terms_of_interest[\"words\"].keys()), 100)"
   ]
  },
  {
   "cell_type": "code",
   "execution_count": 77,
   "metadata": {},
   "outputs": [
    {
     "name": "stdout",
     "output_type": "stream",
     "text": [
      "number of in-vocab words = 100\n",
      "total words meeting criteria = 100\n"
     ]
    }
   ],
   "source": [
    "sample_terms_details = get_details_for_words(sample_terms, \n",
    "                                          min_dev_freq=min_dev_freq, \n",
    "                                          max_dev_freq=max_dev_freq, \n",
    "                                          min_train_freq=min_train_freq, \n",
    "                                          min_len=min_len)\n",
    "print(\"total words meeting criteria = {0:d}\".format(len(sample_terms_details[\"words\"])))"
   ]
  },
  {
   "cell_type": "code",
   "execution_count": 78,
   "metadata": {},
   "outputs": [
    {
     "name": "stdout",
     "output_type": "stream",
     "text": [
      "--------------------------------------------------------------------------------\n",
      "26354 total utts\n",
      "15 not found\n",
      "selected utts from fisher_train -- duration = 51.20 hours\n",
      "--------------------------------------------------------------------------------\n",
      "1026 total utts\n",
      "0 not found\n",
      "selected utts from fisher_dev -- duration = 1.83 hours\n"
     ]
    }
   ],
   "source": [
    "_, _ = get_duration(sample_terms_details[\"train_utts\"], key=\"fisher_train\"), get_duration(sample_terms_details[\"dev_utts\"], key=\"fisher_dev\")"
   ]
  },
  {
   "cell_type": "code",
   "execution_count": 79,
   "metadata": {},
   "outputs": [
    {
     "data": {
      "text/plain": [
       "['child',\n",
       " 'rican',\n",
       " 'lived',\n",
       " 'strange',\n",
       " 'thousand',\n",
       " 'alone',\n",
       " 'spend',\n",
       " 'whole',\n",
       " 'doing',\n",
       " 'married']"
      ]
     },
     "execution_count": 79,
     "metadata": {},
     "output_type": "execute_result"
    }
   ],
   "source": [
    "sample_terms[:10]"
   ]
  },
  {
   "cell_type": "code",
   "execution_count": 81,
   "metadata": {},
   "outputs": [],
   "source": [
    "bow_top_100_words_vocab = create_vocab(sample_terms_details)"
   ]
  },
  {
   "cell_type": "code",
   "execution_count": 82,
   "metadata": {},
   "outputs": [],
   "source": [
    "pickle.dump(bow_top_100_words_vocab, open(os.path.join(m_cfg['data_path'], \"bow_top_100_words_vocab.dict\"), \"wb\"))"
   ]
  },
  {
   "cell_type": "markdown",
   "metadata": {
    "collapsed": true
   },
   "source": [
    "### Task 2 - topics as keywords"
   ]
  },
  {
   "cell_type": "code",
   "execution_count": 43,
   "metadata": {},
   "outputs": [],
   "source": [
    "train_text_fname= \"../installs/fisher-callhome-corpus/corpus/ldc/fisher_train.en\"\n",
    "topics_fname = \"../criseslex/fsp06_topics_in_english.txt\""
   ]
  },
  {
   "cell_type": "code",
   "execution_count": 61,
   "metadata": {},
   "outputs": [],
   "source": [
    "topics = [ \"peace\", \"Music\", \"Marriage\", \"Religion\", \"Cell phones\", \n",
    "           \"Dating\", \"Telemarketing and SPAM\", \"Politics\", \"Travel\", \n",
    "           \"Technical devices\", \"Healthcare\", \"Advertisements\", \"Power\", \n",
    "           \"Occupations\", \"Movies\", \"Welfare\", \"Breaking up\", \"Location\", \n",
    "           \"Justice\", \"Memories\", \"Crime\", \"Violence against women\", \"Equality\", \n",
    "            \"Housing\", \"Immigration\",     \n",
    "            # new topics\n",
    "           \"Interracial\", \"Christians\", \"muslims\", \"jews\", \"e-mail\", \n",
    "           \"phone\", \"democracy\", \"Democratic\", \"Republican\", \"technology\", \n",
    "           \"leadership\", \"community\", \"jury\", \"police\", \"inequality\", \n",
    "           \"renting\", \"Violence\", \"immigrants\", \"immigrant\", \"skilled\", \n",
    "           \"Telemarketing\", \"SPAM\", \"skill\", \"job\", \"health\", \"mobile\", \n",
    "            \"ads\", \"physical\", \"emotional\", \"bubble\", \"rent\", \"economy\", \n",
    "            \"abuse\", \"women\", \"city\", \"country\", \"suburban\", \"dollar\", \n",
    "            \"united states\", \"laws\", \"phone\", \"race\", \"biracial\", \"interracial\", \n",
    "            \"marriage\", \"lyrics\", \"sexuality\", \"medicine\", \"television\", \"european\",\n",
    "            \"home\", \"protect\", \"spouse\", \"language\", \"cellphone\", \"money\",\n",
    "            \"doctor\", \"insurance\", \"cigarettes\", \"alcohol\", \"income\", \"salary\",\n",
    "            \"class\", \"censor\", \"rating\", \"programs\", \"government\",\n",
    "            \"relationship\", \"legal\", \"event\", \"life\", \"safe\", \"victim\", \"cops\",\n",
    "            \"wage\", \"illegal\"\n",
    "            ]\n",
    "topics = list(set(t.lower() for t in topics))\n",
    "topics_stem = [stem(t) for t in topics]\n",
    "\n",
    "# add similar topic words\n",
    "new_topics = []\n",
    "# for t in topics:\n",
    "#     if t.encode() in sim_dict['w']:\n",
    "#         new_topics.extend([w.decode() for w in sim_dict['w'][t.encode()]])\n",
    "topics.extend(new_topics)"
   ]
  },
  {
   "cell_type": "code",
   "execution_count": 62,
   "metadata": {},
   "outputs": [
    {
     "data": {
      "text/plain": [
       "98"
      ]
     },
     "execution_count": 62,
     "metadata": {},
     "output_type": "execute_result"
    }
   ],
   "source": [
    "len(topics)"
   ]
  },
  {
   "cell_type": "code",
   "execution_count": 63,
   "metadata": {},
   "outputs": [
    {
     "name": "stdout",
     "output_type": "stream",
     "text": [
      "number of in-vocab words = 60\n",
      "total words meeting criteria = 42\n"
     ]
    }
   ],
   "source": [
    "topics_details = get_details_for_words(topics, en_common_words, en_word_utt_count, \n",
    "                                       min_dev_freq=5, \n",
    "                                       max_dev_freq=10000, \n",
    "                                       min_train_freq=10, \n",
    "                                       min_len=1)\n",
    "print(\"total words meeting criteria = {0:d}\".format(len(topics_details[\"words\"])))"
   ]
  },
  {
   "cell_type": "code",
   "execution_count": 64,
   "metadata": {},
   "outputs": [
    {
     "name": "stdout",
     "output_type": "stream",
     "text": [
      "--------------------------------------------------------------------------------\n",
      "13605 total utts\n",
      "8 not found\n",
      "selected utts from fisher_train -- duration = 28.43 hours\n",
      "--------------------------------------------------------------------------------\n",
      "518 total utts\n",
      "0 not found\n",
      "selected utts from fisher_dev -- duration = 0.99 hours\n"
     ]
    }
   ],
   "source": [
    "_, _ = get_duration(topics_details[\"train_utts\"], key=\"fisher_train\"), get_duration(topics_details[\"dev_utts\"], key=\"fisher_dev\")"
   ]
  },
  {
   "cell_type": "code",
   "execution_count": 65,
   "metadata": {},
   "outputs": [
    {
     "name": "stdout",
     "output_type": "stream",
     "text": [
      "life\n",
      "christians\n",
      "jury\n",
      "race\n",
      "alcohol\n",
      "welfare\n",
      "class\n",
      "home\n",
      "safe\n",
      "crime\n",
      "government\n",
      "religion\n",
      "doctor\n",
      "rent\n",
      "income\n",
      "medicine\n",
      "laws\n",
      "politics\n",
      "job\n",
      "justice\n",
      "television\n",
      "spam\n",
      "police\n",
      "movies\n",
      "immigration\n",
      "insurance\n",
      "money\n",
      "health\n",
      "language\n",
      "women\n",
      "illegal\n",
      "phone\n",
      "programs\n",
      "interracial\n",
      "travel\n",
      "music\n",
      "country\n",
      "lyrics\n",
      "marriage\n",
      "relationship\n",
      "city\n",
      "protect\n"
     ]
    }
   ],
   "source": [
    "print(\"\\n\".join(list(topics_details[\"words\"].keys())))"
   ]
  },
  {
   "cell_type": "code",
   "execution_count": 67,
   "metadata": {},
   "outputs": [
    {
     "data": {
      "text/plain": [
       "{'alcohol': {'dev': 9, 'train': 38},\n",
       " 'christians': {'dev': 12, 'train': 86},\n",
       " 'city': {'dev': 144, 'train': 1045},\n",
       " 'class': {'dev': 31, 'train': 119},\n",
       " 'country': {'dev': 93, 'train': 1341},\n",
       " 'crime': {'dev': 35, 'train': 169},\n",
       " 'doctor': {'dev': 8, 'train': 195},\n",
       " 'government': {'dev': 33, 'train': 333},\n",
       " 'health': {'dev': 8, 'train': 243},\n",
       " 'home': {'dev': 73, 'train': 537},\n",
       " 'illegal': {'dev': 5, 'train': 85},\n",
       " 'immigration': {'dev': 12, 'train': 137},\n",
       " 'income': {'dev': 7, 'train': 32},\n",
       " 'insurance': {'dev': 7, 'train': 310},\n",
       " 'interracial': {'dev': 8, 'train': 66},\n",
       " 'job': {'dev': 33, 'train': 476},\n",
       " 'jury': {'dev': 25, 'train': 185},\n",
       " 'justice': {'dev': 8, 'train': 85},\n",
       " 'language': {'dev': 10, 'train': 230},\n",
       " 'laws': {'dev': 6, 'train': 170},\n",
       " 'life': {'dev': 93, 'train': 933},\n",
       " 'lyrics': {'dev': 8, 'train': 43},\n",
       " 'marriage': {'dev': 24, 'train': 281},\n",
       " 'medicine': {'dev': 15, 'train': 97},\n",
       " 'money': {'dev': 132, 'train': 1217},\n",
       " 'movies': {'dev': 10, 'train': 329},\n",
       " 'music': {'dev': 426, 'train': 1719},\n",
       " 'phone': {'dev': 42, 'train': 838},\n",
       " 'police': {'dev': 11, 'train': 213},\n",
       " 'politics': {'dev': 21, 'train': 180},\n",
       " 'programs': {'dev': 26, 'train': 133},\n",
       " 'protect': {'dev': 7, 'train': 39},\n",
       " 'race': {'dev': 22, 'train': 187},\n",
       " 'relationship': {'dev': 13, 'train': 380},\n",
       " 'religion': {'dev': 163, 'train': 885},\n",
       " 'rent': {'dev': 14, 'train': 213},\n",
       " 'safe': {'dev': 15, 'train': 95},\n",
       " 'spam': {'dev': 51, 'train': 80},\n",
       " 'television': {'dev': 35, 'train': 266},\n",
       " 'travel': {'dev': 71, 'train': 234},\n",
       " 'welfare': {'dev': 15, 'train': 34},\n",
       " 'women': {'dev': 28, 'train': 541}}"
      ]
     },
     "execution_count": 67,
     "metadata": {},
     "output_type": "execute_result"
    }
   ],
   "source": [
    "topics_details['words']"
   ]
  },
  {
   "cell_type": "code",
   "execution_count": null,
   "metadata": {},
   "outputs": [],
   "source": [
    "bow_topics_vocab = create_vocab(topics_details)"
   ]
  },
  {
   "cell_type": "code",
   "execution_count": null,
   "metadata": {},
   "outputs": [],
   "source": [
    "haha = pickle.load(open(os.path.join(m_cfg['data_path'], \"bow_topics_vocab.dict\"), \"rb\"))"
   ]
  },
  {
   "cell_type": "code",
   "execution_count": null,
   "metadata": {},
   "outputs": [],
   "source": [
    "len(set(haha['w2i']) & set(bow_topics_vocab['w2i'].keys()))"
   ]
  },
  {
   "cell_type": "code",
   "execution_count": null,
   "metadata": {},
   "outputs": [],
   "source": [
    "pickle.dump(bow_topics_vocab, open(os.path.join(m_cfg['data_path'], \"bow_topics_vocab.dict\"), \"wb\"))"
   ]
  },
  {
   "cell_type": "markdown",
   "metadata": {},
   "source": [
    "### Task 3 - crises terms as keywords"
   ]
  },
  {
   "cell_type": "code",
   "execution_count": 68,
   "metadata": {},
   "outputs": [],
   "source": [
    "crises_lex_fname = \"../criseslex/CrisisLexLexicon/CrisisLexRec.txt\""
   ]
  },
  {
   "cell_type": "code",
   "execution_count": 69,
   "metadata": {},
   "outputs": [],
   "source": [
    "crises = set()\n",
    "with open(crises_lex_fname, \"r\") as in_f:\n",
    "    for line in in_f:\n",
    "        crises.update(line.strip().split())\n",
    "crises = list(crises)\n",
    "crises_stem = [stem(w) for w in crises]\n",
    "\n",
    "# new_crises = []\n",
    "# for t in crises:\n",
    "#     if t.encode() in sim_dict['w']:\n",
    "#         new_crises.extend([w.decode() for w in sim_dict['w'][t.encode()]])\n",
    "# crises.extend(new_crises)"
   ]
  },
  {
   "cell_type": "code",
   "execution_count": 70,
   "metadata": {},
   "outputs": [
    {
     "data": {
      "text/plain": [
       "288"
      ]
     },
     "execution_count": 70,
     "metadata": {},
     "output_type": "execute_result"
    }
   ],
   "source": [
    "len(crises)"
   ]
  },
  {
   "cell_type": "code",
   "execution_count": 100,
   "metadata": {},
   "outputs": [
    {
     "name": "stdout",
     "output_type": "stream",
     "text": [
      "number of in-vocab words = 123\n",
      "total words meeting criteria = 54\n"
     ]
    }
   ],
   "source": [
    "crises_details = get_details_for_words(crises, en_common_words, en_word_utt_count,\n",
    "                                       min_dev_freq=10, \n",
    "                                       max_dev_freq=1000, \n",
    "                                       min_train_freq=100, \n",
    "                                       min_len=1)\n",
    "print(\"total words meeting criteria = {0:d}\".format(len(crises_details[\"words\"])))"
   ]
  },
  {
   "cell_type": "code",
   "execution_count": 101,
   "metadata": {},
   "outputs": [
    {
     "name": "stdout",
     "output_type": "stream",
     "text": [
      "--------------------------------------------------------------------------------\n",
      "30282 total utts\n",
      "11 not found\n",
      "selected utts from fisher_train -- duration = 58.74 hours\n",
      "--------------------------------------------------------------------------------\n",
      "1110 total utts\n",
      "0 not found\n",
      "selected utts from fisher_dev -- duration = 2.03 hours\n"
     ]
    }
   ],
   "source": [
    "_, _ = get_duration(crises_details[\"train_utts\"], key=\"fisher_train\"), get_duration(crises_details[\"dev_utts\"], key=\"fisher_dev\")"
   ]
  },
  {
   "cell_type": "code",
   "execution_count": 102,
   "metadata": {
    "scrolled": true
   },
   "outputs": [
    {
     "name": "stdout",
     "output_type": "stream",
     "text": [
      "remember\n",
      "return\n",
      "live\n",
      "number\n",
      "give\n",
      "high\n",
      "coming\n",
      "time\n",
      "stay\n",
      "news\n",
      "town\n",
      "gets\n",
      "free\n",
      "first\n",
      "love\n",
      "water\n",
      "house\n",
      "case\n",
      "terrible\n",
      "need\n",
      "another\n",
      "huge\n",
      "situation\n",
      "life\n",
      "service\n",
      "home\n",
      "help\n",
      "government\n",
      "change\n",
      "lives\n",
      "black\n",
      "send\n",
      "morning\n",
      "police\n",
      "lost\n",
      "waiting\n",
      "people\n",
      "watch\n",
      "name\n",
      "city\n",
      "found\n",
      "even\n",
      "girl\n",
      "leave\n",
      "public\n",
      "died\n",
      "years\n",
      "saying\n",
      "women\n",
      "areas\n",
      "want\n",
      "someone\n",
      "make\n",
      "kill\n"
     ]
    }
   ],
   "source": [
    "print(\"\\n\".join(list(crises_details[\"words\"].keys())))"
   ]
  },
  {
   "cell_type": "code",
   "execution_count": 103,
   "metadata": {},
   "outputs": [
    {
     "data": {
      "text/plain": [
       "{'another': {'dev': 105, 'train': 1215},\n",
       " 'areas': {'dev': 11, 'train': 102},\n",
       " 'black': {'dev': 28, 'train': 202},\n",
       " 'case': {'dev': 27, 'train': 432},\n",
       " 'change': {'dev': 58, 'train': 425},\n",
       " 'city': {'dev': 144, 'train': 1045},\n",
       " 'coming': {'dev': 36, 'train': 253},\n",
       " 'died': {'dev': 16, 'train': 118},\n",
       " 'even': {'dev': 150, 'train': 1582},\n",
       " 'first': {'dev': 66, 'train': 937},\n",
       " 'found': {'dev': 28, 'train': 290},\n",
       " 'free': {'dev': 26, 'train': 261},\n",
       " 'gets': {'dev': 30, 'train': 370},\n",
       " 'girl': {'dev': 86, 'train': 598},\n",
       " 'give': {'dev': 77, 'train': 999},\n",
       " 'government': {'dev': 33, 'train': 333},\n",
       " 'help': {'dev': 120, 'train': 529},\n",
       " 'high': {'dev': 45, 'train': 255},\n",
       " 'home': {'dev': 73, 'train': 537},\n",
       " 'house': {'dev': 113, 'train': 1134},\n",
       " 'huge': {'dev': 20, 'train': 119},\n",
       " 'kill': {'dev': 23, 'train': 108},\n",
       " 'leave': {'dev': 52, 'train': 404},\n",
       " 'life': {'dev': 93, 'train': 933},\n",
       " 'live': {'dev': 240, 'train': 1979},\n",
       " 'lives': {'dev': 71, 'train': 362},\n",
       " 'lost': {'dev': 14, 'train': 179},\n",
       " 'love': {'dev': 78, 'train': 712},\n",
       " 'make': {'dev': 89, 'train': 968},\n",
       " 'morning': {'dev': 36, 'train': 184},\n",
       " 'name': {'dev': 106, 'train': 1064},\n",
       " 'need': {'dev': 99, 'train': 770},\n",
       " 'news': {'dev': 37, 'train': 187},\n",
       " 'number': {'dev': 11, 'train': 301},\n",
       " 'people': {'dev': 664, 'train': 5781},\n",
       " 'police': {'dev': 11, 'train': 213},\n",
       " 'public': {'dev': 12, 'train': 196},\n",
       " 'remember': {'dev': 74, 'train': 835},\n",
       " 'return': {'dev': 11, 'train': 145},\n",
       " 'saying': {'dev': 35, 'train': 505},\n",
       " 'send': {'dev': 79, 'train': 368},\n",
       " 'service': {'dev': 24, 'train': 145},\n",
       " 'situation': {'dev': 13, 'train': 392},\n",
       " 'someone': {'dev': 108, 'train': 1009},\n",
       " 'stay': {'dev': 41, 'train': 395},\n",
       " 'terrible': {'dev': 27, 'train': 263},\n",
       " 'time': {'dev': 359, 'train': 2665},\n",
       " 'town': {'dev': 25, 'train': 148},\n",
       " 'waiting': {'dev': 40, 'train': 115},\n",
       " 'want': {'dev': 286, 'train': 2145},\n",
       " 'watch': {'dev': 42, 'train': 361},\n",
       " 'water': {'dev': 12, 'train': 136},\n",
       " 'women': {'dev': 28, 'train': 541},\n",
       " 'years': {'dev': 230, 'train': 2383}}"
      ]
     },
     "execution_count": 103,
     "metadata": {},
     "output_type": "execute_result"
    }
   ],
   "source": [
    "crises_details[\"words\"]"
   ]
  },
  {
   "cell_type": "code",
   "execution_count": 104,
   "metadata": {},
   "outputs": [],
   "source": [
    "bow_crises_vocab = create_vocab(crises_details)"
   ]
  },
  {
   "cell_type": "code",
   "execution_count": 105,
   "metadata": {},
   "outputs": [],
   "source": [
    "pickle.dump(bow_crises_vocab, open(os.path.join(m_cfg['data_path'], \"bow_crises_vocab.dict\"), \"wb\"))"
   ]
  },
  {
   "cell_type": "markdown",
   "metadata": {},
   "source": [
    "### Task Spanish - 500 randomly selected frequent words, minor filtering"
   ]
  },
  {
   "cell_type": "code",
   "execution_count": 136,
   "metadata": {},
   "outputs": [],
   "source": [
    "min_dev_freq=5\n",
    "max_dev_freq=10000\n",
    "min_train_freq=1000\n",
    "min_len=5"
   ]
  },
  {
   "cell_type": "code",
   "execution_count": 137,
   "metadata": {},
   "outputs": [
    {
     "name": "stdout",
     "output_type": "stream",
     "text": [
      "number of in-vocab words = 3697\n",
      "total words meeting criteria = 62\n"
     ]
    }
   ],
   "source": [
    "terms_of_interest = get_details_for_words(es_common_words,\n",
    "                                          es_common_words,\n",
    "                                          es_word_utt_count,\n",
    "                                          min_dev_freq=min_dev_freq, \n",
    "                                          max_dev_freq=max_dev_freq, \n",
    "                                          min_train_freq=min_train_freq, \n",
    "                                          min_len=min_len)\n",
    "print(\"total words meeting criteria = {0:d}\".format(len(terms_of_interest[\"words\"])))"
   ]
  },
  {
   "cell_type": "code",
   "execution_count": 138,
   "metadata": {},
   "outputs": [
    {
     "name": "stdout",
     "output_type": "stream",
     "text": [
      "--------------------------------------------------------------------------------\n",
      "69358 total utts\n",
      "31 not found\n",
      "selected utts from fisher_train -- duration = 115.64 hours\n",
      "--------------------------------------------------------------------------------\n",
      "1863 total utts\n",
      "0 not found\n",
      "selected utts from fisher_dev -- duration = 3.01 hours\n"
     ]
    }
   ],
   "source": [
    "_, _ = get_duration(terms_of_interest[\"train_utts\"], key=\"fisher_train\"), get_duration(terms_of_interest[\"dev_utts\"], key=\"fisher_dev\")"
   ]
  },
  {
   "cell_type": "code",
   "execution_count": 139,
   "metadata": {},
   "outputs": [],
   "source": [
    "random.seed(\"hmm\")\n",
    "sample_terms = random.sample(list(terms_of_interest[\"words\"].keys()), \n",
    "                             min(len(terms_of_interest[\"words\"].keys()), len(terms_of_interest[\"words\"].keys())))"
   ]
  },
  {
   "cell_type": "code",
   "execution_count": 140,
   "metadata": {},
   "outputs": [],
   "source": [
    "# sample_terms = [\"bueno\"]"
   ]
  },
  {
   "cell_type": "code",
   "execution_count": 141,
   "metadata": {},
   "outputs": [
    {
     "name": "stdout",
     "output_type": "stream",
     "text": [
      "number of in-vocab words = 62\n",
      "total words meeting criteria = 62\n"
     ]
    }
   ],
   "source": [
    "sample_terms_details = get_details_for_words(sample_terms,\n",
    "                                             es_common_words,\n",
    "                                             es_word_utt_count,\n",
    "                                              min_dev_freq=min_dev_freq, \n",
    "                                              max_dev_freq=max_dev_freq, \n",
    "                                              min_train_freq=min_train_freq, \n",
    "                                              min_len=min_len)\n",
    "print(\"total words meeting criteria = {0:d}\".format(len(sample_terms_details[\"words\"])))"
   ]
  },
  {
   "cell_type": "code",
   "execution_count": 142,
   "metadata": {},
   "outputs": [
    {
     "name": "stdout",
     "output_type": "stream",
     "text": [
      "--------------------------------------------------------------------------------\n",
      "69358 total utts\n",
      "31 not found\n",
      "selected utts from fisher_train -- duration = 115.64 hours\n",
      "--------------------------------------------------------------------------------\n",
      "1863 total utts\n",
      "0 not found\n",
      "selected utts from fisher_dev -- duration = 3.01 hours\n"
     ]
    }
   ],
   "source": [
    "_, _ = get_duration(sample_terms_details[\"train_utts\"], key=\"fisher_train\"), get_duration(sample_terms_details[\"dev_utts\"], key=\"fisher_dev\")"
   ]
  },
  {
   "cell_type": "code",
   "execution_count": 143,
   "metadata": {
    "scrolled": true
   },
   "outputs": [
    {
     "data": {
      "text/plain": [
       "['mundo',\n",
       " 'donde',\n",
       " 'verdad',\n",
       " 'igual',\n",
       " 'usted',\n",
       " 'muchos',\n",
       " 'mucha',\n",
       " 'persona',\n",
       " 'hablar',\n",
       " '¿cómo',\n",
       " 'tener',\n",
       " 'sabes',\n",
       " 'parte',\n",
       " 'mucho',\n",
       " 'veces',\n",
       " 'estoy',\n",
       " 'cosas',\n",
       " 'estar',\n",
       " 'mejor',\n",
       " 'puede',\n",
       " 'hacer',\n",
       " 'ellos',\n",
       " 'digamos',\n",
       " 'dicen',\n",
       " 'siempre',\n",
       " 'tienen',\n",
       " 'muchas',\n",
       " 'tiempo',\n",
       " 'trabajo',\n",
       " 'mismo',\n",
       " 'tiene',\n",
       " 'dónde',\n",
       " 'están',\n",
       " 'nosotros',\n",
       " 'ciudad',\n",
       " 'parece',\n",
       " 'música',\n",
       " 'todos',\n",
       " 'gusta',\n",
       " 'estaba',\n",
       " 'ahora',\n",
       " 'estás',\n",
       " 'tengo',\n",
       " 'claro',\n",
       " 'cuando',\n",
       " 'después',\n",
       " 'decir',\n",
       " 'menos',\n",
       " 'porque',\n",
       " 'nueva',\n",
       " 'bueno',\n",
       " 'personas',\n",
       " 'unidos',\n",
       " 'exacto',\n",
       " 'estados',\n",
       " 'nunca',\n",
       " 'ejemplo',\n",
       " 'hasta',\n",
       " 'también',\n",
       " 'gente',\n",
       " 'tienes',\n",
       " 'entonces']"
      ]
     },
     "execution_count": 143,
     "metadata": {},
     "output_type": "execute_result"
    }
   ],
   "source": [
    "sample_terms"
   ]
  },
  {
   "cell_type": "code",
   "execution_count": 144,
   "metadata": {},
   "outputs": [],
   "source": [
    "# sample_terms_details"
   ]
  },
  {
   "cell_type": "code",
   "execution_count": 145,
   "metadata": {},
   "outputs": [],
   "source": [
    "bow_es_top_words_vocab = create_vocab(sample_terms_details)"
   ]
  },
  {
   "cell_type": "code",
   "execution_count": 146,
   "metadata": {},
   "outputs": [
    {
     "data": {
      "text/plain": [
       "dict_keys(['w2i', 'i2w', 'freq', 'freq_dev'])"
      ]
     },
     "execution_count": 146,
     "metadata": {},
     "output_type": "execute_result"
    }
   ],
   "source": [
    "bow_es_top_words_vocab.keys()"
   ]
  },
  {
   "cell_type": "code",
   "execution_count": 147,
   "metadata": {},
   "outputs": [
    {
     "data": {
      "text/plain": [
       "dict_keys(['words', 'train_utts', 'dev_utts'])"
      ]
     },
     "execution_count": 147,
     "metadata": {},
     "output_type": "execute_result"
    }
   ],
   "source": [
    "sample_terms_details.keys()"
   ]
  },
  {
   "cell_type": "code",
   "execution_count": 148,
   "metadata": {},
   "outputs": [
    {
     "data": {
      "text/plain": [
       "{'20051102_211130_396_fsp-B-73',\n",
       " '20060111_182557_1009_fsp-A-88',\n",
       " '20051014_180948_251_fsp-B-4',\n",
       " '20060111_230912_1020_fsp-A-72',\n",
       " '20051129_190152_615_fsp-A-28',\n",
       " '20051214_213225_753_fsp-B-17',\n",
       " '20051202_181119_639_fsp-B-37',\n",
       " '20051217_183115_786_fsp-A-107',\n",
       " '20051122_210703_578_fsp-A-58',\n",
       " '20051215_210410_764_fsp-B-42',\n",
       " '20051119_212315_559_fsp-B-16',\n",
       " '20051013_180613_241_fsp-A-85',\n",
       " '20051022_200517_314_fsp-B-92',\n",
       " '20050923_180530_111_fsp-A-76',\n",
       " '20051116_172353_522_fsp-A-53',\n",
       " '20051127_210516_603_fsp-B-19',\n",
       " '20051208_220606_697_fsp-A-22',\n",
       " '20051219_190625_808_fsp-A-35',\n",
       " '20051025_210532_335_fsp-A-26',\n",
       " '20060112_221022_1028_fsp-B-87',\n",
       " '20051005_180420_187_fsp-A-46',\n",
       " '20051018_180816_278_fsp-B-14',\n",
       " '20051022_190406_313_fsp-A-33',\n",
       " '20051220_213420_829_fsp-A-75',\n",
       " '20051227_213029_888_fsp-A-28',\n",
       " '20051115_230749_520_fsp-B-14',\n",
       " '20051219_210655_812_fsp-B-13',\n",
       " '20060104_182644_931_fsp-A-25',\n",
       " '20051123_211514_585_fsp-A-71',\n",
       " '20051107_180332_436_fsp-A-43',\n",
       " '20051105_181203_419_fsp-B-68',\n",
       " '20051104_190247_410_fsp-B-42',\n",
       " '20051201_191426_633_fsp-A-85',\n",
       " '20051031_210229_377_fsp-A-29',\n",
       " '20060107_190206_963_fsp-A-35',\n",
       " '20051230_210412_913_fsp-B-28',\n",
       " '20051115_180301_512_fsp-A-68',\n",
       " '20051109_232505_454_fsp-A-20',\n",
       " '20051017_215732_274_fsp-A-17',\n",
       " '20051210_180659_711_fsp-B-11',\n",
       " '20051027_210159_351_fsp-B-19',\n",
       " '20051112_210205_489_fsp-A-61',\n",
       " '20051218_182127_793_fsp-A-64',\n",
       " '20051211_211415_726_fsp-B-22',\n",
       " '20051009_190753_218_fsp-B-89',\n",
       " '20051201_193415_634_fsp-A-34',\n",
       " '20060106_185224_956_fsp-A-56',\n",
       " '20051215_220537_770_fsp-B-38',\n",
       " '20051118_210455_552_fsp-A-67',\n",
       " '20060106_183550_955_fsp-A-14',\n",
       " '20051014_180259_249_fsp-B-3',\n",
       " '20051027_180217_349_fsp-B-70',\n",
       " '20050914_181020_54_fsp-A-7',\n",
       " '20050919_190254_87_fsp-B-96',\n",
       " '20051107_115855_434_fsp-A-65',\n",
       " '20060111_213742_1017_fsp-A-81',\n",
       " '20051212_190335_730_fsp-A-31',\n",
       " '20051227_181058_885_fsp-A-107',\n",
       " '20050930_180329_156_fsp-A-44',\n",
       " '20050917_210805_75_fsp-B-137',\n",
       " '20050911_210904_38_fsp-B-84',\n",
       " '20051212_210738_732_fsp-A-35',\n",
       " '20060109_205815_982_fsp-B-17',\n",
       " '20050929_211337_153_fsp-A-31',\n",
       " '20051222_184209_849_fsp-A-67',\n",
       " '20060103_182107_918_fsp-A-15',\n",
       " '20051203_191125_655_fsp-A-44',\n",
       " '20051214_212318_751_fsp-A-36',\n",
       " '20051030_230444_373_fsp-A-9',\n",
       " '20051203_182132_651_fsp-B-84',\n",
       " '20050928_180631_142_fsp-A-88',\n",
       " '20051221_180958_831_fsp-A-78',\n",
       " '20051206_214122_674_fsp-B-93',\n",
       " '20051025_180351_334_fsp-B-30',\n",
       " '20051031_180906_375_fsp-B-29',\n",
       " '20051129_210342_617_fsp-B-76',\n",
       " '20051122_210703_578_fsp-A-26',\n",
       " '20060105_230711_949_fsp-B-68',\n",
       " '20051214_194606_747_fsp-A-47',\n",
       " '20051021_210159_305_fsp-A-34',\n",
       " '20051115_180301_512_fsp-A-7',\n",
       " '20060110_200611_998_fsp-B-101',\n",
       " '20051023_210258_322_fsp-A-65',\n",
       " '20060106_185224_956_fsp-A-58',\n",
       " '20051002_220651_174_fsp-B-9',\n",
       " '20050914_180332_52_fsp-B-57',\n",
       " '20051031_180213_374_fsp-A-55',\n",
       " '20051118_182114_549_fsp-B-58',\n",
       " '20060111_230912_1020_fsp-A-30',\n",
       " '20050927_181232_134_fsp-B-68',\n",
       " '20051002_180339_169_fsp-B-39',\n",
       " '20051206_210744_671_fsp-B-45',\n",
       " '20050919_190254_87_fsp-A-113',\n",
       " '20051013_182213_244_fsp-A-56',\n",
       " '20051005_180420_187_fsp-A-62',\n",
       " '20051015_180549_258_fsp-B-102',\n",
       " '20051014_210647_254_fsp-A-63',\n",
       " '20060104_180509_928_fsp-A-9',\n",
       " '20051207_212831_685_fsp-A-42',\n",
       " '20051227_220309_890_fsp-B-31',\n",
       " '20060111_182557_1009_fsp-A-76',\n",
       " '20060112_221022_1028_fsp-B-72',\n",
       " '20051212_210527_731_fsp-B-61',\n",
       " '20051128_215149_608_fsp-B-11',\n",
       " '20051213_185913_737_fsp-B-4',\n",
       " '20050911_210904_38_fsp-A-54',\n",
       " '20051022_180452_310_fsp-B-28',\n",
       " '20051030_181001_369_fsp-B-99',\n",
       " '20051202_212105_647_fsp-B-25',\n",
       " '20051123_180926_582_fsp-A-108',\n",
       " '20050922_211003_107_fsp-B-98',\n",
       " '20051206_211522_672_fsp-B-17',\n",
       " '20051008_190256_212_fsp-B-91',\n",
       " '20051206_183057_665_fsp-A-19',\n",
       " '20051212_210738_732_fsp-B-15',\n",
       " '20051207_190155_678_fsp-A-2',\n",
       " '20051228_210524_896_fsp-B-23',\n",
       " '20051211_210240_725_fsp-A-94',\n",
       " '20051211_210240_725_fsp-A-68',\n",
       " '20051109_212148_453_fsp-A-11',\n",
       " '20051104_123901_407_fsp-A-30',\n",
       " '20051122_213037_580_fsp-A-23',\n",
       " '20050923_180530_111_fsp-A-78',\n",
       " '20051120_181008_561_fsp-B-92',\n",
       " '20051008_213416_215_fsp-A-52',\n",
       " '20051101_230216_388_fsp-A-65',\n",
       " '20060118_190231_1082_fsp-B-7',\n",
       " '20051210_181201_712_fsp-B-76',\n",
       " '20051213_180254_736_fsp-A-51',\n",
       " '20051013_180458_240_fsp-A-91',\n",
       " '20051116_222454_532_fsp-B-5',\n",
       " '20051008_181720_210_fsp-A-69',\n",
       " '20060107_182715_962_fsp-B-28',\n",
       " '20051025_180351_334_fsp-A-41',\n",
       " '20060117_210311_1073_fsp-B-50',\n",
       " '20060107_190415_964_fsp-B-57',\n",
       " '20051130_212724_626_fsp-B-24',\n",
       " '20060105_210951_945_fsp-B-72',\n",
       " '20051215_210410_764_fsp-B-65',\n",
       " '20060109_180448_977_fsp-A-71',\n",
       " '20060115_212231_1051_fsp-B-15',\n",
       " '20051227_220309_890_fsp-A-62',\n",
       " '20060115_220504_1052_fsp-A-78',\n",
       " '20051103_163507_398_fsp-B-91',\n",
       " '20051129_212711_618_fsp-B-24',\n",
       " '20050923_180514_110_fsp-A-65',\n",
       " '20051121_181138_569_fsp-B-72',\n",
       " '20050928_232236_148_fsp-B-3',\n",
       " '20051207_212300_684_fsp-B-2',\n",
       " '20051116_222454_532_fsp-A-40',\n",
       " '20051227_220309_890_fsp-B-44',\n",
       " '20051212_182453_729_fsp-B-54',\n",
       " '20050911_210429_36_fsp-A-52',\n",
       " '20051206_210744_671_fsp-A-18',\n",
       " '20051114_215057_508_fsp-B-8',\n",
       " '20060104_182115_930_fsp-A-33',\n",
       " '20051122_190326_576_fsp-B-92',\n",
       " '20060112_221022_1028_fsp-B-69',\n",
       " '20060117_212546_1074_fsp-B-36',\n",
       " '20060112_221010_1027_fsp-B-67',\n",
       " '20051129_180204_610_fsp-A-66',\n",
       " '20051223_180346_856_fsp-B-34',\n",
       " '20051009_180444_216_fsp-B-45',\n",
       " '20051104_231424_416_fsp-A-52',\n",
       " '20051017_000346_269_fsp-B-90',\n",
       " '20051206_193937_667_fsp-A-90',\n",
       " '20051220_181731_820_fsp-B-48',\n",
       " '20051221_180958_831_fsp-B-31',\n",
       " '20051228_212304_899_fsp-B-84',\n",
       " '20051105_181203_419_fsp-B-70',\n",
       " '20051206_181649_664_fsp-A-84',\n",
       " '20051225_210556_873_fsp-B-102',\n",
       " '20051228_182051_892_fsp-A-73',\n",
       " '20051014_210647_254_fsp-A-28',\n",
       " '20051024_180624_328_fsp-B-48',\n",
       " '20051206_181649_664_fsp-A-45',\n",
       " '20051113_210908_497_fsp-A-32',\n",
       " '20060109_213409_986_fsp-B-22',\n",
       " '20050916_223656_73_fsp-A-24',\n",
       " '20051220_212400_826_fsp-A-57',\n",
       " '20050923_180530_111_fsp-A-71',\n",
       " '20051028_180329_355_fsp-A-44',\n",
       " '20051207_211858_683_fsp-B-35',\n",
       " '20051228_223227_901_fsp-A-18',\n",
       " '20060108_234917_976_fsp-B-55',\n",
       " '20051227_214843_889_fsp-A-20',\n",
       " '20051201_193415_634_fsp-B-57',\n",
       " '20051026_180611_340_fsp-A-95',\n",
       " '20060104_181040_929_fsp-A-35',\n",
       " '20060118_180647_1078_fsp-B-34',\n",
       " '20051120_190412_563_fsp-B-82',\n",
       " '20050930_180646_158_fsp-B-51',\n",
       " '20051130_181543_619_fsp-B-58',\n",
       " '20051228_182051_892_fsp-B-52',\n",
       " '20051201_230640_638_fsp-B-25',\n",
       " '20051012_224157_239_fsp-A-29',\n",
       " '20051126_181804_597_fsp-A-28',\n",
       " '20060116_183201_1056_fsp-B-54',\n",
       " '20051219_212716_814_fsp-B-51',\n",
       " '20051111_181441_471_fsp-A-76',\n",
       " '20060108_180630_968_fsp-B-61',\n",
       " '20051115_180301_512_fsp-A-38',\n",
       " '20051220_213420_829_fsp-B-83',\n",
       " '20051006_220329_203_fsp-B-68',\n",
       " '20050913_180731_46_fsp-A-11',\n",
       " '20051118_182652_550_fsp-A-9',\n",
       " '20051129_210218_616_fsp-B-44',\n",
       " '20050929_211337_153_fsp-A-11',\n",
       " '20051022_230324_316_fsp-B-6',\n",
       " '20051101_153940_380_fsp-B-52',\n",
       " '20051010_180650_222_fsp-A-112',\n",
       " '20051214_202717_749_fsp-B-11',\n",
       " '20060118_212907_1085_fsp-A-19',\n",
       " '20051104_190247_410_fsp-B-51',\n",
       " '20051106_181321_425_fsp-B-20',\n",
       " '20051206_183057_665_fsp-A-23',\n",
       " '20060103_182654_921_fsp-B-105',\n",
       " '20051008_183224_211_fsp-A-50',\n",
       " '20051213_185913_737_fsp-B-58',\n",
       " '20051213_180254_736_fsp-B-24',\n",
       " '20051022_200517_314_fsp-A-39',\n",
       " '20051116_222454_532_fsp-B-24',\n",
       " '20060118_205216_1084_fsp-B-48',\n",
       " '20051022_200517_314_fsp-B-88',\n",
       " '20060104_220148_937_fsp-A-103',\n",
       " '20051216_200153_777_fsp-B-35',\n",
       " '20051213_210120_739_fsp-B-55',\n",
       " '20051023_190301_321_fsp-B-35',\n",
       " '20051113_210908_497_fsp-A-21',\n",
       " '20051018_235317_284_fsp-B-11',\n",
       " '20051108_212018_444_fsp-A-51',\n",
       " '20051229_182614_906_fsp-B-42',\n",
       " '20060112_182612_1022_fsp-A-36',\n",
       " '20051125_190327_594_fsp-A-23',\n",
       " '20050914_210243_55_fsp-A-9',\n",
       " '20051207_190155_678_fsp-A-80',\n",
       " '20051208_212444_694_fsp-A-5',\n",
       " '20051002_180339_169_fsp-A-59',\n",
       " '20051001_181004_164_fsp-A-15',\n",
       " '20060108_194731_971_fsp-B-66',\n",
       " '20060105_210951_945_fsp-A-22',\n",
       " '20051105_181203_419_fsp-B-65',\n",
       " '20051222_184209_849_fsp-B-31',\n",
       " '20051013_210221_245_fsp-A-30',\n",
       " '20051118_182652_550_fsp-B-40',\n",
       " '20051207_193103_681_fsp-A-21',\n",
       " '20050911_210530_37_fsp-B-26',\n",
       " '20051224_180302_865_fsp-A-80',\n",
       " '20060118_205216_1084_fsp-B-107',\n",
       " '20051229_182614_906_fsp-A-18',\n",
       " '20051215_190419_758_fsp-A-31',\n",
       " '20050922_180948_104_fsp-B-30',\n",
       " '20051228_183955_893_fsp-B-55',\n",
       " '20051013_182213_244_fsp-A-27',\n",
       " '20051110_210200_461_fsp-A-51',\n",
       " '20051228_211808_897_fsp-B-61',\n",
       " '20051023_180530_319_fsp-B-54',\n",
       " '20051107_160351_435_fsp-A-35',\n",
       " '20051220_190121_821_fsp-A-14',\n",
       " '20051108_212018_444_fsp-A-86',\n",
       " '20051117_212855_542_fsp-B-60',\n",
       " '20050917_210805_75_fsp-B-33',\n",
       " '20051212_210738_732_fsp-A-52',\n",
       " '20051111_201357_478_fsp-A-113',\n",
       " '20051017_210137_273_fsp-A-87',\n",
       " '20060108_180630_968_fsp-A-5',\n",
       " '20051013_210221_245_fsp-A-101',\n",
       " '20050919_180511_84_fsp-A-92',\n",
       " '20060106_193129_957_fsp-A-33',\n",
       " '20051203_222533_661_fsp-A-18',\n",
       " '20060112_221022_1028_fsp-B-113',\n",
       " '20051216_211423_778_fsp-A-74',\n",
       " '20051222_181242_845_fsp-A-56',\n",
       " '20051209_181642_701_fsp-B-10',\n",
       " '20051217_182026_783_fsp-A-122',\n",
       " '20051201_193415_634_fsp-B-16',\n",
       " '20051214_212318_751_fsp-B-95',\n",
       " '20051113_210908_497_fsp-B-31',\n",
       " '20051229_214024_909_fsp-A-25',\n",
       " '20051025_210959_336_fsp-B-116',\n",
       " '20051014_180259_249_fsp-A-17',\n",
       " '20050919_000612_83_fsp-A-60',\n",
       " '20051108_210224_443_fsp-A-63',\n",
       " '20051224_182949_867_fsp-B-68',\n",
       " '20051120_181339_562_fsp-A-48',\n",
       " '20060104_181040_929_fsp-A-28',\n",
       " '20051122_211805_579_fsp-B-121',\n",
       " '20051013_220243_248_fsp-B-60',\n",
       " '20051130_212724_626_fsp-A-39',\n",
       " '20051115_181731_514_fsp-A-27',\n",
       " '20060104_212844_936_fsp-A-37',\n",
       " '20050920_230520_94_fsp-A-18',\n",
       " '20051217_182026_783_fsp-B-77',\n",
       " '20051006_220329_203_fsp-A-59',\n",
       " '20051012_193952_237_fsp-B-41',\n",
       " '20051207_181020_677_fsp-B-96',\n",
       " '20060116_221118_1065_fsp-B-93',\n",
       " '20051026_230956_347_fsp-B-32',\n",
       " '20051215_222306_771_fsp-A-19',\n",
       " '20051109_180413_446_fsp-B-83',\n",
       " '20051213_211953_742_fsp-A-58',\n",
       " '20050917_210805_75_fsp-B-119',\n",
       " '20050926_180719_127_fsp-A-63',\n",
       " '20060106_193129_957_fsp-B-38',\n",
       " '20051218_181751_792_fsp-B-21',\n",
       " '20051116_233038_533_fsp-A-16',\n",
       " '20050910_181354_31_fsp-B-17',\n",
       " '20051016_180926_266_fsp-A-90',\n",
       " '20051011_181919_230_fsp-A-85',\n",
       " '20051223_183105_860_fsp-B-68',\n",
       " '20051209_231702_710_fsp-B-59',\n",
       " '20051012_224157_239_fsp-B-15',\n",
       " '20050915_180740_61_fsp-B-56',\n",
       " '20051220_213420_829_fsp-B-30',\n",
       " '20051216_191101_775_fsp-A-3',\n",
       " '20051116_190450_527_fsp-A-38',\n",
       " '20051124_190336_589_fsp-A-4',\n",
       " '20051218_182127_793_fsp-A-35',\n",
       " '20060106_182909_953_fsp-A-69',\n",
       " '20051222_212425_855_fsp-B-67',\n",
       " '20051010_182706_223_fsp-B-66',\n",
       " '20051127_190405_602_fsp-B-79',\n",
       " '20050913_180731_46_fsp-B-29',\n",
       " '20060112_183346_1023_fsp-B-83',\n",
       " '20051017_210137_273_fsp-B-39',\n",
       " '20050930_200308_159_fsp-B-81',\n",
       " '20051219_213203_815_fsp-A-89',\n",
       " '20051202_190154_643_fsp-B-35',\n",
       " '20051120_205645_565_fsp-A-73',\n",
       " '20060117_185153_1071_fsp-B-109',\n",
       " '20050921_180639_95_fsp-A-57',\n",
       " '20051203_182132_651_fsp-A-46',\n",
       " '20051017_210137_273_fsp-A-45',\n",
       " '20051218_181751_792_fsp-A-80',\n",
       " '20051203_222533_661_fsp-A-48',\n",
       " '20050913_210409_48_fsp-A-44',\n",
       " '20051117_211833_541_fsp-B-7',\n",
       " '20050911_180647_34_fsp-A-39',\n",
       " '20051213_210120_739_fsp-A-19',\n",
       " '20060116_221118_1065_fsp-B-2',\n",
       " '20051005_220917_192_fsp-A-44',\n",
       " '20051103_163507_398_fsp-B-9',\n",
       " '20051206_181649_664_fsp-B-10',\n",
       " '20050926_220244_130_fsp-B-120',\n",
       " '20051223_183105_860_fsp-B-65',\n",
       " '20051115_215935_518_fsp-B-5',\n",
       " '20051111_190326_475_fsp-A-53',\n",
       " '20051021_180218_302_fsp-B-32',\n",
       " '20051216_211423_778_fsp-A-23',\n",
       " '20051115_180301_512_fsp-A-22',\n",
       " '20051207_190426_679_fsp-B-65',\n",
       " '20051018_231046_283_fsp-A-24',\n",
       " '20051129_212711_618_fsp-B-26',\n",
       " '20051109_180413_446_fsp-B-54',\n",
       " '20050921_181002_96_fsp-B-96',\n",
       " '20050920_180330_88_fsp-A-23',\n",
       " '20051110_212818_466_fsp-B-22',\n",
       " '20051114_215057_508_fsp-B-9',\n",
       " '20051011_211026_232_fsp-B-122',\n",
       " '20060111_213936_1018_fsp-B-62',\n",
       " '20051214_193942_746_fsp-A-39',\n",
       " '20060107_182715_962_fsp-B-91',\n",
       " '20051002_180339_169_fsp-B-4',\n",
       " '20051130_182626_620_fsp-A-25',\n",
       " '20051025_210532_335_fsp-A-28',\n",
       " '20051220_213420_829_fsp-A-17',\n",
       " '20050915_192457_62_fsp-B-19',\n",
       " '20060109_220315_988_fsp-B-131',\n",
       " '20051215_222306_771_fsp-B-67',\n",
       " '20051023_190301_321_fsp-B-95',\n",
       " '20060112_210747_1025_fsp-B-68',\n",
       " '20051108_212018_444_fsp-A-26',\n",
       " '20060112_221010_1027_fsp-A-44',\n",
       " '20050916_210235_71_fsp-B-13',\n",
       " '20050921_210340_98_fsp-A-4',\n",
       " '20051217_180231_781_fsp-B-80',\n",
       " '20060111_181650_1008_fsp-B-50',\n",
       " '20050930_200308_159_fsp-B-36',\n",
       " '20051102_211130_396_fsp-A-30',\n",
       " '20051210_210735_718_fsp-A-11',\n",
       " '20060106_183056_954_fsp-B-40',\n",
       " '20051116_172353_522_fsp-A-95',\n",
       " '20051021_210159_305_fsp-A-102',\n",
       " '20060107_180634_960_fsp-A-49',\n",
       " '20050914_000831_51_fsp-B-40',\n",
       " '20051126_190347_598_fsp-A-3',\n",
       " '20051206_210127_670_fsp-A-30',\n",
       " '20051029_220538_366_fsp-A-7',\n",
       " '20060116_221118_1065_fsp-A-49',\n",
       " '20050911_210530_37_fsp-A-105',\n",
       " '20051201_191426_633_fsp-A-106',\n",
       " '20060116_220652_1064_fsp-B-34',\n",
       " '20051013_210425_246_fsp-A-9',\n",
       " '20051219_182110_806_fsp-A-21',\n",
       " '20051230_210412_913_fsp-B-32',\n",
       " '20051019_180448_285_fsp-A-81',\n",
       " '20051218_180353_791_fsp-A-40',\n",
       " '20051224_182949_867_fsp-A-67',\n",
       " '20051009_190753_218_fsp-A-55',\n",
       " '20051010_210622_224_fsp-A-57',\n",
       " '20051115_181731_514_fsp-B-12',\n",
       " '20050927_181232_134_fsp-B-87',\n",
       " '20060104_212844_936_fsp-A-89',\n",
       " '20051209_182858_703_fsp-A-36',\n",
       " '20060108_194731_971_fsp-A-68',\n",
       " '20051112_190443_488_fsp-A-7',\n",
       " '20051113_220433_499_fsp-A-36',\n",
       " '20051219_221213_816_fsp-A-4',\n",
       " '20060110_210730_1002_fsp-A-33',\n",
       " '20051221_212911_842_fsp-A-74',\n",
       " '20051111_201357_478_fsp-A-55',\n",
       " '20051119_212315_559_fsp-B-61',\n",
       " '20051122_181114_574_fsp-A-56',\n",
       " '20051210_180659_711_fsp-A-10',\n",
       " '20051022_001311_309_fsp-A-26',\n",
       " '20060108_180630_968_fsp-A-51',\n",
       " '20060105_205957_944_fsp-A-77',\n",
       " '20050910_181354_31_fsp-B-9',\n",
       " '20051028_180329_355_fsp-B-35',\n",
       " '20051215_190419_758_fsp-A-76',\n",
       " '20051201_210713_636_fsp-A-12',\n",
       " '20060104_181040_929_fsp-A-92',\n",
       " '20051110_210200_461_fsp-A-56',\n",
       " '20051020_210218_297_fsp-A-10',\n",
       " '20051118_180619_547_fsp-B-84',\n",
       " '20051202_181119_639_fsp-A-115',\n",
       " '20051213_211953_742_fsp-B-17',\n",
       " '20051222_181242_845_fsp-A-38',\n",
       " '20060103_211732_926_fsp-B-55',\n",
       " '20051206_210127_670_fsp-B-71',\n",
       " '20051203_182418_652_fsp-A-36',\n",
       " '20051026_210334_344_fsp-A-56',\n",
       " '20051023_210605_323_fsp-B-58',\n",
       " '20051016_180926_266_fsp-B-18',\n",
       " '20060104_210223_935_fsp-B-13',\n",
       " '20050920_211414_92_fsp-A-17',\n",
       " '20060110_210730_1002_fsp-A-49',\n",
       " '20051107_212723_440_fsp-B-1',\n",
       " '20051229_182614_906_fsp-B-23',\n",
       " '20051216_220626_779_fsp-A-77',\n",
       " '20060104_220148_937_fsp-A-82',\n",
       " '20050917_210805_75_fsp-B-92',\n",
       " '20060117_182604_1069_fsp-A-28',\n",
       " '20051203_212114_658_fsp-B-34',\n",
       " '20051123_213259_587_fsp-A-44',\n",
       " '20051110_182318_460_fsp-B-35',\n",
       " '20051206_210744_671_fsp-B-57',\n",
       " '20051001_210749_166_fsp-A-82',\n",
       " '20051209_181542_700_fsp-B-8',\n",
       " '20060103_182654_921_fsp-A-83',\n",
       " '20050926_180719_127_fsp-A-82',\n",
       " '20060111_210257_1014_fsp-B-11',\n",
       " '20051220_190121_821_fsp-B-20',\n",
       " '20051028_180329_355_fsp-B-33',\n",
       " '20050917_212041_77_fsp-B-86',\n",
       " '20051019_183344_287_fsp-B-44',\n",
       " '20050927_181033_133_fsp-B-7',\n",
       " '20051023_223751_324_fsp-B-38',\n",
       " '20051109_181906_448_fsp-B-29',\n",
       " '20051120_205645_565_fsp-A-56',\n",
       " '20051120_181339_562_fsp-A-16',\n",
       " '20060106_183056_954_fsp-B-50',\n",
       " '20051029_220538_366_fsp-A-6',\n",
       " '20060111_213936_1018_fsp-A-6',\n",
       " '20051206_201757_668_fsp-B-64',\n",
       " '20051101_230216_388_fsp-B-19',\n",
       " '20051222_181506_846_fsp-B-63',\n",
       " '20051113_180809_493_fsp-B-58',\n",
       " '20050926_000425_124_fsp-B-20',\n",
       " '20060116_221118_1065_fsp-A-10',\n",
       " '20051105_220745_422_fsp-A-87',\n",
       " '20050912_212913_43_fsp-A-26',\n",
       " '20050922_210740_106_fsp-B-46',\n",
       " '20051025_210532_335_fsp-A-70',\n",
       " '20051209_181542_700_fsp-A-68',\n",
       " '20060110_183405_995_fsp-B-11',\n",
       " '20050914_210243_55_fsp-A-42',\n",
       " '20051212_213447_734_fsp-B-42',\n",
       " '20051109_210436_451_fsp-A-23',\n",
       " '20051123_213259_587_fsp-A-30',\n",
       " '20051002_210324_171_fsp-B-56',\n",
       " '20060110_221920_1006_fsp-A-92',\n",
       " '20051001_210749_166_fsp-A-49',\n",
       " '20060109_220535_989_fsp-A-45',\n",
       " '20051106_181321_425_fsp-A-36',\n",
       " '20051129_181241_612_fsp-A-82',\n",
       " '20051023_210605_323_fsp-A-25',\n",
       " '20051207_180507_676_fsp-A-71',\n",
       " '20051218_182750_794_fsp-B-27',\n",
       " '20050922_230412_108_fsp-A-94',\n",
       " '20051004_180542_181_fsp-A-119',\n",
       " '20051221_210452_840_fsp-B-70',\n",
       " '20051114_220412_509_fsp-B-7',\n",
       " '20060104_212844_936_fsp-A-66',\n",
       " '20051118_210212_551_fsp-B-73',\n",
       " '20051105_210724_421_fsp-A-38',\n",
       " '20060117_210138_1072_fsp-B-87',\n",
       " '20060109_220315_988_fsp-A-61',\n",
       " '20060106_183550_955_fsp-B-76',\n",
       " '20050930_180411_157_fsp-A-8',\n",
       " '20051109_181432_447_fsp-B-63',\n",
       " '20051230_181721_912_fsp-A-62',\n",
       " '20060103_211732_926_fsp-A-36',\n",
       " '20051228_182051_892_fsp-B-49',\n",
       " '20051020_210218_297_fsp-A-20',\n",
       " '20051025_220419_338_fsp-B-40',\n",
       " '20050930_180411_157_fsp-B-69',\n",
       " '20051025_210532_335_fsp-A-19',\n",
       " '20060106_181726_952_fsp-A-30',\n",
       " '20051127_211200_604_fsp-A-112',\n",
       " '20051211_181346_720_fsp-B-56',\n",
       " '20051030_181001_369_fsp-A-32',\n",
       " '20051005_220917_192_fsp-B-53',\n",
       " '20060103_211504_925_fsp-A-64',\n",
       " '20051215_212749_768_fsp-B-9',\n",
       " '20051214_201000_748_fsp-A-30',\n",
       " '20060107_180634_960_fsp-B-53',\n",
       " '20051211_000414_719_fsp-A-59',\n",
       " '20060116_202324_1058_fsp-B-45',\n",
       " '20051006_183153_199_fsp-A-19',\n",
       " '20051016_180926_266_fsp-A-6',\n",
       " '20051006_183153_199_fsp-A-26',\n",
       " '20051013_182213_244_fsp-B-15',\n",
       " '20050930_180646_158_fsp-B-25',\n",
       " '20051126_190347_598_fsp-B-60',\n",
       " '20051006_210417_201_fsp-A-115',\n",
       " '20051029_210442_364_fsp-B-49',\n",
       " '20051215_212701_767_fsp-A-31',\n",
       " '20050911_210904_38_fsp-B-81',\n",
       " '20060116_211237_1061_fsp-A-25',\n",
       " '20051208_214100_696_fsp-A-11',\n",
       " '20051203_190503_654_fsp-B-20',\n",
       " '20051110_212818_466_fsp-B-65',\n",
       " '20051223_180346_856_fsp-B-17',\n",
       " '20051211_184252_723_fsp-B-70',\n",
       " '20051130_182626_620_fsp-A-41',\n",
       " '20051211_184252_723_fsp-A-44',\n",
       " '20060107_181553_961_fsp-A-22',\n",
       " '20051117_210156_538_fsp-A-80',\n",
       " '20050910_190223_32_fsp-A-30',\n",
       " '20060117_210138_1072_fsp-B-45',\n",
       " '20051119_181105_556_fsp-A-74',\n",
       " '20051207_211858_683_fsp-A-13',\n",
       " '20050908_182943_22_fsp-A-30',\n",
       " '20050926_220244_130_fsp-B-69',\n",
       " '20051109_210436_451_fsp-B-27',\n",
       " '20050929_220820_154_fsp-A-11',\n",
       " '20051223_183105_860_fsp-A-42',\n",
       " '20051116_181228_525_fsp-A-105',\n",
       " '20060110_183405_995_fsp-A-42',\n",
       " '20051010_182706_223_fsp-A-78',\n",
       " '20051004_180730_182_fsp-B-48',\n",
       " '20060109_215138_987_fsp-A-20',\n",
       " '20051008_211712_214_fsp-A-32',\n",
       " '20051215_203848_762_fsp-B-87',\n",
       " '20051005_230659_193_fsp-B-79',\n",
       " '20051106_180232_424_fsp-A-76',\n",
       " '20060106_185224_956_fsp-A-8',\n",
       " '20060109_205815_982_fsp-A-5',\n",
       " '20051022_200517_314_fsp-A-31',\n",
       " '20051218_182750_794_fsp-A-38',\n",
       " '20051208_214100_696_fsp-A-35',\n",
       " '20060109_182557_979_fsp-B-24',\n",
       " '20060104_220148_937_fsp-A-4',\n",
       " '20051103_223906_405_fsp-B-98',\n",
       " '20051207_193103_681_fsp-B-51',\n",
       " '20051116_180237_524_fsp-A-56',\n",
       " '20051228_210524_896_fsp-A-25',\n",
       " '20051118_182652_550_fsp-B-23',\n",
       " '20051027_210333_352_fsp-A-80',\n",
       " '20050923_180530_111_fsp-B-62',\n",
       " '20051215_195526_759_fsp-A-70',\n",
       " '20051120_181339_562_fsp-B-11',\n",
       " '20051015_210138_260_fsp-B-29',\n",
       " '20051213_191741_738_fsp-A-81',\n",
       " '20051119_212315_559_fsp-A-90',\n",
       " '20051126_181804_597_fsp-B-26',\n",
       " '20060110_221920_1006_fsp-A-32',\n",
       " '20051206_201757_668_fsp-A-52',\n",
       " '20050913_180947_47_fsp-A-106',\n",
       " '20051026_190359_343_fsp-A-72',\n",
       " '20050923_180514_110_fsp-B-32',\n",
       " '20051208_220606_697_fsp-A-39',\n",
       " '20051118_180739_548_fsp-B-81',\n",
       " '20051123_181644_583_fsp-B-43',\n",
       " '20060109_220315_988_fsp-B-72',\n",
       " '20060114_181137_1039_fsp-A-103',\n",
       " '20051121_181357_570_fsp-B-19',\n",
       " '20051116_172353_522_fsp-A-72',\n",
       " '20051222_212425_855_fsp-A-11',\n",
       " '20051008_000036_208_fsp-B-109',\n",
       " '20051119_214926_560_fsp-B-56',\n",
       " '20051213_191741_738_fsp-A-16',\n",
       " '20050929_180318_149_fsp-B-40',\n",
       " '20051024_000348_326_fsp-B-62',\n",
       " '20051112_185651_487_fsp-A-19',\n",
       " '20051209_222427_709_fsp-B-4',\n",
       " '20051021_210159_305_fsp-A-91',\n",
       " '20051014_210647_254_fsp-A-75',\n",
       " '20051201_191426_633_fsp-B-34',\n",
       " '20051222_200553_850_fsp-B-56',\n",
       " '20051121_210922_573_fsp-A-3',\n",
       " '20051215_190143_757_fsp-B-42',\n",
       " '20051222_181506_846_fsp-A-36',\n",
       " '20051215_220537_770_fsp-A-3',\n",
       " '20051121_181138_569_fsp-A-27',\n",
       " '20060110_200611_998_fsp-B-64',\n",
       " '20051022_180452_310_fsp-B-8',\n",
       " '20051027_211525_353_fsp-A-3',\n",
       " '20051123_180926_582_fsp-A-113',\n",
       " '20051209_212515_707_fsp-B-31',\n",
       " '20060114_181922_1040_fsp-A-57',\n",
       " '20060116_210217_1060_fsp-B-10',\n",
       " '20050919_180511_84_fsp-B-37',\n",
       " '20060112_183622_1024_fsp-A-20',\n",
       " '20050913_210409_48_fsp-B-53',\n",
       " '20051123_211514_585_fsp-B-70',\n",
       " '20051128_215149_608_fsp-B-46',\n",
       " '20051212_214512_735_fsp-A-36',\n",
       " '20051110_210200_461_fsp-A-28',\n",
       " '20051008_211712_214_fsp-A-26',\n",
       " '20051203_182418_652_fsp-B-11',\n",
       " '20051224_180302_865_fsp-A-76',\n",
       " '20060108_234917_976_fsp-A-35',\n",
       " '20051024_221753_332_fsp-A-39',\n",
       " '20051216_181042_773_fsp-A-71',\n",
       " '20051021_190605_304_fsp-A-33',\n",
       " '20050922_180618_103_fsp-A-75',\n",
       " '20051021_210159_305_fsp-B-104',\n",
       " '20051210_182603_714_fsp-B-40',\n",
       " '20051202_181659_640_fsp-A-11',\n",
       " '20051203_180701_649_fsp-A-73',\n",
       " '20051116_233038_533_fsp-B-14',\n",
       " '20051025_210959_336_fsp-A-74',\n",
       " '20050921_180639_95_fsp-A-55',\n",
       " '20051105_210724_421_fsp-B-39',\n",
       " '20051104_123901_407_fsp-B-98',\n",
       " '20051214_194606_747_fsp-A-6',\n",
       " '20051011_211026_232_fsp-B-97',\n",
       " '20051020_234953_301_fsp-B-39',\n",
       " '20051006_183153_199_fsp-A-106',\n",
       " '20050920_180607_90_fsp-B-80',\n",
       " '20050927_211929_139_fsp-B-14',\n",
       " '20050927_211929_139_fsp-B-71',\n",
       " '20051118_180619_547_fsp-A-28',\n",
       " '20051214_213225_753_fsp-A-45',\n",
       " '20051008_180249_209_fsp-A-92',\n",
       " '20050920_180607_90_fsp-A-12',\n",
       " '20051023_180530_319_fsp-B-46',\n",
       " '20051109_181906_448_fsp-A-55',\n",
       " '20051121_190155_571_fsp-A-59',\n",
       " '20051124_190336_589_fsp-B-72',\n",
       " '20050913_180947_47_fsp-A-92',\n",
       " '20051221_000417_830_fsp-A-18',\n",
       " '20051107_182401_437_fsp-B-90',\n",
       " '20051015_210701_261_fsp-A-81',\n",
       " '20060112_221022_1028_fsp-A-52',\n",
       " '20060103_182654_921_fsp-B-54',\n",
       " '20051027_211525_353_fsp-B-98',\n",
       " '20051103_185102_401_fsp-A-43',\n",
       " '20051201_181303_631_fsp-B-101',\n",
       " '20051218_142845_790_fsp-A-63',\n",
       " '20051209_180824_699_fsp-A-9',\n",
       " '20051203_222533_661_fsp-B-46',\n",
       " '20051225_210556_873_fsp-A-31',\n",
       " '20051220_181731_820_fsp-B-31',\n",
       " '20060115_210217_1048_fsp-B-49',\n",
       " '20050927_210848_136_fsp-A-32',\n",
       " '20051103_223906_405_fsp-B-104',\n",
       " '20051201_210713_636_fsp-B-63',\n",
       " '20050914_210822_56_fsp-A-3',\n",
       " '20051106_221653_433_fsp-A-64',\n",
       " '20051020_212525_299_fsp-B-10',\n",
       " '20051013_210425_246_fsp-A-70',\n",
       " '20051006_181525_197_fsp-A-62',\n",
       " '20051215_181731_755_fsp-B-89',\n",
       " '20051219_223123_817_fsp-B-28',\n",
       " '20051214_202717_749_fsp-A-18',\n",
       " '20051215_210410_764_fsp-A-30',\n",
       " '20051008_213416_215_fsp-A-63',\n",
       " '20060116_181908_1054_fsp-B-71',\n",
       " '20051008_190256_212_fsp-A-49',\n",
       " '20051230_181721_912_fsp-B-75',\n",
       " '20051126_210222_599_fsp-A-10',\n",
       " '20051005_180420_187_fsp-A-84',\n",
       " '20051111_201357_478_fsp-B-105',\n",
       " '20051013_182213_244_fsp-B-12',\n",
       " '20060105_213243_948_fsp-B-3',\n",
       " '20051130_210202_622_fsp-B-18',\n",
       " '20051223_183105_860_fsp-A-61',\n",
       " '20051208_211702_692_fsp-A-51',\n",
       " '20051024_221753_332_fsp-A-71',\n",
       " '20051025_210532_335_fsp-A-63',\n",
       " '20051104_180145_408_fsp-A-61',\n",
       " '20051026_230956_347_fsp-A-53',\n",
       " '20051211_184252_723_fsp-A-37',\n",
       " '20051025_210532_335_fsp-B-2',\n",
       " '20060118_190231_1082_fsp-B-122',\n",
       " '20051106_210310_429_fsp-B-16',\n",
       " '20060112_183622_1024_fsp-A-63',\n",
       " '20051206_181649_664_fsp-A-95',\n",
       " '20051110_180838_457_fsp-A-81',\n",
       " '20051118_182114_549_fsp-A-81',\n",
       " '20051120_181339_562_fsp-A-19',\n",
       " '20051112_000305_482_fsp-A-75',\n",
       " '20051106_181321_425_fsp-A-1',\n",
       " '20051104_222117_414_fsp-B-71',\n",
       " '20051213_221424_743_fsp-A-34',\n",
       " '20060111_213936_1018_fsp-A-30',\n",
       " '20051112_165916_483_fsp-A-103',\n",
       " '20060104_220148_937_fsp-B-11',\n",
       " '20051203_190503_654_fsp-B-39',\n",
       " '20051222_212425_855_fsp-A-91',\n",
       " '20050910_181354_31_fsp-B-67',\n",
       " '20060105_202127_943_fsp-A-25',\n",
       " '20050916_210510_72_fsp-B-102',\n",
       " '20050914_000831_51_fsp-B-36',\n",
       " '20060109_183636_980_fsp-A-73',\n",
       " '20060109_215138_987_fsp-B-81',\n",
       " '20051217_183115_786_fsp-A-15',\n",
       " '20051209_231702_710_fsp-B-63',\n",
       " '20051207_212300_684_fsp-A-27',\n",
       " '20050911_200216_35_fsp-B-19',\n",
       " '20060118_183010_1080_fsp-B-39',\n",
       " '20051115_215935_518_fsp-B-55',\n",
       " '20051006_180653_195_fsp-A-60',\n",
       " '20051013_182213_244_fsp-B-2',\n",
       " '20051110_210200_461_fsp-B-67',\n",
       " '20051104_190247_410_fsp-A-29',\n",
       " '20051211_000414_719_fsp-B-26',\n",
       " '20051026_210334_344_fsp-A-8',\n",
       " '20051130_182626_620_fsp-A-43',\n",
       " '20051030_000333_367_fsp-B-27',\n",
       " '20050915_180728_60_fsp-A-75',\n",
       " '20051122_210703_578_fsp-B-43',\n",
       " '20060118_190231_1082_fsp-B-118',\n",
       " '20051220_190121_821_fsp-A-84',\n",
       " '20060116_212845_1063_fsp-B-89',\n",
       " '20050924_180747_117_fsp-B-6',\n",
       " '20051116_172353_522_fsp-A-91',\n",
       " '20050914_210822_56_fsp-B-48',\n",
       " '20051215_182213_756_fsp-B-69',\n",
       " '20051104_180145_408_fsp-A-1',\n",
       " '20051212_214512_735_fsp-B-12',\n",
       " '20051129_183449_614_fsp-B-2',\n",
       " '20051230_210412_913_fsp-B-84',\n",
       " '20051030_181001_369_fsp-B-38',\n",
       " '20060104_181040_929_fsp-B-78',\n",
       " '20051030_210903_372_fsp-A-19',\n",
       " '20050918_180326_80_fsp-A-120',\n",
       " '20051120_205645_565_fsp-A-27',\n",
       " '20051123_180926_582_fsp-A-8',\n",
       " '20051005_180420_187_fsp-A-22',\n",
       " '20050913_180324_44_fsp-B-98',\n",
       " '20051227_213029_888_fsp-B-36',\n",
       " '20060110_213516_1004_fsp-A-7',\n",
       " '20051218_182127_793_fsp-A-48',\n",
       " '20051215_201639_761_fsp-A-33',\n",
       " '20051219_180225_804_fsp-B-91',\n",
       " '20060116_212845_1063_fsp-B-126',\n",
       " '20051019_183344_287_fsp-B-10',\n",
       " '20051110_210200_461_fsp-A-75',\n",
       " '20051117_210156_538_fsp-A-71',\n",
       " '20051213_180254_736_fsp-B-83',\n",
       " '20051024_210748_330_fsp-A-8',\n",
       " '20051023_190301_321_fsp-B-27',\n",
       " '20050924_180747_117_fsp-B-14',\n",
       " '20051115_215935_518_fsp-A-81',\n",
       " '20060117_210311_1073_fsp-A-98',\n",
       " '20060109_183636_980_fsp-A-31',\n",
       " '20050919_180925_86_fsp-A-12',\n",
       " '20051026_190359_343_fsp-A-50',\n",
       " '20051206_214122_674_fsp-B-91',\n",
       " '20051016_180926_266_fsp-A-26',\n",
       " '20051001_181004_164_fsp-A-87',\n",
       " '20051220_181731_820_fsp-A-37',\n",
       " '20051027_210333_352_fsp-A-50',\n",
       " '20051109_232505_454_fsp-B-89',\n",
       " '20051028_180329_355_fsp-B-34',\n",
       " '20051110_210233_462_fsp-B-47',\n",
       " '20051101_153940_380_fsp-B-103',\n",
       " '20051213_185913_737_fsp-A-17',\n",
       " '20051018_180559_277_fsp-B-37',\n",
       " '20050914_000831_51_fsp-A-42',\n",
       " '20050922_180618_103_fsp-A-47',\n",
       " '20050920_180330_88_fsp-B-33',\n",
       " '20051119_212315_559_fsp-A-45',\n",
       " '20051218_212444_802_fsp-B-10',\n",
       " '20060116_183201_1056_fsp-A-55',\n",
       " '20051120_190412_563_fsp-A-112',\n",
       " '20051217_182330_784_fsp-A-92',\n",
       " '20051206_193937_667_fsp-A-62',\n",
       " '20051013_182213_244_fsp-A-30',\n",
       " '20060109_220315_988_fsp-B-102',\n",
       " '20051122_190326_576_fsp-A-68',\n",
       " '20051008_211712_214_fsp-A-6',\n",
       " '20051025_220419_338_fsp-B-33',\n",
       " '20050910_181354_31_fsp-B-56',\n",
       " '20051201_230640_638_fsp-A-42',\n",
       " '20051124_181720_588_fsp-B-54',\n",
       " '20051210_190201_715_fsp-A-25',\n",
       " '20051213_210120_739_fsp-B-42',\n",
       " '20051227_213029_888_fsp-A-44',\n",
       " '20051118_180619_547_fsp-A-6',\n",
       " '20051217_183115_786_fsp-A-59',\n",
       " '20051230_210559_914_fsp-A-68',\n",
       " '20051207_180507_676_fsp-B-80',\n",
       " '20051206_213252_673_fsp-A-52',\n",
       " '20051217_142547_780_fsp-B-89',\n",
       " '20050913_180947_47_fsp-A-44',\n",
       " '20051216_181042_773_fsp-A-65',\n",
       " '20051230_210559_914_fsp-A-21',\n",
       " '20051219_210655_812_fsp-B-39',\n",
       " '20050916_180740_69_fsp-A-74',\n",
       " '20051110_225245_467_fsp-A-41',\n",
       " '20060115_232345_1053_fsp-A-10',\n",
       " '20051120_205645_565_fsp-B-49',\n",
       " '20051126_190347_598_fsp-A-83',\n",
       " '20051029_220538_366_fsp-A-10',\n",
       " '20051024_230857_333_fsp-B-93',\n",
       " '20051227_181058_885_fsp-B-2',\n",
       " '20051022_230324_316_fsp-A-64',\n",
       " '20051028_210350_358_fsp-B-3',\n",
       " '20051218_180353_791_fsp-A-34',\n",
       " '20051104_180145_408_fsp-A-64',\n",
       " '20050911_210904_38_fsp-A-48',\n",
       " '20051202_190154_643_fsp-B-59',\n",
       " '20050915_210916_66_fsp-B-63',\n",
       " '20051031_180213_374_fsp-B-28',\n",
       " '20051113_210908_497_fsp-A-71',\n",
       " '20051116_180237_524_fsp-A-48',\n",
       " '20051214_193942_746_fsp-A-52',\n",
       " '20051004_200737_183_fsp-B-27',\n",
       " '20051211_000414_719_fsp-B-31',\n",
       " '20051130_181543_619_fsp-B-70',\n",
       " '20051203_191125_655_fsp-A-17',\n",
       " '20051117_220412_544_fsp-A-107',\n",
       " '20051206_180911_663_fsp-B-43',\n",
       " '20051118_180619_547_fsp-B-64',\n",
       " '20051114_171942_502_fsp-B-62',\n",
       " '20051122_213037_580_fsp-B-11',\n",
       " '20051031_210229_377_fsp-A-59',\n",
       " '20060116_202324_1058_fsp-A-54',\n",
       " '20050929_180318_149_fsp-B-69',\n",
       " '20060111_182557_1009_fsp-A-84',\n",
       " '20051014_183707_252_fsp-B-43',\n",
       " '20051130_210202_622_fsp-B-22',\n",
       " '20051022_230324_316_fsp-B-7',\n",
       " '20051227_213029_888_fsp-A-86',\n",
       " '20051017_000346_269_fsp-B-111',\n",
       " '20051031_180906_375_fsp-A-66',\n",
       " '20051218_142845_790_fsp-A-16',\n",
       " '20051010_182706_223_fsp-A-21',\n",
       " '20051123_181644_583_fsp-B-45',\n",
       " '20051209_211542_706_fsp-B-107',\n",
       " '20051028_210350_358_fsp-A-22',\n",
       " '20060110_230947_1007_fsp-A-37',\n",
       " '20050921_211329_101_fsp-A-89',\n",
       " '20051112_190443_488_fsp-A-86',\n",
       " '20060105_213129_947_fsp-A-19',\n",
       " '20051108_145902_441_fsp-B-4',\n",
       " '20050916_200334_70_fsp-A-62',\n",
       " '20050911_200216_35_fsp-B-63',\n",
       " '20060105_230711_949_fsp-B-65',\n",
       " '20051220_190121_821_fsp-A-5',\n",
       " '20051115_230749_520_fsp-B-62',\n",
       " '20051212_190335_730_fsp-A-84',\n",
       " '20051027_210333_352_fsp-A-39',\n",
       " '20051215_212701_767_fsp-A-26',\n",
       " '20051004_180730_182_fsp-B-99',\n",
       " '20051129_210218_616_fsp-B-86',\n",
       " '20051019_180448_285_fsp-B-104',\n",
       " '20060110_183405_995_fsp-B-33',\n",
       " '20050911_210429_36_fsp-B-57',\n",
       " '20050928_211113_146_fsp-B-94',\n",
       " '20051224_180302_865_fsp-B-1',\n",
       " '20051030_210903_372_fsp-A-102',\n",
       " '20050929_220820_154_fsp-A-20',\n",
       " '20050926_220244_130_fsp-B-13',\n",
       " '20060111_212145_1016_fsp-B-71',\n",
       " '20051006_180416_194_fsp-B-79',\n",
       " '20051211_000414_719_fsp-A-32',\n",
       " '20051026_211202_345_fsp-B-69',\n",
       " '20051114_212032_507_fsp-A-16',\n",
       " '20051120_210347_566_fsp-B-13',\n",
       " '20051025_210959_336_fsp-A-61',\n",
       " '20051225_192042_872_fsp-A-3',\n",
       " '20051109_181432_447_fsp-A-27',\n",
       " '20051202_181659_640_fsp-A-12',\n",
       " '20050916_210235_71_fsp-B-50',\n",
       " '20051104_181437_409_fsp-A-87',\n",
       " '20051109_181906_448_fsp-B-45',\n",
       " '20051206_193937_667_fsp-B-8',\n",
       " '20051210_190201_715_fsp-A-14',\n",
       " '20051107_212723_440_fsp-A-90',\n",
       " '20051029_200218_363_fsp-A-69',\n",
       " '20051116_222454_532_fsp-B-47',\n",
       " '20051113_180809_493_fsp-A-42',\n",
       " '20051120_205645_565_fsp-A-62',\n",
       " '20051113_220433_499_fsp-B-69',\n",
       " '20051212_211419_733_fsp-B-18',\n",
       " '20050928_232236_148_fsp-B-90',\n",
       " '20051006_180815_196_fsp-B-114',\n",
       " '20051201_181034_630_fsp-A-41',\n",
       " '20051113_210908_497_fsp-B-44',\n",
       " '20051114_212032_507_fsp-B-36',\n",
       " '20051018_231046_283_fsp-B-80',\n",
       " '20050924_180747_117_fsp-A-21',\n",
       " '20050926_000425_124_fsp-B-53',\n",
       " '20051129_181241_612_fsp-B-11',\n",
       " '20050911_210429_36_fsp-B-43',\n",
       " '20051026_210334_344_fsp-A-47',\n",
       " '20051223_212853_864_fsp-B-132',\n",
       " '20050910_190223_32_fsp-B-55',\n",
       " '20050915_212325_67_fsp-A-14',\n",
       " '20051218_182750_794_fsp-B-78',\n",
       " '20051110_155523_455_fsp-A-10',\n",
       " '20051207_190155_678_fsp-B-50',\n",
       " '20060104_182115_930_fsp-A-34',\n",
       " '20050910_180330_30_fsp-B-45',\n",
       " '20051023_180530_319_fsp-B-10',\n",
       " '20051222_181242_845_fsp-A-3',\n",
       " '20051202_181119_639_fsp-A-41',\n",
       " '20050913_210409_48_fsp-A-28',\n",
       " '20060106_183550_955_fsp-A-10',\n",
       " '20051210_182603_714_fsp-B-9',\n",
       " '20050915_180728_60_fsp-B-24',\n",
       " '20051022_210920_315_fsp-B-44',\n",
       " '20051221_212325_841_fsp-A-27',\n",
       " '20051219_212716_814_fsp-B-101',\n",
       " '20051203_182418_652_fsp-A-135',\n",
       " '20050928_210256_144_fsp-B-19',\n",
       " '20060111_230912_1020_fsp-B-39',\n",
       " '20051027_180217_349_fsp-A-66',\n",
       " '20060106_181040_951_fsp-A-53',\n",
       " '20060112_180639_1021_fsp-A-25',\n",
       " '20051016_180926_266_fsp-B-80',\n",
       " '20051113_180809_493_fsp-A-30',\n",
       " '20051019_183344_287_fsp-A-78',\n",
       " '20051225_210556_873_fsp-B-22',\n",
       " '20051224_182949_867_fsp-B-30',\n",
       " '20060116_212845_1063_fsp-A-100',\n",
       " '20050927_210947_138_fsp-B-98',\n",
       " '20060112_182612_1022_fsp-A-20',\n",
       " '20060110_183405_995_fsp-A-68',\n",
       " '20050913_180947_47_fsp-A-49',\n",
       " '20051213_185913_737_fsp-A-25',\n",
       " '20060115_183525_1047_fsp-B-3',\n",
       " '20051005_180420_187_fsp-A-69',\n",
       " '20051117_181844_537_fsp-B-94',\n",
       " '20051214_202717_749_fsp-B-91',\n",
       " '20051125_212150_595_fsp-B-23',\n",
       " '20050912_181441_40_fsp-B-11',\n",
       " '20051216_211423_778_fsp-B-19',\n",
       " '20060108_180630_968_fsp-A-106',\n",
       " '20051127_211200_604_fsp-A-56',\n",
       " '20060112_180639_1021_fsp-A-19',\n",
       " '20051124_190336_589_fsp-A-31',\n",
       " '20051003_180434_175_fsp-A-13',\n",
       " '20050920_211414_92_fsp-A-40',\n",
       " '20050926_230706_131_fsp-B-82',\n",
       " '20051211_211415_726_fsp-A-59',\n",
       " '20051208_190333_690_fsp-B-48',\n",
       " '20051122_181114_574_fsp-A-34',\n",
       " '20051104_210814_412_fsp-B-38',\n",
       " '20050910_190223_32_fsp-B-61',\n",
       " '20050914_181020_54_fsp-B-65',\n",
       " '20060111_181650_1008_fsp-A-43',\n",
       " '20051129_181547_613_fsp-A-80',\n",
       " '20051206_180753_662_fsp-A-29',\n",
       " '20051120_181339_562_fsp-A-70',\n",
       " '20060105_211743_946_fsp-A-10',\n",
       " '20051012_190241_236_fsp-A-60',\n",
       " '20051202_182058_641_fsp-B-11',\n",
       " '20051010_210622_224_fsp-A-55',\n",
       " '20051209_182858_703_fsp-A-46',\n",
       " '20050914_181020_54_fsp-A-22',\n",
       " '20050909_210428_25_fsp-A-63',\n",
       " '20051014_180940_250_fsp-B-19',\n",
       " '20060116_202324_1058_fsp-B-27',\n",
       " '20050910_190223_32_fsp-B-20',\n",
       " '20050928_220320_147_fsp-A-75',\n",
       " '20051116_212312_531_fsp-A-87',\n",
       " '20051031_210229_377_fsp-A-98',\n",
       " '20051101_230216_388_fsp-B-60',\n",
       " '20051109_181906_448_fsp-B-32',\n",
       " '20051108_181424_442_fsp-A-47',\n",
       " '20051212_180251_727_fsp-A-61',\n",
       " '20051215_210410_764_fsp-B-55',\n",
       " '20051011_181919_230_fsp-A-44',\n",
       " '20051010_231630_228_fsp-A-88',\n",
       " '20051121_181138_569_fsp-A-17',\n",
       " '20051129_183449_614_fsp-B-70',\n",
       " '20050920_181919_91_fsp-B-45',\n",
       " '20060110_213516_1004_fsp-A-3',\n",
       " '20051105_220745_422_fsp-B-76',\n",
       " '20051214_193942_746_fsp-A-27',\n",
       " '20051130_181543_619_fsp-B-50',\n",
       " '20050926_220244_130_fsp-B-44',\n",
       " '20051222_181506_846_fsp-B-19',\n",
       " ...}"
      ]
     },
     "execution_count": 148,
     "metadata": {},
     "output_type": "execute_result"
    }
   ],
   "source": [
    "sample_terms_details[\"train_utts\"]"
   ]
  },
  {
   "cell_type": "code",
   "execution_count": 149,
   "metadata": {},
   "outputs": [
    {
     "data": {
      "text/plain": [
       "{'dev': 158, 'train': 7215}"
      ]
     },
     "execution_count": 149,
     "metadata": {},
     "output_type": "execute_result"
    }
   ],
   "source": [
    "sample_terms_details['words']['bueno']"
   ]
  },
  {
   "cell_type": "code",
   "execution_count": 150,
   "metadata": {},
   "outputs": [
    {
     "data": {
      "text/plain": [
       "(7215, 158)"
      ]
     },
     "execution_count": 150,
     "metadata": {},
     "output_type": "execute_result"
    }
   ],
   "source": [
    "bow_es_top_words_vocab['freq'][b'bueno'], bow_es_top_words_vocab['freq_dev'][b'bueno']"
   ]
  },
  {
   "cell_type": "code",
   "execution_count": 151,
   "metadata": {},
   "outputs": [],
   "source": [
    "pickle.dump(bow_es_top_words_vocab, open(os.path.join(m_cfg['data_path'], \"bow_es_1word_vocab.dict\"), \"wb\"))"
   ]
  },
  {
   "cell_type": "code",
   "execution_count": 216,
   "metadata": {},
   "outputs": [],
   "source": [
    "pickle.dump(bow_es_top_words_vocab, open(os.path.join(m_cfg['data_path'], \"bow_es_top_words_vocab.dict\"), \"wb\"))"
   ]
  },
  {
   "cell_type": "code",
   "execution_count": 217,
   "metadata": {},
   "outputs": [
    {
     "data": {
      "text/plain": [
       "{'dev': 11, 'train': 93}"
      ]
     },
     "execution_count": 217,
     "metadata": {},
     "output_type": "execute_result"
    }
   ],
   "source": [
    "sample_terms_details['words']['colorado']"
   ]
  },
  {
   "cell_type": "code",
   "execution_count": 218,
   "metadata": {},
   "outputs": [
    {
     "data": {
      "text/plain": [
       "[('porque', 10039),\n",
       " ('bueno', 7215),\n",
       " ('entonces', 6340),\n",
       " ('también', 5385),\n",
       " ('claro', 5207),\n",
       " ('gente', 4106),\n",
       " ('cuando', 4045),\n",
       " ('mucho', 4017),\n",
       " ('tengo', 3078),\n",
       " ('estoy', 2957),\n",
       " ('ahora', 2955),\n",
       " ('ellos', 2858),\n",
       " ('verdad', 2677),\n",
       " ('están', 2339),\n",
       " ('veces', 2221),\n",
       " ('tienen', 2154),\n",
       " ('siempre', 1993),\n",
       " ('ejemplo', 1972),\n",
       " ('estaba', 1890),\n",
       " ('hacer', 1847)]"
      ]
     },
     "execution_count": 218,
     "metadata": {},
     "output_type": "execute_result"
    }
   ],
   "source": [
    "sorted([(w, sample_terms_details['words'][w]['train']) \n",
    "       for w in sample_terms_details['words']], reverse=True, key=lambda t: t[1])[:20]"
   ]
  },
  {
   "cell_type": "code",
   "execution_count": null,
   "metadata": {},
   "outputs": [],
   "source": [
    "m_cfg['data_path']"
   ]
  },
  {
   "cell_type": "code",
   "execution_count": null,
   "metadata": {},
   "outputs": [],
   "source": [
    "!ls fbanks_80dim_nltk"
   ]
  }
 ],
 "metadata": {
  "kernelspec": {
   "display_name": "Python 3",
   "language": "python",
   "name": "python3"
  },
  "language_info": {
   "codemirror_mode": {
    "name": "ipython",
    "version": 3
   },
   "file_extension": ".py",
   "mimetype": "text/x-python",
   "name": "python",
   "nbconvert_exporter": "python",
   "pygments_lexer": "ipython3",
   "version": "3.6.3"
  }
 },
 "nbformat": 4,
 "nbformat_minor": 2
}
