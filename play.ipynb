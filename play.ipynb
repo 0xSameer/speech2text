{
 "cells": [
  {
   "cell_type": "code",
   "execution_count": 67,
   "metadata": {
    "collapsed": false
   },
   "outputs": [
    {
     "name": "stdout",
     "output_type": "stream",
     "text": [
      "The autoreload extension is already loaded. To reload it, use:\n",
      "  %reload_ext autoreload\n"
     ]
    }
   ],
   "source": [
    "%load_ext autoreload\n",
    "%autoreload 1\n",
    "\n",
    "%aimport basics\n",
    "%aimport nn_config\n",
    "%aimport enc_dec\n",
    "\n",
    "\n",
    "from basics import *\n",
    "from nn_config import *\n",
    "from enc_dec import *\n",
    "%matplotlib inline"
   ]
  },
  {
   "cell_type": "code",
   "execution_count": 68,
   "metadata": {
    "collapsed": false
   },
   "outputs": [],
   "source": [
    "from enc_dec import *"
   ]
  },
  {
   "cell_type": "code",
   "execution_count": 69,
   "metadata": {
    "collapsed": false
   },
   "outputs": [
    {
     "data": {
      "text/plain": [
       "<module 'cupy' from '/afs/inf.ed.ac.uk/user/s14/s1444673/anaconda3/envs/mtenv/lib/python3.6/site-packages/cupy/__init__.py'>"
      ]
     },
     "execution_count": 69,
     "metadata": {},
     "output_type": "execute_result"
    }
   ],
   "source": [
    "xp"
   ]
  },
  {
   "cell_type": "code",
   "execution_count": 70,
   "metadata": {
    "collapsed": false
   },
   "outputs": [],
   "source": [
    "xp = cuda.cupy if gpuid >= 0 else np"
   ]
  },
  {
   "cell_type": "code",
   "execution_count": 71,
   "metadata": {
    "collapsed": false
   },
   "outputs": [],
   "source": [
    "text_data = pickle.load(open(text_data_dict, \"rb\"))"
   ]
  },
  {
   "cell_type": "code",
   "execution_count": 72,
   "metadata": {
    "collapsed": false
   },
   "outputs": [
    {
     "data": {
      "text/plain": [
       "dict_keys(['train', 'dev', 'test'])"
      ]
     },
     "execution_count": 72,
     "metadata": {},
     "output_type": "execute_result"
    }
   ],
   "source": [
    "text_data.keys()"
   ]
  },
  {
   "cell_type": "code",
   "execution_count": 73,
   "metadata": {
    "collapsed": false
   },
   "outputs": [],
   "source": [
    "model = SpeechEncoderDecoder(120, vocab_size_en, num_layers_enc, num_layers_dec,\n",
    "                               hidden_units, gpuid, attn=use_attn)"
   ]
  },
  {
   "cell_type": "code",
   "execution_count": 74,
   "metadata": {
    "collapsed": false
   },
   "outputs": [],
   "source": [
    "sp_fil = np.load(os.path.join(speech_dir, \"041.001\"+speech_extn))"
   ]
  },
  {
   "cell_type": "code",
   "execution_count": 75,
   "metadata": {
    "collapsed": true
   },
   "outputs": [],
   "source": [
    "t_sp_fil = xp.expand_dims(sp_fil, 1)"
   ]
  },
  {
   "cell_type": "code",
   "execution_count": 76,
   "metadata": {
    "collapsed": false
   },
   "outputs": [
    {
     "data": {
      "text/plain": [
       "((1168, 1, 120), (1, 120), (120,))"
      ]
     },
     "execution_count": 76,
     "metadata": {},
     "output_type": "execute_result"
    }
   ],
   "source": [
    "t_sp_fil.shape, t_sp_fil[0].shape, sp_fil[0].shape"
   ]
  },
  {
   "cell_type": "code",
   "execution_count": 77,
   "metadata": {
    "collapsed": false
   },
   "outputs": [
    {
     "data": {
      "text/plain": [
       "(1, 5, 120)"
      ]
     },
     "execution_count": 77,
     "metadata": {},
     "output_type": "execute_result"
    }
   ],
   "source": [
    "np.expand_dims(sp_fil[:5],0).shape"
   ]
  },
  {
   "cell_type": "code",
   "execution_count": 78,
   "metadata": {
    "collapsed": false
   },
   "outputs": [
    {
     "data": {
      "text/plain": [
       "(1168, 120)"
      ]
     },
     "execution_count": 78,
     "metadata": {},
     "output_type": "execute_result"
    }
   ],
   "source": [
    "sp_fil.shape"
   ]
  },
  {
   "cell_type": "code",
   "execution_count": 79,
   "metadata": {
    "collapsed": false
   },
   "outputs": [
    {
     "data": {
      "text/plain": [
       "array([[-1.19359016, -1.41158342, -1.60597098, ...,  0.0163932 ,\n",
       "        -0.10014834, -0.274268  ],\n",
       "       [-1.43545854, -1.55333805, -1.15664506, ...,  0.14043394,\n",
       "        -0.02434985, -0.2729277 ],\n",
       "       [-0.73096627, -1.39472294, -1.21697617, ...,  0.28072414,\n",
       "         0.15903132,  0.01507408],\n",
       "       ..., \n",
       "       [ 0.02010632,  0.00897999, -0.13785338, ..., -0.46035278,\n",
       "        -0.4079282 , -0.81319255],\n",
       "       [-1.9217509 , -2.3823216 , -1.18668556, ...,  0.05905694,\n",
       "        -0.1516051 , -0.36329484],\n",
       "       [-5.12446594, -4.33465815, -3.91597891, ...,  0.32548103,\n",
       "         0.17863652,  0.14788523]], dtype=float32)"
      ]
     },
     "execution_count": 79,
     "metadata": {},
     "output_type": "execute_result"
    }
   ],
   "source": [
    "xp.flip(sp_fil, axis=0)"
   ]
  },
  {
   "cell_type": "code",
   "execution_count": 80,
   "metadata": {
    "collapsed": true
   },
   "outputs": [],
   "source": [
    "t_lstm = L.LSTM(sp_fil.shape[1], 200)"
   ]
  },
  {
   "cell_type": "code",
   "execution_count": 81,
   "metadata": {
    "collapsed": false
   },
   "outputs": [],
   "source": [
    "A = t_lstm(sp_fil)"
   ]
  },
  {
   "cell_type": "code",
   "execution_count": 82,
   "metadata": {
    "collapsed": false
   },
   "outputs": [
    {
     "data": {
      "text/plain": [
       "True"
      ]
     },
     "execution_count": 82,
     "metadata": {},
     "output_type": "execute_result"
    }
   ],
   "source": [
    "(A.data==t_lstm.h.data).all()"
   ]
  },
  {
   "cell_type": "code",
   "execution_count": 83,
   "metadata": {
    "collapsed": false
   },
   "outputs": [
    {
     "data": {
      "text/plain": [
       "(5, 200)"
      ]
     },
     "execution_count": 83,
     "metadata": {},
     "output_type": "execute_result"
    }
   ],
   "source": [
    "t_lstm(sp_fil[:5]).shape"
   ]
  },
  {
   "cell_type": "code",
   "execution_count": 84,
   "metadata": {
    "collapsed": false
   },
   "outputs": [
    {
     "data": {
      "text/plain": [
       "(1168, (1168, 200), 1168)"
      ]
     },
     "execution_count": 84,
     "metadata": {},
     "output_type": "execute_result"
    }
   ],
   "source": [
    "len(sp_fil), t_lstm.h.shape, len(t_sp_fil)"
   ]
  },
  {
   "cell_type": "code",
   "execution_count": 85,
   "metadata": {
    "collapsed": false
   },
   "outputs": [
    {
     "data": {
      "text/plain": [
       "(128, 146.0)"
      ]
     },
     "execution_count": 85,
     "metadata": {},
     "output_type": "execute_result"
    }
   ],
   "source": [
    "model.L1_enc.state_size, sp_fil.shape[0] / 8"
   ]
  },
  {
   "cell_type": "code",
   "execution_count": 86,
   "metadata": {
    "collapsed": false
   },
   "outputs": [],
   "source": [
    "# out_states = model.encode_speech_lstm(sp_fil, train=False)"
   ]
  },
  {
   "cell_type": "code",
   "execution_count": 88,
   "metadata": {
    "collapsed": false
   },
   "outputs": [
    {
     "data": {
      "text/plain": [
       "128"
      ]
     },
     "execution_count": 88,
     "metadata": {},
     "output_type": "execute_result"
    }
   ],
   "source": [
    "model.L2_rev_enc.state_size"
   ]
  },
  {
   "cell_type": "code",
   "execution_count": 89,
   "metadata": {
    "collapsed": false
   },
   "outputs": [
    {
     "name": "stdout",
     "output_type": "stream",
     "text": [
      "speech (1168, 1, 120)\n",
      "L0_rev_enc before (1168, 1, 120)\n",
      "L0_rev_enc out (584, 1, 256)\n",
      "L1_rev_enc before (584, 1, 256)\n",
      "L1_rev_enc out (292, 1, 256)\n",
      "L2_rev_enc before (292, 1, 256)\n",
      "L2_rev_enc out (146, 1, 256)\n",
      "L3_rev_enc before (146, 1, 256)\n",
      "L3_rev_enc out (73, 1, 256)\n",
      "L4_rev_enc before (73, 1, 256)\n",
      "L4_rev_enc out (73, 1, 128)\n"
     ]
    }
   ],
   "source": [
    "L_REV_STATES = model.encode_speech_lstm(xp.flip(sp_fil, axis=0), model.lstm_rev_enc, train=True)"
   ]
  },
  {
   "cell_type": "code",
   "execution_count": 90,
   "metadata": {
    "collapsed": false
   },
   "outputs": [
    {
     "name": "stdout",
     "output_type": "stream",
     "text": [
      "speech (1168, 1, 120)\n",
      "L0_enc before (1168, 1, 120)\n",
      "L0_enc out (584, 1, 256)\n",
      "L1_enc before (584, 1, 256)\n",
      "L1_enc out (292, 1, 256)\n",
      "L2_enc before (292, 1, 256)\n",
      "L2_enc out (146, 1, 256)\n",
      "L3_enc before (146, 1, 256)\n",
      "L3_enc out (73, 1, 256)\n",
      "L4_enc before (73, 1, 256)\n",
      "L4_enc out (73, 1, 128)\n",
      "speech (1168, 1, 120)\n",
      "L0_rev_enc before (1168, 1, 120)\n",
      "L0_rev_enc out (584, 1, 256)\n",
      "L1_rev_enc before (584, 1, 256)\n",
      "L1_rev_enc out (292, 1, 256)\n",
      "L2_rev_enc before (292, 1, 256)\n",
      "L2_rev_enc out (146, 1, 256)\n",
      "L3_rev_enc before (146, 1, 256)\n",
      "L3_rev_enc out (73, 1, 256)\n",
      "L4_rev_enc before (73, 1, 256)\n",
      "L4_rev_enc out (73, 1, 128)\n"
     ]
    }
   ],
   "source": [
    "out_states = model.encode_list(sp_fil, train=True)"
   ]
  },
  {
   "cell_type": "code",
   "execution_count": 58,
   "metadata": {
    "collapsed": true
   },
   "outputs": [],
   "source": [
    "A = xp.random.rand(4,3).astype(xp.float32)"
   ]
  },
  {
   "cell_type": "code",
   "execution_count": 59,
   "metadata": {
    "collapsed": false
   },
   "outputs": [
    {
     "data": {
      "text/plain": [
       "array([[ 0.00864284,  0.36081648,  0.41948977],\n",
       "       [ 0.9396922 ,  0.91287845,  0.99141073],\n",
       "       [ 0.33583364,  0.83446676,  0.88580513],\n",
       "       [ 0.62025827,  0.26510096,  0.9786287 ]], dtype=float32)"
      ]
     },
     "execution_count": 59,
     "metadata": {},
     "output_type": "execute_result"
    }
   ],
   "source": [
    "A"
   ]
  },
  {
   "cell_type": "code",
   "execution_count": 60,
   "metadata": {
    "collapsed": false
   },
   "outputs": [
    {
     "data": {
      "text/plain": [
       "array([[ 0.62025827,  0.26510096,  0.9786287 ],\n",
       "       [ 0.33583364,  0.83446676,  0.88580513],\n",
       "       [ 0.9396922 ,  0.91287845,  0.99141073],\n",
       "       [ 0.00864284,  0.36081648,  0.41948977]], dtype=float32)"
      ]
     },
     "execution_count": 60,
     "metadata": {},
     "output_type": "execute_result"
    }
   ],
   "source": [
    "xp.flip(A, axis=0)"
   ]
  },
  {
   "cell_type": "code",
   "execution_count": null,
   "metadata": {
    "collapsed": false
   },
   "outputs": [],
   "source": [
    "out_states.shape, model.lstm_enc"
   ]
  },
  {
   "cell_type": "code",
   "execution_count": null,
   "metadata": {
    "collapsed": false
   },
   "outputs": [],
   "source": [
    "out_states = model.feed_pyramidal_lstm(t_sp_fil[:9], lstm_layer=model.lstm_enc[0], scale=2, train=False)"
   ]
  },
  {
   "cell_type": "code",
   "execution_count": null,
   "metadata": {
    "collapsed": false
   },
   "outputs": [],
   "source": [
    "out_states.shape"
   ]
  },
  {
   "cell_type": "code",
   "execution_count": null,
   "metadata": {
    "collapsed": false
   },
   "outputs": [],
   "source": [
    "# out_states = feed_pyramidal_lstm(sp_fil[:10], scale=2, train=False)"
   ]
  },
  {
   "cell_type": "code",
   "execution_count": null,
   "metadata": {
    "collapsed": false
   },
   "outputs": [],
   "source": [
    "out_states.shape"
   ]
  },
  {
   "cell_type": "code",
   "execution_count": null,
   "metadata": {
    "collapsed": false
   },
   "outputs": [],
   "source": [
    "def feed_pyramidal_lstm(feat_in, scale, train):\n",
    "    xp = cuda.cupy if gpuid >= 0 else np\n",
    "\n",
    "    # create empty array to store the output\n",
    "    # the output is scaled by the scale factor\n",
    "    n_out_states = len(feat_in) // scale\n",
    "    out_dim = t_lstm.state_size\n",
    "    out_states = xp.empty((0, out_dim*scale), dtype=xp.float32)\n",
    "\n",
    "    # feed each input from the sequence\n",
    "    for i in range(0, n_out_states):\n",
    "        # lateral_states = xp.empty((0,out_dim), dtype=xp.float32)\n",
    "        lateral_states = t_lstm(xp.expand_dims(feat_in[(i*scale)],0))\n",
    "        for j in range(1, scale):\n",
    "            out = t_lstm(xp.expand_dims(feat_in[(i*scale)+j],0))\n",
    "            print(out.shape)\n",
    "            print(lateral_states.shape)\n",
    "            lateral_states = F.concat((lateral_states, out), axis=1)\n",
    "        # concatenate and append lateral states into out states\n",
    "        out_states = F.concat((out_states, lateral_states), axis=0)\n",
    "\n",
    "    return out_states"
   ]
  },
  {
   "cell_type": "code",
   "execution_count": null,
   "metadata": {
    "collapsed": false
   },
   "outputs": [],
   "source": [
    "feat_in = np.random.rand(10, 40).astype(np.float32)\n",
    "scale = 2\n",
    "n_out_states = len(feat_in) // scale\n",
    "print(n_out_states)"
   ]
  },
  {
   "cell_type": "code",
   "execution_count": null,
   "metadata": {
    "collapsed": true
   },
   "outputs": [],
   "source": [
    "haha=np.empty(30, dtype=np.float32)"
   ]
  },
  {
   "cell_type": "code",
   "execution_count": null,
   "metadata": {
    "collapsed": false
   },
   "outputs": [],
   "source": [
    "haha.shape"
   ]
  },
  {
   "cell_type": "code",
   "execution_count": null,
   "metadata": {
    "collapsed": false
   },
   "outputs": [],
   "source": [
    "for i in range(0, n_out_states):\n",
    "    for j in range(0, scale):\n",
    "        print((i*scale)+j)"
   ]
  },
  {
   "cell_type": "code",
   "execution_count": null,
   "metadata": {
    "collapsed": true
   },
   "outputs": [],
   "source": [
    "for i in range(0, len(feat_in), scale):\n",
    "    lateral_states = xp.empty((scale, out_dim), dtype=xp.float32)\n",
    "    for j in range(i, i+scale):\n",
    "        lateral_states[j-i] = self[lstm_layer](feat_in[j])\n",
    "    # concatenate and append lateral states into out states\n",
    "    n_out_states[]"
   ]
  },
  {
   "cell_type": "code",
   "execution_count": null,
   "metadata": {
    "collapsed": false
   },
   "outputs": [],
   "source": [
    "for i in range(0,10,2):\n",
    "    for j in range(i, i+2):\n",
    "        print(j, end=\",\")\n",
    "    print(\"\")"
   ]
  },
  {
   "cell_type": "code",
   "execution_count": null,
   "metadata": {
    "collapsed": false
   },
   "outputs": [],
   "source": [
    "%aimport prepare_dataset"
   ]
  },
  {
   "cell_type": "code",
   "execution_count": null,
   "metadata": {
    "collapsed": false
   },
   "outputs": [],
   "source": [
    "frame_lengths = prepare_dataset.make_npz(\"haha\", \"train\")"
   ]
  },
  {
   "cell_type": "code",
   "execution_count": null,
   "metadata": {
    "collapsed": false
   },
   "outputs": [],
   "source": [
    "len(frame_lengths)"
   ]
  },
  {
   "cell_type": "code",
   "execution_count": null,
   "metadata": {
    "collapsed": false
   },
   "outputs": [],
   "source": [
    "len([l for l in frame_lengths if l>=400])"
   ]
  },
  {
   "cell_type": "code",
   "execution_count": null,
   "metadata": {
    "collapsed": false
   },
   "outputs": [],
   "source": [
    "plt.hist(frame_lengths)"
   ]
  }
 ],
 "metadata": {
  "kernelspec": {
   "display_name": "Python 3",
   "language": "python",
   "name": "python3"
  },
  "language_info": {
   "codemirror_mode": {
    "name": "ipython",
    "version": 3
   },
   "file_extension": ".py",
   "mimetype": "text/x-python",
   "name": "python",
   "nbconvert_exporter": "python",
   "pygments_lexer": "ipython3",
   "version": "3.6.0"
  }
 },
 "nbformat": 4,
 "nbformat_minor": 2
}
