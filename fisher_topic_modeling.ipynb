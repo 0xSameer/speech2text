{
 "cells": [
  {
   "cell_type": "markdown",
   "metadata": {},
   "source": [
    "# Discovering topics in speech data using cross-lingual side information"
   ]
  },
  {
   "cell_type": "markdown",
   "metadata": {},
   "source": [
    "## Fisher Spanish speech dataset\n",
    "\n",
    "The dataset provides **819 telephone calls** between native Spanish speakers. For each call, the speakers are assigned a topic for discussion. The list of topics, totalling 25, is as follows:\n",
    "```\n",
    "Music, Marriage, Religion, Cell phones,  Dating, \n",
    "Telemarketing and SPAM, Politics, Travel,  Technical devices, \n",
    "Healthcare, Advertisements, Power,  Occupations, Movies, Welfare, \n",
    "Breaking up, Location,  Justice, Memories, Crime, \n",
    "Violence against women, Equality,  Housing, Immigration\n",
    "```\n",
    "\n",
    "The average duration of a phone call is 12 minutes. Though the speakers are allocated only a single topic, the conversations can stray onto different ones after a few minutes into the call. Each call is further divided into a set of utterances, with each utterance only a few seconds long.\n",
    "\n",
    "The training, development and test set details are as follows:\n",
    "\n",
    " \n",
    "| |# calls | # utterances | Duration (hrs) |\n",
    "| ---|--- |--------| -----|\n",
    "| train | 759 | 140K | 160 |\n",
    "| dev | 20 | 3.9K | 4.5 |\n",
    "| dev2 | 20 | 3.9K | 4.5 |\n",
    "| test | 20 | 3.6K | 4.5 |\n"
   ]
  },
  {
   "cell_type": "markdown",
   "metadata": {},
   "source": [
    "## Using English translations to determine \"topic\" being discussed in speech segments\n",
    "\n",
    "We can infer the topic of a speech segment by analyzing the words in its English translation.\n",
    "\n",
    "For example, consider the following example where the speaker announces the assigned topic: **marriage**.\n",
    "\n",
    "It also illustrates the challenge that speakers can go off-topic."
   ]
  },
  {
   "cell_type": "code",
   "execution_count": 85,
   "metadata": {},
   "outputs": [
    {
     "data": {
      "text/plain": [
       "[\" okay ah today's topic is marriage right yes or we\",\n",
       " 'can talk about anything else you want oh okay okay',\n",
       " 'um in what state are yo']"
      ]
     },
     "execution_count": 85,
     "metadata": {},
     "output_type": "execute_result"
    }
   ],
   "source": [
    "textwrap.wrap(group_text['fisher_train'][20][100:225], width=50)"
   ]
  },
  {
   "cell_type": "markdown",
   "metadata": {},
   "source": [
    "Large parts of this call however are off-topic, such as the following discussion about tattoos:"
   ]
  },
  {
   "cell_type": "code",
   "execution_count": 86,
   "metadata": {},
   "outputs": [
    {
     "data": {
      "text/plain": [
       "[\" was yes yes um what do you what do you do um i'm\",\n",
       " \"working oh i do i do tattoos oh really yes oh i've\",\n",
       " 'wanted to do a do a tattoo since a long time ago',\n",
       " 'where in the shoulder in the shoulder in the',\n",
       " 'shoulder yes like in the in the clavicle yes no',\n",
       " 'the blade the clavicle is in the center the blade',\n",
       " 'yes but but it scares me no no it hurts me no ah i',\n",
       " 'have a lot i have i have one in the back one in',\n",
       " 'the neck']"
      ]
     },
     "execution_count": 86,
     "metadata": {},
     "output_type": "execute_result"
    }
   ],
   "source": [
    "textwrap.wrap(group_text['fisher_train'][21][400:800], width=50)"
   ]
  },
  {
   "cell_type": "markdown",
   "metadata": {},
   "source": [
    "Let's look at a different call, where the translations indicate that the speakers are discussing: **music**"
   ]
  },
  {
   "cell_type": "code",
   "execution_count": 87,
   "metadata": {},
   "outputs": [
    {
     "data": {
      "text/plain": [
       "['do you listen to music over there ah good since i',\n",
       " 'have a computer ah i can listen to spanish or',\n",
       " 'english music aha but i like spanish the most',\n",
       " \"because it's more romantic mm okay and you well\",\n",
       " \"here there are many hispanics but mm we don't have\",\n",
       " 'a totally spanish station in spanish really somet']"
      ]
     },
     "execution_count": 87,
     "metadata": {},
     "output_type": "execute_result"
    }
   ],
   "source": [
    "textwrap.wrap(group_text['fisher_train'][100][310:600], width=50)"
   ]
  },
  {
   "cell_type": "markdown",
   "metadata": {},
   "source": [
    "## Proposed method - using Fisher training text to learn a topic model\n",
    "\n",
    "We propose to learn a topic model using the entire set of human annoted English translations for the Fisher Spanish speech.\n",
    "\n",
    "Such a model learns the probabilty of a topic, given the words in a document.\n",
    "\n",
    "For new speech utterances, we first generate the English translations using an ST model, and then use the words in the translations to infer the topic.\n",
    "\n",
    "To evaluate our model, we compare the topic predicted using ST output to the one predicted using human translations for both dev and test sets."
   ]
  },
  {
   "cell_type": "markdown",
   "metadata": {},
   "source": [
    "## Defining a “document”\n",
    "\n",
    "For topic modeling, we need to define a logical grouping of the input data. As topics are allocated at a call level, using an entire call data as a single document may seem the obvious choice. However, this gives us very few documents to learn topics from, and also to validate them on. If we use utterances instead, then we end up with too many documents; we also don’t expect users to change topics every 5 or 10 seconds. Learning topics from such a fine-level grouping of data may also be difficult.\n",
    "\n",
    "We therefore group a set of utterances together and use their text for topic modeling. For each call, we divide the total number of utterances into 5 roughly equal parts. This should give us about 2 mins of speech per document.\n",
    "\n",
    "| |# documents |\n",
    "| ---| -----|\n",
    "| train | 3.8K |\n",
    "| dev | 100 |\n",
    "| dev2 | 100 |\n",
    "| test | 100 |\n",
    "\n",
    "\n",
    "## Input for topic modeling - text processing\n",
    "\n",
    "We first learn a set of topics using the human annotated training set text. There are a total of 1.5 million word tokens and 17K word types in the text. As we are looking for topics, which are broad level categories, we do not need to use all the 17K word types. To reduce this number, and focus on high importance words, we preprocess the English translations as follows:\n",
    "1. Lowercase and removing punctuation\n",
    "2. Remove stopwords\n",
    "3. Remove frequent words, occurring in more than 25% of the documents\n",
    "4. Remove infrequent words, occurring in less than 10 documents\n",
    "5. Keep only the most frequent 1000 words out of the remaining word types\n",
    "6. Compute tf-idf for each of the 1000 word types in each of the 3.8K documents\n",
    "\n",
    "\n",
    "## Topic Model: Non-Negative Matrix Factorization (NMF)\n",
    "\n",
    "We use **NMF** for topic modeling. This is a matrix factorization method, which given a vector V, factorizes it into two matrices: W (long-narrow), and H (short-wide). All three matrices will have non-negative elements, V by design, and W and H by the learning method. \n",
    "\n",
    "**document-word TF-IDF matrix V**\n",
    "\n",
    "For each document, we then create a matrix with the documents as the rows, and the word types as the columns. Each cell represents the tf-idf value of the word in that document\n",
    "\n",
    "**document-topic matrix W**\n",
    "\n",
    "The number of columns of the W matrix is equal to the number of topics we want to discover. Though the participants were assigned 25 topics, through trial and error we find out that 10 topics gives us a better output. Therefore, in this work we will focus on 10 latent topics which we will extract using NMF.\n",
    "\n",
    "**topic-word matrix H**\n",
    "\n",
    "This row has 10 rows, one for each topic, and the columns indicate the importance of each word for that topic."
   ]
  },
  {
   "cell_type": "code",
   "execution_count": 88,
   "metadata": {},
   "outputs": [
    {
     "data": {
      "image/png": "[encoded data removed]",
      "text/plain": [
       "<IPython.core.display.Image object>"
      ]
     },
     "execution_count": 88,
     "metadata": {},
     "output_type": "execute_result"
    }
   ],
   "source": [
    "Image(\"./figs/speech_topic_modeling.png\")"
   ]
  },
  {
   "cell_type": "markdown",
   "metadata": {},
   "source": [
    "## Topics learned using NMF\n",
    "\n",
    "Using NMF and setting the number of latent topics to 10, we get the following output:"
   ]
  },
  {
   "cell_type": "code",
   "execution_count": 111,
   "metadata": {},
   "outputs": [
    {
     "name": "stdout",
     "output_type": "stream",
     "text": [
      " 1 | relationships     married old course kids got\n",
      "   |                   life someone hard family man\n",
      "------------------------------------------------------------\n",
      " 2 | music             music listen dance play songs\n",
      "   |                   salsa radio listening classical rock\n",
      "------------------------------------------------------------\n",
      " 3 | religion          religion church god catholic religions\n",
      "   |                   believe religious christian different bible\n",
      "------------------------------------------------------------\n",
      " 4 | location-cities   hello new york city cold\n",
      "   |                   philadelphia nice name fine topic\n",
      "------------------------------------------------------------\n",
      " 5 | politics-power    united states country power countries\n",
      "   |                   world government money help president\n",
      "------------------------------------------------------------\n",
      " 6 | technology        phone call use computer calls\n",
      "   |                   cell internet telephone cellular number\n",
      "------------------------------------------------------------\n",
      " 7 | housing           house hundred buy dollars thousand\n",
      "   |                   expensive rent money pay apartment\n",
      "------------------------------------------------------------\n",
      " 8 | location          spanish speak english language understand\n",
      "   |                   learn speaks languages talk accent\n",
      "------------------------------------------------------------\n",
      " 9 | healthcare        insurance system pay health doctor\n",
      "   |                   money jury medical social hospital\n",
      "------------------------------------------------------------\n",
      "10 | movies            movies watch movie commercials tv\n",
      "   |                   kids television watching show children\n",
      "------------------------------------------------------------\n"
     ]
    }
   ],
   "source": [
    "for i, (t,w) in enumerate(nmf_topics.items(), start=1):\n",
    "    print(\"{0:2d} | {1:15s}   {2:s}\".format(i, nmf_topics_names[t], \" \".join(w.split()[:5])))\n",
    "    print(\"{0:2s} | {1:15s}   {2:s}\".format(\" \", \" \", \" \".join(w.split()[5:10])))\n",
    "    print(\"-\"*60)"
   ]
  },
  {
   "cell_type": "markdown",
   "metadata": {},
   "source": [
    "## Generating silver labels for evaluation\n",
    "\n",
    "We now use the trained topic model to generate silver labels for the dev and dev2 sets using their human annotated English translations.\n",
    "\n",
    "The following table shows the reference topics for a sample of 10 dev set utterances.\n",
    "\n",
    "**refTopic** : topic with the highest predicted score used as the **silver label**\n",
    "\n",
    "**refScore** : predicted score, between 0 and 1, with 1 being the highest/most probable\n",
    "\n",
    "**refWords** : predicted topic related words in the document\n"
   ]
  },
  {
   "cell_type": "code",
   "execution_count": 90,
   "metadata": {},
   "outputs": [
    {
     "data": {
      "text/html": [
       "<div>\n",
       "<style scoped>\n",
       "    .dataframe tbody tr th:only-of-type {\n",
       "        vertical-align: middle;\n",
       "    }\n",
       "\n",
       "    .dataframe tbody tr th {\n",
       "        vertical-align: top;\n",
       "    }\n",
       "\n",
       "    .dataframe thead th {\n",
       "        text-align: right;\n",
       "    }\n",
       "</style>\n",
       "<table border=\"1\" class=\"dataframe\">\n",
       "  <thead>\n",
       "    <tr style=\"text-align: right;\">\n",
       "      <th></th>\n",
       "      <th>refTopic</th>\n",
       "      <th>refScore</th>\n",
       "      <th>refWords</th>\n",
       "    </tr>\n",
       "  </thead>\n",
       "  <tbody>\n",
       "    <tr>\n",
       "      <th>55</th>\n",
       "      <td>politics-power</td>\n",
       "      <td>0.31</td>\n",
       "      <td>world-country-money-politics</td>\n",
       "    </tr>\n",
       "    <tr>\n",
       "      <th>15</th>\n",
       "      <td>relationships</td>\n",
       "      <td>0.42</td>\n",
       "      <td>told-course</td>\n",
       "    </tr>\n",
       "    <tr>\n",
       "      <th>0</th>\n",
       "      <td>religion</td>\n",
       "      <td>0.39</td>\n",
       "      <td>god-christians-christian-catholic-religion</td>\n",
       "    </tr>\n",
       "    <tr>\n",
       "      <th>87</th>\n",
       "      <td>location-cities</td>\n",
       "      <td>0.63</td>\n",
       "      <td>city-cold</td>\n",
       "    </tr>\n",
       "    <tr>\n",
       "      <th>89</th>\n",
       "      <td>politics-power</td>\n",
       "      <td>0.42</td>\n",
       "      <td>states-country-government</td>\n",
       "    </tr>\n",
       "    <tr>\n",
       "      <th>34</th>\n",
       "      <td>music</td>\n",
       "      <td>0.61</td>\n",
       "      <td>salsa-play-dance-music</td>\n",
       "    </tr>\n",
       "    <tr>\n",
       "      <th>4</th>\n",
       "      <td>religion</td>\n",
       "      <td>0.80</td>\n",
       "      <td>god-says-bible-believe-church-christian-religion</td>\n",
       "    </tr>\n",
       "    <tr>\n",
       "      <th>8</th>\n",
       "      <td>religion</td>\n",
       "      <td>0.85</td>\n",
       "      <td>says-bible-believe-church-understand-catholic-...</td>\n",
       "    </tr>\n",
       "    <tr>\n",
       "      <th>11</th>\n",
       "      <td>religion</td>\n",
       "      <td>0.82</td>\n",
       "      <td>god-religions-believe-catholic-us-religion-rel...</td>\n",
       "    </tr>\n",
       "    <tr>\n",
       "      <th>59</th>\n",
       "      <td>relationships</td>\n",
       "      <td>0.56</td>\n",
       "      <td>told-true-got-take</td>\n",
       "    </tr>\n",
       "  </tbody>\n",
       "</table>\n",
       "</div>"
      ],
      "text/plain": [
       "           refTopic  refScore  \\\n",
       "55   politics-power      0.31   \n",
       "15    relationships      0.42   \n",
       "0          religion      0.39   \n",
       "87  location-cities      0.63   \n",
       "89   politics-power      0.42   \n",
       "34            music      0.61   \n",
       "4          religion      0.80   \n",
       "8          religion      0.85   \n",
       "11         religion      0.82   \n",
       "59    relationships      0.56   \n",
       "\n",
       "                                             refWords  \n",
       "55                       world-country-money-politics  \n",
       "15                                        told-course  \n",
       "0          god-christians-christian-catholic-religion  \n",
       "87                                          city-cold  \n",
       "89                          states-country-government  \n",
       "34                             salsa-play-dance-music  \n",
       "4    god-says-bible-believe-church-christian-religion  \n",
       "8   says-bible-believe-church-understand-catholic-...  \n",
       "11  god-religions-believe-catholic-us-religion-rel...  \n",
       "59                                 told-true-got-take  "
      ]
     },
     "execution_count": 90,
     "metadata": {},
     "output_type": "execute_result"
    }
   ],
   "source": [
    "cols_to_show = ['refTopic', 'refScore', 'refWords']\n",
    "# showing the predicted topic for a sample of 10 dev set documents\n",
    "dev_df[cols_to_show].sample(10)"
   ]
  },
  {
   "cell_type": "markdown",
   "metadata": {},
   "source": [
    "### Topic words can also be used for summarizing speech utterances\n",
    "\n",
    "As the documents are groupings of utterances from a call and are ordered chronologically, we can also see how the topic evolves over a call.\n",
    "\n",
    "For example, _document 95_ is the start of the call and we might interpret the topic words as small talk. The call then moves to discussing locations (_document 97_), then family, and finally around housing in .\n",
    "\n",
    "This indicates that apart from topic modeling, this method can also be used for **summarization**."
   ]
  },
  {
   "cell_type": "code",
   "execution_count": 121,
   "metadata": {},
   "outputs": [
    {
     "data": {
      "text/html": [
       "<div>\n",
       "<style scoped>\n",
       "    .dataframe tbody tr th:only-of-type {\n",
       "        vertical-align: middle;\n",
       "    }\n",
       "\n",
       "    .dataframe tbody tr th {\n",
       "        vertical-align: top;\n",
       "    }\n",
       "\n",
       "    .dataframe thead th {\n",
       "        text-align: right;\n",
       "    }\n",
       "</style>\n",
       "<table border=\"1\" class=\"dataframe\">\n",
       "  <thead>\n",
       "    <tr style=\"text-align: right;\">\n",
       "      <th></th>\n",
       "      <th>refTopic</th>\n",
       "      <th>refScore</th>\n",
       "      <th>refWords</th>\n",
       "      <th>20h+asr</th>\n",
       "    </tr>\n",
       "  </thead>\n",
       "  <tbody>\n",
       "    <tr>\n",
       "      <th>95</th>\n",
       "      <td>technology</td>\n",
       "      <td>0.36</td>\n",
       "      <td>talking-call-talk-calling-calls</td>\n",
       "      <td>location-cities</td>\n",
       "    </tr>\n",
       "    <tr>\n",
       "      <th>96</th>\n",
       "      <td>technology</td>\n",
       "      <td>0.45</td>\n",
       "      <td>number-phone-email-send-call-calls-computer</td>\n",
       "      <td>location</td>\n",
       "    </tr>\n",
       "    <tr>\n",
       "      <th>97</th>\n",
       "      <td>location-cities</td>\n",
       "      <td>0.48</td>\n",
       "      <td>philadelphia-city-university-long</td>\n",
       "      <td>politics-power</td>\n",
       "    </tr>\n",
       "    <tr>\n",
       "      <th>98</th>\n",
       "      <td>relationships</td>\n",
       "      <td>0.61</td>\n",
       "      <td>life-hard-family-married-someone-children</td>\n",
       "      <td>housing</td>\n",
       "    </tr>\n",
       "    <tr>\n",
       "      <th>99</th>\n",
       "      <td>housing</td>\n",
       "      <td>0.57</td>\n",
       "      <td>apartment-buy-money-house</td>\n",
       "      <td>housing</td>\n",
       "    </tr>\n",
       "  </tbody>\n",
       "</table>\n",
       "</div>"
      ],
      "text/plain": [
       "           refTopic  refScore                                     refWords  \\\n",
       "95       technology      0.36              talking-call-talk-calling-calls   \n",
       "96       technology      0.45  number-phone-email-send-call-calls-computer   \n",
       "97  location-cities      0.48            philadelphia-city-university-long   \n",
       "98    relationships      0.61    life-hard-family-married-someone-children   \n",
       "99          housing      0.57                    apartment-buy-money-house   \n",
       "\n",
       "            20h+asr  \n",
       "95  location-cities  \n",
       "96         location  \n",
       "97   politics-power  \n",
       "98          housing  \n",
       "99          housing  "
      ]
     },
     "execution_count": 121,
     "metadata": {},
     "output_type": "execute_result"
    }
   ],
   "source": [
    "cols_to_show = ['refTopic', 'refScore', 'refWords', '20h+asr']\n",
    "# showing the predicted topic for a sample of 10 dev set documents\n",
    "dev_df[cols_to_show][95:]"
   ]
  },
  {
   "cell_type": "markdown",
   "metadata": {},
   "source": [
    "** Distribution of silver labels **\n",
    "\n",
    "We count the frequency of each predicted topic.\n",
    "\n",
    "**relationships** is the most frequently discussed topic as per the human translations\n",
    "\n",
    "We also compute the statistics for the predicted score, and observe that the mean score is 0.59."
   ]
  },
  {
   "cell_type": "code",
   "execution_count": 91,
   "metadata": {},
   "outputs": [
    {
     "data": {
      "text/plain": [
       "relationships      1211\n",
       "location-cities     591\n",
       "politics-power      355\n",
       "technology          347\n",
       "religion            253\n",
       "housing             253\n",
       "music               237\n",
       "healthcare          214\n",
       "location            169\n",
       "movies              165\n",
       "Name: refTopic, dtype: int64"
      ]
     },
     "metadata": {},
     "output_type": "display_data"
    },
    {
     "data": {
      "text/plain": [
       "count   3,795.00\n",
       "mean        0.60\n",
       "std         0.19\n",
       "min         0.22\n",
       "25%         0.45\n",
       "50%         0.58\n",
       "75%         0.74\n",
       "max         1.00\n",
       "Name: refScore, dtype: float64"
      ]
     },
     "metadata": {},
     "output_type": "display_data"
    },
    {
     "name": "stdout",
     "output_type": "stream",
     "text": [
      "# docs with >= 0.5 score for topic in train set:  2522\n",
      "# docs with >= 0.5 score for topic in dev set:  59\n"
     ]
    }
   ],
   "source": [
    "display(train_df['refTopic'].value_counts())\n",
    "display(train_df['refScore'].describe())\n",
    "print(\"# docs with >= 0.5 score for topic in train set: \", len(train_df[train_df['refScore'] >= 0.5]))\n",
    "print(\"# docs with >= 0.5 score for topic in dev set: \", len(dev_df[dev_df['refScore'] >= 0.5]))"
   ]
  },
  {
   "cell_type": "markdown",
   "metadata": {},
   "source": [
    "## Using ST output to predict topics"
   ]
  },
  {
   "cell_type": "code",
   "execution_count": 92,
   "metadata": {},
   "outputs": [],
   "source": [
    "# cols_to_show = ['refTopic', 'refScore', 'Weiss', '50h', '50h+asr', '20h', '20h+asr', '5h', '5h+asr']\n",
    "cols_to_show = ['refTopic', 'refScore', 'Weiss', '20h', '20h+asr']"
   ]
  },
  {
   "cell_type": "markdown",
   "metadata": {},
   "source": [
    "**Weiss**    : predicted topic using Google translations\n",
    "\n",
    "**20h**      : predicted topic using ST model trained on 20hours of Spanish-English data\n",
    "\n",
    "**20h+asr**  : predicted topic using ST model trained on 20hours of Spanish-English data + English ASR pretraining"
   ]
  },
  {
   "cell_type": "code",
   "execution_count": 93,
   "metadata": {},
   "outputs": [
    {
     "data": {
      "text/html": [
       "<div>\n",
       "<style scoped>\n",
       "    .dataframe tbody tr th:only-of-type {\n",
       "        vertical-align: middle;\n",
       "    }\n",
       "\n",
       "    .dataframe tbody tr th {\n",
       "        vertical-align: top;\n",
       "    }\n",
       "\n",
       "    .dataframe thead th {\n",
       "        text-align: right;\n",
       "    }\n",
       "</style>\n",
       "<table border=\"1\" class=\"dataframe\">\n",
       "  <thead>\n",
       "    <tr style=\"text-align: right;\">\n",
       "      <th></th>\n",
       "      <th>refTopic</th>\n",
       "      <th>refScore</th>\n",
       "      <th>Weiss</th>\n",
       "      <th>20h</th>\n",
       "      <th>20h+asr</th>\n",
       "    </tr>\n",
       "  </thead>\n",
       "  <tbody>\n",
       "    <tr>\n",
       "      <th>35</th>\n",
       "      <td>technology</td>\n",
       "      <td>0.91</td>\n",
       "      <td>technology</td>\n",
       "      <td>technology</td>\n",
       "      <td>technology</td>\n",
       "    </tr>\n",
       "    <tr>\n",
       "      <th>79</th>\n",
       "      <td>technology</td>\n",
       "      <td>0.54</td>\n",
       "      <td>technology</td>\n",
       "      <td>technology</td>\n",
       "      <td>technology</td>\n",
       "    </tr>\n",
       "    <tr>\n",
       "      <th>86</th>\n",
       "      <td>politics-power</td>\n",
       "      <td>0.50</td>\n",
       "      <td>relationships</td>\n",
       "      <td>location-cities</td>\n",
       "      <td>relationships</td>\n",
       "    </tr>\n",
       "    <tr>\n",
       "      <th>98</th>\n",
       "      <td>location</td>\n",
       "      <td>0.56</td>\n",
       "      <td>location</td>\n",
       "      <td>technology</td>\n",
       "      <td>location</td>\n",
       "    </tr>\n",
       "    <tr>\n",
       "      <th>54</th>\n",
       "      <td>location</td>\n",
       "      <td>0.51</td>\n",
       "      <td>location</td>\n",
       "      <td>movies</td>\n",
       "      <td>location</td>\n",
       "    </tr>\n",
       "  </tbody>\n",
       "</table>\n",
       "</div>"
      ],
      "text/plain": [
       "          refTopic  refScore          Weiss              20h        20h+asr\n",
       "35      technology      0.91     technology       technology     technology\n",
       "79      technology      0.54     technology       technology     technology\n",
       "86  politics-power      0.50  relationships  location-cities  relationships\n",
       "98        location      0.56       location       technology       location\n",
       "54        location      0.51       location           movies       location"
      ]
     },
     "execution_count": 93,
     "metadata": {},
     "output_type": "execute_result"
    }
   ],
   "source": [
    "dev2_df[cols_to_show].sample(5)"
   ]
  },
  {
   "cell_type": "markdown",
   "metadata": {},
   "source": [
    "## Computing accuracy"
   ]
  },
  {
   "cell_type": "markdown",
   "metadata": {},
   "source": [
    "**Baseline** : Models trained using ST data only\n",
    "\n",
    "**freq**     : Naive baseline where we predict the most common topic in the training set\n",
    "\n",
    "**+Eng ASR** : Using pretrained ASR models for ST"
   ]
  },
  {
   "cell_type": "code",
   "execution_count": 94,
   "metadata": {},
   "outputs": [
    {
     "name": "stdout",
     "output_type": "stream",
     "text": [
      "model    |  freq |  2.5h |    5h |   10h |   20h |   50h | Weiss\n",
      "-----------------------------------------------------------------\n",
      "baseline |   25% |    8% |   18% |    8% |   50% |   68% |   83%\n",
      "+Eng ASR | ---   |   36% |   46% |   61% |   65% |   74% | ---  \n"
     ]
    }
   ],
   "source": [
    "dev_eval_results = eval_topics(dev_df, dev_pred_topics)"
   ]
  },
  {
   "cell_type": "code",
   "execution_count": 95,
   "metadata": {},
   "outputs": [
    {
     "name": "stdout",
     "output_type": "stream",
     "text": [
      "model    |  freq |  2.5h |    5h |   10h |   20h |   50h | Weiss\n",
      "-----------------------------------------------------------------\n",
      "baseline |   25% |    6% |   14% |    9% |   61% |   76% |   91%\n",
      "+Eng ASR | ---   |   25% |   45% |   72% |   79% |   81% | ---  \n"
     ]
    }
   ],
   "source": [
    "dev2_eval_results = eval_topics(dev2_df, dev2_pred_topics)"
   ]
  },
  {
   "cell_type": "code",
   "execution_count": 96,
   "metadata": {},
   "outputs": [
    {
     "data": {
      "image/png": "[encoded data removed]",
      "text/plain": [
       "<matplotlib.figure.Figure at 0x7fc3959b6860>"
      ]
     },
     "metadata": {},
     "output_type": "display_data"
    }
   ],
   "source": [
    "fig, ax = plt.subplots(figsize=(8,6))\n",
    "ax = sns.barplot(*zip(*dev_eval_results), palette=\"Greens_d\")\n",
    "ax.xaxis.set_tick_params(labelsize=14, rotation=60)\n",
    "ax.yaxis.set_tick_params(labelsize=14)\n",
    "_ = ax.set_ylabel(\"Accuracy %\", fontsize=18)\n",
    "_ = ax.set_xlabel(\"ST model\", fontsize=18)\n",
    "_ = plt.title(\"Fisher dev evaluation\", fontsize=18)"
   ]
  },
  {
   "cell_type": "code",
   "execution_count": 97,
   "metadata": {},
   "outputs": [
    {
     "data": {
      "image/png": "[encoded data removed]",
      "text/plain": [
       "<matplotlib.figure.Figure at 0x7fc3959b95f8>"
      ]
     },
     "metadata": {},
     "output_type": "display_data"
    }
   ],
   "source": [
    "fig, ax = plt.subplots(figsize=(8,6))\n",
    "ax = sns.barplot(*zip(*dev2_eval_results), palette=\"Greens_d\")\n",
    "ax.xaxis.set_tick_params(labelsize=14, rotation=60)\n",
    "ax.yaxis.set_tick_params(labelsize=14)\n",
    "_ = ax.set_ylabel(\"Accuracy %\", fontsize=18)\n",
    "_ = ax.set_xlabel(\"ST model\", fontsize=18)\n",
    "_ = plt.title(\"Fisher dev2 evaluation\", fontsize=18)"
   ]
  },
  {
   "cell_type": "markdown",
   "metadata": {},
   "source": [
    "# Main code"
   ]
  },
  {
   "cell_type": "markdown",
   "metadata": {},
   "source": [
    "https://scikit-learn.org/stable/auto_examples/applications/plot_topics_extraction_with_nmf_lda.html"
   ]
  },
  {
   "cell_type": "code",
   "execution_count": 1,
   "metadata": {},
   "outputs": [],
   "source": [
    "from IPython.display import Image, Audio"
   ]
  },
  {
   "cell_type": "code",
   "execution_count": 2,
   "metadata": {},
   "outputs": [],
   "source": [
    "from scipy.spatial.distance import euclidean\n",
    "from scipy.spatial.distance import cosine\n",
    "\n",
    "import textwrap\n",
    "\n",
    "from sklearn.metrics.pairwise import cosine_similarity\n",
    "\n",
    "import pickle\n",
    "import os\n",
    "import copy\n",
    "from tqdm import tqdm\n",
    "import random\n",
    "import copy\n",
    "\n",
    "import matplotlib.pyplot as plt\n",
    "\n",
    "import seaborn as sns\n",
    "\n",
    "import numpy as np\n",
    "from collections import Counter\n",
    "\n",
    "from scipy import stats\n",
    "import scipy.io.wavfile\n",
    "from IPython.display import Audio\n",
    "from IPython.display import display\n",
    "\n",
    "import time\n",
    "\n",
    "import re\n",
    "import numpy as np\n",
    "import pandas as pd\n",
    "import sklearn\n",
    "from pprint import pprint\n",
    "\n",
    "from collections import Counter\n",
    "\n",
    "from sklearn.feature_extraction.text import TfidfVectorizer, CountVectorizer\n",
    "from sklearn.decomposition import NMF, LatentDirichletAllocation\n",
    "\n",
    "import pyLDAvis\n",
    "import pyLDAvis.sklearn\n",
    "pyLDAvis.enable_notebook()\n",
    "\n",
    "import warnings\n",
    "warnings.filterwarnings(\"ignore\",category=DeprecationWarning)\n",
    "\n",
    "%matplotlib inline"
   ]
  },
  {
   "cell_type": "code",
   "execution_count": 3,
   "metadata": {},
   "outputs": [],
   "source": [
    "tableau20 = [(31, 119, 180), (174, 199, 232), (255, 127, 14), (255, 187, 120),\n",
    "             (44, 160, 44), (152, 223, 138), (214, 39, 40), (255, 152, 150),\n",
    "             (148, 103, 189), (197, 176, 213), (140, 86, 75), (196, 156, 148),\n",
    "             (227, 119, 194), (247, 182, 210), (127, 127, 127), (199, 199, 199),\n",
    "             (188, 189, 34), (219, 219, 141), (23, 190, 207), (158, 218, 229)]\n",
    "# Scale the RGB values to the [0, 1] range, which is the format matplotlib accepts.\n",
    "for i in range(len(tableau20)):\n",
    "    r, g, b = tableau20[i]\n",
    "    tableau20[i] = (r / 255., g / 255., b / 255.)\n",
    "# end for\n"
   ]
  },
  {
   "cell_type": "code",
   "execution_count": 4,
   "metadata": {},
   "outputs": [],
   "source": [
    "# NLTK Stop words\n",
    "from nltk.corpus import stopwords\n",
    "stop_words = stopwords.words('english')+stopwords.words('spanish')\n",
    "stop_words.extend(['hmm', 'mm', 'mhm', 'umm', 'umm', 'aha', \"uh\", \"yes\", \"ah\", \"um\", \"eh\", \"hm\"])"
   ]
  },
  {
   "cell_type": "code",
   "execution_count": 5,
   "metadata": {},
   "outputs": [
    {
     "data": {
      "text/plain": [
       "452"
      ]
     },
     "execution_count": 5,
     "metadata": {},
     "output_type": "execute_result"
    }
   ],
   "source": [
    "len(stop_words)"
   ]
  },
  {
   "cell_type": "markdown",
   "metadata": {},
   "source": [
    "Steps:\n",
    "\n",
    "1. Train topic model using Fisher train text\n",
    "2. Predict topic per call for dev set using reference text\n",
    "3. Predict topic per call for dev set using predicted text"
   ]
  },
  {
   "cell_type": "code",
   "execution_count": 6,
   "metadata": {},
   "outputs": [],
   "source": [
    "def clean_out_str(out_str):\n",
    "    out_str = out_str.replace(\"`\", \"\")\n",
    "    out_str = out_str.replace('\"', '')\n",
    "    out_str = out_str.replace('¿', '')\n",
    "    out_str = out_str.replace(\"''\", \"\")\n",
    "\n",
    "    # for BPE\n",
    "    out_str = out_str.replace(\"@@ \", \"\")\n",
    "    out_str = out_str.replace(\"@@\", \"\")\n",
    "\n",
    "    out_str = out_str.strip()\n",
    "    return out_str\n",
    "\n",
    "\n",
    "# In[46]:\n",
    "\n",
    "\n",
    "def get_out_str(h, dec_key):\n",
    "    h = [w.decode() for w in h]\n",
    "    out_str = \"\"\n",
    "    if dec_key == \"en_w\":\n",
    "        for w in h:\n",
    "            out_str += \"{0:s}\".format(w) if (w.startswith(\"'\") or w==\"n't\") else \" {0:s}\".format(w)\n",
    "    elif \"bpe_w\" in dec_key:\n",
    "        out_str = \" \".join(h)\n",
    "\n",
    "    elif dec_key == \"en_c\":\n",
    "        out_str = \"\".join(h)\n",
    "        \n",
    "    else:\n",
    "        out_str = \" \".join(h)\n",
    "\n",
    "    out_str = clean_out_str(out_str)\n",
    "    return out_str"
   ]
  },
  {
   "cell_type": "code",
   "execution_count": 7,
   "metadata": {},
   "outputs": [],
   "source": [
    "# def get_call_text(key, dec_key):\n",
    "#     call_text = {}\n",
    "#     for utt in map_dict[key]:\n",
    "#         call_id = utt.split(\"-\",1)[0]\n",
    "#         if call_id not in call_text:\n",
    "#             call_text[call_id] = get_out_str(map_dict[key][utt][dec_key], dec_key)\n",
    "#         else:\n",
    "#             call_text[call_id] = \"{0:s} {1:s}\".format(call_text[call_id], \n",
    "#                                                       get_out_str(map_dict[key][utt][dec_key], dec_key))\n",
    "#     return call_text"
   ]
  },
  {
   "cell_type": "markdown",
   "metadata": {},
   "source": [
    "### Loading Fisher data"
   ]
  },
  {
   "cell_type": "code",
   "execution_count": 8,
   "metadata": {},
   "outputs": [],
   "source": [
    "map_dict = pickle.load(open(\"./mfcc_13dim/bpe_map.dict\", \"rb\"))"
   ]
  },
  {
   "cell_type": "code",
   "execution_count": 9,
   "metadata": {},
   "outputs": [],
   "source": [
    "dec_key = \"bpe_w\""
   ]
  },
  {
   "cell_type": "code",
   "execution_count": 10,
   "metadata": {},
   "outputs": [],
   "source": [
    "# train_calls_text = get_call_text(\"fisher_train\", \"bpe_w\")"
   ]
  },
  {
   "cell_type": "code",
   "execution_count": 11,
   "metadata": {},
   "outputs": [
    {
     "data": {
      "text/plain": [
       "3979"
      ]
     },
     "execution_count": 11,
     "metadata": {},
     "output_type": "execute_result"
    }
   ],
   "source": [
    "len(map_dict[\"fisher_dev\"])"
   ]
  },
  {
   "cell_type": "code",
   "execution_count": 12,
   "metadata": {},
   "outputs": [],
   "source": [
    "# segment_name_map = pickle.load(open(\"./mfcc_13dim/kaldi_segment_map.dict\", \"rb\"))"
   ]
  },
  {
   "cell_type": "code",
   "execution_count": 13,
   "metadata": {},
   "outputs": [
    {
     "name": "stderr",
     "output_type": "stream",
     "text": [
      "100%|███████████████████████████████████| 3979/3979 [00:00<00:00, 248709.23it/s]\n",
      "100%|███████████████████████████████████| 3961/3961 [00:00<00:00, 270849.51it/s]\n",
      "100%|███████████████████████████████████| 3641/3641 [00:00<00:00, 297880.91it/s]\n",
      " 26%|████████▎                       | 36066/138819 [00:00<00:00, 360584.69it/s]"
     ]
    },
    {
     "name": "stdout",
     "output_type": "stream",
     "text": [
      "fisher_dev\n",
      "fisher_dev2\n",
      "fisher_test\n",
      "fisher_train\n"
     ]
    },
    {
     "name": "stderr",
     "output_type": "stream",
     "text": [
      "100%|███████████████████████████████| 138819/138819 [00:00<00:00, 416003.04it/s]\n",
      "100%|███████████████████████████████████| 3966/3966 [00:00<00:00, 396657.12it/s]\n",
      "100%|███████████████████████████████████| 1829/1829 [00:00<00:00, 360158.78it/s]\n",
      "100%|█████████████████████████████████| 15080/15080 [00:00<00:00, 442079.65it/s]"
     ]
    },
    {
     "name": "stdout",
     "output_type": "stream",
     "text": [
      "callhome_devtest\n",
      "callhome_evltest\n",
      "callhome_train\n"
     ]
    },
    {
     "name": "stderr",
     "output_type": "stream",
     "text": [
      "\n"
     ]
    }
   ],
   "source": [
    "utts_by_starttime = {}\n",
    "for cat in map_dict:\n",
    "    print(cat)\n",
    "    utts_by_starttime[cat] = {}\n",
    "    for utt in tqdm(map_dict[cat], ncols=80):\n",
    "        call_id = utt.rsplit(\"-\",2)[0]\n",
    "        if call_id not in utts_by_starttime[cat]:\n",
    "            utts_by_starttime[cat][call_id] = []        \n",
    "        utts_by_starttime[cat][call_id].append((utt, map_dict[cat][utt]['seg'][0]['start']))\n",
    "\n",
    "    for call_id in utts_by_starttime[cat]:\n",
    "        utts_by_starttime[cat][call_id] = sorted(utts_by_starttime[cat][call_id], \n",
    "                                                          key=lambda t:t[1])"
   ]
  },
  {
   "cell_type": "code",
   "execution_count": 14,
   "metadata": {},
   "outputs": [],
   "source": [
    "def get_chunk_text(key, utts, dec_key):\n",
    "    chunk_text = \"\"\n",
    "    for utt in utts:\n",
    "        utt_text = map_dict[key][utt][dec_key] if type(map_dict[key][utt][dec_key]) == list else map_dict[key][utt][dec_key][3]\n",
    "        chunk_text = \"{0:s} {1:s}\".format(chunk_text, \n",
    "                                                  get_out_str(utt_text, dec_key))\n",
    "    return chunk_text"
   ]
  },
  {
   "cell_type": "code",
   "execution_count": 15,
   "metadata": {},
   "outputs": [
    {
     "name": "stdout",
     "output_type": "stream",
     "text": [
      "fisher_dev\n",
      "fisher_dev2\n",
      "fisher_test\n",
      "fisher_train\n",
      "callhome_devtest\n",
      "callhome_evltest\n",
      "callhome_train\n"
     ]
    }
   ],
   "source": [
    "NUM_CHUNKS=5\n",
    "group_utts = {}\n",
    "group_text = {}\n",
    "\n",
    "for cat in utts_by_starttime:\n",
    "    print(cat)\n",
    "    group_utts[cat] = []\n",
    "    for call_id in utts_by_starttime[cat]:\n",
    "        call_chunks = [list(chunk) for chunk in np.array_split([u for u,s in utts_by_starttime[cat][call_id]],NUM_CHUNKS)]\n",
    "        group_utts[cat].extend(call_chunks)\n",
    "    group_text[cat]= []\n",
    "    for chunk in group_utts[cat]:\n",
    "        if cat in [\"fisher_dev\", \"fisher_train\"]:\n",
    "            group_text[cat].append(get_chunk_text(cat,chunk,dec_key))\n",
    "        else:\n",
    "            group_text[cat].append(get_chunk_text(cat,chunk,\"en_w\"))\n",
    "        "
   ]
  },
  {
   "cell_type": "code",
   "execution_count": 16,
   "metadata": {},
   "outputs": [
    {
     "data": {
      "text/plain": [
       "100"
      ]
     },
     "execution_count": 16,
     "metadata": {},
     "output_type": "execute_result"
    }
   ],
   "source": [
    "len(group_text['fisher_dev'])"
   ]
  },
  {
   "cell_type": "code",
   "execution_count": 17,
   "metadata": {},
   "outputs": [
    {
     "data": {
      "text/plain": [
       "3795"
      ]
     },
     "execution_count": 17,
     "metadata": {},
     "output_type": "execute_result"
    }
   ],
   "source": [
    "len(group_utts['fisher_train'])"
   ]
  },
  {
   "cell_type": "code",
   "execution_count": 18,
   "metadata": {},
   "outputs": [],
   "source": [
    "num_utts_train = [len(utts_by_starttime[\"fisher_train\"][utts]) for utts in utts_by_starttime[\"fisher_train\"]]"
   ]
  },
  {
   "cell_type": "code",
   "execution_count": 19,
   "metadata": {},
   "outputs": [],
   "source": [
    "call_times = {}\n",
    "for utt in utts_by_starttime[\"fisher_train\"]:\n",
    "    call_times[utt] = utts_by_starttime[\"fisher_train\"][utt][-1][1] / 60"
   ]
  },
  {
   "cell_type": "code",
   "execution_count": 20,
   "metadata": {},
   "outputs": [
    {
     "data": {
      "text/plain": [
       "11.831032718489238"
      ]
     },
     "execution_count": 20,
     "metadata": {},
     "output_type": "execute_result"
    }
   ],
   "source": [
    "np.mean(list(call_times.values()))"
   ]
  },
  {
   "cell_type": "code",
   "execution_count": 21,
   "metadata": {},
   "outputs": [
    {
     "data": {
      "image/png": "[encoded data removed]",
      "text/plain": [
       "<matplotlib.figure.Figure at 0x7fc3c669f470>"
      ]
     },
     "metadata": {},
     "output_type": "display_data"
    }
   ],
   "source": [
    "_ = plt.hist(call_times.values())"
   ]
  },
  {
   "cell_type": "code",
   "execution_count": 22,
   "metadata": {},
   "outputs": [
    {
     "data": {
      "image/png": "[encoded data removed]",
      "text/plain": [
       "<matplotlib.figure.Figure at 0x7fc3c5bb8dd8>"
      ]
     },
     "metadata": {},
     "output_type": "display_data"
    }
   ],
   "source": [
    "_ = plt.hist(num_utts_train)"
   ]
  },
  {
   "cell_type": "code",
   "execution_count": 23,
   "metadata": {},
   "outputs": [],
   "source": [
    "train_counter = Counter(\" \".join([t.strip() for t in group_text['fisher_train']]).split())"
   ]
  },
  {
   "cell_type": "code",
   "execution_count": 24,
   "metadata": {},
   "outputs": [
    {
     "data": {
      "text/plain": [
       "[('the', 55098), ('i', 52158), ('and', 45559), ('that', 37779), ('yes', 35097)]"
      ]
     },
     "execution_count": 24,
     "metadata": {},
     "output_type": "execute_result"
    }
   ],
   "source": [
    "train_counter.most_common(5)"
   ]
  },
  {
   "cell_type": "code",
   "execution_count": 25,
   "metadata": {},
   "outputs": [],
   "source": [
    "dev_utts = []\n",
    "with open(\"./fisher/fisher_dev/fisher_dev_eval.ids\", \"r\", encoding=\"utf-8\") as in_f:\n",
    "    for line in in_f:\n",
    "        dev_utts.append(line.strip())\n",
    "     # end for\n",
    "# end with\n",
    "\n",
    "dev2_utts = []\n",
    "with open(\"fisher/fisher_dev2/fisher_dev2_eval.ids\", \"r\", encoding=\"utf-8\") as in_f:\n",
    "    for u in in_f:\n",
    "        dev2_utts.append(u.strip())"
   ]
  },
  {
   "cell_type": "code",
   "execution_count": 26,
   "metadata": {},
   "outputs": [
    {
     "data": {
      "text/plain": [
       "(3977, 3959)"
      ]
     },
     "execution_count": 26,
     "metadata": {},
     "output_type": "execute_result"
    }
   ],
   "source": [
    "len(dev_utts), len(dev2_utts)"
   ]
  },
  {
   "cell_type": "code",
   "execution_count": 27,
   "metadata": {},
   "outputs": [
    {
     "data": {
      "text/plain": [
       "3641"
      ]
     },
     "execution_count": 27,
     "metadata": {},
     "output_type": "execute_result"
    }
   ],
   "source": [
    "len(map_dict['fisher_test'])"
   ]
  },
  {
   "cell_type": "markdown",
   "metadata": {},
   "source": [
    "### Read predictions"
   ]
  },
  {
   "cell_type": "code",
   "execution_count": 28,
   "metadata": {},
   "outputs": [],
   "source": [
    "google_s2t_hyps_path = os.path.join(\"../chainer2/speech2text/both_fbank_out/\", \"google_s2t_hyps.dict\")\n",
    "google_s2t_hyps = pickle.load(open(google_s2t_hyps_path, \"rb\"))\n",
    "google_hyp_r0 = google_s2t_hyps['fisher_dev_r0']"
   ]
  },
  {
   "cell_type": "code",
   "execution_count": 29,
   "metadata": {},
   "outputs": [],
   "source": [
    "model_pred_files = {\n",
    "    \"2.5h\": \"experiments/nmt_asr/sp-2.5hrs_swbd1-train_nodev_ep25_baseline\",\n",
    "    \"2.5h+asr\": \"experiments/nmt_asr/sp-2.5hrs_swbd1-train_nodev_ep25\",\n",
    "    \"5h\": \"experiments/nmt_asr/sp-5hrs_swbd1-train100k_baseline\",\n",
    "    \"5h+asr\": \"experiments/nmt_asr/sp-5hrs_swbd1-train_nodev_ep25\",\n",
    "    \"10h\": \"experiments/nmt_asr/sp-10hrs_swbd1-train100k_baseline\",\n",
    "    \"10h+asr\": \"experiments/nmt_asr/sp-10hrs_swbd1-train_nodev_ep25_enc-attn-dec\",\n",
    "    \"20h\": \"interspeech_bpe/sp_20hrs_best_bn-nobias_batch-32_buck-n25-w80/\",\n",
    "    \"20h+asr\": \"experiments/nmt_asr/sp-20hrs_swbd1-train-nodev_ep25_enc-attn-dec/\",\n",
    "    \"50h\": \"interspeech_bpe/sp_50hrs_best_bn-nobias_bucks-n25-w80_x0.2/\",\n",
    "    \"50h+asr\": \"experiments/nmt_asr/sp-50hrs_swbd1-train-nodev_ep25/\",\n",
    "#     \"160h\": \"interspeech_bpe/sp_160hrs_cnn-512-9-mfcc-13_drpt-0.3_l2e-4_rnn-3\"\n",
    "}\n",
    "\n",
    "dev_beam_fname = \"fisher_dev_beam_len-norm_min-0_max-300_N-5_K-5_W-0.6.en\"\n",
    "dev2_beam_fname = \"fisher_dev2_beam_len-norm_min-0_max-300_N-5_K-5_W-0.6.en\""
   ]
  },
  {
   "cell_type": "code",
   "execution_count": 30,
   "metadata": {},
   "outputs": [],
   "source": [
    "pred_dev_text = {}\n",
    "pred_dev2_text = {}\n",
    "for k, v in model_pred_files.items():\n",
    "    pred_dev_text[k] = {}\n",
    "    with open(os.path.join(v,dev_beam_fname), \"r\", encoding=\"utf-8\") as in_f:\n",
    "        for i, line in enumerate(in_f):\n",
    "            pred_dev_text[k][dev_utts[i]] = line.strip()\n",
    "    \n",
    "    pred_dev2_text[k] = {}\n",
    "    with open(os.path.join(v,dev2_beam_fname), \"r\", encoding=\"utf-8\") as in_f:\n",
    "        for i, line in enumerate(in_f):\n",
    "            pred_dev2_text[k][dev2_utts[i]] = line.strip()\n",
    "#         end for line\n",
    "#     end with open\n",
    "# end for"
   ]
  },
  {
   "cell_type": "code",
   "execution_count": 31,
   "metadata": {},
   "outputs": [],
   "source": [
    "pred_dev_text[\"Weiss\"] = {}\n",
    "for utt in dev_utts:\n",
    "    pred_dev_text[\"Weiss\"][utt] = \" \".join(google_hyp_r0[utt])"
   ]
  },
  {
   "cell_type": "code",
   "execution_count": 32,
   "metadata": {},
   "outputs": [],
   "source": [
    "google_dev2 = pickle.load(open(\"google/google_s2t_dev2_hyps.dict\",\"rb\"))\n",
    "pred_dev2_text[\"Weiss\"] = {}\n",
    "for utt in dev2_utts:\n",
    "    pred_dev2_text[\"Weiss\"][utt] = \" \".join(google_dev2['fisher_dev_r0'][utt])"
   ]
  },
  {
   "cell_type": "code",
   "execution_count": 33,
   "metadata": {},
   "outputs": [
    {
     "data": {
      "text/plain": [
       "(3977, 3959, 3977, 3959)"
      ]
     },
     "execution_count": 33,
     "metadata": {},
     "output_type": "execute_result"
    }
   ],
   "source": [
    "len(pred_dev_text['20h']), len(pred_dev2_text['20h']), len(pred_dev_text['Weiss']), len(pred_dev2_text['Weiss'])"
   ]
  },
  {
   "cell_type": "markdown",
   "metadata": {},
   "source": [
    "### Group predicted text into chunks"
   ]
  },
  {
   "cell_type": "code",
   "execution_count": 34,
   "metadata": {},
   "outputs": [
    {
     "data": {
      "text/plain": [
       "3979"
      ]
     },
     "execution_count": 34,
     "metadata": {},
     "output_type": "execute_result"
    }
   ],
   "source": [
    "len([u for utts in group_utts['fisher_dev'] for u in utts])"
   ]
  },
  {
   "cell_type": "code",
   "execution_count": 35,
   "metadata": {},
   "outputs": [
    {
     "data": {
      "text/plain": [
       "dict_keys(['2.5h', '2.5h+asr', '5h', '5h+asr', '10h', '10h+asr', '20h', '20h+asr', '50h', '50h+asr', 'Weiss'])"
      ]
     },
     "execution_count": 35,
     "metadata": {},
     "output_type": "execute_result"
    }
   ],
   "source": [
    "pred_dev2_text.keys()"
   ]
  },
  {
   "cell_type": "code",
   "execution_count": 36,
   "metadata": {},
   "outputs": [],
   "source": [
    "group_pred_dev = {}\n",
    "for k in pred_dev_text:\n",
    "    group_pred_dev[k] = []\n",
    "    for utts in group_utts['fisher_dev']:\n",
    "        chunk_text = ''\n",
    "        for u in utts:\n",
    "            if u in pred_dev_text[k]:\n",
    "                chunk_text = \"{0:s} {1:s}\".format(chunk_text, pred_dev_text[k][u])\n",
    "        group_pred_dev[k].append(chunk_text)\n",
    "\n",
    "group_pred_dev2 = {}\n",
    "for k in pred_dev2_text:\n",
    "    group_pred_dev2[k] = []\n",
    "    for utts in group_utts['fisher_dev2']:\n",
    "        chunk_text = ''\n",
    "        for u in utts:\n",
    "            if u in pred_dev2_text[k]:\n",
    "                chunk_text = \"{0:s} {1:s}\".format(chunk_text, pred_dev2_text[k][u])\n",
    "        group_pred_dev2[k].append(chunk_text)"
   ]
  },
  {
   "cell_type": "code",
   "execution_count": 37,
   "metadata": {},
   "outputs": [
    {
     "data": {
      "text/plain": [
       "(\" hi my name is wendy david hi wendy yes oh how are you well i'm from arizona and you in arizona here is connecticut connecticut yeah i believe i spoke with you before repeat that i believe that i i spoke with you last week oh yes um oh now i remember too i'm sorry yes yes your voice sounds familiar oh yes yeah like yes yes i'm from from texas right oh yes you live in texas i mean i had good memories there how are you it's not of a very good memory oh a little bit not much it's that i haven't talked with many people that may be already i for for uh yes yeah uh i didn't speak to many people regarding the survey oh yes this is already my second time yeah doing this oh really ya oh twice but i've participated in other studies as well oh uhhuh okay but in so you are in arizona how is the climate down there oh this this was uh at times it's difficult to understand you oh yes or hear you yeah oh are you on a cell phone or are you at home oh no i'm in my car now oh in your car ya but i'm arriving at my house in like two minutes ohoh and i can probably hear better but uh what was the topic religion what happened oh the topic the religion\",\n",
       " '--------------------------------------------------------------------------------',\n",
       " \" oh they wouldn't be one very good hi yes oh how are you eh i'm in the alicia and you it was no here in philadelphia without anything that and i think that i talked to you before virginia i think that i was going to continue to get married oh yes yes yes eh eh i i don't remember i don't think that too uh well i was in the united states oh yes it is true fine you are you from philadelphia ah yes you you're fine you go to you and but it's very well you like it yes no i moved there ah because there's a lot i haven't spoken to many people that's why look yeah by the point you know and have you spoken to many people for the others oh yes yeah it's my once once i see doing this cool yes ah all that yeah but i think that it's for us or not i am also oh aha okay but the oh so they don't know anything about the screemail eh it is something similar ah yes oh i go there oh that's are we are the lawyers in the house no no i'm fine to my car now oh you are sure yeah but i am there to my house like the doctor oh oh oh and all of them better better or what the topic they are between the message es hello the topic the virginia\")"
      ]
     },
     "execution_count": 37,
     "metadata": {},
     "output_type": "execute_result"
    }
   ],
   "source": [
    "group_text['fisher_dev2'][-10], \"-\"*80, group_pred_dev2['20h+asr'][-10]"
   ]
  },
  {
   "cell_type": "code",
   "execution_count": 38,
   "metadata": {},
   "outputs": [
    {
     "data": {
      "text/plain": [
       "[('fisher_dev', 100),\n",
       " ('fisher_dev2', 100),\n",
       " ('fisher_test', 100),\n",
       " ('fisher_train', 3795),\n",
       " ('callhome_devtest', 100),\n",
       " ('callhome_evltest', 100),\n",
       " ('callhome_train', 400)]"
      ]
     },
     "execution_count": 38,
     "metadata": {},
     "output_type": "execute_result"
    }
   ],
   "source": [
    "[(k,len(group_text[k])) for k in group_text]"
   ]
  },
  {
   "cell_type": "markdown",
   "metadata": {},
   "source": [
    "### SKLEARN\n",
    "\n",
    "\n",
    "https://medium.com/mlreview/topic-modeling-with-scikit-learn-e80d33668730\n",
    "\n",
    "https://github.com/bmabey/pyLDAvis/blob/master/notebooks/sklearn.ipynb\n"
   ]
  },
  {
   "cell_type": "markdown",
   "metadata": {},
   "source": [
    "http://infolab.stanford.edu/~ullman/mmds/ch11.pdf"
   ]
  },
  {
   "cell_type": "code",
   "execution_count": 39,
   "metadata": {},
   "outputs": [],
   "source": [
    "from sklearn import decomposition\n",
    "from scipy import linalg"
   ]
  },
  {
   "cell_type": "code",
   "execution_count": 40,
   "metadata": {},
   "outputs": [],
   "source": [
    "def display_topics(model, feature_names, no_top_words):\n",
    "    topics = {}\n",
    "    print(\"-\"*80)\n",
    "    print(\"{0:>2} | {1:s}\".format(\"id\", \"top {0:d} words\".format(no_top_words)))\n",
    "    print(\"-\"*80)\n",
    "    for topic_idx, topic in enumerate(model.components_):\n",
    "#         print(\"Topic %d:\" % (topic_idx))\n",
    "        top_words = \" \".join([feature_names[i]\n",
    "                        for i in topic.argsort()[:-no_top_words - 1:-1]])\n",
    "        print(\"{0:>2d} | {1:s}\".format(topic_idx, top_words))\n",
    "        topics[topic_idx] = top_words\n",
    "    return topics"
   ]
  },
  {
   "cell_type": "code",
   "execution_count": 41,
   "metadata": {},
   "outputs": [],
   "source": [
    "n_topics = 10\n",
    "n_top_words = 20"
   ]
  },
  {
   "cell_type": "code",
   "execution_count": 42,
   "metadata": {},
   "outputs": [],
   "source": [
    "# data = list(train_calls_text.values())\n",
    "data = group_text[\"fisher_train\"]"
   ]
  },
  {
   "cell_type": "markdown",
   "metadata": {},
   "source": [
    "### Features - counts, and tf-idf"
   ]
  },
  {
   "cell_type": "code",
   "execution_count": 43,
   "metadata": {},
   "outputs": [
    {
     "name": "stdout",
     "output_type": "stream",
     "text": [
      "(3795, 1000)\n",
      "1000\n",
      "['able' 'absolutely' 'abuse' 'abused' 'accent' 'accept' 'according'\n",
      " 'account' 'actually' 'ads']\n"
     ]
    }
   ],
   "source": [
    "tf_vectorizer = CountVectorizer(strip_accents = 'unicode',\n",
    "                                stop_words = stop_words,\n",
    "                                lowercase = True,\n",
    "                                max_df = 0.25, \n",
    "                                min_df = 10,\n",
    "                                max_features=1000)\n",
    "tf = tf_vectorizer.fit_transform(data).todense()\n",
    "print(tf.shape)\n",
    "tf_feature_names = tf_vectorizer.get_feature_names()\n",
    "tf_vocab = np.array(tf_feature_names)\n",
    "print(len(tf_feature_names))\n",
    "print(tf_vocab[:10])"
   ]
  },
  {
   "cell_type": "code",
   "execution_count": 44,
   "metadata": {},
   "outputs": [
    {
     "name": "stdout",
     "output_type": "stream",
     "text": [
      "(3795, 1000)\n",
      "1000\n",
      "['able' 'absolutely' 'abuse' 'abused' 'accent' 'accept' 'according'\n",
      " 'account' 'actually' 'ads']\n"
     ]
    }
   ],
   "source": [
    "tfidf_vectorizer = TfidfVectorizer(strip_accents = 'unicode',\n",
    "                                stop_words = stop_words,\n",
    "                                lowercase = True,\n",
    "                                max_df = 0.25, \n",
    "                                min_df = 10,\n",
    "                                max_features=1000)\n",
    "tfidf = tfidf_vectorizer.fit_transform(data).todense()\n",
    "print(tf.shape)\n",
    "tfidf_feature_names = tfidf_vectorizer.get_feature_names()\n",
    "tfidf_vocab = np.array(tfidf_feature_names)\n",
    "print(len(tfidf_feature_names))\n",
    "print(tfidf_vocab[:10])"
   ]
  },
  {
   "cell_type": "code",
   "execution_count": 45,
   "metadata": {},
   "outputs": [
    {
     "data": {
      "text/plain": [
       "73"
      ]
     },
     "execution_count": 45,
     "metadata": {},
     "output_type": "execute_result"
    }
   ],
   "source": [
    "tf.sum(axis=0)[0,43]"
   ]
  },
  {
   "cell_type": "code",
   "execution_count": 46,
   "metadata": {},
   "outputs": [
    {
     "data": {
      "text/plain": [
       "('argentinians', 73, 7.374562122436507, 'merengue')"
      ]
     },
     "execution_count": 46,
     "metadata": {},
     "output_type": "execute_result"
    }
   ],
   "source": [
    "tf_feature_names[np.argmin(tf.sum(axis=0))], np.min(tf.sum(axis=0)), np.min(tfidf.sum(axis=0)), tfidf_feature_names[np.argmin(tfidf.sum(axis=0))]"
   ]
  },
  {
   "cell_type": "code",
   "execution_count": 47,
   "metadata": {},
   "outputs": [
    {
     "data": {
      "text/plain": [
       "True"
      ]
     },
     "execution_count": 47,
     "metadata": {},
     "output_type": "execute_result"
    }
   ],
   "source": [
    "np.all(tf_vocab == tfidf_vocab)"
   ]
  },
  {
   "cell_type": "markdown",
   "metadata": {},
   "source": [
    "### NMF - Frobenius norm"
   ]
  },
  {
   "cell_type": "code",
   "execution_count": 48,
   "metadata": {},
   "outputs": [
    {
     "name": "stdout",
     "output_type": "stream",
     "text": [
      "Fitting the NMF model (Frobenius norm) with tf-idf features\n",
      "CPU times: user 5.44 s, sys: 1.27 s, total: 6.72 s\n",
      "Wall time: 2.35 s\n"
     ]
    }
   ],
   "source": [
    "print(\"Fitting the NMF model (Frobenius norm) with tf-idf features\")\n",
    "%time nmf = NMF(n_components=n_topics, random_state=1, alpha=.1, l1_ratio=.5).fit(tfidf)"
   ]
  },
  {
   "cell_type": "code",
   "execution_count": 49,
   "metadata": {},
   "outputs": [
    {
     "name": "stdout",
     "output_type": "stream",
     "text": [
      "--------------------------------------------------------------------------------\n",
      "id | top 20 words\n",
      "--------------------------------------------------------------------------------\n",
      " 0 | married old course kids got life someone hard family man children love told true take women girl went huh different\n",
      " 1 | music listen dance play songs salsa radio listening classical rock hear song kind merengue reggaeton rap type dancing sing love\n",
      " 2 | religion church god catholic religions believe religious christian different bible christians jewish homosexuality us world respect homosexual everyone understand says\n",
      " 3 | hello new york city cold philadelphia nice name fine topic hi texas mexico today speaking puerto lived talked long university\n",
      " 4 | united states country power countries world government money help president iraq american come immigrants war latin role politics mexico panama\n",
      " 5 | phone call use computer calls cell internet telephone cellular number talk talking cellphone phones called send company mail calling email\n",
      " 6 | house hundred buy dollars thousand expensive rent money pay apartment houses bought new five renting prices three paying fifty cost\n",
      " 7 | spanish speak english language understand learn speaks languages talk accent words american hispanic french born learned speaking read puerto school\n",
      " 8 | insurance system pay health doctor money jury medical social hospital give free help care medicine expensive doctors dollars take job\n",
      " 9 | movies watch movie commercials tv kids television watching show children commercial violence ones violent programs channels put seen channel parents\n"
     ]
    }
   ],
   "source": [
    "nmf_topics = display_topics(nmf, tfidf_feature_names, n_top_words)"
   ]
  },
  {
   "cell_type": "markdown",
   "metadata": {},
   "source": [
    "### Fisher: List of topics assigned to callers\n",
    "\n",
    "```\n",
    "\"peace\", \"Music\", \"Marriage\", \"Religion\", \"Cell phones\", \n",
    "\"Dating\", \"Telemarketing and SPAM\", \"Politics\", \"Travel\", \n",
    "\"Technical devices\", \"Healthcare\", \"Advertisements\", \"Power\", \n",
    "\"Occupations\", \"Movies\", \"Welfare\", \"Breaking up\", \"Location\", \n",
    "\"Justice\", \"Memories\", \"Crime\", \"Violence against women\", \"Equality\", \n",
    "\"Housing\", \"Immigration\"\n",
    "```"
   ]
  },
  {
   "cell_type": "code",
   "execution_count": 50,
   "metadata": {},
   "outputs": [],
   "source": [
    "nmf_topics_names = {\n",
    "    0: \"relationships\",\n",
    "    1: \"music\",\n",
    "    2: \"religion\",\n",
    "    3: \"location-cities\",\n",
    "    4: \"politics-power\",\n",
    "    5: \"technology\",\n",
    "    6: \"housing\",\n",
    "    7: \"location\",\n",
    "    8: \"healthcare\",\n",
    "    9: \"movies\"\n",
    "}"
   ]
  },
  {
   "cell_type": "markdown",
   "metadata": {},
   "source": [
    "### NMF - KL divergence"
   ]
  },
  {
   "cell_type": "code",
   "execution_count": 51,
   "metadata": {},
   "outputs": [],
   "source": [
    "# print(\"Fitting the NMF model (generalized Kullback-Leibler divergence)\")\n",
    "# %time nmf_kl = NMF(n_components=n_topics, random_state=1, beta_loss='kullback-leibler', \\\n",
    "#                    solver='mu', max_iter=1000, alpha=.1, l1_ratio=.5).fit(tfidf)"
   ]
  },
  {
   "cell_type": "code",
   "execution_count": 52,
   "metadata": {},
   "outputs": [],
   "source": [
    "# nmf_kl_topics = display_topics(nmf_kl, tfidf_feature_names, n_top_words)"
   ]
  },
  {
   "cell_type": "markdown",
   "metadata": {},
   "source": [
    "### LDA"
   ]
  },
  {
   "cell_type": "code",
   "execution_count": 53,
   "metadata": {},
   "outputs": [
    {
     "name": "stdout",
     "output_type": "stream",
     "text": [
      "Fitting LDA models with tf features\n",
      "CPU times: user 10.9 s, sys: 184 ms, total: 11.1 s\n",
      "Wall time: 11.1 s\n"
     ]
    },
    {
     "data": {
      "text/plain": [
       "LatentDirichletAllocation(batch_size=128, doc_topic_prior=None,\n",
       "             evaluate_every=-1, learning_decay=0.7,\n",
       "             learning_method='online', learning_offset=50.0,\n",
       "             max_doc_update_iter=100, max_iter=5, mean_change_tol=0.001,\n",
       "             n_components=10, n_jobs=1, n_topics=None, perp_tol=0.1,\n",
       "             random_state=0, topic_word_prior=None,\n",
       "             total_samples=1000000.0, verbose=0)"
      ]
     },
     "execution_count": 53,
     "metadata": {},
     "output_type": "execute_result"
    }
   ],
   "source": [
    "print(\"Fitting LDA models with tf features\")\n",
    "lda = LatentDirichletAllocation(n_components=n_topics, max_iter=5, \\\n",
    "                                      learning_method='online', \\\n",
    "                                      learning_offset=50., \\\n",
    "                                      random_state=0)\n",
    "%time lda.fit(tf)"
   ]
  },
  {
   "cell_type": "code",
   "execution_count": 54,
   "metadata": {},
   "outputs": [
    {
     "name": "stdout",
     "output_type": "stream",
     "text": [
      "--------------------------------------------------------------------------------\n",
      "id | top 20 words\n",
      "--------------------------------------------------------------------------------\n",
      " 0 | country states united course money countries world problem true women believe understand life another maybe bad different power someone woman\n",
      " 1 | five hundred three went year thousand house come dollars came back states since united wow pay last university four ago\n",
      " 2 | music spanish listen english speak play dance understand latin panama nice hear radio different remember kind country love songs listening\n",
      " 3 | religion god church believe catholic different religions race white religious black christian understand us bible talk family jewish topic christians\n",
      " 4 | call talk hello talked told talking day topic fine called calls remember today name first times someone phone ok hi\n",
      " 5 | phone pay use money buy expensive computer house insurance call internet need true put cell system telephone without health technology\n",
      " 6 | puerto rico jury rican social american war huh system ricans private hispanic security country hispanics bush help iraq come vote\n",
      " 7 | city new nice york cold hello philadelphia name lived mexico fine argentina living texas place long big states angeles canada\n",
      " 8 | watch yea movies tv movie television watching kids commercials show ones seen put commercial internet programs remember shows channel children\n",
      " 9 | married old kids girl children mom family husband love got twenty young friends speak year three take daughter spanish school\n"
     ]
    }
   ],
   "source": [
    "lda_topics = display_topics(lda, tf_feature_names, n_top_words)"
   ]
  },
  {
   "cell_type": "markdown",
   "metadata": {},
   "source": [
    "### Sample predictions"
   ]
  },
  {
   "cell_type": "code",
   "execution_count": 55,
   "metadata": {},
   "outputs": [
    {
     "data": {
      "text/plain": [
       "(array([1., 1.]), (2, 10))"
      ]
     },
     "execution_count": 55,
     "metadata": {},
     "output_type": "execute_result"
    }
   ],
   "source": [
    "hehe = lda.transform(tf_vectorizer.transform(group_text[\"fisher_dev\"][:2]))\n",
    "np.sum(hehe, axis=1), hehe.shape"
   ]
  },
  {
   "cell_type": "code",
   "execution_count": 56,
   "metadata": {},
   "outputs": [
    {
     "data": {
      "text/plain": [
       "(array([0.10305226]),\n",
       " (1, 10),\n",
       " array([[0.        , 0.        , 0.        , 0.05860573, 0.        ,\n",
       "         0.03688709, 0.00755944, 0.        , 0.        , 0.        ]]),\n",
       " array([3]))"
      ]
     },
     "execution_count": 56,
     "metadata": {},
     "output_type": "execute_result"
    }
   ],
   "source": [
    "hehe = nmf.transform(tfidf_vectorizer.transform(group_text[\"fisher_dev\"][20:21]))\n",
    "np.sum(hehe, axis=1), hehe.shape, hehe, np.argmax(hehe, axis=1)"
   ]
  },
  {
   "cell_type": "code",
   "execution_count": 57,
   "metadata": {},
   "outputs": [
    {
     "data": {
      "text/plain": [
       "((1, 1000), (10, 1000))"
      ]
     },
     "execution_count": 57,
     "metadata": {},
     "output_type": "execute_result"
    }
   ],
   "source": [
    "sample_doc = tfidf_vectorizer.transform(group_text[\"fisher_dev\"][20:21]).todense()\n",
    "sample_doc.shape, nmf.components_.shape"
   ]
  },
  {
   "cell_type": "code",
   "execution_count": 58,
   "metadata": {},
   "outputs": [
    {
     "data": {
      "text/plain": [
       "(matrix([[0.33824545, 0.05943457, 0.06312202, 1.15350641, 0.06944396,\n",
       "          0.63650755, 0.30869131, 0.06995264, 0.05921587, 0.04230616]]), 3)"
      ]
     },
     "execution_count": 58,
     "metadata": {},
     "output_type": "execute_result"
    }
   ],
   "source": [
    "sample_topic = sample_doc @ nmf.components_.T\n",
    "sample_topic, np.argmax(sample_topic)"
   ]
  },
  {
   "cell_type": "code",
   "execution_count": 59,
   "metadata": {},
   "outputs": [],
   "source": [
    "W = nmf.transform(tfidf)"
   ]
  },
  {
   "cell_type": "code",
   "execution_count": 60,
   "metadata": {},
   "outputs": [
    {
     "data": {
      "text/plain": [
       "(3795, 10)"
      ]
     },
     "execution_count": 60,
     "metadata": {},
     "output_type": "execute_result"
    }
   ],
   "source": [
    "W.shape"
   ]
  },
  {
   "cell_type": "code",
   "execution_count": 61,
   "metadata": {},
   "outputs": [
    {
     "data": {
      "text/plain": [
       "(3, array([0.02697718, 0.        , 0.        , 0.08017833, 0.        ,\n",
       "        0.02447819, 0.        , 0.02229256, 0.        , 0.00396046]))"
      ]
     },
     "execution_count": 61,
     "metadata": {},
     "output_type": "execute_result"
    }
   ],
   "source": [
    "np.argmax(W[20]), W[20]"
   ]
  },
  {
   "cell_type": "markdown",
   "metadata": {},
   "source": [
    "### Predict topic"
   ]
  },
  {
   "cell_type": "code",
   "execution_count": 62,
   "metadata": {},
   "outputs": [],
   "source": [
    "def pred_topic(text, features, model, topics, topics_names=None, normalize=False):\n",
    "    # Transform text into features - e.g. tf or tfidf\n",
    "    features_transform = features.transform(text)\n",
    "    # Compute and normalize scores\n",
    "    pred_scores = model.transform(features_transform)\n",
    "    if normalize:\n",
    "        pred_scores = pred_scores / np.sum(pred_scores, axis=1)[:, np.newaxis]\n",
    "    \n",
    "    # Store words in text which are also the most frequently occurring in the topic\n",
    "    topic_words_in_text = []\n",
    "    pred_topics = []\n",
    "    pred_topic_prob = []\n",
    "    for i,chunk in enumerate(text):\n",
    "        chunk_words = set(chunk.strip().split())\n",
    "        pred_topic = np.argmax(pred_scores[i])\n",
    "        if topics_names:\n",
    "            pred_topics.append(topics_names[pred_topic])\n",
    "        else:\n",
    "            pred_topics.append(pred_topic)\n",
    "        topic_words = set(topics[pred_topic].strip().split())\n",
    "        topic_words_in_text.append(\"-\".join(topic_words & chunk_words))\n",
    "        pred_topic_prob.append(pred_scores[i][pred_topic])\n",
    "    #print(pred_scores, pred_scores.sum(axis=1), np.argmax(pred_scores, axis=1))\n",
    "    return list(zip(pred_topics, pred_topic_prob, topic_words_in_text))"
   ]
  },
  {
   "cell_type": "code",
   "execution_count": 63,
   "metadata": {},
   "outputs": [
    {
     "data": {
      "text/plain": [
       "[(7, 0.4968447744083819, 'living-long-cold-name'),\n",
       " (3,\n",
       "  0.6017711529180274,\n",
       "  'god-family-church-believe-christian-christians-catholic-us-religion-religious')]"
      ]
     },
     "execution_count": 63,
     "metadata": {},
     "output_type": "execute_result"
    }
   ],
   "source": [
    "pred_topic(group_text[\"fisher_dev\"][:2], tf_vectorizer, lda, lda_topics, normalize=False)"
   ]
  },
  {
   "cell_type": "code",
   "execution_count": 64,
   "metadata": {},
   "outputs": [
    {
     "data": {
      "text/plain": [
       "[('religion',\n",
       "  0.39337701436267386,\n",
       "  'god-christians-christian-catholic-religion'),\n",
       " ('religion',\n",
       "  0.7532935574933017,\n",
       "  'god-says-church-believe-christian-christians-catholic-us-religion-religious')]"
      ]
     },
     "execution_count": 64,
     "metadata": {},
     "output_type": "execute_result"
    }
   ],
   "source": [
    "pred_topic(group_text[\"fisher_dev\"][:2], tfidf_vectorizer, nmf, nmf_topics, nmf_topics_names, normalize=True)"
   ]
  },
  {
   "cell_type": "markdown",
   "metadata": {},
   "source": [
    "### Fisher dev set topics"
   ]
  },
  {
   "cell_type": "code",
   "execution_count": 65,
   "metadata": {},
   "outputs": [],
   "source": [
    "pd.options.display.float_format = '{:,.2f}'.format"
   ]
  },
  {
   "cell_type": "code",
   "execution_count": 66,
   "metadata": {},
   "outputs": [
    {
     "data": {
      "text/plain": [
       "100"
      ]
     },
     "execution_count": 66,
     "metadata": {},
     "output_type": "execute_result"
    }
   ],
   "source": [
    "len(pred_topic(group_text[\"fisher_dev\"], tfidf_vectorizer, nmf, nmf_topics, normalize=True))"
   ]
  },
  {
   "cell_type": "code",
   "execution_count": 67,
   "metadata": {},
   "outputs": [],
   "source": [
    "train_ref_topics = pred_topic(group_text[\"fisher_train\"], tfidf_vectorizer, \n",
    "                            nmf, nmf_topics, nmf_topics_names, normalize=True)\n",
    "\n",
    "dev_ref_topics = pred_topic(group_text[\"fisher_dev\"], tfidf_vectorizer, \n",
    "                            nmf, nmf_topics, nmf_topics_names, normalize=True)\n",
    "\n",
    "dev2_ref_topics = pred_topic(group_text[\"fisher_dev2\"], tfidf_vectorizer, \n",
    "                            nmf, nmf_topics, nmf_topics_names, normalize=True)"
   ]
  },
  {
   "cell_type": "code",
   "execution_count": 68,
   "metadata": {},
   "outputs": [],
   "source": [
    "train_df = pd.DataFrame(train_ref_topics, columns=[\"refTopic\", \"refScore\", \"refWords\"])\n",
    "dev_df = pd.DataFrame(dev_ref_topics, columns=[\"refTopic\", \"refScore\", \"refWords\"])\n",
    "dev2_df = pd.DataFrame(dev2_ref_topics, columns=[\"refTopic\", \"refScore\", \"refWords\"])"
   ]
  },
  {
   "cell_type": "code",
   "execution_count": 69,
   "metadata": {},
   "outputs": [
    {
     "data": {
      "text/html": [
       "<div>\n",
       "<style scoped>\n",
       "    .dataframe tbody tr th:only-of-type {\n",
       "        vertical-align: middle;\n",
       "    }\n",
       "\n",
       "    .dataframe tbody tr th {\n",
       "        vertical-align: top;\n",
       "    }\n",
       "\n",
       "    .dataframe thead th {\n",
       "        text-align: right;\n",
       "    }\n",
       "</style>\n",
       "<table border=\"1\" class=\"dataframe\">\n",
       "  <thead>\n",
       "    <tr style=\"text-align: right;\">\n",
       "      <th></th>\n",
       "      <th>refTopic</th>\n",
       "      <th>refScore</th>\n",
       "      <th>refWords</th>\n",
       "    </tr>\n",
       "  </thead>\n",
       "  <tbody>\n",
       "    <tr>\n",
       "      <th>0</th>\n",
       "      <td>location-cities</td>\n",
       "      <td>0.92</td>\n",
       "      <td>philadelphia-name-speaking-nice-hello-york-new</td>\n",
       "    </tr>\n",
       "    <tr>\n",
       "      <th>1</th>\n",
       "      <td>relationships</td>\n",
       "      <td>0.94</td>\n",
       "      <td>married-old-children-got</td>\n",
       "    </tr>\n",
       "    <tr>\n",
       "      <th>2</th>\n",
       "      <td>relationships</td>\n",
       "      <td>0.86</td>\n",
       "      <td>family-kids-different-women-old</td>\n",
       "    </tr>\n",
       "    <tr>\n",
       "      <th>3</th>\n",
       "      <td>relationships</td>\n",
       "      <td>0.56</td>\n",
       "      <td>life-went-family-kids-told-different</td>\n",
       "    </tr>\n",
       "    <tr>\n",
       "      <th>4</th>\n",
       "      <td>relationships</td>\n",
       "      <td>0.53</td>\n",
       "      <td>life-married-family-love</td>\n",
       "    </tr>\n",
       "  </tbody>\n",
       "</table>\n",
       "</div>"
      ],
      "text/plain": [
       "          refTopic  refScore                                        refWords\n",
       "0  location-cities      0.92  philadelphia-name-speaking-nice-hello-york-new\n",
       "1    relationships      0.94                        married-old-children-got\n",
       "2    relationships      0.86                 family-kids-different-women-old\n",
       "3    relationships      0.56            life-went-family-kids-told-different\n",
       "4    relationships      0.53                        life-married-family-love"
      ]
     },
     "execution_count": 69,
     "metadata": {},
     "output_type": "execute_result"
    }
   ],
   "source": [
    "train_df.head()"
   ]
  },
  {
   "cell_type": "code",
   "execution_count": 70,
   "metadata": {},
   "outputs": [
    {
     "data": {
      "text/plain": [
       "relationships      1211\n",
       "location-cities     591\n",
       "politics-power      355\n",
       "technology          347\n",
       "religion            253\n",
       "housing             253\n",
       "music               237\n",
       "healthcare          214\n",
       "location            169\n",
       "movies              165\n",
       "Name: refTopic, dtype: int64"
      ]
     },
     "execution_count": 70,
     "metadata": {},
     "output_type": "execute_result"
    }
   ],
   "source": [
    "train_df[\"refTopic\"].value_counts()"
   ]
  },
  {
   "cell_type": "code",
   "execution_count": 71,
   "metadata": {},
   "outputs": [
    {
     "data": {
      "text/html": [
       "<div>\n",
       "<style scoped>\n",
       "    .dataframe tbody tr th:only-of-type {\n",
       "        vertical-align: middle;\n",
       "    }\n",
       "\n",
       "    .dataframe tbody tr th {\n",
       "        vertical-align: top;\n",
       "    }\n",
       "\n",
       "    .dataframe thead th {\n",
       "        text-align: right;\n",
       "    }\n",
       "</style>\n",
       "<table border=\"1\" class=\"dataframe\">\n",
       "  <thead>\n",
       "    <tr style=\"text-align: right;\">\n",
       "      <th></th>\n",
       "      <th>refTopic</th>\n",
       "      <th>refScore</th>\n",
       "      <th>refWords</th>\n",
       "    </tr>\n",
       "  </thead>\n",
       "  <tbody>\n",
       "    <tr>\n",
       "      <th>0</th>\n",
       "      <td>religion</td>\n",
       "      <td>0.39</td>\n",
       "      <td>god-christians-christian-catholic-religion</td>\n",
       "    </tr>\n",
       "    <tr>\n",
       "      <th>1</th>\n",
       "      <td>religion</td>\n",
       "      <td>0.75</td>\n",
       "      <td>god-says-church-believe-christian-christians-c...</td>\n",
       "    </tr>\n",
       "    <tr>\n",
       "      <th>2</th>\n",
       "      <td>religion</td>\n",
       "      <td>0.48</td>\n",
       "      <td>god-catholic-church</td>\n",
       "    </tr>\n",
       "    <tr>\n",
       "      <th>3</th>\n",
       "      <td>relationships</td>\n",
       "      <td>0.67</td>\n",
       "      <td>got-family-kids-take-married-went-old-children</td>\n",
       "    </tr>\n",
       "    <tr>\n",
       "      <th>4</th>\n",
       "      <td>religion</td>\n",
       "      <td>0.80</td>\n",
       "      <td>god-says-bible-believe-church-christian-religion</td>\n",
       "    </tr>\n",
       "    <tr>\n",
       "      <th>5</th>\n",
       "      <td>religion</td>\n",
       "      <td>0.91</td>\n",
       "      <td>religions-world-believe-catholic-us-religion</td>\n",
       "    </tr>\n",
       "    <tr>\n",
       "      <th>6</th>\n",
       "      <td>religion</td>\n",
       "      <td>0.85</td>\n",
       "      <td>says-world-church-believe-us-religion-religious</td>\n",
       "    </tr>\n",
       "    <tr>\n",
       "      <th>7</th>\n",
       "      <td>religion</td>\n",
       "      <td>0.69</td>\n",
       "      <td>god-church-believe-christian-christians-cathol...</td>\n",
       "    </tr>\n",
       "    <tr>\n",
       "      <th>8</th>\n",
       "      <td>religion</td>\n",
       "      <td>0.85</td>\n",
       "      <td>says-bible-believe-church-understand-catholic-...</td>\n",
       "    </tr>\n",
       "    <tr>\n",
       "      <th>9</th>\n",
       "      <td>religion</td>\n",
       "      <td>0.80</td>\n",
       "      <td>god-says-religions-different-church-believe-un...</td>\n",
       "    </tr>\n",
       "  </tbody>\n",
       "</table>\n",
       "</div>"
      ],
      "text/plain": [
       "        refTopic  refScore                                           refWords\n",
       "0       religion      0.39         god-christians-christian-catholic-religion\n",
       "1       religion      0.75  god-says-church-believe-christian-christians-c...\n",
       "2       religion      0.48                                god-catholic-church\n",
       "3  relationships      0.67     got-family-kids-take-married-went-old-children\n",
       "4       religion      0.80   god-says-bible-believe-church-christian-religion\n",
       "5       religion      0.91       religions-world-believe-catholic-us-religion\n",
       "6       religion      0.85    says-world-church-believe-us-religion-religious\n",
       "7       religion      0.69  god-church-believe-christian-christians-cathol...\n",
       "8       religion      0.85  says-bible-believe-church-understand-catholic-...\n",
       "9       religion      0.80  god-says-religions-different-church-believe-un..."
      ]
     },
     "execution_count": 71,
     "metadata": {},
     "output_type": "execute_result"
    }
   ],
   "source": [
    "dev_df.head(10)"
   ]
  },
  {
   "cell_type": "code",
   "execution_count": 72,
   "metadata": {},
   "outputs": [
    {
     "data": {
      "text/plain": [
       "relationships      25\n",
       "location-cities    17\n",
       "religion           14\n",
       "music              14\n",
       "technology          9\n",
       "housing             6\n",
       "politics-power      5\n",
       "location            4\n",
       "healthcare          4\n",
       "movies              2\n",
       "Name: refTopic, dtype: int64"
      ]
     },
     "execution_count": 72,
     "metadata": {},
     "output_type": "execute_result"
    }
   ],
   "source": [
    "dev_df[\"refTopic\"].value_counts()"
   ]
  },
  {
   "cell_type": "code",
   "execution_count": 73,
   "metadata": {},
   "outputs": [
    {
     "name": "stderr",
     "output_type": "stream",
     "text": [
      "/afs/inf.ed.ac.uk/group/project/lowres/work/miniconda3/envs/chainer3/lib/python3.6/site-packages/ipykernel_launcher.py:7: RuntimeWarning: invalid value encountered in true_divide\n",
      "  import sys\n"
     ]
    }
   ],
   "source": [
    "dev_pred_topics = {}\n",
    "\n",
    "for m in group_pred_dev:\n",
    "    dev_pred_topics[m] = pred_topic(group_pred_dev[m], tfidf_vectorizer, \n",
    "                                    nmf, nmf_topics, nmf_topics_names, normalize=True)\n",
    "    \n",
    "    dev_df[m] = pd.Series([t for t,s,c in dev_pred_topics[m]])\n",
    "\n",
    "dev2_pred_topics = {}\n",
    "for m in group_pred_dev2:\n",
    "    dev2_pred_topics[m] = pred_topic(group_pred_dev2[m], tfidf_vectorizer, \n",
    "                                    nmf, nmf_topics, nmf_topics_names, normalize=True)\n",
    "    dev2_df[m] = pd.Series([t for t,s,c in dev2_pred_topics[m]])\n"
   ]
  },
  {
   "cell_type": "markdown",
   "metadata": {},
   "source": [
    "### Baselines - random and most frequent topic"
   ]
  },
  {
   "cell_type": "code",
   "execution_count": 74,
   "metadata": {},
   "outputs": [],
   "source": [
    "# dev_df['mostFreq'] = dev_df[\"refTopic\"].mode()[0]\n",
    "# dev2_df['mostFreq'] = dev2_df[\"refTopic\"].mode()[0]\n",
    "dev_df['mostFreq'] = train_df[\"refTopic\"].mode()[0]\n",
    "dev2_df['mostFreq'] = train_df[\"refTopic\"].mode()[0]"
   ]
  },
  {
   "cell_type": "code",
   "execution_count": 75,
   "metadata": {},
   "outputs": [
    {
     "data": {
      "text/html": [
       "<div>\n",
       "<style scoped>\n",
       "    .dataframe tbody tr th:only-of-type {\n",
       "        vertical-align: middle;\n",
       "    }\n",
       "\n",
       "    .dataframe tbody tr th {\n",
       "        vertical-align: top;\n",
       "    }\n",
       "\n",
       "    .dataframe thead th {\n",
       "        text-align: right;\n",
       "    }\n",
       "</style>\n",
       "<table border=\"1\" class=\"dataframe\">\n",
       "  <thead>\n",
       "    <tr style=\"text-align: right;\">\n",
       "      <th></th>\n",
       "      <th>refTopic</th>\n",
       "      <th>refScore</th>\n",
       "      <th>refWords</th>\n",
       "      <th>2.5h</th>\n",
       "      <th>2.5h+asr</th>\n",
       "      <th>5h</th>\n",
       "      <th>5h+asr</th>\n",
       "      <th>10h</th>\n",
       "      <th>10h+asr</th>\n",
       "      <th>20h</th>\n",
       "      <th>20h+asr</th>\n",
       "      <th>50h</th>\n",
       "      <th>50h+asr</th>\n",
       "      <th>Weiss</th>\n",
       "      <th>mostFreq</th>\n",
       "    </tr>\n",
       "  </thead>\n",
       "  <tbody>\n",
       "    <tr>\n",
       "      <th>0</th>\n",
       "      <td>religion</td>\n",
       "      <td>0.39</td>\n",
       "      <td>god-christians-christian-catholic-religion</td>\n",
       "      <td>location-cities</td>\n",
       "      <td>location-cities</td>\n",
       "      <td>location-cities</td>\n",
       "      <td>location-cities</td>\n",
       "      <td>location-cities</td>\n",
       "      <td>location-cities</td>\n",
       "      <td>religion</td>\n",
       "      <td>location-cities</td>\n",
       "      <td>location-cities</td>\n",
       "      <td>location-cities</td>\n",
       "      <td>religion</td>\n",
       "      <td>relationships</td>\n",
       "    </tr>\n",
       "    <tr>\n",
       "      <th>1</th>\n",
       "      <td>religion</td>\n",
       "      <td>0.75</td>\n",
       "      <td>god-says-church-believe-christian-christians-c...</td>\n",
       "      <td>politics-power</td>\n",
       "      <td>religion</td>\n",
       "      <td>location-cities</td>\n",
       "      <td>religion</td>\n",
       "      <td>politics-power</td>\n",
       "      <td>religion</td>\n",
       "      <td>religion</td>\n",
       "      <td>religion</td>\n",
       "      <td>religion</td>\n",
       "      <td>religion</td>\n",
       "      <td>religion</td>\n",
       "      <td>relationships</td>\n",
       "    </tr>\n",
       "    <tr>\n",
       "      <th>2</th>\n",
       "      <td>religion</td>\n",
       "      <td>0.48</td>\n",
       "      <td>god-catholic-church</td>\n",
       "      <td>politics-power</td>\n",
       "      <td>location-cities</td>\n",
       "      <td>location-cities</td>\n",
       "      <td>relationships</td>\n",
       "      <td>politics-power</td>\n",
       "      <td>location-cities</td>\n",
       "      <td>relationships</td>\n",
       "      <td>relationships</td>\n",
       "      <td>religion</td>\n",
       "      <td>relationships</td>\n",
       "      <td>religion</td>\n",
       "      <td>relationships</td>\n",
       "    </tr>\n",
       "    <tr>\n",
       "      <th>3</th>\n",
       "      <td>relationships</td>\n",
       "      <td>0.67</td>\n",
       "      <td>got-family-kids-take-married-went-old-children</td>\n",
       "      <td>politics-power</td>\n",
       "      <td>location-cities</td>\n",
       "      <td>technology</td>\n",
       "      <td>relationships</td>\n",
       "      <td>location-cities</td>\n",
       "      <td>location-cities</td>\n",
       "      <td>location-cities</td>\n",
       "      <td>relationships</td>\n",
       "      <td>relationships</td>\n",
       "      <td>relationships</td>\n",
       "      <td>relationships</td>\n",
       "      <td>relationships</td>\n",
       "    </tr>\n",
       "    <tr>\n",
       "      <th>4</th>\n",
       "      <td>religion</td>\n",
       "      <td>0.80</td>\n",
       "      <td>god-says-bible-believe-church-christian-religion</td>\n",
       "      <td>politics-power</td>\n",
       "      <td>politics-power</td>\n",
       "      <td>housing</td>\n",
       "      <td>location</td>\n",
       "      <td>politics-power</td>\n",
       "      <td>religion</td>\n",
       "      <td>location</td>\n",
       "      <td>religion</td>\n",
       "      <td>religion</td>\n",
       "      <td>religion</td>\n",
       "      <td>religion</td>\n",
       "      <td>relationships</td>\n",
       "    </tr>\n",
       "  </tbody>\n",
       "</table>\n",
       "</div>"
      ],
      "text/plain": [
       "        refTopic  refScore                                           refWords  \\\n",
       "0       religion      0.39         god-christians-christian-catholic-religion   \n",
       "1       religion      0.75  god-says-church-believe-christian-christians-c...   \n",
       "2       religion      0.48                                god-catholic-church   \n",
       "3  relationships      0.67     got-family-kids-take-married-went-old-children   \n",
       "4       religion      0.80   god-says-bible-believe-church-christian-religion   \n",
       "\n",
       "              2.5h         2.5h+asr               5h           5h+asr  \\\n",
       "0  location-cities  location-cities  location-cities  location-cities   \n",
       "1   politics-power         religion  location-cities         religion   \n",
       "2   politics-power  location-cities  location-cities    relationships   \n",
       "3   politics-power  location-cities       technology    relationships   \n",
       "4   politics-power   politics-power          housing         location   \n",
       "\n",
       "               10h          10h+asr              20h          20h+asr  \\\n",
       "0  location-cities  location-cities         religion  location-cities   \n",
       "1   politics-power         religion         religion         religion   \n",
       "2   politics-power  location-cities    relationships    relationships   \n",
       "3  location-cities  location-cities  location-cities    relationships   \n",
       "4   politics-power         religion         location         religion   \n",
       "\n",
       "               50h          50h+asr          Weiss       mostFreq  \n",
       "0  location-cities  location-cities       religion  relationships  \n",
       "1         religion         religion       religion  relationships  \n",
       "2         religion    relationships       religion  relationships  \n",
       "3    relationships    relationships  relationships  relationships  \n",
       "4         religion         religion       religion  relationships  "
      ]
     },
     "execution_count": 75,
     "metadata": {},
     "output_type": "execute_result"
    }
   ],
   "source": [
    "dev_df.head(5)"
   ]
  },
  {
   "cell_type": "code",
   "execution_count": 76,
   "metadata": {},
   "outputs": [
    {
     "data": {
      "text/plain": [
       "0.68"
      ]
     },
     "execution_count": 76,
     "metadata": {},
     "output_type": "execute_result"
    }
   ],
   "source": [
    "sklearn.metrics.accuracy_score(dev_df[\"refTopic\"], dev_df['50h'])"
   ]
  },
  {
   "cell_type": "code",
   "execution_count": 77,
   "metadata": {},
   "outputs": [
    {
     "data": {
      "text/plain": [
       "dict_keys(['2.5h', '2.5h+asr', '5h', '5h+asr', '10h', '10h+asr', '20h', '20h+asr', '50h', '50h+asr', 'Weiss'])"
      ]
     },
     "execution_count": 77,
     "metadata": {},
     "output_type": "execute_result"
    }
   ],
   "source": [
    "dev_pred_topics.keys()"
   ]
  },
  {
   "cell_type": "code",
   "execution_count": 78,
   "metadata": {},
   "outputs": [],
   "source": [
    "base_model = ['mostFreq']\n",
    "st_models = ['2.5h', '5h', '10h', '20h', '50h']\n",
    "st_asr_models = [m+\"+asr\" for m in st_models]\n",
    "sota_model = ['Weiss']"
   ]
  },
  {
   "cell_type": "code",
   "execution_count": 79,
   "metadata": {},
   "outputs": [],
   "source": [
    "def eval_topics(topic_df, pred_text):\n",
    "    eval_results = []\n",
    "#     sets_to_eval = [\"mostFreq\"] + list(pred_text.keys())\n",
    "#     print(\"{0:10s} | {1:>10s} | \")\n",
    "    #print(\"{0:10s} | {1:10s} | {2:10s}\".format(\"model\", \"accuracy\", \"mutual info\"))\n",
    "#     print(\"{0:10s} | {1:>10s}\".format(\"model\", \"accuracy\"))\n",
    "#     print(\"-\"*40)\n",
    "    print(\"{0:8s} | {1:s}\".format(\"model\", \" | \".join([\"{0:>5s}\".format(m) \n",
    "                                                        for m in [\"freq\"]+st_models+sota_model])))\n",
    "    print(\"-\"*65)\n",
    "    acc_scores = []\n",
    "    for s in base_model+st_models+sota_model:\n",
    "        acc = sklearn.metrics.accuracy_score(topic_df[\"refTopic\"], topic_df[s])*100\n",
    "        #nmi = sklearn.metrics.normalized_mutual_info_score(topic_df[\"refTopic\"], topic_df[s])\n",
    "#         eval_results.append((s, acc))\n",
    "        acc_scores.append(acc)\n",
    "    \n",
    "    print(\"{0:8s} | {1:s}\".format(\"baseline\", \" | \".join([\"{0:>4.0f}%\".format(a) \n",
    "                                                            for a in acc_scores])))\n",
    "    \n",
    "    acc_scores = []\n",
    "    for s in st_asr_models:\n",
    "        acc = sklearn.metrics.accuracy_score(topic_df[\"refTopic\"], topic_df[s])*100\n",
    "        #nmi = sklearn.metrics.normalized_mutual_info_score(topic_df[\"refTopic\"], topic_df[s])\n",
    "#         eval_results.append((s, acc))\n",
    "        acc_scores.append(acc)\n",
    "    \n",
    "    print(\"{0:8s} | {1:5s} | {2:s} | {3:5s}\".format(\"+Eng ASR\", \"---\", \" | \".join([\"{0:>4.0f}%\".format(a) \n",
    "                                                            for a in acc_scores]), \"---\"))\n",
    "    \n",
    "    acc_scores = []\n",
    "    for s in (base_model+list(pred_text.keys())):\n",
    "        acc = sklearn.metrics.accuracy_score(topic_df[\"refTopic\"], topic_df[s])*100\n",
    "        eval_results.append((s, acc))\n",
    "    \n",
    "    return eval_results"
   ]
  },
  {
   "cell_type": "code",
   "execution_count": 80,
   "metadata": {},
   "outputs": [
    {
     "name": "stdout",
     "output_type": "stream",
     "text": [
      "model    |  freq |  2.5h |    5h |   10h |   20h |   50h | Weiss\n",
      "-----------------------------------------------------------------\n",
      "baseline |   25% |    8% |   18% |    8% |   50% |   68% |   83%\n",
      "+Eng ASR | ---   |   36% |   46% |   61% |   65% |   74% | ---  \n"
     ]
    }
   ],
   "source": [
    "dev_eval_results = eval_topics(dev_df, dev_pred_topics)"
   ]
  },
  {
   "cell_type": "code",
   "execution_count": 81,
   "metadata": {},
   "outputs": [
    {
     "name": "stdout",
     "output_type": "stream",
     "text": [
      "model    |  freq |  2.5h |    5h |   10h |   20h |   50h | Weiss\n",
      "-----------------------------------------------------------------\n",
      "baseline |   25% |    6% |   14% |    9% |   61% |   76% |   91%\n",
      "+Eng ASR | ---   |   25% |   45% |   72% |   79% |   81% | ---  \n"
     ]
    }
   ],
   "source": [
    "dev2_eval_results = eval_topics(dev2_df, dev2_pred_topics)"
   ]
  },
  {
   "cell_type": "code",
   "execution_count": 82,
   "metadata": {},
   "outputs": [
    {
     "data": {
      "text/plain": [
       "<Container object of 12 artists>"
      ]
     },
     "execution_count": 82,
     "metadata": {},
     "output_type": "execute_result"
    },
    {
     "data": {
      "image/png": "[encoded data removed]",
      "text/plain": [
       "<matplotlib.figure.Figure at 0x7fc395a1bc18>"
      ]
     },
     "metadata": {},
     "output_type": "display_data"
    }
   ],
   "source": [
    "plt.bar(*zip(*dev_eval_results))"
   ]
  },
  {
   "cell_type": "code",
   "execution_count": 83,
   "metadata": {},
   "outputs": [
    {
     "data": {
      "image/png": "[encoded data removed]",
      "text/plain": [
       "<matplotlib.figure.Figure at 0x7fc395a12b38>"
      ]
     },
     "metadata": {},
     "output_type": "display_data"
    }
   ],
   "source": [
    "ax = sns.barplot(*zip(*dev_eval_results), palette=\"Greens_d\")"
   ]
  },
  {
   "cell_type": "code",
   "execution_count": 84,
   "metadata": {},
   "outputs": [
    {
     "data": {
      "text/html": [
       "<div>\n",
       "<style scoped>\n",
       "    .dataframe tbody tr th:only-of-type {\n",
       "        vertical-align: middle;\n",
       "    }\n",
       "\n",
       "    .dataframe tbody tr th {\n",
       "        vertical-align: top;\n",
       "    }\n",
       "\n",
       "    .dataframe thead th {\n",
       "        text-align: right;\n",
       "    }\n",
       "</style>\n",
       "<table border=\"1\" class=\"dataframe\">\n",
       "  <thead>\n",
       "    <tr style=\"text-align: right;\">\n",
       "      <th></th>\n",
       "      <th>refTopic</th>\n",
       "      <th>refScore</th>\n",
       "      <th>refWords</th>\n",
       "      <th>2.5h</th>\n",
       "      <th>2.5h+asr</th>\n",
       "      <th>5h</th>\n",
       "      <th>5h+asr</th>\n",
       "      <th>10h</th>\n",
       "      <th>10h+asr</th>\n",
       "      <th>20h</th>\n",
       "      <th>20h+asr</th>\n",
       "      <th>50h</th>\n",
       "      <th>50h+asr</th>\n",
       "      <th>Weiss</th>\n",
       "      <th>mostFreq</th>\n",
       "    </tr>\n",
       "  </thead>\n",
       "  <tbody>\n",
       "    <tr>\n",
       "      <th>0</th>\n",
       "      <td>relationships</td>\n",
       "      <td>0.43</td>\n",
       "      <td>got-went-married-course-told</td>\n",
       "      <td>location-cities</td>\n",
       "      <td>location-cities</td>\n",
       "      <td>relationships</td>\n",
       "      <td>location-cities</td>\n",
       "      <td>location-cities</td>\n",
       "      <td>technology</td>\n",
       "      <td>relationships</td>\n",
       "      <td>location-cities</td>\n",
       "      <td>relationships</td>\n",
       "      <td>relationships</td>\n",
       "      <td>relationships</td>\n",
       "      <td>relationships</td>\n",
       "    </tr>\n",
       "    <tr>\n",
       "      <th>1</th>\n",
       "      <td>relationships</td>\n",
       "      <td>0.53</td>\n",
       "      <td>life-hard-got-married-children</td>\n",
       "      <td>politics-power</td>\n",
       "      <td>location-cities</td>\n",
       "      <td>location-cities</td>\n",
       "      <td>housing</td>\n",
       "      <td>politics-power</td>\n",
       "      <td>relationships</td>\n",
       "      <td>housing</td>\n",
       "      <td>housing</td>\n",
       "      <td>housing</td>\n",
       "      <td>housing</td>\n",
       "      <td>relationships</td>\n",
       "      <td>relationships</td>\n",
       "    </tr>\n",
       "    <tr>\n",
       "      <th>2</th>\n",
       "      <td>relationships</td>\n",
       "      <td>0.74</td>\n",
       "      <td>life-got-went-married-love-children</td>\n",
       "      <td>politics-power</td>\n",
       "      <td>relationships</td>\n",
       "      <td>location-cities</td>\n",
       "      <td>relationships</td>\n",
       "      <td>housing</td>\n",
       "      <td>relationships</td>\n",
       "      <td>relationships</td>\n",
       "      <td>relationships</td>\n",
       "      <td>relationships</td>\n",
       "      <td>relationships</td>\n",
       "      <td>relationships</td>\n",
       "      <td>relationships</td>\n",
       "    </tr>\n",
       "    <tr>\n",
       "      <th>3</th>\n",
       "      <td>relationships</td>\n",
       "      <td>0.99</td>\n",
       "      <td>life-got-family-married-course-love</td>\n",
       "      <td>politics-power</td>\n",
       "      <td>housing</td>\n",
       "      <td>location-cities</td>\n",
       "      <td>relationships</td>\n",
       "      <td>politics-power</td>\n",
       "      <td>relationships</td>\n",
       "      <td>relationships</td>\n",
       "      <td>relationships</td>\n",
       "      <td>relationships</td>\n",
       "      <td>relationships</td>\n",
       "      <td>relationships</td>\n",
       "      <td>relationships</td>\n",
       "    </tr>\n",
       "    <tr>\n",
       "      <th>4</th>\n",
       "      <td>relationships</td>\n",
       "      <td>0.50</td>\n",
       "      <td>life-true-take-someone</td>\n",
       "      <td>housing</td>\n",
       "      <td>relationships</td>\n",
       "      <td>location</td>\n",
       "      <td>relationships</td>\n",
       "      <td>politics-power</td>\n",
       "      <td>healthcare</td>\n",
       "      <td>housing</td>\n",
       "      <td>healthcare</td>\n",
       "      <td>relationships</td>\n",
       "      <td>relationships</td>\n",
       "      <td>relationships</td>\n",
       "      <td>relationships</td>\n",
       "    </tr>\n",
       "    <tr>\n",
       "      <th>5</th>\n",
       "      <td>relationships</td>\n",
       "      <td>0.54</td>\n",
       "      <td>kids-married-true-man-old-children</td>\n",
       "      <td>politics-power</td>\n",
       "      <td>politics-power</td>\n",
       "      <td>housing</td>\n",
       "      <td>location-cities</td>\n",
       "      <td>location-cities</td>\n",
       "      <td>location-cities</td>\n",
       "      <td>location-cities</td>\n",
       "      <td>relationships</td>\n",
       "      <td>relationships</td>\n",
       "      <td>location-cities</td>\n",
       "      <td>relationships</td>\n",
       "      <td>relationships</td>\n",
       "    </tr>\n",
       "    <tr>\n",
       "      <th>6</th>\n",
       "      <td>relationships</td>\n",
       "      <td>0.83</td>\n",
       "      <td>take-told-course-women-children</td>\n",
       "      <td>politics-power</td>\n",
       "      <td>relationships</td>\n",
       "      <td>location-cities</td>\n",
       "      <td>relationships</td>\n",
       "      <td>politics-power</td>\n",
       "      <td>politics-power</td>\n",
       "      <td>relationships</td>\n",
       "      <td>relationships</td>\n",
       "      <td>relationships</td>\n",
       "      <td>relationships</td>\n",
       "      <td>relationships</td>\n",
       "      <td>relationships</td>\n",
       "    </tr>\n",
       "    <tr>\n",
       "      <th>7</th>\n",
       "      <td>relationships</td>\n",
       "      <td>0.75</td>\n",
       "      <td>course-different-man-women-children</td>\n",
       "      <td>politics-power</td>\n",
       "      <td>technology</td>\n",
       "      <td>location-cities</td>\n",
       "      <td>music</td>\n",
       "      <td>politics-power</td>\n",
       "      <td>relationships</td>\n",
       "      <td>housing</td>\n",
       "      <td>relationships</td>\n",
       "      <td>relationships</td>\n",
       "      <td>relationships</td>\n",
       "      <td>relationships</td>\n",
       "      <td>relationships</td>\n",
       "    </tr>\n",
       "    <tr>\n",
       "      <th>8</th>\n",
       "      <td>relationships</td>\n",
       "      <td>0.87</td>\n",
       "      <td>hard-got-kids-married-true-different-love-wome...</td>\n",
       "      <td>politics-power</td>\n",
       "      <td>relationships</td>\n",
       "      <td>relationships</td>\n",
       "      <td>relationships</td>\n",
       "      <td>politics-power</td>\n",
       "      <td>relationships</td>\n",
       "      <td>relationships</td>\n",
       "      <td>relationships</td>\n",
       "      <td>relationships</td>\n",
       "      <td>relationships</td>\n",
       "      <td>relationships</td>\n",
       "      <td>relationships</td>\n",
       "    </tr>\n",
       "    <tr>\n",
       "      <th>9</th>\n",
       "      <td>relationships</td>\n",
       "      <td>0.65</td>\n",
       "      <td>take-married-told-true-man-women-children</td>\n",
       "      <td>politics-power</td>\n",
       "      <td>politics-power</td>\n",
       "      <td>location-cities</td>\n",
       "      <td>housing</td>\n",
       "      <td>location-cities</td>\n",
       "      <td>relationships</td>\n",
       "      <td>housing</td>\n",
       "      <td>relationships</td>\n",
       "      <td>housing</td>\n",
       "      <td>relationships</td>\n",
       "      <td>relationships</td>\n",
       "      <td>relationships</td>\n",
       "    </tr>\n",
       "    <tr>\n",
       "      <th>10</th>\n",
       "      <td>music</td>\n",
       "      <td>0.90</td>\n",
       "      <td>type-dance-listen-salsa-merengue-music-dancing</td>\n",
       "      <td>politics-power</td>\n",
       "      <td>music</td>\n",
       "      <td>relationships</td>\n",
       "      <td>music</td>\n",
       "      <td>politics-power</td>\n",
       "      <td>music</td>\n",
       "      <td>music</td>\n",
       "      <td>music</td>\n",
       "      <td>music</td>\n",
       "      <td>music</td>\n",
       "      <td>music</td>\n",
       "      <td>relationships</td>\n",
       "    </tr>\n",
       "    <tr>\n",
       "      <th>11</th>\n",
       "      <td>music</td>\n",
       "      <td>0.50</td>\n",
       "      <td>sing-play-dance-music</td>\n",
       "      <td>politics-power</td>\n",
       "      <td>location-cities</td>\n",
       "      <td>technology</td>\n",
       "      <td>music</td>\n",
       "      <td>politics-power</td>\n",
       "      <td>music</td>\n",
       "      <td>music</td>\n",
       "      <td>music</td>\n",
       "      <td>music</td>\n",
       "      <td>music</td>\n",
       "      <td>music</td>\n",
       "      <td>relationships</td>\n",
       "    </tr>\n",
       "    <tr>\n",
       "      <th>12</th>\n",
       "      <td>music</td>\n",
       "      <td>0.81</td>\n",
       "      <td>play-sing-song-salsa-merengue-music</td>\n",
       "      <td>politics-power</td>\n",
       "      <td>music</td>\n",
       "      <td>relationships</td>\n",
       "      <td>music</td>\n",
       "      <td>politics-power</td>\n",
       "      <td>music</td>\n",
       "      <td>music</td>\n",
       "      <td>music</td>\n",
       "      <td>music</td>\n",
       "      <td>music</td>\n",
       "      <td>music</td>\n",
       "      <td>relationships</td>\n",
       "    </tr>\n",
       "    <tr>\n",
       "      <th>13</th>\n",
       "      <td>music</td>\n",
       "      <td>0.47</td>\n",
       "      <td>play-songs-sing-song-listen-music-rap</td>\n",
       "      <td>politics-power</td>\n",
       "      <td>music</td>\n",
       "      <td>location</td>\n",
       "      <td>music</td>\n",
       "      <td>politics-power</td>\n",
       "      <td>location</td>\n",
       "      <td>music</td>\n",
       "      <td>music</td>\n",
       "      <td>music</td>\n",
       "      <td>location</td>\n",
       "      <td>music</td>\n",
       "      <td>relationships</td>\n",
       "    </tr>\n",
       "    <tr>\n",
       "      <th>14</th>\n",
       "      <td>music</td>\n",
       "      <td>0.61</td>\n",
       "      <td>listen-play-listening-music</td>\n",
       "      <td>politics-power</td>\n",
       "      <td>music</td>\n",
       "      <td>location-cities</td>\n",
       "      <td>music</td>\n",
       "      <td>politics-power</td>\n",
       "      <td>music</td>\n",
       "      <td>music</td>\n",
       "      <td>music</td>\n",
       "      <td>music</td>\n",
       "      <td>music</td>\n",
       "      <td>music</td>\n",
       "      <td>relationships</td>\n",
       "    </tr>\n",
       "    <tr>\n",
       "      <th>15</th>\n",
       "      <td>music</td>\n",
       "      <td>0.79</td>\n",
       "      <td>listening-kind-dance-listen-music-rock-dancing</td>\n",
       "      <td>location-cities</td>\n",
       "      <td>music</td>\n",
       "      <td>location-cities</td>\n",
       "      <td>music</td>\n",
       "      <td>location-cities</td>\n",
       "      <td>music</td>\n",
       "      <td>music</td>\n",
       "      <td>music</td>\n",
       "      <td>music</td>\n",
       "      <td>music</td>\n",
       "      <td>music</td>\n",
       "      <td>relationships</td>\n",
       "    </tr>\n",
       "    <tr>\n",
       "      <th>16</th>\n",
       "      <td>music</td>\n",
       "      <td>0.81</td>\n",
       "      <td>kind-type-songs-sing-music-rock-hear</td>\n",
       "      <td>location-cities</td>\n",
       "      <td>music</td>\n",
       "      <td>location-cities</td>\n",
       "      <td>music</td>\n",
       "      <td>politics-power</td>\n",
       "      <td>music</td>\n",
       "      <td>music</td>\n",
       "      <td>music</td>\n",
       "      <td>music</td>\n",
       "      <td>music</td>\n",
       "      <td>music</td>\n",
       "      <td>relationships</td>\n",
       "    </tr>\n",
       "    <tr>\n",
       "      <th>17</th>\n",
       "      <td>relationships</td>\n",
       "      <td>0.73</td>\n",
       "      <td>got-went-married-old-huh</td>\n",
       "      <td>politics-power</td>\n",
       "      <td>location-cities</td>\n",
       "      <td>housing</td>\n",
       "      <td>relationships</td>\n",
       "      <td>location-cities</td>\n",
       "      <td>relationships</td>\n",
       "      <td>location-cities</td>\n",
       "      <td>relationships</td>\n",
       "      <td>relationships</td>\n",
       "      <td>relationships</td>\n",
       "      <td>relationships</td>\n",
       "      <td>relationships</td>\n",
       "    </tr>\n",
       "    <tr>\n",
       "      <th>18</th>\n",
       "      <td>location</td>\n",
       "      <td>0.57</td>\n",
       "      <td>speak-english-spanish-born-learned</td>\n",
       "      <td>politics-power</td>\n",
       "      <td>politics-power</td>\n",
       "      <td>location-cities</td>\n",
       "      <td>politics-power</td>\n",
       "      <td>location-cities</td>\n",
       "      <td>location</td>\n",
       "      <td>location</td>\n",
       "      <td>location</td>\n",
       "      <td>location</td>\n",
       "      <td>location</td>\n",
       "      <td>location</td>\n",
       "      <td>relationships</td>\n",
       "    </tr>\n",
       "    <tr>\n",
       "      <th>19</th>\n",
       "      <td>relationships</td>\n",
       "      <td>0.40</td>\n",
       "      <td>different-went-family</td>\n",
       "      <td>politics-power</td>\n",
       "      <td>location-cities</td>\n",
       "      <td>location-cities</td>\n",
       "      <td>religion</td>\n",
       "      <td>location-cities</td>\n",
       "      <td>relationships</td>\n",
       "      <td>housing</td>\n",
       "      <td>religion</td>\n",
       "      <td>religion</td>\n",
       "      <td>religion</td>\n",
       "      <td>relationships</td>\n",
       "      <td>relationships</td>\n",
       "    </tr>\n",
       "  </tbody>\n",
       "</table>\n",
       "</div>"
      ],
      "text/plain": [
       "         refTopic  refScore  \\\n",
       "0   relationships      0.43   \n",
       "1   relationships      0.53   \n",
       "2   relationships      0.74   \n",
       "3   relationships      0.99   \n",
       "4   relationships      0.50   \n",
       "5   relationships      0.54   \n",
       "6   relationships      0.83   \n",
       "7   relationships      0.75   \n",
       "8   relationships      0.87   \n",
       "9   relationships      0.65   \n",
       "10          music      0.90   \n",
       "11          music      0.50   \n",
       "12          music      0.81   \n",
       "13          music      0.47   \n",
       "14          music      0.61   \n",
       "15          music      0.79   \n",
       "16          music      0.81   \n",
       "17  relationships      0.73   \n",
       "18       location      0.57   \n",
       "19  relationships      0.40   \n",
       "\n",
       "                                             refWords             2.5h  \\\n",
       "0                        got-went-married-course-told  location-cities   \n",
       "1                      life-hard-got-married-children   politics-power   \n",
       "2                 life-got-went-married-love-children   politics-power   \n",
       "3                 life-got-family-married-course-love   politics-power   \n",
       "4                              life-true-take-someone          housing   \n",
       "5                  kids-married-true-man-old-children   politics-power   \n",
       "6                     take-told-course-women-children   politics-power   \n",
       "7                 course-different-man-women-children   politics-power   \n",
       "8   hard-got-kids-married-true-different-love-wome...   politics-power   \n",
       "9           take-married-told-true-man-women-children   politics-power   \n",
       "10     type-dance-listen-salsa-merengue-music-dancing   politics-power   \n",
       "11                              sing-play-dance-music   politics-power   \n",
       "12                play-sing-song-salsa-merengue-music   politics-power   \n",
       "13              play-songs-sing-song-listen-music-rap   politics-power   \n",
       "14                        listen-play-listening-music   politics-power   \n",
       "15     listening-kind-dance-listen-music-rock-dancing  location-cities   \n",
       "16               kind-type-songs-sing-music-rock-hear  location-cities   \n",
       "17                           got-went-married-old-huh   politics-power   \n",
       "18                 speak-english-spanish-born-learned   politics-power   \n",
       "19                              different-went-family   politics-power   \n",
       "\n",
       "           2.5h+asr               5h           5h+asr              10h  \\\n",
       "0   location-cities    relationships  location-cities  location-cities   \n",
       "1   location-cities  location-cities          housing   politics-power   \n",
       "2     relationships  location-cities    relationships          housing   \n",
       "3           housing  location-cities    relationships   politics-power   \n",
       "4     relationships         location    relationships   politics-power   \n",
       "5    politics-power          housing  location-cities  location-cities   \n",
       "6     relationships  location-cities    relationships   politics-power   \n",
       "7        technology  location-cities            music   politics-power   \n",
       "8     relationships    relationships    relationships   politics-power   \n",
       "9    politics-power  location-cities          housing  location-cities   \n",
       "10            music    relationships            music   politics-power   \n",
       "11  location-cities       technology            music   politics-power   \n",
       "12            music    relationships            music   politics-power   \n",
       "13            music         location            music   politics-power   \n",
       "14            music  location-cities            music   politics-power   \n",
       "15            music  location-cities            music  location-cities   \n",
       "16            music  location-cities            music   politics-power   \n",
       "17  location-cities          housing    relationships  location-cities   \n",
       "18   politics-power  location-cities   politics-power  location-cities   \n",
       "19  location-cities  location-cities         religion  location-cities   \n",
       "\n",
       "            10h+asr              20h          20h+asr            50h  \\\n",
       "0        technology    relationships  location-cities  relationships   \n",
       "1     relationships          housing          housing        housing   \n",
       "2     relationships    relationships    relationships  relationships   \n",
       "3     relationships    relationships    relationships  relationships   \n",
       "4        healthcare          housing       healthcare  relationships   \n",
       "5   location-cities  location-cities    relationships  relationships   \n",
       "6    politics-power    relationships    relationships  relationships   \n",
       "7     relationships          housing    relationships  relationships   \n",
       "8     relationships    relationships    relationships  relationships   \n",
       "9     relationships          housing    relationships        housing   \n",
       "10            music            music            music          music   \n",
       "11            music            music            music          music   \n",
       "12            music            music            music          music   \n",
       "13         location            music            music          music   \n",
       "14            music            music            music          music   \n",
       "15            music            music            music          music   \n",
       "16            music            music            music          music   \n",
       "17    relationships  location-cities    relationships  relationships   \n",
       "18         location         location         location       location   \n",
       "19    relationships          housing         religion       religion   \n",
       "\n",
       "            50h+asr          Weiss       mostFreq  \n",
       "0     relationships  relationships  relationships  \n",
       "1           housing  relationships  relationships  \n",
       "2     relationships  relationships  relationships  \n",
       "3     relationships  relationships  relationships  \n",
       "4     relationships  relationships  relationships  \n",
       "5   location-cities  relationships  relationships  \n",
       "6     relationships  relationships  relationships  \n",
       "7     relationships  relationships  relationships  \n",
       "8     relationships  relationships  relationships  \n",
       "9     relationships  relationships  relationships  \n",
       "10            music          music  relationships  \n",
       "11            music          music  relationships  \n",
       "12            music          music  relationships  \n",
       "13         location          music  relationships  \n",
       "14            music          music  relationships  \n",
       "15            music          music  relationships  \n",
       "16            music          music  relationships  \n",
       "17    relationships  relationships  relationships  \n",
       "18         location       location  relationships  \n",
       "19         religion  relationships  relationships  "
      ]
     },
     "execution_count": 84,
     "metadata": {},
     "output_type": "execute_result"
    }
   ],
   "source": [
    "dev2_df.head(20)"
   ]
  },
  {
   "cell_type": "code",
   "execution_count": null,
   "metadata": {},
   "outputs": [],
   "source": []
  }
 ],
 "metadata": {
  "kernelspec": {
   "display_name": "Python 3",
   "language": "python",
   "name": "python3"
  },
  "language_info": {
   "codemirror_mode": {
    "name": "ipython",
    "version": 3
   },
   "file_extension": ".py",
   "mimetype": "text/x-python",
   "name": "python",
   "nbconvert_exporter": "python",
   "pygments_lexer": "ipython3",
   "version": "3.6.3"
  }
 },
 "nbformat": 4,
 "nbformat_minor": 2
}
