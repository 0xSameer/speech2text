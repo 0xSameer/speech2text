{
 "cells": [
  {
   "cell_type": "code",
   "execution_count": 1,
   "metadata": {
    "collapsed": true
   },
   "outputs": [],
   "source": [
    "import json\n",
    "import pickle\n",
    "import pprint\n",
    "import os\n",
    "from basics import *"
   ]
  },
  {
   "cell_type": "code",
   "execution_count": 41,
   "metadata": {},
   "outputs": [
    {
     "name": "stdout",
     "output_type": "stream",
     "text": [
      "cnn details:\n",
      "{'in_channels': None, 'out_channels': 32, 'ksize': (3, 3), 'stride': (2, 2), 'pad': (1, 1)}\n",
      "{'in_channels': None, 'out_channels': 32, 'ksize': (3, 3), 'stride': (2, 2), 'pad': (1, 1)}\n"
     ]
    }
   ],
   "source": [
    "model_cfg = {}\n",
    "train_cfg = {}\n",
    "model_cfg['data_path'] = \"./both_fbank_out\"\n",
    "model_cfg['wavs_path'] = os.path.join(model_cfg['data_path'], \"wavs\")\n",
    "config_name = \"sp_config_1\"\n",
    "model_cfg['model_dir'] = config_name\n",
    "model_cfg['model_fname'] = os.path.join(model_cfg['model_dir'], 'seq2seq.model')\n",
    "model_cfg['train_log'] = os.path.join(model_cfg['model_dir'], 'train.log')\n",
    "model_cfg['dev_log'] = os.path.join(model_cfg['model_dir'], 'dev.log')\n",
    "\n",
    "# ------------------------------------\n",
    "# FIXED params\n",
    "# ------------------------------------\n",
    "# encoder key\n",
    "# 'es_w', 'es_c', or 'sp', and: # 'en_w', 'en_c', or 'sp'\n",
    "model_cfg['enc_key'] = 'sp'\n",
    "model_cfg['dec_key'] = 'en_w'\n",
    "model_cfg['sp_dim'] = 40\n",
    "model_cfg['stemmify'] = False\n",
    "model_cfg['bi_rnn'] = False\n",
    "model_cfg['train_set'] = 'fisher_train'\n",
    "model_cfg['dev_set'] = 'fisher_dev'\n",
    "\n",
    "model_cfg['rnn_unit'] = RNN_GRU\n",
    "model_cfg['ln'] = True\n",
    "model_cfg['bn'] = True\n",
    "model_cfg['attn'] = SOFT_ATTN\n",
    "\n",
    "model_cfg['l2']=1e-4\n",
    "model_cfg['grad_clip']=10\n",
    "model_cfg['rnn_dropout']=0.3\n",
    "model_cfg['out_dropout']=0.3\n",
    "\n",
    "model_cfg['hidden_units'] = 512\n",
    "model_cfg['embedding_units'] = 256\n",
    "model_cfg['attn_units'] = 128\n",
    "\n",
    "model_cfg['enc_layers'] = 3\n",
    "model_cfg['dec_layers'] = 3\n",
    "model_cfg['highway_layers'] = 0\n",
    "\n",
    "model_cfg['buckets_num'] = 15\n",
    "model_cfg['buckets_width'] = 128\n",
    "model_cfg['max_en_pred'] = 150\n",
    "model_cfg['train_scale'] = 1\n",
    "model_cfg['seed'] = \"random_seed_{0:d}\".format(model_cfg['train_scale'])\n",
    "\n",
    "k_size_1, stride_1, filters_1 = 3, 2, 32\n",
    "k_size_2, stride_2, filters_2 = 3, 2, 32\n",
    "model_cfg['cnn_layers'] = [\n",
    "        {\"in_channels\": None,\n",
    "        \"out_channels\": 32,\n",
    "        \"ksize\": (k_size_1,3),\n",
    "        \"stride\": (stride_1,2),\n",
    "        \"pad\": (k_size_1 // 2, 3 // 2)},\n",
    "        {\"in_channels\": None,\n",
    "        \"out_channels\": 32,\n",
    "        \"ksize\": (k_size_2,3),\n",
    "        \"stride\": (stride_2,2),\n",
    "        \"pad\": (k_size_2 // 2, 3 // 2)},\n",
    "]\n",
    "\n",
    "# cnn_str = \"cnn-{0:d}-{1:d}-{2:d}--{3:d}-{4:d}-{5:d}\".format(k_size_1, stride_1, filters_1, \n",
    "#                                                             k_size_2, stride_2, filters_2)\n",
    "\n",
    "\n",
    "# ------------------------------------\n",
    "# VARIABLE params\n",
    "# ------------------------------------\n",
    "train_cfg['gpuid'] = 0\n",
    "train_cfg['lr'] = 0.01\n",
    "train_cfg['teach_ratio'] = 0.8\n",
    "train_cfg['optimizer'] = OPT_ADAM\n",
    "# default noise function is recommended to be either: 0.01, 0.3 or 1.0\n",
    "train_cfg['grad_noise_eta'] = 0.01\n",
    "\n",
    "train_cfg['iters_save_model'] = 5\n",
    "train_cfg['speech_noise']=0.250\n",
    "train_cfg['iter_weight_noise'] = 0\n",
    "train_cfg['weight_noise_mean'] = 0.0\n",
    "train_cfg['weight_noise_sigma'] = 0.001\n",
    "train_cfg['batch_size'] = {'max': 256, 'med': 200, 'min': 100, 'scale':1}\n",
    "\n",
    "# model_prep_buckets.buckets_main(model_cfg['data_path'], num_b, width_b, enc_key)\n",
    "print(\"cnn details:\")\n",
    "for d in model_cfg['cnn_layers']:\n",
    "    print(d)"
   ]
  },
  {
   "cell_type": "code",
   "execution_count": 42,
   "metadata": {
    "collapsed": true
   },
   "outputs": [],
   "source": [
    "if not os.path.exists(model_cfg['model_dir']):\n",
    "    os.makedirs(model_cfg['model_dir'])"
   ]
  },
  {
   "cell_type": "code",
   "execution_count": 43,
   "metadata": {
    "collapsed": true
   },
   "outputs": [],
   "source": [
    "model_cfg_name = os.path.join(model_cfg['model_dir'], 'model_cfg.json')\n",
    "train_cfg_name = os.path.join(model_cfg['model_dir'], 'train_cfg.json')"
   ]
  },
  {
   "cell_type": "code",
   "execution_count": 44,
   "metadata": {
    "collapsed": true
   },
   "outputs": [],
   "source": [
    "with open(model_cfg_name, \"w\") as model_f:\n",
    "    json.dump(model_cfg, model_f, indent=4)"
   ]
  },
  {
   "cell_type": "code",
   "execution_count": 45,
   "metadata": {
    "collapsed": true
   },
   "outputs": [],
   "source": [
    "with open(train_cfg_name, \"w\") as train_f:\n",
    "    json.dump(train_cfg, train_f, indent=4)"
   ]
  },
  {
   "cell_type": "code",
   "execution_count": 46,
   "metadata": {
    "collapsed": true
   },
   "outputs": [],
   "source": [
    "with open(model_cfg_name, \"r\") as model_f:\n",
    "    model_cfg = json.load(model_f) "
   ]
  },
  {
   "cell_type": "code",
   "execution_count": 8,
   "metadata": {
    "collapsed": true
   },
   "outputs": [],
   "source": [
    "import prep_buckets"
   ]
  },
  {
   "cell_type": "code",
   "execution_count": 18,
   "metadata": {},
   "outputs": [
    {
     "name": "stdout",
     "output_type": "stream",
     "text": [
      "--------------------------------------------------\n",
      "loading info_dict from=./both_fbank_out/info.dict\n",
      "--------------------------------------------------\n",
      "creating buckets for: fisher_dev\n"
     ]
    },
    {
     "name": "stderr",
     "output_type": "stream",
     "text": [
      "100%|██████████| 3977/3977 [00:00<00:00, 533254.92it/s]\n",
      "100%|██████████| 3959/3959 [00:00<00:00, 550845.90it/s]\n",
      "100%|██████████| 3641/3641 [00:00<00:00, 377240.77it/s]\n",
      " 31%|███       | 42707/138708 [00:00<00:00, 427065.32it/s]"
     ]
    },
    {
     "name": "stdout",
     "output_type": "stream",
     "text": [
      "creating buckets for key: sp\n",
      "creating buckets for: fisher_dev2\n",
      "creating buckets for key: sp\n",
      "creating buckets for: fisher_test\n",
      "creating buckets for key: sp\n",
      "creating buckets for: fisher_train\n",
      "creating buckets for key: sp\n"
     ]
    },
    {
     "name": "stderr",
     "output_type": "stream",
     "text": [
      "100%|██████████| 138708/138708 [00:00<00:00, 442929.20it/s]\n",
      "100%|██████████| 3801/3801 [00:00<00:00, 512770.56it/s]\n",
      "100%|██████████| 1824/1824 [00:00<00:00, 421115.79it/s]\n",
      "100%|██████████| 14284/14284 [00:00<00:00, 490831.95it/s]\n"
     ]
    },
    {
     "name": "stdout",
     "output_type": "stream",
     "text": [
      "creating buckets for: callhome_devtest\n",
      "creating buckets for key: sp\n",
      "creating buckets for: callhome_evltest\n",
      "creating buckets for key: sp\n",
      "creating buckets for: callhome_train\n",
      "creating buckets for key: sp\n",
      "--------------------------------------------------\n",
      "saving info dict in: ./both_fbank_out/buckets_sp.dict\n",
      "all done ...\n",
      "--------------------------------------------------\n",
      "showing buckets for category: fisher_dev\n",
      "number of buckets=15, width of each bucket=128\n",
      "index | width | num   \n",
      "    0 |     0 |    808\n",
      "    1 |   128 |    996\n",
      "    2 |   256 |    627\n",
      "    3 |   384 |    420\n",
      "    4 |   512 |    298\n",
      "    5 |   640 |    261\n",
      "    6 |   768 |    200\n",
      "    7 |   896 |    148\n",
      "    8 |  1024 |    107\n",
      "    9 |  1152 |     51\n",
      "   10 |  1280 |     40\n",
      "   11 |  1408 |     13\n",
      "   12 |  1536 |      5\n",
      "   13 |  1664 |      1\n",
      "   14 |  1792 |      2\n",
      "--------------------------------------------------\n",
      "showing buckets for category: fisher_dev2\n",
      "number of buckets=15, width of each bucket=128\n",
      "index | width | num   \n",
      "    0 |     0 |    645\n",
      "    1 |   128 |   1011\n",
      "    2 |   256 |    715\n",
      "    3 |   384 |    462\n",
      "    4 |   512 |    330\n",
      "    5 |   640 |    216\n",
      "    6 |   768 |    190\n",
      "    7 |   896 |    173\n",
      "    8 |  1024 |     92\n",
      "    9 |  1152 |     58\n",
      "   10 |  1280 |     32\n",
      "   11 |  1408 |     18\n",
      "   12 |  1536 |     13\n",
      "   13 |  1664 |      3\n",
      "   14 |  1792 |      1\n",
      "--------------------------------------------------\n",
      "showing buckets for category: fisher_test\n",
      "number of buckets=15, width of each bucket=128\n",
      "index | width | num   \n",
      "    0 |     0 |    697\n",
      "    1 |   128 |    901\n",
      "    2 |   256 |    584\n",
      "    3 |   384 |    360\n",
      "    4 |   512 |    243\n",
      "    5 |   640 |    190\n",
      "    6 |   768 |    212\n",
      "    7 |   896 |    180\n",
      "    8 |  1024 |    129\n",
      "    9 |  1152 |     79\n",
      "   10 |  1280 |     37\n",
      "   11 |  1408 |     19\n",
      "   12 |  1536 |      5\n",
      "   13 |  1664 |      3\n",
      "   14 |  1792 |      2\n",
      "--------------------------------------------------\n",
      "showing buckets for category: fisher_train\n",
      "number of buckets=15, width of each bucket=128\n",
      "index | width | num   \n",
      "    0 |     0 |  12962\n",
      "    1 |   128 |  17059\n",
      "    2 |   256 |  10978\n",
      "    3 |   384 |   7369\n",
      "    4 |   512 |   5165\n",
      "    5 |   640 |   4120\n",
      "    6 |   768 |   3572\n",
      "    7 |   896 |   3011\n",
      "    8 |  1024 |   2167\n",
      "    9 |  1152 |   1396\n",
      "   10 |  1280 |    780\n",
      "   11 |  1408 |    402\n",
      "   12 |  1536 |    184\n",
      "   13 |  1664 |     98\n",
      "   14 |  1792 |     86\n",
      "--------------------------------------------------\n",
      "showing buckets for category: callhome_devtest\n",
      "number of buckets=15, width of each bucket=128\n",
      "index | width | num   \n",
      "    0 |     0 |    978\n",
      "    1 |   128 |    932\n",
      "    2 |   256 |    677\n",
      "    3 |   384 |    438\n",
      "    4 |   512 |    286\n",
      "    5 |   640 |    185\n",
      "    6 |   768 |    103\n",
      "    7 |   896 |     71\n",
      "    8 |  1024 |     48\n",
      "    9 |  1152 |     33\n",
      "   10 |  1280 |     30\n",
      "   11 |  1408 |     10\n",
      "   12 |  1536 |      4\n",
      "   13 |  1664 |      5\n",
      "   14 |  1792 |      1\n",
      "--------------------------------------------------\n",
      "showing buckets for category: callhome_evltest\n",
      "number of buckets=15, width of each bucket=128\n",
      "index | width | num   \n",
      "    0 |     0 |    440\n",
      "    1 |   128 |    459\n",
      "    2 |   256 |    317\n",
      "    3 |   384 |    203\n",
      "    4 |   512 |    141\n",
      "    5 |   640 |     78\n",
      "    6 |   768 |     66\n",
      "    7 |   896 |     39\n",
      "    8 |  1024 |     25\n",
      "    9 |  1152 |     21\n",
      "   10 |  1280 |     14\n",
      "   11 |  1408 |      7\n",
      "   12 |  1536 |      6\n",
      "   13 |  1664 |      6\n",
      "   14 |  1792 |      2\n",
      "--------------------------------------------------\n",
      "showing buckets for category: callhome_train\n",
      "number of buckets=15, width of each bucket=128\n",
      "index | width | num   \n",
      "    0 |     0 |   2066\n",
      "    1 |   128 |   1656\n",
      "    2 |   256 |   1175\n",
      "    3 |   384 |    772\n",
      "    4 |   512 |    482\n",
      "    5 |   640 |    327\n",
      "    6 |   768 |    219\n",
      "    7 |   896 |    149\n",
      "    8 |  1024 |    109\n",
      "    9 |  1152 |     65\n",
      "   10 |  1280 |     44\n",
      "   11 |  1408 |     29\n",
      "   12 |  1536 |     21\n",
      "   13 |  1664 |     11\n",
      "   14 |  1792 |     13\n"
     ]
    }
   ],
   "source": [
    "prep_buckets.buckets_main(model_cfg['data_path'], 15, 128, 'sp', scale=2, \n",
    "                          seed=model_cfg['seed'])"
   ]
  },
  {
   "cell_type": "code",
   "execution_count": 19,
   "metadata": {
    "collapsed": true
   },
   "outputs": [],
   "source": [
    "bucket_dict_path = os.path.join(model_cfg['data_path'],'buckets_{0:s}.dict'.format('sp'))\n",
    "bucket_dict = pickle.load(open(bucket_dict_path, \"rb\"))"
   ]
  },
  {
   "cell_type": "code",
   "execution_count": 20,
   "metadata": {},
   "outputs": [
    {
     "data": {
      "text/plain": [
       "dict_keys(['fisher_dev', 'fisher_dev2', 'fisher_test', 'fisher_train', 'callhome_devtest', 'callhome_evltest', 'callhome_train'])"
      ]
     },
     "execution_count": 20,
     "metadata": {},
     "output_type": "execute_result"
    }
   ],
   "source": [
    "bucket_dict.keys()"
   ]
  },
  {
   "cell_type": "code",
   "execution_count": 25,
   "metadata": {},
   "outputs": [
    {
     "data": {
      "text/plain": [
       "3977"
      ]
     },
     "execution_count": 25,
     "metadata": {},
     "output_type": "execute_result"
    }
   ],
   "source": [
    "sum([len(b) for b in bucket_dict['fisher_dev']['buckets']])"
   ]
  },
  {
   "cell_type": "code",
   "execution_count": 17,
   "metadata": {
    "collapsed": true
   },
   "outputs": [
    {
     "data": {
      "text/plain": [
       "[None,\n",
       " None,\n",
       " None,\n",
       " None,\n",
       " None,\n",
       " None,\n",
       " None,\n",
       " None,\n",
       " None,\n",
       " None,\n",
       " None,\n",
       " None,\n",
       " None,\n",
       " None,\n",
       " None]"
      ]
     },
     "execution_count": 17,
     "metadata": {},
     "output_type": "execute_result"
    }
   ],
   "source": [
    "all_utts_2 = []\n",
    "[all_utts_2.extend(b) for b in bucket_dict['fisher_train']['buckets']]"
   ]
  },
  {
   "cell_type": "code",
   "execution_count": 22,
   "metadata": {},
   "outputs": [
    {
     "data": {
      "text/plain": [
       "[None,\n",
       " None,\n",
       " None,\n",
       " None,\n",
       " None,\n",
       " None,\n",
       " None,\n",
       " None,\n",
       " None,\n",
       " None,\n",
       " None,\n",
       " None,\n",
       " None,\n",
       " None,\n",
       " None]"
      ]
     },
     "execution_count": 22,
     "metadata": {},
     "output_type": "execute_result"
    }
   ],
   "source": [
    "all_utts_3 = []\n",
    "[all_utts_3.extend(b) for b in bucket_dict['fisher_train']['buckets']]"
   ]
  },
  {
   "cell_type": "code",
   "execution_count": 23,
   "metadata": {},
   "outputs": [
    {
     "data": {
      "text/plain": [
       "(69349, 69349)"
      ]
     },
     "execution_count": 23,
     "metadata": {},
     "output_type": "execute_result"
    }
   ],
   "source": [
    "len(set(all_utts_3)), len(set(all_utts_2))"
   ]
  },
  {
   "cell_type": "code",
   "execution_count": 24,
   "metadata": {},
   "outputs": [
    {
     "data": {
      "text/plain": [
       "True"
      ]
     },
     "execution_count": 24,
     "metadata": {},
     "output_type": "execute_result"
    }
   ],
   "source": [
    "set(all_utts_3) == set(all_utts_2)"
   ]
  },
  {
   "cell_type": "code",
   "execution_count": null,
   "metadata": {
    "collapsed": true
   },
   "outputs": [],
   "source": [
    "os.chdir('..')\n",
    "os.chdir('speech2text')"
   ]
  },
  {
   "cell_type": "code",
   "execution_count": null,
   "metadata": {
    "collapsed": true
   },
   "outputs": [],
   "source": [
    "model_cfg['data_path']"
   ]
  }
 ],
 "metadata": {
  "kernelspec": {
   "display_name": "Python 3",
   "language": "python",
   "name": "python3"
  },
  "language_info": {
   "codemirror_mode": {
    "name": "ipython",
    "version": 3
   },
   "file_extension": ".py",
   "mimetype": "text/x-python",
   "name": "python",
   "nbconvert_exporter": "python",
   "pygments_lexer": "ipython3",
   "version": "3.6.2"
  }
 },
 "nbformat": 4,
 "nbformat_minor": 2
}
