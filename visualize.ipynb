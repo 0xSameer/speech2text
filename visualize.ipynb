{
 "cells": [
  {
   "cell_type": "code",
   "execution_count": 1,
   "metadata": {},
   "outputs": [],
   "source": [
    "import nltk\n",
    "from nltk.translate.bleu_score import sentence_bleu, corpus_bleu"
   ]
  },
  {
   "cell_type": "code",
   "execution_count": 2,
   "metadata": {},
   "outputs": [
    {
     "name": "stdout",
     "output_type": "stream",
     "text": [
      "translating es to en\n",
      "callhome es-en configuration\n"
     ]
    },
    {
     "name": "stderr",
     "output_type": "stream",
     "text": [
      "100%|██████████| 3977/3977 [00:00<00:00, 609721.00it/s]\n",
      "100%|██████████| 3959/3959 [00:00<00:00, 621082.04it/s]\n",
      "100%|██████████| 3641/3641 [00:00<00:00, 620664.94it/s]\n",
      " 42%|████▏     | 57853/138708 [00:00<00:00, 578522.28it/s]"
     ]
    },
    {
     "name": "stdout",
     "output_type": "stream",
     "text": [
      "--------------------------------------------------\n",
      "loading info_dict from=./out/info.dict\n",
      "--------------------------------------------------\n",
      "creating buckets for: fisher_dev\n",
      "creating buckets for key: es_c\n",
      "creating buckets for: fisher_dev2\n",
      "creating buckets for key: es_c\n",
      "creating buckets for: fisher_test\n",
      "creating buckets for key: es_c\n",
      "creating buckets for: fisher_train\n",
      "creating buckets for key: es_c\n"
     ]
    },
    {
     "name": "stderr",
     "output_type": "stream",
     "text": [
      "100%|██████████| 138708/138708 [00:00<00:00, 602790.15it/s]\n"
     ]
    },
    {
     "name": "stdout",
     "output_type": "stream",
     "text": [
      "--------------------------------------------------\n",
      "saving info dict in: ./out/buckets_es_c.dict\n",
      "all done ...\n",
      "--------------------------------------------------\n",
      "showing buckets for category: fisher_dev\n",
      "number of buckets=50, width of each bucket=6\n",
      "index | width | num   \n",
      "    0 |     0 |    890\n",
      "    1 |     6 |    382\n",
      "    2 |    12 |    252\n",
      "    3 |    18 |    231\n",
      "    4 |    24 |    208\n",
      "    5 |    30 |    156\n",
      "    6 |    36 |    138\n",
      "    7 |    42 |    155\n",
      "    8 |    48 |    145\n",
      "    9 |    54 |    132\n",
      "   10 |    60 |    112\n",
      "   11 |    66 |     96\n",
      "   12 |    72 |     88\n",
      "   13 |    78 |     85\n",
      "   14 |    84 |     70\n",
      "   15 |    90 |     69\n",
      "   16 |    96 |     73\n",
      "   17 |   102 |     72\n",
      "   18 |   108 |     58\n",
      "   19 |   114 |     72\n",
      "   20 |   120 |     55\n",
      "   21 |   126 |     64\n",
      "   22 |   132 |     57\n",
      "   23 |   138 |     62\n",
      "   24 |   144 |     46\n",
      "   25 |   150 |     42\n",
      "   26 |   156 |     29\n",
      "   27 |   162 |     28\n",
      "   28 |   168 |     27\n",
      "   29 |   174 |     21\n",
      "   30 |   180 |     16\n",
      "   31 |   186 |      9\n",
      "   32 |   192 |      6\n",
      "   33 |   198 |      3\n",
      "   34 |   204 |      9\n",
      "   35 |   210 |      7\n",
      "   36 |   216 |      1\n",
      "   37 |   222 |      4\n",
      "   38 |   228 |      2\n",
      "   39 |   234 |      1\n",
      "   40 |   240 |      0\n",
      "   41 |   246 |      1\n",
      "   42 |   252 |      0\n",
      "   43 |   258 |      0\n",
      "   44 |   264 |      2\n",
      "   45 |   270 |      0\n",
      "   46 |   276 |      0\n",
      "   47 |   282 |      1\n",
      "   48 |   288 |      0\n",
      "   49 |   294 |      0\n",
      "--------------------------------------------------\n",
      "showing buckets for category: fisher_dev2\n",
      "number of buckets=50, width of each bucket=6\n",
      "index | width | num   \n",
      "    0 |     0 |    830\n",
      "    1 |     6 |    367\n",
      "    2 |    12 |    273\n",
      "    3 |    18 |    241\n",
      "    4 |    24 |    191\n",
      "    5 |    30 |    225\n",
      "    6 |    36 |    193\n",
      "    7 |    42 |    150\n",
      "    8 |    48 |    156\n",
      "    9 |    54 |    122\n",
      "   10 |    60 |    112\n",
      "   11 |    66 |    102\n",
      "   12 |    72 |     74\n",
      "   13 |    78 |     82\n",
      "   14 |    84 |     77\n",
      "   15 |    90 |     66\n",
      "   16 |    96 |     63\n",
      "   17 |   102 |     70\n",
      "   18 |   108 |     52\n",
      "   19 |   114 |     48\n",
      "   20 |   120 |     50\n",
      "   21 |   126 |     66\n",
      "   22 |   132 |     56\n",
      "   23 |   138 |     48\n",
      "   24 |   144 |     43\n",
      "   25 |   150 |     32\n",
      "   26 |   156 |     30\n",
      "   27 |   162 |     27\n",
      "   28 |   168 |     17\n",
      "   29 |   174 |     23\n",
      "   30 |   180 |      6\n",
      "   31 |   186 |     14\n",
      "   32 |   192 |     13\n",
      "   33 |   198 |      6\n",
      "   34 |   204 |      9\n",
      "   35 |   210 |      5\n",
      "   36 |   216 |      5\n",
      "   37 |   222 |      2\n",
      "   38 |   228 |      4\n",
      "   39 |   234 |      1\n",
      "   40 |   240 |      1\n",
      "   41 |   246 |      2\n",
      "   42 |   252 |      2\n",
      "   43 |   258 |      1\n",
      "   44 |   264 |      0\n",
      "   45 |   270 |      1\n",
      "   46 |   276 |      1\n",
      "   47 |   282 |      0\n",
      "   48 |   288 |      0\n",
      "   49 |   294 |      0\n",
      "--------------------------------------------------\n",
      "showing buckets for category: fisher_test\n",
      "number of buckets=50, width of each bucket=6\n",
      "index | width | num   \n",
      "    0 |     0 |    757\n",
      "    1 |     6 |    343\n",
      "    2 |    12 |    269\n",
      "    3 |    18 |    167\n",
      "    4 |    24 |    170\n",
      "    5 |    30 |    160\n",
      "    6 |    36 |    148\n",
      "    7 |    42 |    133\n",
      "    8 |    48 |    114\n",
      "    9 |    54 |    114\n",
      "   10 |    60 |     95\n",
      "   11 |    66 |     90\n",
      "   12 |    72 |     78\n",
      "   13 |    78 |     71\n",
      "   14 |    84 |     71\n",
      "   15 |    90 |     49\n",
      "   16 |    96 |     54\n",
      "   17 |   102 |     47\n",
      "   18 |   108 |     49\n",
      "   19 |   114 |     40\n",
      "   20 |   120 |     66\n",
      "   21 |   126 |     84\n",
      "   22 |   132 |     74\n",
      "   23 |   138 |     71\n",
      "   24 |   144 |     48\n",
      "   25 |   150 |     39\n",
      "   26 |   156 |     43\n",
      "   27 |   162 |     36\n",
      "   28 |   168 |     37\n",
      "   29 |   174 |     29\n",
      "   30 |   180 |     31\n",
      "   31 |   186 |     21\n",
      "   32 |   192 |     10\n",
      "   33 |   198 |      6\n",
      "   34 |   204 |      5\n",
      "   35 |   210 |      8\n",
      "   36 |   216 |      1\n",
      "   37 |   222 |      4\n",
      "   38 |   228 |      2\n",
      "   39 |   234 |      2\n",
      "   40 |   240 |      0\n",
      "   41 |   246 |      1\n",
      "   42 |   252 |      3\n",
      "   43 |   258 |      0\n",
      "   44 |   264 |      1\n",
      "   45 |   270 |      0\n",
      "   46 |   276 |      0\n",
      "   47 |   282 |      0\n",
      "   48 |   288 |      0\n",
      "   49 |   294 |      0\n",
      "--------------------------------------------------\n",
      "showing buckets for category: fisher_train\n",
      "number of buckets=50, width of each bucket=6\n",
      "index | width | num   \n",
      "    0 |     0 |  28445\n",
      "    1 |     6 |  12201\n",
      "    2 |    12 |   9012\n",
      "    3 |    18 |   7718\n",
      "    4 |    24 |   6950\n",
      "    5 |    30 |   6421\n",
      "    6 |    36 |   5823\n",
      "    7 |    42 |   5252\n",
      "    8 |    48 |   4774\n",
      "    9 |    54 |   4390\n",
      "   10 |    60 |   3836\n",
      "   11 |    66 |   3586\n",
      "   12 |    72 |   3330\n",
      "   13 |    78 |   2967\n",
      "   14 |    84 |   2693\n",
      "   15 |    90 |   2415\n",
      "   16 |    96 |   2267\n",
      "   17 |   102 |   2194\n",
      "   18 |   108 |   2145\n",
      "   19 |   114 |   2157\n",
      "   20 |   120 |   2329\n",
      "   21 |   126 |   2362\n",
      "   22 |   132 |   2355\n",
      "   23 |   138 |   2139\n",
      "   24 |   144 |   2063\n",
      "   25 |   150 |   1759\n",
      "   26 |   156 |   1422\n",
      "   27 |   162 |   1331\n",
      "   28 |   168 |    979\n",
      "   29 |   174 |    766\n",
      "   30 |   180 |    640\n",
      "   31 |   186 |    509\n",
      "   32 |   192 |    370\n",
      "   33 |   198 |    263\n",
      "   34 |   204 |    203\n",
      "   35 |   210 |    174\n",
      "   36 |   216 |    111\n",
      "   37 |   222 |     96\n",
      "   38 |   228 |     81\n",
      "   39 |   234 |     43\n",
      "   40 |   240 |     34\n",
      "   41 |   246 |     21\n",
      "   42 |   252 |     25\n",
      "   43 |   258 |     16\n",
      "   44 |   264 |      9\n",
      "   45 |   270 |     10\n",
      "   46 |   276 |      3\n",
      "   47 |   282 |      3\n",
      "   48 |   288 |      6\n",
      "   49 |   294 |     10\n",
      "cnn details:\n",
      "{'ndim': 1, 'in_channels': 512, 'out_channels': 100, 'ksize': 1, 'stride': 1, 'pad': 0}\n",
      "{'ndim': 1, 'in_channels': 512, 'out_channels': 100, 'ksize': 3, 'stride': 1, 'pad': 1}\n",
      "{'ndim': 1, 'in_channels': 512, 'out_channels': 100, 'ksize': 5, 'stride': 1, 'pad': 2}\n",
      "{'ndim': 1, 'in_channels': 512, 'out_channels': 100, 'ksize': 7, 'stride': 1, 'pad': 3}\n",
      "{'ndim': 1, 'in_channels': 512, 'out_channels': 100, 'ksize': 9, 'stride': 1, 'pad': 4}\n",
      "{'ndim': 1, 'in_channels': 512, 'out_channels': 100, 'ksize': 11, 'stride': 1, 'pad': 5}\n",
      "{'ndim': 1, 'in_channels': 512, 'out_channels': 100, 'ksize': 13, 'stride': 1, 'pad': 6}\n",
      "{'ndim': 1, 'in_channels': 512, 'out_channels': 100, 'ksize': 15, 'stride': 1, 'pad': 7}\n",
      "{'ndim': 1, 'in_channels': 512, 'out_channels': 100, 'ksize': 17, 'stride': 1, 'pad': 8}\n",
      "{'ndim': 1, 'in_channels': 512, 'out_channels': 100, 'ksize': 19, 'stride': 1, 'pad': 9}\n",
      "--------------------------------------------------\n",
      "loading dict: ./out/map.dict\n",
      "loading dict: ./out/train_vocab.dict\n",
      "--------------------------------------------------\n",
      "loading dict: ./out/buckets_es_c.dict\n",
      "--------------------------------------------------\n",
      "utterances in fisher_dev = 3979\n",
      "utterances in fisher_dev2 = 3961\n",
      "utterances in fisher_test = 3641\n",
      "utterances in fisher_train = 138819\n",
      "vocab size for es_c = 71\n",
      "vocab size for en_w = 18555\n",
      "model file name: fsh_lr_reg/seq2seq_sen-138819_hwy2-dec2_emb-512-h-512__es_c_en_w_gru_drpt-0_noise-0_l2-0.001_cnn-num100-range1-19-2-pool50.model\n",
      "log file name: fsh_lr_reg/train_sen-138819_hwy2-dec2_emb-512-h-512__es_c_en_w_gru_drpt-0_noise-0_l2-0.001_cnn-num100-range1-19-2-pool50.log\n",
      "rnn_in_units 1000\n",
      "using SGD optimizer\n"
     ]
    }
   ],
   "source": [
    "from nmt_run import *"
   ]
  },
  {
   "cell_type": "code",
   "execution_count": 3,
   "metadata": {
    "collapsed": true
   },
   "outputs": [],
   "source": [
    "def display_words(m_dict, v_dict, preds, utts, dec_key):\n",
    "    es_ref = []\n",
    "    en_ref = []\n",
    "    for u in utts:\n",
    "        es_ref.append(\" \".join([w.decode() for w in m_dict[u]['es_w']]))\n",
    "        if type(m_dict[u][dec_key]) == list: \n",
    "            en_ref.append(\" \".join([w.decode() for w in m_dict[u]['en_w']]))\n",
    "        else:\n",
    "            en_ref.append(\" \".join([w.decode() for w in m_dict[u]['en_w'][0]]))\n",
    "\n",
    "    en_pred = []\n",
    "    join_str = ' ' if dec_key.endswith('_w') else ''\n",
    "\n",
    "    for p in preds:\n",
    "        t_str = join_str.join([v_dict['i2w'][i].decode() for i in p])\n",
    "        t_str = t_str[:t_str.find('_EOS')]\n",
    "        en_pred.append(t_str)\n",
    "\n",
    "    for u, es, en, p in zip(utts, es_ref, en_ref, en_pred):\n",
    "        # for reference, 1st word is GO_ID, no need to display\n",
    "        print(\"Utterance: {0:s}\".format(u))\n",
    "        display_pp = PrettyTable([\"cat\",\"sent\"], hrules=True)\n",
    "        display_pp.align = \"l\"\n",
    "        display_pp.header = False\n",
    "        display_pp.add_row([\"es ref\", textwrap.fill(es,50)])\n",
    "        display_pp.add_row([\"en ref\", textwrap.fill(en,50)])\n",
    "        display_pp.add_row([\"en pred\", textwrap.fill(p,50)])\n",
    "\n",
    "        print(display_pp)"
   ]
  },
  {
   "cell_type": "code",
   "execution_count": 4,
   "metadata": {
    "collapsed": true
   },
   "outputs": [],
   "source": [
    "def calc_bleu(m_dict, v_dict, preds, utts, dec_key):\n",
    "    en_hyp = []\n",
    "    en_ref = []\n",
    "    for u in utts:\n",
    "        if type(m_dict[u][dec_key]) == list: \n",
    "            en_ref.append([w.decode() for w in m_dict[u]['en_w']])\n",
    "        else:\n",
    "            en_r_list = []\n",
    "            for r in m_dict[u]['en_w']:\n",
    "                en_r_list.append([w.decode() for w in r])\n",
    "            en_ref.append(en_r_list)\n",
    "\n",
    "    join_str = ' ' if dec_key.endswith('_w') else ''\n",
    "\n",
    "    for p in preds:\n",
    "        t_str = join_str.join([v_dict['i2w'][i].decode() for i in p])\n",
    "        t_str = t_str[:t_str.find('_EOS')]\n",
    "        en_hyp.append(t_str.split())\n",
    "\n",
    "    return en_hyp, en_ref"
   ]
  },
  {
   "cell_type": "code",
   "execution_count": 5,
   "metadata": {},
   "outputs": [
    {
     "name": "stdout",
     "output_type": "stream",
     "text": [
      "--------------------------------------------------------------------------------\n",
      "model found = \n",
      "fsh_lr_reg/seq2seq_sen-138819_hwy2-dec2_emb-512-h-512__es_c_en_w_gru_drpt-0_noise-0_l2-0.001_cnn-num100-range1-19-2-pool50_40.model\n",
      "loading ...\n",
      "finished loading ..\n"
     ]
    }
   ],
   "source": [
    "last_epoch = check_model()"
   ]
  },
  {
   "cell_type": "code",
   "execution_count": 6,
   "metadata": {
    "collapsed": true
   },
   "outputs": [],
   "source": [
    "log_train = np.loadtxt(log_train_fil_name, delimiter=',', skiprows=False).transpose()\n",
    "log_test = np.loadtxt(log_dev_fil_name, delimiter=',', skiprows=False).transpose()"
   ]
  },
  {
   "cell_type": "code",
   "execution_count": 7,
   "metadata": {},
   "outputs": [
    {
     "data": {
      "image/png": "[encoded data removed]",
      "text/plain": [
       "<matplotlib.figure.Figure at 0x7f79f90a2cc0>"
      ]
     },
     "metadata": {},
     "output_type": "display_data"
    }
   ],
   "source": [
    "fig, ax1 = plt.subplots()\n",
    "ax1.plot(log_train[0], log_train[1], color='#ff7700')\n",
    "ax1.plot(log_test[0], log_test[1], 'r--')\n",
    "ax1.set_xlabel('epoch', size=20)\n",
    "ax1.set_ylabel('loss', color='r', size=20)\n",
    "for tl in ax1.get_yticklabels():\n",
    "    tl.set_color('r')\n",
    "plt.legend(['train loss', 'test loss'], bbox_to_anchor=(1.4, 0.96), framealpha=0, fontsize=20)\n",
    "plt.tight_layout()\n",
    "plt.show()"
   ]
  },
  {
   "cell_type": "code",
   "execution_count": 8,
   "metadata": {},
   "outputs": [],
   "source": [
    "key='fisher_dev'\n",
    "train=False\n",
    "m_dict = map_dict[key]\n",
    "v_dict = vocab_dict[dec_key]\n",
    "n=len(map_dict[key])"
   ]
  },
  {
   "cell_type": "code",
   "execution_count": 9,
   "metadata": {
    "collapsed": true
   },
   "outputs": [],
   "source": [
    "cat_speech_path = os.path.join(out_path, key)"
   ]
  },
  {
   "cell_type": "code",
   "execution_count": 10,
   "metadata": {},
   "outputs": [
    {
     "name": "stderr",
     "output_type": "stream",
     "text": [
      "\r",
      "  0%|          | 0/3979 [00:00<?, ?it/s]"
     ]
    },
    {
     "name": "stdout",
     "output_type": "stream",
     "text": [
      "--------------------------------------------------------------------------------\n",
      "EPOCH = 41\n"
     ]
    },
    {
     "name": "stderr",
     "output_type": "stream",
     "text": [
      "/afs/inf.ed.ac.uk/group/project/lowres/work/anaconda3/envs/chainer2/lib/python3.6/site-packages/chainer/utils/experimental.py:104: FutureWarning: chainer.functions.pooling.MaxPoolingND is experimental. The interface can change in the future.\n",
      "  FutureWarning)\n",
      "\n"
     ]
    },
    {
     "ename": "CUDARuntimeError",
     "evalue": "cudaErrorMemoryAllocation: out of memory",
     "output_type": "error",
     "traceback": [
      "\u001b[0;31m---------------------------------------------------------------------------\u001b[0m",
      "\u001b[0;31mCUDARuntimeError\u001b[0m                          Traceback (most recent call last)",
      "\u001b[0;32mcupy/cuda/memory.pyx\u001b[0m in \u001b[0;36mcupy.cuda.memory.SingleDeviceMemoryPool.malloc (cupy/cuda/memory.cpp:7326)\u001b[0;34m()\u001b[0m\n",
      "\u001b[0;32mcupy/cuda/memory.pyx\u001b[0m in \u001b[0;36mcupy.cuda.memory._malloc (cupy/cuda/memory.cpp:6018)\u001b[0;34m()\u001b[0m\n",
      "\u001b[0;32mcupy/cuda/memory.pyx\u001b[0m in \u001b[0;36mcupy.cuda.memory._malloc (cupy/cuda/memory.cpp:5939)\u001b[0;34m()\u001b[0m\n",
      "\u001b[0;32mcupy/cuda/memory.pyx\u001b[0m in \u001b[0;36mcupy.cuda.memory.Memory.__init__ (cupy/cuda/memory.cpp:1773)\u001b[0;34m()\u001b[0m\n",
      "\u001b[0;32mcupy/cuda/runtime.pyx\u001b[0m in \u001b[0;36mcupy.cuda.runtime.malloc (cupy/cuda/runtime.cpp:3430)\u001b[0;34m()\u001b[0m\n",
      "\u001b[0;32mcupy/cuda/runtime.pyx\u001b[0m in \u001b[0;36mcupy.cuda.runtime.check_status (cupy/cuda/runtime.cpp:2242)\u001b[0;34m()\u001b[0m\n",
      "\u001b[0;31mCUDARuntimeError\u001b[0m: cudaErrorMemoryAllocation: out of memory",
      "\nDuring handling of the above exception, another exception occurred:\n",
      "\u001b[0;31mCUDARuntimeError\u001b[0m                          Traceback (most recent call last)",
      "\u001b[0;32mcupy/cuda/memory.pyx\u001b[0m in \u001b[0;36mcupy.cuda.memory.SingleDeviceMemoryPool.malloc (cupy/cuda/memory.cpp:7501)\u001b[0;34m()\u001b[0m\n",
      "\u001b[0;32mcupy/cuda/memory.pyx\u001b[0m in \u001b[0;36mcupy.cuda.memory._malloc (cupy/cuda/memory.cpp:6018)\u001b[0;34m()\u001b[0m\n",
      "\u001b[0;32mcupy/cuda/memory.pyx\u001b[0m in \u001b[0;36mcupy.cuda.memory._malloc (cupy/cuda/memory.cpp:5939)\u001b[0;34m()\u001b[0m\n",
      "\u001b[0;32mcupy/cuda/memory.pyx\u001b[0m in \u001b[0;36mcupy.cuda.memory.Memory.__init__ (cupy/cuda/memory.cpp:1773)\u001b[0;34m()\u001b[0m\n",
      "\u001b[0;32mcupy/cuda/runtime.pyx\u001b[0m in \u001b[0;36mcupy.cuda.runtime.malloc (cupy/cuda/runtime.cpp:3430)\u001b[0;34m()\u001b[0m\n",
      "\u001b[0;32mcupy/cuda/runtime.pyx\u001b[0m in \u001b[0;36mcupy.cuda.runtime.check_status (cupy/cuda/runtime.cpp:2242)\u001b[0;34m()\u001b[0m\n",
      "\u001b[0;31mCUDARuntimeError\u001b[0m: cudaErrorMemoryAllocation: out of memory",
      "\nDuring handling of the above exception, another exception occurred:\n",
      "\u001b[0;31mCUDARuntimeError\u001b[0m                          Traceback (most recent call last)",
      "\u001b[0;32m<ipython-input-10-e324265e368b>\u001b[0m in \u001b[0;36m<module>\u001b[0;34m()\u001b[0m\n\u001b[1;32m      8\u001b[0m                   \u001b[0my_key\u001b[0m\u001b[0;34m=\u001b[0m\u001b[0mdec_key\u001b[0m\u001b[0;34m,\u001b[0m\u001b[0;34m\u001b[0m\u001b[0m\n\u001b[1;32m      9\u001b[0m                   \u001b[0mtrain\u001b[0m\u001b[0;34m=\u001b[0m\u001b[0mtrain\u001b[0m\u001b[0;34m,\u001b[0m\u001b[0;34m\u001b[0m\u001b[0m\n\u001b[0;32m---> 10\u001b[0;31m                   cat_speech_path=cat_speech_path, use_y=True)\n\u001b[0m\u001b[1;32m     11\u001b[0m \u001b[0;34m\u001b[0m\u001b[0m\n\u001b[1;32m     12\u001b[0m print(\"{0:s} {1:s} mean loss={2:.4f}\".format(\"*\" * 10,\n",
      "\u001b[0;32m/afs/inf.ed.ac.uk/group/project/lowres/work/chainer2/speech2text/nmt_run.py\u001b[0m in \u001b[0;36mfeed_model\u001b[0;34m(m_dict, b_dict, batch_size, vocab_dict, x_key, y_key, train, cat_speech_path, use_y)\u001b[0m\n\u001b[1;32m    144\u001b[0m                     \u001b[0;32mif\u001b[0m \u001b[0muse_y\u001b[0m\u001b[0;34m:\u001b[0m\u001b[0;34m\u001b[0m\u001b[0m\n\u001b[1;32m    145\u001b[0m                         \u001b[0;32mwith\u001b[0m \u001b[0mchainer\u001b[0m\u001b[0;34m.\u001b[0m\u001b[0musing_config\u001b[0m\u001b[0;34m(\u001b[0m\u001b[0;34m'train'\u001b[0m\u001b[0;34m,\u001b[0m \u001b[0mtrain\u001b[0m\u001b[0;34m)\u001b[0m\u001b[0;34m:\u001b[0m\u001b[0;34m\u001b[0m\u001b[0m\n\u001b[0;32m--> 146\u001b[0;31m                             \u001b[0mp\u001b[0m\u001b[0;34m,\u001b[0m \u001b[0mloss\u001b[0m \u001b[0;34m=\u001b[0m \u001b[0mmodel\u001b[0m\u001b[0;34m.\u001b[0m\u001b[0mforward\u001b[0m\u001b[0;34m(\u001b[0m\u001b[0mbatch_data\u001b[0m\u001b[0;34m[\u001b[0m\u001b[0;34m'X'\u001b[0m\u001b[0;34m]\u001b[0m\u001b[0;34m,\u001b[0m \u001b[0mbatch_data\u001b[0m\u001b[0;34m[\u001b[0m\u001b[0;34m'y'\u001b[0m\u001b[0;34m]\u001b[0m\u001b[0;34m)\u001b[0m\u001b[0;34m\u001b[0m\u001b[0m\n\u001b[0m\u001b[1;32m    147\u001b[0m                         \u001b[0;31m# store loss values for printing\u001b[0m\u001b[0;34m\u001b[0m\u001b[0;34m\u001b[0m\u001b[0m\n\u001b[1;32m    148\u001b[0m                         \u001b[0mloss_val\u001b[0m \u001b[0;34m=\u001b[0m \u001b[0mfloat\u001b[0m\u001b[0;34m(\u001b[0m\u001b[0mloss\u001b[0m\u001b[0;34m.\u001b[0m\u001b[0mdata\u001b[0m\u001b[0;34m)\u001b[0m\u001b[0;34m\u001b[0m\u001b[0m\n",
      "\u001b[0;32m/afs/inf.ed.ac.uk/group/project/lowres/work/chainer2/speech2text/enc_dec.py\u001b[0m in \u001b[0;36mforward\u001b[0;34m(self, X, y)\u001b[0m\n\u001b[1;32m    388\u001b[0m         \u001b[0;32melse\u001b[0m\u001b[0;34m:\u001b[0m\u001b[0;34m\u001b[0m\u001b[0m\n\u001b[1;32m    389\u001b[0m             \u001b[0;31m# predict\u001b[0m\u001b[0;34m\u001b[0m\u001b[0;34m\u001b[0m\u001b[0m\n\u001b[0;32m--> 390\u001b[0;31m             \u001b[0;32mreturn\u001b[0m\u001b[0;34m(\u001b[0m\u001b[0mself\u001b[0m\u001b[0;34m.\u001b[0m\u001b[0mpredict_batch\u001b[0m\u001b[0;34m(\u001b[0m\u001b[0mbatch_size\u001b[0m\u001b[0;34m=\u001b[0m\u001b[0mbatch_size\u001b[0m\u001b[0;34m,\u001b[0m \u001b[0mpred_limit\u001b[0m\u001b[0;34m=\u001b[0m\u001b[0mMAX_EN_LEN\u001b[0m\u001b[0;34m,\u001b[0m \u001b[0my\u001b[0m\u001b[0;34m=\u001b[0m\u001b[0my\u001b[0m\u001b[0;34m)\u001b[0m\u001b[0;34m)\u001b[0m\u001b[0;34m\u001b[0m\u001b[0m\n\u001b[0m\u001b[1;32m    391\u001b[0m             \u001b[0;31m# consistent return statement\u001b[0m\u001b[0;34m\u001b[0m\u001b[0;34m\u001b[0m\u001b[0m\n\u001b[1;32m    392\u001b[0m \u001b[0;34m\u001b[0m\u001b[0m\n",
      "\u001b[0;32m/afs/inf.ed.ac.uk/group/project/lowres/work/chainer2/speech2text/enc_dec.py\u001b[0m in \u001b[0;36mpredict_batch\u001b[0;34m(self, batch_size, pred_limit, y)\u001b[0m\n\u001b[1;32m    266\u001b[0m         \u001b[0;32mwhile\u001b[0m \u001b[0mnpred\u001b[0m \u001b[0;34m<\u001b[0m \u001b[0;34m(\u001b[0m\u001b[0mstop_limit\u001b[0m\u001b[0;34m)\u001b[0m\u001b[0;34m:\u001b[0m\u001b[0;34m\u001b[0m\u001b[0m\n\u001b[1;32m    267\u001b[0m             \u001b[0;31m# encode tokens\u001b[0m\u001b[0;34m\u001b[0m\u001b[0;34m\u001b[0m\u001b[0m\n\u001b[0;32m--> 268\u001b[0;31m             \u001b[0mpred_out\u001b[0m \u001b[0;34m=\u001b[0m \u001b[0mself\u001b[0m\u001b[0;34m.\u001b[0m\u001b[0mdecode\u001b[0m\u001b[0;34m(\u001b[0m\u001b[0mcurr_word\u001b[0m\u001b[0;34m)\u001b[0m\u001b[0;34m\u001b[0m\u001b[0m\n\u001b[0m\u001b[1;32m    269\u001b[0m             \u001b[0mpred_word\u001b[0m \u001b[0;34m=\u001b[0m \u001b[0mF\u001b[0m\u001b[0;34m.\u001b[0m\u001b[0margmax\u001b[0m\u001b[0;34m(\u001b[0m\u001b[0mpred_out\u001b[0m\u001b[0;34m,\u001b[0m \u001b[0maxis\u001b[0m\u001b[0;34m=\u001b[0m\u001b[0;36m1\u001b[0m\u001b[0;34m)\u001b[0m\u001b[0;34m\u001b[0m\u001b[0m\n\u001b[1;32m    270\u001b[0m \u001b[0;34m\u001b[0m\u001b[0m\n",
      "\u001b[0;32m/afs/inf.ed.ac.uk/group/project/lowres/work/chainer2/speech2text/enc_dec.py\u001b[0m in \u001b[0;36mdecode\u001b[0;34m(self, word)\u001b[0m\n\u001b[1;32m    220\u001b[0m         \u001b[0mh\u001b[0m \u001b[0;34m=\u001b[0m \u001b[0mself\u001b[0m\u001b[0;34m.\u001b[0m\u001b[0mfeed_rnn\u001b[0m\u001b[0;34m(\u001b[0m\u001b[0membed_id\u001b[0m\u001b[0;34m,\u001b[0m \u001b[0mself\u001b[0m\u001b[0;34m.\u001b[0m\u001b[0mrnn_dec\u001b[0m\u001b[0;34m)\u001b[0m\u001b[0;34m\u001b[0m\u001b[0m\n\u001b[1;32m    221\u001b[0m         \u001b[0;32mif\u001b[0m \u001b[0mself\u001b[0m\u001b[0;34m.\u001b[0m\u001b[0mattn\u001b[0m\u001b[0;34m:\u001b[0m\u001b[0;34m\u001b[0m\u001b[0m\n\u001b[0;32m--> 222\u001b[0;31m             \u001b[0mcv\u001b[0m\u001b[0;34m,\u001b[0m \u001b[0m_\u001b[0m \u001b[0;34m=\u001b[0m \u001b[0mself\u001b[0m\u001b[0;34m.\u001b[0m\u001b[0mcompute_context_vector\u001b[0m\u001b[0;34m(\u001b[0m\u001b[0mbatches\u001b[0m\u001b[0;34m=\u001b[0m\u001b[0;32mTrue\u001b[0m\u001b[0;34m)\u001b[0m\u001b[0;34m\u001b[0m\u001b[0m\n\u001b[0m\u001b[1;32m    223\u001b[0m             \u001b[0mcv_hdec\u001b[0m \u001b[0;34m=\u001b[0m \u001b[0mF\u001b[0m\u001b[0;34m.\u001b[0m\u001b[0mconcat\u001b[0m\u001b[0;34m(\u001b[0m\u001b[0;34m(\u001b[0m\u001b[0mcv\u001b[0m\u001b[0;34m,\u001b[0m \u001b[0mself\u001b[0m\u001b[0;34m[\u001b[0m\u001b[0mself\u001b[0m\u001b[0;34m.\u001b[0m\u001b[0mrnn_dec\u001b[0m\u001b[0;34m[\u001b[0m\u001b[0;34m-\u001b[0m\u001b[0;36m1\u001b[0m\u001b[0;34m]\u001b[0m\u001b[0;34m]\u001b[0m\u001b[0;34m.\u001b[0m\u001b[0mh\u001b[0m\u001b[0;34m)\u001b[0m\u001b[0;34m,\u001b[0m \u001b[0maxis\u001b[0m\u001b[0;34m=\u001b[0m\u001b[0;36m1\u001b[0m\u001b[0;34m)\u001b[0m\u001b[0;34m\u001b[0m\u001b[0m\n\u001b[1;32m    224\u001b[0m             \u001b[0mht\u001b[0m \u001b[0;34m=\u001b[0m \u001b[0mF\u001b[0m\u001b[0;34m.\u001b[0m\u001b[0mtanh\u001b[0m\u001b[0;34m(\u001b[0m\u001b[0mself\u001b[0m\u001b[0;34m.\u001b[0m\u001b[0mcontext\u001b[0m\u001b[0;34m(\u001b[0m\u001b[0mcv_hdec\u001b[0m\u001b[0;34m)\u001b[0m\u001b[0;34m)\u001b[0m\u001b[0;34m\u001b[0m\u001b[0m\n",
      "\u001b[0;32m/afs/inf.ed.ac.uk/group/project/lowres/work/chainer2/speech2text/enc_dec.py\u001b[0m in \u001b[0;36mcompute_context_vector\u001b[0;34m(self, batches)\u001b[0m\n\u001b[1;32m    174\u001b[0m \u001b[0;34m\u001b[0m\u001b[0m\n\u001b[1;32m    175\u001b[0m         \u001b[0;32mif\u001b[0m \u001b[0mbatches\u001b[0m\u001b[0;34m:\u001b[0m\u001b[0;34m\u001b[0m\u001b[0m\n\u001b[0;32m--> 176\u001b[0;31m             \u001b[0mweights\u001b[0m \u001b[0;34m=\u001b[0m \u001b[0mF\u001b[0m\u001b[0;34m.\u001b[0m\u001b[0mbatch_matmul\u001b[0m\u001b[0;34m(\u001b[0m\u001b[0mself\u001b[0m\u001b[0;34m.\u001b[0m\u001b[0menc_states\u001b[0m\u001b[0;34m,\u001b[0m \u001b[0mself\u001b[0m\u001b[0;34m[\u001b[0m\u001b[0mself\u001b[0m\u001b[0;34m.\u001b[0m\u001b[0mrnn_dec\u001b[0m\u001b[0;34m[\u001b[0m\u001b[0;34m-\u001b[0m\u001b[0;36m1\u001b[0m\u001b[0;34m]\u001b[0m\u001b[0;34m]\u001b[0m\u001b[0;34m.\u001b[0m\u001b[0mh\u001b[0m\u001b[0;34m)\u001b[0m\u001b[0;34m\u001b[0m\u001b[0m\n\u001b[0m\u001b[1;32m    177\u001b[0m             \u001b[0;31m# weights = F.where(self.mask, weights, self.minf)\u001b[0m\u001b[0;34m\u001b[0m\u001b[0;34m\u001b[0m\u001b[0m\n\u001b[1;32m    178\u001b[0m             \u001b[0malphas\u001b[0m \u001b[0;34m=\u001b[0m \u001b[0mF\u001b[0m\u001b[0;34m.\u001b[0m\u001b[0msoftmax\u001b[0m\u001b[0;34m(\u001b[0m\u001b[0mweights\u001b[0m\u001b[0;34m)\u001b[0m\u001b[0;34m\u001b[0m\u001b[0m\n",
      "\u001b[0;32m/afs/inf.ed.ac.uk/group/project/lowres/work/anaconda3/envs/chainer2/lib/python3.6/site-packages/chainer/functions/math/matmul.py\u001b[0m in \u001b[0;36mbatch_matmul\u001b[0;34m(a, b, transa, transb)\u001b[0m\n\u001b[1;32m    223\u001b[0m             \u001b[0;36m3\u001b[0m\u001b[0;34m-\u001b[0m\u001b[0mD\u001b[0m \u001b[0marray\u001b[0m\u001b[0;34m.\u001b[0m\u001b[0;34m\u001b[0m\u001b[0m\n\u001b[1;32m    224\u001b[0m     \"\"\"\n\u001b[0;32m--> 225\u001b[0;31m     \u001b[0;32mreturn\u001b[0m \u001b[0mBatchMatMul\u001b[0m\u001b[0;34m(\u001b[0m\u001b[0mtransa\u001b[0m\u001b[0;34m=\u001b[0m\u001b[0mtransa\u001b[0m\u001b[0;34m,\u001b[0m \u001b[0mtransb\u001b[0m\u001b[0;34m=\u001b[0m\u001b[0mtransb\u001b[0m\u001b[0;34m)\u001b[0m\u001b[0;34m(\u001b[0m\u001b[0ma\u001b[0m\u001b[0;34m,\u001b[0m \u001b[0mb\u001b[0m\u001b[0;34m)\u001b[0m\u001b[0;34m\u001b[0m\u001b[0m\n\u001b[0m",
      "\u001b[0;32m/afs/inf.ed.ac.uk/group/project/lowres/work/anaconda3/envs/chainer2/lib/python3.6/site-packages/chainer/function.py\u001b[0m in \u001b[0;36m__call__\u001b[0;34m(self, *inputs)\u001b[0m\n\u001b[1;32m    198\u001b[0m             \u001b[0mself\u001b[0m\u001b[0;34m.\u001b[0m\u001b[0m_input_indexes_to_retain\u001b[0m \u001b[0;34m=\u001b[0m \u001b[0;32mNone\u001b[0m\u001b[0;34m\u001b[0m\u001b[0m\n\u001b[1;32m    199\u001b[0m             \u001b[0mself\u001b[0m\u001b[0;34m.\u001b[0m\u001b[0m_output_indexes_to_retain\u001b[0m \u001b[0;34m=\u001b[0m \u001b[0;32mNone\u001b[0m\u001b[0;34m\u001b[0m\u001b[0m\n\u001b[0;32m--> 200\u001b[0;31m             \u001b[0moutputs\u001b[0m \u001b[0;34m=\u001b[0m \u001b[0mself\u001b[0m\u001b[0;34m.\u001b[0m\u001b[0mforward\u001b[0m\u001b[0;34m(\u001b[0m\u001b[0min_data\u001b[0m\u001b[0;34m)\u001b[0m\u001b[0;34m\u001b[0m\u001b[0m\n\u001b[0m\u001b[1;32m    201\u001b[0m             \u001b[0;32massert\u001b[0m \u001b[0mtype\u001b[0m\u001b[0;34m(\u001b[0m\u001b[0moutputs\u001b[0m\u001b[0;34m)\u001b[0m \u001b[0;34m==\u001b[0m \u001b[0mtuple\u001b[0m\u001b[0;34m\u001b[0m\u001b[0m\n\u001b[1;32m    202\u001b[0m         \u001b[0;32mfor\u001b[0m \u001b[0mhook\u001b[0m \u001b[0;32min\u001b[0m \u001b[0msix\u001b[0m\u001b[0;34m.\u001b[0m\u001b[0mitervalues\u001b[0m\u001b[0;34m(\u001b[0m\u001b[0mhooks\u001b[0m\u001b[0;34m)\u001b[0m\u001b[0;34m:\u001b[0m\u001b[0;34m\u001b[0m\u001b[0m\n",
      "\u001b[0;32m/afs/inf.ed.ac.uk/group/project/lowres/work/anaconda3/envs/chainer2/lib/python3.6/site-packages/chainer/functions/math/matmul.py\u001b[0m in \u001b[0;36mforward\u001b[0;34m(self, x)\u001b[0m\n\u001b[1;32m    194\u001b[0m     \u001b[0;32mdef\u001b[0m \u001b[0mforward\u001b[0m\u001b[0;34m(\u001b[0m\u001b[0mself\u001b[0m\u001b[0;34m,\u001b[0m \u001b[0mx\u001b[0m\u001b[0;34m)\u001b[0m\u001b[0;34m:\u001b[0m\u001b[0;34m\u001b[0m\u001b[0m\n\u001b[1;32m    195\u001b[0m         \u001b[0ma\u001b[0m\u001b[0;34m,\u001b[0m \u001b[0mb\u001b[0m \u001b[0;34m=\u001b[0m \u001b[0mx\u001b[0m\u001b[0;34m\u001b[0m\u001b[0m\n\u001b[0;32m--> 196\u001b[0;31m         \u001b[0;32mreturn\u001b[0m \u001b[0m_batch_matmul\u001b[0m\u001b[0;34m(\u001b[0m\u001b[0ma\u001b[0m\u001b[0;34m,\u001b[0m \u001b[0mb\u001b[0m\u001b[0;34m,\u001b[0m \u001b[0mself\u001b[0m\u001b[0;34m.\u001b[0m\u001b[0mtransa\u001b[0m\u001b[0;34m,\u001b[0m \u001b[0mself\u001b[0m\u001b[0;34m.\u001b[0m\u001b[0mtransb\u001b[0m\u001b[0;34m)\u001b[0m\u001b[0;34m,\u001b[0m\u001b[0;34m\u001b[0m\u001b[0m\n\u001b[0m\u001b[1;32m    197\u001b[0m \u001b[0;34m\u001b[0m\u001b[0m\n\u001b[1;32m    198\u001b[0m     \u001b[0;32mdef\u001b[0m \u001b[0mbackward\u001b[0m\u001b[0;34m(\u001b[0m\u001b[0mself\u001b[0m\u001b[0;34m,\u001b[0m \u001b[0mx\u001b[0m\u001b[0;34m,\u001b[0m \u001b[0mgy\u001b[0m\u001b[0;34m)\u001b[0m\u001b[0;34m:\u001b[0m\u001b[0;34m\u001b[0m\u001b[0m\n",
      "\u001b[0;32m/afs/inf.ed.ac.uk/group/project/lowres/work/anaconda3/envs/chainer2/lib/python3.6/site-packages/chainer/functions/math/matmul.py\u001b[0m in \u001b[0;36m_batch_matmul\u001b[0;34m(a, b, transa, transb, transout)\u001b[0m\n\u001b[1;32m     73\u001b[0m             \u001b[0mret\u001b[0m\u001b[0;34m[\u001b[0m\u001b[0mi\u001b[0m\u001b[0;34m]\u001b[0m \u001b[0;34m=\u001b[0m \u001b[0mnumpy\u001b[0m\u001b[0;34m.\u001b[0m\u001b[0mdot\u001b[0m\u001b[0;34m(\u001b[0m\u001b[0ma\u001b[0m\u001b[0;34m[\u001b[0m\u001b[0mi\u001b[0m\u001b[0;34m]\u001b[0m\u001b[0;34m,\u001b[0m \u001b[0mb\u001b[0m\u001b[0;34m[\u001b[0m\u001b[0mi\u001b[0m\u001b[0;34m]\u001b[0m\u001b[0;34m)\u001b[0m\u001b[0;34m\u001b[0m\u001b[0m\n\u001b[1;32m     74\u001b[0m         \u001b[0;32mreturn\u001b[0m \u001b[0mret\u001b[0m\u001b[0;34m\u001b[0m\u001b[0m\n\u001b[0;32m---> 75\u001b[0;31m     \u001b[0;32mreturn\u001b[0m \u001b[0mxp\u001b[0m\u001b[0;34m.\u001b[0m\u001b[0mmatmul\u001b[0m\u001b[0;34m(\u001b[0m\u001b[0ma\u001b[0m\u001b[0;34m,\u001b[0m \u001b[0mb\u001b[0m\u001b[0;34m)\u001b[0m\u001b[0;34m\u001b[0m\u001b[0m\n\u001b[0m\u001b[1;32m     76\u001b[0m \u001b[0;34m\u001b[0m\u001b[0m\n\u001b[1;32m     77\u001b[0m \u001b[0;34m\u001b[0m\u001b[0m\n",
      "\u001b[0;32mcupy/core/core.pyx\u001b[0m in \u001b[0;36mcupy.core.core.matmul (cupy/core/core.cpp:78575)\u001b[0;34m()\u001b[0m\n",
      "\u001b[0;32mcupy/core/core.pyx\u001b[0m in \u001b[0;36mcupy.core.core.matmul (cupy/core/core.cpp:76945)\u001b[0;34m()\u001b[0m\n",
      "\u001b[0;32mcupy/core/core.pyx\u001b[0m in \u001b[0;36mcupy.core.core.ascontiguousarray (cupy/core/core.cpp:58862)\u001b[0;34m()\u001b[0m\n",
      "\u001b[0;32mcupy/core/core.pyx\u001b[0m in \u001b[0;36mcupy.core.core.ndarray.__init__ (cupy/core/core.cpp:6387)\u001b[0;34m()\u001b[0m\n",
      "\u001b[0;32mcupy/cuda/memory.pyx\u001b[0m in \u001b[0;36mcupy.cuda.memory.alloc (cupy/cuda/memory.cpp:6076)\u001b[0;34m()\u001b[0m\n",
      "\u001b[0;32mcupy/cuda/memory.pyx\u001b[0m in \u001b[0;36mcupy.cuda.memory.MemoryPool.malloc (cupy/cuda/memory.cpp:9344)\u001b[0;34m()\u001b[0m\n",
      "\u001b[0;32mcupy/cuda/memory.pyx\u001b[0m in \u001b[0;36mcupy.cuda.memory.MemoryPool.malloc (cupy/cuda/memory.cpp:9250)\u001b[0;34m()\u001b[0m\n",
      "\u001b[0;32mcupy/cuda/memory.pyx\u001b[0m in \u001b[0;36mcupy.cuda.memory.SingleDeviceMemoryPool.malloc (cupy/cuda/memory.cpp:7905)\u001b[0;34m()\u001b[0m\n",
      "\u001b[0;32mcupy/cuda/memory.pyx\u001b[0m in \u001b[0;36mcupy.cuda.memory.SingleDeviceMemoryPool.malloc (cupy/cuda/memory.cpp:7680)\u001b[0;34m()\u001b[0m\n",
      "\u001b[0;32mcupy/cuda/memory.pyx\u001b[0m in \u001b[0;36mcupy.cuda.memory._malloc (cupy/cuda/memory.cpp:6018)\u001b[0;34m()\u001b[0m\n",
      "\u001b[0;32mcupy/cuda/memory.pyx\u001b[0m in \u001b[0;36mcupy.cuda.memory._malloc (cupy/cuda/memory.cpp:5939)\u001b[0;34m()\u001b[0m\n",
      "\u001b[0;32mcupy/cuda/memory.pyx\u001b[0m in \u001b[0;36mcupy.cuda.memory.Memory.__init__ (cupy/cuda/memory.cpp:1773)\u001b[0;34m()\u001b[0m\n",
      "\u001b[0;32mcupy/cuda/runtime.pyx\u001b[0m in \u001b[0;36mcupy.cuda.runtime.malloc (cupy/cuda/runtime.cpp:3430)\u001b[0;34m()\u001b[0m\n",
      "\u001b[0;32mcupy/cuda/runtime.pyx\u001b[0m in \u001b[0;36mcupy.cuda.runtime.check_status (cupy/cuda/runtime.cpp:2242)\u001b[0;34m()\u001b[0m\n",
      "\u001b[0;31mCUDARuntimeError\u001b[0m: cudaErrorMemoryAllocation: out of memory"
     ]
    }
   ],
   "source": [
    "print(\"-\"*80)\n",
    "print(\"EPOCH = {0:d}\".format(last_epoch+1))\n",
    "pred_sents, utts, loss = feed_model(map_dict[key],\n",
    "                  b_dict=bucket_dict[key],\n",
    "                  vocab_dict=vocab_dict,\n",
    "                  batch_size=BATCH_SIZE,\n",
    "                  x_key=enc_key,\n",
    "                  y_key=dec_key,\n",
    "                  train=train,\n",
    "                  cat_speech_path=cat_speech_path, use_y=True)\n",
    "\n",
    "print(\"{0:s} {1:s} mean loss={2:.4f}\".format(\"*\" * 10,\n",
    "                                    \"train\" if train else \"dev\",\n",
    "                                    loss))\n",
    "print(\"-\")\n",
    "print(\"-\"*80)"
   ]
  },
  {
   "cell_type": "code",
   "execution_count": null,
   "metadata": {},
   "outputs": [],
   "source": [
    "display_words(m_dict, v_dict, pred_sents[:n], utts[:n], dec_key)"
   ]
  },
  {
   "cell_type": "code",
   "execution_count": null,
   "metadata": {},
   "outputs": [],
   "source": [
    "h, r = calc_bleu(m_dict, v_dict, pred_sents[:n], utts[:n], dec_key)"
   ]
  },
  {
   "cell_type": "code",
   "execution_count": null,
   "metadata": {},
   "outputs": [],
   "source": [
    "corpus_bleu(r, h)"
   ]
  },
  {
   "cell_type": "code",
   "execution_count": null,
   "metadata": {
    "collapsed": true
   },
   "outputs": [],
   "source": []
  }
 ],
 "metadata": {
  "kernelspec": {
   "display_name": "Python 3",
   "language": "python",
   "name": "python3"
  },
  "language_info": {
   "codemirror_mode": {
    "name": "ipython",
    "version": 3
   },
   "file_extension": ".py",
   "mimetype": "text/x-python",
   "name": "python",
   "nbconvert_exporter": "python",
   "pygments_lexer": "ipython3",
   "version": "3.6.1"
  }
 },
 "nbformat": 4,
 "nbformat_minor": 2
}
