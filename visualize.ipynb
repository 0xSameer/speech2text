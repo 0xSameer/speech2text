{
 "cells": [
  {
   "cell_type": "code",
   "execution_count": 145,
   "metadata": {
    "collapsed": true
   },
   "outputs": [],
   "source": [
    "import nltk\n",
    "from nltk.translate.bleu_score import sentence_bleu, corpus_bleu, modified_precision\n",
    "from nltk.translate.chrf_score import sentence_chrf, corpus_chrf\n",
    "from nltk.metrics import scores\n",
    "import scipy.io.wavfile\n",
    "from IPython.display import Audio\n",
    "from IPython.display import display\n",
    "from nltk.stem import *\n",
    "# from nltk.stem.snowball import SnowballStemmer\n",
    "from stemming.porter2 import stem\n",
    "import stemming\n",
    "\n",
    "%matplotlib inline"
   ]
  },
  {
   "cell_type": "code",
   "execution_count": 2,
   "metadata": {},
   "outputs": [
    {
     "name": "stdout",
     "output_type": "stream",
     "text": [
      "fisher + callhome sp/es - en configuration\n",
      "--------------------------------------------------\n",
      "loading info_dict from=./callhome_fbank_out/info.dict\n"
     ]
    },
    {
     "name": "stderr",
     "output_type": "stream",
     "text": [
      "100%|██████████| 3977/3977 [00:00<00:00, 397690.90it/s]\n",
      "100%|██████████| 3959/3959 [00:00<00:00, 379063.36it/s]\n",
      "100%|██████████| 3641/3641 [00:00<00:00, 375164.86it/s]\n",
      " 29%|██▉       | 40526/138708 [00:00<00:00, 405255.56it/s]"
     ]
    },
    {
     "name": "stdout",
     "output_type": "stream",
     "text": [
      "--------------------------------------------------\n",
      "creating buckets for: fisher_dev\n",
      "creating buckets for key: sp\n",
      "creating buckets for: fisher_dev2\n",
      "creating buckets for key: sp\n",
      "creating buckets for: fisher_test\n",
      "creating buckets for key: sp\n",
      "creating buckets for: fisher_train\n",
      "creating buckets for key: sp\n"
     ]
    },
    {
     "name": "stderr",
     "output_type": "stream",
     "text": [
      "100%|██████████| 138708/138708 [00:00<00:00, 435131.89it/s]\n",
      "100%|██████████| 3801/3801 [00:00<00:00, 396561.10it/s]\n",
      "100%|██████████| 1824/1824 [00:00<00:00, 373956.91it/s]\n",
      "100%|██████████| 14284/14284 [00:00<00:00, 391271.15it/s]\n"
     ]
    },
    {
     "name": "stdout",
     "output_type": "stream",
     "text": [
      "creating buckets for: callhome_devtest\n",
      "creating buckets for key: sp\n",
      "creating buckets for: callhome_evltest\n",
      "creating buckets for key: sp\n",
      "creating buckets for: callhome_train\n",
      "creating buckets for key: sp\n",
      "--------------------------------------------------\n",
      "saving info dict in: ./callhome_fbank_out/buckets_sp.dict\n",
      "all done ...\n",
      "--------------------------------------------------\n",
      "showing buckets for category: fisher_dev\n",
      "number of buckets=8, width of each bucket=256\n",
      "index | width | num   \n",
      "    0 |     0 |   1804\n",
      "    1 |   256 |   1047\n",
      "    2 |   512 |    559\n",
      "    3 |   768 |    348\n",
      "    4 |  1024 |    158\n",
      "    5 |  1280 |     53\n",
      "    6 |  1536 |      6\n",
      "    7 |  1792 |      2\n",
      "--------------------------------------------------\n",
      "showing buckets for category: fisher_dev2\n",
      "number of buckets=8, width of each bucket=256\n",
      "index | width | num   \n",
      "    0 |     0 |   1656\n",
      "    1 |   256 |   1177\n",
      "    2 |   512 |    546\n",
      "    3 |   768 |    363\n",
      "    4 |  1024 |    150\n",
      "    5 |  1280 |     50\n",
      "    6 |  1536 |     16\n",
      "    7 |  1792 |      1\n",
      "--------------------------------------------------\n",
      "showing buckets for category: fisher_test\n",
      "number of buckets=8, width of each bucket=256\n",
      "index | width | num   \n",
      "    0 |     0 |   1598\n",
      "    1 |   256 |    944\n",
      "    2 |   512 |    433\n",
      "    3 |   768 |    392\n",
      "    4 |  1024 |    208\n",
      "    5 |  1280 |     56\n",
      "    6 |  1536 |      8\n",
      "    7 |  1792 |      2\n",
      "--------------------------------------------------\n",
      "showing buckets for category: fisher_train\n",
      "number of buckets=8, width of each bucket=256\n",
      "index | width | num   \n",
      "    0 |     0 |  60043\n",
      "    1 |   256 |  36694\n",
      "    2 |   512 |  18572\n",
      "    3 |   768 |  13167\n",
      "    4 |  1024 |   7127\n",
      "    5 |  1280 |   2366\n",
      "    6 |  1536 |    566\n",
      "    7 |  1792 |    173\n",
      "--------------------------------------------------\n",
      "showing buckets for category: callhome_devtest\n",
      "number of buckets=8, width of each bucket=256\n",
      "index | width | num   \n",
      "    0 |     0 |   1910\n",
      "    1 |   256 |   1115\n",
      "    2 |   512 |    471\n",
      "    3 |   768 |    174\n",
      "    4 |  1024 |     81\n",
      "    5 |  1280 |     40\n",
      "    6 |  1536 |      9\n",
      "    7 |  1792 |      1\n",
      "--------------------------------------------------\n",
      "showing buckets for category: callhome_evltest\n",
      "number of buckets=8, width of each bucket=256\n",
      "index | width | num   \n",
      "    0 |     0 |    899\n",
      "    1 |   256 |    520\n",
      "    2 |   512 |    219\n",
      "    3 |   768 |    105\n",
      "    4 |  1024 |     46\n",
      "    5 |  1280 |     21\n",
      "    6 |  1536 |     12\n",
      "    7 |  1792 |      2\n",
      "--------------------------------------------------\n",
      "showing buckets for category: callhome_train\n",
      "number of buckets=8, width of each bucket=256\n",
      "index | width | num   \n",
      "    0 |     0 |   7446\n",
      "    1 |   256 |   3894\n",
      "    2 |   512 |   1620\n",
      "    3 |   768 |    737\n",
      "    4 |  1024 |    349\n",
      "    5 |  1280 |    147\n",
      "    6 |  1536 |     64\n",
      "    7 |  1792 |     27\n",
      "cnn details:\n",
      "{'in_channels': None, 'out_channels': 32, 'ksize': (3, 3), 'stride': (2, 2), 'pad': (1, 1)}\n",
      "{'in_channels': None, 'out_channels': 32, 'ksize': (3, 3), 'stride': (2, 2), 'pad': (1, 1)}\n",
      "--------------------------------------------------\n",
      "loading dict: ./callhome_fbank_out/map.dict\n",
      "loading dict: ./callhome_fbank_out/train_vocab.dict\n",
      "--------------------------------------------------\n",
      "loading dict: ./callhome_fbank_out/buckets_sp.dict\n",
      "--------------------------------------------------\n",
      "utterances in fisher_dev = 3979\n",
      "utterances in fisher_dev2 = 3961\n",
      "utterances in fisher_test = 3641\n",
      "utterances in fisher_train = 138819\n",
      "utterances in callhome_devtest = 3966\n",
      "utterances in callhome_evltest = 1829\n",
      "utterances in callhome_train = 15080\n",
      "vocab size for sp = 0\n",
      "vocab size for en_w = 18555\n",
      "model file name: fsh_fbank/seq2seq_sen-138819_hwy0-dec4_emb-256-h-256__sp_en_w_gru_drpt-0.3_noise-0_l2-0.000100_32_32_2_2_2DCNN_BN_LN_enc-4.model\n",
      "log file name: fsh_fbank/train_sen-138819_hwy0-dec4_emb-256-h-256__sp_en_w_gru_drpt-0.3_noise-0_l2-0.000100_32_32_2_2_2DCNN_BN_LN_enc-4.log\n",
      "cnn_out_dim = rnn_in_units =  320\n"
     ]
    },
    {
     "name": "stderr",
     "output_type": "stream",
     "text": [
      "/afs/inf.ed.ac.uk/group/project/lowres/work/anaconda3/envs/chainer3/lib/python3.6/site-packages/chainer/utils/experimental.py:104: FutureWarning: chainer.links.normalization.layer_normalization.py is experimental. The interface can change in the future.\n",
      "  FutureWarning)\n"
     ]
    },
    {
     "name": "stdout",
     "output_type": "stream",
     "text": [
      "using ADAM optimizer\n"
     ]
    }
   ],
   "source": [
    "from nmt_run import *"
   ]
  },
  {
   "cell_type": "code",
   "execution_count": 3,
   "metadata": {
    "collapsed": true
   },
   "outputs": [],
   "source": [
    "model_files = [f for f in os.listdir(os.path.dirname(model_fil))\n",
    "                   if os.path.basename(model_fil).replace('.model','') in f]\n",
    "# print(model_files)"
   ]
  },
  {
   "cell_type": "code",
   "execution_count": 4,
   "metadata": {},
   "outputs": [],
   "source": [
    "max_model_fil = max(model_files, key=lambda s: int(s.split('_')[-1].split('.')[0]))"
   ]
  },
  {
   "cell_type": "code",
   "execution_count": 5,
   "metadata": {},
   "outputs": [
    {
     "data": {
      "text/plain": [
       "'seq2seq_sen-138819_hwy0-dec4_emb-256-h-256__sp_en_w_gru_drpt-0.3_noise-0_l2-0.000100_32_32_2_2_2DCNN_BN_LN_enc-4_151.model'"
      ]
     },
     "execution_count": 5,
     "metadata": {},
     "output_type": "execute_result"
    }
   ],
   "source": [
    "max_model_fil"
   ]
  },
  {
   "cell_type": "code",
   "execution_count": 6,
   "metadata": {},
   "outputs": [
    {
     "name": "stdout",
     "output_type": "stream",
     "text": [
      "--------------------------------------------------------------------------------\n",
      "model found = \n",
      "fsh_fbank/seq2seq_sen-138819_hwy0-dec4_emb-256-h-256__sp_en_w_gru_drpt-0.3_noise-0_l2-0.000100_32_32_2_2_2DCNN_BN_LN_enc-4_151.model\n",
      "loading ...\n",
      "finished loading ..\n"
     ]
    }
   ],
   "source": [
    "last_epoch = check_model()"
   ]
  },
  {
   "cell_type": "code",
   "execution_count": 7,
   "metadata": {},
   "outputs": [
    {
     "data": {
      "text/plain": [
       "'fsh_fbank/dev_sen-138819_hwy0-dec4_emb-256-h-256__sp_en_w_gru_drpt-0.3_noise-0_l2-0.000100_32_32_2_2_2DCNN_BN_LN_enc-4.log'"
      ]
     },
     "execution_count": 7,
     "metadata": {},
     "output_type": "execute_result"
    }
   ],
   "source": [
    "log_dev_fil_name"
   ]
  },
  {
   "cell_type": "code",
   "execution_count": 8,
   "metadata": {},
   "outputs": [],
   "source": [
    "log_train = np.loadtxt(log_train_fil_name, delimiter=',', skiprows=False).transpose()\n",
    "log_test = np.genfromtxt(log_dev_fil_name, delimiter=',', usecols = (0,1,2)).transpose()"
   ]
  },
  {
   "cell_type": "code",
   "execution_count": 9,
   "metadata": {},
   "outputs": [
    {
     "data": {
      "image/png": "[encoded data removed]",
      "text/plain": [
       "<matplotlib.figure.Figure at 0x7f5e988e66d8>"
      ]
     },
     "metadata": {},
     "output_type": "display_data"
    }
   ],
   "source": [
    "fig, ax1 = plt.subplots()\n",
    "fig.set_size_inches(8,5)\n",
    "ax1.plot(log_train[0], log_train[1], color='#ff7700')\n",
    "ax1.plot(log_test[0], log_test[1], 'r--')\n",
    "ax1.set_xlabel('epoch', size=24)\n",
    "ax1.set_ylabel('loss', color='r', size=24)\n",
    "for tl in ax1.get_yticklabels():\n",
    "    tl.set_color('r')\n",
    "    tl.set_fontsize(18)\n",
    "plt.legend(['train loss', 'dev loss'], bbox_to_anchor=(1.45, 0.96), framealpha=0, fontsize=20)    \n",
    "ax2 = ax1.twinx()\n",
    "ax2.plot(log_test[0], log_test[2]*100, 'b-')\n",
    "ax2.set_xlabel('iteration')\n",
    "ax2.set_ylabel('dev bleu', color='b', size=24)\n",
    "# ax1.set_xlim(0, 60)\n",
    "for tl in ax2.get_yticklabels():\n",
    "    tl.set_color('b')\n",
    "    tl.set_fontsize(18) \n",
    "plt.legend(['dev bleu'], bbox_to_anchor=(1.44, 1.04), framealpha=0, fontsize=20)\n",
    "# plt.legend(['dev bleu'], bbox_to_anchor=(1.06, 0.9), framealpha=0, fontsize=20)\n",
    "plt.grid(False)\n",
    "plt.tight_layout()"
   ]
  },
  {
   "cell_type": "code",
   "execution_count": 10,
   "metadata": {
    "collapsed": true
   },
   "outputs": [],
   "source": [
    "import nltk.translate.bleu_score"
   ]
  },
  {
   "cell_type": "code",
   "execution_count": 11,
   "metadata": {
    "collapsed": true
   },
   "outputs": [],
   "source": [
    "def play_utt(utt, m_dict):\n",
    "    sr, y = scipy.io.wavfile.read(os.path.join(wavs_path, utt.rsplit(\"-\",1)[0]+'.wav'))\n",
    "    start_t = min(seg['start'] for seg in m_dict[utt]['seg'])\n",
    "    end_t = max(seg['end'] for seg in m_dict[utt]['seg'])\n",
    "    print(start_t, end_t)\n",
    "    start_t_samples, end_t_samples = int(start_t*sr), int(end_t*sr)\n",
    "    display(Audio(y[start_t_samples:end_t_samples], rate=sr))"
   ]
  },
  {
   "cell_type": "code",
   "execution_count": 12,
   "metadata": {
    "collapsed": true
   },
   "outputs": [],
   "source": [
    "def display_words(m_dict, v_dict, preds, utts, dec_key, key, min_len=0, max_len=MAX_EN_LEN, play_audio=False):\n",
    "    es_ref = []\n",
    "    en_ref = []\n",
    "    for u in utts:\n",
    "        es_ref.append(\" \".join([w.decode() for w in m_dict[u]['es_w']]))\n",
    "        if type(m_dict[u][dec_key]) == list:\n",
    "            en_ref.append(\" \".join([w.decode() for w in m_dict[u]['en_w']]))\n",
    "        else:\n",
    "            en_ref.append(\" \".join([w.decode() for w in m_dict[u]['en_w'][0]]))\n",
    "\n",
    "    en_pred = []\n",
    "    join_str = ' ' if dec_key.endswith('_w') else ''\n",
    "\n",
    "    for p in preds:\n",
    "        t_str = join_str.join([v_dict['i2w'][i].decode() for i in p])\n",
    "        t_str = t_str[:t_str.find('_EOS')]\n",
    "        en_pred.append(t_str)\n",
    "\n",
    "    for u, es, en, p in zip(utts, es_ref, en_ref, en_pred):\n",
    "        if len(en.split(\" \")) >= min_len and len(en.split(\" \")) <= max_len:\n",
    "            # for reference, 1st word is GO_ID, no need to display\n",
    "            print(\"Utterance: {0:s}\".format(u))\n",
    "            display_pp = PrettyTable([\"cat\",\"sent\"], hrules=True)\n",
    "            display_pp.align = \"l\"\n",
    "            display_pp.header = False\n",
    "            display_pp.add_row([\"es ref\", textwrap.fill(es,50)])\n",
    "            display_pp.add_row([\"en ref\", textwrap.fill(en,50)])\n",
    "            display_pp.add_row([\"en pred\", textwrap.fill(p,50)])\n",
    "\n",
    "            print(display_pp)\n",
    "            if play_audio:\n",
    "                play_utt(u, m_dict)\n",
    "    "
   ]
  },
  {
   "cell_type": "code",
   "execution_count": 13,
   "metadata": {
    "collapsed": true
   },
   "outputs": [],
   "source": [
    "def display_words_latex(m_dict, v_dict, preds, utts, dec_key, min_len=0, max_len=2*MAX_EN_LEN):\n",
    "    print(\"min length={0:d}, max length={1:d}\".format(min_len, max_len))\n",
    "    es_ref = []\n",
    "    en_ref = []\n",
    "    for u in utts:\n",
    "        es_ref.append(\" \".join([w.decode() for w in m_dict[u]['es_w']]))\n",
    "        if type(m_dict[u][dec_key]) == list:\n",
    "            en_ref.append(\" \".join([w.decode() for w in m_dict[u]['en_w']]))\n",
    "        else:\n",
    "            en_ref.append(\" \".join([w.decode() for w in m_dict[u]['en_w'][0]]))\n",
    "\n",
    "    en_pred = []\n",
    "    join_str = ' ' if dec_key.endswith('_w') else ''\n",
    "\n",
    "    for p in preds:\n",
    "        t_str = join_str.join([v_dict['i2w'][i].decode() for i in p])\n",
    "        t_str = t_str[:t_str.find('_EOS')]\n",
    "        en_pred.append(t_str)\n",
    "\n",
    "    total_matching_len = 0\n",
    "\n",
    "    for u, es, en, p in zip(utts, es_ref, en_ref, en_pred):\n",
    "        if len(es.split(\" \")) >= min_len and len(es.split(\" \")) <= max_len:\n",
    "            total_matching_len += 1\n",
    "            # for reference, 1st word is GO_ID, no need to display\n",
    "            print(\"Utterance: {0:s}\".format(u))\n",
    "            print(\"{0:d} & {1:s} & {2:s} & {3:s} \\\\\\\\\".format(total_matching_len, es, en, p))\n",
    "\n",
    "    print(\"total utts matching length filters={0:d}\".format(total_matching_len))"
   ]
  },
  {
   "cell_type": "code",
   "execution_count": 33,
   "metadata": {
    "collapsed": true
   },
   "outputs": [],
   "source": [
    "def write_predictions_to_file(m_dict, v_dict, preds, utts, dec_key, key, \n",
    "                              min_len=0, max_len=2*MAX_EN_LEN, stemmify=False):\n",
    "    print(\"min length={0:d}, max length={1:d}\".format(min_len, max_len))\n",
    "    en_hyp = []\n",
    "    en_ref = []\n",
    "    ref_key = 'en_w' if 'en_' in dec_key else 'es_w'\n",
    "    src_key = 'es_w'\n",
    "    \n",
    "#     if stemmify:\n",
    "#         stemmer = SnowballStemmer(\"english\")\n",
    "    \n",
    "    for u in tqdm(utts, ncols=80):\n",
    "        if len(m_dict[u][src_key]) >= min_len and len(m_dict[u][src_key]) <= max_len:\n",
    "            if type(m_dict[u][ref_key]) == list:\n",
    "                if stemmify:\n",
    "                    en_ref.append(\" \".join([stem(w.decode()) for w in m_dict[u]['en_w']]))\n",
    "                else:\n",
    "                    en_ref.append(\" \".join([w.decode() for w in m_dict[u]['en_w']]))\n",
    "            else:\n",
    "                en_r_list = []\n",
    "                for r in m_dict[u][ref_key]:\n",
    "                    if stemmify:\n",
    "                        en_r_list.append(\" \".join([stem(w.decode()) for w in r]))\n",
    "                    else:\n",
    "                        en_r_list.append(\" \".join([w.decode() for w in r]))\n",
    "                en_ref.append(en_r_list)\n",
    "\n",
    "    join_str = ' ' if dec_key.endswith('_w') else ''\n",
    "\n",
    "    total_matching_len = 0\n",
    "\n",
    "    for u, p in zip(utts, preds):\n",
    "        if len(m_dict[u][src_key]) >= min_len and len(m_dict[u][src_key]) <= max_len:\n",
    "            total_matching_len += 1\n",
    "            if stemmify:\n",
    "                t_str = join_str.join([stem(v_dict['i2w'][i].decode()) if i != EOS_ID else EOS.decode() for i in p])\n",
    "            else:\n",
    "                t_str = join_str.join([v_dict['i2w'][i].decode() for i in p])\n",
    "            t_str = t_str[:t_str.find('_EOS')]\n",
    "            en_hyp.append(t_str)\n",
    "\n",
    "\n",
    "    print(\"total utts matching length filters={0:d}\".format(total_matching_len))\n",
    "    \n",
    "    with open(\"{0:s}_mt-output\".format(key), \"w\") as pred_f:\n",
    "        for p in en_hyp:\n",
    "            pred_f.write(\"{0:s}\\n\".format(p))\n",
    "        # end for\n",
    "    # end while\n",
    "    \n",
    "    if type(m_dict[utts[0]][ref_key]) == list:\n",
    "        with open(\"{0:s}.ref0\".format(key), \"w\") as ref_f:\n",
    "            for r in en_ref:\n",
    "                ref_f.write(\"{0:s}\\n\".format(r))\n",
    "    else:\n",
    "        num_ref = len(m_dict[u][ref_key])\n",
    "        for i in range(num_ref):\n",
    "            with open(\"{0:s}_en.ref{1:d}\".format(key,i), \"w\") as ref_f:\n",
    "                for r in en_ref:\n",
    "                    ref_f.write(\"{0:s}\\n\".format(r[i]))\n",
    "                # end for each utt\n",
    "            # end with\n",
    "        # end for reference\n",
    "    # end else\n",
    "    print(\"done\")\n",
    "    return en_ref, en_hyp"
   ]
  },
  {
   "cell_type": "markdown",
   "metadata": {},
   "source": [
    "### Fisher dev"
   ]
  },
  {
   "cell_type": "code",
   "execution_count": 34,
   "metadata": {
    "collapsed": true
   },
   "outputs": [],
   "source": [
    "key='fisher_dev'\n",
    "train=False\n",
    "m_dict = map_dict[key]\n",
    "v_dict = vocab_dict[dec_key]\n",
    "n=len(map_dict[key])\n",
    "BATCH_SIZE = 32"
   ]
  },
  {
   "cell_type": "code",
   "execution_count": 19,
   "metadata": {
    "collapsed": true
   },
   "outputs": [],
   "source": [
    "cat_speech_path = os.path.join(out_path, key)\n",
    "wavs_path = os.path.join(out_path, \"wavs\")"
   ]
  },
  {
   "cell_type": "code",
   "execution_count": 21,
   "metadata": {},
   "outputs": [
    {
     "name": "stderr",
     "output_type": "stream",
     "text": [
      "\r",
      "  0%|                                                  | 0/3977 [00:00<?, ?it/s]"
     ]
    },
    {
     "name": "stdout",
     "output_type": "stream",
     "text": [
      "--------------------------------------------------------------------------------\n",
      "EPOCH = 152\n"
     ]
    },
    {
     "name": "stderr",
     "output_type": "stream",
     "text": [
      "b=2,l=2.50,avg=2.33: 100%|██████████████████| 3977/3977 [11:49<00:00,  2.25it/s]"
     ]
    },
    {
     "name": "stdout",
     "output_type": "stream",
     "text": [
      "********** dev mean loss=2.3309\n",
      "-\n",
      "--------------------------------------------------------------------------------\n"
     ]
    },
    {
     "name": "stderr",
     "output_type": "stream",
     "text": [
      "\n"
     ]
    }
   ],
   "source": [
    "print(\"-\"*80)\n",
    "print(\"EPOCH = {0:d}\".format(last_epoch+1))\n",
    "fsh_pred_sents, fsh_utts, loss = feed_model(map_dict[key],\n",
    "                  b_dict=bucket_dict[key],\n",
    "                  vocab_dict=vocab_dict,\n",
    "                  batch_size=BATCH_SIZE,\n",
    "                  x_key=enc_key,\n",
    "                  y_key=dec_key,\n",
    "                  train=train,\n",
    "                  cat_speech_path=cat_speech_path, use_y=True, mini=False)\n",
    "\n",
    "print(\"{0:s} {1:s} mean loss={2:.4f}\".format(\"*\" * 10,\n",
    "                                    \"train\" if train else \"dev\",\n",
    "                                    loss))\n",
    "print(\"-\")\n",
    "print(\"-\"*80)"
   ]
  },
  {
   "cell_type": "code",
   "execution_count": 22,
   "metadata": {
    "collapsed": true
   },
   "outputs": [],
   "source": [
    "# Eval parameters\n",
    "ref_index = -1\n",
    "min_len, max_len= 0, 200\n",
    "displayN = 50"
   ]
  },
  {
   "cell_type": "code",
   "execution_count": 23,
   "metadata": {},
   "outputs": [
    {
     "name": "stdout",
     "output_type": "stream",
     "text": [
      "Utterance: 20051018_210220_279_fsp-A-19\n",
      "+---------+----------------------------------------------------+\n",
      "| es ref  | para poder que ellos te ayuden pero con la ayuda   |\n",
      "|         | que te dan no es suficiente para que tu poder      |\n",
      "|         | sobrevivas                                         |\n",
      "+---------+----------------------------------------------------+\n",
      "| en ref  | so that they are able to help you but the help     |\n",
      "|         | that they give you is not enough for you to be     |\n",
      "|         | able to survive                                    |\n",
      "+---------+----------------------------------------------------+\n",
      "| en pred | for the judge that they help you but they help you |\n",
      "|         | help you that you survive                          |\n",
      "+---------+----------------------------------------------------+\n",
      "Utterance: 20051018_210220_279_fsp-A-67\n",
      "+---------+----------------------------------------------------+\n",
      "| es ref  | fueron por lo que tenían ir y pedir ayuda y tal    |\n",
      "|         | vez ni lo querían hacer eso pero tuvieron que      |\n",
      "|         | hacerlo                                            |\n",
      "+---------+----------------------------------------------------+\n",
      "| en ref  | they went because they had to go and ask for help  |\n",
      "|         | and maybe they didn t want to do that but they had |\n",
      "|         | to                                                 |\n",
      "+---------+----------------------------------------------------+\n",
      "| en pred | it was a very quiet time i lost and perhaps they   |\n",
      "|         | didn t even want to do that but they were to do it |\n",
      "+---------+----------------------------------------------------+\n",
      "Utterance: 20051024_181110_329_fsp-A-26\n",
      "+---------+------------------------------------------------+\n",
      "| es ref  | me dijeron bueno y leí que filadelfia era      |\n",
      "|         | peligroso y tal y                              |\n",
      "+---------+------------------------------------------------+\n",
      "| en ref  | they told me good that philadelphia was little |\n",
      "|         | dangeous and such and                          |\n",
      "+---------+------------------------------------------------+\n",
      "| en pred | they told me to me that in philadelphia it was |\n",
      "|         | dangerous and it was                           |\n",
      "+---------+------------------------------------------------+\n",
      "Utterance: 20051018_210220_279_fsp-B-44\n",
      "+---------+--------------------------------------------------+\n",
      "| es ref  | no no quiere porque no quiere tener que el       |\n",
      "|         | gobierno ni le ni le ayuda para nada             |\n",
      "+---------+--------------------------------------------------+\n",
      "| en ref  | no not because he does not want to have that the |\n",
      "|         | government nor neither will help him             |\n",
      "+---------+--------------------------------------------------+\n",
      "| en pred | no they don t want to want to be the government  |\n",
      "|         | and thousands help help at all                   |\n",
      "+---------+--------------------------------------------------+\n",
      "Utterance: 20051017_234550_276_fsp-B-104\n",
      "+---------+----------------------------------------------------+\n",
      "| es ref  | de celulares bueno un montón imagínate me faltan   |\n",
      "|         | como nueve nada más me faltan gracias a dios       |\n",
      "+---------+----------------------------------------------------+\n",
      "| en ref  | about cell phones well a lot i only have nine left |\n",
      "|         | to go thanks god                                   |\n",
      "+---------+----------------------------------------------------+\n",
      "| en pred | of cellular well a lot imagine how many i need     |\n",
      "|         | like nine and only the ones of my god              |\n",
      "+---------+----------------------------------------------------+\n",
      "Utterance: 20051016_180547_265_fsp-A-39\n",
      "+---------+----------------------------------------------------+\n",
      "| es ref  | se lo explica bien ella entiende mira y esto del   |\n",
      "|         | e-mail ¿tu has comprado con ¿no has solicitado     |\n",
      "+---------+----------------------------------------------------+\n",
      "| en ref  | if you explain it well she understands look and    |\n",
      "|         | this about the e-mail have you bought with you     |\n",
      "|         | haven t requested                                  |\n",
      "+---------+----------------------------------------------------+\n",
      "| en pred | the good good people understand look and i ve been |\n",
      "|         | the whole email they ve bought them                |\n",
      "+---------+----------------------------------------------------+\n",
      "Utterance: 20051016_180547_265_fsp-A-25\n",
      "+---------+----------------------------------------------------+\n",
      "| es ref  | a mi como tres o yo no sé entonces les envié un    |\n",
      "|         | e-mail hasta esta shudong shudong no sé que        |\n",
      "+---------+----------------------------------------------------+\n",
      "| en ref  | to me like three or i don t know then i sent them  |\n",
      "|         | an e-mail to this shudong shudong i don t know     |\n",
      "|         | what                                               |\n",
      "+---------+----------------------------------------------------+\n",
      "| en pred | yes me like i have another i don t know if i would |\n",
      "|         | give him my email to helping me and then           |\n",
      "+---------+----------------------------------------------------+\n",
      "Utterance: 20051026_180724_341_fsp-B-74\n",
      "+---------+----------------------------------------------------+\n",
      "| es ref  | porque yo yo algunas veces estamos estamos un      |\n",
      "|         | grupo hablando y digo mirá es dominicano qué sucio |\n",
      "|         | esto y esto pero estoy hablando en un grupo con    |\n",
      "+---------+----------------------------------------------------+\n",
      "| en ref  | because sometimes we are talking in a group look   |\n",
      "|         | he is a dominican so dirty this and that but i am  |\n",
      "|         | talking with the group                             |\n",
      "+---------+----------------------------------------------------+\n",
      "| en pred | because i i just we were going to europe to live   |\n",
      "|         | in the carolina look at the dominican that started |\n",
      "|         | this but i m talking t                             |\n",
      "+---------+----------------------------------------------------+\n",
      "Utterance: 20051019_210146_289_fsp-A-54\n",
      "+---------+----------------------------------------------------+\n",
      "| es ref  | hay no hay tanta diferencia entre pobre y rico en  |\n",
      "|         | canadá como hay aquí en estados unidos             |\n",
      "+---------+----------------------------------------------------+\n",
      "| en ref  | there is there is not that much difference between |\n",
      "|         | a rich and a poor person in canada like there is   |\n",
      "|         | here in the united states                          |\n",
      "+---------+----------------------------------------------------+\n",
      "| en pred | there aren t so many poor people and rich and the  |\n",
      "|         | the way here in the united states                  |\n",
      "+---------+----------------------------------------------------+\n",
      "Utterance: 20051009_210519_219_fsp-A-49\n",
      "+---------+--------------------------------------------------+\n",
      "| es ref  | solamente entre ellos que se tra- se tratan de   |\n",
      "|         | casarse y de para que tengan la misma religión   |\n",
      "+---------+--------------------------------------------------+\n",
      "| en ref  | only among themselves that they tr- they try to  |\n",
      "|         | marry and so they have the same religion         |\n",
      "+---------+--------------------------------------------------+\n",
      "| en pred | only between them that they trying to marry each |\n",
      "|         | other religion religion                          |\n",
      "+---------+--------------------------------------------------+\n",
      "Utterance: 20051022_180817_311_fsp-A-71\n",
      "+---------+----------------------------------------------------+\n",
      "| es ref  | sí el arpa es bien bonito sabe lo que me gusta     |\n",
      "|         | también la música de acordeón me encanta también   |\n",
      "+---------+----------------------------------------------------+\n",
      "| en ref  | yeah the violin is good you know what i like as    |\n",
      "|         | well accordion music i live it as well             |\n",
      "+---------+----------------------------------------------------+\n",
      "| en pred | yes i understand it very nice you know what i like |\n",
      "|         | the music what i love it                           |\n",
      "+---------+----------------------------------------------------+\n",
      "Utterance: 20051018_210744_280_fsp-A-28\n",
      "+---------+---------------------------------------------+\n",
      "| es ref  | oh qué b- lindo no dieciocho oh boy         |\n",
      "+---------+---------------------------------------------+\n",
      "| en ref  | oh how nice no 18 oh boy                    |\n",
      "+---------+---------------------------------------------+\n",
      "| en pred | oh that s nice you don t come from eighteen |\n",
      "|         | eighteen oh boy                             |\n",
      "+---------+---------------------------------------------+\n",
      "Utterance: 20051010_212418_225_fsp-A-1\n",
      "+---------+----------------------------------------------------+\n",
      "| es ref  | buenas noches ¿cómo está con norma de aquí atlanta |\n",
      "|         | georgia ¿y usted de dónde                          |\n",
      "+---------+----------------------------------------------------+\n",
      "| en ref  | good night how are you with norma here from        |\n",
      "|         | atlanta georgia where are you from                 |\n",
      "+---------+----------------------------------------------------+\n",
      "| en pred | good evening how are you norma from here atlanta   |\n",
      "|         | georgia and where                                  |\n",
      "+---------+----------------------------------------------------+\n",
      "Utterance: 20051018_210744_280_fsp-B-52\n",
      "+---------+----------------------------------------------------+\n",
      "| es ref  | y especialmente si yo me lo lavo por la mañana y   |\n",
      "|         | salgo y lo tengo en un en un moñito en un moño     |\n",
      "+---------+----------------------------------------------------+\n",
      "| en ref  | and especially if i wash it in the morning and     |\n",
      "|         | leave it in a in a little bun a bun                |\n",
      "+---------+----------------------------------------------------+\n",
      "| en pred | especially if i have given it at the morning and i |\n",
      "|         | have it in a very small town                       |\n",
      "+---------+----------------------------------------------------+\n",
      "Utterance: 20051018_210220_279_fsp-B-26\n",
      "+---------+----------------------------------------------------+\n",
      "| es ref  | veinte y cuatro mil dólares al año oh my goodness  |\n",
      "|         | por cuatro personas no                             |\n",
      "+---------+----------------------------------------------------+\n",
      "| en ref  | twenty four thousand dollars a year oh my goodness |\n",
      "|         | for four persons no                                |\n",
      "+---------+----------------------------------------------------+\n",
      "| en pred | twenty four thousand thousand dollars a year oh my |\n",
      "|         | michael with four people no                        |\n",
      "+---------+----------------------------------------------------+\n",
      "Utterance: 20051016_180547_265_fsp-A-78\n",
      "+---------+----------------------------------------------------+\n",
      "| es ref  | ah y como es en los en los foros tu has pensando   |\n",
      "|         | en los foros esos de de la univison o telemundo    |\n",
      "+---------+----------------------------------------------------+\n",
      "| en ref  | ah and how is in the in the forums had you thought |\n",
      "|         | in the forums like the univision or telemundo      |\n",
      "+---------+----------------------------------------------------+\n",
      "| en pred | ah is how the the the the the fire were were the   |\n",
      "|         | about the division or                              |\n",
      "+---------+----------------------------------------------------+\n",
      "Utterance: 20051009_182032_217_fsp-B-28\n",
      "+---------+-------------------------+\n",
      "| es ref  | oh okay yo soy católica |\n",
      "+---------+-------------------------+\n",
      "| en ref  | oh ok i m catholic      |\n",
      "+---------+-------------------------+\n",
      "| en pred | oh ok i m catholic      |\n",
      "+---------+-------------------------+\n",
      "Utterance: 20051023_232057_325_fsp-A-109\n",
      "+---------+-----+\n",
      "| es ref  | sí  |\n",
      "+---------+-----+\n",
      "| en ref  | yes |\n",
      "+---------+-----+\n",
      "| en pred | yes |\n",
      "+---------+-----+\n",
      "Utterance: 20051017_180712_270_fsp-B-41\n",
      "+---------+----+\n",
      "| es ref  | oh |\n",
      "+---------+----+\n",
      "| en ref  | oh |\n",
      "+---------+----+\n",
      "| en pred | oh |\n",
      "+---------+----+\n",
      "Utterance: 20051009_210519_219_fsp-A-7\n",
      "+---------+-----------+\n",
      "| es ref  | ajá ajá   |\n",
      "+---------+-----------+\n",
      "| en ref  | yeah yeah |\n",
      "+---------+-----------+\n",
      "| en pred | aha aha   |\n",
      "+---------+-----------+\n",
      "Utterance: 20051023_232057_325_fsp-B-39\n",
      "+---------+-----------------------------+\n",
      "| es ref  | a veces demasiado tranquilo |\n",
      "+---------+-----------------------------+\n",
      "| en ref  | sometimes too quiet         |\n",
      "+---------+-----------------------------+\n",
      "| en pred | sometimes much peaceful     |\n",
      "+---------+-----------------------------+\n",
      "Utterance: 20051009_210519_219_fsp-A-16\n",
      "+---------+-------------------------------------+\n",
      "| es ref  | yea la religión es como la política |\n",
      "+---------+-------------------------------------+\n",
      "| en ref  | yeah religion is like politics      |\n",
      "+---------+-------------------------------------+\n",
      "| en pred | yeah religion is as a politic       |\n",
      "+---------+-------------------------------------+\n",
      "Utterance: 20051025_212334_337_fsp-B-65\n",
      "+---------+---------------------------------+\n",
      "| es ref  | la pe- la pena de muerte ya     |\n",
      "+---------+---------------------------------+\n",
      "| en ref  | the death penalty ya            |\n",
      "+---------+---------------------------------+\n",
      "| en pred | that they re in the luck and yo |\n",
      "+---------+---------------------------------+\n",
      "Utterance: 20051010_212418_225_fsp-B-21\n",
      "+---------+-----+\n",
      "| es ref  | ajá |\n",
      "+---------+-----+\n",
      "| en ref  | aha |\n",
      "+---------+-----+\n",
      "| en pred | aha |\n",
      "+---------+-----+\n",
      "Utterance: 20051017_234550_276_fsp-A-8\n",
      "+---------+---------------+\n",
      "| es ref  | uhh tarde     |\n",
      "+---------+---------------+\n",
      "| en ref  | uhh late      |\n",
      "+---------+---------------+\n",
      "| en pred | oh sure right |\n",
      "+---------+---------------+\n",
      "Utterance: 20051018_210220_279_fsp-B-25\n",
      "+---------+-----+\n",
      "| es ref  | ajá |\n",
      "+---------+-----+\n",
      "| en ref  | aja |\n",
      "+---------+-----+\n",
      "| en pred | aha |\n",
      "+---------+-----+\n",
      "Utterance: 20051017_234550_276_fsp-B-1\n",
      "+---------+-----------------+\n",
      "| es ref  | ¡ buenas noches |\n",
      "+---------+-----------------+\n",
      "| en ref  | good night      |\n",
      "+---------+-----------------+\n",
      "| en pred | good evening    |\n",
      "+---------+-----------------+\n",
      "Utterance: 20051009_182032_217_fsp-A-28\n",
      "+---------+--------------------+\n",
      "| es ref  | ¿ah que bien       |\n",
      "+---------+--------------------+\n",
      "| en ref  | ah that s good     |\n",
      "+---------+--------------------+\n",
      "| en pred | yes oh that s good |\n",
      "+---------+--------------------+\n",
      "Utterance: 20051026_180724_341_fsp-B-20\n",
      "+---------+-----+\n",
      "| es ref  | sí  |\n",
      "+---------+-----+\n",
      "| en ref  | yes |\n",
      "+---------+-----+\n",
      "| en pred | yes |\n",
      "+---------+-----+\n",
      "Utterance: 20051018_210744_280_fsp-A-12\n",
      "+---------+---------------------+\n",
      "| es ref  | ajá oh qué bueno    |\n",
      "+---------+---------------------+\n",
      "| en ref  | aha oh that s great |\n",
      "+---------+---------------------+\n",
      "| en pred | aha oh how nice     |\n",
      "+---------+---------------------+\n",
      "Utterance: 20051026_180724_341_fsp-A-73\n",
      "+---------+------------+\n",
      "| es ref  | so en ese  |\n",
      "+---------+------------+\n",
      "| en ref  | so in that |\n",
      "+---------+------------+\n",
      "| en pred | so in that |\n",
      "+---------+------------+\n",
      "Utterance: 20051022_180817_311_fsp-B-8\n",
      "+---------+---------------------------------+\n",
      "| es ref  | sí es muy buena la música no    |\n",
      "+---------+---------------------------------+\n",
      "| en ref  | yes it is very good music right |\n",
      "+---------+---------------------------------+\n",
      "| en pred | yes it s very good the music is |\n",
      "+---------+---------------------------------+\n",
      "Utterance: 20051010_212418_225_fsp-A-42\n",
      "+---------+----------------------------------------------------+\n",
      "| es ref  | uno siempre uno siempre pide ayuda a dios y que    |\n",
      "|         | uno debería realmente este debería debería pedir a |\n",
      "|         | dios que le mande sufrimientos porque de esa       |\n",
      "|         | manera uno le recuerda más a él                    |\n",
      "+---------+----------------------------------------------------+\n",
      "| en ref  | one always one always asks god for help and one    |\n",
      "|         | should really uh should ask god to send more       |\n",
      "|         | suffering because that way you remember him more   |\n",
      "+---------+----------------------------------------------------+\n",
      "| en pred | one always always ask god to god and that one      |\n",
      "|         | should really be like that should be their         |\n",
      "|         | commandments because that way i don t remember     |\n",
      "|         | anything more                                      |\n",
      "+---------+----------------------------------------------------+\n",
      "Utterance: 20051018_210220_279_fsp-A-33\n",
      "+---------+----------------------------------------------------+\n",
      "| es ref  | así que para mi por eso que yo siempre que hablo   |\n",
      "|         | con mis hijos ten cuidado trabaja cuida tu tu      |\n",
      "|         | crédito y guarda tu dinero                         |\n",
      "+---------+----------------------------------------------------+\n",
      "| en ref  | so that for me because of that that i always that  |\n",
      "|         | talk with my children be careful work take care of |\n",
      "|         | your your credit and save your money               |\n",
      "+---------+----------------------------------------------------+\n",
      "| en pred | so me that s why they say here i i with my kids i  |\n",
      "|         | m careful to go to your credit credit and well     |\n",
      "|         | your money                                         |\n",
      "+---------+----------------------------------------------------+\n",
      "Utterance: 20051022_180817_311_fsp-B-59\n",
      "+---------+----------------------------------------------------+\n",
      "| es ref  | los los militares se enfurecian y a veces le o sea |\n",
      "|         | él tenía toda una comunidad de de como de          |\n",
      "|         | practicantes con él que tenían su misma filosofía  |\n",
      "|         | política                                           |\n",
      "+---------+----------------------------------------------------+\n",
      "| en ref  | the the military was infuriated and some times he  |\n",
      "|         | i mean he had the entire community like practicing |\n",
      "|         | with him who had the same political philosophy     |\n",
      "+---------+----------------------------------------------------+\n",
      "| en pred | the the the the social security sometimes the the  |\n",
      "|         | communication has a community of of view with the  |\n",
      "|         | social security                                    |\n",
      "+---------+----------------------------------------------------+\n",
      "Utterance: 20051010_212418_225_fsp-B-37\n",
      "+---------+----------------------------------------------------+\n",
      "| es ref  | pero sí o sea pues ya en base a eso he cambiado    |\n",
      "|         | mucho y de echo también yo estudo ingeniería       |\n",
      "|         | química y muchas veces la gente cree que la        |\n",
      "|         | ciencias tiendes a este                            |\n",
      "+---------+----------------------------------------------------+\n",
      "| en ref  | sometimes well related to that it has changed so   |\n",
      "|         | much in fact i study chemical engineering and      |\n",
      "|         | sometimes people think that in science you tend to |\n",
      "+---------+----------------------------------------------------+\n",
      "| en pred | but yes i mean so you calls changed a lot and in   |\n",
      "|         | fact i study and chemical and many times the       |\n",
      "|         | people believes that science in the                |\n",
      "+---------+----------------------------------------------------+\n",
      "Utterance: 20051024_181110_329_fsp-B-32\n",
      "+---------+----------------------------------------------------+\n",
      "| es ref  | sí claro no pero es que osea como mucha gente      |\n",
      "|         | asocia l- a west philly con como pues el barrio    |\n",
      "|         | así como el ghetto ¿no como l- l-                  |\n",
      "+---------+----------------------------------------------------+\n",
      "| en ref  | yes right no but like how allot of people          |\n",
      "|         | associates west philly with then the neighborhood  |\n",
      "|         | like it were a ghetto no how                       |\n",
      "+---------+----------------------------------------------------+\n",
      "| en pred | yes sure no but it s that i mean like many people  |\n",
      "|         | society has been like the like the the the the the |\n",
      "|         | the the                                            |\n",
      "+---------+----------------------------------------------------+\n",
      "Utterance: 20051018_210220_279_fsp-A-5\n",
      "+---------+---------------------------------------------------+\n",
      "| es ref  | porque tienen que pagar más y también a veces     |\n",
      "|         | también hay personas que abusan yo conosco        |\n",
      "|         | personas que bueno no son amigas mías por pero sé |\n",
      "|         | que han están abusando                            |\n",
      "+---------+---------------------------------------------------+\n",
      "| en ref  | because they have to pay more and also sometimes  |\n",
      "|         | also there are people who abuse i know people who |\n",
      "|         | well they are not my friends but i know that they |\n",
      "|         | have they are abusing                             |\n",
      "+---------+---------------------------------------------------+\n",
      "| en pred | because they have to pay and also sometimes there |\n",
      "|         | are people that abuse abuse i know people that    |\n",
      "|         | well they are abusing                             |\n",
      "+---------+---------------------------------------------------+\n",
      "Utterance: 20051016_180547_265_fsp-A-13\n",
      "+---------+----------------------------------------------------+\n",
      "| es ref  | ahh okay yo la cancelo yo tuve hace unos días pero |\n",
      "|         | solo como tres días o algo y entonces ya como que  |\n",
      "|         | voy por la veinte creo o algo así                  |\n",
      "+---------+----------------------------------------------------+\n",
      "| en ref  | ahh okay i cancel it i had it a few days ago but   |\n",
      "|         | only for about three days or so and now i am about |\n",
      "|         | twenty or so                                       |\n",
      "+---------+----------------------------------------------------+\n",
      "| en pred | ah okay and the changes changes i i had been few   |\n",
      "|         | days but only like i hear it for the twenty three  |\n",
      "|         | or something and then i hear the twenty i think or |\n",
      "|         | something                                          |\n",
      "+---------+----------------------------------------------------+\n",
      "Utterance: 20051018_210220_279_fsp-A-8\n",
      "+---------+----------------------------------------------------+\n",
      "| es ref  | y ella está parcialmente en asistencia pero no no  |\n",
      "|         | le ayudan tanto y hay que ella tiene que buscar    |\n",
      "|         | cupones y cosas así para ver si puede comprar la   |\n",
      "|         | medicina en otro lugar para que sea más barata o   |\n",
      "+---------+----------------------------------------------------+\n",
      "| en ref  | and she is partially on assistance but no they don |\n",
      "|         | t help her much and there are she has to search    |\n",
      "|         | for coupons and things like that to see if she can |\n",
      "|         | buy medicine in another place that is cheaper or   |\n",
      "+---------+----------------------------------------------------+\n",
      "| en pred | and it s practically a assistance but they don t   |\n",
      "|         | help them so much and you have to look for a and   |\n",
      "|         | things like that to see if you buy the medicine    |\n",
      "|         | medicine to be called you more or less             |\n",
      "+---------+----------------------------------------------------+\n",
      "Utterance: 20051017_220530_275_fsp-A-90\n",
      "+---------+----------------------------------------------------+\n",
      "| es ref  | sí encontré un grupo de gente ahí donde iva a la   |\n",
      "|         | escuela que bailaban salsa y salía muchísimo pero  |\n",
      "|         | ya no ahora no tengo nada de tiempo para salir a   |\n",
      "|         | ningún lado                                        |\n",
      "+---------+----------------------------------------------------+\n",
      "| en ref  | yes i encountered a group of people there where i  |\n",
      "|         | go to school that dance salsa and go out often but |\n",
      "|         | now no now i don t have time to go out anywhere    |\n",
      "+---------+----------------------------------------------------+\n",
      "| en pred | yes they found a group of people there where they  |\n",
      "|         | go to school and they went to salsa and they go    |\n",
      "|         | out but now now i have nothing for my time to come |\n",
      "|         | anywhere                                           |\n",
      "+---------+----------------------------------------------------+\n",
      "Utterance: 20051010_212418_225_fsp-B-28\n",
      "+---------+----------------------------------------------------+\n",
      "| es ref  | como de los dieciocho años en adelante ya no       |\n",
      "|         | seguía la institución porque pues no me no me no   |\n",
      "|         | me no me interesaba mucho lo que predicaba y       |\n",
      "+---------+----------------------------------------------------+\n",
      "| en ref  | like at around eighteen i stopped following the    |\n",
      "|         | institution because i didn t have much interest in |\n",
      "|         | it                                                 |\n",
      "+---------+----------------------------------------------------+\n",
      "| en pred | like eighteen years in atlanta and before the      |\n",
      "|         | situation because the situation didn t interest me |\n",
      "|         | much what i saw and                                |\n",
      "+---------+----------------------------------------------------+\n",
      "Utterance: 20051018_210220_279_fsp-A-24\n",
      "+---------+----------------------------------------------------+\n",
      "| es ref  | no no así que por que yo estaba viendo mi hijo mi  |\n",
      "|         | niño él loco eso viene aquí a mi casa y me dice    |\n",
      "|         | hay mamá que si porque no quieres aplicar por      |\n",
      "|         | gobierno para que me den lonches                   |\n",
      "+---------+----------------------------------------------------+\n",
      "| en ref  | no no that is why i was seeing my son my child     |\n",
      "|         | that crazy comes to my home and tells me hey mom   |\n",
      "|         | so why do you not want apply to the government for |\n",
      "|         | them to give me lunches                            |\n",
      "+---------+----------------------------------------------------+\n",
      "| en pred | no no so because i was watching my son and crazy   |\n",
      "|         | crazy thing she said oh i was going to tell him if |\n",
      "|         | why don t want to apply for the government so that |\n",
      "|         | they give it to the bronx                          |\n",
      "+---------+----------------------------------------------------+\n",
      "Utterance: 20051016_180547_265_fsp-B-7\n",
      "+---------+----------------------------------------------------+\n",
      "| es ref  | no es más más si no es nada en general no voy      |\n",
      "|         | porque es más que que hay un estudiando graduado   |\n",
      "|         | que lo ayuda pero en serio la clase                |\n",
      "+---------+----------------------------------------------------+\n",
      "| en ref  | is not is nothing in general i m not going because |\n",
      "|         | there s a graduate student that helps you but      |\n",
      "|         | seriously the class                                |\n",
      "+---------+----------------------------------------------------+\n",
      "| en pred | no that s the most yes in general i don t go       |\n",
      "|         | because it s more more than there s a private      |\n",
      "|         | accident that helps it but it s the plan class     |\n",
      "+---------+----------------------------------------------------+\n",
      "Utterance: 20051025_212334_337_fsp-B-52\n",
      "+---------+----------------------------------------------------+\n",
      "| es ref  | oh ya este un una persona de que con la que hablé  |\n",
      "|         | antes me dijo de que ay tu de debes de vivir en un |\n",
      "|         | paraíso y le digo yo ¿por qué                      |\n",
      "+---------+----------------------------------------------------+\n",
      "| en ref  | oh now this a person with whom i spoke before told |\n",
      "|         | me you will live in a paradise and i say why       |\n",
      "+---------+----------------------------------------------------+\n",
      "| en pred | and i go yeah a person who talks before he told me |\n",
      "|         | that you have i ll tell you a paradise or if i go  |\n",
      "|         | because                                            |\n",
      "+---------+----------------------------------------------------+\n",
      "Utterance: 20051009_210519_219_fsp-A-13\n",
      "+---------+----------------------------------------------------+\n",
      "| es ref  | pero um a mi no m no me molestan otras religiones  |\n",
      "|         | yo comparto con cualquier religión después siempre |\n",
      "|         | y cuando no me traten de de de meter a lo que yo   |\n",
      "|         | no quiera entiende                                 |\n",
      "+---------+----------------------------------------------------+\n",
      "| en ref  | but um to me i don t get bothered with other       |\n",
      "|         | religions i share with any other religion as long  |\n",
      "|         | as they don t try to to put me in in something i   |\n",
      "|         | don t want do you follow me                        |\n",
      "+---------+----------------------------------------------------+\n",
      "| en pred | but ah i don t bother me in other religions i      |\n",
      "|         | share with anyone from the church and when they    |\n",
      "|         | don t try to get involved what they don t want to  |\n",
      "|         | understand what they don t want to understand      |\n",
      "+---------+----------------------------------------------------+\n",
      "Utterance: 20051024_180453_327_fsp-B-36\n",
      "+---------+---------------------------------------------------+\n",
      "| es ref  | y y decía que que y también él es ay es que digo  |\n",
      "|         | no ¿verdad entonces yo le digo pero digo ha hay   |\n",
      "|         | hay un sistema de bus ahí de de                   |\n",
      "+---------+---------------------------------------------------+\n",
      "| en ref  | and i say that he s i mean right then i say there |\n",
      "|         | s there s a bus system there like                 |\n",
      "+---------+---------------------------------------------------+\n",
      "| en pred | and and then if there can be also the laws that i |\n",
      "|         | say it s not a limit right so i say but it s god  |\n",
      "|         | there are some types of music and                 |\n",
      "+---------+---------------------------------------------------+\n",
      "Utterance: 20051019_210146_289_fsp-A-45\n",
      "+---------+----------------------------------------------------+\n",
      "| es ref  | tiene cosas bonitas museos historia a mi me gusta  |\n",
      "|         | todo lo que sé trata de la historia y y la una     |\n",
      "|         | ciudad clásica es montreal canadá                  |\n",
      "+---------+----------------------------------------------------+\n",
      "| en ref  | there are some nice things there museums i really  |\n",
      "|         | like history so everything that has to do with     |\n",
      "|         | history and like on classic city is montreal       |\n",
      "|         | canada                                             |\n",
      "+---------+----------------------------------------------------+\n",
      "| en pred | it has beautiful things they have museums and i    |\n",
      "|         | like everything that money that brings the history |\n",
      "|         | and the city class is                              |\n",
      "+---------+----------------------------------------------------+\n",
      "Utterance: 20051017_180712_270_fsp-B-94\n",
      "+---------+-------+\n",
      "| es ref  | hm mm |\n",
      "+---------+-------+\n",
      "| en ref  | hm mm |\n",
      "+---------+-------+\n",
      "| en pred | mm    |\n",
      "+---------+-------+\n",
      "Utterance: 20051016_210626_267_fsp-A-70\n",
      "+---------+------------------------------------+\n",
      "| es ref  | y quiere tener un trabajo entonces |\n",
      "+---------+------------------------------------+\n",
      "| en ref  | and you want to have a job then    |\n",
      "+---------+------------------------------------+\n",
      "| en pred | and want to have a job then        |\n",
      "+---------+------------------------------------+\n"
     ]
    }
   ],
   "source": [
    "display_words(m_dict, v_dict, fsh_pred_sents[:displayN], fsh_utts[:displayN], \n",
    "              dec_key, key, min_len=min_len, max_len=max_len, play_audio=False)"
   ]
  },
  {
   "cell_type": "code",
   "execution_count": 24,
   "metadata": {
    "collapsed": true
   },
   "outputs": [],
   "source": [
    "os.chdir(\"..\")\n",
    "os.chdir(\"/afs/inf.ed.ac.uk/group/project/lowres/work/chainer2/speech2text\")"
   ]
  },
  {
   "cell_type": "code",
   "execution_count": 25,
   "metadata": {},
   "outputs": [
    {
     "name": "stderr",
     "output_type": "stream",
     "text": [
      "100%|████████████████████████████████████| 3977/3977 [00:00<00:00, 38480.92it/s]"
     ]
    },
    {
     "name": "stdout",
     "output_type": "stream",
     "text": [
      "min length=0, max length=200\n",
      "total utts matching length filters=3977\n"
     ]
    },
    {
     "name": "stderr",
     "output_type": "stream",
     "text": [
      "\n"
     ]
    },
    {
     "name": "stdout",
     "output_type": "stream",
     "text": [
      "BLEU score on: fisher_dev = 28.96\n",
      "------------------------------------------------------------\n"
     ]
    }
   ],
   "source": [
    "b, _, h, r = calc_bleu(m_dict, \n",
    "                              v_dict, \n",
    "                              fsh_pred_sents, \n",
    "                              fsh_utts, \n",
    "                              dec_key, \n",
    "                              min_len=min_len, \n",
    "                              max_len=max_len, \n",
    "                              ref_index=ref_index)\n",
    "\n",
    "print(\"BLEU score on: {0:s} = {1:.2f}\".format(key, b * 100))\n",
    "print(\"-\"*60)\n",
    "\n",
    "# chrf = [0]*4\n",
    "\n",
    "# for ref_i in range(4):\n",
    "#     _, chrf[ref_i], _, _ = calc_bleu(m_dict, \n",
    "#                               v_dict, \n",
    "#                               fsh_pred_sents[:n], \n",
    "#                               fsh_utts[:n], \n",
    "#                               dec_key, \n",
    "#                               min_len=min_len, \n",
    "#                               max_len=max_len, \n",
    "#                               ref_index=ref_i)\n",
    "#     # end for\n",
    "\n",
    "# # print chrf score\n",
    "# for i in range(4):\n",
    "#     print(\"CHRF score on: {0:s} = {1:.2f}, using reference = {2:d}\".format(key, chrf[i] * 100, i))\n",
    "\n",
    "# print(\"-\"*60)\n",
    "\n",
    "all_weights=[(1.,0.,0.,0.),\n",
    "             (0.,1.,0.,0.),\n",
    "             (0.,0.,1.,0.),\n",
    "             (0.,0.,0.,1.),\n",
    "             (1./2,1./2,0.,0.),\n",
    "             (1./3,1./3,1./3,0.),\n",
    "             (.25,.25,.25,.25)]"
   ]
  },
  {
   "cell_type": "code",
   "execution_count": 26,
   "metadata": {
    "collapsed": true
   },
   "outputs": [],
   "source": [
    "# list(zip(h,r[:5]))"
   ]
  },
  {
   "cell_type": "code",
   "execution_count": 27,
   "metadata": {
    "collapsed": true
   },
   "outputs": [],
   "source": [
    "smooth_fun = nltk.translate.bleu_score.SmoothingFunction()"
   ]
  },
  {
   "cell_type": "code",
   "execution_count": 28,
   "metadata": {
    "collapsed": true
   },
   "outputs": [],
   "source": [
    "# print(\"{0:>20s} | {1:20s}\".format(\"bleu score (0-100)\", \"uni-bi-tri-quad\"))\n",
    "# for weights in all_weights:\n",
    "#     b = corpus_bleu(r, h, weights=weights, smoothing_function=smooth_fun.method2)\n",
    "#     print(\"{0:20.2f} | {1:20s}\".format(b * 100, \"-\".join(map(\"{0:.2f}\".format, weights))))"
   ]
  },
  {
   "cell_type": "code",
   "execution_count": 29,
   "metadata": {},
   "outputs": [
    {
     "name": "stdout",
     "output_type": "stream",
     "text": [
      "min length=0, max length=240\n",
      "total utts=3977\n",
      "metric     |   1-gram |   2-gram|   3-gram |   4-gram\n",
      "------------------------------------------------------\n",
      "precision  |    64.44 |    37.28|    22.13 |    13.31\n",
      "recall     |    62.38 |    36.04|    21.37 |    12.83\n"
     ]
    }
   ],
   "source": [
    "_, _ = corpus_precision_recall(r, h)"
   ]
  },
  {
   "cell_type": "code",
   "execution_count": 30,
   "metadata": {
    "collapsed": true
   },
   "outputs": [],
   "source": [
    "pred_path = \"/afs/inf.ed.ac.uk/group/project/lowres/work/installs/fisher-callhome-corpus/corpus/ldc\"\n",
    "pred_fname = os.path.join(pred_path, \"fisher_dev.pred\")"
   ]
  },
  {
   "cell_type": "code",
   "execution_count": 35,
   "metadata": {},
   "outputs": [
    {
     "name": "stderr",
     "output_type": "stream",
     "text": [
      "100%|████████████████████████████████████| 3977/3977 [00:00<00:00, 41073.24it/s]"
     ]
    },
    {
     "name": "stdout",
     "output_type": "stream",
     "text": [
      "min length=0, max length=200\n",
      "total utts matching length filters=3977\n"
     ]
    },
    {
     "name": "stderr",
     "output_type": "stream",
     "text": [
      "\n"
     ]
    },
    {
     "name": "stdout",
     "output_type": "stream",
     "text": [
      "done\n"
     ]
    }
   ],
   "source": [
    "en_ref, en_hyp = write_predictions_to_file(m_dict, v_dict, fsh_pred_sents, fsh_utts, \n",
    "                                           dec_key, key, min_len=min_len, max_len=max_len, stemmify=False)"
   ]
  },
  {
   "cell_type": "code",
   "execution_count": 36,
   "metadata": {},
   "outputs": [
    {
     "data": {
      "text/plain": [
       "'tion'"
      ]
     },
     "execution_count": 36,
     "metadata": {},
     "output_type": "execute_result"
    }
   ],
   "source": [
    "stem('tion')"
   ]
  },
  {
   "cell_type": "code",
   "execution_count": 37,
   "metadata": {},
   "outputs": [
    {
     "data": {
      "text/plain": [
       "(3977, 3977)"
      ]
     },
     "execution_count": 37,
     "metadata": {},
     "output_type": "execute_result"
    }
   ],
   "source": [
    "len(en_ref),len(en_hyp)"
   ]
  },
  {
   "cell_type": "markdown",
   "metadata": {},
   "source": [
    "### Callhome dev"
   ]
  },
  {
   "cell_type": "code",
   "execution_count": null,
   "metadata": {
    "collapsed": true
   },
   "outputs": [],
   "source": [
    "key='callhome_devtest'\n",
    "train=False\n",
    "m_dict = map_dict[key]\n",
    "v_dict = vocab_dict[dec_key]\n",
    "n=len(map_dict[key])\n",
    "BATCH_SIZE = 32"
   ]
  },
  {
   "cell_type": "code",
   "execution_count": null,
   "metadata": {
    "collapsed": true
   },
   "outputs": [],
   "source": [
    "cat_speech_path = os.path.join(out_path, key)"
   ]
  },
  {
   "cell_type": "code",
   "execution_count": null,
   "metadata": {
    "collapsed": true
   },
   "outputs": [],
   "source": [
    "print(\"-\"*80)\n",
    "print(\"EPOCH = {0:d}\".format(last_epoch+1))\n",
    "call_pred_sents, call_utts, loss = feed_model(map_dict[key],\n",
    "                  b_dict=bucket_dict[key],\n",
    "                  vocab_dict=vocab_dict,\n",
    "                  batch_size=BATCH_SIZE,\n",
    "                  x_key=enc_key,\n",
    "                  y_key=dec_key,\n",
    "                  train=train,\n",
    "                  cat_speech_path=cat_speech_path, use_y=True)\n",
    "\n",
    "print(\"{0:s} {1:s} mean loss={2:.4f}\".format(\"*\" * 10,\n",
    "                                    \"train\" if train else \"dev\",\n",
    "                                    loss))\n",
    "print(\"-\")\n",
    "print(\"-\"*80)"
   ]
  },
  {
   "cell_type": "code",
   "execution_count": null,
   "metadata": {
    "collapsed": true
   },
   "outputs": [],
   "source": [
    "display_words(m_dict, v_dict, call_pred_sents[:displayN], call_utts[:displayN],\n",
    "              dec_key, key, min_len=min_len, max_len=max_len, play_audio=False)"
   ]
  },
  {
   "cell_type": "code",
   "execution_count": null,
   "metadata": {
    "collapsed": true
   },
   "outputs": [],
   "source": [
    "b, _, h, r = calc_bleu(m_dict, \n",
    "                              v_dict, \n",
    "                              call_pred_sents, \n",
    "                              call_utts, \n",
    "                              dec_key, \n",
    "                              min_len=min_len, \n",
    "                              max_len=max_len, \n",
    "                              ref_index=ref_index)\n",
    "\n",
    "print(\"BLEU score on: {0:s} = {1:.2f}\".format(key, b * 100))\n",
    "print(\"-\"*60)\n",
    "\n",
    "all_weights=[(1.,0.,0.,0.),\n",
    "             (0.,1.,0.,0.),\n",
    "             (0.,0.,1.,0.),\n",
    "             (0.,0.,0.,1.),\n",
    "             (1./2,1./2,0.,0.),\n",
    "             (1./3,1./3,1./3,0.),\n",
    "             (.25,.25,.25,.25)]"
   ]
  },
  {
   "cell_type": "code",
   "execution_count": null,
   "metadata": {
    "collapsed": true
   },
   "outputs": [],
   "source": [
    "smooth_fun = nltk.translate.bleu_score.SmoothingFunction()"
   ]
  },
  {
   "cell_type": "code",
   "execution_count": 133,
   "metadata": {},
   "outputs": [
    {
     "name": "stdout",
     "output_type": "stream",
     "text": [
      "  bleu score (0-100) | uni-bi-tri-quad     \n",
      "               64.33 | 1.00-0.00-0.00-0.00 \n",
      "               37.22 | 0.00-1.00-0.00-0.00 \n",
      "               22.10 | 0.00-0.00-1.00-0.00 \n",
      "               13.29 | 0.00-0.00-0.00-1.00 \n",
      "               48.93 | 0.50-0.50-0.00-0.00 \n",
      "               37.54 | 0.33-0.33-0.33-0.00 \n",
      "               28.96 | 0.25-0.25-0.25-0.25 \n"
     ]
    }
   ],
   "source": [
    "print(\"{0:>20s} | {1:20s}\".format(\"bleu score (0-100)\", \"uni-bi-tri-quad\"))\n",
    "for weights in all_weights:\n",
    "    b = corpus_bleu(r, h, weights=weights, smoothing_function=smooth_fun.method2)\n",
    "    print(\"{0:20.2f} | {1:20s}\".format(b * 100, \"-\".join(map(\"{0:.2f}\".format, weights))))"
   ]
  },
  {
   "cell_type": "code",
   "execution_count": 134,
   "metadata": {},
   "outputs": [
    {
     "name": "stdout",
     "output_type": "stream",
     "text": [
      "min length=0, max length=240\n",
      "total utts=3977\n",
      "metric     |   1-gram |   2-gram|   3-gram |   4-gram\n",
      "------------------------------------------------------\n",
      "precision  |    64.44 |    37.28|    22.13 |    13.31\n",
      "recall     |    62.38 |    36.04|    21.37 |    12.83\n"
     ]
    }
   ],
   "source": [
    "_, _ = corpus_precision_recall(r, h)"
   ]
  },
  {
   "cell_type": "code",
   "execution_count": null,
   "metadata": {
    "collapsed": true
   },
   "outputs": [],
   "source": [
    "call_en_ref, call_en_hyp = write_predictions_to_file(m_dict, v_dict, call_pred_sents, call_utts, \n",
    "                                                     dec_key, key, min_len=min_len, max_len=max_len, stemmify=False)"
   ]
  },
  {
   "cell_type": "code",
   "execution_count": null,
   "metadata": {
    "collapsed": true
   },
   "outputs": [],
   "source": [
    "len(call_en_ref),len(call_en_hyp)"
   ]
  },
  {
   "cell_type": "markdown",
   "metadata": {},
   "source": [
    "### Google metrics"
   ]
  },
  {
   "cell_type": "code",
   "execution_count": 146,
   "metadata": {},
   "outputs": [],
   "source": [
    "google_s2t_path_hyps = \"./google-s2t/e2e_ast_decode/hyps/fisher_dev/\"\n",
    "google_s2t_path_refs = \"./google-s2t/e2e_ast_decode/refs/fisher_dev/\""
   ]
  },
  {
   "cell_type": "code",
   "execution_count": 165,
   "metadata": {},
   "outputs": [],
   "source": [
    "ref_lines = []\n",
    "for fname in os.listdir(google_s2t_path_refs):\n",
    "    with open(os.path.join(google_s2t_path_refs,fname), \"r\") as in_f:\n",
    "        ref_lines.append([line.rstrip('\\n').split() for line in in_f])"
   ]
  },
  {
   "cell_type": "code",
   "execution_count": 166,
   "metadata": {},
   "outputs": [],
   "source": [
    "with open(os.path.join(google_s2t_path_hyps,'fisher_spa_eng_ast_003_base_r0.txt'), \"r\") as in_f:\n",
    "    hyps = list(line.rstrip('\\n').split() for line in in_f)"
   ]
  },
  {
   "cell_type": "code",
   "execution_count": 167,
   "metadata": {},
   "outputs": [],
   "source": [
    "refs = []\n",
    "for i in range(len(ref_lines[0])):\n",
    "    refs.append([ref_lines[0][i], ref_lines[1][i], ref_lines[2][i], ref_lines[3][i]])"
   ]
  },
  {
   "cell_type": "code",
   "execution_count": 169,
   "metadata": {},
   "outputs": [
    {
     "data": {
      "text/plain": [
       "0.4520259607446546"
      ]
     },
     "execution_count": 169,
     "metadata": {},
     "output_type": "execute_result"
    }
   ],
   "source": [
    "corpus_bleu(refs, hyps)"
   ]
  },
  {
   "cell_type": "code",
   "execution_count": 176,
   "metadata": {},
   "outputs": [
    {
     "name": "stdout",
     "output_type": "stream",
     "text": [
      "chrf score using ref:1 = 0.667\n",
      "chrf score using ref:2 = 0.637\n",
      "chrf score using ref:3 = 0.622\n",
      "chrf score using ref:4 = 0.592\n"
     ]
    }
   ],
   "source": [
    "for i in range(len(refs[0])):\n",
    "    print(\"chrf score using ref:{0:d} = {1:5.3f}\".format(i+1, corpus_chrf([ref[i] for ref in refs], hyps)))"
   ]
  },
  {
   "cell_type": "code",
   "execution_count": 181,
   "metadata": {},
   "outputs": [
    {
     "name": "stdout",
     "output_type": "stream",
     "text": [
      "chrf score using ref:1 = 0.471\n",
      "chrf score using ref:2 = 0.559\n",
      "chrf score using ref:3 = 0.521\n",
      "chrf score using ref:4 = 0.374\n"
     ]
    }
   ],
   "source": [
    "for i in range(len(refs[0])):\n",
    "    print(\"chrf score using ref:{0:d} = {1:5.3f}\".format(i+1, corpus_chrf([ref[i] for ref in r], h)))"
   ]
  },
  {
   "cell_type": "code",
   "execution_count": 178,
   "metadata": {},
   "outputs": [
    {
     "name": "stdout",
     "output_type": "stream",
     "text": [
      "min length=0, max length=240\n",
      "total utts=3979\n",
      "metric     |   1-gram |   2-gram|   3-gram |   4-gram\n",
      "------------------------------------------------------\n",
      "precision  |    76.60 |    53.98|    38.00 |    26.57\n",
      "recall     |    76.08 |    53.60|    37.72 |    26.37\n"
     ]
    }
   ],
   "source": [
    "_, _ = corpus_precision_recall(refs, hyps)"
   ]
  },
  {
   "cell_type": "code",
   "execution_count": 179,
   "metadata": {},
   "outputs": [
    {
     "name": "stdout",
     "output_type": "stream",
     "text": [
      "min length=0, max length=240\n",
      "total utts=3977\n",
      "metric     |   1-gram |   2-gram|   3-gram |   4-gram\n",
      "------------------------------------------------------\n",
      "precision  |    64.44 |    37.28|    22.13 |    13.31\n",
      "recall     |    62.38 |    36.04|    21.37 |    12.83\n"
     ]
    }
   ],
   "source": [
    "_, _ = corpus_precision_recall(r, h)"
   ]
  },
  {
   "cell_type": "markdown",
   "metadata": {},
   "source": [
    "### Prep Google data"
   ]
  },
  {
   "cell_type": "code",
   "execution_count": 339,
   "metadata": {
    "collapsed": true
   },
   "outputs": [],
   "source": [
    "kaldi_segment_map_path = os.path.join(out_path,'kaldi_segment_map.dict')\n",
    "rev_map_dict_path = os.path.join(out_path,'rev_map.dict')\n",
    "kaldi_segment_map = pickle.load(open(kaldi_segment_map_path, \"rb\"))\n",
    "rev_map_dict = pickle.load(open(rev_map_dict_path, \"rb\"))\n",
    "\n",
    "\n",
    "google_s2t_path_mapping = \"./google-s2t/e2e_ast_decode/mapping/fisher_dev/\"\n",
    "google_s2t_ref0 = os.path.join(google_s2t_path_mapping, \"sorted-normalized-fisher_dev.en.0.mapping\")\n",
    "\n",
    "google_s2t_map_path = os.path.join(out_path, \"google_s2t_map.dict\")\n",
    "google_s2t_rev_map_path = os.path.join(out_path, \"google_s2t_rev_map.dict\")\n",
    "google_s2t_refs_path = os.path.join(out_path, \"google_s2t_refs.dict\")\n",
    "google_s2t_hyps_path = os.path.join(out_path, \"google_s2t_hyps.dict\")"
   ]
  },
  {
   "cell_type": "code",
   "execution_count": 340,
   "metadata": {},
   "outputs": [],
   "source": [
    "def prep_google_data():\n",
    "\n",
    "    google_s2t_map = {}\n",
    "    google_s2t_rev_map = {}\n",
    "\n",
    "    r_m_dict = rev_map_dict['fisher_dev']\n",
    "    with open(google_s2t_ref0, \"r\") as in_f:\n",
    "        for i, line in enumerate(in_f, start=1):\n",
    "            wav_f = line.split(\".wav\")[0].replace(\"fisher_dev/\", \"\")\n",
    "            key_1 = wav_f[:wav_f.find(\"_fsp\")+len(\"_fsp\")]\n",
    "            key_2 = wav_f.rsplit(\"_fsp\",1)[1].split(\"_\")[0]\n",
    "            google_s2t_map[i] = r_m_dict[key_1+key_2]\n",
    "            google_s2t_rev_map[r_m_dict[key_1+key_2]] = i\n",
    "        # end for\n",
    "    # end with\n",
    "    pickle.dump(google_s2t_map, open(google_s2t_map_path, \"wb\"))\n",
    "    pickle.dump(google_s2t_rev_map, open(google_s2t_rev_map_path, \"wb\"))\n",
    "    \n",
    "    google_s2t_refs = {}\n",
    "    for fname in os.listdir(google_s2t_path_refs):\n",
    "        with open(os.path.join(google_s2t_path_refs,fname), \"r\") as in_f:\n",
    "            f_key = fname.rsplit(\"-\",1)[-1].replace(\".en.\",\"_\")\n",
    "            google_s2t_refs[f_key] = {}\n",
    "            for i, line in enumerate(in_f, start=1):\n",
    "                utt_key = google_s2t_map[i]\n",
    "                google_s2t_refs[f_key][utt_key] = line.rstrip('\\n').split()\n",
    "            # end for\n",
    "        # end with\n",
    "    # end for\n",
    "    pickle.dump(google_s2t_refs, open(google_s2t_refs_path, \"wb\"))\n",
    "    \n",
    "    google_s2t_hyps = {}\n",
    "    for fname in os.listdir(google_s2t_path_hyps):\n",
    "        with open(os.path.join(google_s2t_path_hyps,fname), \"r\") as in_f:\n",
    "            f_key = \"fisher_dev_{0:s}\".format(fname.rsplit(\"_\")[-1].replace(\".txt\", \"\"))\n",
    "            google_s2t_hyps[f_key] = {}\n",
    "            for i, line in enumerate(in_f, start=1):\n",
    "                utt_key = google_s2t_map[i]\n",
    "                google_s2t_hyps[f_key][utt_key] = line.rstrip('\\n').split()\n",
    "            # end for\n",
    "        # end with\n",
    "    # end for\n",
    "    pickle.dump(google_s2t_hyps, open(google_s2t_hyps_path, \"wb\"))"
   ]
  },
  {
   "cell_type": "code",
   "execution_count": 341,
   "metadata": {
    "collapsed": true
   },
   "outputs": [],
   "source": [
    "prep_google_data()"
   ]
  },
  {
   "cell_type": "code",
   "execution_count": 333,
   "metadata": {
    "scrolled": false
   },
   "outputs": [
    {
     "data": {
      "text/plain": [
       "'and my dad always taught us that that for you to be to believe in god you don t have to be involved with a church'"
      ]
     },
     "execution_count": 333,
     "metadata": {},
     "output_type": "execute_result"
    }
   ],
   "source": [
    "\" \".join(map(lambda t: t.decode(), m_dict[rev_map_dict['fisher_dev']['20051009_182032_217_fsp.108']]['en_w'][0]))"
   ]
  },
  {
   "cell_type": "code",
   "execution_count": 338,
   "metadata": {},
   "outputs": [
    {
     "name": "stdout",
     "output_type": "stream",
     "text": [
      "so that they are able to help you but the help that they give you is not enough for you to be able to survive\n",
      "sure the way they help you but like help that they give you they don't need you can survive\n",
      "for the judge that they help you but they help you help you that you survive\n"
     ]
    }
   ],
   "source": [
    "print(\" \".join([w for w in google_s2t_refs['fisher_dev_0'][fsh_utts[0]]]))\n",
    "print(\" \".join([w for w in google_s2t_hyps['fisher_dev_r0'][fsh_utts[0]]]))\n",
    "print(\" \".join([w for w in h[0]]))"
   ]
  },
  {
   "cell_type": "code",
   "execution_count": null,
   "metadata": {
    "collapsed": true
   },
   "outputs": [],
   "source": [
    "# test_ref = [[\"ha ha lol hue\".split()], [\"ha ha ja ha\".split()], [\"ha ha ja ha\".split()]]\n",
    "# test_h = [\"lol ja\".split(), \"ha he\".split(), \"ha ja\".split()]\n",
    "# _, _ = corpus_precision_recall(test_ref, test_h)"
   ]
  },
  {
   "cell_type": "code",
   "execution_count": null,
   "metadata": {
    "collapsed": true
   },
   "outputs": [],
   "source": []
  }
 ],
 "metadata": {
  "kernelspec": {
   "display_name": "Python 3",
   "language": "python",
   "name": "python3"
  },
  "language_info": {
   "codemirror_mode": {
    "name": "ipython",
    "version": 3
   },
   "file_extension": ".py",
   "mimetype": "text/x-python",
   "name": "python",
   "nbconvert_exporter": "python",
   "pygments_lexer": "ipython3",
   "version": "3.6.2"
  }
 },
 "nbformat": 4,
 "nbformat_minor": 2
}
