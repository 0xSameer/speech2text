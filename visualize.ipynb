{
 "cells": [
  {
   "cell_type": "code",
   "execution_count": 1,
   "metadata": {
    "collapsed": true
   },
   "outputs": [],
   "source": [
    "import nltk\n",
    "from nltk.translate.bleu_score import sentence_bleu, corpus_bleu"
   ]
  },
  {
   "cell_type": "code",
   "execution_count": 2,
   "metadata": {},
   "outputs": [
    {
     "name": "stderr",
     "output_type": "stream",
     "text": [
      "100%|██████████| 3977/3977 [00:00<00:00, 630628.22it/s]\n",
      "100%|██████████| 3959/3959 [00:00<00:00, 638737.14it/s]\n",
      "100%|██████████| 3641/3641 [00:00<00:00, 644746.30it/s]\n",
      "  0%|          | 0/138708 [00:00<?, ?it/s]"
     ]
    },
    {
     "name": "stdout",
     "output_type": "stream",
     "text": [
      "translating es to en\n",
      "callhome es-en configuration\n",
      "--------------------------------------------------\n",
      "loading info_dict from=./out/info.dict\n",
      "--------------------------------------------------\n",
      "creating buckets for: fisher_dev\n",
      "creating buckets for key: sp\n",
      "creating buckets for: fisher_dev2\n",
      "creating buckets for key: sp\n",
      "creating buckets for: fisher_test\n",
      "creating buckets for key: sp\n",
      "creating buckets for: fisher_train\n",
      "creating buckets for key: sp\n"
     ]
    },
    {
     "name": "stderr",
     "output_type": "stream",
     "text": [
      "100%|██████████| 138708/138708 [00:00<00:00, 626383.26it/s]\n"
     ]
    },
    {
     "name": "stdout",
     "output_type": "stream",
     "text": [
      "--------------------------------------------------\n",
      "saving info dict in: ./out/buckets_sp.dict\n",
      "all done ...\n",
      "--------------------------------------------------\n",
      "showing buckets for category: fisher_dev\n",
      "number of buckets=64, width of each bucket=16\n",
      "index | width | num   \n",
      "    0 |     0 |      0\n",
      "    1 |    16 |      0\n",
      "    2 |    32 |      8\n",
      "    3 |    48 |     67\n",
      "    4 |    64 |    169\n",
      "    5 |    80 |    184\n",
      "    6 |    96 |    178\n",
      "    7 |   112 |    202\n",
      "    8 |   128 |    169\n",
      "    9 |   144 |    138\n",
      "   10 |   160 |    167\n",
      "   11 |   176 |    124\n",
      "   12 |   192 |    102\n",
      "   13 |   208 |    108\n",
      "   14 |   224 |     93\n",
      "   15 |   240 |     95\n",
      "   16 |   256 |     88\n",
      "   17 |   272 |     80\n",
      "   18 |   288 |     96\n",
      "   19 |   304 |     82\n",
      "   20 |   320 |     60\n",
      "   21 |   336 |     67\n",
      "   22 |   352 |     90\n",
      "   23 |   368 |     64\n",
      "   24 |   384 |     67\n",
      "   25 |   400 |     47\n",
      "   26 |   416 |     50\n",
      "   27 |   432 |     56\n",
      "   28 |   448 |     70\n",
      "   29 |   464 |     47\n",
      "   30 |   480 |     45\n",
      "   31 |   496 |     38\n",
      "   32 |   512 |     34\n",
      "   33 |   528 |     46\n",
      "   34 |   544 |     42\n",
      "   35 |   560 |     28\n",
      "   36 |   576 |     34\n",
      "   37 |   592 |     42\n",
      "   38 |   608 |     42\n",
      "   39 |   624 |     30\n",
      "   40 |   640 |     39\n",
      "   41 |   656 |     43\n",
      "   42 |   672 |     29\n",
      "   43 |   688 |     34\n",
      "   44 |   704 |     25\n",
      "   45 |   720 |     34\n",
      "   46 |   736 |     26\n",
      "   47 |   752 |     31\n",
      "   48 |   768 |     22\n",
      "   49 |   784 |     29\n",
      "   50 |   800 |     22\n",
      "   51 |   816 |     24\n",
      "   52 |   832 |     30\n",
      "   53 |   848 |     22\n",
      "   54 |   864 |     32\n",
      "   55 |   880 |     19\n",
      "   56 |   896 |     24\n",
      "   57 |   912 |     27\n",
      "   58 |   928 |     24\n",
      "   59 |   944 |     16\n",
      "   60 |   960 |     11\n",
      "   61 |   976 |     17\n",
      "   62 |   992 |     13\n",
      "   63 |  1008 |    235\n",
      "--------------------------------------------------\n",
      "showing buckets for category: fisher_dev2\n",
      "number of buckets=64, width of each bucket=16\n",
      "index | width | num   \n",
      "    0 |     0 |      0\n",
      "    1 |    16 |      1\n",
      "    2 |    32 |      8\n",
      "    3 |    48 |     45\n",
      "    4 |    64 |    107\n",
      "    5 |    80 |    153\n",
      "    6 |    96 |    165\n",
      "    7 |   112 |    166\n",
      "    8 |   128 |    143\n",
      "    9 |   144 |    137\n",
      "   10 |   160 |    137\n",
      "   11 |   176 |    131\n",
      "   12 |   192 |    119\n",
      "   13 |   208 |    114\n",
      "   14 |   224 |    112\n",
      "   15 |   240 |    118\n",
      "   16 |   256 |    107\n",
      "   17 |   272 |    102\n",
      "   18 |   288 |    108\n",
      "   19 |   304 |     88\n",
      "   20 |   320 |     69\n",
      "   21 |   336 |     96\n",
      "   22 |   352 |     72\n",
      "   23 |   368 |     73\n",
      "   24 |   384 |     64\n",
      "   25 |   400 |     73\n",
      "   26 |   416 |     62\n",
      "   27 |   432 |     57\n",
      "   28 |   448 |     63\n",
      "   29 |   464 |     53\n",
      "   30 |   480 |     47\n",
      "   31 |   496 |     43\n",
      "   32 |   512 |     46\n",
      "   33 |   528 |     57\n",
      "   34 |   544 |     45\n",
      "   35 |   560 |     39\n",
      "   36 |   576 |     47\n",
      "   37 |   592 |     33\n",
      "   38 |   608 |     25\n",
      "   39 |   624 |     38\n",
      "   40 |   640 |     30\n",
      "   41 |   656 |     32\n",
      "   42 |   672 |     20\n",
      "   43 |   688 |     39\n",
      "   44 |   704 |     26\n",
      "   45 |   720 |     23\n",
      "   46 |   736 |     28\n",
      "   47 |   752 |     18\n",
      "   48 |   768 |     32\n",
      "   49 |   784 |     21\n",
      "   50 |   800 |     16\n",
      "   51 |   816 |     27\n",
      "   52 |   832 |     27\n",
      "   53 |   848 |     20\n",
      "   54 |   864 |     27\n",
      "   55 |   880 |     20\n",
      "   56 |   896 |     32\n",
      "   57 |   912 |     29\n",
      "   58 |   928 |     29\n",
      "   59 |   944 |     23\n",
      "   60 |   960 |     13\n",
      "   61 |   976 |     17\n",
      "   62 |   992 |     20\n",
      "   63 |  1008 |    227\n",
      "--------------------------------------------------\n",
      "showing buckets for category: fisher_test\n",
      "number of buckets=64, width of each bucket=16\n",
      "index | width | num   \n",
      "    0 |     0 |      0\n",
      "    1 |    16 |      0\n",
      "    2 |    32 |      6\n",
      "    3 |    48 |     47\n",
      "    4 |    64 |    151\n",
      "    5 |    80 |    174\n",
      "    6 |    96 |    161\n",
      "    7 |   112 |    158\n",
      "    8 |   128 |    133\n",
      "    9 |   144 |    132\n",
      "   10 |   160 |    148\n",
      "   11 |   176 |    113\n",
      "   12 |   192 |     87\n",
      "   13 |   208 |    101\n",
      "   14 |   224 |     96\n",
      "   15 |   240 |     91\n",
      "   16 |   256 |    100\n",
      "   17 |   272 |     75\n",
      "   18 |   288 |     80\n",
      "   19 |   304 |     70\n",
      "   20 |   320 |     63\n",
      "   21 |   336 |     76\n",
      "   22 |   352 |     68\n",
      "   23 |   368 |     52\n",
      "   24 |   384 |     49\n",
      "   25 |   400 |     51\n",
      "   26 |   416 |     43\n",
      "   27 |   432 |     49\n",
      "   28 |   448 |     53\n",
      "   29 |   464 |     38\n",
      "   30 |   480 |     32\n",
      "   31 |   496 |     45\n",
      "   32 |   512 |     31\n",
      "   33 |   528 |     34\n",
      "   34 |   544 |     27\n",
      "   35 |   560 |     29\n",
      "   36 |   576 |     28\n",
      "   37 |   592 |     39\n",
      "   38 |   608 |     22\n",
      "   39 |   624 |     33\n",
      "   40 |   640 |     20\n",
      "   41 |   656 |     27\n",
      "   42 |   672 |     27\n",
      "   43 |   688 |     31\n",
      "   44 |   704 |     17\n",
      "   45 |   720 |     22\n",
      "   46 |   736 |     20\n",
      "   47 |   752 |     26\n",
      "   48 |   768 |     34\n",
      "   49 |   784 |     26\n",
      "   50 |   800 |     21\n",
      "   51 |   816 |     28\n",
      "   52 |   832 |     23\n",
      "   53 |   848 |     26\n",
      "   54 |   864 |     28\n",
      "   55 |   880 |     26\n",
      "   56 |   896 |     24\n",
      "   57 |   912 |     25\n",
      "   58 |   928 |     30\n",
      "   59 |   944 |     28\n",
      "   60 |   960 |     19\n",
      "   61 |   976 |     15\n",
      "   62 |   992 |     18\n",
      "   63 |  1008 |    295\n",
      "--------------------------------------------------\n",
      "showing buckets for category: fisher_train\n",
      "number of buckets=64, width of each bucket=16\n",
      "index | width | num   \n",
      "    0 |     0 |      0\n",
      "    1 |    16 |     24\n",
      "    2 |    32 |    415\n",
      "    3 |    48 |   2304\n",
      "    4 |    64 |   5421\n",
      "    5 |    80 |   6011\n",
      "    6 |    96 |   6050\n",
      "    7 |   112 |   5700\n",
      "    8 |   128 |   5272\n",
      "    9 |   144 |   5079\n",
      "   10 |   160 |   4971\n",
      "   11 |   176 |   4102\n",
      "   12 |   192 |   3915\n",
      "   13 |   208 |   3672\n",
      "   14 |   224 |   3657\n",
      "   15 |   240 |   3450\n",
      "   16 |   256 |   3395\n",
      "   17 |   272 |   3039\n",
      "   18 |   288 |   2873\n",
      "   19 |   304 |   2768\n",
      "   20 |   320 |   2642\n",
      "   21 |   336 |   2518\n",
      "   22 |   352 |   2498\n",
      "   23 |   368 |   2223\n",
      "   24 |   384 |   2118\n",
      "   25 |   400 |   2070\n",
      "   26 |   416 |   2024\n",
      "   27 |   432 |   1880\n",
      "   28 |   448 |   1800\n",
      "   29 |   464 |   1674\n",
      "   30 |   480 |   1559\n",
      "   31 |   496 |   1613\n",
      "   32 |   512 |   1470\n",
      "   33 |   528 |   1459\n",
      "   34 |   544 |   1379\n",
      "   35 |   560 |   1249\n",
      "   36 |   576 |   1272\n",
      "   37 |   592 |   1173\n",
      "   38 |   608 |   1247\n",
      "   39 |   624 |   1082\n",
      "   40 |   640 |   1079\n",
      "   41 |   656 |   1074\n",
      "   42 |   672 |   1039\n",
      "   43 |   688 |   1052\n",
      "   44 |   704 |   1029\n",
      "   45 |   720 |   1023\n",
      "   46 |   736 |    961\n",
      "   47 |   752 |    984\n",
      "   48 |   768 |    985\n",
      "   49 |   784 |    946\n",
      "   50 |   800 |    924\n",
      "   51 |   816 |    904\n",
      "   52 |   832 |    871\n",
      "   53 |   848 |    828\n",
      "   54 |   864 |    828\n",
      "   55 |   880 |    859\n",
      "   56 |   896 |    828\n",
      "   57 |   912 |    820\n",
      "   58 |   928 |    766\n",
      "   59 |   944 |    757\n",
      "   60 |   960 |    731\n",
      "   61 |   976 |    724\n",
      "   62 |   992 |    747\n",
      "   63 |  1008 |  10881\n",
      "cnn details:\n",
      "{'ndim': 1, 'in_channels': 69, 'out_channels': 100, 'ksize': 9, 'stride': 1, 'pad': 4}\n",
      "{'ndim': 1, 'in_channels': 69, 'out_channels': 100, 'ksize': 19, 'stride': 1, 'pad': 9}\n",
      "{'ndim': 1, 'in_channels': 69, 'out_channels': 100, 'ksize': 29, 'stride': 1, 'pad': 14}\n",
      "{'ndim': 1, 'in_channels': 69, 'out_channels': 100, 'ksize': 39, 'stride': 1, 'pad': 19}\n",
      "{'ndim': 1, 'in_channels': 69, 'out_channels': 100, 'ksize': 49, 'stride': 1, 'pad': 24}\n",
      "--------------------------------------------------\n",
      "loading dict: ./out/map.dict\n",
      "loading dict: ./out/train_vocab.dict\n",
      "--------------------------------------------------\n",
      "loading dict: ./out/buckets_sp.dict\n",
      "--------------------------------------------------\n",
      "utterances in fisher_dev = 3979\n",
      "utterances in fisher_dev2 = 3961\n",
      "utterances in fisher_test = 3641\n",
      "utterances in fisher_train = 138819\n",
      "vocab size for sp = 0\n",
      "vocab size for en_w = 18555\n",
      "model file name: fsh_lr_reg/seq2seq_sen-138819_hwy2-dec2_emb-512-h-512__sp_en_w_gru_drpt-0_noise-0.10_l2-0.001_cnn-num100-range9-49-10-pool500.model\n",
      "log file name: fsh_lr_reg/train_sen-138819_hwy2-dec2_emb-512-h-512__sp_en_w_gru_drpt-0_noise-0.10_l2-0.001_cnn-num100-range9-49-10-pool500.log\n",
      "rnn_in_units 500\n",
      "using SGD optimizer\n"
     ]
    },
    {
     "name": "stderr",
     "output_type": "stream",
     "text": [
      "usage: nmt_run.py [-h] -o OUT_PATH -e EPOCHS -k KEY -y USE_Y -m MINI\n",
      "nmt_run.py: error: the following arguments are required: -o/--out_path, -e/--epochs, -k/--key, -y/--use_y, -m/--mini\n"
     ]
    },
    {
     "ename": "SystemExit",
     "evalue": "2",
     "output_type": "error",
     "traceback": [
      "An exception has occurred, use %tb to see the full traceback.\n",
      "\u001b[0;31mSystemExit\u001b[0m\u001b[0;31m:\u001b[0m 2\n"
     ]
    }
   ],
   "source": [
    "%run nmt_run.py"
   ]
  },
  {
   "cell_type": "code",
   "execution_count": 3,
   "metadata": {},
   "outputs": [
    {
     "name": "stdout",
     "output_type": "stream",
     "text": [
      "--------------------------------------------------------------------------------\n",
      "model found = \n",
      "fsh_lr_reg/seq2seq_sen-138819_hwy2-dec2_emb-512-h-512__sp_en_w_gru_drpt-0_noise-0.10_l2-0.001_cnn-num100-range9-49-10-pool500_40.model\n",
      "loading ...\n",
      "finished loading ..\n"
     ]
    }
   ],
   "source": [
    "last_epoch = check_model()"
   ]
  },
  {
   "cell_type": "code",
   "execution_count": 4,
   "metadata": {
    "collapsed": true
   },
   "outputs": [],
   "source": [
    "log_train = np.loadtxt(log_train_fil_name, delimiter=',', skiprows=False).transpose()\n",
    "log_test = np.loadtxt(log_dev_fil_name, delimiter=',', skiprows=False).transpose()"
   ]
  },
  {
   "cell_type": "code",
   "execution_count": 5,
   "metadata": {},
   "outputs": [
    {
     "data": {
      "image/png": "[encoded data removed]",
      "text/plain": [
       "<matplotlib.figure.Figure at 0x7fbbb2732d30>"
      ]
     },
     "metadata": {},
     "output_type": "display_data"
    }
   ],
   "source": [
    "fig, ax1 = plt.subplots()\n",
    "ax1.plot(log_train[0], log_train[1], color='#ff7700')\n",
    "ax1.plot(log_test[0], log_test[1], 'r--')\n",
    "ax1.set_xlabel('epoch', size=20)\n",
    "ax1.set_ylabel('loss', color='r', size=20)\n",
    "for tl in ax1.get_yticklabels():\n",
    "    tl.set_color('r')\n",
    "plt.legend(['train loss', 'test loss'], bbox_to_anchor=(1.4, 0.96), framealpha=0, fontsize=20)\n",
    "plt.tight_layout()\n",
    "plt.show()"
   ]
  },
  {
   "cell_type": "code",
   "execution_count": 6,
   "metadata": {
    "collapsed": true
   },
   "outputs": [],
   "source": [
    "key='fisher_dev'\n",
    "train=False\n",
    "m_dict = map_dict[key]\n",
    "v_dict = vocab_dict[dec_key]\n",
    "n=len(map_dict[key])"
   ]
  },
  {
   "cell_type": "code",
   "execution_count": 7,
   "metadata": {
    "collapsed": true
   },
   "outputs": [],
   "source": [
    "cat_speech_path = os.path.join(out_path, key)"
   ]
  },
  {
   "cell_type": "code",
   "execution_count": null,
   "metadata": {},
   "outputs": [
    {
     "name": "stderr",
     "output_type": "stream",
     "text": [
      "\r",
      "  0%|          | 0/3979 [00:00<?, ?it/s]"
     ]
    },
    {
     "name": "stdout",
     "output_type": "stream",
     "text": [
      "--------------------------------------------------------------------------------\n",
      "EPOCH = 41\n"
     ]
    },
    {
     "name": "stderr",
     "output_type": "stream",
     "text": [
      "/afs/inf.ed.ac.uk/group/project/lowres/work/anaconda3/envs/chainer2/lib/python3.6/site-packages/chainer/utils/experimental.py:104: FutureWarning: chainer.functions.pooling.MaxPoolingND is experimental. The interface can change in the future.\n",
      "  FutureWarning)\n",
      "b=21,i=0/60,l=70.86,avg=106.44:  52%|█████▏    | 2076/3979 [00:23<00:24, 78.28it/s]   "
     ]
    }
   ],
   "source": [
    "print(\"-\"*80)\n",
    "print(\"EPOCH = {0:d}\".format(last_epoch+1))\n",
    "pred_sents, utts, loss = feed_model(map_dict[key],\n",
    "                  b_dict=bucket_dict[key],\n",
    "                  vocab_dict=vocab_dict,\n",
    "                  batch_size=BATCH_SIZE,\n",
    "                  x_key=enc_key,\n",
    "                  y_key=dec_key,\n",
    "                  train=train,\n",
    "                  cat_speech_path=cat_speech_path, use_y=True)\n",
    "\n",
    "print(\"{0:s} {1:s} mean loss={2:.4f}\".format(\"*\" * 10,\n",
    "                                    \"train\" if train else \"dev\",\n",
    "                                    loss))\n",
    "print(\"-\")\n",
    "print(\"-\"*80)"
   ]
  },
  {
   "cell_type": "code",
   "execution_count": null,
   "metadata": {},
   "outputs": [],
   "source": [
    "display_words(m_dict, v_dict, pred_sents[:n], utts[:n], dec_key)"
   ]
  },
  {
   "cell_type": "code",
   "execution_count": null,
   "metadata": {},
   "outputs": [],
   "source": [
    "b, h, r = calc_bleu(m_dict, v_dict, pred_sents[:n], utts[:n], dec_key)\n",
    "corpus_bleu(r, h)"
   ]
  },
  {
   "cell_type": "code",
   "execution_count": null,
   "metadata": {
    "collapsed": true
   },
   "outputs": [],
   "source": []
  }
 ],
 "metadata": {
  "kernelspec": {
   "display_name": "Python 3",
   "language": "python",
   "name": "python3"
  },
  "language_info": {
   "codemirror_mode": {
    "name": "ipython",
    "version": 3
   },
   "file_extension": ".py",
   "mimetype": "text/x-python",
   "name": "python",
   "nbconvert_exporter": "python",
   "pygments_lexer": "ipython3",
   "version": "3.6.1"
  }
 },
 "nbformat": 4,
 "nbformat_minor": 2
}
