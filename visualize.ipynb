{
 "cells": [
  {
   "cell_type": "code",
   "execution_count": 55,
   "metadata": {
    "collapsed": true
   },
   "outputs": [],
   "source": [
    "import nltk\n",
    "from nltk.translate.bleu_score import sentence_bleu, corpus_bleu, modified_precision\n",
    "from nltk.metrics import scores\n",
    "import scipy.io.wavfile\n",
    "from IPython.display import Audio\n",
    "from IPython.display import display\n",
    "from nltk.stem import *\n",
    "from nltk.stem.snowball import SnowballStemmer\n",
    "\n",
    "%matplotlib inline"
   ]
  },
  {
   "cell_type": "code",
   "execution_count": 2,
   "metadata": {},
   "outputs": [
    {
     "name": "stderr",
     "output_type": "stream",
     "text": [
      "100%|██████████| 3977/3977 [00:00<00:00, 646866.52it/s]\n",
      "  0%|          | 0/3959 [00:00<?, ?it/s]"
     ]
    },
    {
     "name": "stdout",
     "output_type": "stream",
     "text": [
      "fisher + callhome sp/es - en configuration\n",
      "--------------------------------------------------\n",
      "loading info_dict from=./callhome_fbank_out/info.dict\n",
      "--------------------------------------------------\n",
      "creating buckets for: fisher_dev\n",
      "creating buckets for key: sp\n",
      "creating buckets for: fisher_dev2\n",
      "creating buckets for key: sp\n"
     ]
    },
    {
     "name": "stderr",
     "output_type": "stream",
     "text": [
      "100%|██████████| 3959/3959 [00:00<00:00, 628772.37it/s]\n",
      "100%|██████████| 3641/3641 [00:00<00:00, 639695.93it/s]\n",
      " 43%|████▎     | 59969/138708 [00:00<00:00, 599684.85it/s]"
     ]
    },
    {
     "name": "stdout",
     "output_type": "stream",
     "text": [
      "creating buckets for: fisher_test\n",
      "creating buckets for key: sp\n",
      "creating buckets for: fisher_train\n",
      "creating buckets for key: sp\n"
     ]
    },
    {
     "name": "stderr",
     "output_type": "stream",
     "text": [
      "100%|██████████| 138708/138708 [00:00<00:00, 608298.01it/s]\n",
      "100%|██████████| 3801/3801 [00:00<00:00, 648044.77it/s]\n",
      "100%|██████████| 1824/1824 [00:00<00:00, 616173.53it/s]\n",
      "100%|██████████| 14284/14284 [00:00<00:00, 624057.98it/s]\n"
     ]
    },
    {
     "name": "stdout",
     "output_type": "stream",
     "text": [
      "creating buckets for: callhome_devtest\n",
      "creating buckets for key: sp\n",
      "creating buckets for: callhome_evltest\n",
      "creating buckets for key: sp\n",
      "creating buckets for: callhome_train\n",
      "creating buckets for key: sp\n",
      "--------------------------------------------------\n",
      "saving info dict in: ./callhome_fbank_out/buckets_sp.dict\n",
      "all done ...\n",
      "--------------------------------------------------\n",
      "showing buckets for category: fisher_dev\n",
      "number of buckets=8, width of each bucket=256\n",
      "index | width | num   \n",
      "    0 |     0 |   1804\n",
      "    1 |   256 |   1047\n",
      "    2 |   512 |    559\n",
      "    3 |   768 |    348\n",
      "    4 |  1024 |    158\n",
      "    5 |  1280 |     53\n",
      "    6 |  1536 |      6\n",
      "    7 |  1792 |      2\n",
      "--------------------------------------------------\n",
      "showing buckets for category: fisher_dev2\n",
      "number of buckets=8, width of each bucket=256\n",
      "index | width | num   \n",
      "    0 |     0 |   1656\n",
      "    1 |   256 |   1177\n",
      "    2 |   512 |    546\n",
      "    3 |   768 |    363\n",
      "    4 |  1024 |    150\n",
      "    5 |  1280 |     50\n",
      "    6 |  1536 |     16\n",
      "    7 |  1792 |      1\n",
      "--------------------------------------------------\n",
      "showing buckets for category: fisher_test\n",
      "number of buckets=8, width of each bucket=256\n",
      "index | width | num   \n",
      "    0 |     0 |   1598\n",
      "    1 |   256 |    944\n",
      "    2 |   512 |    433\n",
      "    3 |   768 |    392\n",
      "    4 |  1024 |    208\n",
      "    5 |  1280 |     56\n",
      "    6 |  1536 |      8\n",
      "    7 |  1792 |      2\n",
      "--------------------------------------------------\n",
      "showing buckets for category: fisher_train\n",
      "number of buckets=8, width of each bucket=256\n",
      "index | width | num   \n",
      "    0 |     0 |  60043\n",
      "    1 |   256 |  36694\n",
      "    2 |   512 |  18572\n",
      "    3 |   768 |  13167\n",
      "    4 |  1024 |   7127\n",
      "    5 |  1280 |   2366\n",
      "    6 |  1536 |    566\n",
      "    7 |  1792 |    173\n",
      "--------------------------------------------------\n",
      "showing buckets for category: callhome_devtest\n",
      "number of buckets=8, width of each bucket=256\n",
      "index | width | num   \n",
      "    0 |     0 |   1910\n",
      "    1 |   256 |   1115\n",
      "    2 |   512 |    471\n",
      "    3 |   768 |    174\n",
      "    4 |  1024 |     81\n",
      "    5 |  1280 |     40\n",
      "    6 |  1536 |      9\n",
      "    7 |  1792 |      1\n",
      "--------------------------------------------------\n",
      "showing buckets for category: callhome_evltest\n",
      "number of buckets=8, width of each bucket=256\n",
      "index | width | num   \n",
      "    0 |     0 |    899\n",
      "    1 |   256 |    520\n",
      "    2 |   512 |    219\n",
      "    3 |   768 |    105\n",
      "    4 |  1024 |     46\n",
      "    5 |  1280 |     21\n",
      "    6 |  1536 |     12\n",
      "    7 |  1792 |      2\n",
      "--------------------------------------------------\n",
      "showing buckets for category: callhome_train\n",
      "number of buckets=8, width of each bucket=256\n",
      "index | width | num   \n",
      "    0 |     0 |   7446\n",
      "    1 |   256 |   3894\n",
      "    2 |   512 |   1620\n",
      "    3 |   768 |    737\n",
      "    4 |  1024 |    349\n",
      "    5 |  1280 |    147\n",
      "    6 |  1536 |     64\n",
      "    7 |  1792 |     27\n",
      "cnn details:\n",
      "{'in_channels': None, 'out_channels': 32, 'ksize': (3, 3), 'stride': (2, 2), 'pad': (1, 1)}\n",
      "{'in_channels': None, 'out_channels': 32, 'ksize': (3, 3), 'stride': (2, 2), 'pad': (1, 1)}\n",
      "--------------------------------------------------\n",
      "loading dict: ./callhome_fbank_out/map.dict\n",
      "loading dict: ./callhome_fbank_out/train_vocab.dict\n",
      "--------------------------------------------------\n",
      "loading dict: ./callhome_fbank_out/buckets_sp.dict\n",
      "--------------------------------------------------\n",
      "utterances in fisher_dev = 3979\n",
      "utterances in fisher_dev2 = 3961\n",
      "utterances in fisher_test = 3641\n",
      "utterances in fisher_train = 138819\n",
      "utterances in callhome_devtest = 3966\n",
      "utterances in callhome_evltest = 1829\n",
      "utterances in callhome_train = 15080\n",
      "vocab size for sp = 0\n",
      "vocab size for en_w = 18555\n",
      "model file name: fsh_fbank/seq2seq_sen-138819_hwy0-dec4_emb-256-h-256__sp_en_w_gru_drpt-0.3_noise-0_l2-0.000100_32_32_2_2_2DCNN_BN_LN_enc-4.model\n",
      "log file name: fsh_fbank/train_sen-138819_hwy0-dec4_emb-256-h-256__sp_en_w_gru_drpt-0.3_noise-0_l2-0.000100_32_32_2_2_2DCNN_BN_LN_enc-4.log\n",
      "cnn_out_dim = rnn_in_units =  320\n"
     ]
    },
    {
     "name": "stderr",
     "output_type": "stream",
     "text": [
      "/afs/inf.ed.ac.uk/group/project/lowres/work/anaconda3/envs/chainer2/lib/python3.6/site-packages/chainer/utils/experimental.py:104: FutureWarning: chainer.links.normalization.layer_normalization.py is experimental. The interface can change in the future.\n",
      "  FutureWarning)\n"
     ]
    },
    {
     "name": "stdout",
     "output_type": "stream",
     "text": [
      "using ADAM optimizer\n"
     ]
    }
   ],
   "source": [
    "from nmt_run import *"
   ]
  },
  {
   "cell_type": "code",
   "execution_count": 3,
   "metadata": {
    "collapsed": true
   },
   "outputs": [],
   "source": [
    "model_files = [f for f in os.listdir(os.path.dirname(model_fil))\n",
    "                   if os.path.basename(model_fil).replace('.model','') in f]\n",
    "# print(model_files)"
   ]
  },
  {
   "cell_type": "code",
   "execution_count": 4,
   "metadata": {
    "collapsed": true
   },
   "outputs": [],
   "source": [
    "max_model_fil = max(model_files, key=lambda s: int(s.split('_')[-1].split('.')[0]))"
   ]
  },
  {
   "cell_type": "code",
   "execution_count": 5,
   "metadata": {},
   "outputs": [
    {
     "data": {
      "text/plain": [
       "'seq2seq_sen-138819_hwy0-dec4_emb-256-h-256__sp_en_w_gru_drpt-0.3_noise-0_l2-0.000100_32_32_2_2_2DCNN_BN_LN_enc-4_151.model'"
      ]
     },
     "execution_count": 5,
     "metadata": {},
     "output_type": "execute_result"
    }
   ],
   "source": [
    "max_model_fil"
   ]
  },
  {
   "cell_type": "code",
   "execution_count": 6,
   "metadata": {},
   "outputs": [
    {
     "name": "stdout",
     "output_type": "stream",
     "text": [
      "--------------------------------------------------------------------------------\n",
      "model found = \n",
      "fsh_fbank/seq2seq_sen-138819_hwy0-dec4_emb-256-h-256__sp_en_w_gru_drpt-0.3_noise-0_l2-0.000100_32_32_2_2_2DCNN_BN_LN_enc-4_151.model\n",
      "loading ...\n",
      "finished loading ..\n"
     ]
    }
   ],
   "source": [
    "last_epoch = check_model()"
   ]
  },
  {
   "cell_type": "code",
   "execution_count": 7,
   "metadata": {},
   "outputs": [
    {
     "data": {
      "text/plain": [
       "'fsh_fbank/dev_sen-138819_hwy0-dec4_emb-256-h-256__sp_en_w_gru_drpt-0.3_noise-0_l2-0.000100_32_32_2_2_2DCNN_BN_LN_enc-4.log'"
      ]
     },
     "execution_count": 7,
     "metadata": {},
     "output_type": "execute_result"
    }
   ],
   "source": [
    "log_dev_fil_name"
   ]
  },
  {
   "cell_type": "code",
   "execution_count": 8,
   "metadata": {
    "collapsed": true
   },
   "outputs": [
    {
     "ename": "ValueError",
     "evalue": "Wrong number of columns at line 160",
     "output_type": "error",
     "traceback": [
      "\u001b[0;31m---------------------------------------------------------------------------\u001b[0m",
      "\u001b[0;31mValueError\u001b[0m                                Traceback (most recent call last)",
      "\u001b[0;32m<ipython-input-8-e7bf63cdae19>\u001b[0m in \u001b[0;36m<module>\u001b[0;34m()\u001b[0m\n\u001b[1;32m      1\u001b[0m \u001b[0mlog_train\u001b[0m \u001b[0;34m=\u001b[0m \u001b[0mnp\u001b[0m\u001b[0;34m.\u001b[0m\u001b[0mloadtxt\u001b[0m\u001b[0;34m(\u001b[0m\u001b[0mlog_train_fil_name\u001b[0m\u001b[0;34m,\u001b[0m \u001b[0mdelimiter\u001b[0m\u001b[0;34m=\u001b[0m\u001b[0;34m','\u001b[0m\u001b[0;34m,\u001b[0m \u001b[0mskiprows\u001b[0m\u001b[0;34m=\u001b[0m\u001b[0;32mFalse\u001b[0m\u001b[0;34m)\u001b[0m\u001b[0;34m.\u001b[0m\u001b[0mtranspose\u001b[0m\u001b[0;34m(\u001b[0m\u001b[0;34m)\u001b[0m\u001b[0;34m\u001b[0m\u001b[0m\n\u001b[0;32m----> 2\u001b[0;31m \u001b[0mlog_test\u001b[0m \u001b[0;34m=\u001b[0m \u001b[0mnp\u001b[0m\u001b[0;34m.\u001b[0m\u001b[0mloadtxt\u001b[0m\u001b[0;34m(\u001b[0m\u001b[0mlog_dev_fil_name\u001b[0m\u001b[0;34m,\u001b[0m \u001b[0mdelimiter\u001b[0m\u001b[0;34m=\u001b[0m\u001b[0;34m','\u001b[0m\u001b[0;34m,\u001b[0m \u001b[0mskiprows\u001b[0m\u001b[0;34m=\u001b[0m\u001b[0;32mFalse\u001b[0m\u001b[0;34m)\u001b[0m\u001b[0;34m.\u001b[0m\u001b[0mtranspose\u001b[0m\u001b[0;34m(\u001b[0m\u001b[0;34m)\u001b[0m\u001b[0;34m\u001b[0m\u001b[0m\n\u001b[0m",
      "\u001b[0;32m/afs/inf.ed.ac.uk/group/project/lowres/work/anaconda3/envs/chainer2/lib/python3.6/site-packages/numpy/lib/npyio.py\u001b[0m in \u001b[0;36mloadtxt\u001b[0;34m(fname, dtype, comments, delimiter, converters, skiprows, usecols, unpack, ndmin)\u001b[0m\n\u001b[1;32m   1019\u001b[0m                 \u001b[0mline_num\u001b[0m \u001b[0;34m=\u001b[0m \u001b[0mi\u001b[0m \u001b[0;34m+\u001b[0m \u001b[0mskiprows\u001b[0m \u001b[0;34m+\u001b[0m \u001b[0;36m1\u001b[0m\u001b[0;34m\u001b[0m\u001b[0m\n\u001b[1;32m   1020\u001b[0m                 raise ValueError(\"Wrong number of columns at line %d\"\n\u001b[0;32m-> 1021\u001b[0;31m                                  % line_num)\n\u001b[0m\u001b[1;32m   1022\u001b[0m \u001b[0;34m\u001b[0m\u001b[0m\n\u001b[1;32m   1023\u001b[0m             \u001b[0;31m# Convert each value according to its column and store\u001b[0m\u001b[0;34m\u001b[0m\u001b[0;34m\u001b[0m\u001b[0m\n",
      "\u001b[0;31mValueError\u001b[0m: Wrong number of columns at line 160"
     ]
    }
   ],
   "source": [
    "log_train = np.loadtxt(log_train_fil_name, delimiter=',', skiprows=False).transpose()\n",
    "log_test = np.loadtxt(log_dev_fil_name, delimiter=',', skiprows=False).transpose()"
   ]
  },
  {
   "cell_type": "code",
   "execution_count": 9,
   "metadata": {
    "collapsed": true
   },
   "outputs": [
    {
     "ename": "NameError",
     "evalue": "name 'log_test' is not defined",
     "output_type": "error",
     "traceback": [
      "\u001b[0;31m---------------------------------------------------------------------------\u001b[0m",
      "\u001b[0;31mNameError\u001b[0m                                 Traceback (most recent call last)",
      "\u001b[0;32m<ipython-input-9-fd6709386d1a>\u001b[0m in \u001b[0;36m<module>\u001b[0;34m()\u001b[0m\n\u001b[1;32m      2\u001b[0m \u001b[0mfig\u001b[0m\u001b[0;34m.\u001b[0m\u001b[0mset_size_inches\u001b[0m\u001b[0;34m(\u001b[0m\u001b[0;36m8\u001b[0m\u001b[0;34m,\u001b[0m\u001b[0;36m5\u001b[0m\u001b[0;34m)\u001b[0m\u001b[0;34m\u001b[0m\u001b[0m\n\u001b[1;32m      3\u001b[0m \u001b[0max1\u001b[0m\u001b[0;34m.\u001b[0m\u001b[0mplot\u001b[0m\u001b[0;34m(\u001b[0m\u001b[0mlog_train\u001b[0m\u001b[0;34m[\u001b[0m\u001b[0;36m0\u001b[0m\u001b[0;34m]\u001b[0m\u001b[0;34m,\u001b[0m \u001b[0mlog_train\u001b[0m\u001b[0;34m[\u001b[0m\u001b[0;36m1\u001b[0m\u001b[0;34m]\u001b[0m\u001b[0;34m,\u001b[0m \u001b[0mcolor\u001b[0m\u001b[0;34m=\u001b[0m\u001b[0;34m'#ff7700'\u001b[0m\u001b[0;34m)\u001b[0m\u001b[0;34m\u001b[0m\u001b[0m\n\u001b[0;32m----> 4\u001b[0;31m \u001b[0max1\u001b[0m\u001b[0;34m.\u001b[0m\u001b[0mplot\u001b[0m\u001b[0;34m(\u001b[0m\u001b[0mlog_test\u001b[0m\u001b[0;34m[\u001b[0m\u001b[0;36m0\u001b[0m\u001b[0;34m]\u001b[0m\u001b[0;34m,\u001b[0m \u001b[0mlog_test\u001b[0m\u001b[0;34m[\u001b[0m\u001b[0;36m1\u001b[0m\u001b[0;34m]\u001b[0m\u001b[0;34m,\u001b[0m \u001b[0;34m'r--'\u001b[0m\u001b[0;34m)\u001b[0m\u001b[0;34m\u001b[0m\u001b[0m\n\u001b[0m\u001b[1;32m      5\u001b[0m \u001b[0max1\u001b[0m\u001b[0;34m.\u001b[0m\u001b[0mset_xlabel\u001b[0m\u001b[0;34m(\u001b[0m\u001b[0;34m'epoch'\u001b[0m\u001b[0;34m,\u001b[0m \u001b[0msize\u001b[0m\u001b[0;34m=\u001b[0m\u001b[0;36m24\u001b[0m\u001b[0;34m)\u001b[0m\u001b[0;34m\u001b[0m\u001b[0m\n\u001b[1;32m      6\u001b[0m \u001b[0max1\u001b[0m\u001b[0;34m.\u001b[0m\u001b[0mset_ylabel\u001b[0m\u001b[0;34m(\u001b[0m\u001b[0;34m'loss'\u001b[0m\u001b[0;34m,\u001b[0m \u001b[0mcolor\u001b[0m\u001b[0;34m=\u001b[0m\u001b[0;34m'r'\u001b[0m\u001b[0;34m,\u001b[0m \u001b[0msize\u001b[0m\u001b[0;34m=\u001b[0m\u001b[0;36m24\u001b[0m\u001b[0;34m)\u001b[0m\u001b[0;34m\u001b[0m\u001b[0m\n",
      "\u001b[0;31mNameError\u001b[0m: name 'log_test' is not defined"
     ]
    },
    {
     "data": {
      "image/png": "[encoded data removed]",
      "text/plain": [
       "<matplotlib.figure.Figure at 0x7f65f98ffe80>"
      ]
     },
     "metadata": {},
     "output_type": "display_data"
    }
   ],
   "source": [
    "fig, ax1 = plt.subplots()\n",
    "fig.set_size_inches(8,5)\n",
    "ax1.plot(log_train[0], log_train[1], color='#ff7700')\n",
    "ax1.plot(log_test[0], log_test[1], 'r--')\n",
    "ax1.set_xlabel('epoch', size=24)\n",
    "ax1.set_ylabel('loss', color='r', size=24)\n",
    "for tl in ax1.get_yticklabels():\n",
    "    tl.set_color('r')\n",
    "    tl.set_fontsize(18)\n",
    "plt.legend(['train loss', 'dev loss'], bbox_to_anchor=(1.45, 0.96), framealpha=0, fontsize=20)    \n",
    "ax2 = ax1.twinx()\n",
    "ax2.plot(log_test[0], log_test[2]*100, 'b-')\n",
    "ax2.set_xlabel('iteration')\n",
    "ax2.set_ylabel('dev bleu', color='b', size=24)\n",
    "# ax1.set_xlim(0, 60)\n",
    "for tl in ax2.get_yticklabels():\n",
    "    tl.set_color('b')\n",
    "    tl.set_fontsize(18) \n",
    "plt.legend(['dev bleu'], bbox_to_anchor=(1.44, 1.04), framealpha=0, fontsize=20)\n",
    "# plt.legend(['dev bleu'], bbox_to_anchor=(1.06, 0.9), framealpha=0, fontsize=20)\n",
    "plt.grid(False)\n",
    "plt.tight_layout()"
   ]
  },
  {
   "cell_type": "code",
   "execution_count": 10,
   "metadata": {
    "collapsed": true
   },
   "outputs": [],
   "source": [
    "import nltk.translate.bleu_score"
   ]
  },
  {
   "cell_type": "code",
   "execution_count": 11,
   "metadata": {
    "collapsed": true
   },
   "outputs": [],
   "source": [
    "def play_utt(utt, m_dict):\n",
    "    sr, y = scipy.io.wavfile.read(os.path.join(wavs_path, utt.rsplit(\"-\",1)[0]+'.wav'))\n",
    "    start_t = min(seg['start'] for seg in m_dict[utt]['seg'])\n",
    "    end_t = max(seg['end'] for seg in m_dict[utt]['seg'])\n",
    "    print(start_t, end_t)\n",
    "    start_t_samples, end_t_samples = int(start_t*sr), int(end_t*sr)\n",
    "    display(Audio(y[start_t_samples:end_t_samples], rate=sr))"
   ]
  },
  {
   "cell_type": "code",
   "execution_count": 12,
   "metadata": {
    "collapsed": true
   },
   "outputs": [],
   "source": [
    "def display_words(m_dict, v_dict, preds, utts, dec_key, key, min_len=0, max_len=MAX_EN_LEN, play_audio=False):\n",
    "    es_ref = []\n",
    "    en_ref = []\n",
    "    for u in utts:\n",
    "        es_ref.append(\" \".join([w.decode() for w in m_dict[u]['es_w']]))\n",
    "        if type(m_dict[u][dec_key]) == list:\n",
    "            en_ref.append(\" \".join([w.decode() for w in m_dict[u]['en_w']]))\n",
    "        else:\n",
    "            en_ref.append(\" \".join([w.decode() for w in m_dict[u]['en_w'][0]]))\n",
    "\n",
    "    en_pred = []\n",
    "    join_str = ' ' if dec_key.endswith('_w') else ''\n",
    "\n",
    "    for p in preds:\n",
    "        t_str = join_str.join([v_dict['i2w'][i].decode() for i in p])\n",
    "        t_str = t_str[:t_str.find('_EOS')]\n",
    "        en_pred.append(t_str)\n",
    "\n",
    "    for u, es, en, p in zip(utts, es_ref, en_ref, en_pred):\n",
    "        if len(en.split(\" \")) >= min_len and len(en.split(\" \")) <= max_len:\n",
    "            # for reference, 1st word is GO_ID, no need to display\n",
    "            print(\"Utterance: {0:s}\".format(u))\n",
    "            display_pp = PrettyTable([\"cat\",\"sent\"], hrules=True)\n",
    "            display_pp.align = \"l\"\n",
    "            display_pp.header = False\n",
    "            display_pp.add_row([\"es ref\", textwrap.fill(es,50)])\n",
    "            display_pp.add_row([\"en ref\", textwrap.fill(en,50)])\n",
    "            display_pp.add_row([\"en pred\", textwrap.fill(p,50)])\n",
    "\n",
    "            print(display_pp)\n",
    "            if play_audio:\n",
    "                play_utt(u, m_dict)\n",
    "    "
   ]
  },
  {
   "cell_type": "code",
   "execution_count": 13,
   "metadata": {
    "collapsed": true
   },
   "outputs": [],
   "source": [
    "def display_words_latex(m_dict, v_dict, preds, utts, dec_key, min_len=0, max_len=2*MAX_EN_LEN):\n",
    "    print(\"min length={0:d}, max length={1:d}\".format(min_len, max_len))\n",
    "    es_ref = []\n",
    "    en_ref = []\n",
    "    for u in utts:\n",
    "        es_ref.append(\" \".join([w.decode() for w in m_dict[u]['es_w']]))\n",
    "        if type(m_dict[u][dec_key]) == list:\n",
    "            en_ref.append(\" \".join([w.decode() for w in m_dict[u]['en_w']]))\n",
    "        else:\n",
    "            en_ref.append(\" \".join([w.decode() for w in m_dict[u]['en_w'][0]]))\n",
    "\n",
    "    en_pred = []\n",
    "    join_str = ' ' if dec_key.endswith('_w') else ''\n",
    "\n",
    "    for p in preds:\n",
    "        t_str = join_str.join([v_dict['i2w'][i].decode() for i in p])\n",
    "        t_str = t_str[:t_str.find('_EOS')]\n",
    "        en_pred.append(t_str)\n",
    "\n",
    "    total_matching_len = 0\n",
    "\n",
    "    for u, es, en, p in zip(utts, es_ref, en_ref, en_pred):\n",
    "        if len(es.split(\" \")) >= min_len and len(es.split(\" \")) <= max_len:\n",
    "            total_matching_len += 1\n",
    "            # for reference, 1st word is GO_ID, no need to display\n",
    "            print(\"Utterance: {0:s}\".format(u))\n",
    "            print(\"{0:d} & {1:s} & {2:s} & {3:s} \\\\\\\\\".format(total_matching_len, es, en, p))\n",
    "\n",
    "    print(\"total utts matching length filters={0:d}\".format(total_matching_len))"
   ]
  },
  {
   "cell_type": "code",
   "execution_count": 57,
   "metadata": {},
   "outputs": [],
   "source": [
    "def write_predictions_to_file(m_dict, v_dict, preds, utts, dec_key, key, \n",
    "                              min_len=0, max_len=2*MAX_EN_LEN, stemmify=False):\n",
    "    print(\"min length={0:d}, max length={1:d}\".format(min_len, max_len))\n",
    "    en_hyp = []\n",
    "    en_ref = []\n",
    "    ref_key = 'en_w' if 'en_' in dec_key else 'es_w'\n",
    "    src_key = 'es_w'\n",
    "    \n",
    "    if stemmify:\n",
    "        stemmer = SnowballStemmer(\"english\")\n",
    "    \n",
    "    for u in tqdm(utts, ncols=80):\n",
    "        if len(m_dict[u][src_key]) >= min_len and len(m_dict[u][src_key]) <= max_len:\n",
    "            if type(m_dict[u][ref_key]) == list:\n",
    "                if stemmify:\n",
    "                    en_ref.append(\" \".join([stemmer.stem(w.decode()) for w in m_dict[u]['en_w']]))\n",
    "                else:\n",
    "                    en_ref.append(\" \".join([w.decode() for w in m_dict[u]['en_w']]))\n",
    "            else:\n",
    "                en_r_list = []\n",
    "                for r in m_dict[u][ref_key]:\n",
    "                    if stemmify:\n",
    "                        en_r_list.append(\" \".join([stemmer.stem(w.decode()) for w in r]))\n",
    "                    else:\n",
    "                        en_r_list.append(\" \".join([w.decode() for w in r]))\n",
    "                en_ref.append(en_r_list)\n",
    "\n",
    "    join_str = ' ' if dec_key.endswith('_w') else ''\n",
    "\n",
    "    total_matching_len = 0\n",
    "\n",
    "    for u, p in zip(utts, preds):\n",
    "        if len(m_dict[u][src_key]) >= min_len and len(m_dict[u][src_key]) <= max_len:\n",
    "            total_matching_len += 1\n",
    "            if stemmify:\n",
    "                t_str = join_str.join([stemmer.stem(v_dict['i2w'][i].decode()) if i != EOS_ID else EOS.decode() for i in p])\n",
    "            else:\n",
    "                t_str = join_str.join([v_dict['i2w'][i].decode() for i in p])\n",
    "            t_str = t_str[:t_str.find('_EOS')]\n",
    "            en_hyp.append(t_str)\n",
    "\n",
    "\n",
    "    print(\"total utts matching length filters={0:d}\".format(total_matching_len))\n",
    "    \n",
    "    with open(\"{0:s}_mt-output\".format(key), \"w\") as pred_f:\n",
    "        for p in en_hyp:\n",
    "            pred_f.write(\"{0:s}\\n\".format(p))\n",
    "        # end for\n",
    "    # end while\n",
    "    \n",
    "    if type(m_dict[utts[0]][ref_key]) == list:\n",
    "        with open(\"{0:s}.ref0\".format(key), \"w\") as ref_f:\n",
    "            for r in en_ref:\n",
    "                ref_f.write(\"{0:s}\\n\".format(r))\n",
    "    else:\n",
    "        num_ref = len(m_dict[u][ref_key])\n",
    "        for i in range(num_ref):\n",
    "            with open(\"{0:s}_en.ref{1:d}\".format(key,i), \"w\") as ref_f:\n",
    "                for r in en_ref:\n",
    "                    ref_f.write(\"{0:s}\\n\".format(r[i]))\n",
    "                # end for each utt\n",
    "            # end with\n",
    "        # end for reference\n",
    "    # end else\n",
    "    print(\"done\")\n",
    "    return en_ref, en_hyp"
   ]
  },
  {
   "cell_type": "markdown",
   "metadata": {},
   "source": [
    "### Fisher dev"
   ]
  },
  {
   "cell_type": "code",
   "execution_count": 48,
   "metadata": {
    "collapsed": true
   },
   "outputs": [],
   "source": [
    "key='fisher_dev'\n",
    "train=False\n",
    "m_dict = map_dict[key]\n",
    "v_dict = vocab_dict[dec_key]\n",
    "n=len(map_dict[key])\n",
    "BATCH_SIZE = 100"
   ]
  },
  {
   "cell_type": "code",
   "execution_count": 49,
   "metadata": {
    "collapsed": true
   },
   "outputs": [],
   "source": [
    "cat_speech_path = os.path.join(out_path, key)\n",
    "wavs_path = os.path.join(out_path, \"wavs\")"
   ]
  },
  {
   "cell_type": "code",
   "execution_count": 17,
   "metadata": {},
   "outputs": [
    {
     "name": "stderr",
     "output_type": "stream",
     "text": [
      "\r",
      "  0%|                                                  | 0/3977 [00:00<?, ?it/s]"
     ]
    },
    {
     "name": "stdout",
     "output_type": "stream",
     "text": [
      "--------------------------------------------------------------------------------\n",
      "EPOCH = 152\n"
     ]
    },
    {
     "name": "stderr",
     "output_type": "stream",
     "text": [
      "b=1,l=0.81,avg=2.17: 100%|██████████████████| 3977/3977 [02:22<00:00, 14.65it/s]"
     ]
    },
    {
     "name": "stdout",
     "output_type": "stream",
     "text": [
      "********** dev mean loss=2.1713\n",
      "-\n",
      "--------------------------------------------------------------------------------\n"
     ]
    },
    {
     "name": "stderr",
     "output_type": "stream",
     "text": [
      "\n"
     ]
    }
   ],
   "source": [
    "print(\"-\"*80)\n",
    "print(\"EPOCH = {0:d}\".format(last_epoch+1))\n",
    "fsh_pred_sents, fsh_utts, loss = feed_model(map_dict[key],\n",
    "                  b_dict=bucket_dict[key],\n",
    "                  vocab_dict=vocab_dict,\n",
    "                  batch_size=BATCH_SIZE,\n",
    "                  x_key=enc_key,\n",
    "                  y_key=dec_key,\n",
    "                  train=train,\n",
    "                  cat_speech_path=cat_speech_path, use_y=True)\n",
    "\n",
    "print(\"{0:s} {1:s} mean loss={2:.4f}\".format(\"*\" * 10,\n",
    "                                    \"train\" if train else \"dev\",\n",
    "                                    loss))\n",
    "print(\"-\")\n",
    "print(\"-\"*80)"
   ]
  },
  {
   "cell_type": "code",
   "execution_count": 98,
   "metadata": {
    "collapsed": true
   },
   "outputs": [],
   "source": [
    "# Eval parameters\n",
    "ref_index = -1\n",
    "min_len, max_len= 0, 200\n",
    "displayN = 50"
   ]
  },
  {
   "cell_type": "code",
   "execution_count": 99,
   "metadata": {},
   "outputs": [
    {
     "name": "stdout",
     "output_type": "stream",
     "text": [
      "Utterance: 20051018_210744_280_fsp-B-88\n",
      "+---------+-----------------------------------+\n",
      "| es ref  | pero no es una vida lujosa        |\n",
      "+---------+-----------------------------------+\n",
      "| en ref  | but it s not a life of luxury     |\n",
      "+---------+-----------------------------------+\n",
      "| en pred | but is a very expensive christmas |\n",
      "+---------+-----------------------------------+\n",
      "Utterance: 20051022_180817_311_fsp-A-81\n",
      "+---------+-------------------------------+\n",
      "| es ref  | porque él él hace dj          |\n",
      "+---------+-------------------------------+\n",
      "| en ref  | because he he does -dj-       |\n",
      "+---------+-------------------------------+\n",
      "| en pred | because he does the serve and |\n",
      "+---------+-------------------------------+\n",
      "Utterance: 20051009_182032_217_fsp-A-116\n",
      "+---------+-----+\n",
      "| es ref  | ajá |\n",
      "+---------+-----+\n",
      "| en ref  | aha |\n",
      "+---------+-----+\n",
      "| en pred | aha |\n",
      "+---------+-----+\n",
      "Utterance: 20051016_180547_265_fsp-A-6\n",
      "+---------+-----------+\n",
      "| es ref  | oh my god |\n",
      "+---------+-----------+\n",
      "| en ref  | oh my god |\n",
      "+---------+-----------+\n",
      "| en pred | oh my god |\n",
      "+---------+-----------+\n",
      "Utterance: 20051017_234550_276_fsp-A-5\n",
      "+---------+----+\n",
      "| es ref  | oh |\n",
      "+---------+----+\n",
      "| en ref  | oh |\n",
      "+---------+----+\n",
      "| en pred | oh |\n",
      "+---------+----+\n",
      "Utterance: 20051019_210146_289_fsp-B-34\n",
      "+---------+--------------------------+\n",
      "| es ref  | en el cerca de vancouver |\n",
      "+---------+--------------------------+\n",
      "| en ref  | in the near vacouver     |\n",
      "+---------+--------------------------+\n",
      "| en pred | eh near vancouver        |\n",
      "+---------+--------------------------+\n",
      "Utterance: 20051017_234550_276_fsp-A-73\n",
      "+---------+--------------------------+\n",
      "| es ref  | y daría más ánimo ¿ no   |\n",
      "+---------+--------------------------+\n",
      "| en ref  | and more animated right  |\n",
      "+---------+--------------------------+\n",
      "| en pred | and would be more and no |\n",
      "+---------+--------------------------+\n",
      "Utterance: 20051026_180724_341_fsp-B-7\n",
      "+---------+--------------------------------+\n",
      "| es ref  | sí casate con quien tu quieras |\n",
      "+---------+--------------------------------+\n",
      "| en ref  | yes marry whoever you want     |\n",
      "+---------+--------------------------------+\n",
      "| en pred | yes houses with your daughter  |\n",
      "+---------+--------------------------------+\n",
      "Utterance: 20051019_210146_289_fsp-A-42\n",
      "+---------+-------------------------------------+\n",
      "| es ref  | ¿conoces seatle washington          |\n",
      "+---------+-------------------------------------+\n",
      "| en ref  | have you been to seattle washington |\n",
      "+---------+-------------------------------------+\n",
      "| en pred | do you know seattle or washington   |\n",
      "+---------+-------------------------------------+\n",
      "Utterance: 20051017_234550_276_fsp-A-48\n",
      "+---------+---------------------+\n",
      "| es ref  | está todo eso       |\n",
      "+---------+---------------------+\n",
      "| en ref  | there is all that   |\n",
      "+---------+---------------------+\n",
      "| en pred | yes that s all that |\n",
      "+---------+---------------------+\n",
      "Utterance: 20051016_210626_267_fsp-B-31\n",
      "+---------+-----+\n",
      "| es ref  | sí  |\n",
      "+---------+-----+\n",
      "| en ref  | yes |\n",
      "+---------+-----+\n",
      "| en pred | yes |\n",
      "+---------+-----+\n",
      "Utterance: 20051024_181110_329_fsp-B-55\n",
      "+---------+---------+\n",
      "| es ref  | ¿ah sí  |\n",
      "+---------+---------+\n",
      "| en ref  | oh yeah |\n",
      "+---------+---------+\n",
      "| en pred | oh yes  |\n",
      "+---------+---------+\n",
      "Utterance: 20051019_230329_292_fsp-A-63\n",
      "+---------+----+\n",
      "| es ref  | ah |\n",
      "+---------+----+\n",
      "| en ref  | ah |\n",
      "+---------+----+\n",
      "| en pred | ah |\n",
      "+---------+----+\n",
      "Utterance: 20051009_182032_217_fsp-B-102\n",
      "+---------+-------+\n",
      "| es ref  | mhm   |\n",
      "+---------+-------+\n",
      "| en ref  | uh um |\n",
      "+---------+-------+\n",
      "| en pred | hm mm |\n",
      "+---------+-------+\n",
      "Utterance: 20051009_182032_217_fsp-A-126\n",
      "+---------+---------+\n",
      "| es ref  | sí mhm  |\n",
      "+---------+---------+\n",
      "| en ref  | yes mhm |\n",
      "+---------+---------+\n",
      "| en pred | yes aha |\n",
      "+---------+---------+\n",
      "Utterance: 20051019_190221_288_fsp-B-83\n",
      "+---------+--------+\n",
      "| es ref  | fíjate |\n",
      "+---------+--------+\n",
      "| en ref  | notice |\n",
      "+---------+--------+\n",
      "| en pred | i      |\n",
      "+---------+--------+\n",
      "Utterance: 20051017_234550_276_fsp-A-13\n",
      "+---------+-------------+\n",
      "| es ref  | puerto rico |\n",
      "+---------+-------------+\n",
      "| en ref  | puerto rico |\n",
      "+---------+-------------+\n",
      "| en pred | puerto rico |\n",
      "+---------+-------------+\n",
      "Utterance: 20051017_234550_276_fsp-B-11\n",
      "+---------+-------+\n",
      "| es ref  | ¡ wow |\n",
      "+---------+-------+\n",
      "| en ref  | wow   |\n",
      "+---------+-------+\n",
      "| en pred | wow   |\n",
      "+---------+-------+\n",
      "Utterance: 20051016_210626_267_fsp-B-55\n",
      "+---------+-----+\n",
      "| es ref  | sí  |\n",
      "+---------+-----+\n",
      "| en ref  | yes |\n",
      "+---------+-----+\n",
      "| en pred | yes |\n",
      "+---------+-----+\n",
      "Utterance: 20051026_180724_341_fsp-B-76\n",
      "+---------+--------------------------------------+\n",
      "| es ref  | con blanquitos así así charlamos     |\n",
      "+---------+--------------------------------------+\n",
      "| en ref  | with whities we chat like this       |\n",
      "+---------+--------------------------------------+\n",
      "| en pred | compared to the like that we got out |\n",
      "+---------+--------------------------------------+\n",
      "Utterance: 20051024_181110_329_fsp-B-61\n",
      "+---------+-------------+\n",
      "| es ref  | sí sí sí    |\n",
      "+---------+-------------+\n",
      "| en ref  | yes yes yes |\n",
      "+---------+-------------+\n",
      "| en pred | yes yes yes |\n",
      "+---------+-------------+\n",
      "Utterance: 20051018_210744_280_fsp-B-9\n",
      "+---------+-----------------------------------+\n",
      "| es ref  | ¿así que naciste en nueva york    |\n",
      "+---------+-----------------------------------+\n",
      "| en ref  | so then were you born in new york |\n",
      "+---------+-----------------------------------+\n",
      "| en pred | so born born in new york          |\n",
      "+---------+-----------------------------------+\n",
      "Utterance: 20051026_211309_346_fsp-A-26\n",
      "+---------+-----+\n",
      "| es ref  | sí  |\n",
      "+---------+-----+\n",
      "| en ref  | yes |\n",
      "+---------+-----+\n",
      "| en pred | ah  |\n",
      "+---------+-----+\n",
      "Utterance: 20051017_234550_276_fsp-B-100\n",
      "+---------+-----+\n",
      "| es ref  | sí  |\n",
      "+---------+-----+\n",
      "| en ref  | yes |\n",
      "+---------+-----+\n",
      "| en pred | yes |\n",
      "+---------+-----+\n",
      "Utterance: 20051024_180453_327_fsp-B-45\n",
      "+---------+-------------+\n",
      "| es ref  | sí sí pero  |\n",
      "+---------+-------------+\n",
      "| en ref  | yes yes but |\n",
      "+---------+-------------+\n",
      "| en pred | yes yes but |\n",
      "+---------+-------------+\n",
      "Utterance: 20051016_210626_267_fsp-B-7\n",
      "+---------+---------------+\n",
      "| es ref  | aodri         |\n",
      "+---------+---------------+\n",
      "| en ref  | aodri         |\n",
      "+---------+---------------+\n",
      "| en pred | audrey audrey |\n",
      "+---------+---------------+\n",
      "Utterance: 20051017_180712_270_fsp-B-31\n",
      "+---------+-------------+\n",
      "| es ref  | hm mm hm mm |\n",
      "+---------+-------------+\n",
      "| en ref  | hm mm hm mm |\n",
      "+---------+-------------+\n",
      "| en pred | hm mm mm    |\n",
      "+---------+-------------+\n",
      "Utterance: 20051017_220530_275_fsp-A-77\n",
      "+---------+---------+\n",
      "| es ref  | ah okay |\n",
      "+---------+---------+\n",
      "| en ref  | ah okay |\n",
      "+---------+---------+\n",
      "| en pred | oh okay |\n",
      "+---------+---------+\n",
      "Utterance: 20051026_180724_341_fsp-B-16\n",
      "+---------+-----+\n",
      "| es ref  | sí  |\n",
      "+---------+-----+\n",
      "| en ref  | yes |\n",
      "+---------+-----+\n",
      "| en pred | yes |\n",
      "+---------+-----+\n",
      "Utterance: 20051017_234550_276_fsp-B-18\n",
      "+---------+--------------------------+\n",
      "| es ref  | ¿ no hace frío allá      |\n",
      "+---------+--------------------------+\n",
      "| en ref  | isn t it cold there      |\n",
      "+---------+--------------------------+\n",
      "| en pred | it s not cold over there |\n",
      "+---------+--------------------------+\n",
      "Utterance: 20051025_212334_337_fsp-B-83\n",
      "+---------+----------------------+\n",
      "| es ref  | no no es tan buena   |\n",
      "+---------+----------------------+\n",
      "| en ref  | no it s not so great |\n",
      "+---------+----------------------+\n",
      "| en pred | no they are not good |\n",
      "+---------+----------------------+\n",
      "Utterance: 20051018_210744_280_fsp-A-42\n",
      "+---------+----+\n",
      "| es ref  | oh |\n",
      "+---------+----+\n",
      "| en ref  | oh |\n",
      "+---------+----+\n",
      "| en pred | oh |\n",
      "+---------+----+\n",
      "Utterance: 20051019_190221_288_fsp-A-84\n",
      "+---------+-----------------------------------+\n",
      "| es ref  | que está haciendo lo mismo que    |\n",
      "+---------+-----------------------------------+\n",
      "| en ref  | who is doing the same as          |\n",
      "+---------+-----------------------------------+\n",
      "| en pred | that they are doing the same that |\n",
      "+---------+-----------------------------------+\n",
      "Utterance: 20051016_210626_267_fsp-A-50\n",
      "+---------+-----+\n",
      "| es ref  | sí  |\n",
      "+---------+-----+\n",
      "| en ref  | yes |\n",
      "+---------+-----+\n",
      "| en pred | yes |\n",
      "+---------+-----+\n",
      "Utterance: 20051019_230329_292_fsp-A-33\n",
      "+---------+------------+\n",
      "| es ref  | y t- claro |\n",
      "+---------+------------+\n",
      "| en ref  | of course  |\n",
      "+---------+------------+\n",
      "| en pred | and sure   |\n",
      "+---------+------------+\n",
      "Utterance: 20051010_212418_225_fsp-B-23\n",
      "+---------+--------------+\n",
      "| es ref  | ah okay      |\n",
      "+---------+--------------+\n",
      "| en ref  | oh okay      |\n",
      "+---------+--------------+\n",
      "| en pred | ah okay okay |\n",
      "+---------+--------------+\n",
      "Utterance: 20051010_212418_225_fsp-B-54\n",
      "+---------+---------+\n",
      "| es ref  | ah okay |\n",
      "+---------+---------+\n",
      "| en ref  | oh ok   |\n",
      "+---------+---------+\n",
      "| en pred | ah okay |\n",
      "+---------+---------+\n",
      "Utterance: 20051009_182032_217_fsp-A-148\n",
      "+---------+---------+\n",
      "| es ref  | mm mhm  |\n",
      "+---------+---------+\n",
      "| en ref  | mm hmm  |\n",
      "+---------+---------+\n",
      "| en pred | yes hmm |\n",
      "+---------+---------+\n",
      "Utterance: 20051026_180724_341_fsp-A-11\n",
      "+---------+-------+\n",
      "| es ref  | hm mm |\n",
      "+---------+-------+\n",
      "| en ref  | hmm   |\n",
      "+---------+-------+\n",
      "| en pred | mm    |\n",
      "+---------+-------+\n",
      "Utterance: 20051024_181110_329_fsp-A-96\n",
      "+---------+-------------+\n",
      "| es ref  | realmente   |\n",
      "+---------+-------------+\n",
      "| en ref  | actually    |\n",
      "+---------+-------------+\n",
      "| en pred | mm to watch |\n",
      "+---------+-------------+\n",
      "Utterance: 20051017_234550_276_fsp-B-25\n",
      "+---------+------------------------------------------+\n",
      "| es ref  | mira sabes el la el tema de hoy ¿ verdad |\n",
      "+---------+------------------------------------------+\n",
      "| en ref  | look you know the today s subject ¿right |\n",
      "+---------+------------------------------------------+\n",
      "| en pred | look do you know today s topic           |\n",
      "+---------+------------------------------------------+\n",
      "Utterance: 20051023_232057_325_fsp-B-39\n",
      "+---------+-----------------------------+\n",
      "| es ref  | a veces demasiado tranquilo |\n",
      "+---------+-----------------------------+\n",
      "| en ref  | sometimes too quiet         |\n",
      "+---------+-----------------------------+\n",
      "| en pred | sometimes much peaceful     |\n",
      "+---------+-----------------------------+\n",
      "Utterance: 20051017_220530_275_fsp-A-55\n",
      "+---------+----------+\n",
      "| es ref  | claro eh |\n",
      "+---------+----------+\n",
      "| en ref  | sure eh  |\n",
      "+---------+----------+\n",
      "| en pred | sure hmm |\n",
      "+---------+----------+\n",
      "Utterance: 20051019_190221_288_fsp-A-25\n",
      "+---------+------+\n",
      "| es ref  | cla- |\n",
      "+---------+------+\n",
      "| en ref  | sure |\n",
      "+---------+------+\n",
      "| en pred | sure |\n",
      "+---------+------+\n",
      "Utterance: 20051024_180453_327_fsp-B-10\n",
      "+---------+-------+\n",
      "| es ref  | ah no |\n",
      "+---------+-------+\n",
      "| en ref  | oh no |\n",
      "+---------+-------+\n",
      "| en pred | ah no |\n",
      "+---------+-------+\n",
      "Utterance: 20051017_180712_270_fsp-A-80\n",
      "+---------+-----------+\n",
      "| es ref  | pero tam- |\n",
      "+---------+-----------+\n",
      "| en ref  | but       |\n",
      "+---------+-----------+\n",
      "| en pred | but also  |\n",
      "+---------+-----------+\n",
      "Utterance: 20051009_182032_217_fsp-A-149\n",
      "+---------+-----------+\n",
      "| es ref  | claro     |\n",
      "+---------+-----------+\n",
      "| en ref  | of course |\n",
      "+---------+-----------+\n",
      "| en pred | sure      |\n",
      "+---------+-----------+\n",
      "Utterance: 20051010_212418_225_fsp-B-67\n",
      "+---------+----------+\n",
      "| es ref  | sí claro |\n",
      "+---------+----------+\n",
      "| en ref  | yes sure |\n",
      "+---------+----------+\n",
      "| en pred | yes sure |\n",
      "+---------+----------+\n",
      "Utterance: 20051010_212418_225_fsp-B-47\n",
      "+---------+-----+\n",
      "| es ref  | sí  |\n",
      "+---------+-----+\n",
      "| en ref  | yes |\n",
      "+---------+-----+\n",
      "| en pred | yes |\n",
      "+---------+-----+\n",
      "Utterance: 20051016_180547_265_fsp-B-81\n",
      "+---------+------------------------------+\n",
      "| es ref  | sí no sé no sé               |\n",
      "+---------+------------------------------+\n",
      "| en ref  | yes i don t know don t know  |\n",
      "+---------+------------------------------+\n",
      "| en pred | yes i don t know i don t kno |\n",
      "+---------+------------------------------+\n"
     ]
    }
   ],
   "source": [
    "display_words(m_dict, v_dict, fsh_pred_sents[:displayN], fsh_utts[:displayN], \n",
    "              dec_key, key, min_len=min_len, max_len=max_len, play_audio=False)"
   ]
  },
  {
   "cell_type": "code",
   "execution_count": 100,
   "metadata": {
    "collapsed": true
   },
   "outputs": [],
   "source": [
    "os.chdir(\"..\")\n",
    "os.chdir(\"/afs/inf.ed.ac.uk/group/project/lowres/work/chainer2/speech2text\")"
   ]
  },
  {
   "cell_type": "code",
   "execution_count": 101,
   "metadata": {},
   "outputs": [
    {
     "name": "stderr",
     "output_type": "stream",
     "text": [
      "100%|████████████████████████████████████| 3977/3977 [00:00<00:00, 43933.58it/s]"
     ]
    },
    {
     "name": "stdout",
     "output_type": "stream",
     "text": [
      "min length=0, max length=200\n",
      "total utts matching length filters=3977\n",
      "BLEU score on: fisher_dev = 29.07\n",
      "------------------------------------------------------------\n"
     ]
    },
    {
     "name": "stderr",
     "output_type": "stream",
     "text": [
      "\n"
     ]
    }
   ],
   "source": [
    "b, _, h, r = calc_bleu(m_dict, \n",
    "                              v_dict, \n",
    "                              fsh_pred_sents, \n",
    "                              fsh_utts, \n",
    "                              dec_key, \n",
    "                              min_len=min_len, \n",
    "                              max_len=max_len, \n",
    "                              ref_index=ref_index)\n",
    "\n",
    "print(\"BLEU score on: {0:s} = {1:.2f}\".format(key, b * 100))\n",
    "print(\"-\"*60)\n",
    "\n",
    "# chrf = [0]*4\n",
    "\n",
    "# for ref_i in range(4):\n",
    "#     _, chrf[ref_i], _, _ = calc_bleu(m_dict, \n",
    "#                               v_dict, \n",
    "#                               fsh_pred_sents[:n], \n",
    "#                               fsh_utts[:n], \n",
    "#                               dec_key, \n",
    "#                               min_len=min_len, \n",
    "#                               max_len=max_len, \n",
    "#                               ref_index=ref_i)\n",
    "#     # end for\n",
    "\n",
    "# # print chrf score\n",
    "# for i in range(4):\n",
    "#     print(\"CHRF score on: {0:s} = {1:.2f}, using reference = {2:d}\".format(key, chrf[i] * 100, i))\n",
    "\n",
    "# print(\"-\"*60)\n",
    "\n",
    "all_weights=[(1.,0.,0.,0.),\n",
    "             (0.,1.,0.,0.),\n",
    "             (0.,0.,1.,0.),\n",
    "             (0.,0.,0.,1.),\n",
    "             (1./2,1./2,0.,0.),\n",
    "             (1./3,1./3,1./3,0.),\n",
    "             (.25,.25,.25,.25)]"
   ]
  },
  {
   "cell_type": "code",
   "execution_count": 102,
   "metadata": {},
   "outputs": [
    {
     "data": {
      "text/plain": [
       "[(['but', 'is', 'a', 'very', 'expensive', 'christmas'],\n",
       "  [['but', 'it', 's', 'not', 'a', 'life', 'of', 'luxury'],\n",
       "   ['but', 'it', 's', 'not', 'a', 'luxurious', 'life'],\n",
       "   ['but', 'it', 'is', 'not', 'a', 'luxurious', 'life'],\n",
       "   ['but', 'it', 's', 'not', 'a', 'luxurious', 'lifestyle']]),\n",
       " (['because', 'he', 'does', 'the', 'serve', 'and'],\n",
       "  [['because', 'he', 'he', 'does', '-dj-'],\n",
       "   ['because', 'it', 'dj'],\n",
       "   ['because', 'he', 'he', 'does', 'dj'],\n",
       "   ['because', 'he', 'he', 'does', 'dj']]),\n",
       " (['aha'], [['aha'], ['right'], ['aha'], ['aha']]),\n",
       " (['oh', 'my', 'god'],\n",
       "  [['oh', 'my', 'god'],\n",
       "   ['oh', 'my', 'god'],\n",
       "   ['oh', 'my', 'god'],\n",
       "   ['oh', 'my', 'god']]),\n",
       " (['oh'], [['oh'], ['oh'], ['oh'], ['oh']])]"
      ]
     },
     "execution_count": 102,
     "metadata": {},
     "output_type": "execute_result"
    }
   ],
   "source": [
    "list(zip(h,r[:5]))"
   ]
  },
  {
   "cell_type": "code",
   "execution_count": 103,
   "metadata": {
    "collapsed": true
   },
   "outputs": [],
   "source": [
    "smooth_fun = nltk.translate.bleu_score.SmoothingFunction()"
   ]
  },
  {
   "cell_type": "code",
   "execution_count": 104,
   "metadata": {},
   "outputs": [
    {
     "name": "stdout",
     "output_type": "stream",
     "text": [
      "  bleu score (0-100) | uni-bi-tri-quad     \n",
      "               64.43 | 1.00-0.00-0.00-0.00 \n",
      "               37.34 | 0.00-1.00-0.00-0.00 \n",
      "               22.20 | 0.00-0.00-1.00-0.00 \n",
      "               13.37 | 0.00-0.00-0.00-1.00 \n",
      "               49.05 | 0.50-0.50-0.00-0.00 \n",
      "               37.66 | 0.33-0.33-0.33-0.00 \n",
      "               29.07 | 0.25-0.25-0.25-0.25 \n"
     ]
    }
   ],
   "source": [
    "print(\"{0:>20s} | {1:20s}\".format(\"bleu score (0-100)\", \"uni-bi-tri-quad\"))\n",
    "for weights in all_weights:\n",
    "    b = corpus_bleu(r, h, weights=weights, smoothing_function=smooth_fun.method2)\n",
    "    print(\"{0:20.2f} | {1:20s}\".format(b * 100, \"-\".join(map(\"{0:.2f}\".format, weights))))"
   ]
  },
  {
   "cell_type": "code",
   "execution_count": 105,
   "metadata": {},
   "outputs": [
    {
     "name": "stdout",
     "output_type": "stream",
     "text": [
      "min length=0, max length=240\n",
      "total utts=3977\n",
      "metric     |   1-gram |   2-gram|   3-gram |   4-gram\n",
      "------------------------------------------------------\n",
      "precision  |    64.49 |    37.37|    22.22 |    13.38\n",
      "recall     |    62.60 |    36.22|    21.51 |    12.93\n"
     ]
    }
   ],
   "source": [
    "_, _ = corpus_precision_recall(r, h)"
   ]
  },
  {
   "cell_type": "code",
   "execution_count": 106,
   "metadata": {
    "collapsed": true
   },
   "outputs": [],
   "source": [
    "pred_path = \"/afs/inf.ed.ac.uk/group/project/lowres/work/installs/fisher-callhome-corpus/corpus/ldc\"\n",
    "pred_fname = os.path.join(pred_path, \"fisher_dev.pred\")"
   ]
  },
  {
   "cell_type": "code",
   "execution_count": 107,
   "metadata": {},
   "outputs": [
    {
     "data": {
      "text/plain": [
       "([b'aha'], [b'right'], [b'aha'], [b'aha'])"
      ]
     },
     "execution_count": 107,
     "metadata": {},
     "output_type": "execute_result"
    }
   ],
   "source": [
    "m_dict[fsh_utts[2]]['en_w']"
   ]
  },
  {
   "cell_type": "code",
   "execution_count": 108,
   "metadata": {},
   "outputs": [
    {
     "name": "stderr",
     "output_type": "stream",
     "text": [
      "  5%|█▋                                    | 182/3977 [00:00<00:02, 1802.93it/s]"
     ]
    },
    {
     "name": "stdout",
     "output_type": "stream",
     "text": [
      "min length=0, max length=200\n"
     ]
    },
    {
     "name": "stderr",
     "output_type": "stream",
     "text": [
      "100%|█████████████████████████████████████| 3977/3977 [00:02<00:00, 1761.88it/s]"
     ]
    },
    {
     "name": "stdout",
     "output_type": "stream",
     "text": [
      "total utts matching length filters=3977\n",
      "done\n"
     ]
    },
    {
     "name": "stderr",
     "output_type": "stream",
     "text": [
      "\n"
     ]
    }
   ],
   "source": [
    "en_ref, en_hyp = write_predictions_to_file(m_dict, v_dict, fsh_pred_sents, fsh_utts, \n",
    "                                           dec_key, key, min_len=min_len, max_len=max_len, stemmify=True)"
   ]
  },
  {
   "cell_type": "code",
   "execution_count": 109,
   "metadata": {},
   "outputs": [
    {
     "data": {
      "text/plain": [
       "(3977, 3977)"
      ]
     },
     "execution_count": 109,
     "metadata": {},
     "output_type": "execute_result"
    }
   ],
   "source": [
    "len(en_ref),len(en_hyp)"
   ]
  },
  {
   "cell_type": "markdown",
   "metadata": {},
   "source": [
    "### Callhome dev"
   ]
  },
  {
   "cell_type": "code",
   "execution_count": 28,
   "metadata": {
    "collapsed": true
   },
   "outputs": [],
   "source": [
    "key='callhome_devtest'\n",
    "train=False\n",
    "m_dict = map_dict[key]\n",
    "v_dict = vocab_dict[dec_key]\n",
    "n=len(map_dict[key])\n",
    "BATCH_SIZE = 100"
   ]
  },
  {
   "cell_type": "code",
   "execution_count": 29,
   "metadata": {
    "collapsed": true
   },
   "outputs": [],
   "source": [
    "cat_speech_path = os.path.join(out_path, key)"
   ]
  },
  {
   "cell_type": "code",
   "execution_count": 30,
   "metadata": {},
   "outputs": [
    {
     "name": "stderr",
     "output_type": "stream",
     "text": [
      "\r",
      "  0%|                                                  | 0/3801 [00:00<?, ?it/s]"
     ]
    },
    {
     "name": "stdout",
     "output_type": "stream",
     "text": [
      "--------------------------------------------------------------------------------\n",
      "EPOCH = 152\n"
     ]
    },
    {
     "name": "stderr",
     "output_type": "stream",
     "text": [
      "b=2,l=2.93,avg=2.67: 100%|██████████████████| 3801/3801 [03:00<00:00, 25.22it/s]"
     ]
    },
    {
     "name": "stdout",
     "output_type": "stream",
     "text": [
      "********** dev mean loss=2.6709\n",
      "-\n",
      "--------------------------------------------------------------------------------\n"
     ]
    },
    {
     "name": "stderr",
     "output_type": "stream",
     "text": [
      "\n"
     ]
    }
   ],
   "source": [
    "print(\"-\"*80)\n",
    "print(\"EPOCH = {0:d}\".format(last_epoch+1))\n",
    "call_pred_sents, call_utts, loss = feed_model(map_dict[key],\n",
    "                  b_dict=bucket_dict[key],\n",
    "                  vocab_dict=vocab_dict,\n",
    "                  batch_size=BATCH_SIZE,\n",
    "                  x_key=enc_key,\n",
    "                  y_key=dec_key,\n",
    "                  train=train,\n",
    "                  cat_speech_path=cat_speech_path, use_y=True)\n",
    "\n",
    "print(\"{0:s} {1:s} mean loss={2:.4f}\".format(\"*\" * 10,\n",
    "                                    \"train\" if train else \"dev\",\n",
    "                                    loss))\n",
    "print(\"-\")\n",
    "print(\"-\"*80)"
   ]
  },
  {
   "cell_type": "code",
   "execution_count": 31,
   "metadata": {},
   "outputs": [
    {
     "name": "stdout",
     "output_type": "stream",
     "text": [
      "Utterance: sp_0968-A-80\n",
      "+---------+--------+\n",
      "| es ref  | mmm    |\n",
      "+---------+--------+\n",
      "| en ref  | uh huh |\n",
      "+---------+--------+\n",
      "| en pred | hmm    |\n",
      "+---------+--------+\n",
      "Utterance: sp_0981-A-25\n",
      "+---------+-----------+\n",
      "| es ref  | toño toño |\n",
      "+---------+-----------+\n",
      "| en ref  | tono tono |\n",
      "+---------+-----------+\n",
      "| en pred | yes       |\n",
      "+---------+-----------+\n",
      "Utterance: sp_1554-B-75\n",
      "+---------+-----------------+\n",
      "| es ref  | ojo adri ]      |\n",
      "+---------+-----------------+\n",
      "| en ref  | be careful adri |\n",
      "+---------+-----------------+\n",
      "| en pred | oh poor man     |\n",
      "+---------+-----------------+\n",
      "Utterance: sp_1292-B-48\n",
      "+---------+---------------------------------------------+\n",
      "| es ref  | yo le pedí a víctor que hiciera eso no hizo |\n",
      "+---------+---------------------------------------------+\n",
      "| en ref  | i asked victor to do this he didn t         |\n",
      "+---------+---------------------------------------------+\n",
      "| en pred | i wanted to avoid it that i did not do that |\n",
      "+---------+---------------------------------------------+\n",
      "Utterance: sp_2144-A-71\n",
      "+---------+-------------+\n",
      "| es ref  | cómo estás  |\n",
      "+---------+-------------+\n",
      "| en ref  | how are you |\n",
      "+---------+-------------+\n",
      "| en pred | yes         |\n",
      "+---------+-------------+\n",
      "Utterance: sp_1062-B-57\n",
      "+---------+--------+\n",
      "| es ref  | tus ]  |\n",
      "+---------+--------+\n",
      "| en ref  | your ] |\n",
      "+---------+--------+\n",
      "| en pred | yes    |\n",
      "+---------+--------+\n",
      "Utterance: sp_1062-B-46\n",
      "+---------+----------------------------------------+\n",
      "| es ref  | por los seis meses te vas con todos    |\n",
      "+---------+----------------------------------------+\n",
      "| en ref  | for six months you ll go with everyone |\n",
      "+---------+----------------------------------------+\n",
      "| en pred | yes                                    |\n",
      "+---------+----------------------------------------+\n",
      "Utterance: sp_1292-A-17\n",
      "+---------+--------------+\n",
      "| es ref  | ah bueno en- |\n",
      "+---------+--------------+\n",
      "| en ref  | oh weel th-  |\n",
      "+---------+--------------+\n",
      "| en pred | ah good      |\n",
      "+---------+--------------+\n",
      "Utterance: sp_2107-B-25\n",
      "+---------+------+\n",
      "| es ref  | sí   |\n",
      "+---------+------+\n",
      "| en ref  | yeah |\n",
      "+---------+------+\n",
      "| en pred | yes  |\n",
      "+---------+------+\n",
      "Utterance: sp_2037-B-49\n",
      "+---------+-----+\n",
      "| es ref  | sí  |\n",
      "+---------+-----+\n",
      "| en ref  | yes |\n",
      "+---------+-----+\n",
      "| en pred | yes |\n",
      "+---------+-----+\n",
      "Utterance: sp_1552-A-53\n",
      "+---------+-----+\n",
      "| es ref  | sí  |\n",
      "+---------+-----+\n",
      "| en ref  | yes |\n",
      "+---------+-----+\n",
      "| en pred | yes |\n",
      "+---------+-----+\n",
      "Utterance: sp_1552-A-76\n",
      "+---------+----------------------------+\n",
      "| es ref  | ahí cuestan a seis dólares |\n",
      "+---------+----------------------------+\n",
      "| en ref  | they re six dollars there  |\n",
      "+---------+----------------------------+\n",
      "| en pred | yes                        |\n",
      "+---------+----------------------------+\n",
      "Utterance: sp_1805-B-8\n",
      "+---------+-------+\n",
      "| es ref  | ya    |\n",
      "+---------+-------+\n",
      "| en ref  | right |\n",
      "+---------+-------+\n",
      "| en pred | yeah  |\n",
      "+---------+-------+\n",
      "Utterance: sp_1411-B-69\n",
      "+---------+--------------------------+\n",
      "| es ref  | cuando venga gilberto    |\n",
      "+---------+--------------------------+\n",
      "| en ref  | when gilberto comes      |\n",
      "+---------+--------------------------+\n",
      "| en pred | when you come to the dog |\n",
      "+---------+--------------------------+\n",
      "Utterance: sp_1947-B-97\n",
      "+---------+---------------------------------------------------+\n",
      "| es ref  | estas son las perfectas que conseguí el papelito  |\n",
      "|         | --                                                |\n",
      "+---------+---------------------------------------------------+\n",
      "| en ref  | these are the perfects that are here on the paper |\n",
      "|         | --                                                |\n",
      "+---------+---------------------------------------------------+\n",
      "| en pred | married texas texas to get left                   |\n",
      "+---------+---------------------------------------------------+\n",
      "Utterance: sp_2109-A-3\n",
      "+---------+-------+\n",
      "| es ref  | ajá   |\n",
      "+---------+-------+\n",
      "| en ref  | right |\n",
      "+---------+-------+\n",
      "| en pred | yes   |\n",
      "+---------+-------+\n",
      "Utterance: sp_1805-A-54\n",
      "+---------+---------------+\n",
      "| es ref  | así que claro |\n",
      "+---------+---------------+\n",
      "| en ref  | so that sure  |\n",
      "+---------+---------------+\n",
      "| en pred | so sure       |\n",
      "+---------+---------------+\n",
      "Utterance: sp_1411-A-40\n",
      "+---------+------------------------+\n",
      "| es ref  | con la oficina del     |\n",
      "+---------+------------------------+\n",
      "| en ref  | with the office of the |\n",
      "+---------+------------------------+\n",
      "| en pred | with the the first day |\n",
      "+---------+------------------------+\n",
      "Utterance: sp_1947-A-131\n",
      "+---------+----------------+\n",
      "| es ref  | ah la vaina    |\n",
      "+---------+----------------+\n",
      "| en ref  | ah what a drag |\n",
      "+---------+----------------+\n",
      "| en pred | hello          |\n",
      "+---------+----------------+\n",
      "Utterance: sp_1808-A-56\n",
      "+---------+---------------------+\n",
      "| es ref  | ya lo creo          |\n",
      "+---------+---------------------+\n",
      "| en ref  | i believe so        |\n",
      "+---------+---------------------+\n",
      "| en pred | and they believe it |\n",
      "+---------+---------------------+\n",
      "Utterance: sp_0897-A-76\n",
      "+---------+--------------------+\n",
      "| es ref  | en septiembre mamá |\n",
      "+---------+--------------------+\n",
      "| en ref  | in september mom   |\n",
      "+---------+--------------------+\n",
      "| en pred | september          |\n",
      "+---------+--------------------+\n",
      "Utterance: sp_2107-B-55\n",
      "+---------+-------------+\n",
      "| es ref  | ol chonchón |\n",
      "+---------+-------------+\n",
      "| en ref  | oh jerk     |\n",
      "+---------+-------------+\n",
      "| en pred | john        |\n",
      "+---------+-------------+\n",
      "Utterance: sp_2054-A-80\n",
      "+---------+---------------------------------------------+\n",
      "| es ref  | verás minutos vos tenés veinte para hablar  |\n",
      "+---------+---------------------------------------------+\n",
      "| en ref  | you ll see minutes you have twenty to speak |\n",
      "+---------+---------------------------------------------+\n",
      "| en pred | yes                                         |\n",
      "+---------+---------------------------------------------+\n",
      "Utterance: sp_2107-A-57\n",
      "+---------+------------------+\n",
      "| es ref  | ah no sabía      |\n",
      "+---------+------------------+\n",
      "| en ref  | oh i didn t know |\n",
      "+---------+------------------+\n",
      "| en pred | ah i didn t know |\n",
      "+---------+------------------+\n",
      "Utterance: sp_1554-A-22\n",
      "+---------+------------------------------+\n",
      "| es ref  | ¿no terminaron peleados      |\n",
      "+---------+------------------------------+\n",
      "| en ref  | didn t they end up quarreled |\n",
      "+---------+------------------------------+\n",
      "| en pred | no they end up fighting      |\n",
      "+---------+------------------------------+\n",
      "Utterance: sp_0897-B-47\n",
      "+---------+-----+\n",
      "| es ref  | ajá |\n",
      "+---------+-----+\n",
      "| en ref  | aha |\n",
      "+---------+-----+\n",
      "| en pred | aha |\n",
      "+---------+-----+\n",
      "Utterance: sp_1413-A-59\n",
      "+---------+-----+\n",
      "| es ref  | ajá |\n",
      "+---------+-----+\n",
      "| en ref  | aha |\n",
      "+---------+-----+\n",
      "| en pred | aha |\n",
      "+---------+-----+\n",
      "Utterance: sp_1411-A-82\n",
      "+---------+-----------------------------+\n",
      "| es ref  | no sé a otro sitio          |\n",
      "+---------+-----------------------------+\n",
      "| en ref  | i don´t know to other place |\n",
      "+---------+-----------------------------+\n",
      "| en pred | i don t know another place  |\n",
      "+---------+-----------------------------+\n",
      "Utterance: sp_1552-A-82\n",
      "+---------+----------------------------------+\n",
      "| es ref  | ah qué bueno jefa de todos modos |\n",
      "+---------+----------------------------------+\n",
      "| en ref  | oh great anyway                  |\n",
      "+---------+----------------------------------+\n",
      "| en pred | here                             |\n",
      "+---------+----------------------------------+\n",
      "Utterance: sp_0981-A-7\n",
      "+---------+---------------------------+\n",
      "| es ref  | ya oye toño ¿sabes        |\n",
      "+---------+---------------------------+\n",
      "| en ref  | okay listen tono you know |\n",
      "+---------+---------------------------+\n",
      "| en pred | yes                       |\n",
      "+---------+---------------------------+\n",
      "Utterance: sp_1552-A-16\n",
      "+---------+-----+\n",
      "| es ref  | ajá |\n",
      "+---------+-----+\n",
      "| en ref  | aha |\n",
      "+---------+-----+\n",
      "| en pred | yes |\n",
      "+---------+-----+\n",
      "Utterance: sp_2037-B-3\n",
      "+---------+-------------------------+\n",
      "| es ref  | ah están aprovechando   |\n",
      "+---------+-------------------------+\n",
      "| en ref  | ah are taking advantage |\n",
      "+---------+-------------------------+\n",
      "| en pred | ah good but not chat    |\n",
      "+---------+-------------------------+\n",
      "Utterance: sp_1930-A-46\n",
      "+---------+------------------------+\n",
      "| es ref  | tú dices               |\n",
      "+---------+------------------------+\n",
      "| en ref  | what are you saying    |\n",
      "+---------+------------------------+\n",
      "| en pred | what a coincidence and |\n",
      "+---------+------------------------+\n",
      "Utterance: sp_2054-B-67\n",
      "+---------+----------------------------+\n",
      "| es ref  | y a ella cómo la ves       |\n",
      "+---------+----------------------------+\n",
      "| en ref  | and her how do you see her |\n",
      "+---------+----------------------------+\n",
      "| en pred | mm                         |\n",
      "+---------+----------------------------+\n",
      "Utterance: sp_1947-A-40\n",
      "+---------+-----+\n",
      "| es ref  | mmm |\n",
      "+---------+-----+\n",
      "| en ref  | hmm |\n",
      "+---------+-----+\n",
      "| en pred | mm  |\n",
      "+---------+-----+\n",
      "Utterance: sp_1805-B-33\n",
      "+---------+-----------------+\n",
      "| es ref  | ¿la licencia    |\n",
      "+---------+-----------------+\n",
      "| en ref  | ¿the licence    |\n",
      "+---------+-----------------+\n",
      "| en pred | in philadelphia |\n",
      "+---------+-----------------+\n",
      "Utterance: sp_1808-A-67\n",
      "+---------+--------------------------------------+\n",
      "| es ref  | y qué has pensado sobre esto         |\n",
      "+---------+--------------------------------------+\n",
      "| en ref  | and what have you thought about this |\n",
      "+---------+--------------------------------------+\n",
      "| en pred | yes what do you think about those    |\n",
      "+---------+--------------------------------------+\n",
      "Utterance: sp_2057-A-38\n",
      "+---------+-------+\n",
      "| es ref  | d h l |\n",
      "+---------+-------+\n",
      "| en ref  | d h l |\n",
      "+---------+-------+\n",
      "| en pred | mm    |\n",
      "+---------+-------+\n",
      "Utterance: sp_1947-A-1\n",
      "+---------+----------------+\n",
      "| es ref  | a la muellá    |\n",
      "+---------+----------------+\n",
      "| en ref  | it s expensive |\n",
      "+---------+----------------+\n",
      "| en pred | ah the woman   |\n",
      "+---------+----------------+\n",
      "Utterance: sp_1947-A-51\n",
      "+---------+---------------+\n",
      "| es ref  | ah qué hierba |\n",
      "+---------+---------------+\n",
      "| en ref  | ah what grass |\n",
      "+---------+---------------+\n",
      "| en pred | ah how bad    |\n",
      "+---------+---------------+\n",
      "Utterance: sp_1805-B-17\n",
      "+---------+-----+\n",
      "| es ref  | mmm |\n",
      "+---------+-----+\n",
      "| en ref  | hmm |\n",
      "+---------+-----+\n",
      "| en pred | mm  |\n",
      "+---------+-----+\n",
      "Utterance: sp_1947-B-98\n",
      "+---------+-------------------------+\n",
      "| es ref  | estas son las perfectas |\n",
      "+---------+-------------------------+\n",
      "| en ref  | these are the perfects  |\n",
      "+---------+-------------------------+\n",
      "| en pred | you are the perfect     |\n",
      "+---------+-------------------------+\n",
      "Utterance: sp_1808-A-15\n",
      "+---------+-----+\n",
      "| es ref  | ah  |\n",
      "+---------+-----+\n",
      "| en ref  | ah  |\n",
      "+---------+-----+\n",
      "| en pred | aha |\n",
      "+---------+-----+\n",
      "Utterance: sp_2109-B-6\n",
      "+---------+-------------------------------+\n",
      "| es ref  | eh dejé de ser vendedor       |\n",
      "+---------+-------------------------------+\n",
      "| en ref  | uh i stopped being a salesman |\n",
      "+---------+-------------------------------+\n",
      "| en pred | yes                           |\n",
      "+---------+-------------------------------+\n",
      "Utterance: sp_2109-A-56\n",
      "+---------+-------------------------------------+\n",
      "| es ref  | mmm porque lo que había pensado --  |\n",
      "+---------+-------------------------------------+\n",
      "| en ref  | uh huh because i thought about that |\n",
      "+---------+-------------------------------------+\n",
      "| en pred | yes                                 |\n",
      "+---------+-------------------------------------+\n",
      "Utterance: sp_1947-A-14\n",
      "+---------+-------------+\n",
      "| es ref  | está bien   |\n",
      "+---------+-------------+\n",
      "| en ref  | that s good |\n",
      "+---------+-------------+\n",
      "| en pred | it s ok     |\n",
      "+---------+-------------+\n",
      "Utterance: sp_0968-B-42\n",
      "+---------+----------------------------------------+\n",
      "| es ref  | así más o menos qué te parece          |\n",
      "+---------+----------------------------------------+\n",
      "| en ref  | yes around that time what do you think |\n",
      "+---------+----------------------------------------+\n",
      "| en pred | ah yes more or less what do you think  |\n",
      "+---------+----------------------------------------+\n",
      "Utterance: sp_2144-B-26\n",
      "+---------+------------------------------------------------+\n",
      "| es ref  | sí es como si estuvieras escuchando la llamada |\n",
      "+---------+------------------------------------------------+\n",
      "| en ref  | yes like if you were listening to the call     |\n",
      "+---------+------------------------------------------------+\n",
      "| en pred | mm                                             |\n",
      "+---------+------------------------------------------------+\n",
      "Utterance: sp_1292-A-10\n",
      "+---------+-----+\n",
      "| es ref  | sí  |\n",
      "+---------+-----+\n",
      "| en ref  | yes |\n",
      "+---------+-----+\n",
      "| en pred | yes |\n",
      "+---------+-----+\n",
      "Utterance: sp_2144-A-2\n",
      "+---------+--------------------+\n",
      "| es ref  | ay de veras que -- |\n",
      "+---------+--------------------+\n",
      "| en ref  | ah really --       |\n",
      "+---------+--------------------+\n",
      "| en pred | mm                 |\n",
      "+---------+--------------------+\n"
     ]
    }
   ],
   "source": [
    "display_words(m_dict, v_dict, call_pred_sents[:displayN], call_utts[:displayN],\n",
    "              dec_key, key, min_len=min_len, max_len=max_len, play_audio=False)"
   ]
  },
  {
   "cell_type": "code",
   "execution_count": 32,
   "metadata": {},
   "outputs": [
    {
     "name": "stderr",
     "output_type": "stream",
     "text": [
      "100%|███████████████████████████████████| 3801/3801 [00:00<00:00, 122924.34it/s]"
     ]
    },
    {
     "name": "stdout",
     "output_type": "stream",
     "text": [
      "min length=0, max length=200\n",
      "total utts matching length filters=3801\n",
      "BLEU score on: callhome_devtest = 5.77\n",
      "------------------------------------------------------------\n"
     ]
    },
    {
     "name": "stderr",
     "output_type": "stream",
     "text": [
      "\n"
     ]
    }
   ],
   "source": [
    "b, _, h, r = calc_bleu(m_dict, \n",
    "                              v_dict, \n",
    "                              call_pred_sents, \n",
    "                              call_utts, \n",
    "                              dec_key, \n",
    "                              min_len=min_len, \n",
    "                              max_len=max_len, \n",
    "                              ref_index=ref_index)\n",
    "\n",
    "print(\"BLEU score on: {0:s} = {1:.2f}\".format(key, b * 100))\n",
    "print(\"-\"*60)\n",
    "\n",
    "all_weights=[(1.,0.,0.,0.),\n",
    "             (0.,1.,0.,0.),\n",
    "             (0.,0.,1.,0.),\n",
    "             (0.,0.,0.,1.),\n",
    "             (1./2,1./2,0.,0.),\n",
    "             (1./3,1./3,1./3,0.),\n",
    "             (.25,.25,.25,.25)]"
   ]
  },
  {
   "cell_type": "code",
   "execution_count": 33,
   "metadata": {
    "collapsed": true
   },
   "outputs": [],
   "source": [
    "smooth_fun = nltk.translate.bleu_score.SmoothingFunction()"
   ]
  },
  {
   "cell_type": "code",
   "execution_count": 34,
   "metadata": {},
   "outputs": [
    {
     "name": "stdout",
     "output_type": "stream",
     "text": [
      "  bleu score (0-100) | uni-bi-tri-quad     \n",
      "               22.06 | 1.00-0.00-0.00-0.00 \n",
      "                8.19 | 0.00-1.00-0.00-0.00 \n",
      "                3.62 | 0.00-0.00-1.00-0.00 \n",
      "                1.70 | 0.00-0.00-0.00-1.00 \n",
      "               13.44 | 0.50-0.50-0.00-0.00 \n",
      "                8.68 | 0.33-0.33-0.33-0.00 \n",
      "                5.77 | 0.25-0.25-0.25-0.25 \n"
     ]
    }
   ],
   "source": [
    "print(\"{0:>20s} | {1:20s}\".format(\"bleu score (0-100)\", \"uni-bi-tri-quad\"))\n",
    "for weights in all_weights:\n",
    "    b = corpus_bleu(r, h, weights=weights, smoothing_function=smooth_fun.method2)\n",
    "    print(\"{0:20.2f} | {1:20s}\".format(b * 100, \"-\".join(map(\"{0:.2f}\".format, weights))))"
   ]
  },
  {
   "cell_type": "code",
   "execution_count": 35,
   "metadata": {},
   "outputs": [
    {
     "name": "stdout",
     "output_type": "stream",
     "text": [
      "min length=0, max length=240\n",
      "total utts=3801\n",
      "metric     |   1-gram |   2-gram|   3-gram |   4-gram\n",
      "------------------------------------------------------\n",
      "precision  |    36.04 |    13.38|     5.91 |     2.77\n",
      "recall     |    24.17 |     9.01|     4.01 |     1.89\n"
     ]
    }
   ],
   "source": [
    "_, _ = corpus_precision_recall(r, h)"
   ]
  },
  {
   "cell_type": "code",
   "execution_count": 36,
   "metadata": {},
   "outputs": [
    {
     "name": "stderr",
     "output_type": "stream",
     "text": [
      "100%|███████████████████████████████████| 3801/3801 [00:00<00:00, 169829.23it/s]"
     ]
    },
    {
     "name": "stdout",
     "output_type": "stream",
     "text": [
      "min length=0, max length=200\n",
      "total utts matching length filters=3801\n",
      "done\n"
     ]
    },
    {
     "name": "stderr",
     "output_type": "stream",
     "text": [
      "\n"
     ]
    }
   ],
   "source": [
    "call_en_ref, call_en_hyp = write_predictions_to_file(m_dict, v_dict, call_pred_sents, call_utts, \n",
    "                                                     dec_key, key, min_len=min_len, max_len=max_len)"
   ]
  },
  {
   "cell_type": "code",
   "execution_count": 37,
   "metadata": {},
   "outputs": [
    {
     "data": {
      "text/plain": [
       "(3801, 3801)"
      ]
     },
     "execution_count": 37,
     "metadata": {},
     "output_type": "execute_result"
    }
   ],
   "source": [
    "len(call_en_ref),len(call_en_hyp)"
   ]
  },
  {
   "cell_type": "markdown",
   "metadata": {},
   "source": [
    "### Test code"
   ]
  },
  {
   "cell_type": "code",
   "execution_count": null,
   "metadata": {
    "collapsed": true
   },
   "outputs": [],
   "source": [
    "# test_ref = [[\"ha ha lol hue\".split()], [\"ha ha ja ha\".split()], [\"ha ha ja ha\".split()]]\n",
    "# test_h = [\"lol ja\".split(), \"ha he\".split(), \"ha ja\".split()]\n",
    "# _, _ = corpus_precision_recall(test_ref, test_h)"
   ]
  },
  {
   "cell_type": "code",
   "execution_count": null,
   "metadata": {
    "collapsed": true
   },
   "outputs": [],
   "source": []
  }
 ],
 "metadata": {
  "kernelspec": {
   "display_name": "Python 3",
   "language": "python",
   "name": "python3"
  },
  "language_info": {
   "codemirror_mode": {
    "name": "ipython",
    "version": 3
   },
   "file_extension": ".py",
   "mimetype": "text/x-python",
   "name": "python",
   "nbconvert_exporter": "python",
   "pygments_lexer": "ipython3",
   "version": "3.6.1"
  }
 },
 "nbformat": 4,
 "nbformat_minor": 2
}
