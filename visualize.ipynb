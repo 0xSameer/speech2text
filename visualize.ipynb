{
 "cells": [
  {
   "cell_type": "code",
   "execution_count": 1,
   "metadata": {
    "collapsed": true
   },
   "outputs": [],
   "source": [
    "import nltk\n",
    "from nltk.translate.bleu_score import sentence_bleu, corpus_bleu, modified_precision\n",
    "from nltk.metrics import scores\n",
    "import scipy.io.wavfile\n",
    "from IPython.display import Audio\n",
    "from IPython.display import display\n",
    "%matplotlib inline"
   ]
  },
  {
   "cell_type": "code",
   "execution_count": 2,
   "metadata": {},
   "outputs": [
    {
     "name": "stdout",
     "output_type": "stream",
     "text": [
      "fisher + callhome sp/es - en configuration\n",
      "--------------------------------------------------\n",
      "loading info_dict from=./callhome_fbank_out/info.dict\n"
     ]
    },
    {
     "name": "stderr",
     "output_type": "stream",
     "text": [
      "100%|██████████| 3977/3977 [00:00<00:00, 536496.43it/s]\n",
      "100%|██████████| 3959/3959 [00:00<00:00, 516284.23it/s]\n",
      "100%|██████████| 3641/3641 [00:00<00:00, 529707.28it/s]\n",
      " 35%|███▍      | 47868/138708 [00:00<00:00, 478675.89it/s]"
     ]
    },
    {
     "name": "stdout",
     "output_type": "stream",
     "text": [
      "--------------------------------------------------\n",
      "creating buckets for: fisher_dev\n",
      "creating buckets for key: sp\n",
      "creating buckets for: fisher_dev2\n",
      "creating buckets for key: sp\n",
      "creating buckets for: fisher_test\n",
      "creating buckets for key: sp\n",
      "creating buckets for: fisher_train\n",
      "creating buckets for key: sp\n"
     ]
    },
    {
     "name": "stderr",
     "output_type": "stream",
     "text": [
      "100%|██████████| 138708/138708 [00:00<00:00, 507959.70it/s]\n",
      "100%|██████████| 3801/3801 [00:00<00:00, 520862.18it/s]\n",
      "100%|██████████| 1824/1824 [00:00<00:00, 508130.35it/s]\n",
      "100%|██████████| 14284/14284 [00:00<00:00, 501745.63it/s]\n"
     ]
    },
    {
     "name": "stdout",
     "output_type": "stream",
     "text": [
      "creating buckets for: callhome_devtest\n",
      "creating buckets for key: sp\n",
      "creating buckets for: callhome_evltest\n",
      "creating buckets for key: sp\n",
      "creating buckets for: callhome_train\n",
      "creating buckets for key: sp\n",
      "--------------------------------------------------\n",
      "saving info dict in: ./callhome_fbank_out/buckets_sp.dict\n",
      "all done ...\n",
      "--------------------------------------------------\n",
      "showing buckets for category: fisher_dev\n",
      "number of buckets=8, width of each bucket=256\n",
      "index | width | num   \n",
      "    0 |     0 |   1804\n",
      "    1 |   256 |   1047\n",
      "    2 |   512 |    559\n",
      "    3 |   768 |    348\n",
      "    4 |  1024 |    158\n",
      "    5 |  1280 |     53\n",
      "    6 |  1536 |      6\n",
      "    7 |  1792 |      2\n",
      "--------------------------------------------------\n",
      "showing buckets for category: fisher_dev2\n",
      "number of buckets=8, width of each bucket=256\n",
      "index | width | num   \n",
      "    0 |     0 |   1656\n",
      "    1 |   256 |   1177\n",
      "    2 |   512 |    546\n",
      "    3 |   768 |    363\n",
      "    4 |  1024 |    150\n",
      "    5 |  1280 |     50\n",
      "    6 |  1536 |     16\n",
      "    7 |  1792 |      1\n",
      "--------------------------------------------------\n",
      "showing buckets for category: fisher_test\n",
      "number of buckets=8, width of each bucket=256\n",
      "index | width | num   \n",
      "    0 |     0 |   1598\n",
      "    1 |   256 |    944\n",
      "    2 |   512 |    433\n",
      "    3 |   768 |    392\n",
      "    4 |  1024 |    208\n",
      "    5 |  1280 |     56\n",
      "    6 |  1536 |      8\n",
      "    7 |  1792 |      2\n",
      "--------------------------------------------------\n",
      "showing buckets for category: fisher_train\n",
      "number of buckets=8, width of each bucket=256\n",
      "index | width | num   \n",
      "    0 |     0 |  60043\n",
      "    1 |   256 |  36694\n",
      "    2 |   512 |  18572\n",
      "    3 |   768 |  13167\n",
      "    4 |  1024 |   7127\n",
      "    5 |  1280 |   2366\n",
      "    6 |  1536 |    566\n",
      "    7 |  1792 |    173\n",
      "--------------------------------------------------\n",
      "showing buckets for category: callhome_devtest\n",
      "number of buckets=8, width of each bucket=256\n",
      "index | width | num   \n",
      "    0 |     0 |   1910\n",
      "    1 |   256 |   1115\n",
      "    2 |   512 |    471\n",
      "    3 |   768 |    174\n",
      "    4 |  1024 |     81\n",
      "    5 |  1280 |     40\n",
      "    6 |  1536 |      9\n",
      "    7 |  1792 |      1\n",
      "--------------------------------------------------\n",
      "showing buckets for category: callhome_evltest\n",
      "number of buckets=8, width of each bucket=256\n",
      "index | width | num   \n",
      "    0 |     0 |    899\n",
      "    1 |   256 |    520\n",
      "    2 |   512 |    219\n",
      "    3 |   768 |    105\n",
      "    4 |  1024 |     46\n",
      "    5 |  1280 |     21\n",
      "    6 |  1536 |     12\n",
      "    7 |  1792 |      2\n",
      "--------------------------------------------------\n",
      "showing buckets for category: callhome_train\n",
      "number of buckets=8, width of each bucket=256\n",
      "index | width | num   \n",
      "    0 |     0 |   7446\n",
      "    1 |   256 |   3894\n",
      "    2 |   512 |   1620\n",
      "    3 |   768 |    737\n",
      "    4 |  1024 |    349\n",
      "    5 |  1280 |    147\n",
      "    6 |  1536 |     64\n",
      "    7 |  1792 |     27\n",
      "cnn details:\n",
      "{'in_channels': None, 'out_channels': 32, 'ksize': (3, 3), 'stride': (2, 2), 'pad': (1, 1)}\n",
      "{'in_channels': None, 'out_channels': 32, 'ksize': (3, 3), 'stride': (2, 2), 'pad': (1, 1)}\n",
      "--------------------------------------------------\n",
      "loading dict: ./callhome_fbank_out/map.dict\n",
      "loading dict: ./callhome_fbank_out/train_vocab.dict\n",
      "--------------------------------------------------\n",
      "loading dict: ./callhome_fbank_out/buckets_sp.dict\n",
      "--------------------------------------------------\n",
      "utterances in fisher_dev = 3979\n",
      "utterances in fisher_dev2 = 3961\n",
      "utterances in fisher_test = 3641\n",
      "utterances in fisher_train = 138819\n",
      "utterances in callhome_devtest = 3966\n",
      "utterances in callhome_evltest = 1829\n",
      "utterances in callhome_train = 15080\n",
      "vocab size for sp = 0\n",
      "vocab size for en_w = 18555\n",
      "model file name: fsh_fbank/seq2seq_sen-138819_hwy0-dec3_emb-256-h-256__sp_en_w_gru_drpt-0.3_noise-0_l2-0.001000_32_32_2_2_2DCNN_BN_LN_enc-3.model\n",
      "log file name: fsh_fbank/train_sen-138819_hwy0-dec3_emb-256-h-256__sp_en_w_gru_drpt-0.3_noise-0_l2-0.001000_32_32_2_2_2DCNN_BN_LN_enc-3.log\n",
      "cnn_out_dim = rnn_in_units =  320\n"
     ]
    },
    {
     "name": "stderr",
     "output_type": "stream",
     "text": [
      "/afs/inf.ed.ac.uk/group/project/lowres/work/anaconda3/envs/chainer2/lib/python3.6/site-packages/chainer/utils/experimental.py:104: FutureWarning: chainer.links.normalization.layer_normalization.py is experimental. The interface can change in the future.\n",
      "  FutureWarning)\n"
     ]
    },
    {
     "name": "stdout",
     "output_type": "stream",
     "text": [
      "using ADAM optimizer\n"
     ]
    }
   ],
   "source": [
    "from nmt_run import *"
   ]
  },
  {
   "cell_type": "code",
   "execution_count": 3,
   "metadata": {
    "collapsed": true
   },
   "outputs": [],
   "source": [
    "model_files = [f for f in os.listdir(os.path.dirname(model_fil))\n",
    "                   if os.path.basename(model_fil).replace('.model','') in f]\n",
    "# print(model_files)"
   ]
  },
  {
   "cell_type": "code",
   "execution_count": 4,
   "metadata": {},
   "outputs": [],
   "source": [
    "max_model_fil = max(model_files, key=lambda s: int(s.split('_')[-1].split('.')[0]))"
   ]
  },
  {
   "cell_type": "code",
   "execution_count": 5,
   "metadata": {},
   "outputs": [
    {
     "data": {
      "text/plain": [
       "'seq2seq_sen-138819_hwy0-dec3_emb-256-h-256__sp_en_w_gru_drpt-0.3_noise-0_l2-0.001000_32_32_2_2_2DCNN_BN_LN_enc-3_30.model'"
      ]
     },
     "execution_count": 5,
     "metadata": {},
     "output_type": "execute_result"
    }
   ],
   "source": [
    "max_model_fil"
   ]
  },
  {
   "cell_type": "code",
   "execution_count": 6,
   "metadata": {},
   "outputs": [
    {
     "name": "stdout",
     "output_type": "stream",
     "text": [
      "--------------------------------------------------------------------------------\n",
      "model found = \n",
      "fsh_fbank/seq2seq_sen-138819_hwy0-dec3_emb-256-h-256__sp_en_w_gru_drpt-0.3_noise-0_l2-0.001000_32_32_2_2_2DCNN_BN_LN_enc-3_30.model\n",
      "loading ...\n",
      "finished loading ..\n"
     ]
    }
   ],
   "source": [
    "last_epoch = check_model()"
   ]
  },
  {
   "cell_type": "code",
   "execution_count": 7,
   "metadata": {},
   "outputs": [
    {
     "data": {
      "text/plain": [
       "'fsh_fbank/dev_sen-138819_hwy0-dec3_emb-256-h-256__sp_en_w_gru_drpt-0.3_noise-0_l2-0.001000_32_32_2_2_2DCNN_BN_LN_enc-3.log'"
      ]
     },
     "execution_count": 7,
     "metadata": {},
     "output_type": "execute_result"
    }
   ],
   "source": [
    "log_dev_fil_name"
   ]
  },
  {
   "cell_type": "code",
   "execution_count": 8,
   "metadata": {},
   "outputs": [],
   "source": [
    "log_train = np.loadtxt(log_train_fil_name, delimiter=',', skiprows=False).transpose()\n",
    "log_test = np.loadtxt(log_dev_fil_name, delimiter=',', skiprows=0).transpose()"
   ]
  },
  {
   "cell_type": "code",
   "execution_count": 9,
   "metadata": {},
   "outputs": [
    {
     "data": {
      "image/png": "[encoded data removed]",
      "text/plain": [
       "<matplotlib.figure.Figure at 0x7f60fca03470>"
      ]
     },
     "metadata": {},
     "output_type": "display_data"
    }
   ],
   "source": [
    "fig, ax1 = plt.subplots()\n",
    "fig.set_size_inches(8,5)\n",
    "ax1.plot(log_train[0], log_train[1], color='#ff7700')\n",
    "ax1.plot(log_test[0], log_test[1], 'r--')\n",
    "ax1.set_xlabel('epoch', size=24)\n",
    "ax1.set_ylabel('loss', color='r', size=24)\n",
    "for tl in ax1.get_yticklabels():\n",
    "    tl.set_color('r')\n",
    "    tl.set_fontsize(18)\n",
    "plt.legend(['train loss', 'dev loss'], bbox_to_anchor=(1.45, 0.96), framealpha=0, fontsize=20)    \n",
    "ax2 = ax1.twinx()\n",
    "ax2.plot(log_test[0], log_test[2]*100, 'b-')\n",
    "ax2.set_xlabel('iteration')\n",
    "ax2.set_ylabel('dev bleu', color='b', size=24)\n",
    "# ax1.set_xlim(0, 60)\n",
    "for tl in ax2.get_yticklabels():\n",
    "    tl.set_color('b')\n",
    "    tl.set_fontsize(18) \n",
    "plt.legend(['dev bleu'], bbox_to_anchor=(1.44, 1.04), framealpha=0, fontsize=20)\n",
    "# plt.legend(['dev bleu'], bbox_to_anchor=(1.06, 0.9), framealpha=0, fontsize=20)\n",
    "plt.grid(False)\n",
    "plt.tight_layout()"
   ]
  },
  {
   "cell_type": "code",
   "execution_count": 10,
   "metadata": {
    "collapsed": true
   },
   "outputs": [],
   "source": [
    "import nltk.translate.bleu_score"
   ]
  },
  {
   "cell_type": "code",
   "execution_count": 11,
   "metadata": {
    "collapsed": true
   },
   "outputs": [],
   "source": [
    "def play_utt(utt, m_dict):\n",
    "    sr, y = scipy.io.wavfile.read(os.path.join(wavs_path, utt.rsplit(\"-\",1)[0]+'.wav'))\n",
    "    start_t = min(seg['start'] for seg in m_dict[utt]['seg'])\n",
    "    end_t = max(seg['end'] for seg in m_dict[utt]['seg'])\n",
    "    print(start_t, end_t)\n",
    "    start_t_samples, end_t_samples = int(start_t*sr), int(end_t*sr)\n",
    "    display(Audio(y[start_t_samples:end_t_samples], rate=sr))"
   ]
  },
  {
   "cell_type": "code",
   "execution_count": 12,
   "metadata": {
    "collapsed": true
   },
   "outputs": [],
   "source": [
    "def display_words(m_dict, v_dict, preds, utts, dec_key, key, min_len=0, max_len=MAX_EN_LEN, play_audio=False):\n",
    "    es_ref = []\n",
    "    en_ref = []\n",
    "    for u in utts:\n",
    "        es_ref.append(\" \".join([w.decode() for w in m_dict[u]['es_w']]))\n",
    "        if type(m_dict[u][dec_key]) == list:\n",
    "            en_ref.append(\" \".join([w.decode() for w in m_dict[u]['en_w']]))\n",
    "        else:\n",
    "            en_ref.append(\" \".join([w.decode() for w in m_dict[u]['en_w'][0]]))\n",
    "\n",
    "    en_pred = []\n",
    "    join_str = ' ' if dec_key.endswith('_w') else ''\n",
    "\n",
    "    for p in preds:\n",
    "        t_str = join_str.join([v_dict['i2w'][i].decode() for i in p])\n",
    "        t_str = t_str[:t_str.find('_EOS')]\n",
    "        en_pred.append(t_str)\n",
    "\n",
    "    for u, es, en, p in zip(utts, es_ref, en_ref, en_pred):\n",
    "        if len(en.split(\" \")) >= min_len and len(en.split(\" \")) <= max_len:\n",
    "            # for reference, 1st word is GO_ID, no need to display\n",
    "            print(\"Utterance: {0:s}\".format(u))\n",
    "            display_pp = PrettyTable([\"cat\",\"sent\"], hrules=True)\n",
    "            display_pp.align = \"l\"\n",
    "            display_pp.header = False\n",
    "            display_pp.add_row([\"es ref\", textwrap.fill(es,50)])\n",
    "            display_pp.add_row([\"en ref\", textwrap.fill(en,50)])\n",
    "            display_pp.add_row([\"en pred\", textwrap.fill(p,50)])\n",
    "\n",
    "            print(display_pp)\n",
    "            if play_audio:\n",
    "                play_utt(u, m_dict)\n",
    "    "
   ]
  },
  {
   "cell_type": "code",
   "execution_count": 13,
   "metadata": {
    "collapsed": true
   },
   "outputs": [],
   "source": [
    "def display_words_latex(m_dict, v_dict, preds, utts, dec_key, min_len=0, max_len=2*MAX_EN_LEN):\n",
    "    print(\"min length={0:d}, max length={1:d}\".format(min_len, max_len))\n",
    "    es_ref = []\n",
    "    en_ref = []\n",
    "    for u in utts:\n",
    "        es_ref.append(\" \".join([w.decode() for w in m_dict[u]['es_w']]))\n",
    "        if type(m_dict[u][dec_key]) == list:\n",
    "            en_ref.append(\" \".join([w.decode() for w in m_dict[u]['en_w']]))\n",
    "        else:\n",
    "            en_ref.append(\" \".join([w.decode() for w in m_dict[u]['en_w'][0]]))\n",
    "\n",
    "    en_pred = []\n",
    "    join_str = ' ' if dec_key.endswith('_w') else ''\n",
    "\n",
    "    for p in preds:\n",
    "        t_str = join_str.join([v_dict['i2w'][i].decode() for i in p])\n",
    "        t_str = t_str[:t_str.find('_EOS')]\n",
    "        en_pred.append(t_str)\n",
    "\n",
    "    total_matching_len = 0\n",
    "\n",
    "    for u, es, en, p in zip(utts, es_ref, en_ref, en_pred):\n",
    "        if len(es.split(\" \")) >= min_len and len(es.split(\" \")) <= max_len:\n",
    "            total_matching_len += 1\n",
    "            # for reference, 1st word is GO_ID, no need to display\n",
    "            print(\"Utterance: {0:s}\".format(u))\n",
    "            print(\"{0:d} & {1:s} & {2:s} & {3:s} \\\\\\\\\".format(total_matching_len, es, en, p))\n",
    "\n",
    "    print(\"total utts matching length filters={0:d}\".format(total_matching_len))"
   ]
  },
  {
   "cell_type": "markdown",
   "metadata": {},
   "source": [
    "### Fisher dev"
   ]
  },
  {
   "cell_type": "code",
   "execution_count": 14,
   "metadata": {},
   "outputs": [],
   "source": [
    "key='callhome_devtest'\n",
    "train=False\n",
    "m_dict = map_dict[key]\n",
    "v_dict = vocab_dict[dec_key]\n",
    "n=len(map_dict[key])\n",
    "BATCH_SIZE = 100"
   ]
  },
  {
   "cell_type": "code",
   "execution_count": 15,
   "metadata": {
    "collapsed": true
   },
   "outputs": [],
   "source": [
    "cat_speech_path = os.path.join(out_path, key)\n",
    "wavs_path = os.path.join(out_path, \"wavs\")"
   ]
  },
  {
   "cell_type": "code",
   "execution_count": 16,
   "metadata": {},
   "outputs": [
    {
     "name": "stderr",
     "output_type": "stream",
     "text": [
      "\r",
      "  0%|                                                  | 0/3801 [00:00<?, ?it/s]"
     ]
    },
    {
     "name": "stdout",
     "output_type": "stream",
     "text": [
      "--------------------------------------------------------------------------------\n",
      "EPOCH = 31\n"
     ]
    },
    {
     "name": "stderr",
     "output_type": "stream",
     "text": [
      "b=1,l=0.58,avg=2.64: 100%|██████████████████| 3801/3801 [01:53<00:00, 26.06it/s]"
     ]
    },
    {
     "name": "stdout",
     "output_type": "stream",
     "text": [
      "********** dev mean loss=2.6400\n",
      "-\n",
      "--------------------------------------------------------------------------------\n"
     ]
    },
    {
     "name": "stderr",
     "output_type": "stream",
     "text": [
      "\n"
     ]
    }
   ],
   "source": [
    "print(\"-\"*80)\n",
    "print(\"EPOCH = {0:d}\".format(last_epoch+1))\n",
    "fsh_pred_sents, fsh_utts, loss = feed_model(map_dict[key],\n",
    "                  b_dict=bucket_dict[key],\n",
    "                  vocab_dict=vocab_dict,\n",
    "                  batch_size=BATCH_SIZE,\n",
    "                  x_key=enc_key,\n",
    "                  y_key=dec_key,\n",
    "                  train=train,\n",
    "                  cat_speech_path=cat_speech_path, use_y=True)\n",
    "\n",
    "print(\"{0:s} {1:s} mean loss={2:.4f}\".format(\"*\" * 10,\n",
    "                                    \"train\" if train else \"dev\",\n",
    "                                    loss))\n",
    "print(\"-\")\n",
    "print(\"-\"*80)"
   ]
  },
  {
   "cell_type": "code",
   "execution_count": 17,
   "metadata": {
    "collapsed": true
   },
   "outputs": [],
   "source": [
    "# Eval parameters\n",
    "ref_index = 0\n",
    "min_len, max_len= 0, 200\n",
    "displayN = 50"
   ]
  },
  {
   "cell_type": "code",
   "execution_count": 18,
   "metadata": {},
   "outputs": [
    {
     "name": "stdout",
     "output_type": "stream",
     "text": [
      "Utterance: sp_0897-B-51\n",
      "+---------+-------------------------+\n",
      "| es ref  | pero eso existe         |\n",
      "+---------+-------------------------+\n",
      "| en ref  | but that exists         |\n",
      "+---------+-------------------------+\n",
      "| en pred | but there are something |\n",
      "+---------+-------------------------+\n",
      "Utterance: sp_1882-B-35\n",
      "+---------+-------+\n",
      "| es ref  | ya    |\n",
      "+---------+-------+\n",
      "| en ref  | right |\n",
      "+---------+-------+\n",
      "| en pred | yeah  |\n",
      "+---------+-------+\n",
      "Utterance: sp_1552-B-85\n",
      "+---------+-----+\n",
      "| es ref  | ajá |\n",
      "+---------+-----+\n",
      "| en ref  | aha |\n",
      "+---------+-----+\n",
      "| en pred |     |\n",
      "+---------+-----+\n",
      "Utterance: sp_2107-B-101\n",
      "+---------+-------------------------------------------------+\n",
      "| es ref  | ¿tú te crees que irma va a llegar el veintitrés |\n",
      "+---------+-------------------------------------------------+\n",
      "| en ref  | you think that irma will arrive on the twenty   |\n",
      "|         | third                                           |\n",
      "+---------+-------------------------------------------------+\n",
      "| en pred | what is the most imagine                        |\n",
      "+---------+-------------------------------------------------+\n",
      "Utterance: sp_2054-A-18\n",
      "+---------+-----+\n",
      "| es ref  | sí  |\n",
      "+---------+-----+\n",
      "| en ref  | yes |\n",
      "+---------+-----+\n",
      "| en pred |     |\n",
      "+---------+-----+\n",
      "Utterance: sp_1882-B-20\n",
      "+---------+------+\n",
      "| es ref  | ya   |\n",
      "+---------+------+\n",
      "| en ref  | ok   |\n",
      "+---------+------+\n",
      "| en pred | yeah |\n",
      "+---------+------+\n",
      "Utterance: sp_1947-A-86\n",
      "+---------+-------------------------+\n",
      "| es ref  | espérese aló            |\n",
      "+---------+-------------------------+\n",
      "| en ref  | express yourself ¿hello |\n",
      "+---------+-------------------------+\n",
      "| en pred | is very true            |\n",
      "+---------+-------------------------+\n",
      "Utterance: sp_0897-A-5\n",
      "+---------+-----------------+\n",
      "| es ref  | y ¿qué tal      |\n",
      "+---------+-----------------+\n",
      "| en ref  | and how are you |\n",
      "+---------+-----------------+\n",
      "| en pred | yes how are you |\n",
      "+---------+-----------------+\n",
      "Utterance: sp_1930-A-26\n",
      "+---------+-----+\n",
      "| es ref  | mmm |\n",
      "+---------+-----+\n",
      "| en ref  | hmm |\n",
      "+---------+-----+\n",
      "| en pred | mhm |\n",
      "+---------+-----+\n",
      "Utterance: sp_1882-A-13\n",
      "+---------+----------------+\n",
      "| es ref  | debe estar --  |\n",
      "+---------+----------------+\n",
      "| en ref  | he/she must be |\n",
      "+---------+----------------+\n",
      "| en pred | from the       |\n",
      "+---------+----------------+\n",
      "Utterance: sp_2109-A-35\n",
      "+---------+---------------+\n",
      "| es ref  | fíjate fíjate |\n",
      "+---------+---------------+\n",
      "| en ref  | look look     |\n",
      "+---------+---------------+\n",
      "| en pred | yes           |\n",
      "+---------+---------------+\n",
      "Utterance: sp_1413-B-64\n",
      "+---------+----------------------------+\n",
      "| es ref  | ¿qué tengo que preguntarle |\n",
      "+---------+----------------------------+\n",
      "| en ref  | what do i have to ask      |\n",
      "+---------+----------------------------+\n",
      "| en pred | that i have to ask         |\n",
      "+---------+----------------------------+\n",
      "Utterance: sp_1947-A-101\n",
      "+---------+--------------------------------------+\n",
      "| es ref  | ah la vaina y de dónde la sacó       |\n",
      "+---------+--------------------------------------+\n",
      "| en ref  | ah the pod and where did you get him |\n",
      "+---------+--------------------------------------+\n",
      "| en pred | hello no and where are you from      |\n",
      "+---------+--------------------------------------+\n",
      "Utterance: sp_1554-B-31\n",
      "+---------+---------------------------+\n",
      "| es ref  | sí sí está internada      |\n",
      "+---------+---------------------------+\n",
      "| en ref  | yes she s in the hospital |\n",
      "+---------+---------------------------+\n",
      "| en pred | yes yes you re in canada  |\n",
      "+---------+---------------------------+\n",
      "Utterance: sp_2144-A-69\n",
      "+---------+-------+\n",
      "| es ref  | bueno |\n",
      "+---------+-------+\n",
      "| en ref  | good  |\n",
      "+---------+-------+\n",
      "| en pred |       |\n",
      "+---------+-------+\n",
      "Utterance: sp_1805-B-45\n",
      "+---------+-------+\n",
      "| es ref  | ¡chu- |\n",
      "+---------+-------+\n",
      "| en ref  | chu   |\n",
      "+---------+-------+\n",
      "| en pred | oh    |\n",
      "+---------+-------+\n",
      "Utterance: sp_1947-A-10\n",
      "+---------+-----+\n",
      "| es ref  | ajá |\n",
      "+---------+-----+\n",
      "| en ref  | aha |\n",
      "+---------+-----+\n",
      "| en pred | aha |\n",
      "+---------+-----+\n",
      "Utterance: sp_1947-A-38\n",
      "+---------+------+\n",
      "| es ref  | okey |\n",
      "+---------+------+\n",
      "| en ref  | okay |\n",
      "+---------+------+\n",
      "| en pred | okay |\n",
      "+---------+------+\n",
      "Utterance: sp_0968-A-100\n",
      "+---------+-------------+\n",
      "| es ref  | mmm bueno   |\n",
      "+---------+-------------+\n",
      "| en ref  | uh huh well |\n",
      "+---------+-------------+\n",
      "| en pred | mm          |\n",
      "+---------+-------------+\n",
      "Utterance: sp_1882-B-34\n",
      "+---------+-------------+\n",
      "| es ref  | ya ya       |\n",
      "+---------+-------------+\n",
      "| en ref  | right right |\n",
      "+---------+-------------+\n",
      "| en pred | yeah yeah   |\n",
      "+---------+-------------+\n",
      "Utterance: sp_2054-B-64\n",
      "+---------+-----+\n",
      "| es ref  | ajá |\n",
      "+---------+-----+\n",
      "| en ref  | aha |\n",
      "+---------+-----+\n",
      "| en pred |     |\n",
      "+---------+-----+\n",
      "Utterance: sp_1947-A-113\n",
      "+---------+-----+\n",
      "| es ref  | ah  |\n",
      "+---------+-----+\n",
      "| en ref  | ah  |\n",
      "+---------+-----+\n",
      "| en pred | aha |\n",
      "+---------+-----+\n",
      "Utterance: sp_1808-B-81\n",
      "+---------+----------------------------------+\n",
      "| es ref  | serán unos o sea la matrícula -- |\n",
      "+---------+----------------------------------+\n",
      "| en ref  | it s about i mean the enrollment |\n",
      "+---------+----------------------------------+\n",
      "| en pred | ah it was more for the movies    |\n",
      "+---------+----------------------------------+\n",
      "Utterance: sp_1882-A-81\n",
      "+---------+---------------------------------+\n",
      "| es ref  | no y después cuando termine --  |\n",
      "+---------+---------------------------------+\n",
      "| en ref  | no and afterwords when i finish |\n",
      "+---------+---------------------------------+\n",
      "| en pred | no and that when you have       |\n",
      "+---------+---------------------------------+\n",
      "Utterance: sp_0968-A-93\n",
      "+---------+---------+\n",
      "| es ref  | cecilia |\n",
      "+---------+---------+\n",
      "| en ref  | cecilia |\n",
      "+---------+---------+\n",
      "| en pred | yes     |\n",
      "+---------+---------+\n",
      "Utterance: sp_1930-A-55\n",
      "+---------+--------------------------------------------------+\n",
      "| es ref  | entonces tienes que recibir tres cartas mías me  |\n",
      "|         | parece                                           |\n",
      "+---------+--------------------------------------------------+\n",
      "| en ref  | so you have to get three of my letters it seems  |\n",
      "+---------+--------------------------------------------------+\n",
      "| en pred | before i think that almost almost almost more to |\n",
      "|         | be more                                          |\n",
      "+---------+--------------------------------------------------+\n",
      "Utterance: sp_1805-B-66\n",
      "+---------+------+\n",
      "| es ref  | mmm  |\n",
      "+---------+------+\n",
      "| en ref  | mmmm |\n",
      "+---------+------+\n",
      "| en pred | mm   |\n",
      "+---------+------+\n",
      "Utterance: sp_2054-B-5\n",
      "+---------+-----------------------+\n",
      "| es ref  | así es que ¿sí cheché |\n",
      "+---------+-----------------------+\n",
      "| en ref  | so yes cheche         |\n",
      "+---------+-----------------------+\n",
      "| en pred | yes                   |\n",
      "+---------+-----------------------+\n",
      "Utterance: sp_1552-A-87\n",
      "+---------+--------------------------------+\n",
      "| es ref  | este ¿y qué tanto dinero tiene |\n",
      "+---------+--------------------------------+\n",
      "| en ref  | and how much money do you have |\n",
      "+---------+--------------------------------+\n",
      "| en pred | yes                            |\n",
      "+---------+--------------------------------+\n",
      "Utterance: sp_0897-A-25\n",
      "+---------+------+\n",
      "| es ref  | pero |\n",
      "+---------+------+\n",
      "| en ref  | but  |\n",
      "+---------+------+\n",
      "| en pred | but  |\n",
      "+---------+------+\n",
      "Utterance: sp_0897-A-74\n",
      "+---------+-----+\n",
      "| es ref  | ajá |\n",
      "+---------+-----+\n",
      "| en ref  | aha |\n",
      "+---------+-----+\n",
      "| en pred | aha |\n",
      "+---------+-----+\n",
      "Utterance: sp_1882-B-86\n",
      "+---------+-------+\n",
      "| es ref  | ya    |\n",
      "+---------+-------+\n",
      "| en ref  | right |\n",
      "+---------+-------+\n",
      "| en pred | yeah  |\n",
      "+---------+-------+\n",
      "Utterance: sp_1552-B-37\n",
      "+---------+----------------------+\n",
      "| es ref  | yo le decía hijo     |\n",
      "+---------+----------------------+\n",
      "| en ref  | i would tell him son |\n",
      "+---------+----------------------+\n",
      "| en pred |                      |\n",
      "+---------+----------------------+\n",
      "Utterance: sp_2057-A-22\n",
      "+---------+-----+\n",
      "| es ref  | sí  |\n",
      "+---------+-----+\n",
      "| en ref  | yes |\n",
      "+---------+-----+\n",
      "| en pred | and |\n",
      "+---------+-----+\n",
      "Utterance: sp_1552-B-72\n",
      "+---------+------+\n",
      "| es ref  | sí   |\n",
      "+---------+------+\n",
      "| en ref  | yeah |\n",
      "+---------+------+\n",
      "| en pred |      |\n",
      "+---------+------+\n",
      "Utterance: sp_2054-A-68\n",
      "+---------+-----------------------------------+\n",
      "| es ref  | y en parte que no lo -- ¿eh       |\n",
      "+---------+-----------------------------------+\n",
      "| en ref  | and in part that he doesn t -- eh |\n",
      "+---------+-----------------------------------+\n",
      "| en pred | yes                               |\n",
      "+---------+-----------------------------------+\n",
      "Utterance: sp_0897-A-42\n",
      "+---------+------+\n",
      "| es ref  | ¿qué |\n",
      "+---------+------+\n",
      "| en ref  | what |\n",
      "+---------+------+\n",
      "| en pred | what |\n",
      "+---------+------+\n",
      "Utterance: sp_1411-B-53\n",
      "+---------+-----------------------------+\n",
      "| es ref  | todavía tenemos tiempo o no |\n",
      "+---------+-----------------------------+\n",
      "| en ref  | we still have time or not   |\n",
      "+---------+-----------------------------+\n",
      "| en pred | i was still doing a long    |\n",
      "+---------+-----------------------------+\n",
      "Utterance: sp_2107-A-57\n",
      "+---------+------------------+\n",
      "| es ref  | ah no sabía      |\n",
      "+---------+------------------+\n",
      "| en ref  | oh i didn t know |\n",
      "+---------+------------------+\n",
      "| en pred | ah i didn t know |\n",
      "+---------+------------------+\n",
      "Utterance: sp_1062-B-46\n",
      "+---------+----------------------------------------+\n",
      "| es ref  | por los seis meses te vas con todos    |\n",
      "+---------+----------------------------------------+\n",
      "| en ref  | for six months you ll go with everyone |\n",
      "+---------+----------------------------------------+\n",
      "| en pred | yes                                    |\n",
      "+---------+----------------------------------------+\n",
      "Utterance: sp_1552-A-89\n",
      "+---------+-------------------------+\n",
      "| es ref  | ¿jorge le está ayudando |\n",
      "+---------+-------------------------+\n",
      "| en ref  | is jorge helping you    |\n",
      "+---------+-------------------------+\n",
      "| en pred |                         |\n",
      "+---------+-------------------------+\n",
      "Utterance: sp_2144-B-5\n",
      "+---------+--------------------------+\n",
      "| es ref  | que no vea qué           |\n",
      "+---------+--------------------------+\n",
      "| en ref  | that he doesn t see what |\n",
      "+---------+--------------------------+\n",
      "| en pred |                          |\n",
      "+---------+--------------------------+\n",
      "Utterance: sp_2144-A-8\n",
      "+---------+-------------------------------+\n",
      "| es ref  | digo que no los vea mamá      |\n",
      "+---------+-------------------------------+\n",
      "| en ref  | i say that mom doesn t see it |\n",
      "+---------+-------------------------------+\n",
      "| en pred | yes                           |\n",
      "+---------+-------------------------------+\n",
      "Utterance: sp_1805-B-53\n",
      "+---------+--------------------------------------------------+\n",
      "| es ref  | claro para que te puedas mover para todas partes |\n",
      "|         | --                                               |\n",
      "+---------+--------------------------------------------------+\n",
      "| en ref  | sure so you can go everywhere --                 |\n",
      "+---------+--------------------------------------------------+\n",
      "| en pred | sure that s good                                 |\n",
      "+---------+--------------------------------------------------+\n",
      "Utterance: sp_1947-A-31\n",
      "+---------+-------------+\n",
      "| es ref  | está bueno  |\n",
      "+---------+-------------+\n",
      "| en ref  | that s good |\n",
      "+---------+-------------+\n",
      "| en pred | that s good |\n",
      "+---------+-------------+\n",
      "Utterance: sp_1411-A-59\n",
      "+---------+------------------------+\n",
      "| es ref  | bueno gordo sí mi amor |\n",
      "+---------+------------------------+\n",
      "| en ref  | okay sweetie yes honey |\n",
      "+---------+------------------------+\n",
      "| en pred | less yes               |\n",
      "+---------+------------------------+\n",
      "Utterance: sp_2037-B-16\n",
      "+---------+-------------------+\n",
      "| es ref  | sí mejor ¿verdad  |\n",
      "+---------+-------------------+\n",
      "| en ref  | yes better right  |\n",
      "+---------+-------------------+\n",
      "| en pred | yes better really |\n",
      "+---------+-------------------+\n",
      "Utterance: sp_1552-B-88\n",
      "+---------+---------------------+\n",
      "| es ref  | sí me las llevo sí  |\n",
      "+---------+---------------------+\n",
      "| en ref  | yes i take them yes |\n",
      "+---------+---------------------+\n",
      "| en pred | yes                 |\n",
      "+---------+---------------------+\n",
      "Utterance: sp_1554-B-59\n",
      "+---------+---------------+\n",
      "| es ref  | ¡a i b m sior |\n",
      "+---------+---------------+\n",
      "| en ref  | to ibm zior   |\n",
      "+---------+---------------+\n",
      "| en pred | oh my name is |\n",
      "+---------+---------------+\n",
      "Utterance: sp_2054-A-32\n",
      "+---------+---------------+\n",
      "| es ref  | claro babosos |\n",
      "+---------+---------------+\n",
      "| en ref  | sure dimwits  |\n",
      "+---------+---------------+\n",
      "| en pred | yes           |\n",
      "+---------+---------------+\n"
     ]
    }
   ],
   "source": [
    "display_words(m_dict, v_dict, fsh_pred_sents[:displayN], fsh_utts[:displayN], \n",
    "              dec_key, key, min_len=min_len, max_len=max_len, play_audio=False)"
   ]
  },
  {
   "cell_type": "code",
   "execution_count": 19,
   "metadata": {
    "collapsed": true
   },
   "outputs": [],
   "source": [
    "# def calc_bleu(m_dict, \n",
    "#               v_dict, \n",
    "#               preds, \n",
    "#               utts, \n",
    "#               dec_key, \n",
    "#               weights=(0.25, 0.25, 0.25, 0.25), \n",
    "#               min_len=0, \n",
    "#               max_len=2*MAX_EN_LEN, \n",
    "#               ref_index=-1):\n",
    "#     print(\"min length={0:d}, max length={1:d}\".format(min_len, max_len))\n",
    "#     en_hyp = []\n",
    "#     en_ref = []\n",
    "#     ref_key = 'en_w' if 'en_' in dec_key else 'es_w'\n",
    "#     src_key = 'es_w'\n",
    "#     for u in tqdm(utts, ncols=80):\n",
    "#         if len(m_dict[u][src_key]) >= min_len and len(m_dict[u][src_key]) <= max_len:\n",
    "#             if type(m_dict[u][ref_key]) == list:\n",
    "#                 en_ref.append([[w.decode() for w in m_dict[u][ref_key]]])\n",
    "#             else:\n",
    "#                 if ref_index == -1:\n",
    "#                     en_r_list = []\n",
    "#                     for r in m_dict[u][ref_key]:\n",
    "#                         en_r_list.append([w.decode() for w in r])\n",
    "#                     print([[w.decode() for w in m_dict[u][ref_key][1]]])\n",
    "#                     en_ref.append(en_r_list)\n",
    "#                 else:\n",
    "#                     en_ref.append([[w.decode() for w in m_dict[u][ref_key][ref_index]]])\n",
    "\n",
    "#     join_str = ' ' if dec_key.endswith('_w') else ''\n",
    "\n",
    "#     total_matching_len = 0\n",
    "\n",
    "#     for u, p in zip(utts, preds):\n",
    "#         if len(m_dict[u][src_key]) >= min_len and len(m_dict[u][src_key]) <= max_len:\n",
    "#             total_matching_len += 1\n",
    "#             t_str = join_str.join([v_dict['i2w'][i].decode() for i in p])\n",
    "#             t_str = t_str[:t_str.find('_EOS')]\n",
    "#             en_hyp.append(t_str.split())\n",
    "\n",
    "\n",
    "#     print(\"total utts matching length filters={0:d}\".format(total_matching_len))\n",
    "\n",
    "#     smooth_fun = nltk.translate.bleu_score.SmoothingFunction()\n",
    "\n",
    "#     b_score_value = corpus_bleu(en_ref,\n",
    "#                           en_hyp,\n",
    "#                           weights=weights,\n",
    "#                           smoothing_function=smooth_fun.method2)\n",
    "\n",
    "#     try:\n",
    "#         chrf_index = min(0, ref_index)\n",
    "#         chrf_score_value = corpus_chrf([r[chrf_index] for r in en_ref], en_hyp)\n",
    "#     except:\n",
    "#         chrf_score_value = 0\n",
    "    \n",
    "\n",
    "#     return b_score_value, chrf_score_value, en_hyp, en_ref"
   ]
  },
  {
   "cell_type": "code",
   "execution_count": 20,
   "metadata": {},
   "outputs": [
    {
     "name": "stderr",
     "output_type": "stream",
     "text": [
      "\r",
      "  0%|                                                  | 0/3801 [00:00<?, ?it/s]"
     ]
    },
    {
     "name": "stdout",
     "output_type": "stream",
     "text": [
      "min length=0, max length=200\n"
     ]
    },
    {
     "name": "stderr",
     "output_type": "stream",
     "text": [
      "\r",
      "100%|███████████████████████████████████| 3801/3801 [00:00<00:00, 134979.38it/s]"
     ]
    },
    {
     "name": "stdout",
     "output_type": "stream",
     "text": [
      "total utts matching length filters=3801\n",
      "BLEU score on: callhome_devtest = 3.65\n",
      "------------------------------------------------------------\n"
     ]
    },
    {
     "name": "stderr",
     "output_type": "stream",
     "text": [
      "\n"
     ]
    }
   ],
   "source": [
    "b, _, h, r = calc_bleu(m_dict, \n",
    "                              v_dict, \n",
    "                              fsh_pred_sents[:n], \n",
    "                              fsh_utts[:n], \n",
    "                              dec_key, \n",
    "                              min_len=min_len, \n",
    "                              max_len=max_len, \n",
    "                              ref_index=ref_index)\n",
    "\n",
    "print(\"BLEU score on: {0:s} = {1:.2f}\".format(key, b * 100))\n",
    "print(\"-\"*60)\n",
    "\n",
    "# chrf = [0]*4\n",
    "\n",
    "# for ref_i in range(4):\n",
    "#     _, chrf[ref_i], _, _ = calc_bleu(m_dict, \n",
    "#                               v_dict, \n",
    "#                               fsh_pred_sents[:n], \n",
    "#                               fsh_utts[:n], \n",
    "#                               dec_key, \n",
    "#                               min_len=min_len, \n",
    "#                               max_len=max_len, \n",
    "#                               ref_index=ref_i)\n",
    "#     # end for\n",
    "\n",
    "# # print chrf score\n",
    "# for i in range(4):\n",
    "#     print(\"CHRF score on: {0:s} = {1:.2f}, using reference = {2:d}\".format(key, chrf[i] * 100, i))\n",
    "\n",
    "# print(\"-\"*60)\n",
    "\n",
    "all_weights=[(1.,0.,0.,0.),\n",
    "             (0.,1.,0.,0.),\n",
    "             (0.,0.,1.,0.),\n",
    "             (0.,0.,0.,1.),\n",
    "             (1./2,1./2,0.,0.),\n",
    "             (1./3,1./3,1./3,0.),\n",
    "             (.25,.25,.25,.25)]"
   ]
  },
  {
   "cell_type": "code",
   "execution_count": 21,
   "metadata": {
    "collapsed": true
   },
   "outputs": [],
   "source": [
    "smooth_fun = nltk.translate.bleu_score.SmoothingFunction()"
   ]
  },
  {
   "cell_type": "code",
   "execution_count": 29,
   "metadata": {},
   "outputs": [
    {
     "name": "stdout",
     "output_type": "stream",
     "text": [
      "  bleu score (0-100) | uni-bi-tri-quad     \n",
      "               17.41 | 1.00-0.00-0.00-0.00 \n",
      "                5.44 | 0.00-1.00-0.00-0.00 \n",
      "                2.06 | 0.00-0.00-1.00-0.00 \n",
      "                0.91 | 0.00-0.00-0.00-1.00 \n",
      "                9.73 | 0.50-0.50-0.00-0.00 \n",
      "                5.80 | 0.33-0.33-0.33-0.00 \n",
      "                3.65 | 0.25-0.25-0.25-0.25 \n"
     ]
    }
   ],
   "source": [
    "print(\"{0:>20s} | {1:20s}\".format(\"bleu score (0-100)\", \"uni-bi-tri-quad\"))\n",
    "for weights in all_weights:\n",
    "    b = corpus_bleu(r, h, weights=weights, smoothing_function=smooth_fun.method2)\n",
    "    print(\"{0:20.2f} | {1:20s}\".format(b * 100, \"-\".join(map(\"{0:.2f}\".format, weights))))"
   ]
  },
  {
   "cell_type": "code",
   "execution_count": 30,
   "metadata": {},
   "outputs": [
    {
     "name": "stdout",
     "output_type": "stream",
     "text": [
      "min length=0, max length=240\n",
      "total utts=3801\n",
      "metric     |   1-gram |   2-gram|   3-gram |   4-gram\n",
      "------------------------------------------------------\n",
      "precision  |    31.65 |     9.88|     3.75 |     1.65\n",
      "recall     |    20.06 |     6.27|     2.39 |     1.06\n"
     ]
    }
   ],
   "source": [
    "_, _ = corpus_precision_recall(r, h)"
   ]
  },
  {
   "cell_type": "code",
   "execution_count": 24,
   "metadata": {
    "collapsed": true
   },
   "outputs": [],
   "source": [
    "pred_path = \"/afs/inf.ed.ac.uk/group/project/lowres/work/installs/fisher-callhome-corpus/corpus/ldc\"\n",
    "pred_fname = os.path.join(pred_path, \"fisher_dev.pred\")"
   ]
  },
  {
   "cell_type": "code",
   "execution_count": 34,
   "metadata": {},
   "outputs": [
    {
     "data": {
      "text/plain": [
       "[b'aha']"
      ]
     },
     "execution_count": 34,
     "metadata": {},
     "output_type": "execute_result"
    }
   ],
   "source": [
    "m_dict[fsh_utts[2]]['en_w']"
   ]
  },
  {
   "cell_type": "code",
   "execution_count": 26,
   "metadata": {
    "collapsed": true
   },
   "outputs": [],
   "source": [
    "def write_predictions_to_file(m_dict, v_dict, preds, utts, dec_key, key, min_len=0, max_len=2*MAX_EN_LEN):\n",
    "    print(\"min length={0:d}, max length={1:d}\".format(min_len, max_len))\n",
    "    en_hyp = []\n",
    "    en_ref = []\n",
    "    ref_key = 'en_w' if 'en_' in dec_key else 'es_w'\n",
    "    src_key = 'es_w'\n",
    "    \n",
    "    for u in tqdm(utts, ncols=80):\n",
    "        if len(m_dict[u][src_key]) >= min_len and len(m_dict[u][src_key]) <= max_len:\n",
    "            if type(m_dict[u][ref_key]) == list:\n",
    "                en_ref.append(\" \".join([w.decode() for w in m_dict[u]['en_w']]))\n",
    "            else:\n",
    "                en_r_list = []\n",
    "                for r in m_dict[u][ref_key]:\n",
    "                    en_r_list.append(\" \".join([w.decode() for w in r]))\n",
    "                en_ref.append(en_r_list)\n",
    "\n",
    "    join_str = ' ' if dec_key.endswith('_w') else ''\n",
    "\n",
    "    total_matching_len = 0\n",
    "\n",
    "    for u, p in zip(utts, preds):\n",
    "        if len(m_dict[u][src_key]) >= min_len and len(m_dict[u][src_key]) <= max_len:\n",
    "            total_matching_len += 1\n",
    "            t_str = join_str.join([v_dict['i2w'][i].decode() for i in p])\n",
    "            t_str = t_str[:t_str.find('_EOS')]\n",
    "            en_hyp.append(t_str)\n",
    "\n",
    "\n",
    "    print(\"total utts matching length filters={0:d}\".format(total_matching_len))\n",
    "    \n",
    "    with open(\"{0:s}_mt-output\".format(key), \"w\") as pred_f:\n",
    "        for p in en_hyp:\n",
    "            pred_f.write(\"{0:s}\\n\".format(p))\n",
    "        # end for\n",
    "    # end while\n",
    "    \n",
    "    if type(m_dict[utts[0]][ref_key]) == list:\n",
    "        with open(\"{0:s}.ref0\".format(key), \"w\") as ref_f:\n",
    "            for r in en_ref:\n",
    "                ref_f.write(\"{0:s}\\n\".format(r))\n",
    "    else:\n",
    "        num_ref = len(m_dict[u][ref_key])\n",
    "        for i in range(num_ref):\n",
    "            with open(\"{0:s}_en.ref{1:d}\".format(key,i), \"w\") as ref_f:\n",
    "                for r in en_ref:\n",
    "                    ref_f.write(\"{0:s}\\n\".format(r[i]))\n",
    "                # end for each utt\n",
    "            # end with\n",
    "        # end for reference\n",
    "    # end else\n",
    "    print(\"done\")\n",
    "    return en_ref, en_hyp"
   ]
  },
  {
   "cell_type": "code",
   "execution_count": 27,
   "metadata": {},
   "outputs": [
    {
     "name": "stderr",
     "output_type": "stream",
     "text": [
      "100%|███████████████████████████████████| 3801/3801 [00:00<00:00, 122472.01it/s]"
     ]
    },
    {
     "name": "stdout",
     "output_type": "stream",
     "text": [
      "min length=0, max length=200\n",
      "total utts matching length filters=3801\n",
      "done\n"
     ]
    },
    {
     "name": "stderr",
     "output_type": "stream",
     "text": [
      "\n"
     ]
    }
   ],
   "source": [
    "en_ref, en_hyp = write_predictions_to_file(m_dict, v_dict, fsh_pred_sents, fsh_utts, dec_key, key, min_len=min_len, max_len=max_len)"
   ]
  },
  {
   "cell_type": "code",
   "execution_count": 28,
   "metadata": {},
   "outputs": [
    {
     "data": {
      "text/plain": [
       "(3801, 3801)"
      ]
     },
     "execution_count": 28,
     "metadata": {},
     "output_type": "execute_result"
    }
   ],
   "source": [
    "len(en_ref),len(en_hyp)"
   ]
  },
  {
   "cell_type": "markdown",
   "metadata": {},
   "source": [
    "### Callhome dev"
   ]
  },
  {
   "cell_type": "code",
   "execution_count": null,
   "metadata": {
    "collapsed": true
   },
   "outputs": [],
   "source": [
    "key='callhome_devtest'\n",
    "train=False\n",
    "m_dict = map_dict[key]\n",
    "v_dict = vocab_dict[dec_key]\n",
    "n=len(map_dict[key])\n",
    "BATCH_SIZE = 100"
   ]
  },
  {
   "cell_type": "code",
   "execution_count": null,
   "metadata": {
    "collapsed": true
   },
   "outputs": [],
   "source": [
    "cat_speech_path = os.path.join(out_path, key)"
   ]
  },
  {
   "cell_type": "code",
   "execution_count": null,
   "metadata": {
    "collapsed": true
   },
   "outputs": [],
   "source": [
    "print(\"-\"*80)\n",
    "print(\"EPOCH = {0:d}\".format(last_epoch+1))\n",
    "pred_sents, utts, loss = feed_model(map_dict[key],\n",
    "                  b_dict=bucket_dict[key],\n",
    "                  vocab_dict=vocab_dict,\n",
    "                  batch_size=BATCH_SIZE,\n",
    "                  x_key=enc_key,\n",
    "                  y_key=dec_key,\n",
    "                  train=train,\n",
    "                  cat_speech_path=cat_speech_path, use_y=True)\n",
    "\n",
    "print(\"{0:s} {1:s} mean loss={2:.4f}\".format(\"*\" * 10,\n",
    "                                    \"train\" if train else \"dev\",\n",
    "                                    loss))\n",
    "print(\"-\")\n",
    "print(\"-\"*80)"
   ]
  },
  {
   "cell_type": "code",
   "execution_count": null,
   "metadata": {
    "collapsed": true
   },
   "outputs": [],
   "source": [
    "display_words(m_dict, v_dict, pred_sents[:50], utts[:50], dec_key)"
   ]
  },
  {
   "cell_type": "code",
   "execution_count": null,
   "metadata": {
    "collapsed": true
   },
   "outputs": [],
   "source": [
    "b, h, r = calc_bleu(m_dict, v_dict, pred_sents[:n], utts[:n], dec_key)\n",
    "\n",
    "print(\"BLEU score on: {0:s} = {1:.2f}\".format(key, b * 100))\n",
    "\n",
    "print(\"-\"*60)\n",
    "\n",
    "all_weights=[(1.,0.,0.,0.),\n",
    "             (0.,1.,0.,0.),\n",
    "             (0.,0.,1.,0.),\n",
    "             (0.,0.,0.,1.),\n",
    "             (1./2,1./2,0.,0.),\n",
    "             (1./3,1./3,1./3,0.),\n",
    "             (.25,.25,.25,.25)]"
   ]
  },
  {
   "cell_type": "code",
   "execution_count": null,
   "metadata": {
    "collapsed": true
   },
   "outputs": [],
   "source": [
    "smooth_fun = nltk.translate.bleu_score.SmoothingFunction()"
   ]
  },
  {
   "cell_type": "code",
   "execution_count": null,
   "metadata": {
    "collapsed": true
   },
   "outputs": [],
   "source": [
    "print(\"{0:>20s} | {1:20s}\".format(\"bleu score (0-100)\", \"uni-bi-tri-quad\"))\n",
    "for weights in all_weights:\n",
    "    b = corpus_bleu(r, h, weights=weights, smoothing_function=smooth_fun.method2)\n",
    "    print(\"{0:20.2f} | {1:20s}\".format(b * 100, \"-\".join(map(\"{0:.2f}\".format, weights))))"
   ]
  },
  {
   "cell_type": "code",
   "execution_count": null,
   "metadata": {
    "collapsed": true
   },
   "outputs": [],
   "source": [
    "_, _ = corpus_precision_recall(r, h)"
   ]
  },
  {
   "cell_type": "markdown",
   "metadata": {},
   "source": [
    "### Test code"
   ]
  },
  {
   "cell_type": "code",
   "execution_count": null,
   "metadata": {
    "collapsed": true
   },
   "outputs": [],
   "source": [
    "# test_ref = [[\"ha ha lol hue\".split()], [\"ha ha ja ha\".split()], [\"ha ha ja ha\".split()]]\n",
    "# test_h = [\"lol ja\".split(), \"ha he\".split(), \"ha ja\".split()]\n",
    "# _, _ = corpus_precision_recall(test_ref, test_h)"
   ]
  },
  {
   "cell_type": "code",
   "execution_count": null,
   "metadata": {
    "collapsed": true
   },
   "outputs": [],
   "source": []
  }
 ],
 "metadata": {
  "kernelspec": {
   "display_name": "Python 3",
   "language": "python",
   "name": "python3"
  },
  "language_info": {
   "codemirror_mode": {
    "name": "ipython",
    "version": 3
   },
   "file_extension": ".py",
   "mimetype": "text/x-python",
   "name": "python",
   "nbconvert_exporter": "python",
   "pygments_lexer": "ipython3",
   "version": "3.6.1"
  }
 },
 "nbformat": 4,
 "nbformat_minor": 2
}
