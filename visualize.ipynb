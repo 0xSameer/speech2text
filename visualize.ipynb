{
 "cells": [
  {
   "cell_type": "code",
   "execution_count": 1,
   "metadata": {
    "collapsed": true
   },
   "outputs": [],
   "source": [
    "import nltk\n",
    "from nltk.translate.bleu_score import sentence_bleu, corpus_bleu, modified_precision\n",
    "from nltk.translate.chrf_score import sentence_chrf, corpus_chrf\n",
    "from nltk.metrics import scores\n",
    "import scipy.io.wavfile\n",
    "from IPython.display import Audio\n",
    "from IPython.display import display\n",
    "from nltk.stem import *\n",
    "# from nltk.stem.snowball import SnowballStemmer\n",
    "from stemming.porter2 import stem\n",
    "import stemming\n",
    "\n",
    "%matplotlib inline"
   ]
  },
  {
   "cell_type": "code",
   "execution_count": 2,
   "metadata": {},
   "outputs": [
    {
     "name": "stdout",
     "output_type": "stream",
     "text": [
      "fisher + callhome sp/es - en configuration\n",
      "--------------------------------------------------\n",
      "loading info_dict from=./callhome_fbank_out/info.dict\n"
     ]
    },
    {
     "name": "stderr",
     "output_type": "stream",
     "text": [
      "100%|██████████| 3977/3977 [00:00<00:00, 420339.36it/s]\n",
      "100%|██████████| 3959/3959 [00:00<00:00, 404966.58it/s]\n",
      "100%|██████████| 3641/3641 [00:00<00:00, 417778.11it/s]\n",
      " 31%|███       | 43190/138708 [00:00<00:00, 431896.29it/s]"
     ]
    },
    {
     "name": "stdout",
     "output_type": "stream",
     "text": [
      "--------------------------------------------------\n",
      "creating buckets for: fisher_dev\n",
      "creating buckets for key: sp\n",
      "creating buckets for: fisher_dev2\n",
      "creating buckets for key: sp\n",
      "creating buckets for: fisher_test\n",
      "creating buckets for key: sp\n",
      "creating buckets for: fisher_train\n",
      "creating buckets for key: sp\n"
     ]
    },
    {
     "name": "stderr",
     "output_type": "stream",
     "text": [
      "100%|██████████| 138708/138708 [00:00<00:00, 449144.08it/s]\n",
      "100%|██████████| 3801/3801 [00:00<00:00, 406345.25it/s]\n",
      "100%|██████████| 1824/1824 [00:00<00:00, 387342.94it/s]\n",
      "100%|██████████| 14284/14284 [00:00<00:00, 404640.24it/s]\n"
     ]
    },
    {
     "name": "stdout",
     "output_type": "stream",
     "text": [
      "creating buckets for: callhome_devtest\n",
      "creating buckets for key: sp\n",
      "creating buckets for: callhome_evltest\n",
      "creating buckets for key: sp\n",
      "creating buckets for: callhome_train\n",
      "creating buckets for key: sp\n",
      "--------------------------------------------------\n",
      "saving info dict in: ./callhome_fbank_out/buckets_sp.dict\n",
      "all done ...\n",
      "--------------------------------------------------\n",
      "showing buckets for category: fisher_dev\n",
      "number of buckets=16, width of each bucket=128\n",
      "index | width | num   \n",
      "    0 |     0 |    808\n",
      "    1 |   128 |    996\n",
      "    2 |   256 |    627\n",
      "    3 |   384 |    420\n",
      "    4 |   512 |    298\n",
      "    5 |   640 |    261\n",
      "    6 |   768 |    200\n",
      "    7 |   896 |    148\n",
      "    8 |  1024 |    107\n",
      "    9 |  1152 |     51\n",
      "   10 |  1280 |     40\n",
      "   11 |  1408 |     13\n",
      "   12 |  1536 |      5\n",
      "   13 |  1664 |      1\n",
      "   14 |  1792 |      2\n",
      "   15 |  1920 |      0\n",
      "--------------------------------------------------\n",
      "showing buckets for category: fisher_dev2\n",
      "number of buckets=16, width of each bucket=128\n",
      "index | width | num   \n",
      "    0 |     0 |    645\n",
      "    1 |   128 |   1011\n",
      "    2 |   256 |    715\n",
      "    3 |   384 |    462\n",
      "    4 |   512 |    330\n",
      "    5 |   640 |    216\n",
      "    6 |   768 |    190\n",
      "    7 |   896 |    173\n",
      "    8 |  1024 |     92\n",
      "    9 |  1152 |     58\n",
      "   10 |  1280 |     32\n",
      "   11 |  1408 |     18\n",
      "   12 |  1536 |     13\n",
      "   13 |  1664 |      3\n",
      "   14 |  1792 |      1\n",
      "   15 |  1920 |      0\n",
      "--------------------------------------------------\n",
      "showing buckets for category: fisher_test\n",
      "number of buckets=16, width of each bucket=128\n",
      "index | width | num   \n",
      "    0 |     0 |    697\n",
      "    1 |   128 |    901\n",
      "    2 |   256 |    584\n",
      "    3 |   384 |    360\n",
      "    4 |   512 |    243\n",
      "    5 |   640 |    190\n",
      "    6 |   768 |    212\n",
      "    7 |   896 |    180\n",
      "    8 |  1024 |    129\n",
      "    9 |  1152 |     79\n",
      "   10 |  1280 |     37\n",
      "   11 |  1408 |     19\n",
      "   12 |  1536 |      5\n",
      "   13 |  1664 |      3\n",
      "   14 |  1792 |      1\n",
      "   15 |  1920 |      1\n",
      "--------------------------------------------------\n",
      "showing buckets for category: fisher_train\n",
      "number of buckets=16, width of each bucket=128\n",
      "index | width | num   \n",
      "    0 |     0 |  25925\n",
      "    1 |   128 |  34118\n",
      "    2 |   256 |  21956\n",
      "    3 |   384 |  14738\n",
      "    4 |   512 |  10331\n",
      "    5 |   640 |   8241\n",
      "    6 |   768 |   7145\n",
      "    7 |   896 |   6022\n",
      "    8 |  1024 |   4335\n",
      "    9 |  1152 |   2792\n",
      "   10 |  1280 |   1561\n",
      "   11 |  1408 |    805\n",
      "   12 |  1536 |    369\n",
      "   13 |  1664 |    197\n",
      "   14 |  1792 |     83\n",
      "   15 |  1920 |     90\n",
      "--------------------------------------------------\n",
      "showing buckets for category: callhome_devtest\n",
      "number of buckets=16, width of each bucket=128\n",
      "index | width | num   \n",
      "    0 |     0 |    978\n",
      "    1 |   128 |    932\n",
      "    2 |   256 |    677\n",
      "    3 |   384 |    438\n",
      "    4 |   512 |    286\n",
      "    5 |   640 |    185\n",
      "    6 |   768 |    103\n",
      "    7 |   896 |     71\n",
      "    8 |  1024 |     48\n",
      "    9 |  1152 |     33\n",
      "   10 |  1280 |     30\n",
      "   11 |  1408 |     10\n",
      "   12 |  1536 |      4\n",
      "   13 |  1664 |      5\n",
      "   14 |  1792 |      1\n",
      "   15 |  1920 |      0\n",
      "--------------------------------------------------\n",
      "showing buckets for category: callhome_evltest\n",
      "number of buckets=16, width of each bucket=128\n",
      "index | width | num   \n",
      "    0 |     0 |    440\n",
      "    1 |   128 |    459\n",
      "    2 |   256 |    317\n",
      "    3 |   384 |    203\n",
      "    4 |   512 |    141\n",
      "    5 |   640 |     78\n",
      "    6 |   768 |     66\n",
      "    7 |   896 |     39\n",
      "    8 |  1024 |     25\n",
      "    9 |  1152 |     21\n",
      "   10 |  1280 |     14\n",
      "   11 |  1408 |      7\n",
      "   12 |  1536 |      6\n",
      "   13 |  1664 |      6\n",
      "   14 |  1792 |      1\n",
      "   15 |  1920 |      1\n",
      "--------------------------------------------------\n",
      "showing buckets for category: callhome_train\n",
      "number of buckets=16, width of each bucket=128\n",
      "index | width | num   \n",
      "    0 |     0 |   4133\n",
      "    1 |   128 |   3313\n",
      "    2 |   256 |   2350\n",
      "    3 |   384 |   1544\n",
      "    4 |   512 |    965\n",
      "    5 |   640 |    655\n",
      "    6 |   768 |    439\n",
      "    7 |   896 |    298\n",
      "    8 |  1024 |    218\n",
      "    9 |  1152 |    131\n",
      "   10 |  1280 |     88\n",
      "   11 |  1408 |     59\n",
      "   12 |  1536 |     42\n",
      "   13 |  1664 |     22\n",
      "   14 |  1792 |     17\n",
      "   15 |  1920 |     10\n",
      "cnn details:\n",
      "{'in_channels': None, 'out_channels': 32, 'ksize': (3, 3), 'stride': (2, 2), 'pad': (1, 1)}\n",
      "{'in_channels': None, 'out_channels': 32, 'ksize': (3, 3), 'stride': (2, 2), 'pad': (1, 1)}\n",
      "--------------------------------------------------\n",
      "loading dict: ./callhome_fbank_out/map.dict\n",
      "loading dict: ./callhome_fbank_out/train_vocab.dict\n",
      "--------------------------------------------------\n",
      "loading dict: ./callhome_fbank_out/buckets_sp.dict\n",
      "--------------------------------------------------\n",
      "utterances in fisher_dev = 3979\n",
      "utterances in fisher_dev2 = 3961\n",
      "utterances in fisher_test = 3641\n",
      "utterances in fisher_train = 138819\n",
      "utterances in callhome_devtest = 3966\n",
      "utterances in callhome_evltest = 1829\n",
      "utterances in callhome_train = 15080\n",
      "vocab size for sp = 0\n",
      "vocab size for en_w = 18555\n",
      "model file name: fsh_fbank/seq2seq_sen-138819_hwy0-dec4_emb-256-h-256__sp_en_w_gru_drpt-0.3_noise-0_l2-0.000100_32_32_2_2_2DCNN_BN_LN_enc-4.model\n",
      "log file name: fsh_fbank/train_sen-138819_hwy0-dec4_emb-256-h-256__sp_en_w_gru_drpt-0.3_noise-0_l2-0.000100_32_32_2_2_2DCNN_BN_LN_enc-4.log\n",
      "cnn_out_dim = rnn_in_units =  320\n"
     ]
    },
    {
     "name": "stderr",
     "output_type": "stream",
     "text": [
      "/afs/inf.ed.ac.uk/group/project/lowres/work/anaconda3/envs/chainer3/lib/python3.6/site-packages/chainer/utils/experimental.py:104: FutureWarning: chainer.links.normalization.layer_normalization.py is experimental. The interface can change in the future.\n",
      "  FutureWarning)\n"
     ]
    },
    {
     "name": "stdout",
     "output_type": "stream",
     "text": [
      "using ADAM optimizer\n"
     ]
    }
   ],
   "source": [
    "from nmt_run import *"
   ]
  },
  {
   "cell_type": "code",
   "execution_count": 3,
   "metadata": {
    "collapsed": true
   },
   "outputs": [],
   "source": [
    "model_files = [f for f in os.listdir(os.path.dirname(model_fil))\n",
    "                   if os.path.basename(model_fil).replace('.model','') in f]\n",
    "# print(model_files)"
   ]
  },
  {
   "cell_type": "code",
   "execution_count": 4,
   "metadata": {
    "collapsed": true
   },
   "outputs": [],
   "source": [
    "max_model_fil = max(model_files, key=lambda s: int(s.split('_')[-1].split('.')[0]))"
   ]
  },
  {
   "cell_type": "code",
   "execution_count": 5,
   "metadata": {},
   "outputs": [
    {
     "data": {
      "text/plain": [
       "'seq2seq_sen-138819_hwy0-dec4_emb-256-h-256__sp_en_w_gru_drpt-0.3_noise-0_l2-0.000100_32_32_2_2_2DCNN_BN_LN_enc-4_151.model'"
      ]
     },
     "execution_count": 5,
     "metadata": {},
     "output_type": "execute_result"
    }
   ],
   "source": [
    "max_model_fil"
   ]
  },
  {
   "cell_type": "code",
   "execution_count": 6,
   "metadata": {},
   "outputs": [
    {
     "name": "stdout",
     "output_type": "stream",
     "text": [
      "--------------------------------------------------------------------------------\n",
      "model found = \n",
      "fsh_fbank/seq2seq_sen-138819_hwy0-dec4_emb-256-h-256__sp_en_w_gru_drpt-0.3_noise-0_l2-0.000100_32_32_2_2_2DCNN_BN_LN_enc-4_151.model\n",
      "loading ...\n",
      "finished loading ..\n"
     ]
    }
   ],
   "source": [
    "last_epoch = check_model()"
   ]
  },
  {
   "cell_type": "code",
   "execution_count": 7,
   "metadata": {},
   "outputs": [
    {
     "data": {
      "text/plain": [
       "'fsh_fbank/dev_sen-138819_hwy0-dec4_emb-256-h-256__sp_en_w_gru_drpt-0.3_noise-0_l2-0.000100_32_32_2_2_2DCNN_BN_LN_enc-4.log'"
      ]
     },
     "execution_count": 7,
     "metadata": {},
     "output_type": "execute_result"
    }
   ],
   "source": [
    "log_dev_fil_name"
   ]
  },
  {
   "cell_type": "code",
   "execution_count": 8,
   "metadata": {
    "collapsed": true
   },
   "outputs": [],
   "source": [
    "log_train = np.loadtxt(log_train_fil_name, delimiter=',', skiprows=False).transpose()\n",
    "log_test = np.genfromtxt(log_dev_fil_name, delimiter=',', usecols = (0,1,2)).transpose()"
   ]
  },
  {
   "cell_type": "code",
   "execution_count": 9,
   "metadata": {},
   "outputs": [
    {
     "data": {
      "image/png": "[encoded data removed]",
      "text/plain": [
       "<matplotlib.figure.Figure at 0x7fb9800c56d8>"
      ]
     },
     "metadata": {},
     "output_type": "display_data"
    }
   ],
   "source": [
    "fig, ax1 = plt.subplots()\n",
    "fig.set_size_inches(8,5)\n",
    "ax1.plot(log_train[0], log_train[1], color='#ff7700')\n",
    "ax1.plot(log_test[0], log_test[1], 'r--')\n",
    "ax1.set_xlabel('epoch', size=24)\n",
    "ax1.set_ylabel('loss', color='r', size=24)\n",
    "for tl in ax1.get_yticklabels():\n",
    "    tl.set_color('r')\n",
    "    tl.set_fontsize(18)\n",
    "plt.legend(['train loss', 'dev loss'], bbox_to_anchor=(1.45, 0.96), framealpha=0, fontsize=20)    \n",
    "ax2 = ax1.twinx()\n",
    "ax2.plot(log_test[0], log_test[2]*100, 'b-')\n",
    "ax2.set_xlabel('iteration')\n",
    "ax2.set_ylabel('dev bleu', color='b', size=24)\n",
    "# ax1.set_xlim(0, 60)\n",
    "for tl in ax2.get_yticklabels():\n",
    "    tl.set_color('b')\n",
    "    tl.set_fontsize(18) \n",
    "plt.legend(['dev bleu'], bbox_to_anchor=(1.44, 1.04), framealpha=0, fontsize=20)\n",
    "# plt.legend(['dev bleu'], bbox_to_anchor=(1.06, 0.9), framealpha=0, fontsize=20)\n",
    "plt.grid(False)\n",
    "plt.tight_layout()"
   ]
  },
  {
   "cell_type": "code",
   "execution_count": 10,
   "metadata": {
    "collapsed": true
   },
   "outputs": [],
   "source": [
    "import nltk.translate.bleu_score"
   ]
  },
  {
   "cell_type": "code",
   "execution_count": 11,
   "metadata": {
    "collapsed": true
   },
   "outputs": [],
   "source": [
    "def play_utt(utt, m_dict):\n",
    "    sr, y = scipy.io.wavfile.read(os.path.join(wavs_path, utt.rsplit(\"-\",1)[0]+'.wav'))\n",
    "    start_t = min(seg['start'] for seg in m_dict[utt]['seg'])\n",
    "    end_t = max(seg['end'] for seg in m_dict[utt]['seg'])\n",
    "    print(start_t, end_t)\n",
    "    start_t_samples, end_t_samples = int(start_t*sr), int(end_t*sr)\n",
    "    display(Audio(y[start_t_samples:end_t_samples], rate=sr))"
   ]
  },
  {
   "cell_type": "code",
   "execution_count": 12,
   "metadata": {
    "collapsed": true
   },
   "outputs": [],
   "source": [
    "def display_words(m_dict, v_dict, preds, utts, dec_key, key, min_len=0, max_len=MAX_EN_LEN, play_audio=False):\n",
    "    es_ref = []\n",
    "    en_ref = []\n",
    "    for u in utts:\n",
    "        es_ref.append(\" \".join([w.decode() for w in m_dict[u]['es_w']]))\n",
    "        if type(m_dict[u][dec_key]) == list:\n",
    "            en_ref.append(\" \".join([w.decode() for w in m_dict[u]['en_w']]))\n",
    "        else:\n",
    "            en_ref.append(\" \".join([w.decode() for w in m_dict[u]['en_w'][0]]))\n",
    "\n",
    "    en_pred = []\n",
    "    join_str = ' ' if dec_key.endswith('_w') else ''\n",
    "\n",
    "    for p in preds:\n",
    "        t_str = join_str.join([v_dict['i2w'][i].decode() for i in p])\n",
    "        t_str = t_str[:t_str.find('_EOS')]\n",
    "        en_pred.append(t_str)\n",
    "\n",
    "    for u, es, en, p in zip(utts, es_ref, en_ref, en_pred):\n",
    "        if len(en.split(\" \")) >= min_len and len(en.split(\" \")) <= max_len:\n",
    "            # for reference, 1st word is GO_ID, no need to display\n",
    "            print(\"Utterance: {0:s}\".format(u))\n",
    "            display_pp = PrettyTable([\"cat\",\"sent\"], hrules=True)\n",
    "            display_pp.align = \"l\"\n",
    "            display_pp.header = False\n",
    "            display_pp.add_row([\"es ref\", textwrap.fill(es,50)])\n",
    "            display_pp.add_row([\"en ref\", textwrap.fill(en,50)])\n",
    "            display_pp.add_row([\"en pred\", textwrap.fill(p,50)])\n",
    "\n",
    "            print(display_pp)\n",
    "            if play_audio:\n",
    "                play_utt(u, m_dict)\n",
    "    "
   ]
  },
  {
   "cell_type": "code",
   "execution_count": 13,
   "metadata": {
    "collapsed": true
   },
   "outputs": [],
   "source": [
    "def display_words_latex(m_dict, v_dict, preds, utts, dec_key, min_len=0, max_len=2*MAX_EN_LEN):\n",
    "    print(\"min length={0:d}, max length={1:d}\".format(min_len, max_len))\n",
    "    es_ref = []\n",
    "    en_ref = []\n",
    "    for u in utts:\n",
    "        es_ref.append(\" \".join([w.decode() for w in m_dict[u]['es_w']]))\n",
    "        if type(m_dict[u][dec_key]) == list:\n",
    "            en_ref.append(\" \".join([w.decode() for w in m_dict[u]['en_w']]))\n",
    "        else:\n",
    "            en_ref.append(\" \".join([w.decode() for w in m_dict[u]['en_w'][0]]))\n",
    "\n",
    "    en_pred = []\n",
    "    join_str = ' ' if dec_key.endswith('_w') else ''\n",
    "\n",
    "    for p in preds:\n",
    "        t_str = join_str.join([v_dict['i2w'][i].decode() for i in p])\n",
    "        t_str = t_str[:t_str.find('_EOS')]\n",
    "        en_pred.append(t_str)\n",
    "\n",
    "    total_matching_len = 0\n",
    "\n",
    "    for u, es, en, p in zip(utts, es_ref, en_ref, en_pred):\n",
    "        if len(es.split(\" \")) >= min_len and len(es.split(\" \")) <= max_len:\n",
    "            total_matching_len += 1\n",
    "            # for reference, 1st word is GO_ID, no need to display\n",
    "            print(\"Utterance: {0:s}\".format(u))\n",
    "            print(\"{0:d} & {1:s} & {2:s} & {3:s} \\\\\\\\\".format(total_matching_len, es, en, p))\n",
    "\n",
    "    print(\"total utts matching length filters={0:d}\".format(total_matching_len))"
   ]
  },
  {
   "cell_type": "code",
   "execution_count": 14,
   "metadata": {
    "collapsed": true
   },
   "outputs": [],
   "source": [
    "def write_predictions_to_file(m_dict, v_dict, preds, utts, dec_key, key, \n",
    "                              min_len=0, max_len=2*MAX_EN_LEN, stemmify=False):\n",
    "    print(\"min length={0:d}, max length={1:d}\".format(min_len, max_len))\n",
    "    en_hyp = []\n",
    "    en_ref = []\n",
    "    ref_key = 'en_w' if 'en_' in dec_key else 'es_w'\n",
    "    src_key = 'es_w'\n",
    "    \n",
    "#     if stemmify:\n",
    "#         stemmer = SnowballStemmer(\"english\")\n",
    "    \n",
    "    for u in tqdm(utts, ncols=80):\n",
    "        if len(m_dict[u][src_key]) >= min_len and len(m_dict[u][src_key]) <= max_len:\n",
    "            if type(m_dict[u][ref_key]) == list:\n",
    "                if stemmify:\n",
    "                    en_ref.append(\" \".join([stem(w.decode()) for w in m_dict[u]['en_w']]))\n",
    "                else:\n",
    "                    en_ref.append(\" \".join([w.decode() for w in m_dict[u]['en_w']]))\n",
    "            else:\n",
    "                en_r_list = []\n",
    "                for r in m_dict[u][ref_key]:\n",
    "                    if stemmify:\n",
    "                        en_r_list.append(\" \".join([stem(w.decode()) for w in r]))\n",
    "                    else:\n",
    "                        en_r_list.append(\" \".join([w.decode() for w in r]))\n",
    "                en_ref.append(en_r_list)\n",
    "\n",
    "    join_str = ' ' if dec_key.endswith('_w') else ''\n",
    "\n",
    "    total_matching_len = 0\n",
    "\n",
    "    for u, p in zip(utts, preds):\n",
    "        if len(m_dict[u][src_key]) >= min_len and len(m_dict[u][src_key]) <= max_len:\n",
    "            total_matching_len += 1\n",
    "            if stemmify:\n",
    "                t_str = join_str.join([stem(v_dict['i2w'][i].decode()) if i != EOS_ID else EOS.decode() for i in p])\n",
    "            else:\n",
    "                t_str = join_str.join([v_dict['i2w'][i].decode() for i in p])\n",
    "            t_str = t_str[:t_str.find('_EOS')]\n",
    "            en_hyp.append(t_str)\n",
    "\n",
    "\n",
    "    print(\"total utts matching length filters={0:d}\".format(total_matching_len))\n",
    "    \n",
    "    with open(\"{0:s}_mt-output\".format(key), \"w\") as pred_f:\n",
    "        for p in en_hyp:\n",
    "            pred_f.write(\"{0:s}\\n\".format(p))\n",
    "        # end for\n",
    "    # end while\n",
    "    \n",
    "    if type(m_dict[utts[0]][ref_key]) == list:\n",
    "        with open(\"{0:s}.ref0\".format(key), \"w\") as ref_f:\n",
    "            for r in en_ref:\n",
    "                ref_f.write(\"{0:s}\\n\".format(r))\n",
    "    else:\n",
    "        num_ref = len(m_dict[u][ref_key])\n",
    "        for i in range(num_ref):\n",
    "            with open(\"{0:s}_en.ref{1:d}\".format(key,i), \"w\") as ref_f:\n",
    "                for r in en_ref:\n",
    "                    ref_f.write(\"{0:s}\\n\".format(r[i]))\n",
    "                # end for each utt\n",
    "            # end with\n",
    "        # end for reference\n",
    "    # end else\n",
    "    print(\"done\")\n",
    "    return en_ref, en_hyp"
   ]
  },
  {
   "cell_type": "markdown",
   "metadata": {},
   "source": [
    "### Fisher dev"
   ]
  },
  {
   "cell_type": "code",
   "execution_count": 56,
   "metadata": {
    "collapsed": true
   },
   "outputs": [],
   "source": [
    "key='fisher_dev'\n",
    "train=False\n",
    "m_dict = map_dict[key]\n",
    "v_dict = vocab_dict[dec_key]\n",
    "n=len(map_dict[key])\n",
    "BATCH_SIZE = 50"
   ]
  },
  {
   "cell_type": "code",
   "execution_count": 17,
   "metadata": {
    "collapsed": true
   },
   "outputs": [],
   "source": [
    "cat_speech_path = os.path.join(out_path, key)\n",
    "wavs_path = os.path.join(out_path, \"wavs\")"
   ]
  },
  {
   "cell_type": "code",
   "execution_count": 18,
   "metadata": {},
   "outputs": [
    {
     "name": "stderr",
     "output_type": "stream",
     "text": [
      "\r",
      "  0%|                                                  | 0/3977 [00:00<?, ?it/s]"
     ]
    },
    {
     "name": "stdout",
     "output_type": "stream",
     "text": [
      "--------------------------------------------------------------------------------\n",
      "EPOCH = 152\n"
     ]
    },
    {
     "name": "stderr",
     "output_type": "stream",
     "text": [
      "b=6,l=4.79,avg=2.39: 100%|██████████████████| 3977/3977 [04:27<00:00,  5.82it/s]"
     ]
    },
    {
     "name": "stdout",
     "output_type": "stream",
     "text": [
      "********** dev mean loss=2.3869\n",
      "-\n",
      "--------------------------------------------------------------------------------\n"
     ]
    },
    {
     "name": "stderr",
     "output_type": "stream",
     "text": [
      "\n"
     ]
    }
   ],
   "source": [
    "print(\"-\"*80)\n",
    "print(\"EPOCH = {0:d}\".format(last_epoch+1))\n",
    "fsh_pred_sents, fsh_utts, loss = feed_model(map_dict[key],\n",
    "                  b_dict=bucket_dict[key],\n",
    "                  vocab_dict=vocab_dict,\n",
    "                  batch_size=BATCH_SIZE,\n",
    "                  x_key=enc_key,\n",
    "                  y_key=dec_key,\n",
    "                  train=train,\n",
    "                  cat_speech_path=cat_speech_path, use_y=True, mini=False)\n",
    "\n",
    "print(\"{0:s} {1:s} mean loss={2:.4f}\".format(\"*\" * 10,\n",
    "                                    \"train\" if train else \"dev\",\n",
    "                                    loss))\n",
    "print(\"-\")\n",
    "print(\"-\"*80)"
   ]
  },
  {
   "cell_type": "code",
   "execution_count": 150,
   "metadata": {
    "collapsed": true
   },
   "outputs": [],
   "source": [
    "# Eval parameters\n",
    "ref_index = -1\n",
    "min_len, max_len= 0, MAX_EN_LEN\n",
    "displayN = 50"
   ]
  },
  {
   "cell_type": "code",
   "execution_count": 151,
   "metadata": {},
   "outputs": [
    {
     "name": "stdout",
     "output_type": "stream",
     "text": [
      "Utterance: 20051017_220530_275_fsp-A-6\n",
      "+---------+------------------------+\n",
      "| es ref  | ¿ya eres papá otra vez |\n",
      "+---------+------------------------+\n",
      "| en ref  | you are a father again |\n",
      "+---------+------------------------+\n",
      "| en pred | are you already father |\n",
      "+---------+------------------------+\n",
      "Utterance: 20051022_180817_311_fsp-B-33\n",
      "+---------+---------+\n",
      "| es ref  | sí sí   |\n",
      "+---------+---------+\n",
      "| en ref  | yes yes |\n",
      "+---------+---------+\n",
      "| en pred | yes yes |\n",
      "+---------+---------+\n",
      "Utterance: 20051023_232057_325_fsp-B-91\n",
      "+---------+-----+\n",
      "| es ref  | ajá |\n",
      "+---------+-----+\n",
      "| en ref  | aha |\n",
      "+---------+-----+\n",
      "| en pred | aha |\n",
      "+---------+-----+\n",
      "Utterance: 20051017_234550_276_fsp-A-1\n",
      "+---------+-----------------+\n",
      "| es ref  | ¡ buenas noches |\n",
      "+---------+-----------------+\n",
      "| en ref  | good night      |\n",
      "+---------+-----------------+\n",
      "| en pred | good evening    |\n",
      "+---------+-----------------+\n",
      "Utterance: 20051024_181110_329_fsp-B-100\n",
      "+---------+-------------+\n",
      "| es ref  | pero sí sí  |\n",
      "+---------+-------------+\n",
      "| en ref  | but yes yes |\n",
      "+---------+-------------+\n",
      "| en pred | no yes yes  |\n",
      "+---------+-------------+\n",
      "Utterance: 20051017_180712_270_fsp-A-41\n",
      "+---------+------------------------+\n",
      "| es ref  | ella misma se tu sabes |\n",
      "+---------+------------------------+\n",
      "| en ref  | she herself you know   |\n",
      "+---------+------------------------+\n",
      "| en pred | in the same you know   |\n",
      "+---------+------------------------+\n",
      "Utterance: 20051024_181110_329_fsp-A-34\n",
      "+---------+---------+\n",
      "| es ref  | mhm mhm |\n",
      "+---------+---------+\n",
      "| en ref  | mhm mhm |\n",
      "+---------+---------+\n",
      "| en pred | mhm mhm |\n",
      "+---------+---------+\n",
      "Utterance: 20051009_182032_217_fsp-B-146\n",
      "+---------+---------------------+\n",
      "| es ref  | sábado y domingo    |\n",
      "+---------+---------------------+\n",
      "| en ref  | saturday and sunday |\n",
      "+---------+---------------------+\n",
      "| en pred | saturday sunday     |\n",
      "+---------+---------------------+\n",
      "Utterance: 20051017_234550_276_fsp-A-59\n",
      "+---------+--------------------------------+\n",
      "| es ref  | y es música en español         |\n",
      "+---------+--------------------------------+\n",
      "| en ref  | and it s music in spanish      |\n",
      "+---------+--------------------------------+\n",
      "| en pred | and and is it that they depend |\n",
      "+---------+--------------------------------+\n",
      "Utterance: 20051025_212334_337_fsp-A-97\n",
      "+---------+----------+\n",
      "| es ref  | sí es    |\n",
      "+---------+----------+\n",
      "| en ref  | yes is   |\n",
      "+---------+----------+\n",
      "| en pred | yes okay |\n",
      "+---------+----------+\n",
      "Utterance: 20051024_180453_327_fsp-A-35\n",
      "+---------+---------------+\n",
      "| es ref  | hoy pobre     |\n",
      "+---------+---------------+\n",
      "| en ref  | ouch poor guy |\n",
      "+---------+---------------+\n",
      "| en pred | oh poor       |\n",
      "+---------+---------------+\n",
      "Utterance: 20051026_180724_341_fsp-B-24\n",
      "+---------+------------------------------+\n",
      "| es ref  | y um lo las han dejado       |\n",
      "+---------+------------------------------+\n",
      "| en ref  | and well they have dump they |\n",
      "+---------+------------------------------+\n",
      "| en pred | and um the the               |\n",
      "+---------+------------------------------+\n",
      "Utterance: 20051017_220530_275_fsp-B-7\n",
      "+---------+------------------------+\n",
      "| es ref  | no todo estuvo bien    |\n",
      "+---------+------------------------+\n",
      "| en ref  | no everything was good |\n",
      "+---------+------------------------+\n",
      "| en pred | no everything is fine  |\n",
      "+---------+------------------------+\n",
      "Utterance: 20051025_212334_337_fsp-A-48\n",
      "+---------+----+\n",
      "| es ref  | oh |\n",
      "+---------+----+\n",
      "| en ref  | oh |\n",
      "+---------+----+\n",
      "| en pred | oh |\n",
      "+---------+----+\n",
      "Utterance: 20051024_181110_329_fsp-A-52\n",
      "+---------+--------------------+\n",
      "| es ref  | sí sí sí mm        |\n",
      "+---------+--------------------+\n",
      "| en ref  | yeah yeah yeah mhm |\n",
      "+---------+--------------------+\n",
      "| en pred | yes yes mm         |\n",
      "+---------+--------------------+\n",
      "Utterance: 20051019_210146_289_fsp-A-64\n",
      "+---------+--------------------------------+\n",
      "| es ref  | super caliente pero muy bonito |\n",
      "+---------+--------------------------------+\n",
      "| en ref  | super hot but very pretty      |\n",
      "+---------+--------------------------------+\n",
      "| en pred | yes super hot but very nice    |\n",
      "+---------+--------------------------------+\n",
      "Utterance: 20051019_210146_289_fsp-B-66\n",
      "+---------+-------+\n",
      "| es ref  | ya    |\n",
      "+---------+-------+\n",
      "| en ref  | i see |\n",
      "+---------+-------+\n",
      "| en pred | okay  |\n",
      "+---------+-------+\n",
      "Utterance: 20051019_230329_292_fsp-B-18\n",
      "+---------+---------------------------------------+\n",
      "| es ref  | ¿y cómo vino a parar en idaho         |\n",
      "+---------+---------------------------------------+\n",
      "| en ref  | and how did you come to stay in idaho |\n",
      "+---------+---------------------------------------+\n",
      "| en pred | and how did you come to idaho         |\n",
      "+---------+---------------------------------------+\n",
      "Utterance: 20051017_180712_270_fsp-A-80\n",
      "+---------+-----------+\n",
      "| es ref  | pero tam- |\n",
      "+---------+-----------+\n",
      "| en ref  | but       |\n",
      "+---------+-----------+\n",
      "| en pred | but also  |\n",
      "+---------+-----------+\n",
      "Utterance: 20051019_210146_289_fsp-B-109\n",
      "+---------+------------+\n",
      "| es ref  | ¿en españa |\n",
      "+---------+------------+\n",
      "| en ref  | in spain   |\n",
      "+---------+------------+\n",
      "| en pred | in spain   |\n",
      "+---------+------------+\n",
      "Utterance: 20051023_232057_325_fsp-B-59\n",
      "+---------+------------------------------+\n",
      "| es ref  | tu tienes que estar cerca de |\n",
      "+---------+------------------------------+\n",
      "| en ref  | you have to be close to      |\n",
      "+---------+------------------------------+\n",
      "| en pred | you have to be close to      |\n",
      "+---------+------------------------------+\n",
      "Utterance: 20051022_180817_311_fsp-B-43\n",
      "+---------+-------------+\n",
      "| es ref  | sí ja       |\n",
      "+---------+-------------+\n",
      "| en ref  | yes already |\n",
      "+---------+-------------+\n",
      "| en pred | yes         |\n",
      "+---------+-------------+\n",
      "Utterance: 20051017_220530_275_fsp-B-17\n",
      "+---------+------------------+\n",
      "| es ref  | así es           |\n",
      "+---------+------------------+\n",
      "| en ref  | that s how it is |\n",
      "+---------+------------------+\n",
      "| en pred | yes it is        |\n",
      "+---------+------------------+\n",
      "Utterance: 20051018_210744_280_fsp-A-53\n",
      "+---------+--------+\n",
      "| es ref  | oh wow |\n",
      "+---------+--------+\n",
      "| en ref  | oh wow |\n",
      "+---------+--------+\n",
      "| en pred | oh wow |\n",
      "+---------+--------+\n",
      "Utterance: 20051009_182032_217_fsp-A-110\n",
      "+---------+--------+\n",
      "| es ref  | ah sí  |\n",
      "+---------+--------+\n",
      "| en ref  | ah yes |\n",
      "+---------+--------+\n",
      "| en pred | oh yes |\n",
      "+---------+--------+\n",
      "Utterance: 20051019_190221_288_fsp-B-89\n",
      "+---------+---------+\n",
      "| es ref  | fíjate  |\n",
      "+---------+---------+\n",
      "| en ref  | you see |\n",
      "+---------+---------+\n",
      "| en pred | yes     |\n",
      "+---------+---------+\n",
      "Utterance: 20051019_230329_292_fsp-A-57\n",
      "+---------+-------------------+\n",
      "| es ref  | muchos bosques no |\n",
      "+---------+-------------------+\n",
      "| en ref  | many woods no     |\n",
      "+---------+-------------------+\n",
      "| en pred | many rock right   |\n",
      "+---------+-------------------+\n",
      "Utterance: 20051017_234550_276_fsp-A-6\n",
      "+---------+---------------------------+\n",
      "| es ref  | ¿ y qué hora es allá      |\n",
      "+---------+---------------------------+\n",
      "| en ref  | and what time is it there |\n",
      "+---------+---------------------------+\n",
      "| en pred | and i want to go          |\n",
      "+---------+---------------------------+\n",
      "Utterance: 20051017_180712_270_fsp-B-34\n",
      "+---------+-------+\n",
      "| es ref  | hm mm |\n",
      "+---------+-------+\n",
      "| en ref  | hmm   |\n",
      "+---------+-------+\n",
      "| en pred | hm mm |\n",
      "+---------+-------+\n",
      "Utterance: 20051019_210146_289_fsp-B-65\n",
      "+---------+----------------+\n",
      "| es ref  | super caliente |\n",
      "+---------+----------------+\n",
      "| en ref  | super hot      |\n",
      "+---------+----------------+\n",
      "| en pred | you super hot  |\n",
      "+---------+----------------+\n",
      "Utterance: 20051009_210519_219_fsp-B-5\n",
      "+---------+----+\n",
      "| es ref  | hm |\n",
      "+---------+----+\n",
      "| en ref  | hm |\n",
      "+---------+----+\n",
      "| en pred | mm |\n",
      "+---------+----+\n",
      "Utterance: 20051017_180712_270_fsp-A-48\n",
      "+---------+----------------------------+\n",
      "| es ref  | tiene como eh audífono     |\n",
      "+---------+----------------------------+\n",
      "| en ref  | it has like uh an earphone |\n",
      "+---------+----------------------------+\n",
      "| en pred | and it has like uh no      |\n",
      "+---------+----------------------------+\n",
      "Utterance: 20051010_212418_225_fsp-A-33\n",
      "+---------+--------+\n",
      "| es ref  | mhm sí |\n",
      "+---------+--------+\n",
      "| en ref  | mm yes |\n",
      "+---------+--------+\n",
      "| en pred | mm yes |\n",
      "+---------+--------+\n",
      "Utterance: 20051024_180453_327_fsp-B-6\n",
      "+---------+------------------+\n",
      "| es ref  | bien ¿y tu       |\n",
      "+---------+------------------+\n",
      "| en ref  | good and you     |\n",
      "+---------+------------------+\n",
      "| en pred | hmm good and you |\n",
      "+---------+------------------+\n",
      "Utterance: 20051026_180724_341_fsp-B-12\n",
      "+---------+------------+\n",
      "| es ref  | somos sí   |\n",
      "+---------+------------+\n",
      "| en ref  | we are yes |\n",
      "+---------+------------+\n",
      "| en pred | like yes   |\n",
      "+---------+------------+\n",
      "Utterance: 20051018_210744_280_fsp-A-31\n",
      "+---------+------+\n",
      "| es ref  | yeah |\n",
      "+---------+------+\n",
      "| en ref  | yeah |\n",
      "+---------+------+\n",
      "| en pred | yeah |\n",
      "+---------+------+\n",
      "Utterance: 20051016_180547_265_fsp-A-4\n",
      "+---------+---------+\n",
      "| es ref  | jaaaaaa |\n",
      "+---------+---------+\n",
      "| en ref  | haaa    |\n",
      "+---------+---------+\n",
      "| en pred | aha     |\n",
      "+---------+---------+\n",
      "Utterance: 20051009_210519_219_fsp-A-61\n",
      "+---------+--------------------------+\n",
      "| es ref  | está relacionado con eso |\n",
      "+---------+--------------------------+\n",
      "| en ref  | it is related with that  |\n",
      "+---------+--------------------------+\n",
      "| en pred | he related to with with  |\n",
      "+---------+--------------------------+\n",
      "Utterance: 20051016_180547_265_fsp-B-46\n",
      "+---------+---------+\n",
      "| es ref  | eh sí   |\n",
      "+---------+---------+\n",
      "| en ref  | eh yes  |\n",
      "+---------+---------+\n",
      "| en pred | yes yes |\n",
      "+---------+---------+\n",
      "Utterance: 20051019_210146_289_fsp-B-15\n",
      "+---------+---------+\n",
      "| es ref  | mhm sí  |\n",
      "+---------+---------+\n",
      "| en ref  | mhm yes |\n",
      "+---------+---------+\n",
      "| en pred | mhm yes |\n",
      "+---------+---------+\n",
      "Utterance: 20051026_180724_341_fsp-B-113\n",
      "+---------+-----------------------+\n",
      "| es ref  | i was like oh oh well |\n",
      "+---------+-----------------------+\n",
      "| en ref  | i was like oh oh well |\n",
      "+---------+-----------------------+\n",
      "| en pred | jose or               |\n",
      "+---------+-----------------------+\n",
      "Utterance: 20051009_182032_217_fsp-B-54\n",
      "+---------+--------------------------------------+\n",
      "| es ref  | entonces él dice que eso no es bueno |\n",
      "+---------+--------------------------------------+\n",
      "| en ref  | well he says that this isn t good    |\n",
      "+---------+--------------------------------------+\n",
      "| en pred | so he says that that s good          |\n",
      "+---------+--------------------------------------+\n",
      "Utterance: 20051019_190221_288_fsp-A-54\n",
      "+---------+------------------------------+\n",
      "| es ref  | no no dímelo lo que ibas     |\n",
      "+---------+------------------------------+\n",
      "| en ref  | no no you tell               |\n",
      "+---------+------------------------------+\n",
      "| en pred | no no tell me that you don t |\n",
      "+---------+------------------------------+\n",
      "Utterance: 20051024_180453_327_fsp-B-52\n",
      "+---------+-----------+\n",
      "| es ref  | uhum uhum |\n",
      "+---------+-----------+\n",
      "| en ref  | uhum uhum |\n",
      "+---------+-----------+\n",
      "| en pred | mm mm     |\n",
      "+---------+-----------+\n",
      "Utterance: 20051018_210744_280_fsp-A-14\n",
      "+---------+---------+\n",
      "| es ref  | oh yeah |\n",
      "+---------+---------+\n",
      "| en ref  | oh yea  |\n",
      "+---------+---------+\n",
      "| en pred | oh yeah |\n",
      "+---------+---------+\n",
      "Utterance: 20051017_180712_270_fsp-B-16\n",
      "+---------+--------------------------+\n",
      "| es ref  | oh sí okay entiendo      |\n",
      "+---------+--------------------------+\n",
      "| en ref  | oh yeah ok i understand  |\n",
      "+---------+--------------------------+\n",
      "| en pred | oh yes okay i understand |\n",
      "+---------+--------------------------+\n",
      "Utterance: 20051017_234550_276_fsp-B-42\n",
      "+---------+---------------------------------+\n",
      "| es ref  | en el dos mil cuatro vino elvis |\n",
      "+---------+---------------------------------+\n",
      "| en ref  | in two thousand four elvis came |\n",
      "+---------+---------------------------------+\n",
      "| en pred | in two thousand minutes he came |\n",
      "+---------+---------------------------------+\n",
      "Utterance: 20051019_210146_289_fsp-A-40\n",
      "+---------+--------------------------+\n",
      "| es ref  | sí estás cerca de alaska |\n",
      "+---------+--------------------------+\n",
      "| en ref  | yes you re near alaska   |\n",
      "+---------+--------------------------+\n",
      "| en pred | yes near the city        |\n",
      "+---------+--------------------------+\n",
      "Utterance: 20051018_210220_279_fsp-A-49\n",
      "+---------+-----+\n",
      "| es ref  | ajá |\n",
      "+---------+-----+\n",
      "| en ref  | aha |\n",
      "+---------+-----+\n",
      "| en pred | aha |\n",
      "+---------+-----+\n",
      "Utterance: 20051024_180453_327_fsp-A-28\n",
      "+---------+-------------+\n",
      "| es ref  | odale ajá   |\n",
      "+---------+-------------+\n",
      "| en ref  | wow aha     |\n",
      "+---------+-------------+\n",
      "| en pred | alright aha |\n",
      "+---------+-------------+\n"
     ]
    }
   ],
   "source": [
    "display_words(m_dict, v_dict, fsh_pred_sents[:displayN], fsh_utts[:displayN], \n",
    "              dec_key, key, min_len=min_len, max_len=max_len, play_audio=False)"
   ]
  },
  {
   "cell_type": "code",
   "execution_count": 152,
   "metadata": {
    "collapsed": true
   },
   "outputs": [],
   "source": [
    "os.chdir(\"..\")\n",
    "os.chdir(\"/afs/inf.ed.ac.uk/group/project/lowres/work/chainer2/speech2text\")"
   ]
  },
  {
   "cell_type": "code",
   "execution_count": 153,
   "metadata": {},
   "outputs": [
    {
     "name": "stderr",
     "output_type": "stream",
     "text": [
      "100%|████████████████████████████████████| 3977/3977 [00:00<00:00, 42300.74it/s]"
     ]
    },
    {
     "name": "stdout",
     "output_type": "stream",
     "text": [
      "min length=0, max length=120\n",
      "total utts matching length filters=3977\n"
     ]
    },
    {
     "name": "stderr",
     "output_type": "stream",
     "text": [
      "\n"
     ]
    },
    {
     "name": "stdout",
     "output_type": "stream",
     "text": [
      "BLEU score on: fisher_dev = 29.02\n",
      "------------------------------------------------------------\n"
     ]
    }
   ],
   "source": [
    "b, chrf, h, r = calc_bleu(m_dict, \n",
    "                              v_dict, \n",
    "                              fsh_pred_sents, \n",
    "                              fsh_utts, \n",
    "                              dec_key, \n",
    "                              min_len=min_len, \n",
    "                              max_len=max_len, \n",
    "                              ref_index=ref_index)\n",
    "\n",
    "print(\"BLEU score on: {0:s} = {1:.2f}\".format(key, b * 100))\n",
    "print(\"-\"*60)\n",
    "\n",
    "# chrf = [0]*4\n",
    "\n",
    "# for ref_i in range(4):\n",
    "#     _, chrf[ref_i], _, _ = calc_bleu(m_dict, \n",
    "#                               v_dict, \n",
    "#                               fsh_pred_sents[:n], \n",
    "#                               fsh_utts[:n], \n",
    "#                               dec_key, \n",
    "#                               min_len=min_len, \n",
    "#                               max_len=max_len, \n",
    "#                               ref_index=ref_i)\n",
    "#     # end for\n",
    "\n",
    "# # print chrf score\n",
    "# for i in range(4):\n",
    "#     print(\"CHRF score on: {0:s} = {1:.2f}, using reference = {2:d}\".format(key, chrf[i] * 100, i))\n",
    "\n",
    "# print(\"-\"*60)\n",
    "\n",
    "all_weights=[(1.,0.,0.,0.),\n",
    "             (0.,1.,0.,0.),\n",
    "             (0.,0.,1.,0.),\n",
    "             (0.,0.,0.,1.),\n",
    "             (1./2,1./2,0.,0.),\n",
    "             (1./3,1./3,1./3,0.),\n",
    "             (.25,.25,.25,.25)]"
   ]
  },
  {
   "cell_type": "code",
   "execution_count": 154,
   "metadata": {
    "collapsed": true
   },
   "outputs": [],
   "source": [
    "# list(zip(h,r[:5]))"
   ]
  },
  {
   "cell_type": "code",
   "execution_count": 155,
   "metadata": {
    "collapsed": true
   },
   "outputs": [],
   "source": [
    "smooth_fun = nltk.translate.bleu_score.SmoothingFunction()"
   ]
  },
  {
   "cell_type": "code",
   "execution_count": 156,
   "metadata": {
    "collapsed": true
   },
   "outputs": [],
   "source": [
    "# print(\"{0:>20s} | {1:20s}\".format(\"bleu score (0-100)\", \"uni-bi-tri-quad\"))\n",
    "# for weights in all_weights:\n",
    "#     b = corpus_bleu(r, h, weights=weights, smoothing_function=smooth_fun.method2)\n",
    "#     print(\"{0:20.2f} | {1:20s}\".format(b * 100, \"-\".join(map(\"{0:.2f}\".format, weights))))"
   ]
  },
  {
   "cell_type": "code",
   "execution_count": 157,
   "metadata": {},
   "outputs": [
    {
     "name": "stdout",
     "output_type": "stream",
     "text": [
      "min length=0, max length=240\n",
      "total utts=3977\n",
      "metric     |   1-gram |   2-gram|   3-gram |   4-gram\n",
      "------------------------------------------------------\n",
      "precision  |    64.50 |    37.33|    22.19 |    13.39\n",
      "recall     |    62.44 |    36.08|    21.42 |    12.90\n"
     ]
    }
   ],
   "source": [
    "_, _ = corpus_precision_recall(r, h)"
   ]
  },
  {
   "cell_type": "code",
   "execution_count": 158,
   "metadata": {
    "collapsed": true
   },
   "outputs": [],
   "source": [
    "pred_path = \"/afs/inf.ed.ac.uk/group/project/lowres/work/installs/fisher-callhome-corpus/corpus/ldc\"\n",
    "pred_fname = os.path.join(pred_path, \"fisher_dev.pred\")"
   ]
  },
  {
   "cell_type": "code",
   "execution_count": 159,
   "metadata": {},
   "outputs": [
    {
     "name": "stderr",
     "output_type": "stream",
     "text": [
      "100%|████████████████████████████████████| 3977/3977 [00:00<00:00, 45430.21it/s]"
     ]
    },
    {
     "name": "stdout",
     "output_type": "stream",
     "text": [
      "min length=0, max length=120\n",
      "total utts matching length filters=3977\n"
     ]
    },
    {
     "name": "stderr",
     "output_type": "stream",
     "text": [
      "\n"
     ]
    },
    {
     "name": "stdout",
     "output_type": "stream",
     "text": [
      "done\n"
     ]
    }
   ],
   "source": [
    "en_ref, en_hyp = write_predictions_to_file(m_dict, v_dict, fsh_pred_sents, fsh_utts, \n",
    "                                           dec_key, key, min_len=min_len, max_len=max_len, stemmify=False)"
   ]
  },
  {
   "cell_type": "code",
   "execution_count": 160,
   "metadata": {},
   "outputs": [
    {
     "data": {
      "text/plain": [
       "'tion'"
      ]
     },
     "execution_count": 160,
     "metadata": {},
     "output_type": "execute_result"
    }
   ],
   "source": [
    "stem('tion')"
   ]
  },
  {
   "cell_type": "code",
   "execution_count": 161,
   "metadata": {},
   "outputs": [
    {
     "data": {
      "text/plain": [
       "(3977, 3977)"
      ]
     },
     "execution_count": 161,
     "metadata": {},
     "output_type": "execute_result"
    }
   ],
   "source": [
    "len(en_ref),len(en_hyp)"
   ]
  },
  {
   "cell_type": "markdown",
   "metadata": {},
   "source": [
    "### Callhome dev"
   ]
  },
  {
   "cell_type": "code",
   "execution_count": null,
   "metadata": {
    "collapsed": true
   },
   "outputs": [],
   "source": [
    "key='callhome_devtest'\n",
    "train=False\n",
    "m_dict = map_dict[key]\n",
    "v_dict = vocab_dict[dec_key]\n",
    "n=len(map_dict[key])\n",
    "BATCH_SIZE = 32"
   ]
  },
  {
   "cell_type": "code",
   "execution_count": null,
   "metadata": {
    "collapsed": true
   },
   "outputs": [],
   "source": [
    "cat_speech_path = os.path.join(out_path, key)"
   ]
  },
  {
   "cell_type": "code",
   "execution_count": null,
   "metadata": {
    "collapsed": true
   },
   "outputs": [],
   "source": [
    "print(\"-\"*80)\n",
    "print(\"EPOCH = {0:d}\".format(last_epoch+1))\n",
    "call_pred_sents, call_utts, loss = feed_model(map_dict[key],\n",
    "                  b_dict=bucket_dict[key],\n",
    "                  vocab_dict=vocab_dict,\n",
    "                  batch_size=BATCH_SIZE,\n",
    "                  x_key=enc_key,\n",
    "                  y_key=dec_key,\n",
    "                  train=train,\n",
    "                  cat_speech_path=cat_speech_path, use_y=True)\n",
    "\n",
    "print(\"{0:s} {1:s} mean loss={2:.4f}\".format(\"*\" * 10,\n",
    "                                    \"train\" if train else \"dev\",\n",
    "                                    loss))\n",
    "print(\"-\")\n",
    "print(\"-\"*80)"
   ]
  },
  {
   "cell_type": "code",
   "execution_count": null,
   "metadata": {
    "collapsed": true
   },
   "outputs": [],
   "source": [
    "display_words(m_dict, v_dict, call_pred_sents[:displayN], call_utts[:displayN],\n",
    "              dec_key, key, min_len=min_len, max_len=max_len, play_audio=False)"
   ]
  },
  {
   "cell_type": "code",
   "execution_count": null,
   "metadata": {
    "collapsed": true
   },
   "outputs": [],
   "source": [
    "b, _, h, r = calc_bleu(m_dict, \n",
    "                              v_dict, \n",
    "                              call_pred_sents, \n",
    "                              call_utts, \n",
    "                              dec_key, \n",
    "                              min_len=min_len, \n",
    "                              max_len=max_len, \n",
    "                              ref_index=ref_index)\n",
    "\n",
    "print(\"BLEU score on: {0:s} = {1:.2f}\".format(key, b * 100))\n",
    "print(\"-\"*60)\n",
    "\n",
    "all_weights=[(1.,0.,0.,0.),\n",
    "             (0.,1.,0.,0.),\n",
    "             (0.,0.,1.,0.),\n",
    "             (0.,0.,0.,1.),\n",
    "             (1./2,1./2,0.,0.),\n",
    "             (1./3,1./3,1./3,0.),\n",
    "             (.25,.25,.25,.25)]"
   ]
  },
  {
   "cell_type": "code",
   "execution_count": null,
   "metadata": {
    "collapsed": true
   },
   "outputs": [],
   "source": [
    "smooth_fun = nltk.translate.bleu_score.SmoothingFunction()"
   ]
  },
  {
   "cell_type": "code",
   "execution_count": null,
   "metadata": {
    "collapsed": true
   },
   "outputs": [],
   "source": [
    "print(\"{0:>20s} | {1:20s}\".format(\"bleu score (0-100)\", \"uni-bi-tri-quad\"))\n",
    "for weights in all_weights:\n",
    "    b = corpus_bleu(r, h, weights=weights, smoothing_function=smooth_fun.method2)\n",
    "    print(\"{0:20.2f} | {1:20s}\".format(b * 100, \"-\".join(map(\"{0:.2f}\".format, weights))))"
   ]
  },
  {
   "cell_type": "code",
   "execution_count": null,
   "metadata": {
    "collapsed": true
   },
   "outputs": [],
   "source": [
    "_, _ = corpus_precision_recall(r, h)"
   ]
  },
  {
   "cell_type": "code",
   "execution_count": null,
   "metadata": {
    "collapsed": true
   },
   "outputs": [],
   "source": [
    "call_en_ref, call_en_hyp = write_predictions_to_file(m_dict, v_dict, call_pred_sents, call_utts, \n",
    "                                                     dec_key, key, min_len=min_len, max_len=max_len, stemmify=False)"
   ]
  },
  {
   "cell_type": "code",
   "execution_count": null,
   "metadata": {
    "collapsed": true
   },
   "outputs": [],
   "source": [
    "len(call_en_ref),len(call_en_hyp)"
   ]
  },
  {
   "cell_type": "markdown",
   "metadata": {},
   "source": [
    "### Google metrics"
   ]
  },
  {
   "cell_type": "code",
   "execution_count": 162,
   "metadata": {
    "collapsed": true
   },
   "outputs": [],
   "source": [
    "google_s2t_path_hyps = \"./google-s2t/e2e_ast_decode/hyps/fisher_dev/\"\n",
    "google_s2t_path_refs = \"./google-s2t/e2e_ast_decode/refs/fisher_dev/\""
   ]
  },
  {
   "cell_type": "code",
   "execution_count": 163,
   "metadata": {
    "collapsed": true
   },
   "outputs": [],
   "source": [
    "ref_lines = []\n",
    "for fname in os.listdir(google_s2t_path_refs):\n",
    "    with open(os.path.join(google_s2t_path_refs,fname), \"r\") as in_f:\n",
    "        ref_lines.append([line.rstrip('\\n').split() for line in in_f])"
   ]
  },
  {
   "cell_type": "code",
   "execution_count": 164,
   "metadata": {
    "collapsed": true
   },
   "outputs": [],
   "source": [
    "with open(os.path.join(google_s2t_path_hyps,'fisher_spa_eng_ast_003_base_r0.txt'), \"r\") as in_f:\n",
    "    hyps = list(line.rstrip('\\n').split() for line in in_f)"
   ]
  },
  {
   "cell_type": "code",
   "execution_count": 165,
   "metadata": {
    "collapsed": true
   },
   "outputs": [],
   "source": [
    "refs = []\n",
    "for i in range(len(ref_lines[0])):\n",
    "    refs.append([ref_lines[0][i], ref_lines[1][i], ref_lines[2][i], ref_lines[3][i]])"
   ]
  },
  {
   "cell_type": "code",
   "execution_count": 166,
   "metadata": {},
   "outputs": [
    {
     "data": {
      "text/plain": [
       "0.4520259607446546"
      ]
     },
     "execution_count": 166,
     "metadata": {},
     "output_type": "execute_result"
    }
   ],
   "source": [
    "corpus_bleu(refs, hyps)"
   ]
  },
  {
   "cell_type": "code",
   "execution_count": 167,
   "metadata": {},
   "outputs": [
    {
     "name": "stdout",
     "output_type": "stream",
     "text": [
      "chrf score using ref:1 = 0.667\n",
      "chrf score using ref:2 = 0.637\n",
      "chrf score using ref:3 = 0.622\n",
      "chrf score using ref:4 = 0.592\n"
     ]
    }
   ],
   "source": [
    "for i in range(len(refs[0])):\n",
    "    print(\"chrf score using ref:{0:d} = {1:5.3f}\".format(i+1, corpus_chrf([ref[i] for ref in refs], hyps)))"
   ]
  },
  {
   "cell_type": "code",
   "execution_count": 168,
   "metadata": {},
   "outputs": [
    {
     "name": "stdout",
     "output_type": "stream",
     "text": [
      "chrf score using ref:1 = 0.381\n",
      "chrf score using ref:2 = 0.444\n",
      "chrf score using ref:3 = 0.372\n",
      "chrf score using ref:4 = 0.373\n"
     ]
    }
   ],
   "source": [
    "for i in range(len(r[0])):\n",
    "    print(\"chrf score using ref:{0:d} = {1:5.3f}\".format(i+1, corpus_chrf([x[i] for x in r], h)))"
   ]
  },
  {
   "cell_type": "code",
   "execution_count": 169,
   "metadata": {},
   "outputs": [
    {
     "name": "stdout",
     "output_type": "stream",
     "text": [
      "min length=0, max length=240\n",
      "total utts=3979\n",
      "metric     |   1-gram |   2-gram|   3-gram |   4-gram\n",
      "------------------------------------------------------\n",
      "precision  |    76.60 |    53.98|    38.00 |    26.57\n",
      "recall     |    76.08 |    53.60|    37.72 |    26.37\n"
     ]
    }
   ],
   "source": [
    "_, _ = corpus_precision_recall(refs, hyps)"
   ]
  },
  {
   "cell_type": "code",
   "execution_count": 170,
   "metadata": {},
   "outputs": [
    {
     "name": "stdout",
     "output_type": "stream",
     "text": [
      "min length=0, max length=240\n",
      "total utts=3977\n",
      "metric     |   1-gram |   2-gram|   3-gram |   4-gram\n",
      "------------------------------------------------------\n",
      "precision  |    64.50 |    37.33|    22.19 |    13.39\n",
      "recall     |    62.44 |    36.08|    21.42 |    12.90\n"
     ]
    }
   ],
   "source": [
    "_, _ = corpus_precision_recall(r, h)"
   ]
  },
  {
   "cell_type": "markdown",
   "metadata": {},
   "source": [
    "### Prep Google data"
   ]
  },
  {
   "cell_type": "code",
   "execution_count": 171,
   "metadata": {
    "collapsed": true
   },
   "outputs": [],
   "source": [
    "kaldi_segment_map_path = os.path.join(out_path,'kaldi_segment_map.dict')\n",
    "rev_map_dict_path = os.path.join(out_path,'rev_map.dict')\n",
    "kaldi_segment_map = pickle.load(open(kaldi_segment_map_path, \"rb\"))\n",
    "rev_map_dict = pickle.load(open(rev_map_dict_path, \"rb\"))\n",
    "\n",
    "\n",
    "google_s2t_path_mapping = \"./google-s2t/e2e_ast_decode/mapping/fisher_dev/\"\n",
    "google_s2t_ref0 = os.path.join(google_s2t_path_mapping, \"sorted-normalized-fisher_dev.en.0.mapping\")\n",
    "\n",
    "google_s2t_map_path = os.path.join(out_path, \"google_s2t_map.dict\")\n",
    "google_s2t_rev_map_path = os.path.join(out_path, \"google_s2t_rev_map.dict\")\n",
    "google_s2t_refs_path = os.path.join(out_path, \"google_s2t_refs.dict\")\n",
    "google_s2t_hyps_path = os.path.join(out_path, \"google_s2t_hyps.dict\")"
   ]
  },
  {
   "cell_type": "code",
   "execution_count": 172,
   "metadata": {
    "collapsed": true
   },
   "outputs": [],
   "source": [
    "def prep_google_data():\n",
    "\n",
    "    google_s2t_map = {}\n",
    "    google_s2t_rev_map = {}\n",
    "\n",
    "    r_m_dict = rev_map_dict['fisher_dev']\n",
    "    with open(google_s2t_ref0, \"r\") as in_f:\n",
    "        for i, line in enumerate(in_f, start=1):\n",
    "            wav_f = line.split(\".wav\")[0].replace(\"fisher_dev/\", \"\")\n",
    "            key_1 = wav_f[:wav_f.find(\"_fsp\")+len(\"_fsp\")]\n",
    "            key_2 = wav_f.rsplit(\"_fsp\",1)[1].split(\"_\")[0]\n",
    "            google_s2t_map[i] = r_m_dict[key_1+key_2]\n",
    "            google_s2t_rev_map[r_m_dict[key_1+key_2]] = i\n",
    "        # end for\n",
    "    # end with\n",
    "    pickle.dump(google_s2t_map, open(google_s2t_map_path, \"wb\"))\n",
    "    pickle.dump(google_s2t_rev_map, open(google_s2t_rev_map_path, \"wb\"))\n",
    "    \n",
    "    google_s2t_refs = {}\n",
    "    for fname in os.listdir(google_s2t_path_refs):\n",
    "        with open(os.path.join(google_s2t_path_refs,fname), \"r\") as in_f:\n",
    "            f_key = fname.rsplit(\"-\",1)[-1].replace(\".en.\",\"_ref_\")\n",
    "            google_s2t_refs[f_key] = {}\n",
    "            for i, line in enumerate(in_f, start=1):\n",
    "                utt_key = google_s2t_map[i]\n",
    "                google_s2t_refs[f_key][utt_key] = line.rstrip('\\n').split()\n",
    "            # end for\n",
    "        # end with\n",
    "    # end for\n",
    "    pickle.dump(google_s2t_refs, open(google_s2t_refs_path, \"wb\"))\n",
    "    \n",
    "    google_s2t_hyps = {}\n",
    "    for fname in os.listdir(google_s2t_path_hyps):\n",
    "        with open(os.path.join(google_s2t_path_hyps,fname), \"r\") as in_f:\n",
    "            f_key = \"fisher_dev_{0:s}\".format(fname.rsplit(\"_\")[-1].replace(\".txt\", \"\"))\n",
    "            google_s2t_hyps[f_key] = {}\n",
    "            for i, line in enumerate(in_f, start=1):\n",
    "                utt_key = google_s2t_map[i]\n",
    "                google_s2t_hyps[f_key][utt_key] = line.rstrip('\\n').split()\n",
    "            # end for\n",
    "        # end with\n",
    "    # end for\n",
    "    pickle.dump(google_s2t_hyps, open(google_s2t_hyps_path, \"wb\"))\n",
    "    return google_s2t_refs, google_s2t_hyps"
   ]
  },
  {
   "cell_type": "code",
   "execution_count": 173,
   "metadata": {},
   "outputs": [
    {
     "data": {
      "text/plain": [
       "False"
      ]
     },
     "execution_count": 173,
     "metadata": {},
     "output_type": "execute_result"
    }
   ],
   "source": [
    "\".\" in fsh_utts"
   ]
  },
  {
   "cell_type": "code",
   "execution_count": 174,
   "metadata": {
    "collapsed": true
   },
   "outputs": [],
   "source": [
    "def write_google_s2t_refs_to_file(google_dict, utts):\n",
    "    for r in google_dict.keys():\n",
    "        out_fname = \"google_\"+r+\".en\"\n",
    "        with open(out_fname, \"w\") as out_f:\n",
    "            print(\"writing to file: {0:s}\".format(out_fname))\n",
    "            for utt_id in utts:\n",
    "                words = \" \".join(google_dict[r][utt_id])\n",
    "                out_line = \"{0:s}\\n\".format(words)\n",
    "                out_f.write(out_line)\n",
    "        # end for\n",
    "    # end with"
   ]
  },
  {
   "cell_type": "code",
   "execution_count": 175,
   "metadata": {
    "collapsed": true
   },
   "outputs": [],
   "source": [
    "google_s2t_refs, google_s2t_hyps = prep_google_data()"
   ]
  },
  {
   "cell_type": "code",
   "execution_count": 176,
   "metadata": {},
   "outputs": [
    {
     "name": "stdout",
     "output_type": "stream",
     "text": [
      "writing to file: google_fisher_dev_ref_3.en\n",
      "writing to file: google_fisher_dev_ref_2.en\n",
      "writing to file: google_fisher_dev_ref_1.en\n",
      "writing to file: google_fisher_dev_ref_0.en\n",
      "writing to file: google_fisher_dev_r2.en\n",
      "writing to file: google_fisher_dev_r1.en\n",
      "writing to file: google_fisher_dev_r0.en\n"
     ]
    }
   ],
   "source": [
    "write_google_s2t_refs_to_file(google_s2t_refs, fsh_utts)\n",
    "write_google_s2t_refs_to_file(google_s2t_hyps, fsh_utts)"
   ]
  },
  {
   "cell_type": "code",
   "execution_count": 177,
   "metadata": {
    "scrolled": false
   },
   "outputs": [
    {
     "data": {
      "text/plain": [
       "'and my dad always taught us that that for you to be to believe in god you don t have to be involved with a church'"
      ]
     },
     "execution_count": 177,
     "metadata": {},
     "output_type": "execute_result"
    }
   ],
   "source": [
    "\" \".join(map(lambda t: t.decode(), m_dict[rev_map_dict['fisher_dev']['20051009_182032_217_fsp.108']]['en_w'][0]))"
   ]
  },
  {
   "cell_type": "code",
   "execution_count": 179,
   "metadata": {},
   "outputs": [
    {
     "name": "stdout",
     "output_type": "stream",
     "text": [
      "you are a father again\n",
      "you are already dad again\n",
      "are you already father\n"
     ]
    }
   ],
   "source": [
    "print(\" \".join([w for w in google_s2t_refs['fisher_dev_ref_0'][fsh_utts[0]]]))\n",
    "print(\" \".join([w for w in google_s2t_hyps['fisher_dev_r0'][fsh_utts[0]]]))\n",
    "print(\" \".join([w for w in h[0]]))"
   ]
  },
  {
   "cell_type": "code",
   "execution_count": 181,
   "metadata": {},
   "outputs": [
    {
     "name": "stdout",
     "output_type": "stream",
     "text": [
      "20051017_220530_275_fsp-B-21\n",
      "nothing above in spanish--\n",
      "['yeah']\n",
      "20051017_220530_275_fsp-B-26\n",
      "no words in spanish here lol\n",
      "['yeah']\n"
     ]
    }
   ],
   "source": [
    "len(fsh_utts), len(google_s2t_refs['fisher_dev_ref_0'])\n",
    "\n",
    "for key in google_s2t_refs['fisher_dev_ref_0']:\n",
    "    if key not in fsh_utts:\n",
    "        print(key)\n",
    "        print(\" \".join([w.decode() for w in m_dict[key]['en_w'][0]]))\n",
    "        print(google_s2t_hyps['fisher_dev_r0']['20051017_220530_275_fsp-B-26'])"
   ]
  },
  {
   "cell_type": "code",
   "execution_count": 182,
   "metadata": {},
   "outputs": [
    {
     "data": {
      "text/plain": [
       "(dict_keys(['fisher_dev_ref_3', 'fisher_dev_ref_2', 'fisher_dev_ref_1', 'fisher_dev_ref_0']),\n",
       " dict_keys(['fisher_dev_r2', 'fisher_dev_r1', 'fisher_dev_r0']))"
      ]
     },
     "execution_count": 182,
     "metadata": {},
     "output_type": "execute_result"
    }
   ],
   "source": [
    "google_s2t_refs.keys(), google_s2t_hyps.keys()"
   ]
  },
  {
   "cell_type": "code",
   "execution_count": 183,
   "metadata": {},
   "outputs": [
    {
     "data": {
      "text/plain": [
       "[['are', 'you', 'already', 'a', 'father', 'again'],\n",
       " ['are', 'you', 'a', 'dad', 'once', 'again'],\n",
       " ['are', 'you', 'a', 'dad', 'again'],\n",
       " ['you', 'are', 'a', 'father', 'again']]"
      ]
     },
     "execution_count": 183,
     "metadata": {},
     "output_type": "execute_result"
    }
   ],
   "source": [
    "[[google_s2t_refs[i][utt_id] for i in google_s2t_refs] for utt_id in fsh_utts][0]"
   ]
  },
  {
   "cell_type": "code",
   "execution_count": 184,
   "metadata": {
    "collapsed": true
   },
   "outputs": [],
   "source": [
    "google_prec_recall = {'precision' : {}, 'recall' : {}}\n",
    "model_prec_recall = {'precision' : {}, 'recall' : {}}\n",
    "\n",
    "for utt_id, ref, hyp in zip(fsh_utts, r, h):\n",
    "    pval, rval = modified_precision_recall([google_s2t_refs[i][utt_id] for i in google_s2t_refs], \n",
    "                                           google_s2t_hyps['fisher_dev_r0'][utt_id], n=1)\n",
    "    \n",
    "    google_prec_recall['precision'][utt_id] = float(pval)\n",
    "    google_prec_recall['recall'][utt_id] = float(rval)\n",
    "    \n",
    "    pval, rval = modified_precision_recall(ref, hyp, n=1)\n",
    "    \n",
    "    model_prec_recall['precision'][utt_id] = float(pval)\n",
    "    model_prec_recall['recall'][utt_id] = float(rval)"
   ]
  },
  {
   "cell_type": "code",
   "execution_count": 185,
   "metadata": {},
   "outputs": [
    {
     "data": {
      "text/plain": [
       "True"
      ]
     },
     "execution_count": 185,
     "metadata": {},
     "output_type": "execute_result"
    }
   ],
   "source": [
    "'20051009_182032_217_fsp-B-10' in model_prec_recall['precision']"
   ]
  },
  {
   "cell_type": "code",
   "execution_count": 190,
   "metadata": {
    "collapsed": true
   },
   "outputs": [],
   "source": [
    "better_utts = {'precision' : [], 'recall' : []}\n",
    "for utt_id in fsh_utts:\n",
    "    if model_prec_recall['precision'][utt_id] > google_prec_recall['precision'][utt_id]:\n",
    "        better_utts['precision'].append(utt_id)\n",
    "    if model_prec_recall['recall'][utt_id] > google_prec_recall['recall'][utt_id]:\n",
    "        better_utts['recall'].append(utt_id)"
   ]
  },
  {
   "cell_type": "code",
   "execution_count": 192,
   "metadata": {},
   "outputs": [
    {
     "data": {
      "text/plain": [
       "(620, 811)"
      ]
     },
     "execution_count": 192,
     "metadata": {},
     "output_type": "execute_result"
    }
   ],
   "source": [
    "len(better_utts['precision']), len(better_utts['recall'])"
   ]
  },
  {
   "cell_type": "code",
   "execution_count": 209,
   "metadata": {},
   "outputs": [
    {
     "name": "stdout",
     "output_type": "stream",
     "text": [
      "['are', 'you', 'already', 'father']\n"
     ]
    }
   ],
   "source": [
    "model_predictions = {}\n",
    "for u, hyp in zip(fsh_utts, h):\n",
    "    model_predictions[u] = hyp\n",
    "print(model_predictions['20051017_220530_275_fsp-A-6'])"
   ]
  },
  {
   "cell_type": "code",
   "execution_count": 215,
   "metadata": {},
   "outputs": [],
   "source": [
    "with open(\"better_precision.txt\", \"w\") as out_f:\n",
    "    for utt_id in better_utts['precision']:\n",
    "        ref_line = \" \".join([w.decode() for w in m_dict[utt_id]['en_w'][0]])\n",
    "        model_pred = \" \".join(model_predictions[utt_id])\n",
    "        google_pred = \" \".join(google_s2t_hyps['fisher_dev_r0'][utt_id])\n",
    "        out_line = \"{0:s}---{1:s}---{2:s}---{3:s}\\n\".format(utt_id, ref_line, model_pred, google_pred)\n",
    "        out_f.write(out_line)\n",
    "    # end for\n",
    "# end with\n",
    "with open(\"better_recall.txt\", \"w\") as out_f:\n",
    "    out_line = \"{0:s}---{1:s}---{2:s}---{3:s}\\n\".format('utt_id', 'ref_line', 'model_pred', 'google_pred')\n",
    "    out_f.write(out_line)\n",
    "    for utt_id in better_utts['recall']:\n",
    "        ref_line = \" \".join([w.decode() for w in m_dict[utt_id]['en_w'][0]])\n",
    "        model_pred = \" \".join(model_predictions[utt_id])\n",
    "        google_pred = \" \".join(google_s2t_hyps['fisher_dev_r0'][utt_id])\n",
    "        out_line = \"{0:s}---{1:s}---{2:s}---{3:s}\\n\".format(utt_id, ref_line, model_pred, google_pred)\n",
    "        out_f.write(out_line)\n",
    "    # end for\n",
    "# end with\n",
    "        "
   ]
  },
  {
   "cell_type": "code",
   "execution_count": null,
   "metadata": {
    "collapsed": true
   },
   "outputs": [],
   "source": [
    "# test_ref = [[\"ha ha lol hue\".split()], [\"ha ha ja ha\".split()], [\"ha ha ja ha\".split()]]\n",
    "# test_h = [\"lol ja\".split(), \"ha he\".split(), \"ha ja\".split()]\n",
    "# _, _ = corpus_precision_recall(test_ref, test_h)"
   ]
  },
  {
   "cell_type": "code",
   "execution_count": null,
   "metadata": {
    "collapsed": true
   },
   "outputs": [],
   "source": []
  }
 ],
 "metadata": {
  "kernelspec": {
   "display_name": "Python 3",
   "language": "python",
   "name": "python3"
  },
  "language_info": {
   "codemirror_mode": {
    "name": "ipython",
    "version": 3
   },
   "file_extension": ".py",
   "mimetype": "text/x-python",
   "name": "python",
   "nbconvert_exporter": "python",
   "pygments_lexer": "ipython3",
   "version": "3.6.2"
  }
 },
 "nbformat": 4,
 "nbformat_minor": 2
}
