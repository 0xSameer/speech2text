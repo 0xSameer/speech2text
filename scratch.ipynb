{
 "cells": [
  {
   "cell_type": "code",
   "execution_count": 1,
   "metadata": {
    "scrolled": true
   },
   "outputs": [
    {
     "name": "stderr",
     "output_type": "stream",
     "text": [
      "100%|██████████| 3977/3977 [00:00<00:00, 634707.47it/s]\n",
      "100%|██████████| 3959/3959 [00:00<00:00, 628153.94it/s]\n",
      "100%|██████████| 3641/3641 [00:00<00:00, 607601.69it/s]\n",
      "  0%|          | 0/138708 [00:00<?, ?it/s]"
     ]
    },
    {
     "name": "stdout",
     "output_type": "stream",
     "text": [
      "translating es to en\n",
      "callhome es-en configuration\n",
      "--------------------------------------------------\n",
      "loading info_dict from=./callhome_fbank_out/info.dict\n",
      "--------------------------------------------------\n",
      "creating buckets for: fisher_dev\n",
      "creating buckets for key: sp\n",
      "creating buckets for: fisher_dev2\n",
      "creating buckets for key: sp\n",
      "creating buckets for: fisher_test\n",
      "creating buckets for key: sp\n",
      "creating buckets for: fisher_train\n",
      "creating buckets for key: sp\n"
     ]
    },
    {
     "name": "stderr",
     "output_type": "stream",
     "text": [
      "100%|██████████| 138708/138708 [00:00<00:00, 605929.19it/s]\n",
      "100%|██████████| 3801/3801 [00:00<00:00, 610311.21it/s]\n",
      "100%|██████████| 1824/1824 [00:00<00:00, 605014.67it/s]\n",
      "100%|██████████| 14284/14284 [00:00<00:00, 605588.12it/s]\n"
     ]
    },
    {
     "name": "stdout",
     "output_type": "stream",
     "text": [
      "creating buckets for: callhome_devtest\n",
      "creating buckets for key: sp\n",
      "creating buckets for: callhome_evltest\n",
      "creating buckets for key: sp\n",
      "creating buckets for: callhome_train\n",
      "creating buckets for key: sp\n",
      "--------------------------------------------------\n",
      "saving info dict in: ./callhome_fbank_out/buckets_sp.dict\n",
      "all done ...\n",
      "--------------------------------------------------\n",
      "showing buckets for category: fisher_dev\n",
      "number of buckets=20, width of each bucket=96\n",
      "index | width | num   \n",
      "    0 |     0 |    428\n",
      "    1 |    96 |    978\n",
      "    2 |   192 |    566\n",
      "    3 |   288 |    459\n",
      "    4 |   384 |    337\n",
      "    5 |   480 |    233\n",
      "    6 |   576 |    230\n",
      "    7 |   672 |    179\n",
      "    8 |   768 |    149\n",
      "    9 |   864 |    142\n",
      "   10 |   960 |     79\n",
      "   11 |  1056 |     85\n",
      "   12 |  1152 |     45\n",
      "   13 |  1248 |     28\n",
      "   14 |  1344 |     24\n",
      "   15 |  1440 |      7\n",
      "   16 |  1536 |      5\n",
      "   17 |  1632 |      1\n",
      "   18 |  1728 |      1\n",
      "   19 |  1824 |      1\n",
      "--------------------------------------------------\n",
      "showing buckets for category: fisher_dev2\n",
      "number of buckets=20, width of each bucket=96\n",
      "index | width | num   \n",
      "    0 |     0 |    314\n",
      "    1 |    96 |    879\n",
      "    2 |   192 |    672\n",
      "    3 |   288 |    506\n",
      "    4 |   384 |    372\n",
      "    5 |   480 |    277\n",
      "    6 |   576 |    205\n",
      "    7 |   672 |    154\n",
      "    8 |   768 |    143\n",
      "    9 |   864 |    160\n",
      "   10 |   960 |     83\n",
      "   11 |  1056 |     69\n",
      "   12 |  1152 |     46\n",
      "   13 |  1248 |     30\n",
      "   14 |  1344 |     24\n",
      "   15 |  1440 |      8\n",
      "   16 |  1536 |     12\n",
      "   17 |  1632 |      3\n",
      "   18 |  1728 |      2\n",
      "   19 |  1824 |      0\n",
      "--------------------------------------------------\n",
      "showing buckets for category: fisher_test\n",
      "number of buckets=20, width of each bucket=96\n",
      "index | width | num   \n",
      "    0 |     0 |    378\n",
      "    1 |    96 |    845\n",
      "    2 |   192 |    550\n",
      "    3 |   288 |    409\n",
      "    4 |   384 |    283\n",
      "    5 |   480 |    198\n",
      "    6 |   576 |    169\n",
      "    7 |   672 |    143\n",
      "    8 |   768 |    158\n",
      "    9 |   864 |    161\n",
      "   10 |   960 |    103\n",
      "   11 |  1056 |     99\n",
      "   12 |  1152 |     66\n",
      "   13 |  1248 |     34\n",
      "   14 |  1344 |     23\n",
      "   15 |  1440 |     12\n",
      "   16 |  1536 |      5\n",
      "   17 |  1632 |      1\n",
      "   18 |  1728 |      3\n",
      "   19 |  1824 |      1\n",
      "--------------------------------------------------\n",
      "showing buckets for category: fisher_train\n",
      "number of buckets=20, width of each bucket=96\n",
      "index | width | num   \n",
      "    0 |     0 |  14175\n",
      "    1 |    96 |  31174\n",
      "    2 |   192 |  21128\n",
      "    3 |   288 |  15522\n",
      "    4 |   384 |  11566\n",
      "    5 |   480 |   8729\n",
      "    6 |   576 |   6927\n",
      "    7 |   672 |   6088\n",
      "    8 |   768 |   5458\n",
      "    9 |   864 |   4858\n",
      "   10 |   960 |   4081\n",
      "   11 |  1056 |   3105\n",
      "   12 |  1152 |   2219\n",
      "   13 |  1248 |   1523\n",
      "   14 |  1344 |    831\n",
      "   15 |  1440 |    585\n",
      "   16 |  1536 |    289\n",
      "   17 |  1632 |    201\n",
      "   18 |  1728 |     96\n",
      "   19 |  1824 |    153\n",
      "--------------------------------------------------\n",
      "showing buckets for category: callhome_devtest\n",
      "number of buckets=20, width of each bucket=96\n",
      "index | width | num   \n",
      "    0 |     0 |    686\n",
      "    1 |    96 |    768\n",
      "    2 |   192 |    649\n",
      "    3 |   288 |    484\n",
      "    4 |   384 |    347\n",
      "    5 |   480 |    243\n",
      "    6 |   576 |    185\n",
      "    7 |   672 |    134\n",
      "    8 |   768 |     86\n",
      "    9 |   864 |     56\n",
      "   10 |   960 |     48\n",
      "   11 |  1056 |     32\n",
      "   12 |  1152 |     25\n",
      "   13 |  1248 |     25\n",
      "   14 |  1344 |     15\n",
      "   15 |  1440 |      8\n",
      "   16 |  1536 |      2\n",
      "   17 |  1632 |      4\n",
      "   18 |  1728 |      3\n",
      "   19 |  1824 |      1\n",
      "--------------------------------------------------\n",
      "showing buckets for category: callhome_evltest\n",
      "number of buckets=20, width of each bucket=96\n",
      "index | width | num   \n",
      "    0 |     0 |    326\n",
      "    1 |    96 |    356\n",
      "    2 |   192 |    313\n",
      "    3 |   288 |    221\n",
      "    4 |   384 |    170\n",
      "    5 |   480 |    114\n",
      "    6 |   576 |     74\n",
      "    7 |   672 |     64\n",
      "    8 |   768 |     50\n",
      "    9 |   864 |     34\n",
      "   10 |   960 |     28\n",
      "   11 |  1056 |     18\n",
      "   12 |  1152 |     17\n",
      "   13 |  1248 |     10\n",
      "   14 |  1344 |      8\n",
      "   15 |  1440 |      7\n",
      "   16 |  1536 |      6\n",
      "   17 |  1632 |      5\n",
      "   18 |  1728 |      1\n",
      "   19 |  1824 |      2\n",
      "--------------------------------------------------\n",
      "showing buckets for category: callhome_train\n",
      "number of buckets=20, width of each bucket=96\n",
      "index | width | num   \n",
      "    0 |     0 |   2994\n",
      "    1 |    96 |   2883\n",
      "    2 |   192 |   2253\n",
      "    3 |   288 |   1666\n",
      "    4 |   384 |   1207\n",
      "    5 |   480 |    841\n",
      "    6 |   576 |    634\n",
      "    7 |   672 |    482\n",
      "    8 |   768 |    349\n",
      "    9 |   864 |    272\n",
      "   10 |   960 |    179\n",
      "   11 |  1056 |    155\n",
      "   12 |  1152 |    107\n",
      "   13 |  1248 |     73\n",
      "   14 |  1344 |     55\n",
      "   15 |  1440 |     43\n",
      "   16 |  1536 |     36\n",
      "   17 |  1632 |     17\n",
      "   18 |  1728 |     19\n",
      "   19 |  1824 |     19\n",
      "cnn details:\n",
      "{'in_channels': None, 'out_channels': 32, 'ksize': (3, 3), 'stride': (2, 2), 'pad': (1, 1)}\n",
      "{'in_channels': None, 'out_channels': 32, 'ksize': (3, 3), 'stride': (2, 2), 'pad': (1, 1)}\n",
      "--------------------------------------------------\n",
      "loading dict: ./callhome_fbank_out/map.dict\n",
      "loading dict: ./callhome_fbank_out/train_vocab.dict\n",
      "--------------------------------------------------\n",
      "loading dict: ./callhome_fbank_out/buckets_sp.dict\n",
      "--------------------------------------------------\n",
      "utterances in fisher_dev = 3979\n",
      "utterances in fisher_dev2 = 3961\n",
      "utterances in fisher_test = 3641\n",
      "utterances in fisher_train = 138819\n",
      "utterances in callhome_devtest = 3966\n",
      "utterances in callhome_evltest = 1829\n",
      "utterances in callhome_train = 15080\n",
      "vocab size for sp = 0\n",
      "vocab size for en_w = 18555\n",
      "model file name: callhome_fbank/seq2seq_sen-138819_hwy0-dec3_emb-256-h-256__sp_en_w_gru_drpt-0.3_noise-0_l2-0.000100_32_32_2_2_2DCNN_BN_LN_enc-3.model\n",
      "log file name: callhome_fbank/train_sen-138819_hwy0-dec3_emb-256-h-256__sp_en_w_gru_drpt-0.3_noise-0_l2-0.000100_32_32_2_2_2DCNN_BN_LN_enc-3.log\n"
     ]
    }
   ],
   "source": [
    "%load_ext autoreload\n",
    "%autoreload 1\n",
    "\n",
    "%aimport basics\n",
    "%aimport nn_config\n",
    "%aimport enc_dec\n",
    "\n",
    "from basics import *\n",
    "from nn_config import *\n",
    "from enc_dec import *\n",
    "%matplotlib inline"
   ]
  },
  {
   "cell_type": "code",
   "execution_count": 2,
   "metadata": {},
   "outputs": [
    {
     "name": "stdout",
     "output_type": "stream",
     "text": [
      "cnn_out_dim = rnn_in_units =  320\n"
     ]
    },
    {
     "name": "stderr",
     "output_type": "stream",
     "text": [
      "/afs/inf.ed.ac.uk/group/project/lowres/work/anaconda3/envs/chainer2/lib/python3.6/site-packages/chainer/utils/experimental.py:104: FutureWarning: chainer.links.normalization.layer_normalization.py is experimental. The interface can change in the future.\n",
      "  FutureWarning)\n"
     ]
    },
    {
     "name": "stdout",
     "output_type": "stream",
     "text": [
      "using ADAM optimizer\n"
     ]
    }
   ],
   "source": [
    "from nmt_run import *"
   ]
  },
  {
   "cell_type": "code",
   "execution_count": 3,
   "metadata": {},
   "outputs": [
    {
     "name": "stdout",
     "output_type": "stream",
     "text": [
      "--------------------------------------------------------------------------------\n",
      "model found = \n",
      "callhome_fbank/seq2seq_sen-138819_hwy0-dec3_emb-256-h-256__sp_en_w_gru_drpt-0.3_noise-0_l2-0.000100_32_32_2_2_2DCNN_BN_LN_enc-3_5.model\n",
      "loading ...\n",
      "finished loading ..\n"
     ]
    }
   ],
   "source": [
    "last_epoch = check_model()"
   ]
  },
  {
   "cell_type": "code",
   "execution_count": 4,
   "metadata": {
    "collapsed": true
   },
   "outputs": [],
   "source": [
    "t = L.Linear(5,5, nobias=True)"
   ]
  },
  {
   "cell_type": "code",
   "execution_count": 5,
   "metadata": {},
   "outputs": [
    {
     "data": {
      "text/plain": [
       "((9, 7, 5), (1, 5))"
      ]
     },
     "execution_count": 5,
     "metadata": {},
     "output_type": "execute_result"
    }
   ],
   "source": [
    "# a dimensions: batch_size, sequence length, hidden units\n",
    "a = Variable(np.random.randn(9,7,5).astype(np.float32))\n",
    "b = Variable(np.random.randn(1,5).astype(np.float32))\n",
    "a.shape, b.shape"
   ]
  },
  {
   "cell_type": "code",
   "execution_count": 6,
   "metadata": {
    "collapsed": true
   },
   "outputs": [],
   "source": [
    "x = t(b)\n",
    "# F.matmul(a,x, transb=True)"
   ]
  },
  {
   "cell_type": "code",
   "execution_count": 7,
   "metadata": {
    "collapsed": true
   },
   "outputs": [],
   "source": [
    "# F.softmax(F.matmul(a,t(b),transb=True),axis=0)"
   ]
  },
  {
   "cell_type": "code",
   "execution_count": 8,
   "metadata": {},
   "outputs": [
    {
     "data": {
      "text/plain": [
       "(5, 9, 7)"
      ]
     },
     "execution_count": 8,
     "metadata": {},
     "output_type": "execute_result"
    }
   ],
   "source": [
    "F.rollaxis(a,2).shape"
   ]
  },
  {
   "cell_type": "markdown",
   "metadata": {},
   "source": [
    "### Get batch of data"
   ]
  },
  {
   "cell_type": "code",
   "execution_count": 9,
   "metadata": {
    "collapsed": true
   },
   "outputs": [],
   "source": [
    "def get_full_length_batch(m_dict, x_key, y_key,\n",
    "              utt_list, vocab_dict,\n",
    "              max_enc, max_dec, cat_speech_path=''):\n",
    "\n",
    "    batch_data = {'X':[], 'y':[]}\n",
    "    for u in utt_list:\n",
    "        # for speech data\n",
    "        x_data_found = False\n",
    "        if x_key == 'sp':\n",
    "            utt_sp_path = os.path.join(cat_speech_path,\n",
    "                                      \"{0:s}.npy\".format(u))\n",
    "            if not os.path.exists(utt_sp_path):\n",
    "                utt_sp_path = os.path.join(cat_speech_path,\n",
    "                                           u.split('_',1)[0],\n",
    "                                           \"{0:s}.npy\".format(u))\n",
    "            if os.path.exists(utt_sp_path):\n",
    "                x_data_found = True\n",
    "                x_data = xp.load(utt_sp_path)\n",
    "                print(x_data.shape)\n",
    "                batch_data['X'].append(x_data)\n",
    "            else:\n",
    "                print(\"ERROR!! file not found: {0:s}\".format(utt_sp_path))\n",
    "        else:\n",
    "            u_x_ids = [vocab_dict[x_key]['w2i'].get(w, UNK_ID) for w in m_dict[u][x_key]]\n",
    "            u_x_ids = xp.asarray(u_x_ids, dtype=xp.int32)\n",
    "            x_data_found = True\n",
    "            batch_data['X'].append(u_x_ids)\n",
    "        #  add english labels\n",
    "\n",
    "        if x_data_found:\n",
    "            if type(m_dict[u][y_key]) == list:\n",
    "                en_ids = [vocab_dict[y_key]['w2i'].get(w, UNK_ID) for w in m_dict[u][y_key]]\n",
    "            else:\n",
    "                # dev and test data have multiple translations\n",
    "                # choose the first one for computing perplexity\n",
    "                en_ids = [vocab_dict[y_key]['w2i'].get(w, UNK_ID) for w in m_dict[u][y_key][0]]\n",
    "            u_y_ids = [GO_ID] + en_ids + [EOS_ID]\n",
    "            if x_data_found == True:\n",
    "                batch_data['y'].append(xp.asarray(u_y_ids, dtype=xp.int32))\n",
    "    # end for all utterances in batch\n",
    "    if len(batch_data['X']) > 0 and len(batch_data['y']) > 0:\n",
    "        batch_data['X'] = F.pad_sequence(batch_data['X'], padding=PAD_ID)\n",
    "        batch_data['y'] = F.pad_sequence(batch_data['y'], padding=PAD_ID)\n",
    "    return batch_data"
   ]
  },
  {
   "cell_type": "code",
   "execution_count": 10,
   "metadata": {
    "collapsed": true
   },
   "outputs": [],
   "source": [
    "key = 'fisher_train'"
   ]
  },
  {
   "cell_type": "code",
   "execution_count": 11,
   "metadata": {
    "collapsed": true
   },
   "outputs": [],
   "source": [
    "b_dict=bucket_dict[key]\n",
    "m_dict = map_dict[key]\n",
    "vocab_dict=vocab_dict\n",
    "batch_size=16\n",
    "x_key=enc_key\n",
    "y_key=dec_key\n",
    "train=True\n",
    "cat_speech_path=os.path.join(out_path, key)\n",
    "\n",
    "b = num_b-1\n",
    "# b = 9\n",
    "bucket = b_dict['buckets'][b]\n",
    "b_len = len(bucket)"
   ]
  },
  {
   "cell_type": "code",
   "execution_count": 12,
   "metadata": {},
   "outputs": [
    {
     "data": {
      "text/plain": [
       "(20, 153)"
      ]
     },
     "execution_count": 12,
     "metadata": {},
     "output_type": "execute_result"
    }
   ],
   "source": [
    "num_b, b_len"
   ]
  },
  {
   "cell_type": "code",
   "execution_count": 13,
   "metadata": {
    "collapsed": true
   },
   "outputs": [],
   "source": [
    "utt_list = bucket[:batch_size]"
   ]
  },
  {
   "cell_type": "code",
   "execution_count": 14,
   "metadata": {
    "collapsed": true
   },
   "outputs": [],
   "source": [
    "en_chars = [w.decode() for w in m_dict[utt_list[0]][y_key]]\n",
    "en_ids = [str(vocab_dict[y_key]['w2i'].get(w, UNK_ID)) for w in m_dict[utt_list[0]][y_key]]"
   ]
  },
  {
   "cell_type": "code",
   "execution_count": 15,
   "metadata": {},
   "outputs": [
    {
     "name": "stdout",
     "output_type": "stream",
     "text": [
      "sure sure and maybe i don t know in other countries but here maybe sometimes the women are really lonely em caring for the kids like even the community or the relatives sometimes there isn t much support from other people\n",
      "['69', '69', '25', '178', '8', '107', '38', '39', '30', '226', '232', '47', '65', '178', '233', '41', '207', '27', '234', '235', '24', '236', '163', '41', '231', '51', '237', '41', '238', '161', '41', '239', '233', '214', '240', '38', '241', '242', '28', '226', '44']\n"
     ]
    }
   ],
   "source": [
    "print(\" \".join(en_chars))\n",
    "print(en_ids)"
   ]
  },
  {
   "cell_type": "code",
   "execution_count": 16,
   "metadata": {
    "collapsed": true
   },
   "outputs": [],
   "source": [
    "# optimizer = optimizers.Adam()\n",
    "# optimizer.setup(model)"
   ]
  },
  {
   "cell_type": "code",
   "execution_count": 24,
   "metadata": {},
   "outputs": [
    {
     "name": "stdout",
     "output_type": "stream",
     "text": [
      "bucket size=153\n",
      "0 (16, 1920, 40) (16, 66)\n",
      "variable(239.45753479003906)\n"
     ]
    }
   ],
   "source": [
    "print(\"bucket size={0:d}\".format(b_len))\n",
    "\n",
    "for i in range(0,batch_size, batch_size):\n",
    "    utt_list = bucket[i:i+batch_size]\n",
    "    batch_data = get_batch(m_dict, x_key, y_key, utt_list, vocab_dict, ((b+1) * width_b), (80), \n",
    "                           cat_speech_path=cat_speech_path)\n",
    "    \n",
    "    print(i, batch_data['X'].shape, batch_data['y'].shape)\n",
    "    \n",
    "    p, loss = model.forward(batch_data['X'], batch_data['y'])\n",
    "    \n",
    "    model.cleargrads()\n",
    "    \n",
    "    loss.backward()\n",
    "    # loss_1.backward()\n",
    "\n",
    "    # model.addgrads(model_1)\n",
    "    optimizer.update()\n",
    "    \n",
    "    print(loss)\n",
    "    break"
   ]
  },
  {
   "cell_type": "code",
   "execution_count": 19,
   "metadata": {},
   "outputs": [
    {
     "data": {
      "text/plain": [
       "variable([[ 0.00362838,  0.06284773, -0.01900864, -0.09719337,  0.01177634],\n",
       "          [ 0.10125958, -0.0260349 , -0.10105181, -0.12616515,  0.1099688 ],\n",
       "          [ 0.0340006 , -0.09406589, -0.02498865,  0.07107174, -0.08068042],\n",
       "          [ 0.12878396, -0.0741271 ,  0.11103655, -0.00173152,  0.13319984],\n",
       "          [-0.00164714, -0.0050539 , -0.05546815, -0.0215792 ,  0.07984561]])"
      ]
     },
     "execution_count": 19,
     "metadata": {},
     "output_type": "execute_result"
    }
   ],
   "source": [
    "model.L2_dec.W.W[:5,:5]"
   ]
  },
  {
   "cell_type": "code",
   "execution_count": 20,
   "metadata": {},
   "outputs": [],
   "source": [
    "model.L2_dec.W.W.data[0,0] = 0.01"
   ]
  },
  {
   "cell_type": "code",
   "execution_count": 21,
   "metadata": {
    "scrolled": true
   },
   "outputs": [],
   "source": [
    "model.add_weight_noise(0.,0.125)"
   ]
  },
  {
   "cell_type": "code",
   "execution_count": 22,
   "metadata": {},
   "outputs": [
    {
     "data": {
      "text/plain": [
       "variable([[-0.00719257,  0.09368937,  0.05692613, -0.13572372,  0.07298668],\n",
       "          [ 0.40622482,  0.15842079, -0.20714816, -0.01835349,  0.34722722],\n",
       "          [ 0.11591334, -0.05356494, -0.2887691 , -0.05210542, -0.23616114],\n",
       "          [ 0.01985148, -0.05222213,  0.1175326 , -0.17216869,  0.22487983],\n",
       "          [ 0.0797607 , -0.21119092, -0.22499621,  0.10554764,  0.03869397]])"
      ]
     },
     "execution_count": 22,
     "metadata": {},
     "output_type": "execute_result"
    }
   ],
   "source": [
    "model.L2_dec.W.W[:5,:5]"
   ]
  },
  {
   "cell_type": "code",
   "execution_count": 23,
   "metadata": {},
   "outputs": [
    {
     "data": {
      "text/plain": [
       "True"
      ]
     },
     "execution_count": 23,
     "metadata": {},
     "output_type": "execute_result"
    }
   ],
   "source": [
    "model.L2_dec.W.update_enabled"
   ]
  },
  {
   "cell_type": "code",
   "execution_count": null,
   "metadata": {},
   "outputs": [],
   "source": [
    "optimizer.setup(model)"
   ]
  },
  {
   "cell_type": "code",
   "execution_count": null,
   "metadata": {},
   "outputs": [],
   "source": [
    "model.L2_dec.W"
   ]
  },
  {
   "cell_type": "code",
   "execution_count": null,
   "metadata": {},
   "outputs": [],
   "source": [
    "model.L2_dec.W"
   ]
  },
  {
   "cell_type": "code",
   "execution_count": null,
   "metadata": {},
   "outputs": [],
   "source": [
    "20000 * 64 / 138708"
   ]
  },
  {
   "cell_type": "code",
   "execution_count": null,
   "metadata": {},
   "outputs": [],
   "source": [
    "xp.random.normal(0, .125, (5,5), dtype=xp.float32)"
   ]
  },
  {
   "cell_type": "code",
   "execution_count": null,
   "metadata": {
    "collapsed": true
   },
   "outputs": [],
   "source": [
    "model.rnn_enc"
   ]
  },
  {
   "cell_type": "code",
   "execution_count": null,
   "metadata": {
    "collapsed": true
   },
   "outputs": [],
   "source": [
    "model.L0_dec.W, model.L0_dec.W_r, model.L0_dec.W_z"
   ]
  },
  {
   "cell_type": "code",
   "execution_count": null,
   "metadata": {
    "collapsed": true
   },
   "outputs": [],
   "source": [
    "model.L0_dec.U, model.L0_dec.U_r, model.L0_dec.U_z"
   ]
  },
  {
   "cell_type": "code",
   "execution_count": null,
   "metadata": {
    "collapsed": true
   },
   "outputs": [],
   "source": [
    "model.L0_dec.U.W.shape, model.L0_dec.U.b.shape, model.L0_dec.U_r.W.shape, model.L0_dec.U_r.b.shape"
   ]
  },
  {
   "cell_type": "code",
   "execution_count": null,
   "metadata": {
    "collapsed": true
   },
   "outputs": [],
   "source": [
    "model.embed_dec.W.shape"
   ]
  },
  {
   "cell_type": "code",
   "execution_count": null,
   "metadata": {
    "collapsed": true
   },
   "outputs": [],
   "source": [
    "mu, sigma = 0, 0.125 # mean and standard deviation\n",
    "\n",
    "for rnn_layer in model.rnn_enc + model.rnn_dec:\n",
    "    print(rnn_layer)\n",
    "    layer_shape = model[rnn_layer][\"W\"].W.shape\n",
    "    print(layer_shape)\n",
    "    "
   ]
  },
  {
   "cell_type": "code",
   "execution_count": null,
   "metadata": {
    "collapsed": true
   },
   "outputs": [],
   "source": [
    "reduce_dim = CNN_IN_DIM\n",
    "cnn_out_dim = 0\n",
    "for i, l in enumerate(cnn_filters):\n",
    "    cnn_out_dim += l[\"out_channels\"]\n",
    "    print(reduce_dim, l[\"stride\"][1])\n",
    "    reduce_dim = math.ceil(reduce_dim / l[\"stride\"][1])\n",
    "    print(reduce_dim)\n",
    "    print(l[\"out_channels\"])\n"
   ]
  },
  {
   "cell_type": "code",
   "execution_count": null,
   "metadata": {
    "collapsed": true
   },
   "outputs": [],
   "source": [
    "cnn_out_dim"
   ]
  },
  {
   "cell_type": "code",
   "execution_count": null,
   "metadata": {
    "collapsed": true
   },
   "outputs": [],
   "source": [
    "CNN_IN_DIM"
   ]
  },
  {
   "cell_type": "code",
   "execution_count": null,
   "metadata": {
    "collapsed": true
   },
   "outputs": [],
   "source": [
    "cnn_filters[-1][\"out_channels\"]"
   ]
  },
  {
   "cell_type": "code",
   "execution_count": null,
   "metadata": {
    "collapsed": true
   },
   "outputs": [],
   "source": [
    "x = batch_data['X']"
   ]
  },
  {
   "cell_type": "code",
   "execution_count": null,
   "metadata": {
    "collapsed": true
   },
   "outputs": [],
   "source": [
    "x.shape"
   ]
  },
  {
   "cell_type": "code",
   "execution_count": null,
   "metadata": {
    "collapsed": true
   },
   "outputs": [],
   "source": [
    "F.expand_dims(x,2).shape"
   ]
  },
  {
   "cell_type": "code",
   "execution_count": null,
   "metadata": {
    "collapsed": true
   },
   "outputs": [],
   "source": [
    "model.cleargrads()"
   ]
  },
  {
   "cell_type": "code",
   "execution_count": null,
   "metadata": {
    "collapsed": true
   },
   "outputs": [],
   "source": [
    "loss.backward()"
   ]
  },
  {
   "cell_type": "code",
   "execution_count": null,
   "metadata": {
    "collapsed": true
   },
   "outputs": [],
   "source": [
    "if lstm1_or_gru0:\n",
    "    print(model.L1_dec.lateral.W.grad)\n",
    "else:\n",
    "    print(model.L1_dec.W.W.grad)"
   ]
  },
  {
   "cell_type": "code",
   "execution_count": null,
   "metadata": {
    "collapsed": true
   },
   "outputs": [],
   "source": [
    "model.attn_Wa.W.grad"
   ]
  },
  {
   "cell_type": "code",
   "execution_count": null,
   "metadata": {
    "collapsed": true
   },
   "outputs": [],
   "source": [
    "model.out.W.grad"
   ]
  },
  {
   "cell_type": "code",
   "execution_count": null,
   "metadata": {
    "collapsed": true
   },
   "outputs": [],
   "source": [
    "if lstm1_or_gru0:\n",
    "    print(model.L0_enc.lateral.W.grad)\n",
    "else:\n",
    "    print(model.L0_enc.W.W.grad)"
   ]
  },
  {
   "cell_type": "code",
   "execution_count": null,
   "metadata": {
    "collapsed": true
   },
   "outputs": [],
   "source": [
    "def plot_model_weights_grads(layer):\n",
    "    fig, (ax1, ax2) = plt.subplots(1,2, figsize=(20, 10))\n",
    "    plt.axis('off')\n",
    "    weights = layer.data\n",
    "    grads = layer.grad\n",
    "    if gpuid >= 0:\n",
    "        weights = cuda.cupy.asnumpy(weights[:,:])\n",
    "        grads = cuda.cupy.asnumpy(grads[:,:])\n",
    "    # plt.imshow(weights, interpolation='none')\n",
    "    ax1 = sns.heatmap(weights, cmap=\"RdBu_r\", ax=ax1, xticklabels=False, yticklabels=False)\n",
    "    ax2 = sns.heatmap(grads, cmap=\"RdBu_r\", ax=ax2, xticklabels=False, yticklabels=False)\n",
    "    print(weights.shape)"
   ]
  },
  {
   "cell_type": "code",
   "execution_count": null,
   "metadata": {
    "collapsed": true
   },
   "outputs": [],
   "source": [
    "plot_model_weights_grads(model.L0_enc.W.W)"
   ]
  },
  {
   "cell_type": "code",
   "execution_count": null,
   "metadata": {
    "collapsed": true
   },
   "outputs": [],
   "source": [
    "plot_model_weights_grads(model.L1_dec.W.W)"
   ]
  },
  {
   "cell_type": "code",
   "execution_count": null,
   "metadata": {
    "collapsed": true
   },
   "outputs": [],
   "source": [
    "plot_model_weights_grads(model.out.W)"
   ]
  },
  {
   "cell_type": "code",
   "execution_count": null,
   "metadata": {
    "collapsed": true
   },
   "outputs": [],
   "source": [
    "xp.min(model.CNN_0.W.data)"
   ]
  },
  {
   "cell_type": "code",
   "execution_count": null,
   "metadata": {
    "collapsed": true
   },
   "outputs": [],
   "source": [
    "xp.nonzero(model.embed_dec.W.grad)"
   ]
  },
  {
   "cell_type": "code",
   "execution_count": null,
   "metadata": {
    "collapsed": true
   },
   "outputs": [],
   "source": [
    "x_key, y_key"
   ]
  },
  {
   "cell_type": "code",
   "execution_count": null,
   "metadata": {
    "collapsed": true
   },
   "outputs": [],
   "source": [
    "es_c_utt_lens = []\n",
    "en_c_utt_lens = []\n",
    "total_num = 0\n",
    "for b in b_dict['buckets']:\n",
    "    print(len(b), end=', ')\n",
    "    print(max([len(m_dict[u]['es_w']) for u in b]), end=', ')\n",
    "    print(max([len(m_dict[u]['es_c']) for u in b]), end=', ')\n",
    "    print(max([len(m_dict[u]['es_c'])//6 for u in b]), end=', ')\n",
    "    print(max([len(m_dict[u]['en_w']) for u in b]), end=', ')\n",
    "    print(max([len(m_dict[u]['en_c']) for u in b]), end=', ')\n",
    "    print(total_num, end=', ')\n",
    "    print(\"\")\n",
    "    total_num += len(b)\n",
    "    es_c_utt_lens.extend([len(m_dict[u]['es_c']) for u in b])\n",
    "    en_c_utt_lens.extend([len(m_dict[u]['en_c']) for u in b])\n",
    "    \n",
    "        "
   ]
  },
  {
   "cell_type": "code",
   "execution_count": null,
   "metadata": {
    "collapsed": true
   },
   "outputs": [],
   "source": [
    "plt.hist(es_c_utt_lens, bins=10)"
   ]
  },
  {
   "cell_type": "code",
   "execution_count": null,
   "metadata": {
    "collapsed": true
   },
   "outputs": [],
   "source": [
    "plt.hist(en_c_utt_lens, bins=10, color='g')"
   ]
  },
  {
   "cell_type": "code",
   "execution_count": null,
   "metadata": {
    "collapsed": true
   },
   "outputs": [],
   "source": [
    "100 * 10 * 20 / 1000"
   ]
  },
  {
   "cell_type": "code",
   "execution_count": null,
   "metadata": {
    "collapsed": true
   },
   "outputs": [],
   "source": [
    "batch_data['X'].shape"
   ]
  },
  {
   "cell_type": "markdown",
   "metadata": {},
   "source": [
    "### Set up encoder"
   ]
  },
  {
   "cell_type": "code",
   "execution_count": null,
   "metadata": {
    "collapsed": true
   },
   "outputs": [],
   "source": [
    "def check_forward_deep_cnn(h):\n",
    "    # check and prepare for 2d convolutions\n",
    "    if CNN_TYPE == DEEP_2D_CNN:\n",
    "        h = F.expand_dims(h, 2)\n",
    "        # h = F.reshape(h, (h.shape[:2] + tuple([-1,SPEECH_DIM // 3])))\n",
    "    h = F.swapaxes(h,1,2)\n",
    "    print(h.shape)\n",
    "\n",
    "    for i, cnn_layer in enumerate(model.cnns):\n",
    "        h = model[cnn_layer](h)\n",
    "        print(h.shape)\n",
    "        # h = F.max_pooling_nd(h, ksize=cnn_max_pool[i],\n",
    "        #                      stride=cnn_max_pool[i],\n",
    "        #                      pad=max_pool_pad)\n",
    "        # batch normalization before non-linearity\n",
    "        if USE_BN:\n",
    "            bn_lname = '{0:s}_bn'.format(cnn_layer)\n",
    "            h = model[bn_lname](h)\n",
    "        h = F.relu(h)\n",
    "        print(h.shape)\n",
    "\n",
    "    # out dimension:\n",
    "    # batch size * num time frames after pooling * cnn out dim\n",
    "    if CNN_TYPE == DEEP_2D_CNN:\n",
    "        h = F.swapaxes(h,1,2)\n",
    "        h = F.reshape(h, h.shape[:2] + tuple([-1]))\n",
    "        h = F.rollaxis(h,1)\n",
    "    else:\n",
    "        h = F.rollaxis(h, 2)\n",
    "    print(h.shape)"
   ]
  },
  {
   "cell_type": "code",
   "execution_count": null,
   "metadata": {
    "collapsed": true
   },
   "outputs": [],
   "source": [
    "h = check_forward_deep_cnn(batch_data['X'])"
   ]
  },
  {
   "cell_type": "code",
   "execution_count": null,
   "metadata": {
    "collapsed": true
   },
   "outputs": [],
   "source": [
    "h = model.forward_deep_cnn(batch_data['X'])"
   ]
  },
  {
   "cell_type": "code",
   "execution_count": null,
   "metadata": {
    "collapsed": true
   },
   "outputs": [],
   "source": [
    "len(model.cnns)"
   ]
  },
  {
   "cell_type": "code",
   "execution_count": null,
   "metadata": {
    "collapsed": true
   },
   "outputs": [],
   "source": [
    "h.shape"
   ]
  },
  {
   "cell_type": "code",
   "execution_count": null,
   "metadata": {
    "collapsed": true
   },
   "outputs": [],
   "source": [
    "model.forward_rnn(h)"
   ]
  },
  {
   "cell_type": "code",
   "execution_count": null,
   "metadata": {
    "collapsed": true
   },
   "outputs": [],
   "source": [
    "model.forward_enc(batch_data['X'])\n",
    "model.set_decoder_state()\n",
    "y = F.swapaxes(batch_data['y'], 0, 1)\n",
    "# with cmodel.forward_enc(batch_data['X'])\n",
    "# with chainer.using_config('train', True):\n",
    "#     myloss = model.decode_batch(y)"
   ]
  },
  {
   "cell_type": "code",
   "execution_count": null,
   "metadata": {
    "collapsed": true
   },
   "outputs": [],
   "source": [
    "model.enc_states.shape, 1280 /2/3//4"
   ]
  },
  {
   "cell_type": "markdown",
   "metadata": {},
   "source": [
    "### Start decoding"
   ]
  },
  {
   "cell_type": "code",
   "execution_count": null,
   "metadata": {
    "collapsed": true
   },
   "outputs": [],
   "source": [
    "model.embed_units*2, model.n_units"
   ]
  },
  {
   "cell_type": "code",
   "execution_count": null,
   "metadata": {
    "collapsed": true
   },
   "outputs": [],
   "source": [
    "batch_size = y.shape[1]\n",
    "ht = Variable(xp.zeros((batch_size, model.n_units), dtype=xp.float32))\n",
    "print(ht.shape)\n",
    "for curr_word, next_word in zip(y, y[1:]):\n",
    "    embed_id = model.embed_dec(curr_word)\n",
    "    print(embed_id.shape, curr_word.shape)\n",
    "    rnn_in = F.concat((embed_id, ht), axis=1)\n",
    "    print(rnn_in.shape)\n",
    "    h = model.feed_rnn(rnn_in, model.rnn_dec)\n",
    "    cv, _ = model.compute_context_vector(h)\n",
    "    cv_hdec = F.concat((cv, h), axis=1)\n",
    "    ht = model.context(cv_hdec)\n",
    "    # batch normalization before non-linearity\n",
    "    if USE_BN:\n",
    "        ht = model.context_bn(ht)\n",
    "    ht = F.tanh(ht)\n",
    "\n",
    "    predicted_out = model.out(ht)\n",
    "    print(predicted_out.shape)\n",
    "    print(ht.shape)\n",
    "    break"
   ]
  },
  {
   "cell_type": "code",
   "execution_count": null,
   "metadata": {
    "collapsed": true
   },
   "outputs": [],
   "source": [
    "ht = xp.zeros((y.shape[1],model.n_units), dtype=xp.float32)"
   ]
  },
  {
   "cell_type": "code",
   "execution_count": null,
   "metadata": {
    "collapsed": true
   },
   "outputs": [],
   "source": [
    "embed_id.shape"
   ]
  },
  {
   "cell_type": "code",
   "execution_count": null,
   "metadata": {
    "collapsed": true
   },
   "outputs": [],
   "source": [
    "F.concat((embed_id, ht), axis=1).shape"
   ]
  },
  {
   "cell_type": "code",
   "execution_count": null,
   "metadata": {
    "collapsed": true
   },
   "outputs": [],
   "source": [
    "model[model.rnn_enc[-1]].h.shape"
   ]
  },
  {
   "cell_type": "code",
   "execution_count": null,
   "metadata": {
    "collapsed": true
   },
   "outputs": [],
   "source": [
    "model.set_decoder_state(h)"
   ]
  },
  {
   "cell_type": "code",
   "execution_count": null,
   "metadata": {
    "collapsed": true
   },
   "outputs": [],
   "source": [
    "model.enc_states.shape, h.shape"
   ]
  },
  {
   "cell_type": "markdown",
   "metadata": {},
   "source": [
    "### Understanding batch matmul and matmul"
   ]
  },
  {
   "cell_type": "code",
   "execution_count": null,
   "metadata": {
    "collapsed": true
   },
   "outputs": [],
   "source": [
    "weights = F.batch_matmul(model.enc_states, h)"
   ]
  },
  {
   "cell_type": "code",
   "execution_count": null,
   "metadata": {
    "collapsed": true
   },
   "outputs": [],
   "source": [
    "weights.shape, h.shape"
   ]
  },
  {
   "cell_type": "code",
   "execution_count": null,
   "metadata": {
    "collapsed": true
   },
   "outputs": [],
   "source": [
    "weights[0,:5]"
   ]
  },
  {
   "cell_type": "code",
   "execution_count": null,
   "metadata": {
    "collapsed": true
   },
   "outputs": [],
   "source": [
    "model.enc_states[0].shape, h[0].shape"
   ]
  },
  {
   "cell_type": "code",
   "execution_count": null,
   "metadata": {
    "collapsed": true
   },
   "outputs": [],
   "source": [
    "F.matmul(model.enc_states[0], h[0])[:5]"
   ]
  },
  {
   "cell_type": "markdown",
   "metadata": {},
   "source": [
    "### Attention!"
   ]
  },
  {
   "cell_type": "code",
   "execution_count": null,
   "metadata": {
    "collapsed": true
   },
   "outputs": [],
   "source": [
    "ht = model.attn_Wa(h)"
   ]
  },
  {
   "cell_type": "code",
   "execution_count": null,
   "metadata": {
    "collapsed": true
   },
   "outputs": [],
   "source": [
    "ht.shape"
   ]
  },
  {
   "cell_type": "code",
   "execution_count": null,
   "metadata": {
    "collapsed": true
   },
   "outputs": [],
   "source": [
    "weights = F.batch_matmul(model.enc_states, ht)"
   ]
  },
  {
   "cell_type": "code",
   "execution_count": null,
   "metadata": {
    "collapsed": true
   },
   "outputs": [],
   "source": [
    "weights.shape"
   ]
  },
  {
   "cell_type": "markdown",
   "metadata": {},
   "source": [
    "### Batch and Layer Normalization"
   ]
  },
  {
   "cell_type": "code",
   "execution_count": null,
   "metadata": {
    "collapsed": true
   },
   "outputs": [],
   "source": [
    "X = batch_data['X']\n",
    "y = batch_data['y']"
   ]
  },
  {
   "cell_type": "code",
   "execution_count": null,
   "metadata": {
    "collapsed": true
   },
   "outputs": [],
   "source": [
    "X.shape, y.shape, X[0,:2].shape"
   ]
  },
  {
   "cell_type": "code",
   "execution_count": null,
   "metadata": {
    "collapsed": true
   },
   "outputs": [],
   "source": [
    "l1 = L.Linear(69,10)\n",
    "l1.to_gpu()"
   ]
  },
  {
   "cell_type": "code",
   "execution_count": null,
   "metadata": {
    "collapsed": true
   },
   "outputs": [],
   "source": [
    "h1 = l1(X[0,:2])"
   ]
  },
  {
   "cell_type": "code",
   "execution_count": null,
   "metadata": {
    "collapsed": true
   },
   "outputs": [],
   "source": [
    "h1.shape"
   ]
  },
  {
   "cell_type": "code",
   "execution_count": null,
   "metadata": {
    "collapsed": true
   },
   "outputs": [],
   "source": [
    "h1"
   ]
  },
  {
   "cell_type": "code",
   "execution_count": null,
   "metadata": {
    "collapsed": true
   },
   "outputs": [],
   "source": [
    "bn1 = L.BatchNormalization(10)\n",
    "bn1.to_gpu()"
   ]
  },
  {
   "cell_type": "code",
   "execution_count": null,
   "metadata": {
    "collapsed": true
   },
   "outputs": [],
   "source": [
    "ln1 = L.LayerNormalization(10)\n",
    "ln1.to_gpu()"
   ]
  },
  {
   "cell_type": "markdown",
   "metadata": {},
   "source": [
    "### Checking BN, LN on network"
   ]
  },
  {
   "cell_type": "code",
   "execution_count": null,
   "metadata": {
    "collapsed": true
   },
   "outputs": [],
   "source": [
    "h.shape"
   ]
  },
  {
   "cell_type": "code",
   "execution_count": null,
   "metadata": {
    "collapsed": true
   },
   "outputs": [],
   "source": [
    "# Layer normalization\n",
    "xp.mean(h.data,axis=1), xp.var(h.data,axis=1)"
   ]
  },
  {
   "cell_type": "code",
   "execution_count": null,
   "metadata": {
    "collapsed": true
   },
   "outputs": [],
   "source": [
    "xp.mean(model.L1_dec_ln(h).data,axis=1).shape"
   ]
  },
  {
   "cell_type": "code",
   "execution_count": null,
   "metadata": {
    "collapsed": true
   },
   "outputs": [],
   "source": [
    "xp.mean(h.data,axis=0).shape"
   ]
  },
  {
   "cell_type": "code",
   "execution_count": null,
   "metadata": {
    "collapsed": true
   },
   "outputs": [],
   "source": [
    "X = batch_data['X']\n",
    "h = F.swapaxes(X,1,2)\n",
    "\n",
    "h = F.relu(model[model.cnns[0]](h))\n",
    "h = F.max_pooling_nd(h, ksize=cnn_max_pool[0],\n",
    "                                 stride=cnn_max_pool[0],\n",
    "                                 pad=max_pool_pad)\n",
    "# h = model.forward_deep_cnn(h)\n",
    "# print(h.shape)\n",
    "# h = F.rollaxis(h, 2)\n",
    "h = F.swapaxes(h,1,2)\n",
    "print(h.shape)"
   ]
  },
  {
   "cell_type": "code",
   "execution_count": null,
   "metadata": {
    "collapsed": true
   },
   "outputs": [],
   "source": [
    "huhu = L.BatchNormalization(256)\n",
    "huhu.to_gpu()"
   ]
  },
  {
   "cell_type": "code",
   "execution_count": null,
   "metadata": {
    "collapsed": true
   },
   "outputs": [],
   "source": [
    "h[:,0,:].shape"
   ]
  },
  {
   "cell_type": "code",
   "execution_count": null,
   "metadata": {
    "collapsed": true
   },
   "outputs": [],
   "source": [
    "huhu(h[:,0,:]).shape"
   ]
  },
  {
   "cell_type": "code",
   "execution_count": null,
   "metadata": {
    "collapsed": true
   },
   "outputs": [],
   "source": [
    "model.CNN_0_bn(h)"
   ]
  },
  {
   "cell_type": "code",
   "execution_count": null,
   "metadata": {
    "collapsed": true
   },
   "outputs": [],
   "source": [
    "h.shape, model.CNN_2_bn.params"
   ]
  },
  {
   "cell_type": "code",
   "execution_count": null,
   "metadata": {
    "collapsed": true
   },
   "outputs": [],
   "source": [
    "xp.mean(h.data, axis=(0,1)), xp.var(h.data, axis=(0,1))"
   ]
  },
  {
   "cell_type": "code",
   "execution_count": null,
   "metadata": {
    "collapsed": true
   },
   "outputs": [],
   "source": [
    "# xp.mean(model.CNN_2_bn(h).data[0], axis=1)"
   ]
  },
  {
   "cell_type": "code",
   "execution_count": null,
   "metadata": {
    "collapsed": true
   },
   "outputs": [],
   "source": [
    "xp.mean(h[0].data,axis=0)"
   ]
  },
  {
   "cell_type": "markdown",
   "metadata": {},
   "source": [
    "### mean and var across all inputs in the batch and the same dimension should be 0, and ~1 respectively\n",
    "\n",
    "The shape should be the number of hidden units"
   ]
  },
  {
   "cell_type": "code",
   "execution_count": null,
   "metadata": {
    "collapsed": true
   },
   "outputs": [],
   "source": [
    "h2_bn = bn1(h1)"
   ]
  },
  {
   "cell_type": "code",
   "execution_count": null,
   "metadata": {
    "collapsed": true
   },
   "outputs": [],
   "source": [
    "h2_bn"
   ]
  },
  {
   "cell_type": "code",
   "execution_count": null,
   "metadata": {
    "collapsed": true
   },
   "outputs": [],
   "source": [
    "xp.mean(h1.data,axis=0), xp.var(h1.data,axis=0)"
   ]
  },
  {
   "cell_type": "code",
   "execution_count": null,
   "metadata": {
    "collapsed": true
   },
   "outputs": [],
   "source": [
    "xp.mean(h2_bn.data,axis=0), xp.var(h2_bn.data,axis=0)"
   ]
  },
  {
   "cell_type": "code",
   "execution_count": null,
   "metadata": {
    "collapsed": true
   },
   "outputs": [],
   "source": [
    "h2_ln = ln1(h1)"
   ]
  },
  {
   "cell_type": "code",
   "execution_count": null,
   "metadata": {
    "collapsed": true
   },
   "outputs": [],
   "source": [
    "h2_ln"
   ]
  },
  {
   "cell_type": "markdown",
   "metadata": {},
   "source": [
    "### mean and var across all layer activations within a batch should be 0, and ~1 respectively\n",
    "\n",
    "The shape should be the batch size"
   ]
  },
  {
   "cell_type": "code",
   "execution_count": null,
   "metadata": {
    "collapsed": true
   },
   "outputs": [],
   "source": [
    "xp.mean(h2_ln.data,axis=1), xp.var(h2_ln.data,axis=1)"
   ]
  },
  {
   "cell_type": "markdown",
   "metadata": {},
   "source": [
    "### CNN across frequencies"
   ]
  },
  {
   "cell_type": "code",
   "execution_count": null,
   "metadata": {
    "collapsed": true
   },
   "outputs": [],
   "source": [
    "a = xp.random.randn(39)"
   ]
  },
  {
   "cell_type": "code",
   "execution_count": null,
   "metadata": {
    "collapsed": true
   },
   "outputs": [],
   "source": [
    "a"
   ]
  },
  {
   "cell_type": "code",
   "execution_count": null,
   "metadata": {
    "collapsed": true
   },
   "outputs": [],
   "source": [
    "b = F.expand_dims(a, axis=1)"
   ]
  },
  {
   "cell_type": "code",
   "execution_count": null,
   "metadata": {
    "collapsed": true
   },
   "outputs": [],
   "source": [
    "c = F.reshape(a, (-1,13))"
   ]
  },
  {
   "cell_type": "code",
   "execution_count": null,
   "metadata": {
    "collapsed": true
   },
   "outputs": [],
   "source": [
    "c.shape"
   ]
  },
  {
   "cell_type": "code",
   "execution_count": null,
   "metadata": {
    "collapsed": true
   },
   "outputs": [],
   "source": [
    "c.data[1,:5]"
   ]
  },
  {
   "cell_type": "code",
   "execution_count": null,
   "metadata": {
    "collapsed": true
   },
   "outputs": [],
   "source": [
    "a = xp.load(\"fbank_out/fisher_train/20050908/20050908_182943_22_fsp-A-1.npy\")"
   ]
  },
  {
   "cell_type": "code",
   "execution_count": null,
   "metadata": {
    "collapsed": true
   },
   "outputs": [],
   "source": [
    "a.shape"
   ]
  },
  {
   "cell_type": "code",
   "execution_count": null,
   "metadata": {
    "collapsed": true
   },
   "outputs": [],
   "source": [
    "b = F.reshape(a, (1,len(a),-1,13))"
   ]
  },
  {
   "cell_type": "code",
   "execution_count": null,
   "metadata": {
    "collapsed": true
   },
   "outputs": [],
   "source": [
    "b.shape"
   ]
  },
  {
   "cell_type": "code",
   "execution_count": null,
   "metadata": {
    "collapsed": true
   },
   "outputs": [],
   "source": [
    "b = F.swapaxes(b,1,2)"
   ]
  },
  {
   "cell_type": "code",
   "execution_count": null,
   "metadata": {
    "collapsed": true
   },
   "outputs": [],
   "source": [
    "b.shape"
   ]
  },
  {
   "cell_type": "code",
   "execution_count": null,
   "metadata": {
    "collapsed": true
   },
   "outputs": [],
   "source": [
    "a[0,:20]"
   ]
  },
  {
   "cell_type": "code",
   "execution_count": null,
   "metadata": {
    "collapsed": true
   },
   "outputs": [],
   "source": [
    "b[0,0,:2,:5]"
   ]
  },
  {
   "cell_type": "code",
   "execution_count": null,
   "metadata": {
    "collapsed": true
   },
   "outputs": [],
   "source": [
    "c2d_1 = L.Convolution2D(in_channels=None, \n",
    "                      out_channels=32, \n",
    "                      ksize=(3,3), \n",
    "                      stride=(2,2),pad=3//2)\n",
    "\n",
    "c2d_bn_1 = L.BatchNormalization(32)\n",
    "\n",
    "c2d_2 = L.Convolution2D(in_channels=None, \n",
    "                      out_channels=32, \n",
    "                      ksize=(3,3), \n",
    "                      stride=(2,2),pad=3//2)\n",
    "\n",
    "c2d_bn_2 = L.BatchNormalization(32)\n",
    "\n",
    "c2d_1.to_gpu()\n",
    "c2d_2.to_gpu()\n",
    "c2d_bn_1.to_gpu()\n",
    "c2d_bn_2.to_gpu()"
   ]
  },
  {
   "cell_type": "code",
   "execution_count": null,
   "metadata": {
    "collapsed": true
   },
   "outputs": [],
   "source": [
    "X = batch_data['X']\n",
    "y = batch_data['y']\n",
    "X.shape, y.shape"
   ]
  },
  {
   "cell_type": "code",
   "execution_count": null,
   "metadata": {
    "collapsed": true
   },
   "outputs": [],
   "source": [
    "h = F.reshape(X, (X.shape[:2] + tuple([-1,SPEECH_DIM // 3])))\n",
    "h.shape"
   ]
  },
  {
   "cell_type": "code",
   "execution_count": null,
   "metadata": {
    "collapsed": true
   },
   "outputs": [],
   "source": [
    "h = F.swapaxes(h,1,2)\n",
    "h.shape"
   ]
  },
  {
   "cell_type": "code",
   "execution_count": null,
   "metadata": {
    "collapsed": true
   },
   "outputs": [],
   "source": [
    "c = c2d_1(h)"
   ]
  },
  {
   "cell_type": "code",
   "execution_count": null,
   "metadata": {
    "collapsed": true
   },
   "outputs": [],
   "source": [
    "c2d_1.W.shape"
   ]
  },
  {
   "cell_type": "code",
   "execution_count": null,
   "metadata": {
    "collapsed": true
   },
   "outputs": [],
   "source": [
    "c.shape"
   ]
  },
  {
   "cell_type": "code",
   "execution_count": null,
   "metadata": {
    "collapsed": true
   },
   "outputs": [],
   "source": [
    "c_bn = c2d_bn_1(c)"
   ]
  },
  {
   "cell_type": "code",
   "execution_count": null,
   "metadata": {
    "collapsed": true
   },
   "outputs": [],
   "source": [
    "c_bn.shape"
   ]
  },
  {
   "cell_type": "code",
   "execution_count": null,
   "metadata": {
    "collapsed": true
   },
   "outputs": [],
   "source": [
    "d = c2d_2(c)"
   ]
  },
  {
   "cell_type": "code",
   "execution_count": null,
   "metadata": {
    "collapsed": true
   },
   "outputs": [],
   "source": [
    "c2d_2.W.shape"
   ]
  },
  {
   "cell_type": "code",
   "execution_count": null,
   "metadata": {
    "collapsed": true
   },
   "outputs": [],
   "source": [
    "d.shape"
   ]
  },
  {
   "cell_type": "code",
   "execution_count": null,
   "metadata": {
    "collapsed": true
   },
   "outputs": [],
   "source": [
    "d_bn = c2d_bn_1(d)"
   ]
  },
  {
   "cell_type": "code",
   "execution_count": null,
   "metadata": {
    "collapsed": true
   },
   "outputs": [],
   "source": [
    "d_bn.shape"
   ]
  },
  {
   "cell_type": "code",
   "execution_count": null,
   "metadata": {
    "collapsed": true
   },
   "outputs": [],
   "source": [
    "e = F.swapaxes(d, 1,2)"
   ]
  },
  {
   "cell_type": "code",
   "execution_count": null,
   "metadata": {
    "collapsed": true
   },
   "outputs": [],
   "source": [
    "e.shape"
   ]
  },
  {
   "cell_type": "code",
   "execution_count": null,
   "metadata": {
    "collapsed": true
   },
   "outputs": [],
   "source": [
    "e.shape[:2] + tuple([-1])"
   ]
  },
  {
   "cell_type": "code",
   "execution_count": null,
   "metadata": {
    "collapsed": true
   },
   "outputs": [],
   "source": [
    "e = F.reshape(e, e.shape[:2] + tuple([-1]))"
   ]
  },
  {
   "cell_type": "code",
   "execution_count": null,
   "metadata": {
    "collapsed": true
   },
   "outputs": [],
   "source": [
    "e.shape"
   ]
  },
  {
   "cell_type": "code",
   "execution_count": null,
   "metadata": {
    "collapsed": true
   },
   "outputs": [],
   "source": [
    "cnd_1 = L.ConvolutionND(ndim=3,\n",
    "                        in_channels=1, \n",
    "                        out_channels=32, \n",
    "                        ksize=(3,3,3), \n",
    "                        stride=2,pad=3//2)\n",
    "\n",
    "cnd_2 = L.ConvolutionND(ndim=3,\n",
    "                        in_channels=1, \n",
    "                        out_channels=32, \n",
    "                        ksize=(3,3,3), \n",
    "                        stride=2,pad=3//2)\n",
    "\n",
    "cnd_1.to_gpu()\n",
    "cnd_2.to_gpu()"
   ]
  },
  {
   "cell_type": "markdown",
   "metadata": {},
   "source": [
    "### NStepBiGRU"
   ]
  },
  {
   "cell_type": "code",
   "execution_count": null,
   "metadata": {
    "collapsed": true
   },
   "outputs": [],
   "source": [
    "ng_enc = L.NStepGRU(2,SPEECH_DIM, hidden_units, DROPOUT_RATIO)\n",
    "ng_dec = L.NStepGRU(2,hidden_units, hidden_units, DROPOUT_RATIO)\n",
    "ng_enc.to_gpu()\n",
    "ng_dec.to_gpu()"
   ]
  },
  {
   "cell_type": "code",
   "execution_count": null,
   "metadata": {
    "collapsed": true
   },
   "outputs": [],
   "source": [
    "X, y = batch_data['X'][:,:20,:], batch_data['y']"
   ]
  },
  {
   "cell_type": "code",
   "execution_count": null,
   "metadata": {
    "collapsed": true
   },
   "outputs": [],
   "source": [
    "X.shape, y.shape"
   ]
  },
  {
   "cell_type": "code",
   "execution_count": null,
   "metadata": {
    "collapsed": true
   },
   "outputs": [],
   "source": [
    "X_list = list(X)"
   ]
  },
  {
   "cell_type": "code",
   "execution_count": null,
   "metadata": {
    "collapsed": true
   },
   "outputs": [],
   "source": [
    "h,o = ng_enc(hx=None, xs=X_list)"
   ]
  },
  {
   "cell_type": "code",
   "execution_count": null,
   "metadata": {
    "collapsed": true
   },
   "outputs": [],
   "source": [
    "X_list[0].shape"
   ]
  },
  {
   "cell_type": "code",
   "execution_count": null,
   "metadata": {
    "collapsed": true
   },
   "outputs": [],
   "source": [
    "h.shape, len(o)"
   ]
  },
  {
   "cell_type": "code",
   "execution_count": null,
   "metadata": {
    "collapsed": true
   },
   "outputs": [],
   "source": [
    "h[:1].shape,h[-1,:,:].shape"
   ]
  },
  {
   "cell_type": "code",
   "execution_count": null,
   "metadata": {
    "collapsed": true
   },
   "outputs": [],
   "source": [
    "o[1]"
   ]
  },
  {
   "cell_type": "code",
   "execution_count": null,
   "metadata": {
    "collapsed": true
   },
   "outputs": [],
   "source": [
    "Variable(o)"
   ]
  },
  {
   "cell_type": "code",
   "execution_count": null,
   "metadata": {
    "collapsed": true
   },
   "outputs": [],
   "source": [
    "o = Variable(np.asarray(o))\n",
    "o.shape"
   ]
  },
  {
   "cell_type": "code",
   "execution_count": null,
   "metadata": {
    "collapsed": true
   },
   "outputs": [],
   "source": [
    "hd,od = ng_dec(hx=h,xs=o)"
   ]
  },
  {
   "cell_type": "code",
   "execution_count": null,
   "metadata": {
    "collapsed": true
   },
   "outputs": [],
   "source": [
    "hd.shape"
   ]
  },
  {
   "cell_type": "code",
   "execution_count": null,
   "metadata": {
    "collapsed": true
   },
   "outputs": [],
   "source": []
  },
  {
   "cell_type": "markdown",
   "metadata": {},
   "source": [
    "### Make predictions"
   ]
  },
  {
   "cell_type": "code",
   "execution_count": null,
   "metadata": {
    "collapsed": true
   },
   "outputs": [],
   "source": [
    "pred_sents, loss = feed_model(map_dict[key],\n",
    "                              b_dict=bucket_dict[key],\n",
    "                              vocab_dict=vocab_dict,\n",
    "                              batch_size=64,\n",
    "                              x_key=enc_key,\n",
    "                              y_key=dec_key,\n",
    "                              train=True,\n",
    "                              cat_speech_path=os.path.join(out_path, key))"
   ]
  },
  {
   "cell_type": "code",
   "execution_count": null,
   "metadata": {
    "collapsed": true
   },
   "outputs": [],
   "source": [
    "[(w.decode(),f) for w,f in vocab_dict['es_c']['freq'].items()]"
   ]
  },
  {
   "cell_type": "code",
   "execution_count": null,
   "metadata": {
    "collapsed": true
   },
   "outputs": [],
   "source": [
    "\"\".join([w.decode() for w in map_dict['fisher_train']['20050908_182943_22_fsp-B-7']['es_c']])"
   ]
  },
  {
   "cell_type": "code",
   "execution_count": null,
   "metadata": {
    "collapsed": true
   },
   "outputs": [],
   "source": [
    "xp = cuda.cupy if gpuid >= 0 else np"
   ]
  },
  {
   "cell_type": "code",
   "execution_count": null,
   "metadata": {
    "collapsed": true
   },
   "outputs": [],
   "source": [
    "print(len(vocab_dict[enc_key]['w2i']))\n",
    "print(len(vocab_dict[dec_key]['w2i']))"
   ]
  },
  {
   "cell_type": "code",
   "execution_count": null,
   "metadata": {
    "collapsed": true
   },
   "outputs": [],
   "source": [
    "if gpuid >= 0:\n",
    "    # print(\"here\")\n",
    "    cuda.get_device_from_id(gpuid).use()"
   ]
  },
  {
   "cell_type": "code",
   "execution_count": null,
   "metadata": {
    "collapsed": true
   },
   "outputs": [],
   "source": [
    "model = SpeechEncoderDecoder()\n",
    "\n",
    "if gpuid >= 0:\n",
    "    cuda.get_device(gpuid).use()\n",
    "    model.to_gpu()"
   ]
  },
  {
   "cell_type": "code",
   "execution_count": null,
   "metadata": {
    "collapsed": true
   },
   "outputs": [],
   "source": [
    "if OPTIMIZER_ADAM1_SGD_0:\n",
    "    print(\"using ADAM optimizer\")\n",
    "    # optimizer = optimizers.Adam(alpha=0.001,\n",
    "    #                             beta1=0.9,\n",
    "    #                             beta2=0.999,\n",
    "    #                             eps=1e-08)\n",
    "    # optimizer = optimizers.AdaGrad()\n",
    "    optimizer = optimizers.Adam()\n",
    "    optimizer.setup(model)\n",
    "else:\n",
    "    print(\"using SGD optimizer\")\n",
    "    optimizer = optimizers.SGD(lr=0.01)\n",
    "    optimizer.setup(model)\n",
    "\n",
    "if WEIGHT_DECAY:\n",
    "    optimizer.add_hook(chainer.optimizer.WeightDecay(WD_RATIO))\n",
    "\n",
    "# gradient clipping\n",
    "optimizer.add_hook(chainer.optimizer.GradientClipping(threshold=2))"
   ]
  },
  {
   "cell_type": "code",
   "execution_count": null,
   "metadata": {
    "collapsed": true
   },
   "outputs": [],
   "source": [
    "print(type(map_dict['fisher_train']['20050908_182943_22_fsp-B-7']['en_w']))\n",
    "print(type(map_dict['fisher_dev']['20051009_182032_217_fsp-B-1']['en_w'][0]))"
   ]
  },
  {
   "cell_type": "code",
   "execution_count": null,
   "metadata": {
    "collapsed": true
   },
   "outputs": [],
   "source": [
    "map_dict['fisher_dev']['20051009_182032_217_fsp-B-1']['en_w'][0]"
   ]
  },
  {
   "cell_type": "code",
   "execution_count": null,
   "metadata": {
    "collapsed": true
   },
   "outputs": [],
   "source": [
    "feed_model(map_dict['fisher_train'], b_dict=bucket_dict['fisher_train'], \n",
    "           vocab_dict=vocab_dict, batch_size=BATCH_SIZE, \n",
    "           x_key=enc_key, y_key=dec_key, cat_speech_path=out_path)"
   ]
  },
  {
   "cell_type": "code",
   "execution_count": null,
   "metadata": {
    "collapsed": true
   },
   "outputs": [],
   "source": [
    "vocab_dict = pickle.load(open(\"out/train_vocab.dict\", \"rb\"))\n",
    "vocab_dict['es_w']['w2i'][b'solas']"
   ]
  },
  {
   "cell_type": "code",
   "execution_count": null,
   "metadata": {
    "collapsed": true
   },
   "outputs": [],
   "source": [
    "map_dict['fisher_train']['20050908_182943_22_fsp-B-7']['es_w']"
   ]
  },
  {
   "cell_type": "code",
   "execution_count": null,
   "metadata": {
    "collapsed": true
   },
   "outputs": [],
   "source": [
    "len(pred_sents), pred_sents[0]"
   ]
  },
  {
   "cell_type": "code",
   "execution_count": null,
   "metadata": {
    "collapsed": true
   },
   "outputs": [],
   "source": [
    "for b in b_shuffled:\n",
    "    bucket = bucket_dict['fisher_train']['buckets'][b]\n",
    "    b_len = len(bucket)\n",
    "    print(b_len)\n",
    "    for i in range(0,b_len, 32):\n",
    "        "
   ]
  },
  {
   "cell_type": "markdown",
   "metadata": {},
   "source": [
    "## Noise simulation test"
   ]
  },
  {
   "cell_type": "code",
   "execution_count": null,
   "metadata": {
    "collapsed": true
   },
   "outputs": [],
   "source": [
    "list(map_dict['fisher_train'].keys())[:5]"
   ]
  },
  {
   "cell_type": "code",
   "execution_count": null,
   "metadata": {
    "collapsed": true
   },
   "outputs": [],
   "source": [
    "test_batch = buckets_dict['train'][0]['X_fwd'][:10]"
   ]
  },
  {
   "cell_type": "code",
   "execution_count": null,
   "metadata": {
    "collapsed": true
   },
   "outputs": [],
   "source": [
    "test_batch.shape"
   ]
  },
  {
   "cell_type": "code",
   "execution_count": null,
   "metadata": {
    "collapsed": true
   },
   "outputs": [],
   "source": [
    "noise_var = np.full(test_batch.shape, 0.01, dtype=np.float32)"
   ]
  },
  {
   "cell_type": "code",
   "execution_count": null,
   "metadata": {
    "collapsed": true
   },
   "outputs": [],
   "source": [
    "noise = Variable(np.random.normal(0.0, .01, size=test_batch.shape).astype(xp.float32))\n",
    "noise.to_gpu()"
   ]
  },
  {
   "cell_type": "code",
   "execution_count": null,
   "metadata": {
    "collapsed": true
   },
   "outputs": [],
   "source": [
    "test_batch_noise = test_batch + noise"
   ]
  },
  {
   "cell_type": "code",
   "execution_count": null,
   "metadata": {
    "collapsed": true
   },
   "outputs": [],
   "source": [
    "test_batch[0,0,:5], test_batch_noise[0,0,:5]"
   ]
  },
  {
   "cell_type": "markdown",
   "metadata": {},
   "source": [
    "## Checking for consistency in train/dev sets"
   ]
  },
  {
   "cell_type": "code",
   "execution_count": null,
   "metadata": {
    "collapsed": true
   },
   "outputs": [],
   "source": [
    "print(set([f.split(\".\")[0] for f in text_data['train'].keys()]), sep=\", \")"
   ]
  },
  {
   "cell_type": "code",
   "execution_count": null,
   "metadata": {
    "collapsed": true
   },
   "outputs": [],
   "source": [
    "print(set([f.split(\".\")[0] for f in text_data['dev'].keys()]), sep=\", \")"
   ]
  },
  {
   "cell_type": "code",
   "execution_count": null,
   "metadata": {
    "collapsed": true
   },
   "outputs": [],
   "source": [
    "train_fids = []\n",
    "for b in buckets_dict[\"train\"]:\n",
    "    train_fids.extend(b['f'])\n",
    "dev_fids = []\n",
    "for b in buckets_dict[\"dev\"]:\n",
    "    dev_fids.extend(b['f'])\n",
    "print(len(train_fids), len(dev_fids))\n",
    "print(set([f.split(\".\")[0] for f in train_fids]), sep=\", \")\n",
    "print(set([f.split(\".\")[0] for f in dev_fids]), sep=\", \")"
   ]
  },
  {
   "cell_type": "code",
   "execution_count": null,
   "metadata": {
    "collapsed": true
   },
   "outputs": [],
   "source": [
    "text_data['train'].keys()"
   ]
  },
  {
   "cell_type": "markdown",
   "metadata": {},
   "source": [
    "## Predictions"
   ]
  },
  {
   "cell_type": "code",
   "execution_count": null,
   "metadata": {
    "collapsed": true
   },
   "outputs": [],
   "source": [
    "pr_ids, en_ids = predict(4,2, cat=\"dev\", display=True)"
   ]
  },
  {
   "cell_type": "code",
   "execution_count": null,
   "metadata": {
    "collapsed": true
   },
   "outputs": [],
   "source": [
    "model_fil"
   ]
  },
  {
   "cell_type": "code",
   "execution_count": null,
   "metadata": {
    "collapsed": true
   },
   "outputs": [],
   "source": [
    "model_fil_old = 'small/seq2seq_sen-4000_hwy4-dec2_emb-512-h-512__word_gru_sspkr_drpt-0_noise-0.20_l2-0.001_cnn-num100-range9-199-20-pool900_10.model'"
   ]
  },
  {
   "cell_type": "code",
   "execution_count": null,
   "metadata": {
    "collapsed": true
   },
   "outputs": [],
   "source": [
    "!ls $model_fil_old"
   ]
  },
  {
   "cell_type": "code",
   "execution_count": null,
   "metadata": {
    "collapsed": true
   },
   "outputs": [],
   "source": [
    "serializers.load_npz(model_fil_old, model)"
   ]
  },
  {
   "cell_type": "code",
   "execution_count": null,
   "metadata": {
    "collapsed": true,
    "scrolled": true
   },
   "outputs": [],
   "source": [
    "pplx_new = compute_pplx(cat=\"dev\", num_sent=100)"
   ]
  },
  {
   "cell_type": "code",
   "execution_count": null,
   "metadata": {
    "collapsed": true
   },
   "outputs": [],
   "source": [
    "pr_ids, en_ids = predict(3,2, cat=\"train\", display=True)"
   ]
  },
  {
   "cell_type": "code",
   "execution_count": null,
   "metadata": {
    "collapsed": true
   },
   "outputs": [],
   "source": [
    "pr_ids, en_ids = predict(3,2, cat=\"dev\", display=True)"
   ]
  },
  {
   "cell_type": "code",
   "execution_count": null,
   "metadata": {
    "collapsed": true
   },
   "outputs": [],
   "source": []
  }
 ],
 "metadata": {
  "kernelspec": {
   "display_name": "Python 3",
   "language": "python",
   "name": "python3"
  },
  "language_info": {
   "codemirror_mode": {
    "name": "ipython",
    "version": 3
   },
   "file_extension": ".py",
   "mimetype": "text/x-python",
   "name": "python",
   "nbconvert_exporter": "python",
   "pygments_lexer": "ipython3",
   "version": "3.6.1"
  }
 },
 "nbformat": 4,
 "nbformat_minor": 2
}
