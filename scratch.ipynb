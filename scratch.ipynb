{
 "cells": [
  {
   "cell_type": "code",
   "execution_count": 1,
   "metadata": {},
   "outputs": [
    {
     "name": "stderr",
     "output_type": "stream",
     "text": [
      "\r",
      "  0%|          | 0/3977 [00:00<?, ?it/s]"
     ]
    },
    {
     "name": "stdout",
     "output_type": "stream",
     "text": [
      "translating es to en\n",
      "callhome es-en configuration\n",
      "--------------------------------------------------\n",
      "loading info_dict from=./mfcc_out/info.dict\n",
      "--------------------------------------------------\n",
      "creating buckets for: fisher_dev\n",
      "creating buckets for key: sp\n"
     ]
    },
    {
     "name": "stderr",
     "output_type": "stream",
     "text": [
      "100%|██████████| 3977/3977 [00:00<00:00, 400286.69it/s]\n",
      "100%|██████████| 3959/3959 [00:00<00:00, 377829.97it/s]\n",
      "100%|██████████| 3641/3641 [00:00<00:00, 400174.54it/s]\n",
      " 29%|██▊       | 39598/138708 [00:00<00:00, 395975.66it/s]"
     ]
    },
    {
     "name": "stdout",
     "output_type": "stream",
     "text": [
      "creating buckets for: fisher_dev2\n",
      "creating buckets for key: sp\n",
      "creating buckets for: fisher_test\n",
      "creating buckets for key: sp\n",
      "creating buckets for: fisher_train\n",
      "creating buckets for key: sp\n"
     ]
    },
    {
     "name": "stderr",
     "output_type": "stream",
     "text": [
      "100%|██████████| 138708/138708 [00:00<00:00, 431637.54it/s]\n"
     ]
    },
    {
     "name": "stdout",
     "output_type": "stream",
     "text": [
      "--------------------------------------------------\n",
      "saving info dict in: ./mfcc_out/buckets_sp.dict\n",
      "all done ...\n",
      "--------------------------------------------------\n",
      "showing buckets for category: fisher_dev\n",
      "number of buckets=20, width of each bucket=64\n",
      "index | width | num   \n",
      "    0 |     0 |     75\n",
      "    1 |    64 |    733\n",
      "    2 |   128 |    598\n",
      "    3 |   192 |    398\n",
      "    4 |   256 |    346\n",
      "    5 |   320 |    281\n",
      "    6 |   384 |    220\n",
      "    7 |   448 |    200\n",
      "    8 |   512 |    150\n",
      "    9 |   576 |    148\n",
      "   10 |   640 |    145\n",
      "   11 |   704 |    116\n",
      "   12 |   768 |     97\n",
      "   13 |   832 |    103\n",
      "   14 |   896 |     91\n",
      "   15 |   960 |     57\n",
      "   16 |  1024 |     52\n",
      "   17 |  1088 |     55\n",
      "   18 |  1152 |     34\n",
      "   19 |  1216 |     78\n",
      "--------------------------------------------------\n",
      "showing buckets for category: fisher_dev2\n",
      "number of buckets=20, width of each bucket=64\n",
      "index | width | num   \n",
      "    0 |     0 |     54\n",
      "    1 |    64 |    591\n",
      "    2 |   128 |    548\n",
      "    3 |   192 |    463\n",
      "    4 |   256 |    405\n",
      "    5 |   320 |    310\n",
      "    6 |   384 |    256\n",
      "    7 |   448 |    206\n",
      "    8 |   512 |    187\n",
      "    9 |   576 |    143\n",
      "   10 |   640 |    121\n",
      "   11 |   704 |     95\n",
      "   12 |   768 |     96\n",
      "   13 |   832 |     94\n",
      "   14 |   896 |    113\n",
      "   15 |   960 |     60\n",
      "   16 |  1024 |     54\n",
      "   17 |  1088 |     38\n",
      "   18 |  1152 |     31\n",
      "   19 |  1216 |     94\n",
      "--------------------------------------------------\n",
      "showing buckets for category: fisher_test\n",
      "number of buckets=20, width of each bucket=64\n",
      "index | width | num   \n",
      "    0 |     0 |     53\n",
      "    1 |    64 |    644\n",
      "    2 |   128 |    526\n",
      "    3 |   192 |    375\n",
      "    4 |   256 |    325\n",
      "    5 |   320 |    259\n",
      "    6 |   384 |    192\n",
      "    7 |   448 |    168\n",
      "    8 |   512 |    121\n",
      "    9 |   576 |    122\n",
      "   10 |   640 |    105\n",
      "   11 |   704 |     85\n",
      "   12 |   768 |    109\n",
      "   13 |   832 |    103\n",
      "   14 |   896 |    107\n",
      "   15 |   960 |     73\n",
      "   16 |  1024 |     63\n",
      "   17 |  1088 |     66\n",
      "   18 |  1152 |     47\n",
      "   19 |  1216 |     98\n",
      "--------------------------------------------------\n",
      "showing buckets for category: fisher_train\n",
      "number of buckets=20, width of each bucket=64\n",
      "index | width | num   \n",
      "    0 |     0 |   2743\n",
      "    1 |    64 |  23182\n",
      "    2 |   128 |  19424\n",
      "    3 |   192 |  14694\n",
      "    4 |   256 |  12075\n",
      "    5 |   320 |   9881\n",
      "    6 |   384 |   8092\n",
      "    7 |   448 |   6646\n",
      "    8 |   512 |   5557\n",
      "    9 |   576 |   4774\n",
      "   10 |   640 |   4244\n",
      "   11 |   704 |   3997\n",
      "   12 |   768 |   3759\n",
      "   13 |   832 |   3386\n",
      "   14 |   896 |   3171\n",
      "   15 |   960 |   2851\n",
      "   16 |  1024 |   2344\n",
      "   17 |  1088 |   1991\n",
      "   18 |  1152 |   1585\n",
      "   19 |  1216 |   4312\n",
      "cnn details:\n",
      "{'ndim': 1, 'in_channels': 39, 'out_channels': 60, 'ksize': 9, 'stride': 2, 'pad': 4}\n",
      "{'ndim': 1, 'in_channels': 60, 'out_channels': 60, 'ksize': 5, 'stride': 2, 'pad': 2}\n",
      "{'ndim': 1, 'in_channels': 60, 'out_channels': 60, 'ksize': 5, 'stride': 4, 'pad': 2}\n",
      "--------------------------------------------------\n",
      "loading dict: ./mfcc_out/map.dict\n",
      "loading dict: ./mfcc_out/train_vocab.dict\n",
      "--------------------------------------------------\n",
      "loading dict: ./mfcc_out/buckets_sp.dict\n",
      "--------------------------------------------------\n",
      "utterances in fisher_dev = 3979\n",
      "utterances in fisher_dev2 = 3961\n",
      "utterances in fisher_test = 3641\n",
      "utterances in fisher_train = 138819\n",
      "vocab size for sp = 0\n",
      "vocab size for en_c = 280\n",
      "model file name: fsh_again/seq2seq_sen-138819_hwy2-dec2_emb-64-h-256__sp_en_c_lstm_drpt-0.2_noise-0_l2-0_60_60_60_2_2_4_1DCNN_BN_LN_enc-2.model\n",
      "log file name: fsh_again/train_sen-138819_hwy2-dec2_emb-64-h-256__sp_en_c_lstm_drpt-0.2_noise-0_l2-0_60_60_60_2_2_4_1DCNN_BN_LN_enc-2.log\n"
     ]
    }
   ],
   "source": [
    "%load_ext autoreload\n",
    "%autoreload 1\n",
    "\n",
    "%aimport basics\n",
    "%aimport nn_config\n",
    "%aimport enc_dec\n",
    "\n",
    "from basics import *\n",
    "from nn_config import *\n",
    "from enc_dec import *\n",
    "%matplotlib inline"
   ]
  },
  {
   "cell_type": "code",
   "execution_count": 2,
   "metadata": {},
   "outputs": [
    {
     "name": "stdout",
     "output_type": "stream",
     "text": [
      "cnn_out_dim = rnn_in_units =  60\n"
     ]
    },
    {
     "name": "stderr",
     "output_type": "stream",
     "text": [
      "/afs/inf.ed.ac.uk/group/project/lowres/work/anaconda3/envs/chainer2/lib/python3.6/site-packages/chainer/utils/experimental.py:104: FutureWarning: chainer.links.normalization.layer_normalization.py is experimental. The interface can change in the future.\n",
      "  FutureWarning)\n"
     ]
    },
    {
     "name": "stdout",
     "output_type": "stream",
     "text": [
      "using ADAM optimizer\n"
     ]
    }
   ],
   "source": [
    "from nmt_run import *"
   ]
  },
  {
   "cell_type": "code",
   "execution_count": 3,
   "metadata": {},
   "outputs": [
    {
     "name": "stdout",
     "output_type": "stream",
     "text": [
      "--------------------------------------------------------------------------------\n",
      "model not found\n"
     ]
    }
   ],
   "source": [
    "last_epoch = check_model()"
   ]
  },
  {
   "cell_type": "code",
   "execution_count": 4,
   "metadata": {
    "collapsed": true
   },
   "outputs": [],
   "source": [
    "t = L.Linear(5,5, nobias=True)"
   ]
  },
  {
   "cell_type": "code",
   "execution_count": 5,
   "metadata": {},
   "outputs": [
    {
     "data": {
      "text/plain": [
       "((9, 7, 5), (1, 5))"
      ]
     },
     "execution_count": 5,
     "metadata": {},
     "output_type": "execute_result"
    }
   ],
   "source": [
    "# a dimensions: batch_size, sequence length, hidden units\n",
    "a = Variable(np.random.randn(9,7,5).astype(np.float32))\n",
    "b = Variable(np.random.randn(1,5).astype(np.float32))\n",
    "a.shape, b.shape"
   ]
  },
  {
   "cell_type": "code",
   "execution_count": 6,
   "metadata": {
    "collapsed": true
   },
   "outputs": [],
   "source": [
    "x = t(b)\n",
    "# F.matmul(a,x, transb=True)"
   ]
  },
  {
   "cell_type": "code",
   "execution_count": 7,
   "metadata": {
    "collapsed": true
   },
   "outputs": [],
   "source": [
    "# F.softmax(F.matmul(a,t(b),transb=True),axis=0)"
   ]
  },
  {
   "cell_type": "code",
   "execution_count": 8,
   "metadata": {},
   "outputs": [
    {
     "data": {
      "text/plain": [
       "(5, 9, 7)"
      ]
     },
     "execution_count": 8,
     "metadata": {},
     "output_type": "execute_result"
    }
   ],
   "source": [
    "F.rollaxis(a,2).shape"
   ]
  },
  {
   "cell_type": "markdown",
   "metadata": {},
   "source": [
    "### Get batch of data"
   ]
  },
  {
   "cell_type": "code",
   "execution_count": 9,
   "metadata": {
    "collapsed": true
   },
   "outputs": [],
   "source": [
    "key = 'fisher_train'"
   ]
  },
  {
   "cell_type": "code",
   "execution_count": 10,
   "metadata": {
    "collapsed": true
   },
   "outputs": [],
   "source": [
    "b_dict=bucket_dict[key]\n",
    "m_dict = map_dict[key]\n",
    "vocab_dict=vocab_dict\n",
    "batch_size=16\n",
    "x_key=enc_key\n",
    "y_key=dec_key\n",
    "train=True\n",
    "cat_speech_path=os.path.join(out_path, key)\n",
    "\n",
    "b = num_b-1\n",
    "# b = 9\n",
    "bucket = b_dict['buckets'][b]\n",
    "b_len = len(bucket)"
   ]
  },
  {
   "cell_type": "code",
   "execution_count": 11,
   "metadata": {},
   "outputs": [
    {
     "data": {
      "text/plain": [
       "(20, 4312)"
      ]
     },
     "execution_count": 11,
     "metadata": {},
     "output_type": "execute_result"
    }
   ],
   "source": [
    "num_b, b_len"
   ]
  },
  {
   "cell_type": "code",
   "execution_count": 12,
   "metadata": {
    "collapsed": true
   },
   "outputs": [],
   "source": [
    "utt_list = bucket[:batch_size]"
   ]
  },
  {
   "cell_type": "code",
   "execution_count": 13,
   "metadata": {},
   "outputs": [
    {
     "data": {
      "text/plain": [
       "((16, 1280, 39), (16, 150))"
      ]
     },
     "execution_count": 13,
     "metadata": {},
     "output_type": "execute_result"
    }
   ],
   "source": [
    "batch_data = get_batch(m_dict, x_key, y_key, utt_list, vocab_dict, ((b+1) * width_b), num_b*b_len, \n",
    "                           cat_speech_path=cat_speech_path)\n",
    "batch_data['X'].shape, batch_data['y'].shape"
   ]
  },
  {
   "cell_type": "code",
   "execution_count": 14,
   "metadata": {
    "collapsed": true
   },
   "outputs": [],
   "source": [
    "en_chars = [w.decode() for w in m_dict[utt_list[0]][y_key]]\n",
    "en_ids = [str(vocab_dict[y_key]['w2i'].get(w, UNK_ID)) for w in m_dict[utt_list[0]][y_key]]"
   ]
  },
  {
   "cell_type": "code",
   "execution_count": 15,
   "metadata": {},
   "outputs": [
    {
     "name": "stdout",
     "output_type": "stream",
     "text": [
      "well yes no who knows the the i mean in the past marriage were like fixed you had to marry a guy with money or with the\n",
      "['8', '5', '6', '6', '11', '20', '5', '14', '11', '17', '7', '11', '8', '4', '7', '11', '16', '17', '7', '8', '14', '11', '10', '4', '5', '11', '10', '4', '5', '11', '9', '11', '12', '5', '13', '17', '11', '9', '17', '11', '10', '4', '5', '11', '15', '13', '14', '10', '11', '12', '13', '22', '22', '9', '13', '18', '5', '11', '8', '5', '22', '5', '11', '6', '9', '16', '5', '11', '25', '9', '33', '5', '24', '11', '20', '7', '21', '11', '4', '13', '24', '11', '10', '7', '11', '12', '13', '22', '22', '20', '11', '13', '11', '18', '21', '20', '11', '8', '9', '10', '4', '11', '12', '7', '17', '5', '20', '11', '7', '22', '11', '8', '9', '10', '4', '11', '10', '4', '5']\n"
     ]
    }
   ],
   "source": [
    "print(\"\".join(en_chars))\n",
    "print(en_ids)"
   ]
  },
  {
   "cell_type": "code",
   "execution_count": 16,
   "metadata": {},
   "outputs": [
    {
     "name": "stdout",
     "output_type": "stream",
     "text": [
      "bucket size=4312\n",
      "0 (16, 1280, 39) (16, 150)\n",
      "variable(783.9828491210938)\n"
     ]
    }
   ],
   "source": [
    "print(\"bucket size={0:d}\".format(b_len))\n",
    "\n",
    "for i in range(0,b_len, batch_size):\n",
    "    utt_list = bucket[i:i+batch_size]\n",
    "    batch_data = get_batch(m_dict, x_key, y_key, utt_list, vocab_dict, ((b+1) * width_b), (80), \n",
    "                           cat_speech_path=cat_speech_path)\n",
    "    \n",
    "    print(i, batch_data['X'].shape, batch_data['y'].shape)\n",
    "    \n",
    "    p, loss = model.forward(batch_data['X'], batch_data['y'])\n",
    "    print(loss)\n",
    "    break"
   ]
  },
  {
   "cell_type": "code",
   "execution_count": 17,
   "metadata": {
    "collapsed": true
   },
   "outputs": [],
   "source": [
    "model.cleargrads()"
   ]
  },
  {
   "cell_type": "code",
   "execution_count": 18,
   "metadata": {},
   "outputs": [],
   "source": [
    "loss.backward()"
   ]
  },
  {
   "cell_type": "code",
   "execution_count": 19,
   "metadata": {},
   "outputs": [
    {
     "name": "stdout",
     "output_type": "stream",
     "text": [
      "[[-33.64988708   8.08380508   8.95779419 ..., -43.45877075  11.64368057\n",
      "   73.16069031]\n",
      " [ -9.46859169  -4.87609577   5.85267115 ..., -10.41169262  10.37285709\n",
      "   15.60807133]\n",
      " [ -5.38474846  -1.98847294  17.86258698 ...,   7.65962029   9.79898643\n",
      "   39.59176636]\n",
      " ..., \n",
      " [  9.83864212  12.80037785  31.68913651 ...,  16.46880341 -15.07423687\n",
      "    1.43122721]\n",
      " [-18.81478119  -6.87462234   9.6472559  ..., -27.51366425   3.9531436\n",
      "   15.21145821]\n",
      " [  0.64102012 -11.10811234  20.15991783 ..., -24.90569115   0.57724261\n",
      "   25.74953842]]\n"
     ]
    }
   ],
   "source": [
    "if lstm1_or_gru0:\n",
    "    print(model.L1_dec.lateral.W.grad)\n",
    "else:\n",
    "    print(model.L1_dec.W.W.grad)"
   ]
  },
  {
   "cell_type": "code",
   "execution_count": 20,
   "metadata": {},
   "outputs": [
    {
     "data": {
      "text/plain": [
       "array([[ -147.7593689 ,    -2.36455679,   -27.53168488, ...,\n",
       "          -19.35217667,   -84.54588318,  -280.55969238],\n",
       "       [  120.15211487,    72.27873993,   160.7159729 , ...,\n",
       "           88.99469757,  -251.2326355 ,  -366.57797241],\n",
       "       [ -365.5730896 ,    -4.9597311 ,  -145.09417725, ...,\n",
       "          -79.32572937,   147.92979431,   149.55645752],\n",
       "       ..., \n",
       "       [   23.18840027,   224.00543213,   686.19219971, ...,\n",
       "          119.38734436,  -449.52478027, -1286.08410645],\n",
       "       [   22.97613525,   -27.30207253,    39.02653122, ...,\n",
       "          -56.02933502,    74.60786438,   144.35256958],\n",
       "       [   30.57595444,    38.58723068,   -12.92539024, ...,\n",
       "          100.50601196,   -72.22195435,  -184.11869812]], dtype=float32)"
      ]
     },
     "execution_count": 20,
     "metadata": {},
     "output_type": "execute_result"
    }
   ],
   "source": [
    "model.attn_Wa.W.grad"
   ]
  },
  {
   "cell_type": "code",
   "execution_count": 21,
   "metadata": {},
   "outputs": [
    {
     "data": {
      "text/plain": [
       "array([[ 0.05852682, -0.22259027, -0.02887226, ...,  0.06145174,\n",
       "         0.04910734,  0.06386186],\n",
       "       [ 0.0618061 , -0.3025319 , -0.02406632, ...,  0.10129238,\n",
       "         0.06701375,  0.05048496],\n",
       "       [ 0.14025773,  0.13839331, -0.11564685, ...,  0.04732205,\n",
       "        -0.16890104,  0.15017369],\n",
       "       ..., \n",
       "       [ 0.04800133, -0.20997335, -0.01231945, ...,  0.05902096,\n",
       "         0.04313072,  0.0454587 ],\n",
       "       [ 0.06062125, -0.21490191, -0.0234504 , ...,  0.0711549 ,\n",
       "         0.04817952,  0.05381431],\n",
       "       [ 0.02666995, -0.19760492, -0.01212454, ...,  0.04233644,\n",
       "         0.0350377 ,  0.04467406]], dtype=float32)"
      ]
     },
     "execution_count": 21,
     "metadata": {},
     "output_type": "execute_result"
    }
   ],
   "source": [
    "model.out.W.grad"
   ]
  },
  {
   "cell_type": "code",
   "execution_count": 22,
   "metadata": {},
   "outputs": [
    {
     "name": "stdout",
     "output_type": "stream",
     "text": [
      "[[-307.68041992 -112.08648682  154.35424805 ..., -171.84098816\n",
      "    82.19050598 -348.07003784]\n",
      " [ -39.5018158   -17.58435822   23.65522957 ...,  -26.20094299\n",
      "     6.00511837  -70.25811768]\n",
      " [ -92.29859924  -48.74685669   79.29776764 ...,  -67.50340271\n",
      "    17.51095581 -164.38002014]\n",
      " ..., \n",
      " [  57.69629288   12.66294098   -4.29231739 ...,   43.07843018\n",
      "    20.87255669   54.96805191]\n",
      " [  87.52285767   37.89221573  -31.36192131 ...,   98.51938629\n",
      "    15.68114281  136.06880188]\n",
      " [  27.90468788  -14.13180637   10.59724426 ...,   36.30681229\n",
      "     2.38735771   11.16697121]]\n"
     ]
    }
   ],
   "source": [
    "if lstm1_or_gru0:\n",
    "    print(model.L0_enc.lateral.W.grad)\n",
    "else:\n",
    "    print(model.L0_enc.W.W.grad)"
   ]
  },
  {
   "cell_type": "code",
   "execution_count": 53,
   "metadata": {},
   "outputs": [
    {
     "data": {
      "text/plain": [
       "(1024, 256)"
      ]
     },
     "execution_count": 53,
     "metadata": {},
     "output_type": "execute_result"
    }
   ],
   "source": [
    "model.L0_enc.lateral.W.grad.shape"
   ]
  },
  {
   "cell_type": "code",
   "execution_count": 56,
   "metadata": {},
   "outputs": [
    {
     "data": {
      "text/plain": [
       "<matplotlib.axes._subplots.AxesSubplot at 0x7f3d8304d080>"
      ]
     },
     "execution_count": 56,
     "metadata": {},
     "output_type": "execute_result"
    },
    {
     "data": {
      "image/png": "[encoded data removed]",
      "text/plain": [
       "<matplotlib.figure.Figure at 0x7f3d8304dd30>"
      ]
     },
     "metadata": {},
     "output_type": "display_data"
    }
   ],
   "source": [
    "plt.figure(figsize=(20, 10))\n",
    "plt.axis('off')\n",
    "if lstm1_or_gru0:\n",
    "    weights = model.L1_enc.lateral.W.grad \n",
    "else:\n",
    "    weights = model.L1_enc.W.W.grad\n",
    "if gpuid >= 0:\n",
    "    weights = cuda.cupy.asnumpy(weights[:50,:])\n",
    "# plt.imshow(weights, interpolation='none')\n",
    "sns.heatmap(weights, cmap=\"RdBu_r\")"
   ]
  },
  {
   "cell_type": "code",
   "execution_count": 57,
   "metadata": {},
   "outputs": [
    {
     "data": {
      "text/plain": [
       "<matplotlib.axes._subplots.AxesSubplot at 0x7f3d8304dc18>"
      ]
     },
     "execution_count": 57,
     "metadata": {},
     "output_type": "execute_result"
    },
    {
     "data": {
      "image/png": "[encoded data removed]",
      "text/plain": [
       "<matplotlib.figure.Figure at 0x7f3d846c3390>"
      ]
     },
     "metadata": {},
     "output_type": "display_data"
    }
   ],
   "source": [
    "plt.figure(figsize=(20, 10))\n",
    "plt.axis('off')\n",
    "if lstm1_or_gru0:\n",
    "    weights = model.L1_dec.lateral.W.grad \n",
    "else:\n",
    "    weights = model.L1_dec.W.W.grad\n",
    "if gpuid >= 0:\n",
    "    weights = cuda.cupy.asnumpy(weights[:50,:])\n",
    "# plt.imshow(weights, interpolation='none')\n",
    "sns.heatmap(weights, cmap=\"RdBu_r\")"
   ]
  },
  {
   "cell_type": "code",
   "execution_count": 58,
   "metadata": {},
   "outputs": [
    {
     "data": {
      "text/plain": [
       "<matplotlib.axes._subplots.AxesSubplot at 0x7f3d863c9588>"
      ]
     },
     "execution_count": 58,
     "metadata": {},
     "output_type": "execute_result"
    },
    {
     "data": {
      "image/png": "[encoded data removed]",
      "text/plain": [
       "<matplotlib.figure.Figure at 0x7f3d863db588>"
      ]
     },
     "metadata": {},
     "output_type": "display_data"
    }
   ],
   "source": [
    "plt.figure(figsize=(20, 10))\n",
    "plt.axis('off')\n",
    "if lstm1_or_gru0:\n",
    "    weights = model.out.W.grad\n",
    "else:\n",
    "    weights = model.out.W.grad\n",
    "if gpuid >= 0:\n",
    "    weights = cuda.cupy.asnumpy(weights[:50,:])\n",
    "# plt.imshow(weights, interpolation='none')\n",
    "sns.heatmap(weights, cmap=\"RdBu_r\")"
   ]
  },
  {
   "cell_type": "code",
   "execution_count": 23,
   "metadata": {},
   "outputs": [
    {
     "data": {
      "text/plain": [
       "(array([  1,   1,   1, ..., 277, 277, 277]),\n",
       " array([ 0,  1,  2, ..., 60, 62, 63]))"
      ]
     },
     "execution_count": 23,
     "metadata": {},
     "output_type": "execute_result"
    }
   ],
   "source": [
    "xp.nonzero(model.embed_dec.W.grad)"
   ]
  },
  {
   "cell_type": "code",
   "execution_count": 24,
   "metadata": {},
   "outputs": [
    {
     "data": {
      "text/plain": [
       "('sp', 'en_c')"
      ]
     },
     "execution_count": 24,
     "metadata": {},
     "output_type": "execute_result"
    }
   ],
   "source": [
    "x_key, y_key"
   ]
  },
  {
   "cell_type": "code",
   "execution_count": 25,
   "metadata": {},
   "outputs": [
    {
     "name": "stdout",
     "output_type": "stream",
     "text": [
      "2743, 5, 15, 5, 20\n",
      "23182, 20, 97, 19, 91\n",
      "19424, 16, 73, 17, 79\n",
      "14694, 16, 73, 20, 79\n",
      "12075, 33, 161, 33, 173\n",
      "9881, 23, 121, 28, 126\n",
      "8092, 26, 120, 29, 131\n",
      "6646, 33, 193, 35, 179\n",
      "5557, 34, 164, 39, 178\n",
      "4774, 44, 187, 45, 181\n",
      "4244, 39, 177, 40, 192\n",
      "3997, 38, 195, 44, 193\n",
      "3759, 42, 211, 47, 229\n",
      "3386, 43, 209, 49, 216\n",
      "3171, 47, 230, 53, 229\n",
      "2851, 47, 223, 56, 242\n",
      "2344, 49, 229, 56, 273\n",
      "1991, 58, 250, 56, 245\n",
      "1585, 51, 258, 57, 274\n",
      "4312, 73, 351, 69, 328\n"
     ]
    }
   ],
   "source": [
    "es_c_utt_lens = []\n",
    "en_c_utt_lens = []\n",
    "for b in b_dict['buckets']:\n",
    "    print(len(b), end=', ')\n",
    "    print(max([len(m_dict[u]['es_w']) for u in b]), end=', ')\n",
    "    print(max([len(m_dict[u]['es_c']) for u in b]), end=', ')\n",
    "    print(max([len(m_dict[u]['en_w']) for u in b]), end=', ')\n",
    "    print(max([len(m_dict[u]['en_c']) for u in b]))\n",
    "    es_c_utt_lens.extend([len(m_dict[u]['es_c']) for u in b])\n",
    "    en_c_utt_lens.extend([len(m_dict[u]['en_c']) for u in b])\n",
    "        "
   ]
  },
  {
   "cell_type": "code",
   "execution_count": 26,
   "metadata": {},
   "outputs": [
    {
     "data": {
      "text/plain": [
       "(array([  7.07470000e+04,   2.71000000e+04,   1.56890000e+04,\n",
       "          1.31500000e+04,   8.90800000e+03,   2.51000000e+03,\n",
       "          5.01000000e+02,   8.30000000e+01,   1.50000000e+01,\n",
       "          5.00000000e+00]),\n",
       " array([   1.,   36.,   71.,  106.,  141.,  176.,  211.,  246.,  281.,\n",
       "         316.,  351.]),\n",
       " <a list of 10 Patch objects>)"
      ]
     },
     "execution_count": 26,
     "metadata": {},
     "output_type": "execute_result"
    },
    {
     "data": {
      "image/png": "[encoded data removed]",
      "text/plain": [
       "<matplotlib.figure.Figure at 0x7f3e19134908>"
      ]
     },
     "metadata": {},
     "output_type": "display_data"
    }
   ],
   "source": [
    "plt.hist(es_c_utt_lens, bins=10)"
   ]
  },
  {
   "cell_type": "code",
   "execution_count": 27,
   "metadata": {},
   "outputs": [
    {
     "data": {
      "text/plain": [
       "(array([  6.76360000e+04,   2.87350000e+04,   1.68420000e+04,\n",
       "          1.30300000e+04,   8.58600000e+03,   3.01400000e+03,\n",
       "          6.84000000e+02,   1.41000000e+02,   3.50000000e+01,\n",
       "          5.00000000e+00]),\n",
       " array([   0. ,   32.8,   65.6,   98.4,  131.2,  164. ,  196.8,  229.6,\n",
       "         262.4,  295.2,  328. ]),\n",
       " <a list of 10 Patch objects>)"
      ]
     },
     "execution_count": 27,
     "metadata": {},
     "output_type": "execute_result"
    },
    {
     "data": {
      "image/png": "[encoded data removed]",
      "text/plain": [
       "<matplotlib.figure.Figure at 0x7f3e13b69c18>"
      ]
     },
     "metadata": {},
     "output_type": "display_data"
    }
   ],
   "source": [
    "plt.hist(en_c_utt_lens, bins=10, color='g')"
   ]
  },
  {
   "cell_type": "code",
   "execution_count": 28,
   "metadata": {},
   "outputs": [
    {
     "data": {
      "text/plain": [
       "20.0"
      ]
     },
     "execution_count": 28,
     "metadata": {},
     "output_type": "execute_result"
    }
   ],
   "source": [
    "100 * 10 * 20 / 1000"
   ]
  },
  {
   "cell_type": "markdown",
   "metadata": {},
   "source": [
    "### Set up encoder"
   ]
  },
  {
   "cell_type": "code",
   "execution_count": null,
   "metadata": {
    "collapsed": true
   },
   "outputs": [],
   "source": [
    "h = model.forward_deep_cnn(batch_data['X'])"
   ]
  },
  {
   "cell_type": "code",
   "execution_count": null,
   "metadata": {
    "collapsed": true
   },
   "outputs": [],
   "source": [
    "len(model.cnns)"
   ]
  },
  {
   "cell_type": "code",
   "execution_count": null,
   "metadata": {
    "collapsed": true
   },
   "outputs": [],
   "source": [
    "h.shape"
   ]
  },
  {
   "cell_type": "code",
   "execution_count": null,
   "metadata": {
    "collapsed": true
   },
   "outputs": [],
   "source": [
    "model.forward_rnn(h)"
   ]
  },
  {
   "cell_type": "code",
   "execution_count": null,
   "metadata": {
    "collapsed": true
   },
   "outputs": [],
   "source": [
    "model.forward_enc(batch_data['X'])\n",
    "model.set_decoder_state()\n",
    "y = F.swapaxes(batch_data['y'], 0, 1)\n",
    "# with cmodel.forward_enc(batch_data['X'])\n",
    "# with chainer.using_config('train', True):\n",
    "#     myloss = model.decode_batch(y)"
   ]
  },
  {
   "cell_type": "code",
   "execution_count": null,
   "metadata": {
    "collapsed": true
   },
   "outputs": [],
   "source": [
    "model.enc_states.shape, 1280 /2/3//4"
   ]
  },
  {
   "cell_type": "markdown",
   "metadata": {},
   "source": [
    "### Start decoding"
   ]
  },
  {
   "cell_type": "code",
   "execution_count": null,
   "metadata": {
    "collapsed": true
   },
   "outputs": [],
   "source": [
    "model.embed_units*2, model.n_units"
   ]
  },
  {
   "cell_type": "code",
   "execution_count": null,
   "metadata": {
    "collapsed": true
   },
   "outputs": [],
   "source": [
    "batch_size = y.shape[1]\n",
    "ht = Variable(xp.zeros((batch_size, model.n_units), dtype=xp.float32))\n",
    "print(ht.shape)\n",
    "for curr_word, next_word in zip(y, y[1:]):\n",
    "    embed_id = model.embed_dec(curr_word)\n",
    "    print(embed_id.shape, curr_word.shape)\n",
    "    rnn_in = F.concat((embed_id, ht), axis=1)\n",
    "    print(rnn_in.shape)\n",
    "    h = model.feed_rnn(rnn_in, model.rnn_dec)\n",
    "    cv, _ = model.compute_context_vector(h)\n",
    "    cv_hdec = F.concat((cv, h), axis=1)\n",
    "    ht = model.context(cv_hdec)\n",
    "    # batch normalization before non-linearity\n",
    "    if USE_BN:\n",
    "        ht = model.context_bn(ht)\n",
    "    ht = F.tanh(ht)\n",
    "\n",
    "    predicted_out = model.out(ht)\n",
    "    print(predicted_out.shape)\n",
    "    print(ht.shape)\n",
    "    break"
   ]
  },
  {
   "cell_type": "code",
   "execution_count": null,
   "metadata": {
    "collapsed": true
   },
   "outputs": [],
   "source": [
    "ht = xp.zeros((y.shape[1],model.n_units), dtype=xp.float32)"
   ]
  },
  {
   "cell_type": "code",
   "execution_count": null,
   "metadata": {
    "collapsed": true
   },
   "outputs": [],
   "source": [
    "embed_id.shape"
   ]
  },
  {
   "cell_type": "code",
   "execution_count": null,
   "metadata": {
    "collapsed": true
   },
   "outputs": [],
   "source": [
    "F.concat((embed_id, ht), axis=1).shape"
   ]
  },
  {
   "cell_type": "code",
   "execution_count": null,
   "metadata": {
    "collapsed": true
   },
   "outputs": [],
   "source": [
    "model[model.rnn_enc[-1]].h.shape"
   ]
  },
  {
   "cell_type": "code",
   "execution_count": null,
   "metadata": {
    "collapsed": true
   },
   "outputs": [],
   "source": [
    "model.set_decoder_state(h)"
   ]
  },
  {
   "cell_type": "code",
   "execution_count": null,
   "metadata": {
    "collapsed": true
   },
   "outputs": [],
   "source": [
    "model.enc_states.shape, h.shape"
   ]
  },
  {
   "cell_type": "markdown",
   "metadata": {},
   "source": [
    "### Understanding batch matmul and matmul"
   ]
  },
  {
   "cell_type": "code",
   "execution_count": null,
   "metadata": {
    "collapsed": true
   },
   "outputs": [],
   "source": [
    "weights = F.batch_matmul(model.enc_states, h)"
   ]
  },
  {
   "cell_type": "code",
   "execution_count": null,
   "metadata": {
    "collapsed": true
   },
   "outputs": [],
   "source": [
    "weights.shape, h.shape"
   ]
  },
  {
   "cell_type": "code",
   "execution_count": null,
   "metadata": {
    "collapsed": true
   },
   "outputs": [],
   "source": [
    "weights[0,:5]"
   ]
  },
  {
   "cell_type": "code",
   "execution_count": null,
   "metadata": {
    "collapsed": true
   },
   "outputs": [],
   "source": [
    "model.enc_states[0].shape, h[0].shape"
   ]
  },
  {
   "cell_type": "code",
   "execution_count": null,
   "metadata": {
    "collapsed": true
   },
   "outputs": [],
   "source": [
    "F.matmul(model.enc_states[0], h[0])[:5]"
   ]
  },
  {
   "cell_type": "markdown",
   "metadata": {},
   "source": [
    "### Attention!"
   ]
  },
  {
   "cell_type": "code",
   "execution_count": null,
   "metadata": {
    "collapsed": true
   },
   "outputs": [],
   "source": [
    "ht = model.attn_Wa(h)"
   ]
  },
  {
   "cell_type": "code",
   "execution_count": null,
   "metadata": {
    "collapsed": true
   },
   "outputs": [],
   "source": [
    "ht.shape"
   ]
  },
  {
   "cell_type": "code",
   "execution_count": null,
   "metadata": {
    "collapsed": true
   },
   "outputs": [],
   "source": [
    "weights = F.batch_matmul(model.enc_states, ht)"
   ]
  },
  {
   "cell_type": "code",
   "execution_count": null,
   "metadata": {
    "collapsed": true
   },
   "outputs": [],
   "source": [
    "weights.shape"
   ]
  },
  {
   "cell_type": "markdown",
   "metadata": {},
   "source": [
    "### Batch and Layer Normalization"
   ]
  },
  {
   "cell_type": "code",
   "execution_count": null,
   "metadata": {
    "collapsed": true
   },
   "outputs": [],
   "source": [
    "X = batch_data['X']\n",
    "y = batch_data['y']"
   ]
  },
  {
   "cell_type": "code",
   "execution_count": null,
   "metadata": {
    "collapsed": true
   },
   "outputs": [],
   "source": [
    "X.shape, y.shape, X[0,:2].shape"
   ]
  },
  {
   "cell_type": "code",
   "execution_count": null,
   "metadata": {
    "collapsed": true
   },
   "outputs": [],
   "source": [
    "l1 = L.Linear(69,10)\n",
    "l1.to_gpu()"
   ]
  },
  {
   "cell_type": "code",
   "execution_count": null,
   "metadata": {
    "collapsed": true
   },
   "outputs": [],
   "source": [
    "h1 = l1(X[0,:2])"
   ]
  },
  {
   "cell_type": "code",
   "execution_count": null,
   "metadata": {
    "collapsed": true
   },
   "outputs": [],
   "source": [
    "h1.shape"
   ]
  },
  {
   "cell_type": "code",
   "execution_count": null,
   "metadata": {
    "collapsed": true
   },
   "outputs": [],
   "source": [
    "h1"
   ]
  },
  {
   "cell_type": "code",
   "execution_count": null,
   "metadata": {
    "collapsed": true
   },
   "outputs": [],
   "source": [
    "bn1 = L.BatchNormalization(10)\n",
    "bn1.to_gpu()"
   ]
  },
  {
   "cell_type": "code",
   "execution_count": null,
   "metadata": {
    "collapsed": true
   },
   "outputs": [],
   "source": [
    "ln1 = L.LayerNormalization(10)\n",
    "ln1.to_gpu()"
   ]
  },
  {
   "cell_type": "markdown",
   "metadata": {},
   "source": [
    "### Checking BN, LN on network"
   ]
  },
  {
   "cell_type": "code",
   "execution_count": null,
   "metadata": {
    "collapsed": true
   },
   "outputs": [],
   "source": [
    "h.shape"
   ]
  },
  {
   "cell_type": "code",
   "execution_count": null,
   "metadata": {
    "collapsed": true
   },
   "outputs": [],
   "source": [
    "# Layer normalization\n",
    "xp.mean(h.data,axis=1), xp.var(h.data,axis=1)"
   ]
  },
  {
   "cell_type": "code",
   "execution_count": null,
   "metadata": {
    "collapsed": true
   },
   "outputs": [],
   "source": [
    "xp.mean(model.L1_dec_ln(h).data,axis=1).shape"
   ]
  },
  {
   "cell_type": "code",
   "execution_count": null,
   "metadata": {
    "collapsed": true
   },
   "outputs": [],
   "source": [
    "xp.mean(h.data,axis=0).shape"
   ]
  },
  {
   "cell_type": "code",
   "execution_count": null,
   "metadata": {
    "collapsed": true
   },
   "outputs": [],
   "source": [
    "X = batch_data['X']\n",
    "h = F.swapaxes(X,1,2)\n",
    "\n",
    "h = F.relu(model[model.cnns[0]](h))\n",
    "h = F.max_pooling_nd(h, ksize=cnn_max_pool[0],\n",
    "                                 stride=cnn_max_pool[0],\n",
    "                                 pad=max_pool_pad)\n",
    "# h = model.forward_deep_cnn(h)\n",
    "# print(h.shape)\n",
    "# h = F.rollaxis(h, 2)\n",
    "h = F.swapaxes(h,1,2)\n",
    "print(h.shape)"
   ]
  },
  {
   "cell_type": "code",
   "execution_count": null,
   "metadata": {
    "collapsed": true
   },
   "outputs": [],
   "source": [
    "huhu = L.BatchNormalization(256)\n",
    "huhu.to_gpu()"
   ]
  },
  {
   "cell_type": "code",
   "execution_count": null,
   "metadata": {
    "collapsed": true
   },
   "outputs": [],
   "source": [
    "h[:,0,:].shape"
   ]
  },
  {
   "cell_type": "code",
   "execution_count": null,
   "metadata": {
    "collapsed": true
   },
   "outputs": [],
   "source": [
    "huhu(h[:,0,:]).shape"
   ]
  },
  {
   "cell_type": "code",
   "execution_count": null,
   "metadata": {
    "collapsed": true
   },
   "outputs": [],
   "source": [
    "model.CNN_0_bn(h)"
   ]
  },
  {
   "cell_type": "code",
   "execution_count": null,
   "metadata": {
    "collapsed": true
   },
   "outputs": [],
   "source": [
    "h.shape, model.CNN_2_bn.params"
   ]
  },
  {
   "cell_type": "code",
   "execution_count": null,
   "metadata": {
    "collapsed": true
   },
   "outputs": [],
   "source": [
    "xp.mean(h.data, axis=(0,1)), xp.var(h.data, axis=(0,1))"
   ]
  },
  {
   "cell_type": "code",
   "execution_count": null,
   "metadata": {
    "collapsed": true
   },
   "outputs": [],
   "source": [
    "# xp.mean(model.CNN_2_bn(h).data[0], axis=1)"
   ]
  },
  {
   "cell_type": "code",
   "execution_count": null,
   "metadata": {
    "collapsed": true
   },
   "outputs": [],
   "source": [
    "xp.mean(h[0].data,axis=0)"
   ]
  },
  {
   "cell_type": "markdown",
   "metadata": {},
   "source": [
    "### mean and var across all inputs in the batch and the same dimension should be 0, and ~1 respectively\n",
    "\n",
    "The shape should be the number of hidden units"
   ]
  },
  {
   "cell_type": "code",
   "execution_count": null,
   "metadata": {
    "collapsed": true
   },
   "outputs": [],
   "source": [
    "h2_bn = bn1(h1)"
   ]
  },
  {
   "cell_type": "code",
   "execution_count": null,
   "metadata": {
    "collapsed": true
   },
   "outputs": [],
   "source": [
    "h2_bn"
   ]
  },
  {
   "cell_type": "code",
   "execution_count": null,
   "metadata": {
    "collapsed": true
   },
   "outputs": [],
   "source": [
    "xp.mean(h1.data,axis=0), xp.var(h1.data,axis=0)"
   ]
  },
  {
   "cell_type": "code",
   "execution_count": null,
   "metadata": {
    "collapsed": true
   },
   "outputs": [],
   "source": [
    "xp.mean(h2_bn.data,axis=0), xp.var(h2_bn.data,axis=0)"
   ]
  },
  {
   "cell_type": "code",
   "execution_count": null,
   "metadata": {
    "collapsed": true
   },
   "outputs": [],
   "source": [
    "h2_ln = ln1(h1)"
   ]
  },
  {
   "cell_type": "code",
   "execution_count": null,
   "metadata": {
    "collapsed": true
   },
   "outputs": [],
   "source": [
    "h2_ln"
   ]
  },
  {
   "cell_type": "markdown",
   "metadata": {},
   "source": [
    "### mean and var across all layer activations within a batch should be 0, and ~1 respectively\n",
    "\n",
    "The shape should be the batch size"
   ]
  },
  {
   "cell_type": "code",
   "execution_count": null,
   "metadata": {
    "collapsed": true
   },
   "outputs": [],
   "source": [
    "xp.mean(h2_ln.data,axis=1), xp.var(h2_ln.data,axis=1)"
   ]
  },
  {
   "cell_type": "markdown",
   "metadata": {},
   "source": [
    "### CNN across frequencies"
   ]
  },
  {
   "cell_type": "code",
   "execution_count": null,
   "metadata": {
    "collapsed": true
   },
   "outputs": [],
   "source": [
    "a = xp.random.randn(39)"
   ]
  },
  {
   "cell_type": "code",
   "execution_count": null,
   "metadata": {
    "collapsed": true
   },
   "outputs": [],
   "source": [
    "a"
   ]
  },
  {
   "cell_type": "code",
   "execution_count": null,
   "metadata": {
    "collapsed": true
   },
   "outputs": [],
   "source": [
    "b = F.expand_dims(a, axis=1)"
   ]
  },
  {
   "cell_type": "code",
   "execution_count": null,
   "metadata": {
    "collapsed": true
   },
   "outputs": [],
   "source": [
    "c = F.reshape(a, (-1,13))"
   ]
  },
  {
   "cell_type": "code",
   "execution_count": null,
   "metadata": {
    "collapsed": true
   },
   "outputs": [],
   "source": [
    "c.shape"
   ]
  },
  {
   "cell_type": "code",
   "execution_count": null,
   "metadata": {
    "collapsed": true
   },
   "outputs": [],
   "source": [
    "c.data[1,:5]"
   ]
  },
  {
   "cell_type": "code",
   "execution_count": null,
   "metadata": {
    "collapsed": true
   },
   "outputs": [],
   "source": [
    "a = xp.load(\"mfcc_out/fisher_dev/20051009_182032_217_fsp-A-100.npy\")"
   ]
  },
  {
   "cell_type": "code",
   "execution_count": null,
   "metadata": {
    "collapsed": true
   },
   "outputs": [],
   "source": [
    "a.shape"
   ]
  },
  {
   "cell_type": "code",
   "execution_count": null,
   "metadata": {
    "collapsed": true
   },
   "outputs": [],
   "source": [
    "b = F.reshape(a, (1,len(a),-1,13))"
   ]
  },
  {
   "cell_type": "code",
   "execution_count": null,
   "metadata": {
    "collapsed": true
   },
   "outputs": [],
   "source": [
    "b.shape"
   ]
  },
  {
   "cell_type": "code",
   "execution_count": null,
   "metadata": {
    "collapsed": true
   },
   "outputs": [],
   "source": [
    "b = F.swapaxes(b,1,2)"
   ]
  },
  {
   "cell_type": "code",
   "execution_count": null,
   "metadata": {
    "collapsed": true
   },
   "outputs": [],
   "source": [
    "b.shape"
   ]
  },
  {
   "cell_type": "code",
   "execution_count": null,
   "metadata": {
    "collapsed": true
   },
   "outputs": [],
   "source": [
    "a[0,:20]"
   ]
  },
  {
   "cell_type": "code",
   "execution_count": null,
   "metadata": {
    "collapsed": true
   },
   "outputs": [],
   "source": [
    "b[0,0,:2,:5]"
   ]
  },
  {
   "cell_type": "code",
   "execution_count": null,
   "metadata": {
    "collapsed": true
   },
   "outputs": [],
   "source": [
    "c2d_1 = L.Convolution2D(in_channels=None, \n",
    "                      out_channels=32, \n",
    "                      ksize=(3,3), \n",
    "                      stride=(2,2),pad=3//2)\n",
    "\n",
    "c2d_bn_1 = L.BatchNormalization(32)\n",
    "\n",
    "c2d_2 = L.Convolution2D(in_channels=None, \n",
    "                      out_channels=32, \n",
    "                      ksize=(3,3), \n",
    "                      stride=(2,2),pad=3//2)\n",
    "\n",
    "c2d_bn_2 = L.BatchNormalization(32)\n",
    "\n",
    "c2d_1.to_gpu()\n",
    "c2d_2.to_gpu()\n",
    "c2d_bn_1.to_gpu()\n",
    "c2d_bn_2.to_gpu()"
   ]
  },
  {
   "cell_type": "code",
   "execution_count": null,
   "metadata": {
    "collapsed": true
   },
   "outputs": [],
   "source": [
    "X = batch_data['X']\n",
    "y = batch_data['y']\n",
    "X.shape, y.shape"
   ]
  },
  {
   "cell_type": "code",
   "execution_count": null,
   "metadata": {
    "collapsed": true
   },
   "outputs": [],
   "source": [
    "h = F.reshape(X, (X.shape[:2] + tuple([-1,SPEECH_DIM // 3])))\n",
    "h.shape"
   ]
  },
  {
   "cell_type": "code",
   "execution_count": null,
   "metadata": {
    "collapsed": true
   },
   "outputs": [],
   "source": [
    "h = F.swapaxes(h,1,2)\n",
    "h.shape"
   ]
  },
  {
   "cell_type": "code",
   "execution_count": null,
   "metadata": {
    "collapsed": true
   },
   "outputs": [],
   "source": [
    "c = c2d_1(h)"
   ]
  },
  {
   "cell_type": "code",
   "execution_count": null,
   "metadata": {
    "collapsed": true
   },
   "outputs": [],
   "source": [
    "c2d_1.W.shape"
   ]
  },
  {
   "cell_type": "code",
   "execution_count": null,
   "metadata": {
    "collapsed": true
   },
   "outputs": [],
   "source": [
    "c.shape"
   ]
  },
  {
   "cell_type": "code",
   "execution_count": null,
   "metadata": {
    "collapsed": true
   },
   "outputs": [],
   "source": [
    "c_bn = c2d_bn_1(c)"
   ]
  },
  {
   "cell_type": "code",
   "execution_count": null,
   "metadata": {
    "collapsed": true
   },
   "outputs": [],
   "source": [
    "c_bn.shape"
   ]
  },
  {
   "cell_type": "code",
   "execution_count": null,
   "metadata": {
    "collapsed": true
   },
   "outputs": [],
   "source": [
    "d = c2d_2(c)"
   ]
  },
  {
   "cell_type": "code",
   "execution_count": null,
   "metadata": {
    "collapsed": true
   },
   "outputs": [],
   "source": [
    "c2d_2.W.shape"
   ]
  },
  {
   "cell_type": "code",
   "execution_count": null,
   "metadata": {
    "collapsed": true
   },
   "outputs": [],
   "source": [
    "d.shape"
   ]
  },
  {
   "cell_type": "code",
   "execution_count": null,
   "metadata": {
    "collapsed": true
   },
   "outputs": [],
   "source": [
    "d_bn = c2d_bn_1(d)"
   ]
  },
  {
   "cell_type": "code",
   "execution_count": null,
   "metadata": {
    "collapsed": true
   },
   "outputs": [],
   "source": [
    "d_bn.shape"
   ]
  },
  {
   "cell_type": "code",
   "execution_count": null,
   "metadata": {
    "collapsed": true
   },
   "outputs": [],
   "source": [
    "e = F.swapaxes(d, 1,2)"
   ]
  },
  {
   "cell_type": "code",
   "execution_count": null,
   "metadata": {
    "collapsed": true
   },
   "outputs": [],
   "source": [
    "e.shape"
   ]
  },
  {
   "cell_type": "code",
   "execution_count": null,
   "metadata": {
    "collapsed": true
   },
   "outputs": [],
   "source": [
    "e.shape[:2] + tuple([-1])"
   ]
  },
  {
   "cell_type": "code",
   "execution_count": null,
   "metadata": {
    "collapsed": true
   },
   "outputs": [],
   "source": [
    "e = F.reshape(e, e.shape[:2] + tuple([-1]))"
   ]
  },
  {
   "cell_type": "code",
   "execution_count": null,
   "metadata": {
    "collapsed": true
   },
   "outputs": [],
   "source": [
    "e.shape"
   ]
  },
  {
   "cell_type": "code",
   "execution_count": null,
   "metadata": {
    "collapsed": true
   },
   "outputs": [],
   "source": [
    "cnd_1 = L.ConvolutionND(ndim=3,\n",
    "                        in_channels=1, \n",
    "                        out_channels=32, \n",
    "                        ksize=(3,3,3), \n",
    "                        stride=2,pad=3//2)\n",
    "\n",
    "cnd_2 = L.ConvolutionND(ndim=3,\n",
    "                        in_channels=1, \n",
    "                        out_channels=32, \n",
    "                        ksize=(3,3,3), \n",
    "                        stride=2,pad=3//2)\n",
    "\n",
    "cnd_1.to_gpu()\n",
    "cnd_2.to_gpu()"
   ]
  },
  {
   "cell_type": "markdown",
   "metadata": {},
   "source": [
    "### NStepBiGRU"
   ]
  },
  {
   "cell_type": "code",
   "execution_count": null,
   "metadata": {
    "collapsed": true
   },
   "outputs": [],
   "source": [
    "ng_enc = L.NStepGRU(2,SPEECH_DIM, hidden_units, DROPOUT_RATIO)\n",
    "ng_dec = L.NStepGRU(2,hidden_units, hidden_units, DROPOUT_RATIO)\n",
    "ng_enc.to_gpu()\n",
    "ng_dec.to_gpu()"
   ]
  },
  {
   "cell_type": "code",
   "execution_count": null,
   "metadata": {
    "collapsed": true
   },
   "outputs": [],
   "source": [
    "X, y = batch_data['X'][:,:20,:], batch_data['y']"
   ]
  },
  {
   "cell_type": "code",
   "execution_count": null,
   "metadata": {
    "collapsed": true
   },
   "outputs": [],
   "source": [
    "X.shape, y.shape"
   ]
  },
  {
   "cell_type": "code",
   "execution_count": null,
   "metadata": {
    "collapsed": true
   },
   "outputs": [],
   "source": [
    "X_list = list(X)"
   ]
  },
  {
   "cell_type": "code",
   "execution_count": null,
   "metadata": {
    "collapsed": true
   },
   "outputs": [],
   "source": [
    "h,o = ng_enc(hx=None, xs=X_list)"
   ]
  },
  {
   "cell_type": "code",
   "execution_count": null,
   "metadata": {
    "collapsed": true
   },
   "outputs": [],
   "source": [
    "X_list[0].shape"
   ]
  },
  {
   "cell_type": "code",
   "execution_count": null,
   "metadata": {
    "collapsed": true
   },
   "outputs": [],
   "source": [
    "h.shape, len(o)"
   ]
  },
  {
   "cell_type": "code",
   "execution_count": null,
   "metadata": {
    "collapsed": true
   },
   "outputs": [],
   "source": [
    "h[:1].shape,h[-1,:,:].shape"
   ]
  },
  {
   "cell_type": "code",
   "execution_count": null,
   "metadata": {
    "collapsed": true
   },
   "outputs": [],
   "source": [
    "o[1]"
   ]
  },
  {
   "cell_type": "code",
   "execution_count": null,
   "metadata": {
    "collapsed": true
   },
   "outputs": [],
   "source": [
    "Variable(o)"
   ]
  },
  {
   "cell_type": "code",
   "execution_count": null,
   "metadata": {
    "collapsed": true
   },
   "outputs": [],
   "source": [
    "o = Variable(np.asarray(o))\n",
    "o.shape"
   ]
  },
  {
   "cell_type": "code",
   "execution_count": null,
   "metadata": {
    "collapsed": true
   },
   "outputs": [],
   "source": [
    "hd,od = ng_dec(hx=h,xs=o)"
   ]
  },
  {
   "cell_type": "code",
   "execution_count": null,
   "metadata": {
    "collapsed": true
   },
   "outputs": [],
   "source": [
    "hd.shape"
   ]
  },
  {
   "cell_type": "code",
   "execution_count": null,
   "metadata": {
    "collapsed": true
   },
   "outputs": [],
   "source": []
  },
  {
   "cell_type": "markdown",
   "metadata": {},
   "source": [
    "### Make predictions"
   ]
  },
  {
   "cell_type": "code",
   "execution_count": null,
   "metadata": {
    "collapsed": true
   },
   "outputs": [],
   "source": [
    "pred_sents, loss = feed_model(map_dict[key],\n",
    "                              b_dict=bucket_dict[key],\n",
    "                              vocab_dict=vocab_dict,\n",
    "                              batch_size=64,\n",
    "                              x_key=enc_key,\n",
    "                              y_key=dec_key,\n",
    "                              train=True,\n",
    "                              cat_speech_path=os.path.join(out_path, key))"
   ]
  },
  {
   "cell_type": "code",
   "execution_count": null,
   "metadata": {
    "collapsed": true
   },
   "outputs": [],
   "source": [
    "[(w.decode(),f) for w,f in vocab_dict['es_c']['freq'].items()]"
   ]
  },
  {
   "cell_type": "code",
   "execution_count": null,
   "metadata": {
    "collapsed": true
   },
   "outputs": [],
   "source": [
    "\"\".join([w.decode() for w in map_dict['fisher_train']['20050908_182943_22_fsp-B-7']['es_c']])"
   ]
  },
  {
   "cell_type": "code",
   "execution_count": null,
   "metadata": {
    "collapsed": true
   },
   "outputs": [],
   "source": [
    "xp = cuda.cupy if gpuid >= 0 else np"
   ]
  },
  {
   "cell_type": "code",
   "execution_count": null,
   "metadata": {
    "collapsed": true
   },
   "outputs": [],
   "source": [
    "print(len(vocab_dict[enc_key]['w2i']))\n",
    "print(len(vocab_dict[dec_key]['w2i']))"
   ]
  },
  {
   "cell_type": "code",
   "execution_count": null,
   "metadata": {
    "collapsed": true
   },
   "outputs": [],
   "source": [
    "if gpuid >= 0:\n",
    "    # print(\"here\")\n",
    "    cuda.get_device_from_id(gpuid).use()"
   ]
  },
  {
   "cell_type": "code",
   "execution_count": null,
   "metadata": {
    "collapsed": true
   },
   "outputs": [],
   "source": [
    "model = SpeechEncoderDecoder()\n",
    "\n",
    "if gpuid >= 0:\n",
    "    cuda.get_device(gpuid).use()\n",
    "    model.to_gpu()"
   ]
  },
  {
   "cell_type": "code",
   "execution_count": null,
   "metadata": {
    "collapsed": true
   },
   "outputs": [],
   "source": [
    "if OPTIMIZER_ADAM1_SGD_0:\n",
    "    print(\"using ADAM optimizer\")\n",
    "    # optimizer = optimizers.Adam(alpha=0.001,\n",
    "    #                             beta1=0.9,\n",
    "    #                             beta2=0.999,\n",
    "    #                             eps=1e-08)\n",
    "    # optimizer = optimizers.AdaGrad()\n",
    "    optimizer = optimizers.Adam()\n",
    "    optimizer.setup(model)\n",
    "else:\n",
    "    print(\"using SGD optimizer\")\n",
    "    optimizer = optimizers.SGD(lr=0.01)\n",
    "    optimizer.setup(model)\n",
    "\n",
    "if WEIGHT_DECAY:\n",
    "    optimizer.add_hook(chainer.optimizer.WeightDecay(WD_RATIO))\n",
    "\n",
    "# gradient clipping\n",
    "optimizer.add_hook(chainer.optimizer.GradientClipping(threshold=2))"
   ]
  },
  {
   "cell_type": "code",
   "execution_count": null,
   "metadata": {
    "collapsed": true
   },
   "outputs": [],
   "source": [
    "print(type(map_dict['fisher_train']['20050908_182943_22_fsp-B-7']['en_w']))\n",
    "print(type(map_dict['fisher_dev']['20051009_182032_217_fsp-B-1']['en_w'][0]))"
   ]
  },
  {
   "cell_type": "code",
   "execution_count": null,
   "metadata": {
    "collapsed": true
   },
   "outputs": [],
   "source": [
    "map_dict['fisher_dev']['20051009_182032_217_fsp-B-1']['en_w'][0]"
   ]
  },
  {
   "cell_type": "code",
   "execution_count": null,
   "metadata": {
    "collapsed": true
   },
   "outputs": [],
   "source": [
    "feed_model(map_dict['fisher_train'], b_dict=bucket_dict['fisher_train'], \n",
    "           vocab_dict=vocab_dict, batch_size=BATCH_SIZE, \n",
    "           x_key=enc_key, y_key=dec_key, cat_speech_path=out_path)"
   ]
  },
  {
   "cell_type": "code",
   "execution_count": null,
   "metadata": {
    "collapsed": true
   },
   "outputs": [],
   "source": [
    "vocab_dict = pickle.load(open(\"out/train_vocab.dict\", \"rb\"))\n",
    "vocab_dict['es_w']['w2i'][b'solas']"
   ]
  },
  {
   "cell_type": "code",
   "execution_count": null,
   "metadata": {
    "collapsed": true
   },
   "outputs": [],
   "source": [
    "map_dict['fisher_train']['20050908_182943_22_fsp-B-7']['es_w']"
   ]
  },
  {
   "cell_type": "code",
   "execution_count": null,
   "metadata": {
    "collapsed": true
   },
   "outputs": [],
   "source": [
    "len(pred_sents), pred_sents[0]"
   ]
  },
  {
   "cell_type": "code",
   "execution_count": null,
   "metadata": {
    "collapsed": true
   },
   "outputs": [],
   "source": [
    "for b in b_shuffled:\n",
    "    bucket = bucket_dict['fisher_train']['buckets'][b]\n",
    "    b_len = len(bucket)\n",
    "    print(b_len)\n",
    "    for i in range(0,b_len, 32):\n",
    "        "
   ]
  },
  {
   "cell_type": "markdown",
   "metadata": {},
   "source": [
    "## Noise simulation test"
   ]
  },
  {
   "cell_type": "code",
   "execution_count": null,
   "metadata": {
    "collapsed": true
   },
   "outputs": [],
   "source": [
    "list(map_dict['fisher_train'].keys())[:5]"
   ]
  },
  {
   "cell_type": "code",
   "execution_count": null,
   "metadata": {
    "collapsed": true
   },
   "outputs": [],
   "source": [
    "test_batch = buckets_dict['train'][0]['X_fwd'][:10]"
   ]
  },
  {
   "cell_type": "code",
   "execution_count": null,
   "metadata": {
    "collapsed": true
   },
   "outputs": [],
   "source": [
    "test_batch.shape"
   ]
  },
  {
   "cell_type": "code",
   "execution_count": null,
   "metadata": {
    "collapsed": true
   },
   "outputs": [],
   "source": [
    "noise_var = np.full(test_batch.shape, 0.01, dtype=np.float32)"
   ]
  },
  {
   "cell_type": "code",
   "execution_count": null,
   "metadata": {
    "collapsed": true
   },
   "outputs": [],
   "source": [
    "noise = Variable(np.random.normal(0.0, .01, size=test_batch.shape).astype(xp.float32))\n",
    "noise.to_gpu()"
   ]
  },
  {
   "cell_type": "code",
   "execution_count": null,
   "metadata": {
    "collapsed": true
   },
   "outputs": [],
   "source": [
    "test_batch_noise = test_batch + noise"
   ]
  },
  {
   "cell_type": "code",
   "execution_count": null,
   "metadata": {
    "collapsed": true
   },
   "outputs": [],
   "source": [
    "test_batch[0,0,:5], test_batch_noise[0,0,:5]"
   ]
  },
  {
   "cell_type": "markdown",
   "metadata": {},
   "source": [
    "## Checking for consistency in train/dev sets"
   ]
  },
  {
   "cell_type": "code",
   "execution_count": null,
   "metadata": {
    "collapsed": true
   },
   "outputs": [],
   "source": [
    "print(set([f.split(\".\")[0] for f in text_data['train'].keys()]), sep=\", \")"
   ]
  },
  {
   "cell_type": "code",
   "execution_count": null,
   "metadata": {
    "collapsed": true
   },
   "outputs": [],
   "source": [
    "print(set([f.split(\".\")[0] for f in text_data['dev'].keys()]), sep=\", \")"
   ]
  },
  {
   "cell_type": "code",
   "execution_count": null,
   "metadata": {
    "collapsed": true
   },
   "outputs": [],
   "source": [
    "train_fids = []\n",
    "for b in buckets_dict[\"train\"]:\n",
    "    train_fids.extend(b['f'])\n",
    "dev_fids = []\n",
    "for b in buckets_dict[\"dev\"]:\n",
    "    dev_fids.extend(b['f'])\n",
    "print(len(train_fids), len(dev_fids))\n",
    "print(set([f.split(\".\")[0] for f in train_fids]), sep=\", \")\n",
    "print(set([f.split(\".\")[0] for f in dev_fids]), sep=\", \")"
   ]
  },
  {
   "cell_type": "code",
   "execution_count": null,
   "metadata": {
    "collapsed": true
   },
   "outputs": [],
   "source": [
    "text_data['train'].keys()"
   ]
  },
  {
   "cell_type": "markdown",
   "metadata": {},
   "source": [
    "## Predictions"
   ]
  },
  {
   "cell_type": "code",
   "execution_count": null,
   "metadata": {
    "collapsed": true
   },
   "outputs": [],
   "source": [
    "pr_ids, en_ids = predict(4,2, cat=\"dev\", display=True)"
   ]
  },
  {
   "cell_type": "code",
   "execution_count": null,
   "metadata": {
    "collapsed": true
   },
   "outputs": [],
   "source": [
    "model_fil"
   ]
  },
  {
   "cell_type": "code",
   "execution_count": null,
   "metadata": {
    "collapsed": true
   },
   "outputs": [],
   "source": [
    "model_fil_old = 'small/seq2seq_sen-4000_hwy4-dec2_emb-512-h-512__word_gru_sspkr_drpt-0_noise-0.20_l2-0.001_cnn-num100-range9-199-20-pool900_10.model'"
   ]
  },
  {
   "cell_type": "code",
   "execution_count": null,
   "metadata": {
    "collapsed": true
   },
   "outputs": [],
   "source": [
    "!ls $model_fil_old"
   ]
  },
  {
   "cell_type": "code",
   "execution_count": null,
   "metadata": {
    "collapsed": true
   },
   "outputs": [],
   "source": [
    "serializers.load_npz(model_fil_old, model)"
   ]
  },
  {
   "cell_type": "code",
   "execution_count": null,
   "metadata": {
    "collapsed": true,
    "scrolled": true
   },
   "outputs": [],
   "source": [
    "pplx_new = compute_pplx(cat=\"dev\", num_sent=100)"
   ]
  },
  {
   "cell_type": "code",
   "execution_count": null,
   "metadata": {
    "collapsed": true
   },
   "outputs": [],
   "source": [
    "pr_ids, en_ids = predict(3,2, cat=\"train\", display=True)"
   ]
  },
  {
   "cell_type": "code",
   "execution_count": null,
   "metadata": {
    "collapsed": true
   },
   "outputs": [],
   "source": [
    "pr_ids, en_ids = predict(3,2, cat=\"dev\", display=True)"
   ]
  },
  {
   "cell_type": "code",
   "execution_count": null,
   "metadata": {
    "collapsed": true
   },
   "outputs": [],
   "source": []
  }
 ],
 "metadata": {
  "kernelspec": {
   "display_name": "Python 3",
   "language": "python",
   "name": "python3"
  },
  "language_info": {
   "codemirror_mode": {
    "name": "ipython",
    "version": 3
   },
   "file_extension": ".py",
   "mimetype": "text/x-python",
   "name": "python",
   "nbconvert_exporter": "python",
   "pygments_lexer": "ipython3",
   "version": "3.6.1"
  }
 },
 "nbformat": 4,
 "nbformat_minor": 2
}
